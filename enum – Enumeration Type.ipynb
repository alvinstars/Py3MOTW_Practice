{
 "cells": [
  {
   "cell_type": "markdown",
   "metadata": {},
   "source": [
    "# enum – Enumeration Type\n",
    "\n",
    "The enum module defines an enumeration type with iteration and comparison capabilities. It can be used to create well-defined symbols for values, instead of using literal integers or strings."
   ]
  },
  {
   "cell_type": "markdown",
   "metadata": {},
   "source": [
    "## Creating Enumerations\n",
    "\n",
    "A new enumeration is defined using the class syntax by subclassing Enum and adding class attributes describing the values."
   ]
  },
  {
   "cell_type": "code",
   "execution_count": 1,
   "metadata": {
    "collapsed": false
   },
   "outputs": [
    {
     "name": "stdout",
     "output_type": "stream",
     "text": [
      "\n",
      "Member name: wont_fix\n",
      "Member value: 4\n"
     ]
    }
   ],
   "source": [
    "#enum_create.py\n",
    "import enum\n",
    "\n",
    "\n",
    "class BugStatus(enum.Enum):\n",
    "\n",
    "    new = 7\n",
    "    incomplete = 6\n",
    "    invalid = 5\n",
    "    wont_fix = 4\n",
    "    in_progress = 3\n",
    "    fix_committed = 2\n",
    "    fix_released = 1\n",
    "\n",
    "\n",
    "print('\\nMember name: {}'.format(BugStatus.wont_fix.name))\n",
    "print('Member value: {}'.format(BugStatus.wont_fix.value))"
   ]
  },
  {
   "cell_type": "raw",
   "metadata": {},
   "source": [
    "The members of the Enum are converted to instances as the class is parsed. Each instance has a name property corresponding to the member name and a value property corresponding to the value assigned to the name in the class definition."
   ]
  },
  {
   "cell_type": "markdown",
   "metadata": {},
   "source": [
    "## Iteration\n",
    "\n",
    "Iterating over the enum class produces the individual members of the enumeration."
   ]
  },
  {
   "cell_type": "code",
   "execution_count": 2,
   "metadata": {
    "collapsed": false
   },
   "outputs": [
    {
     "name": "stdout",
     "output_type": "stream",
     "text": [
      "new             = 7\n",
      "incomplete      = 6\n",
      "invalid         = 5\n",
      "wont_fix        = 4\n",
      "in_progress     = 3\n",
      "fix_committed   = 2\n",
      "fix_released    = 1\n"
     ]
    }
   ],
   "source": [
    "#enum_iterate.py\n",
    "import enum\n",
    "\n",
    "\n",
    "class BugStatus(enum.Enum):\n",
    "\n",
    "    new = 7\n",
    "    incomplete = 6\n",
    "    invalid = 5\n",
    "    wont_fix = 4\n",
    "    in_progress = 3\n",
    "    fix_committed = 2\n",
    "    fix_released = 1\n",
    "\n",
    "\n",
    "for status in BugStatus:\n",
    "    print('{:15} = {}'.format(status.name, status.value))"
   ]
  },
  {
   "cell_type": "raw",
   "metadata": {},
   "source": [
    "The members are produced in the order they are declared in the class definition. The names and values are not used to sort them in any way."
   ]
  },
  {
   "cell_type": "markdown",
   "metadata": {},
   "source": [
    "## Comparing Enums\n",
    "\n",
    "Because enumeration members are not ordered, they only support comparison by identity and equality."
   ]
  },
  {
   "cell_type": "code",
   "execution_count": 3,
   "metadata": {
    "collapsed": false
   },
   "outputs": [
    {
     "name": "stdout",
     "output_type": "stream",
     "text": [
      "Equality: False True\n",
      "Identity: False True\n",
      "Ordered by value:\n",
      "  Cannot sort: unorderable types: BugStatus() < BugStatus()\n"
     ]
    }
   ],
   "source": [
    "#enum_comparison.py\n",
    "import enum\n",
    "\n",
    "\n",
    "class BugStatus(enum.Enum):\n",
    "\n",
    "    new = 7\n",
    "    incomplete = 6\n",
    "    invalid = 5\n",
    "    wont_fix = 4\n",
    "    in_progress = 3\n",
    "    fix_committed = 2\n",
    "    fix_released = 1\n",
    "\n",
    "\n",
    "actual_state = BugStatus.wont_fix\n",
    "desired_state = BugStatus.fix_released\n",
    "\n",
    "print('Equality:',\n",
    "      actual_state == desired_state,\n",
    "      actual_state == BugStatus.wont_fix)\n",
    "print('Identity:',\n",
    "      actual_state is desired_state,\n",
    "      actual_state is BugStatus.wont_fix)\n",
    "print('Ordered by value:')\n",
    "try:\n",
    "    print('\\n'.join('  ' + s.name for s in sorted(BugStatus)))\n",
    "except TypeError as err:\n",
    "    print('  Cannot sort: {}'.format(err))\n"
   ]
  },
  {
   "cell_type": "code",
   "execution_count": 4,
   "metadata": {
    "collapsed": false
   },
   "outputs": [
    {
     "name": "stdout",
     "output_type": "stream",
     "text": [
      "Ordered by value:\n",
      "  fix_released\n",
      "  fix_committed\n",
      "  in_progress\n",
      "  wont_fix\n",
      "  invalid\n",
      "  incomplete\n",
      "  new\n"
     ]
    }
   ],
   "source": [
    "# Use the IntEnum class for enumerations where the members need to behave more like numbers, \n",
    "# for example to support comparisons.\n",
    "\n",
    "#enum_intenum.py\n",
    "import enum\n",
    "\n",
    "\n",
    "class BugStatus(enum.IntEnum):\n",
    "\n",
    "    new = 7\n",
    "    incomplete = 6\n",
    "    invalid = 5\n",
    "    wont_fix = 4\n",
    "    in_progress = 3\n",
    "    fix_committed = 2\n",
    "    fix_released = 1\n",
    "\n",
    "\n",
    "print('Ordered by value:')\n",
    "print('\\n'.join('  ' + s.name for s in sorted(BugStatus)))\n"
   ]
  },
  {
   "cell_type": "markdown",
   "metadata": {},
   "source": [
    "## Unique Enumeration Values\n",
    "\n",
    "Enum members with the same value are tracked as alias references to the same member object. Aliases do not cause repeated values to be present in the iterator for the Enum.\n",
    "\n"
   ]
  },
  {
   "cell_type": "code",
   "execution_count": 9,
   "metadata": {
    "collapsed": false
   },
   "outputs": [
    {
     "name": "stdout",
     "output_type": "stream",
     "text": [
      "new             = 7\n",
      "incomplete      = 6\n",
      "invalid         = 5\n",
      "wont_fix        = 4\n",
      "in_progress     = 3\n",
      "fix_committed   = 2\n",
      "fix_released    = 1\n",
      "\n",
      "Same: by_design is wont_fix:  True\n",
      "Same: by_design == wont_fix:  True\n",
      "Same: closed is fix_released:  True\n"
     ]
    }
   ],
   "source": [
    "# enum_aliases.py\n",
    "import enum\n",
    "\n",
    "\n",
    "class BugStatus(enum.Enum):\n",
    "\n",
    "    new = 7\n",
    "    incomplete = 6\n",
    "    invalid = 5\n",
    "    wont_fix = 4\n",
    "    in_progress = 3\n",
    "    fix_committed = 2\n",
    "    fix_released = 1\n",
    "\n",
    "    by_design = 4\n",
    "    closed = 1\n",
    "\n",
    "\n",
    "for status in BugStatus:\n",
    "    print('{:15} = {}'.format(status.name, status.value))\n",
    "\n",
    "print('\\nSame: by_design is wont_fix: ',\n",
    "      BugStatus.by_design is BugStatus.wont_fix)\n",
    "print('Same: by_design == wont_fix: ',\n",
    "      BugStatus.by_design == BugStatus.wont_fix)\n",
    "print('Same: closed is fix_released: ',\n",
    "      BugStatus.closed is BugStatus.fix_released)"
   ]
  },
  {
   "cell_type": "raw",
   "metadata": {},
   "source": [
    "Because by_design and closed are aliases for other members, they do not appear separately in the output when iterating over the Enum. The canonical name for a member is the first name attached to the value."
   ]
  },
  {
   "cell_type": "code",
   "execution_count": 12,
   "metadata": {
    "collapsed": false
   },
   "outputs": [
    {
     "ename": "ValueError",
     "evalue": "duplicate values found in <enum 'BugStatus'>: by_design -> wont_fix, closed -> fix_released",
     "output_type": "error",
     "traceback": [
      "\u001b[0;31m---------------------------------------------------------------------------\u001b[0m",
      "\u001b[0;31mValueError\u001b[0m                                Traceback (most recent call last)",
      "\u001b[0;32m<ipython-input-12-3bc1bd9ca8d4>\u001b[0m in \u001b[0;36m<module>\u001b[0;34m()\u001b[0m\n\u001b[1;32m      5\u001b[0m \u001b[0;34m\u001b[0m\u001b[0m\n\u001b[1;32m      6\u001b[0m \u001b[0;34m@\u001b[0m\u001b[0menum\u001b[0m\u001b[0;34m.\u001b[0m\u001b[0munique\u001b[0m\u001b[0;34m\u001b[0m\u001b[0m\n\u001b[0;32m----> 7\u001b[0;31m \u001b[0;32mclass\u001b[0m \u001b[0mBugStatus\u001b[0m\u001b[0;34m(\u001b[0m\u001b[0menum\u001b[0m\u001b[0;34m.\u001b[0m\u001b[0mEnum\u001b[0m\u001b[0;34m)\u001b[0m\u001b[0;34m:\u001b[0m\u001b[0;34m\u001b[0m\u001b[0m\n\u001b[0m\u001b[1;32m      8\u001b[0m \u001b[0;34m\u001b[0m\u001b[0m\n\u001b[1;32m      9\u001b[0m     \u001b[0mnew\u001b[0m \u001b[0;34m=\u001b[0m \u001b[0;36m7\u001b[0m\u001b[0;34m\u001b[0m\u001b[0m\n",
      "\u001b[0;32m/Users/binyang/anaconda/envs/py3.5/lib/python3.5/enum.py\u001b[0m in \u001b[0;36munique\u001b[0;34m(enumeration)\u001b[0m\n\u001b[1;32m    571\u001b[0m                 [\"%s -> %s\" % (alias, name) for (alias, name) in duplicates])\n\u001b[1;32m    572\u001b[0m         raise ValueError('duplicate values found in %r: %s' %\n\u001b[0;32m--> 573\u001b[0;31m                 (enumeration, alias_details))\n\u001b[0m\u001b[1;32m    574\u001b[0m     \u001b[0;32mreturn\u001b[0m \u001b[0menumeration\u001b[0m\u001b[0;34m\u001b[0m\u001b[0m\n",
      "\u001b[0;31mValueError\u001b[0m: duplicate values found in <enum 'BugStatus'>: by_design -> wont_fix, closed -> fix_released"
     ]
    }
   ],
   "source": [
    "# To require all members to have unique values, add the @unique decorator to the Enum.\n",
    "\n",
    "# enum_unique_enforce.py\n",
    "import enum\n",
    "\n",
    "@enum.unique\n",
    "class BugStatus(enum.Enum):\n",
    "\n",
    "    new = 7\n",
    "    incomplete = 6\n",
    "    invalid = 5\n",
    "    wont_fix = 4\n",
    "    in_progress = 3\n",
    "    fix_committed = 2\n",
    "    fix_released = 1\n",
    "\n",
    "    # This will trigger an error with unique applied.\n",
    "    ## WARNING: Members with repeated values trigger a ValueError exception when the Enum class is being interpreted.\n",
    "    by_design = 4\n",
    "    closed = 1"
   ]
  },
  {
   "cell_type": "markdown",
   "metadata": {},
   "source": [
    "## Creating Enumerations Programmatically\n",
    "\n",
    "There are cases when it is more convenient to create enumerations programmatically, rather than hard-coding them in a class definition. For those situations, Enum also supports passing the member names and values to the class constructor."
   ]
  },
  {
   "cell_type": "code",
   "execution_count": 13,
   "metadata": {
    "collapsed": false
   },
   "outputs": [
    {
     "name": "stdout",
     "output_type": "stream",
     "text": [
      "Member: BugStatus.new\n",
      "\n",
      "All members:\n",
      "fix_released    = 1\n",
      "fix_committed   = 2\n",
      "in_progress     = 3\n",
      "wont_fix        = 4\n",
      "invalid         = 5\n",
      "incomplete      = 6\n",
      "new             = 7\n"
     ]
    }
   ],
   "source": [
    "# enum_programmatic_create.py\n",
    "import enum\n",
    "\n",
    "\n",
    "BugStatus = enum.Enum(\n",
    "    value='BugStatus',\n",
    "    names=('fix_released fix_committed in_progress '\n",
    "           'wont_fix invalid incomplete new'),\n",
    ")\n",
    "\n",
    "print('Member: {}'.format(BugStatus.new))\n",
    "\n",
    "print('\\nAll members:')\n",
    "for status in BugStatus:\n",
    "    print('{:15} = {}'.format(status.name, status.value))"
   ]
  },
  {
   "cell_type": "raw",
   "metadata": {},
   "source": [
    "The value argument is the name of the enumeration, used to build the representation of members. The names argument lists the members of the enumeration. When a single string is passed, it is split on whitespace and commas and the resulting tokens are used as names for the members, which are automatically assigned values starting with 1."
   ]
  },
  {
   "cell_type": "raw",
   "metadata": {},
   "source": [
    "For more control over the values associated with members, the names string can be replaced with a sequence of two-part tuples or a dictionary mapping names to values."
   ]
  },
  {
   "cell_type": "code",
   "execution_count": 14,
   "metadata": {
    "collapsed": false
   },
   "outputs": [
    {
     "name": "stdout",
     "output_type": "stream",
     "text": [
      "All members:\n",
      "new             = 7\n",
      "incomplete      = 6\n",
      "invalid         = 5\n",
      "wont_fix        = 4\n",
      "in_progress     = 3\n",
      "fix_committed   = 2\n",
      "fix_released    = 1\n"
     ]
    }
   ],
   "source": [
    "# enum_programmatic_mapping.py\n",
    "import enum\n",
    "\n",
    "\n",
    "BugStatus = enum.Enum(\n",
    "    value='BugStatus',\n",
    "    names=[\n",
    "        ('new', 7),\n",
    "        ('incomplete', 6),\n",
    "        ('invalid', 5),\n",
    "        ('wont_fix', 4),\n",
    "        ('in_progress', 3),\n",
    "        ('fix_committed', 2),\n",
    "        ('fix_released', 1),\n",
    "    ],\n",
    ")\n",
    "\n",
    "print('All members:')\n",
    "for status in BugStatus:\n",
    "    print('{:15} = {}'.format(status.name, status.value))"
   ]
  },
  {
   "cell_type": "raw",
   "metadata": {},
   "source": [
    "In this example a list of two-part tuples is given instead of a single string containing only the member names. This makes it possible to reconstruct the BugStatus enumeration with the members in the same order as the version defined in enum_create.py."
   ]
  },
  {
   "cell_type": "markdown",
   "metadata": {},
   "source": [
    "## Non-integer Member Values\n",
    "\n",
    "Enum member values are not restricted to integers. Any type of object can be associated with a member. \n",
    "\n",
    "If the value is a tuple, the members are passed as individual arguments to __init__().\n",
    "\n"
   ]
  },
  {
   "cell_type": "code",
   "execution_count": 17,
   "metadata": {
    "collapsed": false
   },
   "outputs": [
    {
     "name": "stdout",
     "output_type": "stream",
     "text": [
      "Name: BugStatus.in_progress\n",
      "Value: (3, ['new', 'fix_committed'])\n",
      "Custom attribute: ['new', 'fix_committed']\n",
      "Using attribute: True\n"
     ]
    }
   ],
   "source": [
    "# In this example, each member value is a tuple containing the numerical id (such as might be stored in a database) \n",
    "# and a list of valid transitions away from the current state.\n",
    "\n",
    "# enum_tuple_values.py\n",
    "import enum\n",
    "\n",
    "\n",
    "class BugStatus(enum.Enum):\n",
    "\n",
    "    new = (7, ['incomplete',\n",
    "               'invalid',\n",
    "               'wont_fix',\n",
    "               'in_progress'])\n",
    "    incomplete = (6, ['new', 'wont_fix'])\n",
    "    invalid = (5, ['new'])\n",
    "    wont_fix = (4, ['new'])\n",
    "    in_progress = (3, ['new', 'fix_committed'])\n",
    "    fix_committed = (2, ['in_progress', 'fix_released'])\n",
    "    fix_released = (1, ['new'])\n",
    "\n",
    "    def __init__(self, num, transitions):\n",
    "        self.num = num\n",
    "        self.transitions = transitions\n",
    "\n",
    "    def can_transition(self, new_state):\n",
    "        return new_state.name in self.transitions\n",
    "\n",
    "\n",
    "print('Name:', BugStatus.in_progress)\n",
    "print('Value:', BugStatus.in_progress.value)\n",
    "print('Custom attribute:', BugStatus.in_progress.transitions)\n",
    "print('Using attribute:',\n",
    "\n",
    "      BugStatus.in_progress.can_transition(BugStatus.new))"
   ]
  },
  {
   "cell_type": "raw",
   "metadata": {},
   "source": [
    "For more complex cases, tuples might become unwieldy. Since member values can be any type of object, it is possible to use dictionaries for cases where there are a lot of separate attributes to track for each enum value. Complex values are passed directly to __init__() as the only argument other than self."
   ]
  },
  {
   "cell_type": "code",
   "execution_count": 18,
   "metadata": {
    "collapsed": false
   },
   "outputs": [
    {
     "name": "stdout",
     "output_type": "stream",
     "text": [
      "Name: BugStatus.in_progress\n",
      "Value: {'num': 3, 'transitions': ['new', 'fix_committed']}\n",
      "Custom attribute: ['new', 'fix_committed']\n",
      "Using attribute: True\n"
     ]
    }
   ],
   "source": [
    "# enum_complex_values.py\n",
    "import enum\n",
    "\n",
    "\n",
    "class BugStatus(enum.Enum):\n",
    "\n",
    "    new = {\n",
    "        'num': 7,\n",
    "        'transitions': [\n",
    "            'incomplete',\n",
    "            'invalid',\n",
    "            'wont_fix',\n",
    "            'in_progress',\n",
    "        ],\n",
    "    }\n",
    "    incomplete = {\n",
    "        'num': 6,\n",
    "        'transitions': ['new', 'wont_fix'],\n",
    "    }\n",
    "    invalid = {\n",
    "        'num': 5,\n",
    "        'transitions': ['new'],\n",
    "    }\n",
    "    wont_fix = {\n",
    "        'num': 4,\n",
    "        'transitions': ['new'],\n",
    "    }\n",
    "    in_progress = {\n",
    "        'num': 3,\n",
    "        'transitions': ['new', 'fix_committed'],\n",
    "    }\n",
    "    fix_committed = {\n",
    "        'num': 2,\n",
    "        'transitions': ['in_progress', 'fix_released'],\n",
    "    }\n",
    "    fix_released = {\n",
    "        'num': 1,\n",
    "        'transitions': ['new'],\n",
    "    }\n",
    "\n",
    "    def __init__(self, vals):\n",
    "        self.num = vals['num']\n",
    "        self.transitions = vals['transitions']\n",
    "\n",
    "    def can_transition(self, new_state):\n",
    "        return new_state.name in self.transitions\n",
    "\n",
    "\n",
    "print('Name:', BugStatus.in_progress)\n",
    "print('Value:', BugStatus.in_progress.value)\n",
    "print('Custom attribute:', BugStatus.in_progress.transitions)\n",
    "print('Using attribute:',\n",
    "      BugStatus.in_progress.can_transition(BugStatus.new))\n"
   ]
  }
 ],
 "metadata": {
  "kernelspec": {
   "display_name": "Python 3",
   "language": "python",
   "name": "python3"
  },
  "language_info": {
   "codemirror_mode": {
    "name": "ipython",
    "version": 3
   },
   "file_extension": ".py",
   "mimetype": "text/x-python",
   "name": "python",
   "nbconvert_exporter": "python",
   "pygments_lexer": "ipython3",
   "version": "3.5.2"
  }
 },
 "nbformat": 4,
 "nbformat_minor": 2
}
