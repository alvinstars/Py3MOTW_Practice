{
 "cells": [
  {
   "cell_type": "markdown",
   "metadata": {},
   "source": [
    "# threading - Manage Concurrent Operations Within a Process\n",
    "\n",
    "Purpose:\tManage several threads of execution.\n",
    "\n",
    "Using threads allows a program to run multiple operations concurrently in the same process space."
   ]
  },
  {
   "cell_type": "markdown",
   "metadata": {},
   "source": [
    "## Thread Objects\n",
    "\n",
    "The simplest way to use a Thread is to instantiate it with a target function and call start() to let it begin working.\n",
    "\n",
    "The output is five lines with \"Worker\" on each."
   ]
  },
  {
   "cell_type": "code",
   "execution_count": 25,
   "metadata": {
    "collapsed": false
   },
   "outputs": [
    {
     "name": "stdout",
     "output_type": "stream",
     "text": [
      "WorkerWorkerWorker\n",
      "Worker\n",
      "Worker\n",
      "\n",
      "\n"
     ]
    }
   ],
   "source": [
    "# threading_simple.py\n",
    "import threading\n",
    "\n",
    "\n",
    "def worker():\n",
    "    \"\"\"thread worker function\"\"\"\n",
    "    print('Worker')\n",
    "\n",
    "\n",
    "threads = []\n",
    "for i in range(5):\n",
    "    t = threading.Thread(target=worker)\n",
    "    threads.append(t)\n",
    "    t.start()"
   ]
  },
  {
   "cell_type": "code",
   "execution_count": 26,
   "metadata": {
    "collapsed": false
   },
   "outputs": [
    {
     "data": {
      "text/plain": [
       "[<Thread(Thread-34, stopped 123145564983296)>,\n",
       " <Thread(Thread-35, stopped 123145570238464)>,\n",
       " <Thread(Thread-36, stopped 123145575493632)>,\n",
       " <Thread(Thread-37, stopped 123145564983296)>,\n",
       " <Thread(Thread-38, stopped 123145570238464)>]"
      ]
     },
     "execution_count": 26,
     "metadata": {},
     "output_type": "execute_result"
    }
   ],
   "source": [
    "threads"
   ]
  },
  {
   "cell_type": "markdown",
   "metadata": {},
   "source": [
    "It is useful to be able to spawn a thread and pass it arguments to tell it what work to do. Any type of object can be passed as argument to the thread. This example passes a number, which the thread then prints.\n",
    "\n",
    "The integer argument is now included in the message printed by each thread."
   ]
  },
  {
   "cell_type": "code",
   "execution_count": 27,
   "metadata": {
    "collapsed": false
   },
   "outputs": [
    {
     "name": "stdout",
     "output_type": "stream",
     "text": [
      "Worker: 0Worker: 1Worker: 2Worker: 3\n",
      "\n",
      "\n",
      "Worker: 4\n",
      "\n"
     ]
    }
   ],
   "source": [
    "# threading_simpleargs.py\n",
    "import threading\n",
    "\n",
    "\n",
    "def worker(num):\n",
    "    \"\"\"thread worker function\"\"\"\n",
    "    print('Worker: %s' % num)\n",
    "\n",
    "\n",
    "threads = []\n",
    "for i in range(5):\n",
    "    t = threading.Thread(target=worker, args=(i,))\n",
    "    threads.append(t)\n",
    "    t.start()"
   ]
  },
  {
   "cell_type": "markdown",
   "metadata": {},
   "source": [
    "## Determining the Current Thread\n",
    "\n",
    "Using arguments to identify or name the thread is cumbersome and unnecessary. Each Thread instance has a name with a default value that can be changed as the thread is created. Naming threads is useful in server processes with multiple service threads handling different operations.\n",
    "\n",
    "The debug output includes the name of the current thread on each line. "
   ]
  },
  {
   "cell_type": "code",
   "execution_count": 28,
   "metadata": {
    "collapsed": false
   },
   "outputs": [
    {
     "name": "stdout",
     "output_type": "stream",
     "text": [
      "worker Startingmy_serviceThread-44\n",
      "  StartingStarting\n",
      "\n"
     ]
    }
   ],
   "source": [
    "# threading_names.py\n",
    "import threading\n",
    "import time\n",
    "\n",
    "\n",
    "def worker():\n",
    "    print(threading.current_thread().getName(), 'Starting')\n",
    "    time.sleep(0.2)\n",
    "    print(threading.current_thread().getName(), 'Exiting')\n",
    "\n",
    "\n",
    "def my_service():\n",
    "    print(threading.current_thread().getName(), 'Starting')\n",
    "    time.sleep(0.3)\n",
    "    print(threading.current_thread().getName(), 'Exiting')\n",
    "\n",
    "\n",
    "t = threading.Thread(name='my_service', target=my_service)\n",
    "w = threading.Thread(name='worker', target=worker)\n",
    "w2 = threading.Thread(target=worker)  # use default name\n",
    "\n",
    "w.start()\n",
    "w2.start()\n",
    "t.start()"
   ]
  },
  {
   "cell_type": "markdown",
   "metadata": {},
   "source": [
    "Most programs do not use print to debug. The logging module supports embedding the thread name in every log message using the formatter code %(threadName)s. Including thread names in log messages makes it possible to trace those messages back to their source.\n",
    "\n",
    "logging is also thread-safe, so messages from different threads are kept distinct in the output."
   ]
  },
  {
   "cell_type": "code",
   "execution_count": 29,
   "metadata": {
    "collapsed": false
   },
   "outputs": [
    {
     "name": "stderr",
     "output_type": "stream",
     "text": [
      "[DEBUG] (worker    ) Starting\n",
      "[DEBUG] (Thread-45 ) Starting\n",
      "[DEBUG] (my_service) Starting\n"
     ]
    }
   ],
   "source": [
    "# threading_names_log.py\n",
    "import logging\n",
    "import threading\n",
    "import time\n",
    "\n",
    "\n",
    "def worker():\n",
    "    logging.debug('Starting')\n",
    "    time.sleep(0.2)\n",
    "    logging.debug('Exiting')\n",
    "\n",
    "\n",
    "def my_service():\n",
    "    logging.debug('Starting')\n",
    "    time.sleep(0.3)\n",
    "    logging.debug('Exiting')\n",
    "\n",
    "\n",
    "logging.basicConfig(\n",
    "    level=logging.DEBUG,\n",
    "    format='[%(levelname)s] (%(threadName)-10s) %(message)s',\n",
    ")\n",
    "\n",
    "t = threading.Thread(name='my_service', target=my_service)\n",
    "w = threading.Thread(name='worker', target=worker)\n",
    "w2 = threading.Thread(target=worker)  # use default name\n",
    "\n",
    "w.start()\n",
    "w2.start()\n",
    "t.start()"
   ]
  },
  {
   "cell_type": "markdown",
   "metadata": {},
   "source": [
    "## Daemon vs. Non-Daemon Threads\n",
    "\n",
    "Up to this point, the example programs have implicitly waited to exit until all threads have completed their work. Sometimes programs spawn a thread as a daemon that runs without blocking the main program from exiting. Using daemon threads is useful for services where there may not be an easy way to interrupt the thread, or where letting the thread die in the middle of its work does not lose or corrupt data (for example, a thread that generates “heart beats” for a service monitoring tool). To mark a thread as a daemon, pass daemon=True when constructing it or call its set_daemon() method with True. The default is for threads to not be daemons.\n",
    "\n",
    "The output does not include the \"Exiting\" message from the daemon thread, since all of the non-daemon threads (including the main thread) exit before the daemon thread wakes up from the sleep() call."
   ]
  },
  {
   "cell_type": "raw",
   "metadata": {},
   "source": [
    "# threading_daemon.py\n",
    "import threading\n",
    "import time\n",
    "import logging\n",
    "\n",
    "\n",
    "def daemon():\n",
    "    logging.debug('Starting')\n",
    "    time.sleep(0.2)\n",
    "    logging.debug('Exiting')\n",
    "\n",
    "\n",
    "def non_daemon():\n",
    "    logging.debug('Starting')\n",
    "    logging.debug('Exiting')\n",
    "\n",
    "\n",
    "logging.basicConfig(\n",
    "    level=logging.DEBUG,\n",
    "    format='(%(threadName)-10s) %(message)s',\n",
    ")\n",
    "\n",
    "d = threading.Thread(name='daemon', target=daemon, daemon=True)\n",
    "\n",
    "t = threading.Thread(name='non-daemon', target=non_daemon)\n",
    "\n",
    "d.start()\n",
    "t.start()"
   ]
  },
  {
   "cell_type": "code",
   "execution_count": 30,
   "metadata": {
    "collapsed": false
   },
   "outputs": [
    {
     "name": "stdout",
     "output_type": "stream",
     "text": [
      "(daemon    ) Starting\r\n",
      "(non-daemon) Starting\r\n",
      "(non-daemon) Exiting\r\n"
     ]
    },
    {
     "name": "stderr",
     "output_type": "stream",
     "text": [
      "[DEBUG] (worker    ) Exiting\n",
      "[DEBUG] (Thread-45 ) Exiting\n"
     ]
    },
    {
     "name": "stdout",
     "output_type": "stream",
     "text": [
      "Thread-44worker  ExitingExiting\n",
      "\n"
     ]
    }
   ],
   "source": [
    "! python3 threading_daemon.py"
   ]
  },
  {
   "cell_type": "markdown",
   "metadata": {},
   "source": [
    "To wait until a daemon thread has completed its work, use the join() method.\n",
    "\n",
    "Waiting for the daemon thread to exit using join() means it has a chance to produce its \"Exiting\" message."
   ]
  },
  {
   "cell_type": "raw",
   "metadata": {},
   "source": [
    "# threading_daemon_join.py\n",
    "import threading\n",
    "import time\n",
    "import logging\n",
    "\n",
    "\n",
    "def daemon():\n",
    "    logging.debug('Starting')\n",
    "    time.sleep(0.2)\n",
    "    logging.debug('Exiting')\n",
    "\n",
    "\n",
    "def non_daemon():\n",
    "    logging.debug('Starting')\n",
    "    logging.debug('Exiting')\n",
    "\n",
    "\n",
    "logging.basicConfig(\n",
    "    level=logging.DEBUG,\n",
    "    format='(%(threadName)-10s) %(message)s',\n",
    ")\n",
    "\n",
    "d = threading.Thread(name='daemon', target=daemon, daemon=True)\n",
    "\n",
    "t = threading.Thread(name='non-daemon', target=non_daemon)\n",
    "\n",
    "d.start()\n",
    "t.start()\n",
    "\n",
    "d.join()\n",
    "t.join()"
   ]
  },
  {
   "cell_type": "code",
   "execution_count": 31,
   "metadata": {
    "collapsed": false
   },
   "outputs": [
    {
     "name": "stdout",
     "output_type": "stream",
     "text": [
      "my_service Exiting\n"
     ]
    },
    {
     "name": "stderr",
     "output_type": "stream",
     "text": [
      "[DEBUG] (my_service) Exiting\n"
     ]
    },
    {
     "name": "stdout",
     "output_type": "stream",
     "text": [
      "(daemon    ) Starting\n",
      "(non-daemon) Starting\n",
      "(non-daemon) Exiting\n",
      "(daemon    ) Exiting\n"
     ]
    }
   ],
   "source": [
    "! python3 threading_daemon_join.py"
   ]
  },
  {
   "cell_type": "raw",
   "metadata": {},
   "source": [
    "By default, join() blocks indefinitely. It is also possible to pass a float value representing the number of seconds to wait for the thread to become inactive. If the thread does not complete within the timeout period, join() returns anyway.\n",
    "\n",
    "Since the timeout passed is less than the amount of time the daemon thread sleeps, the thread is still “alive” after join() returns."
   ]
  },
  {
   "cell_type": "raw",
   "metadata": {},
   "source": [
    "# threading_daemon_join_timeout.py\n",
    "import threading\n",
    "import time\n",
    "import logging\n",
    "\n",
    "\n",
    "def daemon():\n",
    "    logging.debug('Starting')\n",
    "    time.sleep(0.2)\n",
    "    logging.debug('Exiting')\n",
    "\n",
    "\n",
    "def non_daemon():\n",
    "    logging.debug('Starting')\n",
    "    logging.debug('Exiting')\n",
    "\n",
    "\n",
    "logging.basicConfig(\n",
    "    level=logging.DEBUG,\n",
    "    format='(%(threadName)-10s) %(message)s',\n",
    ")\n",
    "\n",
    "d = threading.Thread(name='daemon', target=daemon, daemon=True)\n",
    "\n",
    "t = threading.Thread(name='non-daemon', target=non_daemon)\n",
    "\n",
    "d.start()\n",
    "t.start()\n",
    "\n",
    "d.join(0.1)\n",
    "print('d.isAlive()', d.isAlive())\n",
    "t.join()"
   ]
  },
  {
   "cell_type": "code",
   "execution_count": 32,
   "metadata": {
    "collapsed": false
   },
   "outputs": [
    {
     "name": "stdout",
     "output_type": "stream",
     "text": [
      "(daemon    ) Starting\n",
      "(non-daemon) Starting\n",
      "(non-daemon) Exiting\n",
      "d.isAlive() True\n"
     ]
    }
   ],
   "source": [
    "! python3 threading_daemon_join_timeout.py"
   ]
  },
  {
   "cell_type": "markdown",
   "metadata": {},
   "source": [
    "## Enumerating All Threads\n",
    "\n",
    "It is not necessary to retain an explicit handle to all of the daemon threads in order to ensure they have completed before exiting the main process. enumerate() returns a list of active Thread instances. The list includes the current thread, and since joining the current thread introduces a deadlock situation, it must be skipped.\n",
    "\n",
    "Because the worker is sleeping for a random amount of time, the output from this program may vary."
   ]
  },
  {
   "cell_type": "raw",
   "metadata": {},
   "source": [
    "# threading_enumerate.py\n",
    "import random\n",
    "import threading\n",
    "import time\n",
    "import logging\n",
    "\n",
    "\n",
    "def worker():\n",
    "    \"\"\"thread worker function\"\"\"\n",
    "    pause = random.randint(1, 5) / 10\n",
    "    logging.debug('sleeping %0.2f', pause)\n",
    "    time.sleep(pause)\n",
    "    logging.debug('ending')\n",
    "\n",
    "\n",
    "logging.basicConfig(\n",
    "    level=logging.DEBUG,\n",
    "    format='(%(threadName)-10s) %(message)s',\n",
    ")\n",
    "\n",
    "for i in range(3):\n",
    "    t = threading.Thread(target=worker, daemon=True)\n",
    "    t.start()\n",
    "\n",
    "main_thread = threading.main_thread()\n",
    "for t in threading.enumerate():\n",
    "    if t is main_thread:\n",
    "        continue\n",
    "    logging.debug('joining %s', t.getName())\n",
    "    t.join()"
   ]
  },
  {
   "cell_type": "code",
   "execution_count": 33,
   "metadata": {
    "collapsed": false
   },
   "outputs": [
    {
     "name": "stdout",
     "output_type": "stream",
     "text": [
      "(Thread-1  ) sleeping 0.40\n",
      "(Thread-2  ) sleeping 0.30\n",
      "(Thread-3  ) sleeping 0.50\n",
      "(MainThread) joining Thread-1\n",
      "(Thread-2  ) ending\n",
      "(Thread-1  ) ending\n",
      "(MainThread) joining Thread-2\n",
      "(MainThread) joining Thread-3\n",
      "(Thread-3  ) ending\n"
     ]
    }
   ],
   "source": [
    "! python3 threading_enumerate.py"
   ]
  },
  {
   "cell_type": "markdown",
   "metadata": {},
   "source": [
    "## Subclassing Thread\n",
    "\n",
    "At start-up, a Thread does some basic initialization and then calls its run() method, which calls the target function passed to the constructor. To create a subclass of Thread, override run() to do whatever is necessary."
   ]
  },
  {
   "cell_type": "code",
   "execution_count": 34,
   "metadata": {
    "collapsed": false
   },
   "outputs": [
    {
     "name": "stderr",
     "output_type": "stream",
     "text": [
      "[DEBUG] (Thread-46 ) running\n",
      "[DEBUG] (Thread-47 ) running\n",
      "[DEBUG] (Thread-48 ) running\n",
      "[DEBUG] (Thread-49 ) running\n",
      "[DEBUG] (Thread-50 ) running\n"
     ]
    }
   ],
   "source": [
    "# threading_subclass.py\n",
    "import threading\n",
    "import logging\n",
    "\n",
    "\n",
    "class MyThread(threading.Thread):\n",
    "\n",
    "    def run(self):\n",
    "        logging.debug('running')\n",
    "\n",
    "\n",
    "logging.basicConfig(\n",
    "    level=logging.DEBUG,\n",
    "    format='(%(threadName)-10s) %(message)s',\n",
    ")\n",
    "\n",
    "for i in range(5):\n",
    "    t = MyThread()\n",
    "    t.start()"
   ]
  },
  {
   "cell_type": "markdown",
   "metadata": {},
   "source": [
    "Because the args and kwargs values passed to the Thread constructor are saved in private variables using names prefixed with '\\__', they are not easily accessed from a subclass. To pass arguments to a custom thread type, redefine the constructor to save the values in an instance attribute that can be seen in the subclass.\n",
    "\n",
    "MyThreadWithArgs uses the same API as Thread, but another class could easily change the constructor method to take more or different arguments more directly related to the purpose of the thread, as with any other class."
   ]
  },
  {
   "cell_type": "code",
   "execution_count": 35,
   "metadata": {
    "collapsed": false
   },
   "outputs": [
    {
     "name": "stderr",
     "output_type": "stream",
     "text": [
      "[DEBUG] (Thread-51 ) running with (0,) and {10: 'A', 20: 'B'}\n",
      "[DEBUG] (Thread-52 ) running with (1,) and {11: 'A', 21: 'B'}\n",
      "[DEBUG] (Thread-53 ) running with (2,) and {12: 'A', 22: 'B'}"
     ]
    }
   ],
   "source": [
    "# threading_subclass_args.py\n",
    "import threading\n",
    "import logging\n",
    "\n",
    "\n",
    "class MyThreadWithArgs(threading.Thread):\n",
    "\n",
    "    def __init__(self, group=None, target=None, name=None,\n",
    "                 args=(), kwargs=None, *, daemon=None):\n",
    "        super().__init__(group=group, target=target, name=name,\n",
    "                         daemon=daemon)\n",
    "        self.args = args\n",
    "        self.kwargs = kwargs\n",
    "\n",
    "    def run(self):\n",
    "        logging.debug('running with %s and %s',\n",
    "                      self.args, self.kwargs)\n",
    "\n",
    "\n",
    "logging.basicConfig(\n",
    "    level=logging.DEBUG,\n",
    "    format='(%(threadName)-10s) %(message)s',\n",
    ")\n",
    "\n",
    "for i in range(5):\n",
    "    t = MyThreadWithArgs(args=(i,), kwargs={i+10: 'A', i+20: 'B'})\n",
    "    t.start()\n"
   ]
  },
  {
   "cell_type": "markdown",
   "metadata": {},
   "source": [
    "## Timer Threads\n",
    "\n",
    "One example of a reason to subclass Thread is provided by Timer, also included in threading. A Timer starts its work after a delay, and can be canceled at any point within that delay time period.\n",
    "\n",
    "The second timer in this example is never run, and the first timer appears to run after the rest of the main program is done. Since it is not a daemon thread, it is joined implicitly when the main thread is done."
   ]
  },
  {
   "cell_type": "code",
   "execution_count": 36,
   "metadata": {
    "collapsed": false
   },
   "outputs": [
    {
     "name": "stderr",
     "output_type": "stream",
     "text": [
      "\n",
      "[DEBUG] (Thread-54 ) running with (3,) and {13: 'A', 23: 'B'}\n",
      "[DEBUG] (Thread-55 ) running with (4,) and {14: 'A', 24: 'B'}\n",
      "[DEBUG] (MainThread) starting timers\n",
      "[DEBUG] (MainThread) waiting before canceling t2\n",
      "[DEBUG] (MainThread) canceling t2\n",
      "[DEBUG] (MainThread) done\n"
     ]
    }
   ],
   "source": [
    "# threading_timer.py\n",
    "import threading\n",
    "import time\n",
    "import logging\n",
    "\n",
    "\n",
    "def delayed():\n",
    "    logging.debug('worker running')\n",
    "\n",
    "\n",
    "logging.basicConfig(\n",
    "    level=logging.DEBUG,\n",
    "    format='(%(threadName)-10s) %(message)s',\n",
    ")\n",
    "\n",
    "t1 = threading.Timer(0.3, delayed)\n",
    "t1.setName('t1')\n",
    "t2 = threading.Timer(0.3, delayed)\n",
    "t2.setName('t2')\n",
    "\n",
    "logging.debug('starting timers')\n",
    "t1.start()\n",
    "t2.start()\n",
    "\n",
    "logging.debug('waiting before canceling %s', t2.getName())\n",
    "time.sleep(0.2)\n",
    "logging.debug('canceling %s', t2.getName())\n",
    "t2.cancel()\n",
    "logging.debug('done')"
   ]
  },
  {
   "cell_type": "markdown",
   "metadata": {},
   "source": [
    "## Signaling Between Threads\n",
    "\n",
    "Although the point of using multiple threads is to run separate operations concurrently, there are times when it is important to be able to synchronize the operations in two or more threads. Event objects are a simple way to communicate between threads safely. An Event manages an internal flag that callers can control with the set() and clear() methods. Other threads can use wait() to pause until the flag is set, effectively blocking progress until allowed to continue.\n",
    "\n",
    "The wait() method takes an argument representing the number of seconds to wait for the event before timing out. It returns a Boolean indicating whether or not the event is set, so the caller knows why wait() returned. The is_set() method can be used separately on the event without fear of blocking.\n",
    "\n",
    "In this example, wait_for_event_timeout() checks the event status without blocking indefinitely. The wait_for_event() blocks on the call to wait(), which does not return until the event status changes."
   ]
  },
  {
   "cell_type": "code",
   "execution_count": 37,
   "metadata": {
    "collapsed": false
   },
   "outputs": [
    {
     "name": "stderr",
     "output_type": "stream",
     "text": [
      "[DEBUG] (block     ) wait_for_event starting\n",
      "[DEBUG] (nonblock-A) wait_for_event_timeout starting\n",
      "[DEBUG] (nonblock-B) wait_for_event_timeout starting\n",
      "[DEBUG] (MainThread) Waiting before calling Event.set()\n",
      "[DEBUG] (t1        ) worker running\n",
      "[DEBUG] (nonblock-A) event set: False\n",
      "[DEBUG] (nonblock-A) doing other work\n",
      "[DEBUG] (nonblock-A) wait_for_event_timeout starting\n",
      "[DEBUG] (MainThread) Event is set\n",
      "[DEBUG] (block     ) event set: True\n",
      "[DEBUG] (nonblock-B) event set: True\n"
     ]
    }
   ],
   "source": [
    "# threading_event.py\n",
    "import logging\n",
    "import threading\n",
    "import time\n",
    "\n",
    "\n",
    "def wait_for_event(e):\n",
    "    \"\"\"Wait for the event to be set before doing anything\"\"\"\n",
    "    logging.debug('wait_for_event starting')\n",
    "    event_is_set = e.wait()\n",
    "    logging.debug('event set: %s', event_is_set)\n",
    "\n",
    "\n",
    "def wait_for_event_timeout(e, t):\n",
    "    \"\"\"Wait t seconds and then timeout\"\"\"\n",
    "    while not e.is_set():\n",
    "        logging.debug('wait_for_event_timeout starting')\n",
    "        event_is_set = e.wait(t)\n",
    "        logging.debug('event set: %s', event_is_set)\n",
    "        if event_is_set:\n",
    "            logging.debug('processing event')\n",
    "        else:\n",
    "            logging.debug('doing other work')\n",
    "\n",
    "\n",
    "logging.basicConfig(\n",
    "    level=logging.DEBUG,\n",
    "    format='(%(threadName)-10s) %(message)s',\n",
    ")\n",
    "\n",
    "e = threading.Event()\n",
    "t1 = threading.Thread(\n",
    "    name='block',\n",
    "    target=wait_for_event,\n",
    "    args=(e,),\n",
    ")\n",
    "t1.start()\n",
    "\n",
    "t2 = threading.Thread(\n",
    "    name='nonblock-A',\n",
    "    target=wait_for_event_timeout,\n",
    "    args=(e, 0.2),\n",
    ")\n",
    "t2.start()\n",
    "\n",
    "t3 = threading.Thread(\n",
    "    name='nonblock-B',\n",
    "    target=wait_for_event_timeout,\n",
    "    args=(e, 2),\n",
    ")\n",
    "t3.start()\n",
    "\n",
    "logging.debug('Waiting before calling Event.set()')\n",
    "time.sleep(0.3)\n",
    "e.set()\n",
    "logging.debug('Event is set')"
   ]
  },
  {
   "cell_type": "markdown",
   "metadata": {},
   "source": [
    "## Controlling Access to Resources\n",
    "\n",
    "In addition to synchronizing the operations of threads, it is also important to be able to control access to shared resources to prevent corruption or missed data. Python’s built-in data structures (lists, dictionaries, etc.) are thread-safe as a side-effect of having atomic byte-codes for manipulating them (the global interpreter lock used to protect Python’s internal data structures is not released in the middle of an update). Other data structures implemented in Python, or simpler types like integers and floats, do not have that protection. To guard against simultaneous access to an object, use a Lock object."
   ]
  },
  {
   "cell_type": "raw",
   "metadata": {},
   "source": [
    "# threading_lock.py\n",
    "import logging\n",
    "import random\n",
    "import threading\n",
    "import time\n",
    "\n",
    "\n",
    "class Counter:\n",
    "\n",
    "    def __init__(self, start=0):\n",
    "        self.lock = threading.Lock()\n",
    "        self.value = start\n",
    "\n",
    "    def increment(self):\n",
    "        logging.debug('Waiting for lock')\n",
    "        self.lock.acquire()\n",
    "        try:\n",
    "            logging.debug('Acquired lock')\n",
    "            self.value = self.value + 1\n",
    "        finally:\n",
    "            self.lock.release()\n",
    "            logging.debug('Lock Released')\n",
    "\n",
    "\n",
    "def worker(c):\n",
    "    for i in range(2):\n",
    "        pause = random.random()\n",
    "        logging.debug('Sleeping %0.02f', pause)\n",
    "        time.sleep(pause)\n",
    "        c.increment()\n",
    "    logging.debug('Done')\n",
    "\n",
    "\n",
    "logging.basicConfig(\n",
    "    level=logging.DEBUG,\n",
    "    format='(%(threadName)-10s) %(message)s',\n",
    ")\n",
    "\n",
    "counter = Counter()\n",
    "for i in range(2):\n",
    "    t = threading.Thread(target=worker, args=(counter,))\n",
    "    t.start()\n",
    "\n",
    "logging.debug('Waiting for worker threads')\n",
    "main_thread = threading.main_thread()\n",
    "for t in threading.enumerate():\n",
    "    if t is not main_thread:\n",
    "        t.join()\n",
    "logging.debug('Counter: %d', counter.value)"
   ]
  },
  {
   "cell_type": "markdown",
   "metadata": {},
   "source": [
    "In this example, the worker() function increments a Counter instance, which manages a Lock to prevent two threads from changing its internal state at the same time. If the Lock was not used, there is a possibility of missing a change to the value attribute."
   ]
  },
  {
   "cell_type": "code",
   "execution_count": 38,
   "metadata": {
    "collapsed": false
   },
   "outputs": [
    {
     "name": "stderr",
     "output_type": "stream",
     "text": [
      "[DEBUG] (nonblock-A) event set: True\n",
      "[DEBUG] (nonblock-B) processing event\n",
      "[DEBUG] (nonblock-A) processing event\n"
     ]
    },
    {
     "name": "stdout",
     "output_type": "stream",
     "text": [
      "(Thread-1  ) Sleeping 0.65\n",
      "(Thread-2  ) Sleeping 0.42\n",
      "(MainThread) Waiting for worker threads\n",
      "(Thread-2  ) Waiting for lock\n",
      "(Thread-2  ) Acquired lock\n",
      "(Thread-2  ) Lock Released\n",
      "(Thread-2  ) Sleeping 0.76\n",
      "(Thread-1  ) Waiting for lock\n",
      "(Thread-1  ) Acquired lock\n",
      "(Thread-1  ) Lock Released\n",
      "(Thread-1  ) Sleeping 0.35\n",
      "(Thread-1  ) Waiting for lock\n",
      "(Thread-1  ) Acquired lock\n",
      "(Thread-1  ) Lock Released\n",
      "(Thread-1  ) Done\n",
      "(Thread-2  ) Waiting for lock\n",
      "(Thread-2  ) Acquired lock\n",
      "(Thread-2  ) Lock Released\n",
      "(Thread-2  ) Done\n",
      "(MainThread) Counter: 4\n"
     ]
    }
   ],
   "source": [
    "! python3 threading_lock.py"
   ]
  },
  {
   "cell_type": "markdown",
   "metadata": {
    "collapsed": true
   },
   "source": [
    "To find out whether another thread has acquired the lock without holding up the current thread, pass False for the blocking argument to acquire(). In the next example, worker() tries to acquire the lock three separate times and counts how many attempts it has to make to do so. In the mean time, lock_holder() cycles between holding and releasing the lock, with short pauses in each state used to simulate load."
   ]
  },
  {
   "cell_type": "raw",
   "metadata": {
    "collapsed": true
   },
   "source": [
    "# threading_lock_noblock.py\n",
    "import logging\n",
    "import threading\n",
    "import time\n",
    "\n",
    "\n",
    "def lock_holder(lock):\n",
    "    logging.debug('Starting')\n",
    "    while True:\n",
    "        lock.acquire()\n",
    "        try:\n",
    "            logging.debug('Holding')\n",
    "            time.sleep(0.5)\n",
    "        finally:\n",
    "            logging.debug('Not holding')\n",
    "            lock.release()\n",
    "        time.sleep(0.5)\n",
    "\n",
    "\n",
    "def worker(lock):\n",
    "    logging.debug('Starting')\n",
    "    num_tries = 0\n",
    "    num_acquires = 0\n",
    "    while num_acquires < 3:\n",
    "        time.sleep(0.5)\n",
    "        logging.debug('Trying to acquire')\n",
    "        have_it = lock.acquire(0)\n",
    "        try:\n",
    "            num_tries += 1\n",
    "            if have_it:\n",
    "                logging.debug('Iteration %d: Acquired',\n",
    "                              num_tries)\n",
    "                num_acquires += 1\n",
    "            else:\n",
    "                logging.debug('Iteration %d: Not acquired',\n",
    "                              num_tries)\n",
    "        finally:\n",
    "            if have_it:\n",
    "                lock.release()\n",
    "    logging.debug('Done after %d iterations', num_tries)\n",
    "\n",
    "\n",
    "logging.basicConfig(\n",
    "    level=logging.DEBUG,\n",
    "    format='(%(threadName)-10s) %(message)s',\n",
    ")\n",
    "\n",
    "lock = threading.Lock()\n",
    "\n",
    "holder = threading.Thread(\n",
    "    target=lock_holder,\n",
    "    args=(lock,),\n",
    "    name='LockHolder',\n",
    "    daemon=True,\n",
    ")\n",
    "holder.start()\n",
    "\n",
    "worker = threading.Thread(\n",
    "    target=worker,\n",
    "    args=(lock,),\n",
    "    name='Worker',\n",
    ")\n",
    "worker.start()"
   ]
  },
  {
   "cell_type": "markdown",
   "metadata": {
    "collapsed": true
   },
   "source": [
    "It takes worker() more than three iterations to acquire the lock three separate times."
   ]
  },
  {
   "cell_type": "code",
   "execution_count": 39,
   "metadata": {
    "collapsed": false
   },
   "outputs": [
    {
     "name": "stdout",
     "output_type": "stream",
     "text": [
      "(LockHolder) Starting\n",
      "(LockHolder) Holding\n",
      "(Worker    ) Starting\n",
      "(Worker    ) Trying to acquire\n",
      "(Worker    ) Iteration 1: Not acquired\n",
      "(LockHolder) Not holding\n",
      "(Worker    ) Trying to acquire\n",
      "(Worker    ) Iteration 2: Acquired\n",
      "(LockHolder) Holding\n",
      "(Worker    ) Trying to acquire\n",
      "(Worker    ) Iteration 3: Not acquired\n",
      "(LockHolder) Not holding\n",
      "(Worker    ) Trying to acquire\n",
      "(LockHolder) Holding\n",
      "(Worker    ) Iteration 4: Not acquired\n",
      "(LockHolder) Not holding\n",
      "(Worker    ) Trying to acquire\n",
      "(Worker    ) Iteration 5: Acquired\n",
      "(LockHolder) Holding\n",
      "(Worker    ) Trying to acquire\n",
      "(Worker    ) Iteration 6: Not acquired\n",
      "(LockHolder) Not holding\n",
      "(Worker    ) Trying to acquire\n",
      "(Worker    ) Iteration 7: Acquired\n",
      "(Worker    ) Done after 7 iterations\n"
     ]
    }
   ],
   "source": [
    "! python3 threading_lock_noblock.py"
   ]
  },
  {
   "cell_type": "markdown",
   "metadata": {
    "collapsed": true
   },
   "source": [
    "## Re-entrant Locks\n",
    "\n",
    "Normal Lock objects cannot be acquired more than once, even by the same thread. This can introduce undesirable side-effects if a lock is accessed by more than one function in the same call chain.\n",
    "\n",
    "In this case, the second call to acquire() is given a zero timeout to prevent it from blocking because the lock has been obtained by the first call."
   ]
  },
  {
   "cell_type": "code",
   "execution_count": 40,
   "metadata": {
    "collapsed": false
   },
   "outputs": [
    {
     "name": "stdout",
     "output_type": "stream",
     "text": [
      "First try : True\n",
      "Second try: False\n"
     ]
    }
   ],
   "source": [
    "# threading_lock_reacquire.py\n",
    "import threading\n",
    "\n",
    "lock = threading.Lock()\n",
    "\n",
    "print('First try :', lock.acquire())\n",
    "print('Second try:', lock.acquire(0))"
   ]
  },
  {
   "cell_type": "markdown",
   "metadata": {
    "collapsed": true
   },
   "source": [
    "In a situation where separate code from the same thread needs to “re-acquire” the lock, use an RLock instead.\n",
    "\n",
    "The only change to the code from the previous example was substituting RLock for Lock."
   ]
  },
  {
   "cell_type": "code",
   "execution_count": 41,
   "metadata": {
    "collapsed": false
   },
   "outputs": [
    {
     "name": "stdout",
     "output_type": "stream",
     "text": [
      "First try : True\n",
      "Second try: True\n"
     ]
    }
   ],
   "source": [
    "# threading_rlock.py\n",
    "import threading\n",
    "\n",
    "lock = threading.RLock()\n",
    "\n",
    "print('First try :', lock.acquire())\n",
    "print('Second try:', lock.acquire(0))"
   ]
  },
  {
   "cell_type": "markdown",
   "metadata": {
    "collapsed": true
   },
   "source": [
    "## Locks as Context Managers\n",
    "\n",
    "Locks implement the context manager API and are compatible with the with statement. Using with removes the need to explicitly acquire and release the lock.\n",
    "\n",
    "The two functions worker_with() and worker_no_with() manage the lock in equivalent ways."
   ]
  },
  {
   "cell_type": "code",
   "execution_count": 42,
   "metadata": {
    "collapsed": false
   },
   "outputs": [
    {
     "name": "stderr",
     "output_type": "stream",
     "text": [
      "[DEBUG] (Thread-58 ) Lock acquired via with\n",
      "[DEBUG] (Thread-59 ) Lock acquired directly\n"
     ]
    }
   ],
   "source": [
    "# threading_lock_with.py\n",
    "import threading\n",
    "import logging\n",
    "\n",
    "\n",
    "def worker_with(lock):\n",
    "    with lock:\n",
    "        logging.debug('Lock acquired via with')\n",
    "\n",
    "\n",
    "def worker_no_with(lock):\n",
    "    lock.acquire()\n",
    "    try:\n",
    "        logging.debug('Lock acquired directly')\n",
    "    finally:\n",
    "        lock.release()\n",
    "\n",
    "\n",
    "logging.basicConfig(\n",
    "    level=logging.DEBUG,\n",
    "    format='(%(threadName)-10s) %(message)s',\n",
    ")\n",
    "\n",
    "lock = threading.Lock()\n",
    "w = threading.Thread(target=worker_with, args=(lock,))\n",
    "nw = threading.Thread(target=worker_no_with, args=(lock,))\n",
    "\n",
    "w.start()\n",
    "nw.start()"
   ]
  },
  {
   "cell_type": "markdown",
   "metadata": {
    "collapsed": true
   },
   "source": [
    "## Synchronizing Threads\n",
    "\n",
    "In addition to using Events, another way of synchronizing threads is through using a Condition object. Because the Condition uses a Lock, it can be tied to a shared resource, allowing multiple threads to wait for the resource to be updated. In this example, the consumer() threads wait for the Condition to be set before continuing. The producer() thread is responsible for setting the condition and notifying the other threads that they can continue."
   ]
  },
  {
   "cell_type": "raw",
   "metadata": {
    "collapsed": true
   },
   "source": [
    "# threading_condition.py\n",
    "import logging\n",
    "import threading\n",
    "import time\n",
    "\n",
    "\n",
    "def consumer(cond):\n",
    "    \"\"\"wait for the condition and use the resource\"\"\"\n",
    "    logging.debug('Starting consumer thread')\n",
    "    with cond:\n",
    "        cond.wait()\n",
    "        logging.debug('Resource is available to consumer')\n",
    "\n",
    "\n",
    "def producer(cond):\n",
    "    \"\"\"set up the resource to be used by the consumer\"\"\"\n",
    "    logging.debug('Starting producer thread')\n",
    "    with cond:\n",
    "        logging.debug('Making resource available')\n",
    "        cond.notifyAll()\n",
    "\n",
    "\n",
    "logging.basicConfig(\n",
    "    level=logging.DEBUG,\n",
    "    format='%(asctime)s (%(threadName)-2s) %(message)s',\n",
    ")\n",
    "\n",
    "condition = threading.Condition()\n",
    "c1 = threading.Thread(name='c1', target=consumer,\n",
    "                      args=(condition,))\n",
    "c2 = threading.Thread(name='c2', target=consumer,\n",
    "                      args=(condition,))\n",
    "p = threading.Thread(name='p', target=producer,\n",
    "                     args=(condition,))\n",
    "\n",
    "c1.start()\n",
    "time.sleep(0.2)\n",
    "c2.start()\n",
    "time.sleep(0.2)\n",
    "p.start()"
   ]
  },
  {
   "cell_type": "markdown",
   "metadata": {
    "collapsed": true
   },
   "source": [
    "The threads use with to acquire the lock associated with the Condition. Using the acquire() and release() methods explicitly also works."
   ]
  },
  {
   "cell_type": "code",
   "execution_count": 43,
   "metadata": {
    "collapsed": false
   },
   "outputs": [
    {
     "name": "stdout",
     "output_type": "stream",
     "text": [
      "2017-07-03 07:46:46,035 (c1) Starting consumer thread\n",
      "2017-07-03 07:46:46,240 (c2) Starting consumer thread\n",
      "2017-07-03 07:46:46,444 (p ) Starting producer thread\n",
      "2017-07-03 07:46:46,445 (p ) Making resource available\n",
      "2017-07-03 07:46:46,445 (c1) Resource is available to consumer\n",
      "2017-07-03 07:46:46,445 (c2) Resource is available to consumer\n"
     ]
    }
   ],
   "source": [
    "! python3 threading_condition.py"
   ]
  },
  {
   "cell_type": "markdown",
   "metadata": {
    "collapsed": true
   },
   "source": [
    "Barriers are another thread synchronization mechanism. A Barrier establishes a control point and all participating threads block until all of the participating “parties” have reached that point. It lets threads start up separately and then pause until they are all ready to proceed."
   ]
  },
  {
   "cell_type": "raw",
   "metadata": {
    "collapsed": true
   },
   "source": [
    "# threading_barrier.py\n",
    "import threading\n",
    "import time\n",
    "\n",
    "\n",
    "def worker(barrier):\n",
    "    print(threading.current_thread().name,\n",
    "          'waiting for barrier with {} others'.format(\n",
    "              barrier.n_waiting))\n",
    "    worker_id = barrier.wait()\n",
    "    print(threading.current_thread().name, 'after barrier',\n",
    "          worker_id)\n",
    "\n",
    "\n",
    "NUM_THREADS = 3\n",
    "\n",
    "barrier = threading.Barrier(NUM_THREADS)\n",
    "\n",
    "threads = [\n",
    "    threading.Thread(\n",
    "        name='worker-%s' % i,\n",
    "        target=worker,\n",
    "        args=(barrier,),\n",
    "    )\n",
    "    for i in range(NUM_THREADS)\n",
    "]\n",
    "\n",
    "for t in threads:\n",
    "    print(t.name, 'starting')\n",
    "    t.start()\n",
    "    time.sleep(0.1)\n",
    "\n",
    "for t in threads:\n",
    "    t.join()"
   ]
  },
  {
   "cell_type": "markdown",
   "metadata": {
    "collapsed": true
   },
   "source": [
    "In this example, the Barrier is configured to block until three threads are waiting. When the condition is met, all of the threads are released past the control point at the same time. The return value from wait() indicates the number of the party being released, and can be used to limit some threads from taking an action like cleaning up a shared resource."
   ]
  },
  {
   "cell_type": "code",
   "execution_count": 44,
   "metadata": {
    "collapsed": false
   },
   "outputs": [
    {
     "name": "stdout",
     "output_type": "stream",
     "text": [
      "worker-0 starting\n",
      "worker-0 waiting for barrier with 0 others\n",
      "worker-1 starting\n",
      "worker-1 waiting for barrier with 1 others\n",
      "worker-2 starting\n",
      "worker-2 waiting for barrier with 2 others\n",
      "worker-2 after barrier 2\n",
      "worker-1 after barrier 1\n",
      "worker-0 after barrier 0\n"
     ]
    }
   ],
   "source": [
    "! python3 threading_barrier.py"
   ]
  },
  {
   "cell_type": "markdown",
   "metadata": {
    "collapsed": true
   },
   "source": [
    "The abort() method of Barrier causes all of the waiting threads to receive a BrokenBarrierError. This allows threads to clean up if processing is stopped while they are blocked on wait()."
   ]
  },
  {
   "cell_type": "raw",
   "metadata": {
    "collapsed": true
   },
   "source": [
    "# threading_barrier_abort.py\n",
    "import threading\n",
    "import time\n",
    "\n",
    "\n",
    "def worker(barrier):\n",
    "    print(threading.current_thread().name,\n",
    "          'waiting for barrier with {} others'.format(\n",
    "              barrier.n_waiting))\n",
    "    try:\n",
    "        worker_id = barrier.wait()\n",
    "    except threading.BrokenBarrierError:\n",
    "        print(threading.current_thread().name, 'aborting')\n",
    "    else:\n",
    "        print(threading.current_thread().name, 'after barrier',\n",
    "              worker_id)\n",
    "\n",
    "\n",
    "NUM_THREADS = 3\n",
    "\n",
    "barrier = threading.Barrier(NUM_THREADS + 1)\n",
    "\n",
    "threads = [\n",
    "    threading.Thread(\n",
    "        name='worker-%s' % i,\n",
    "        target=worker,\n",
    "        args=(barrier,),\n",
    "    )\n",
    "    for i in range(NUM_THREADS)\n",
    "]\n",
    "\n",
    "for t in threads:\n",
    "    print(t.name, 'starting')\n",
    "    t.start()\n",
    "    time.sleep(0.1)\n",
    "\n",
    "barrier.abort()\n",
    "\n",
    "for t in threads:\n",
    "    t.join()"
   ]
  },
  {
   "cell_type": "markdown",
   "metadata": {
    "collapsed": true
   },
   "source": [
    "This example configures the Barrier to expect one more participating thread than is actually started so that processing in all of the threads is blocked. The abort() call raises an exception in each blocked thread."
   ]
  },
  {
   "cell_type": "code",
   "execution_count": 45,
   "metadata": {
    "collapsed": false
   },
   "outputs": [
    {
     "name": "stdout",
     "output_type": "stream",
     "text": [
      "worker-0 starting\n",
      "worker-0 waiting for barrier with 0 others\n",
      "worker-1 starting\n",
      "worker-1 waiting for barrier with 1 others\n",
      "worker-2 starting\n",
      "worker-2 waiting for barrier with 2 others\n",
      "worker-0 aborting\n",
      "worker-1 aborting\n",
      "worker-2 aborting\n"
     ]
    }
   ],
   "source": [
    "! python3 threading_barrier_abort.py"
   ]
  },
  {
   "cell_type": "markdown",
   "metadata": {
    "collapsed": true
   },
   "source": [
    "## Limiting Concurrent Access to Resources\n",
    "\n",
    "Sometimes it is useful to allow more than one worker access to a resource at a time, while still limiting the overall number. For example, a connection pool might support a fixed number of simultaneous connections, or a network application might support a fixed number of concurrent downloads. A Semaphore is one way to manage those connections."
   ]
  },
  {
   "cell_type": "code",
   "execution_count": 46,
   "metadata": {
    "collapsed": false
   },
   "outputs": [
    {
     "name": "stderr",
     "output_type": "stream",
     "text": [
      "[DEBUG] (0         ) Waiting to join the pool\n",
      "[DEBUG] (1         ) Waiting to join the pool\n",
      "[DEBUG] (2         ) Waiting to join the pool\n",
      "[DEBUG] (3         ) Waiting to join the pool\n"
     ]
    }
   ],
   "source": [
    "# threading_semaphore.py\n",
    "import logging\n",
    "import random\n",
    "import threading\n",
    "import time\n",
    "\n",
    "\n",
    "class ActivePool:\n",
    "\n",
    "    def __init__(self):\n",
    "        super(ActivePool, self).__init__()\n",
    "        self.active = []\n",
    "        self.lock = threading.Lock()\n",
    "\n",
    "    def makeActive(self, name):\n",
    "        with self.lock:\n",
    "            self.active.append(name)\n",
    "            logging.debug('Running: %s', self.active)\n",
    "\n",
    "    def makeInactive(self, name):\n",
    "        with self.lock:\n",
    "            self.active.remove(name)\n",
    "            logging.debug('Running: %s', self.active)\n",
    "\n",
    "\n",
    "def worker(s, pool):\n",
    "    logging.debug('Waiting to join the pool')\n",
    "    with s:\n",
    "        name = threading.current_thread().getName()\n",
    "        pool.makeActive(name)\n",
    "        time.sleep(0.1)\n",
    "        pool.makeInactive(name)\n",
    "\n",
    "\n",
    "logging.basicConfig(\n",
    "    level=logging.DEBUG,\n",
    "    format='%(asctime)s (%(threadName)-2s) %(message)s',\n",
    ")\n",
    "\n",
    "pool = ActivePool()\n",
    "s = threading.Semaphore(2)\n",
    "for i in range(4):\n",
    "    t = threading.Thread(\n",
    "        target=worker,\n",
    "        name=str(i),\n",
    "        args=(s, pool),\n",
    "    )\n",
    "    t.start()"
   ]
  },
  {
   "cell_type": "markdown",
   "metadata": {
    "collapsed": true
   },
   "source": [
    "In this example, the ActivePool class simply serves as a convenient way to track which threads are able to run at a given moment. A real resource pool would allocate a connection or some other value to the newly active thread, and reclaim the value when the thread is done. Here, it is just used to hold the names of the active threads to show that at most two are running concurrently.\n",
    "\n"
   ]
  },
  {
   "cell_type": "markdown",
   "metadata": {
    "collapsed": true
   },
   "source": [
    "## Thread-specific Data\n",
    "\n",
    "While some resources need to be locked so multiple threads can use them, others need to be protected so that they are hidden from threads that do not own them. The local() class creates an object capable of hiding values from view in separate threads.\n",
    "\n",
    "The attribute local_data.value is not present for any thread until it is set in that thread."
   ]
  },
  {
   "cell_type": "code",
   "execution_count": 47,
   "metadata": {
    "collapsed": false
   },
   "outputs": [
    {
     "name": "stderr",
     "output_type": "stream",
     "text": [
      "[DEBUG] (0         ) Running: ['0']\n",
      "[DEBUG] (1         ) Running: ['0', '1']\n",
      "[DEBUG] (MainThread) No value yet\n",
      "[DEBUG] (MainThread) value=1000\n",
      "[DEBUG] (Thread-60 ) No value yet\n",
      "[DEBUG] (Thread-61 ) No value yet\n",
      "[DEBUG] (Thread-60 ) value=12\n",
      "[DEBUG] (Thread-61 ) value=36\n"
     ]
    }
   ],
   "source": [
    "# threading_local.py\n",
    "import random\n",
    "import threading\n",
    "import logging\n",
    "\n",
    "\n",
    "def show_value(data):\n",
    "    try:\n",
    "        val = data.value\n",
    "    except AttributeError:\n",
    "        logging.debug('No value yet')\n",
    "    else:\n",
    "        logging.debug('value=%s', val)\n",
    "\n",
    "\n",
    "def worker(data):\n",
    "    show_value(data)\n",
    "    data.value = random.randint(1, 100)\n",
    "    show_value(data)\n",
    "\n",
    "\n",
    "logging.basicConfig(\n",
    "    level=logging.DEBUG,\n",
    "    format='(%(threadName)-10s) %(message)s',\n",
    ")\n",
    "\n",
    "local_data = threading.local()\n",
    "show_value(local_data)\n",
    "local_data.value = 1000\n",
    "show_value(local_data)\n",
    "\n",
    "for i in range(2):\n",
    "    t = threading.Thread(target=worker, args=(local_data,))\n",
    "    t.start()"
   ]
  },
  {
   "cell_type": "markdown",
   "metadata": {
    "collapsed": true
   },
   "source": [
    "To initialize the settings so all threads start with the same value, use a subclass and set the attributes in \\__init\\__().\n",
    "\n",
    "\\__init\\__() is invoked on the same object (note the id() value), once in each thread to set the default values."
   ]
  },
  {
   "cell_type": "code",
   "execution_count": 48,
   "metadata": {
    "collapsed": false
   },
   "outputs": [
    {
     "name": "stderr",
     "output_type": "stream",
     "text": [
      "[DEBUG] (0         ) Running: ['1']\n",
      "[DEBUG] (MainThread) Initializing <__main__.MyLocal object at 0x10bf49a08>\n",
      "[DEBUG] (2         ) Running: ['1', '2']\n",
      "[DEBUG] (MainThread) value=1000\n",
      "[DEBUG] (1         ) Running: ['2']\n",
      "[DEBUG] (Thread-62 ) Initializing <__main__.MyLocal object at 0x10bf49a08>\n",
      "[DEBUG] (Thread-63 ) Initializing <__main__.MyLocal object at 0x10bf49a08>\n",
      "[DEBUG] (3         ) Running: ['2', '3']\n",
      "[DEBUG] (Thread-62 ) value=1000\n",
      "[DEBUG] (Thread-63 ) value=1000\n",
      "[DEBUG] (Thread-62 ) value=15\n",
      "[DEBUG] (Thread-63 ) value=65\n",
      "[DEBUG] (2         ) Running: ['3']\n",
      "[DEBUG] (3         ) Running: []\n"
     ]
    }
   ],
   "source": [
    "# threading_local_defaults.py\n",
    "import random\n",
    "import threading\n",
    "import logging\n",
    "\n",
    "\n",
    "def show_value(data):\n",
    "    try:\n",
    "        val = data.value\n",
    "    except AttributeError:\n",
    "        logging.debug('No value yet')\n",
    "    else:\n",
    "        logging.debug('value=%s', val)\n",
    "\n",
    "\n",
    "def worker(data):\n",
    "    show_value(data)\n",
    "    data.value = random.randint(1, 100)\n",
    "    show_value(data)\n",
    "\n",
    "\n",
    "class MyLocal(threading.local):\n",
    "\n",
    "    def __init__(self, value):\n",
    "        super().__init__()\n",
    "        logging.debug('Initializing %r', self)\n",
    "        self.value = value\n",
    "\n",
    "\n",
    "logging.basicConfig(\n",
    "    level=logging.DEBUG,\n",
    "    format='(%(threadName)-10s) %(message)s',\n",
    ")\n",
    "\n",
    "local_data = MyLocal(1000)\n",
    "show_value(local_data)\n",
    "\n",
    "for i in range(2):\n",
    "    t = threading.Thread(target=worker, args=(local_data,))\n",
    "    t.start()\n"
   ]
  }
 ],
 "metadata": {
  "kernelspec": {
   "display_name": "Python 3",
   "language": "python",
   "name": "python3"
  },
  "language_info": {
   "codemirror_mode": {
    "name": "ipython",
    "version": 3
   },
   "file_extension": ".py",
   "mimetype": "text/x-python",
   "name": "python",
   "nbconvert_exporter": "python",
   "pygments_lexer": "ipython3",
   "version": "3.6.0"
  }
 },
 "nbformat": 4,
 "nbformat_minor": 2
}
