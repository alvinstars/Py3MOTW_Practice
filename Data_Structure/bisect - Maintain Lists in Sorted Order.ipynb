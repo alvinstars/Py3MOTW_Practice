{
 "cells": [
  {
   "cell_type": "markdown",
   "metadata": {},
   "source": [
    "# bisect - Maintain Lists in Sorted Order\n",
    "\n",
    "Purpose:\tMaintains a list in sorted order without having to call sort each time an item is added to the list.\n",
    "\n",
    "The bisect module implements an algorithm for inserting elements into a list while maintaining the list in sorted order."
   ]
  },
  {
   "cell_type": "markdown",
   "metadata": {},
   "source": [
    "## Inserting in Sorted Order\n",
    "\n",
    "Here is a simple example in which insort() is used to insert items into a list in sorted order.\n",
    "\n",
    "The first column of the output shows the new random number. The second column shows the position where the number will be inserted into the list. The remainder of each line is the current sorted list."
   ]
  },
  {
   "cell_type": "code",
   "execution_count": 1,
   "metadata": {
    "collapsed": false
   },
   "outputs": [
    {
     "name": "stdout",
     "output_type": "stream",
     "text": [
      "New  Pos  Contents\n",
      "---  ---  --------\n",
      " 14    0 [14]\n",
      " 85    1 [14, 85]\n",
      " 77    1 [14, 77, 85]\n",
      " 26    1 [14, 26, 77, 85]\n",
      " 50    2 [14, 26, 50, 77, 85]\n",
      " 45    2 [14, 26, 45, 50, 77, 85]\n",
      " 66    4 [14, 26, 45, 50, 66, 77, 85]\n",
      " 79    6 [14, 26, 45, 50, 66, 77, 79, 85]\n",
      " 10    0 [10, 14, 26, 45, 50, 66, 77, 79, 85]\n",
      "  3    0 [3, 10, 14, 26, 45, 50, 66, 77, 79, 85]\n",
      " 84    9 [3, 10, 14, 26, 45, 50, 66, 77, 79, 84, 85]\n",
      " 77    8 [3, 10, 14, 26, 45, 50, 66, 77, 77, 79, 84, 85]\n",
      "  1    0 [1, 3, 10, 14, 26, 45, 50, 66, 77, 77, 79, 84, 85]\n"
     ]
    }
   ],
   "source": [
    "# bisect_example.py\n",
    "import bisect\n",
    "\n",
    "# A series of random numbers\n",
    "values = [14, 85, 77, 26, 50, 45, 66, 79, 10, 3, 84, 77, 1]\n",
    "\n",
    "print('New  Pos  Contents')\n",
    "print('---  ---  --------')\n",
    "\n",
    "l = []\n",
    "for i in values:\n",
    "    position = bisect.bisect(l, i)\n",
    "    bisect.insort(l, i)\n",
    "    print('{:3}  {:3}'.format(i, position), l)"
   ]
  },
  {
   "cell_type": "markdown",
   "metadata": {},
   "source": [
    "This is a simple example,. In fact, given the amount of data being manipulated, it might be faster to simply build the list and then sort it once. By contrast, for long lists, significant time and memory savings can be achieved using an insertion sort algorithm such as this, especially when the operation to compare two members of the list requires expensive computation."
   ]
  },
  {
   "cell_type": "markdown",
   "metadata": {},
   "source": [
    "## Handling Duplicates\n",
    "\n",
    "The result set shown previously includes a repeated value, 77. The bisect module provides two ways to handle repeats: New values can be inserted either to the left of existing values, or to the right. The insort() function is actually an alias for insort_right(), which inserts an item after the existing value. The corresponding function insort_left() inserts an item before the existing value."
   ]
  },
  {
   "cell_type": "code",
   "execution_count": 2,
   "metadata": {
    "collapsed": false
   },
   "outputs": [
    {
     "name": "stdout",
     "output_type": "stream",
     "text": [
      "New  Pos  Contents\n",
      "---  ---  --------\n",
      " 14    0 [14]\n",
      " 85    1 [14, 85]\n",
      " 77    1 [14, 77, 85]\n",
      " 26    1 [14, 26, 77, 85]\n",
      " 50    2 [14, 26, 50, 77, 85]\n",
      " 45    2 [14, 26, 45, 50, 77, 85]\n",
      " 66    4 [14, 26, 45, 50, 66, 77, 85]\n",
      " 79    6 [14, 26, 45, 50, 66, 77, 79, 85]\n",
      " 10    0 [10, 14, 26, 45, 50, 66, 77, 79, 85]\n",
      "  3    0 [3, 10, 14, 26, 45, 50, 66, 77, 79, 85]\n",
      " 84    9 [3, 10, 14, 26, 45, 50, 66, 77, 79, 84, 85]\n",
      " 77    7 [3, 10, 14, 26, 45, 50, 66, 77, 77, 79, 84, 85]\n",
      "  1    0 [1, 3, 10, 14, 26, 45, 50, 66, 77, 77, 79, 84, 85]\n"
     ]
    }
   ],
   "source": [
    "# bisect_example2.py\n",
    "import bisect\n",
    "\n",
    "# A series of random numbers\n",
    "values = [14, 85, 77, 26, 50, 45, 66, 79, 10, 3, 84, 77, 1]\n",
    "\n",
    "print('New  Pos  Contents')\n",
    "print('---  ---  --------')\n",
    "\n",
    "# Use bisect_left and insort_left.\n",
    "l = []\n",
    "for i in values:\n",
    "    position = bisect.bisect_left(l, i)\n",
    "    bisect.insort_left(l, i)\n",
    "    print('{:3}  {:3}'.format(i, position), l)"
   ]
  },
  {
   "cell_type": "markdown",
   "metadata": {},
   "source": [
    "When the same data is manipulated using bisect_left() and insort_left(), the results are the same sorted list but the insert positions are different for the duplicate values."
   ]
  }
 ],
 "metadata": {
  "kernelspec": {
   "display_name": "Python 3",
   "language": "python",
   "name": "python3"
  },
  "language_info": {
   "codemirror_mode": {
    "name": "ipython",
    "version": 3
   },
   "file_extension": ".py",
   "mimetype": "text/x-python",
   "name": "python",
   "nbconvert_exporter": "python",
   "pygments_lexer": "ipython3",
   "version": "3.5.2"
  }
 },
 "nbformat": 4,
 "nbformat_minor": 2
}
