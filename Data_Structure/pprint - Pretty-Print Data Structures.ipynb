{
 "cells": [
  {
   "cell_type": "markdown",
   "metadata": {},
   "source": [
    "# pprint - Pretty-Print Data Structures\n",
    "Purpose:\tPretty-print data structures\n",
    "\n",
    "The pprint module contains a “pretty printer” for producing aesthetically pleasing views of data structures. The formatter produces representations of data structures that can be parsed correctly by the interpreter, and that are also easy for a human to read. The output is kept on a single line, if possible, and indented when split across multiple lines."
   ]
  },
  {
   "cell_type": "code",
   "execution_count": 1,
   "metadata": {
    "collapsed": true
   },
   "outputs": [],
   "source": [
    "# pprint_data.py\n",
    "data = [\n",
    "    (1, {'a': 'A', 'b': 'B', 'c': 'C', 'd': 'D'}),\n",
    "    (2, {'e': 'E', 'f': 'F', 'g': 'G', 'h': 'H',\n",
    "         'i': 'I', 'j': 'J', 'k': 'K', 'l': 'L'}),\n",
    "    (3, ['m', 'n']),\n",
    "    (4, ['o', 'p', 'q']),\n",
    "    (5, ['r', 's', 't''u', 'v', 'x', 'y', 'z']),\n",
    "]"
   ]
  },
  {
   "cell_type": "markdown",
   "metadata": {},
   "source": [
    "## Printing\n",
    "\n",
    "The simplest way to use the module is through the pprint() function.\n",
    "\n",
    "pprint() formats an object and writes it to the data stream passed in as an argument (or sys.stdout by default)."
   ]
  },
  {
   "cell_type": "code",
   "execution_count": 2,
   "metadata": {
    "collapsed": false
   },
   "outputs": [
    {
     "name": "stdout",
     "output_type": "stream",
     "text": [
      "PRINT:\n",
      "[(1, {'d': 'D', 'a': 'A', 'b': 'B', 'c': 'C'}), (2, {'h': 'H', 'e': 'E', 'l': 'L', 'k': 'K', 'f': 'F', 'j': 'J', 'g': 'G', 'i': 'I'}), (3, ['m', 'n']), (4, ['o', 'p', 'q']), (5, ['r', 's', 'tu', 'v', 'x', 'y', 'z'])]\n",
      "\n",
      "PPRINT:\n",
      "[(1, {'a': 'A', 'b': 'B', 'c': 'C', 'd': 'D'}),\n",
      " (2,\n",
      "  {'e': 'E',\n",
      "   'f': 'F',\n",
      "   'g': 'G',\n",
      "   'h': 'H',\n",
      "   'i': 'I',\n",
      "   'j': 'J',\n",
      "   'k': 'K',\n",
      "   'l': 'L'}),\n",
      " (3, ['m', 'n']),\n",
      " (4, ['o', 'p', 'q']),\n",
      " (5, ['r', 's', 'tu', 'v', 'x', 'y', 'z'])]\n"
     ]
    }
   ],
   "source": [
    "# pprint_pprint.py\n",
    "from pprint import pprint\n",
    "\n",
    "from pprint_data import data\n",
    "\n",
    "print('PRINT:')\n",
    "print(data)\n",
    "print()\n",
    "print('PPRINT:')\n",
    "pprint(data)"
   ]
  },
  {
   "cell_type": "markdown",
   "metadata": {},
   "source": [
    "## Formatting\n",
    "\n",
    "To format a data structure without writing it directly to a stream (for example, for logging), use pformat() to build a string representation.\n",
    "\n",
    "The formatted string can then be printed or logged independently."
   ]
  },
  {
   "cell_type": "code",
   "execution_count": 3,
   "metadata": {
    "collapsed": false
   },
   "outputs": [
    {
     "name": "stderr",
     "output_type": "stream",
     "text": [
      "DEBUG    Logging pformatted data\n",
      "DEBUG    [(1, {'a': 'A', 'b': 'B', 'c': 'C', 'd': 'D'}),\n",
      "DEBUG     (2,\n",
      "DEBUG      {'e': 'E',\n",
      "DEBUG       'f': 'F',\n",
      "DEBUG       'g': 'G',\n",
      "DEBUG       'h': 'H',\n",
      "DEBUG       'i': 'I',\n",
      "DEBUG       'j': 'J',\n",
      "DEBUG       'k': 'K',\n",
      "DEBUG       'l': 'L'}),\n",
      "DEBUG     (3, ['m', 'n']),\n",
      "DEBUG     (4, ['o', 'p', 'q']),\n",
      "DEBUG     (5, ['r', 's', 'tu', 'v', 'x', 'y', 'z'])]\n"
     ]
    }
   ],
   "source": [
    "# pprint_pformat.py\n",
    "import logging\n",
    "from pprint import pformat\n",
    "from pprint_data import data\n",
    "\n",
    "logging.basicConfig(\n",
    "    level=logging.DEBUG,\n",
    "    format='%(levelname)-8s %(message)s',\n",
    ")\n",
    "\n",
    "logging.debug('Logging pformatted data')\n",
    "formatted = pformat(data)\n",
    "for line in formatted.splitlines():\n",
    "    logging.debug(line.rstrip())"
   ]
  },
  {
   "cell_type": "markdown",
   "metadata": {},
   "source": [
    "## Arbitrary Classes\n",
    "\n",
    "The PrettyPrinter class used by pprint() can also work with custom classes, if they define a \\__repr__() method.\n",
    "\n",
    "The representations of the nested objects are combined by the PrettyPrinter to return the full string representation."
   ]
  },
  {
   "cell_type": "code",
   "execution_count": 4,
   "metadata": {
    "collapsed": false
   },
   "outputs": [
    {
     "name": "stdout",
     "output_type": "stream",
     "text": [
      "[node('node-1', []),\n",
      " node('node-2', [node('node-2-1', [])]),\n",
      " node('node-3', [node('node-3-1', [])])]\n"
     ]
    }
   ],
   "source": [
    "# pprint_arbitrary_object.py\n",
    "from pprint import pprint\n",
    "\n",
    "\n",
    "class node:\n",
    "\n",
    "    def __init__(self, name, contents=[]):\n",
    "        self.name = name\n",
    "        self.contents = contents[:]\n",
    "\n",
    "    def __repr__(self):\n",
    "        return (\n",
    "            'node(' + repr(self.name) + ', ' +\n",
    "            repr(self.contents) + ')'\n",
    "        )\n",
    "\n",
    "\n",
    "trees = [\n",
    "    node('node-1'),\n",
    "    node('node-2', [node('node-2-1')]),\n",
    "    node('node-3', [node('node-3-1')]),\n",
    "]\n",
    "pprint(trees)"
   ]
  },
  {
   "cell_type": "markdown",
   "metadata": {},
   "source": [
    "## Recursion\n",
    "\n",
    "Recursive data structures are represented with a reference to the original source of the data, given in the format <Recursion on typename with id=number>.\n",
    "\n",
    "In this example, the list local_data is added to itself, creating a recursive reference."
   ]
  },
  {
   "cell_type": "code",
   "execution_count": 5,
   "metadata": {
    "collapsed": false
   },
   "outputs": [
    {
     "name": "stdout",
     "output_type": "stream",
     "text": [
      "id(local_data) => 4369685704\n",
      "['a', 'b', 1, 2, [...]]\n",
      "['a', 'b', 1, 2, <Recursion on list with id=4369685704>]\n"
     ]
    }
   ],
   "source": [
    "# pprint_recursion.py\n",
    "from pprint import pprint\n",
    "\n",
    "local_data = ['a', 'b', 1, 2]\n",
    "local_data.append(local_data)\n",
    "\n",
    "print('id(local_data) =>', id(local_data))\n",
    "\n",
    "print(local_data)\n",
    "\n",
    "pprint(local_data)"
   ]
  },
  {
   "cell_type": "markdown",
   "metadata": {},
   "source": [
    "## Limiting Nested Output\n",
    "\n",
    "For very deep data structures, it may not be desirable for the output to include all of the details. The data may not be formatted properly, the formatted text might be too large to manage, or some of the data may be extraneous.\n",
    "\n",
    "Use the depth argument to control how far down into the nested data structure the pretty printer recurses. Levels not included in the output are represented by ellipsis."
   ]
  },
  {
   "cell_type": "code",
   "execution_count": 6,
   "metadata": {
    "collapsed": false
   },
   "outputs": [
    {
     "name": "stdout",
     "output_type": "stream",
     "text": [
      "[(...), (...), (...), (...), (...)]\n",
      "[(1, {...}), (2, {...}), (3, [...]), (4, [...]), (5, [...])]\n"
     ]
    }
   ],
   "source": [
    "# pprint_depth.py\n",
    "from pprint import pprint\n",
    "\n",
    "from pprint_data import data\n",
    "\n",
    "pprint(data, depth=1)\n",
    "pprint(data, depth=2)"
   ]
  },
  {
   "cell_type": "markdown",
   "metadata": {},
   "source": [
    "## Controlling Output Width\n",
    "\n",
    "The default output width for the formatted text is 80 columns. To adjust that width, use the width argument to pprint().\n",
    "\n",
    "When the width is too small to accommodate the formatted data structure, the lines are not truncated or wrapped if doing so would introduce invalid syntax."
   ]
  },
  {
   "cell_type": "code",
   "execution_count": 7,
   "metadata": {
    "collapsed": false
   },
   "outputs": [
    {
     "name": "stdout",
     "output_type": "stream",
     "text": [
      "WIDTH = 80\n",
      "[(1, {'a': 'A', 'b': 'B', 'c': 'C', 'd': 'D'}),\n",
      " (2,\n",
      "  {'e': 'E',\n",
      "   'f': 'F',\n",
      "   'g': 'G',\n",
      "   'h': 'H',\n",
      "   'i': 'I',\n",
      "   'j': 'J',\n",
      "   'k': 'K',\n",
      "   'l': 'L'}),\n",
      " (3, ['m', 'n']),\n",
      " (4, ['o', 'p', 'q']),\n",
      " (5, ['r', 's', 'tu', 'v', 'x', 'y', 'z'])]\n",
      "\n",
      "WIDTH = 5\n",
      "[(1,\n",
      "  {'a': 'A',\n",
      "   'b': 'B',\n",
      "   'c': 'C',\n",
      "   'd': 'D'}),\n",
      " (2,\n",
      "  {'e': 'E',\n",
      "   'f': 'F',\n",
      "   'g': 'G',\n",
      "   'h': 'H',\n",
      "   'i': 'I',\n",
      "   'j': 'J',\n",
      "   'k': 'K',\n",
      "   'l': 'L'}),\n",
      " (3,\n",
      "  ['m',\n",
      "   'n']),\n",
      " (4,\n",
      "  ['o',\n",
      "   'p',\n",
      "   'q']),\n",
      " (5,\n",
      "  ['r',\n",
      "   's',\n",
      "   'tu',\n",
      "   'v',\n",
      "   'x',\n",
      "   'y',\n",
      "   'z'])]\n",
      "\n"
     ]
    }
   ],
   "source": [
    "# pprint_width.py\n",
    "from pprint import pprint\n",
    "\n",
    "from pprint_data import data\n",
    "\n",
    "for width in [80, 5]:\n",
    "    print('WIDTH =', width)\n",
    "    pprint(data, width=width)\n",
    "    print()"
   ]
  },
  {
   "cell_type": "markdown",
   "metadata": {},
   "source": [
    "The compact flag tells pprint() to try to fit more data on each individual line, rather than spreading complex data structures across lines.\n",
    "\n",
    "This example shows that when a data structure does not fit on a line, it is split up (as with the second item in the data list). When multiple elements can fit on a line, as with the third and fourth members, they are placed that way.\n"
   ]
  },
  {
   "cell_type": "code",
   "execution_count": 8,
   "metadata": {
    "collapsed": false
   },
   "outputs": [
    {
     "name": "stdout",
     "output_type": "stream",
     "text": [
      "DEFAULT:\n",
      "[(1, {'a': 'A', 'b': 'B', 'c': 'C', 'd': 'D'}),\n",
      " (2,\n",
      "  {'e': 'E',\n",
      "   'f': 'F',\n",
      "   'g': 'G',\n",
      "   'h': 'H',\n",
      "   'i': 'I',\n",
      "   'j': 'J',\n",
      "   'k': 'K',\n",
      "   'l': 'L'}),\n",
      " (3, ['m', 'n']),\n",
      " (4, ['o', 'p', 'q']),\n",
      " (5, ['r', 's', 'tu', 'v', 'x', 'y', 'z'])]\n",
      "\n",
      "COMPACT:\n",
      "[(1, {'a': 'A', 'b': 'B', 'c': 'C', 'd': 'D'}),\n",
      " (2,\n",
      "  {'e': 'E',\n",
      "   'f': 'F',\n",
      "   'g': 'G',\n",
      "   'h': 'H',\n",
      "   'i': 'I',\n",
      "   'j': 'J',\n",
      "   'k': 'K',\n",
      "   'l': 'L'}),\n",
      " (3, ['m', 'n']), (4, ['o', 'p', 'q']),\n",
      " (5, ['r', 's', 'tu', 'v', 'x', 'y', 'z'])]\n"
     ]
    }
   ],
   "source": [
    "# pprint_compact.py\n",
    "from pprint import pprint\n",
    "\n",
    "from pprint_data import data\n",
    "\n",
    "print('DEFAULT:')\n",
    "pprint(data, compact=False)\n",
    "print('\\nCOMPACT:')\n",
    "pprint(data, compact=True)"
   ]
  }
 ],
 "metadata": {
  "kernelspec": {
   "display_name": "Python 3",
   "language": "python",
   "name": "python3"
  },
  "language_info": {
   "codemirror_mode": {
    "name": "ipython",
    "version": 3
   },
   "file_extension": ".py",
   "mimetype": "text/x-python",
   "name": "python",
   "nbconvert_exporter": "python",
   "pygments_lexer": "ipython3",
   "version": "3.5.2"
  }
 },
 "nbformat": 4,
 "nbformat_minor": 2
}
