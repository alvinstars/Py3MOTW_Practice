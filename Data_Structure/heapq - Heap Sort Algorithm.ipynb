{
 "cells": [
  {
   "cell_type": "markdown",
   "metadata": {},
   "source": [
    "# heapq - Heap Sort Algorithm\n",
    "\n",
    "Purpose:\tThe heapq implements a min-heap sort algorithm suitable for use with Python’s lists.\n",
    "\n",
    "A heap is a tree-like data structure where the child nodes have a sort-order relationship with the parents. Binary heaps can be represented using a list or array organized so that the children of element N are at positions 2*N+1 and 2*N+2 (for zero-based indexes). This layout makes it possible to rearrange heaps in place, so it is not necessary to reallocate as much memory when adding or removing items.\n",
    "\n",
    "A max-heap ensures that the parent is larger than or equal to both of its children. A min-heap requires that the parent be less than or equal to its children. \n",
    "\n",
    "Python’s heapq module implements a min-heap."
   ]
  },
  {
   "cell_type": "markdown",
   "metadata": {},
   "source": [
    "#### Official python 3 doc\n",
    "https://docs.python.org/3.5/library/heapq.html\n",
    "\n",
    "This module provides an implementation of the heap queue algorithm, also known as the priority queue algorithm.\n",
    "\n",
    "Heaps are binary trees for which every parent node has a value less than or equal to any of its children. This implementation uses arrays for which heap[k] <= heap[2*k+1] and heap[k] <= heap[2*k+2] for all k, counting elements from zero. For the sake of comparison, non-existing elements are considered to be infinite. The interesting property of a heap is that its smallest element is always the root, heap[0].\n",
    "\n",
    "The API below differs from textbook heap algorithms in two aspects: (a) We use zero-based indexing. This makes the relationship between the index for a node and the indexes for its children slightly less obvious, but is more suitable since Python uses zero-based indexing. (b) Our pop method returns the smallest item, not the largest (called a “min heap” in textbooks; a “max heap” is more common in texts because of its suitability for in-place sorting).\n",
    "\n",
    "These two make it possible to view the heap as a regular Python list without surprises: heap[0] is the smallest item, and heap.sort() maintains the heap invariant!\n",
    "\n",
    "To create a heap, use a list initialized to [], or you can transform a populated list into a heap via function heapify()."
   ]
  },
  {
   "cell_type": "markdown",
   "metadata": {},
   "source": [
    "## Example Data"
   ]
  },
  {
   "cell_type": "code",
   "execution_count": 1,
   "metadata": {
    "collapsed": true
   },
   "outputs": [],
   "source": [
    "# heapq_heapdata.py\n",
    "# This data was generated with the random module.\n",
    "\n",
    "# data = [19, 9, 4, 10, 11, 12, 8]"
   ]
  },
  {
   "cell_type": "code",
   "execution_count": 2,
   "metadata": {
    "collapsed": true
   },
   "outputs": [],
   "source": [
    "# heapq_showtree.py\n",
    "import math\n",
    "from io import StringIO\n",
    "\n",
    "\n",
    "def show_tree(tree, total_width=36, fill=' '):\n",
    "    \"\"\"Pretty-print a tree.\"\"\"\n",
    "    output = StringIO()\n",
    "    last_row = -1\n",
    "    for i, n in enumerate(tree):\n",
    "        if i:\n",
    "            row = int(math.floor(math.log(i + 1, 2)))\n",
    "        else:\n",
    "            row = 0\n",
    "        if row != last_row:\n",
    "            output.write('\\n')\n",
    "        columns = 2 ** row\n",
    "        col_width = int(math.floor(total_width / columns))\n",
    "        output.write(str(n).center(col_width, fill))\n",
    "        last_row = row\n",
    "    print(output.getvalue())\n",
    "    print('-' * total_width)\n",
    "    print()"
   ]
  },
  {
   "cell_type": "markdown",
   "metadata": {},
   "source": [
    "## Creating a Heap\n",
    "\n",
    "There are two basic ways to create a heap, heappush() and heapify()."
   ]
  },
  {
   "cell_type": "code",
   "execution_count": 3,
   "metadata": {
    "collapsed": false
   },
   "outputs": [
    {
     "name": "stdout",
     "output_type": "stream",
     "text": [
      "random : [19, 9, 4, 10, 11, 12, 8]\n",
      "\n",
      "add  19:\n",
      "\n",
      "                 19                 \n",
      "------------------------------------\n",
      "\n",
      "add   9:\n",
      "\n",
      "                 9                  \n",
      "        19        \n",
      "------------------------------------\n",
      "\n",
      "add   4:\n",
      "\n",
      "                 4                  \n",
      "        19                9         \n",
      "------------------------------------\n",
      "\n",
      "add  10:\n",
      "\n",
      "                 4                  \n",
      "        10                9         \n",
      "    19   \n",
      "------------------------------------\n",
      "\n",
      "add  11:\n",
      "\n",
      "                 4                  \n",
      "        10                9         \n",
      "    19       11   \n",
      "------------------------------------\n",
      "\n",
      "add  12:\n",
      "\n",
      "                 4                  \n",
      "        10                9         \n",
      "    19       11       12   \n",
      "------------------------------------\n",
      "\n",
      "add   8:\n",
      "\n",
      "                 4                  \n",
      "        10                8         \n",
      "    19       11       12       9    \n",
      "------------------------------------\n",
      "\n"
     ]
    }
   ],
   "source": [
    "# heapq_heappush.py\n",
    "import heapq\n",
    "from example.heapq_showtree import show_tree\n",
    "from example.heapq_heapdata import data\n",
    "\n",
    "heap = []\n",
    "print('random :', data)\n",
    "print()\n",
    "\n",
    "for n in data:\n",
    "    print('add {:>3}:'.format(n))\n",
    "    heapq.heappush(heap, n)\n",
    "    show_tree(heap)"
   ]
  },
  {
   "cell_type": "markdown",
   "metadata": {},
   "source": [
    "If the data is already in memory, it is more efficient to use heapify() to rearrange the items of the list in place."
   ]
  },
  {
   "cell_type": "code",
   "execution_count": 4,
   "metadata": {
    "collapsed": false
   },
   "outputs": [
    {
     "name": "stdout",
     "output_type": "stream",
     "text": [
      "random    : [19, 9, 4, 10, 11, 12, 8]\n",
      "heapified :\n",
      "\n",
      "                 4                  \n",
      "        9                 8         \n",
      "    10       11       12       19   \n",
      "------------------------------------\n",
      "\n"
     ]
    }
   ],
   "source": [
    "# heapq_heapify.py\n",
    "import heapq\n",
    "from example.heapq_showtree import show_tree\n",
    "from example.heapq_heapdata import data \n",
    "\n",
    "print('random    :', data)\n",
    "heapq.heapify(data)\n",
    "print('heapified :')\n",
    "show_tree(data)"
   ]
  },
  {
   "cell_type": "markdown",
   "metadata": {},
   "source": [
    "## Accessing Contents of a Heap\n",
    "\n",
    "Once the heap is organized correctly, use heappop() to remove the element with the lowest value."
   ]
  },
  {
   "cell_type": "code",
   "execution_count": 5,
   "metadata": {
    "collapsed": false
   },
   "outputs": [
    {
     "name": "stdout",
     "output_type": "stream",
     "text": [
      "random    : [4, 9, 8, 10, 11, 12, 19]\n",
      "heapified :\n",
      "\n",
      "                 4                  \n",
      "        9                 8         \n",
      "    10       11       12       19   \n",
      "------------------------------------\n",
      "\n",
      "pop      4:\n",
      "\n",
      "                 8                  \n",
      "        9                 12        \n",
      "    10       11       19   \n",
      "------------------------------------\n",
      "\n",
      "pop      8:\n",
      "\n",
      "                 9                  \n",
      "        10                12        \n",
      "    19       11   \n",
      "------------------------------------\n",
      "\n"
     ]
    }
   ],
   "source": [
    "# heapq_heappop.py\n",
    "import heapq\n",
    "from example.heapq_showtree import show_tree\n",
    "from example.heapq_heapdata import data\n",
    "\n",
    "print('random    :', data)\n",
    "heapq.heapify(data)\n",
    "print('heapified :')\n",
    "show_tree(data)\n",
    "print\n",
    "\n",
    "for i in range(2):\n",
    "    smallest = heapq.heappop(data)\n",
    "    print('pop    {:>3}:'.format(smallest))\n",
    "    show_tree(data)"
   ]
  },
  {
   "cell_type": "markdown",
   "metadata": {},
   "source": [
    "To remove existing elements and replace them with new values in a single operation, use heapreplace()."
   ]
  },
  {
   "cell_type": "code",
   "execution_count": 6,
   "metadata": {
    "collapsed": false
   },
   "outputs": [
    {
     "name": "stdout",
     "output_type": "stream",
     "text": [
      "start:\n",
      "\n",
      "                 9                  \n",
      "        10                12        \n",
      "    19       11   \n",
      "------------------------------------\n",
      "\n",
      "replace  9 with  0:\n",
      "\n",
      "                 0                  \n",
      "        10                12        \n",
      "    19       11   \n",
      "------------------------------------\n",
      "\n",
      "replace  0 with 13:\n",
      "\n",
      "                 10                 \n",
      "        11                12        \n",
      "    19       13   \n",
      "------------------------------------\n",
      "\n"
     ]
    }
   ],
   "source": [
    "# heapq_heapreplace.py\n",
    "import heapq\n",
    "import importlib\n",
    "\n",
    "from example.heapq_heapdata import data\n",
    "\n",
    "heapq_heapdata_mod = importlib.util.find_spec('example.heapq_heapdata').loader\n",
    "heapq_heapdata_mod.load_module()\n",
    "\n",
    "heapq.heapify(data)\n",
    "print('start:')\n",
    "show_tree(data)\n",
    "\n",
    "for n in [0, 13]:\n",
    "    smallest = heapq.heapreplace(data, n)\n",
    "    print('replace {:>2} with {:>2}:'.format(smallest, n))\n",
    "    show_tree(data)"
   ]
  },
  {
   "cell_type": "markdown",
   "metadata": {},
   "source": [
    "## Data Extremes From a Heap\n",
    "\n",
    "heapq also includes two functions to examine an iterable to find a range of the largest or smallest values it contains.\n",
    "\n",
    "Using nlargest() and nsmallest() are only efficient for relatively small values of n > 1, but can still come in handy in a few cases."
   ]
  },
  {
   "cell_type": "code",
   "execution_count": 7,
   "metadata": {
    "collapsed": false
   },
   "outputs": [
    {
     "name": "stdout",
     "output_type": "stream",
     "text": [
      "all       : [19, 9, 4, 10, 11, 12, 8]\n",
      "3 largest : [19, 12, 11]\n",
      "from sort : [19, 12, 11]\n",
      "3 smallest: [4, 8, 9]\n",
      "from sort : [4, 8, 9]\n"
     ]
    }
   ],
   "source": [
    "# heapq_extremes.py\n",
    "import heapq\n",
    "import importlib\n",
    "\n",
    "from example.heapq_heapdata import data\n",
    "\n",
    "heapq_heapdata_mod = importlib.util.find_spec('example.heapq_heapdata').loader\n",
    "heapq_heapdata_mod.load_module()\n",
    "\n",
    "print('all       :', data)\n",
    "print('3 largest :', heapq.nlargest(3, data))\n",
    "print('from sort :', list(reversed(sorted(data)[-3:])))\n",
    "print('3 smallest:', heapq.nsmallest(3, data))\n",
    "print('from sort :', sorted(data)[:3])"
   ]
  },
  {
   "cell_type": "markdown",
   "metadata": {},
   "source": [
    "## Efficiently Merging Sorted Sequences\n",
    "\n",
    "Combining several sorted sequences into one new sequence is easy for small data sets.\n",
    "\n",
    "##### list(sorted(itertools.chain(*data)))\n",
    "\n",
    "For larger data sets, this technique can use a considerable amount of memory. \n",
    "\n",
    "Instead of sorting the entire combined sequence, merge() uses a heap to generate a new sequence one item at a time, and determine the next item using a fixed amount of memory."
   ]
  },
  {
   "cell_type": "code",
   "execution_count": 8,
   "metadata": {
    "collapsed": false
   },
   "outputs": [
    {
     "name": "stdout",
     "output_type": "stream",
     "text": [
      "data : [[33, 58, 71, 88, 95], [10, 11, 17, 38, 91], [13, 18, 39, 61, 63], [20, 27, 31, 42, 45]]\n",
      "0: [33, 58, 71, 88, 95]\n",
      "1: [10, 11, 17, 38, 91]\n",
      "2: [13, 18, 39, 61, 63]\n",
      "3: [20, 27, 31, 42, 45]\n",
      "\n",
      "Merged:\n",
      "10 11 13 17 18 20 27 31 33 38 39 42 45 58 61 63 71 88 91 95 \n"
     ]
    }
   ],
   "source": [
    "# heapq_merge.py\n",
    "import heapq\n",
    "import random\n",
    "\n",
    "\n",
    "random.seed(2016)\n",
    "\n",
    "data = []\n",
    "for i in range(4):\n",
    "    new_data = list(random.sample(range(1, 101), 5))\n",
    "    new_data.sort()\n",
    "    data.append(new_data)\n",
    "    \n",
    "print('data :', data)\n",
    "    \n",
    "for i, d in enumerate(data):\n",
    "    print('{}: {}'.format(i, d))\n",
    "\n",
    "print('\\nMerged:')\n",
    "for i in heapq.merge(*data):\n",
    "    print(i, end=' ')\n",
    "print()"
   ]
  },
  {
   "cell_type": "markdown",
   "metadata": {},
   "source": [
    "Because the implementation of merge() uses a heap, it consumes memory based on the number of sequences being merged, rather than the number of items in those sequences."
   ]
  }
 ],
 "metadata": {
  "kernelspec": {
   "display_name": "Python 3",
   "language": "python",
   "name": "python3"
  },
  "language_info": {
   "codemirror_mode": {
    "name": "ipython",
    "version": 3
   },
   "file_extension": ".py",
   "mimetype": "text/x-python",
   "name": "python",
   "nbconvert_exporter": "python",
   "pygments_lexer": "ipython3",
   "version": "3.5.2"
  }
 },
 "nbformat": 4,
 "nbformat_minor": 2
}
