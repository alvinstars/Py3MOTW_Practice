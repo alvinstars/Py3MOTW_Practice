{
 "cells": [
  {
   "cell_type": "markdown",
   "metadata": {},
   "source": [
    "# array — Sequence of Fixed-type Data\n",
    "\n",
    "Purpose:\tManage sequences of fixed-type numerical data efficiently.\n",
    "\n",
    "The array module defines a sequence data structure that looks very much like a list, except that all of the members have to be of the same primitive type. The types supported are all numeric or other fixed-size primitive types such as bytes."
   ]
  },
  {
   "cell_type": "markdown",
   "metadata": {},
   "source": [
    "| Code | Type               | Minimum size (bytes) |\n",
    "|------|--------------------|----------------------|\n",
    "| b    | int                | 1                    |\n",
    "| B    | int                | 1                    |\n",
    "| h    | signed short       | 2                    |\n",
    "| H    | unsigned short     | 2                    |\n",
    "| i    | signed int         | 2                    |\n",
    "| I    | unsigned int       | 2                    |\n",
    "| l    | signed long        | 4                    |\n",
    "| L    | unsigned long      | 4                    |\n",
    "| q    | signed long long   | 8                    |\n",
    "| Q    | unsigned long long | 8                    |\n",
    "| f    | float              | 4                    |\n",
    "| d    | double float       | 8                    |"
   ]
  },
  {
   "cell_type": "markdown",
   "metadata": {},
   "source": [
    "## Initialization\n",
    "\n",
    "An array is instantiated with an argument describing the type of data to be allowed, and possibly an initial sequence of data to store in the array."
   ]
  },
  {
   "cell_type": "code",
   "execution_count": 7,
   "metadata": {
    "collapsed": false
   },
   "outputs": [
    {
     "name": "stdout",
     "output_type": "stream",
     "text": [
      "As byte string: b'This is the array.'\n",
      "As array      : array('b', [84, 104, 105, 115, 32, 105, 115, 32, 116, 104, 101, 32, 97, 114, 114, 97, 121, 46])\n",
      "As hex        : b'54686973206973207468652061727261792e'\n"
     ]
    }
   ],
   "source": [
    "# array_string.py\n",
    "\n",
    "import array\n",
    "import binascii\n",
    "\n",
    "s = b'This is the array.'\n",
    "a = array.array('b', s)\n",
    "\n",
    "print('As byte string:', s)\n",
    "print('As array      :', a)\n",
    "print('As hex        :', binascii.hexlify(a))"
   ]
  },
  {
   "cell_type": "markdown",
   "metadata": {},
   "source": [
    "## Manipulating Arrays\n",
    "\n",
    "An array can be extended and otherwise manipulated in the same ways as other Python sequences."
   ]
  },
  {
   "cell_type": "code",
   "execution_count": 8,
   "metadata": {
    "collapsed": false
   },
   "outputs": [
    {
     "name": "stdout",
     "output_type": "stream",
     "text": [
      "Initial : array('i', [0, 1, 2])\n",
      "Extended: array('i', [0, 1, 2, 0, 1, 2])\n",
      "Slice   : array('i', [2, 0, 1])\n",
      "Iterator:\n",
      "[(0, 0), (1, 1), (2, 2), (3, 0), (4, 1), (5, 2)]\n"
     ]
    }
   ],
   "source": [
    "# array_sequence.py\n",
    "import array\n",
    "import pprint\n",
    "\n",
    "a = array.array('i', range(3))\n",
    "print('Initial :', a)\n",
    "\n",
    "a.extend(range(3))\n",
    "print('Extended:', a)\n",
    "\n",
    "print('Slice   :', a[2:5])\n",
    "\n",
    "print('Iterator:')\n",
    "print(list(enumerate(a)))"
   ]
  },
  {
   "cell_type": "markdown",
   "metadata": {},
   "source": [
    "## Arrays and Files\n",
    "\n",
    "The contents of an array can be written to and read from files using built-in methods coded efficiently for that purpose."
   ]
  },
  {
   "cell_type": "code",
   "execution_count": 10,
   "metadata": {
    "collapsed": false
   },
   "outputs": [
    {
     "name": "stdout",
     "output_type": "stream",
     "text": [
      "A1: array('i', [0, 1, 2, 3, 4])\n",
      "Raw Contents: b'0000000001000000020000000300000004000000'\n",
      "A2: array('i', [0, 1, 2, 3, 4])\n"
     ]
    }
   ],
   "source": [
    "# array_file.py\n",
    "import array\n",
    "import binascii\n",
    "import tempfile\n",
    "\n",
    "a = array.array('i', range(5))\n",
    "print('A1:', a)\n",
    "\n",
    "# Write the array of numbers to a temporary file\n",
    "output = tempfile.NamedTemporaryFile()\n",
    "a.tofile(output.file)  # must pass an *actual* file\n",
    "output.flush()\n",
    "\n",
    "# Read the raw data\n",
    "with open(output.name, 'rb') as input:\n",
    "    raw_data = input.read()\n",
    "    print('Raw Contents:', binascii.hexlify(raw_data))\n",
    "\n",
    "    # Read the data into an array\n",
    "    input.seek(0)\n",
    "    a2 = array.array('i')\n",
    "    a2.fromfile(input, len(a))\n",
    "    print('A2:', a2)"
   ]
  },
  {
   "cell_type": "markdown",
   "metadata": {},
   "source": [
    "This example illustrates reading the data “raw”, directly from the binary file, versus reading it into a new array and converting the bytes to the appropriate types.\n",
    "\n",
    "* tofile() uses tobytes() to format the data \n",
    "* fromfile() uses frombytes() to convert it back to an array instance.\n",
    "\n",
    "Both tobytes() and frombytes() work on byte strings, not unicode strings."
   ]
  },
  {
   "cell_type": "code",
   "execution_count": 11,
   "metadata": {
    "collapsed": false
   },
   "outputs": [
    {
     "name": "stdout",
     "output_type": "stream",
     "text": [
      "A1: array('i', [0, 1, 2, 3, 4])\n",
      "Bytes: b'0000000001000000020000000300000004000000'\n",
      "A2: array('i', [0, 1, 2, 3, 4])\n"
     ]
    }
   ],
   "source": [
    "# array_tobytes.py\n",
    "import array\n",
    "import binascii\n",
    "\n",
    "a = array.array('i', range(5))\n",
    "print('A1:', a)\n",
    "\n",
    "as_bytes = a.tobytes()\n",
    "print('Bytes:', binascii.hexlify(as_bytes))\n",
    "\n",
    "a2 = array.array('i')\n",
    "a2.frombytes(as_bytes)\n",
    "print('A2:', a2)"
   ]
  },
  {
   "cell_type": "markdown",
   "metadata": {},
   "source": [
    "## Alternate Byte Ordering\n",
    "\n",
    "If the data in the array is not in the native byte order, or needs to be swapped before being sent to a system with a different byte order (or over the network), it is possible to convert the entire array without iterating over the elements from Python."
   ]
  },
  {
   "cell_type": "code",
   "execution_count": 14,
   "metadata": {
    "collapsed": false
   },
   "outputs": [
    {
     "name": "stdout",
     "output_type": "stream",
     "text": [
      "      A1 hex           A1       A2 hex           A2\n",
      "------------ ------------ ------------ ------------\n",
      " b'78563412'    305419896  b'12345678'   2018915346\n",
      " b'79563412'    305419897  b'12345679'   2035692562\n",
      " b'7a563412'    305419898  b'1234567a'   2052469778\n",
      " b'7b563412'    305419899  b'1234567b'   2069246994\n",
      " b'7c563412'    305419900  b'1234567c'   2086024210\n"
     ]
    }
   ],
   "source": [
    "# array_byteswap.py\n",
    "import array\n",
    "import binascii\n",
    "\n",
    "\n",
    "def to_hex(a):\n",
    "    chars_per_item = a.itemsize * 2  # 2 hex digits\n",
    "    hex_version = binascii.hexlify(a)\n",
    "    num_chunks = len(hex_version) // chars_per_item\n",
    "    for i in range(num_chunks):\n",
    "        start = i * chars_per_item\n",
    "        end = start + chars_per_item\n",
    "        yield hex_version[start:end]\n",
    "\n",
    "start = int('0x12345678', 16)\n",
    "end = start + 5\n",
    "a1 = array.array('i', range(start, end))\n",
    "a2 = array.array('i', range(start, end))\n",
    "a2.byteswap()\n",
    "\n",
    "fmt = '{:>12} {:>12} {:>12} {:>12}'\n",
    "print(fmt.format('A1 hex', 'A1', 'A2 hex', 'A2'))\n",
    "print(fmt.format('-' * 12, '-' * 12, '-' * 12, '-' * 12))\n",
    "fmt = '{!r:>12} {:12} {!r:>12} {:12}'\n",
    "for values in zip(to_hex(a1), a1, to_hex(a2), a2):\n",
    "    print(fmt.format(*values))"
   ]
  }
 ],
 "metadata": {
  "kernelspec": {
   "display_name": "Python 3",
   "language": "python",
   "name": "python3"
  },
  "language_info": {
   "codemirror_mode": {
    "name": "ipython",
    "version": 3
   },
   "file_extension": ".py",
   "mimetype": "text/x-python",
   "name": "python",
   "nbconvert_exporter": "python",
   "pygments_lexer": "ipython3",
   "version": "3.5.2"
  }
 },
 "nbformat": 4,
 "nbformat_minor": 2
}
