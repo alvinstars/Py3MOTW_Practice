{
 "cells": [
  {
   "cell_type": "markdown",
   "metadata": {},
   "source": [
    "# struct - Binary Data Structures\n",
    "\n",
    "Purpose:\tConvert between strings and binary data.\n",
    "    \n",
    "The struct module includes functions for converting between strings of bytes and native Python data types such as numbers and strings."
   ]
  },
  {
   "cell_type": "markdown",
   "metadata": {},
   "source": [
    "## Functions versus Struct Class\n",
    "\n",
    "A set of module-level functions is available for working with structured values, as well as the Struct class. Format specifiers are converted from their string format to a compiled representation, similar to the way regular expressions are handled. The conversion takes some resources, so it is typically more efficient to do it once when creating a Struct instance and call methods on the instance instead of using the module-level functions. All of the following examples use the Struct class."
   ]
  },
  {
   "cell_type": "markdown",
   "metadata": {},
   "source": [
    "## Packing and Unpacking\n",
    "\n",
    "Structs support packing data into strings, and unpacking data from strings using format specifiers made up of characters representing the type of the data and optional count and endianness indicators. Refer to the standard library documentation for a complete list of the supported format specifiers.\n",
    "\n",
    "In this example, the specifier calls for an integer or long integer value, a two-byte string, and a floating-point number. The spaces in the format specifier are included to separate the type indicators, and are ignored when the format is compiled.\n",
    "\n",
    "The example converts the packed value to a sequence of hex bytes for printing with binascii.hexlify(), since some of the characters are nulls."
   ]
  },
  {
   "cell_type": "code",
   "execution_count": 1,
   "metadata": {
    "collapsed": false
   },
   "outputs": [
    {
     "name": "stdout",
     "output_type": "stream",
     "text": [
      "Original values: (1, b'ab', 2.7)\n",
      "Format string  : b'I 2s f'\n",
      "Uses           : 12 bytes\n",
      "Packed Value   : b'0100000061620000cdcc2c40'\n"
     ]
    }
   ],
   "source": [
    "# struct_pack.py\n",
    "import struct\n",
    "import binascii\n",
    "\n",
    "values = (1, 'ab'.encode('utf-8'), 2.7)\n",
    "s = struct.Struct('I 2s f')\n",
    "packed_data = s.pack(*values)\n",
    "\n",
    "print('Original values:', values)\n",
    "print('Format string  :', s.format)\n",
    "print('Uses           :', s.size, 'bytes')\n",
    "print('Packed Value   :', binascii.hexlify(packed_data))"
   ]
  },
  {
   "cell_type": "markdown",
   "metadata": {},
   "source": [
    "Use unpack() to extract data from its packed representation.\n",
    "\n",
    "Passing the packed value to unpack(), gives basically the same values back (note the discrepancy in the floating point value).\n",
    "\n"
   ]
  },
  {
   "cell_type": "code",
   "execution_count": 2,
   "metadata": {
    "collapsed": false
   },
   "outputs": [
    {
     "name": "stdout",
     "output_type": "stream",
     "text": [
      "Unpacked Values: (1, b'ab', 2.700000047683716)\n"
     ]
    }
   ],
   "source": [
    "# struct_unpack.py\n",
    "import struct\n",
    "import binascii\n",
    "\n",
    "packed_data = binascii.unhexlify(b'0100000061620000cdcc2c40')\n",
    "\n",
    "s = struct.Struct('I 2s f')\n",
    "unpacked_data = s.unpack(packed_data)\n",
    "print('Unpacked Values:', unpacked_data)"
   ]
  },
  {
   "cell_type": "markdown",
   "metadata": {},
   "source": [
    "## Endianness\n",
    "\n",
    "By default, values are encoded using the native C library notion of endianness. It is easy to override that choice by providing an explicit endianness directive in the format string.\n"
   ]
  },
  {
   "cell_type": "markdown",
   "metadata": {},
   "source": [
    "the table below lists the byte order specifiers used by Struct.\n",
    "\n",
    "Byte Order Specifiers for struct\n",
    "\n",
    "| Code | Meaning         |\n",
    "|------|-----------------|\n",
    "| @    | Native order    |\n",
    "| =    | Native standard |\n",
    "| <    | little-endian   |\n",
    "| >    | big-endian      |\n",
    "| !    | Network order   |"
   ]
  },
  {
   "cell_type": "code",
   "execution_count": 3,
   "metadata": {
    "collapsed": false
   },
   "outputs": [
    {
     "name": "stdout",
     "output_type": "stream",
     "text": [
      "Original values: (1, b'ab', 2.7)\n",
      "\n",
      "Format string  : b'@ I 2s f' for native, native\n",
      "Uses           : 12 bytes\n",
      "Packed Value   : b'0100000061620000cdcc2c40'\n",
      "Unpacked Value : (1, b'ab', 2.700000047683716)\n",
      "\n",
      "Format string  : b'= I 2s f' for native, standard\n",
      "Uses           : 10 bytes\n",
      "Packed Value   : b'010000006162cdcc2c40'\n",
      "Unpacked Value : (1, b'ab', 2.700000047683716)\n",
      "\n",
      "Format string  : b'< I 2s f' for little-endian\n",
      "Uses           : 10 bytes\n",
      "Packed Value   : b'010000006162cdcc2c40'\n",
      "Unpacked Value : (1, b'ab', 2.700000047683716)\n",
      "\n",
      "Format string  : b'> I 2s f' for big-endian\n",
      "Uses           : 10 bytes\n",
      "Packed Value   : b'000000016162402ccccd'\n",
      "Unpacked Value : (1, b'ab', 2.700000047683716)\n",
      "\n",
      "Format string  : b'! I 2s f' for network\n",
      "Uses           : 10 bytes\n",
      "Packed Value   : b'000000016162402ccccd'\n",
      "Unpacked Value : (1, b'ab', 2.700000047683716)\n"
     ]
    }
   ],
   "source": [
    "# struct_endianness.py\n",
    "import struct\n",
    "import binascii\n",
    "\n",
    "values = (1, 'ab'.encode('utf-8'), 2.7)\n",
    "print('Original values:', values)\n",
    "\n",
    "endianness = [\n",
    "    ('@', 'native, native'),\n",
    "    ('=', 'native, standard'),\n",
    "    ('<', 'little-endian'),\n",
    "    ('>', 'big-endian'),\n",
    "    ('!', 'network'),\n",
    "]\n",
    "\n",
    "for code, name in endianness:\n",
    "    s = struct.Struct(code + ' I 2s f')\n",
    "    packed_data = s.pack(*values)\n",
    "    print()\n",
    "    print('Format string  :', s.format, 'for', name)\n",
    "    print('Uses           :', s.size, 'bytes')\n",
    "    print('Packed Value   :', binascii.hexlify(packed_data))\n",
    "    print('Unpacked Value :', s.unpack(packed_data))"
   ]
  },
  {
   "cell_type": "markdown",
   "metadata": {},
   "source": [
    "## Buffers\n",
    "\n",
    "Working with binary packed data is typically reserved for performance-sensitive situations or passing data into and out of extension modules. These cases can be optimized by avoiding the overhead of allocating a new buffer for each packed structure. The pack_into() and unpack_from() methods support writing to pre-allocated buffers directly.\n",
    "\n",
    "The size attribute of the Struct tells us how big the buffer needs to be."
   ]
  },
  {
   "cell_type": "code",
   "execution_count": 4,
   "metadata": {
    "collapsed": false
   },
   "outputs": [
    {
     "name": "stdout",
     "output_type": "stream",
     "text": [
      "Original: (1, b'ab', 2.7)\n",
      "\n",
      "ctypes string buffer\n",
      "Before  : b'000000000000000000000000'\n",
      "After   : b'0100000061620000cdcc2c40'\n",
      "Unpacked: (1, b'ab', 2.700000047683716)\n",
      "\n",
      "array\n",
      "Before  : b'000000000000000000000000'\n",
      "After   : b'0100000061620000cdcc2c40'\n",
      "Unpacked: (1, b'ab', 2.700000047683716)\n"
     ]
    }
   ],
   "source": [
    "# struct_buffers.py\n",
    "import array\n",
    "import binascii\n",
    "import ctypes\n",
    "import struct\n",
    "\n",
    "s = struct.Struct('I 2s f')\n",
    "values = (1, 'ab'.encode('utf-8'), 2.7)\n",
    "print('Original:', values)\n",
    "\n",
    "print()\n",
    "print('ctypes string buffer')\n",
    "\n",
    "b = ctypes.create_string_buffer(s.size)\n",
    "print('Before  :', binascii.hexlify(b.raw))\n",
    "s.pack_into(b, 0, *values)\n",
    "print('After   :', binascii.hexlify(b.raw))\n",
    "print('Unpacked:', s.unpack_from(b, 0))\n",
    "\n",
    "print()\n",
    "print('array')\n",
    "\n",
    "a = array.array('b', b'\\0' * s.size)\n",
    "print('Before  :', binascii.hexlify(a))\n",
    "s.pack_into(a, 0, *values)\n",
    "print('After   :', binascii.hexlify(a))\n",
    "print('Unpacked:', s.unpack_from(a, 0))"
   ]
  }
 ],
 "metadata": {
  "kernelspec": {
   "display_name": "Python 3",
   "language": "python",
   "name": "python3"
  },
  "language_info": {
   "codemirror_mode": {
    "name": "ipython",
    "version": 3
   },
   "file_extension": ".py",
   "mimetype": "text/x-python",
   "name": "python",
   "nbconvert_exporter": "python",
   "pygments_lexer": "ipython3",
   "version": "3.5.2"
  }
 },
 "nbformat": 4,
 "nbformat_minor": 2
}
