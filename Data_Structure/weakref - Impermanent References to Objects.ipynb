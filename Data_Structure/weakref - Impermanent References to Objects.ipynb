{
 "cells": [
  {
   "cell_type": "markdown",
   "metadata": {},
   "source": [
    "# weakref - Impermanent References to Objects\n",
    "\n",
    "Purpose:\tRefer to an “expensive” object, but allow its memory to be reclaimed by the garbage collector if there are no other non-weak references.\n",
    "\n",
    "The weakref module supports weak references to objects. A normal reference increments the reference count on the object and prevents it from being garbage collected. This outcome is not always desirable, especially when a circular reference might be present or when a cache of objects should be deleted when memory is needed. A weak reference is a handle to an object that does not keep it from being cleaned up automatically."
   ]
  },
  {
   "cell_type": "markdown",
   "metadata": {},
   "source": [
    "## References\n",
    "\n",
    "Weak references to objects are managed through the ref class. To retrieve the original object, call the reference object.\n",
    "\n",
    "In this case, since obj is deleted before the second call to the reference, the ref returns None."
   ]
  },
  {
   "cell_type": "code",
   "execution_count": 1,
   "metadata": {
    "collapsed": false
   },
   "outputs": [
    {
     "name": "stdout",
     "output_type": "stream",
     "text": [
      "obj:  <__main__.ExpensiveObject object at 0x1045f6e10>\n",
      "ref:  <weakref at 0x1045c5bd8; to 'ExpensiveObject' at 0x1045f6e10>\n",
      "r():  <__main__.ExpensiveObject object at 0x1045f6e10>\n",
      "deleting obj\n",
      "(Deleting <__main__.ExpensiveObject object at 0x1045f6e10>)\n",
      "ref:  <weakref at 0x1045c5bd8; dead>\n",
      "r():  None\n"
     ]
    }
   ],
   "source": [
    "# weakref_ref.py\n",
    "\n",
    "import weakref\n",
    "\n",
    "class ExpensiveObject:\n",
    "    def __del__(self):\n",
    "        print('(Deleting {})'.format(self))\n",
    "        \n",
    "obj = ExpensiveObject()\n",
    "r = weakref.ref(obj)\n",
    "\n",
    "print('obj: ', obj)\n",
    "print('ref: ', r)\n",
    "print('r(): ', r())\n",
    "\n",
    "print('deleting obj')\n",
    "del obj\n",
    "print('ref: ', r)\n",
    "print('r(): ', r())"
   ]
  },
  {
   "cell_type": "markdown",
   "metadata": {},
   "source": [
    "## Reference Callbacks\n",
    "\n",
    "The ref constructor accepts an optional callback function that is invoked when the referenced object is deleted.\n",
    "\n",
    "The callback receives the reference object as an argument after the reference is “dead” and no longer refers to the original object. One use for this feature is to remove the weak reference object from a cache."
   ]
  },
  {
   "cell_type": "code",
   "execution_count": 2,
   "metadata": {
    "collapsed": false
   },
   "outputs": [
    {
     "name": "stdout",
     "output_type": "stream",
     "text": [
      "obj:  <__main__.ExpensiveObject object at 0x104606518>\n",
      "ref:  <weakref at 0x104600a98; to 'ExpensiveObject' at 0x104606518>\n",
      "r():  <__main__.ExpensiveObject object at 0x104606518>\n",
      "deleting obj\n",
      "(Deleting <__main__.ExpensiveObject object at 0x104606518>)\n",
      "callback(<weakref at 0x104600a98; dead>)\n",
      "ref:  <weakref at 0x104600a98; dead>\n",
      "r():  None\n"
     ]
    }
   ],
   "source": [
    "# weakref_ref_callback.py\n",
    "\n",
    "import weakref\n",
    "\n",
    "class ExpensiveObject:\n",
    "    def __del__(self):\n",
    "        print('(Deleting {})'.format(self))\n",
    "        \n",
    "def callback(reference):\n",
    "    \"\"\"Invoked when referenced object is deleted\"\"\"\n",
    "    print('callback({!r})'.format(reference))\n",
    "\n",
    "obj = ExpensiveObject()\n",
    "r = weakref.ref(obj, callback)\n",
    "    \n",
    "print('obj: ', obj)\n",
    "print('ref: ', r)\n",
    "print('r(): ', r())\n",
    "\n",
    "print('deleting obj')\n",
    "del obj\n",
    "print('ref: ', r)\n",
    "print('r(): ', r())"
   ]
  },
  {
   "cell_type": "markdown",
   "metadata": {
    "collapsed": true
   },
   "source": [
    "## Finalizing Objects\n",
    "\n",
    "For more robust management of resources when weak references are cleaned up, use finalize to associate callbacks with objects. A finalize instance is retained until the attached object is deleted, even if the application does not retain a reference to the finalizer.\n",
    "\n",
    "The arguments to finalize are the object to track, a callable to invoke when the object is garbage collected, and any positional or named arguments to pass to the callable."
   ]
  },
  {
   "cell_type": "code",
   "execution_count": 3,
   "metadata": {
    "collapsed": false
   },
   "outputs": [
    {
     "name": "stdout",
     "output_type": "stream",
     "text": [
      "(Deleting <__main__.ExpensiveObject object at 0x104606f98>)\n",
      "on_finalize(('extra argument',))\n"
     ]
    }
   ],
   "source": [
    "# weakref_finalize.py \n",
    "\n",
    "import weakref\n",
    "\n",
    "class ExpensiveObject:\n",
    "    def __del__(self):\n",
    "        print('(Deleting {})'.format(self))\n",
    "        \n",
    "def on_finalize(*args):\n",
    "    print('on_finalize({!r})'.format(args))\n",
    "    \n",
    "obj = ExpensiveObject()\n",
    "weakref.finalize(obj, on_finalize, 'extra argument')\n",
    "\n",
    "del obj"
   ]
  },
  {
   "cell_type": "markdown",
   "metadata": {
    "collapsed": true
   },
   "source": [
    "The finalize instance has a writable propertly atexit to control whether the callback is invoked as a program is exiting, if it hasn’t already been called.\n",
    "\n",
    "The default is to invoke the callback. Setting atexit to false disables that behavior."
   ]
  },
  {
   "cell_type": "code",
   "execution_count": 4,
   "metadata": {
    "collapsed": false
   },
   "outputs": [],
   "source": [
    "# weakref_finalize_atexit.py\n",
    "\n",
    "import sys\n",
    "import weakref\n",
    "\n",
    "class ExpensiveObject:\n",
    "    def __del__(self):\n",
    "        print('Deleting {}'.format(self))\n",
    "        \n",
    "def ob_finalize(*args):\n",
    "    print('on_finalize ({!r})'.format(args))\n",
    "    \n",
    "obj = ExpensiveObject()\n",
    "f = weakref.finalize(obj, on_finalize, 'extra argument')\n",
    "# f.atexit = bool(int(sys.argv[1]))"
   ]
  },
  {
   "cell_type": "code",
   "execution_count": 5,
   "metadata": {
    "collapsed": false
   },
   "outputs": [
    {
     "name": "stdout",
     "output_type": "stream",
     "text": [
      "Deleting <__main__.ExpensiveObject object at 0x10460fdd8>\n",
      "on_finalize(('extra argument',))\n",
      "Deleting <__main__.ExpensiveObject object at 0x10460f438>\n",
      "on_finalize(('extra argument1',))\n"
     ]
    }
   ],
   "source": [
    "obj = ExpensiveObject()\n",
    "f = weakref.finalize(obj, on_finalize, 'extra argument1')\n",
    "f.atexit = True\n",
    "del obj"
   ]
  },
  {
   "cell_type": "code",
   "execution_count": 6,
   "metadata": {
    "collapsed": false
   },
   "outputs": [
    {
     "name": "stdout",
     "output_type": "stream",
     "text": [
      "Deleting <__main__.ExpensiveObject object at 0x10460f978>\n",
      "on_finalize(('extra argument2',))\n"
     ]
    }
   ],
   "source": [
    "obj = ExpensiveObject()\n",
    "f = weakref.finalize(obj, on_finalize, 'extra argument2')\n",
    "f.atexit = False\n",
    "del obj"
   ]
  },
  {
   "cell_type": "code",
   "execution_count": 7,
   "metadata": {
    "collapsed": false
   },
   "outputs": [
    {
     "name": "stdout",
     "output_type": "stream",
     "text": [
      "on_finalize(('extra argument',))\n",
      "(Deleting <__main__.ExpensiveObject object at 0x1021d66a0>)\n"
     ]
    }
   ],
   "source": [
    "!python3 weakref_finalize_atexit.py 1"
   ]
  },
  {
   "cell_type": "code",
   "execution_count": 8,
   "metadata": {
    "collapsed": true
   },
   "outputs": [],
   "source": [
    "!python3 weakref_finalize_atexit.py 0"
   ]
  },
  {
   "cell_type": "markdown",
   "metadata": {
    "collapsed": true
   },
   "source": [
    "Giving the finalize instance a reference to the object it tracks causes a reference to be retained, so the object is never garbage collected.\n",
    "\n",
    "As this example shows, even though the explicit reference to obj is deleted, the object is retained and visible to the garbage collector through f."
   ]
  },
  {
   "cell_type": "code",
   "execution_count": 9,
   "metadata": {
    "collapsed": false
   },
   "outputs": [
    {
     "name": "stdout",
     "output_type": "stream",
     "text": [
      "found uncollected object in gc\n"
     ]
    }
   ],
   "source": [
    "# weakref_finalize_reference.py\n",
    "\n",
    "import gc\n",
    "import weakref\n",
    "\n",
    "class ExpensiveObject:\n",
    "    def __del__(self):\n",
    "        print('Deleting {}'.format(self))\n",
    "        \n",
    "def ob_finalize(*args):\n",
    "    print('on_finalize ({!r})'.format(args))\n",
    "    \n",
    "obj = ExpensiveObject()\n",
    "obj_id = id(obj)\n",
    "\n",
    "f = weakref.finalize(obj, on_finalize, obj)\n",
    "f.atexit = False\n",
    "\n",
    "del obj\n",
    "\n",
    "for o in gc.get_objects():\n",
    "    if id(o) == obj_id:\n",
    "        print('found uncollected object in gc')"
   ]
  },
  {
   "cell_type": "markdown",
   "metadata": {
    "collapsed": true
   },
   "source": [
    "Using a bound method of a tracked object as the callable can also prevent an object from being finalized properly.\n",
    "\n",
    "Because the callable given to finalize is a bound method of the instance obj, the finalize object holds a reference to obj, which cannot be deleted and garbage collected."
   ]
  },
  {
   "cell_type": "code",
   "execution_count": 10,
   "metadata": {
    "collapsed": false
   },
   "outputs": [
    {
     "name": "stdout",
     "output_type": "stream",
     "text": [
      "found uncollected object in gc\n"
     ]
    }
   ],
   "source": [
    "# weakref_finalize_reference_method.py\n",
    "import gc\n",
    "import weakref\n",
    "\n",
    "class ExpensiveObject:\n",
    "\n",
    "    def __del__(self):\n",
    "        print('(Deleting {})'.format(self))\n",
    "\n",
    "    def do_finalize(self):\n",
    "        print('do_finalize')\n",
    "\n",
    "\n",
    "obj = ExpensiveObject()\n",
    "obj_id = id(obj)\n",
    "\n",
    "f = weakref.finalize(obj, obj.do_finalize)\n",
    "f.atexit = False\n",
    "\n",
    "del obj\n",
    "\n",
    "for o in gc.get_objects():\n",
    "    if id(o) == obj_id:\n",
    "        print('found uncollected object in gc')"
   ]
  },
  {
   "cell_type": "markdown",
   "metadata": {
    "collapsed": true
   },
   "source": [
    "## Proxies\n",
    "\n",
    "It is sometimes more convenient to use a proxy, rather than a weak reference. Proxies can be used as though they were the original object, and do not need to be called before the object is accessible. As a consequence, they can be passed to a library that does not know it is receiving a reference instead of the real object.\n",
    "\n",
    "If the proxy is accessed after the referent object is removed, a ReferenceError exception is raised."
   ]
  },
  {
   "cell_type": "code",
   "execution_count": 11,
   "metadata": {
    "collapsed": false
   },
   "outputs": [
    {
     "name": "stdout",
     "output_type": "stream",
     "text": [
      "via obj: My Object\n",
      "via ref: My Object\n",
      "via proxy: My Object\n",
      "(Deleting <__main__.ExpensiveObject object at 0x1046067f0>)\n",
      "weakly-referenced object no longer exists\n"
     ]
    }
   ],
   "source": [
    "# weakref_proxy.py\n",
    "import weakref\n",
    "\n",
    "\n",
    "class ExpensiveObject:\n",
    "\n",
    "    def __init__(self, name):\n",
    "        self.name = name\n",
    "\n",
    "    def __del__(self):\n",
    "        print('(Deleting {})'.format(self))\n",
    "        \n",
    "obj = ExpensiveObject('My Object')\n",
    "r = weakref.ref(obj)\n",
    "p = weakref.proxy(obj)\n",
    "\n",
    "print('via obj:', obj.name)\n",
    "print('via ref:', r().name)\n",
    "print('via proxy:', p.name)\n",
    "\n",
    "del obj\n",
    "try:\n",
    "    print('via proxy:', p.name)\n",
    "except Exception as e:\n",
    "    print(e)"
   ]
  },
  {
   "cell_type": "markdown",
   "metadata": {
    "collapsed": true
   },
   "source": [
    "## Caching Objects\n",
    "\n",
    "The ref and proxy classes are considered “low level.” While they are useful for maintaining weak references to individual objects and allowing cycles to be garbage collected, the WeakKeyDictionary and WeakValueDictionary classes provide a more appropriate API for creating a cache of several objects.\n",
    "\n",
    "The WeakValueDictionary class uses weak references to the values it holds, allowing them to be garbage collected when other code is not actually using them. Using explicit calls to the garbage collector illustrates the difference between memory handling with a regular dictionary and WeakValueDictionary:\n",
    "\n",
    "Any loop variables that refer to the values being cached must be cleared explicitly so the reference count of the object is decremented. Otherwise, the garbage collector will not remove the objects and they will remain in the cache. Similarly, the all_refs variable is used to hold references to prevent them from being garbage collected prematurely."
   ]
  },
  {
   "cell_type": "code",
   "execution_count": 12,
   "metadata": {
    "collapsed": false
   },
   "outputs": [
    {
     "name": "stdout",
     "output_type": "stream",
     "text": [
      "CACHE TYPE: <class 'dict'>\n",
      "  all_refs = {'one': ExpensiveObject(one),\n",
      " 'three': ExpensiveObject(three),\n",
      " 'two': ExpensiveObject(two)}\n",
      "\n",
      "  Before, cache contains: ['two', 'three', 'one']\n",
      "    two = ExpensiveObject(two)\n",
      "    three = ExpensiveObject(three)\n",
      "    one = ExpensiveObject(one)\n",
      "\n",
      "  Cleanup:\n",
      "\n",
      "  After, cache contains: ['two', 'three', 'one']\n",
      "    two = ExpensiveObject(two)\n",
      "    three = ExpensiveObject(three)\n",
      "    one = ExpensiveObject(one)\n",
      "  demo returning\n",
      "    (Deleting ExpensiveObject(two))\n",
      "    (Deleting ExpensiveObject(three))\n",
      "    (Deleting ExpensiveObject(one))\n",
      "\n",
      "CACHE TYPE: <class 'weakref.WeakValueDictionary'>\n",
      "  all_refs = {'one': ExpensiveObject(one),\n",
      " 'three': ExpensiveObject(three),\n",
      " 'two': ExpensiveObject(two)}\n",
      "\n",
      "  Before, cache contains: ['two', 'three', 'one']\n",
      "    two = ExpensiveObject(two)\n",
      "    three = ExpensiveObject(three)\n",
      "    one = ExpensiveObject(one)\n",
      "\n",
      "  Cleanup:\n",
      "    (Deleting ExpensiveObject(two))\n",
      "    (Deleting ExpensiveObject(three))\n",
      "    (Deleting ExpensiveObject(one))\n",
      "\n",
      "  After, cache contains: []\n",
      "  demo returning\n"
     ]
    }
   ],
   "source": [
    "# weakref_valuedict.py\n",
    "import gc\n",
    "from pprint import pprint\n",
    "import weakref\n",
    "\n",
    "gc.set_debug(gc.DEBUG_UNCOLLECTABLE)\n",
    "\n",
    "\n",
    "class ExpensiveObject:\n",
    "\n",
    "    def __init__(self, name):\n",
    "        self.name = name\n",
    "\n",
    "    def __repr__(self):\n",
    "        return 'ExpensiveObject({})'.format(self.name)\n",
    "\n",
    "    def __del__(self):\n",
    "        print('    (Deleting {})'.format(self))\n",
    "\n",
    "\n",
    "def demo(cache_factory):\n",
    "    # hold objects so any weak references\n",
    "    # are not removed immediately\n",
    "    all_refs = {}\n",
    "    # create the cache using the factory\n",
    "    print('CACHE TYPE:', cache_factory)\n",
    "    cache = cache_factory()\n",
    "    for name in ['one', 'two', 'three']:\n",
    "        o = ExpensiveObject(name)\n",
    "        cache[name] = o\n",
    "        all_refs[name] = o\n",
    "        del o  # decref\n",
    "\n",
    "    print('  all_refs =', end=' ')\n",
    "    pprint(all_refs)\n",
    "    print('\\n  Before, cache contains:', list(cache.keys()))\n",
    "    for name, value in cache.items():\n",
    "        print('    {} = {}'.format(name, value))\n",
    "        del value  # decref\n",
    "\n",
    "    # remove all references to the objects except the cache\n",
    "    print('\\n  Cleanup:')\n",
    "    del all_refs\n",
    "    gc.collect()\n",
    "\n",
    "    print('\\n  After, cache contains:', list(cache.keys()))\n",
    "    for name, value in cache.items():\n",
    "        print('    {} = {}'.format(name, value))\n",
    "    print('  demo returning')\n",
    "    return\n",
    "\n",
    "\n",
    "demo(dict)\n",
    "print()\n",
    "\n",
    "demo(weakref.WeakValueDictionary)"
   ]
  },
  {
   "cell_type": "markdown",
   "metadata": {
    "collapsed": true
   },
   "source": [
    "The WeakKeyDictionary works similarly but uses weak references for the keys instead of the values in the dictionary."
   ]
  }
 ],
 "metadata": {
  "kernelspec": {
   "display_name": "Python 3",
   "language": "python",
   "name": "python3"
  },
  "language_info": {
   "codemirror_mode": {
    "name": "ipython",
    "version": 3
   },
   "file_extension": ".py",
   "mimetype": "text/x-python",
   "name": "python",
   "nbconvert_exporter": "python",
   "pygments_lexer": "ipython3",
   "version": "3.5.2"
  }
 },
 "nbformat": 4,
 "nbformat_minor": 2
}
