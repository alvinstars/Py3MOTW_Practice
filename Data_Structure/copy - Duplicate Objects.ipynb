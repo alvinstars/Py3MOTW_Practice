{
 "cells": [
  {
   "cell_type": "markdown",
   "metadata": {},
   "source": [
    "# copy - Duplicate Objects\n",
    "\n",
    "Purpose:\tProvides functions for duplicating objects using shallow or deep copy semantics.\n",
    "\n",
    "The copy module includes two functions, copy() and deepcopy(), for duplicating existing objects."
   ]
  },
  {
   "cell_type": "markdown",
   "metadata": {},
   "source": [
    "## Shallow Copies\n",
    "\n",
    "The shallow copy created by copy() is a new container populated with references to the contents of the original object. When making a shallow copy of a list object, a new list is constructed and the elements of the original object are appended to it.\n",
    "\n",
    "For a shallow copy, the MyClass instance is not duplicated, so the reference in the dup list is to the same object that is in my_list."
   ]
  },
  {
   "cell_type": "code",
   "execution_count": 1,
   "metadata": {
    "collapsed": false
   },
   "outputs": [
    {
     "name": "stdout",
     "output_type": "stream",
     "text": [
      "             my_list: [<__main__.MyClass object at 0x10473dda0>]\n",
      "                 dup: [<__main__.MyClass object at 0x10473dda0>]\n",
      "      dup is my_list: False\n",
      "      dup == my_list: True\n",
      "dup[0] is my_list[0]: True\n",
      "dup[0] == my_list[0]: True\n"
     ]
    }
   ],
   "source": [
    "# copy_shallow.py\n",
    "import copy\n",
    "import functools\n",
    "\n",
    "\n",
    "@functools.total_ordering\n",
    "class MyClass:\n",
    "\n",
    "    def __init__(self, name):\n",
    "        self.name = name\n",
    "\n",
    "    def __eq__(self, other):\n",
    "        return self.name == other.name\n",
    "\n",
    "    def __gt__(self, other):\n",
    "        return self.name > other.name\n",
    "\n",
    "\n",
    "a = MyClass('a')\n",
    "my_list = [a]\n",
    "dup = copy.copy(my_list)\n",
    "\n",
    "print('             my_list:', my_list)\n",
    "print('                 dup:', dup)\n",
    "print('      dup is my_list:', (dup is my_list))\n",
    "print('      dup == my_list:', (dup == my_list))\n",
    "print('dup[0] is my_list[0]:', (dup[0] is my_list[0]))\n",
    "print('dup[0] == my_list[0]:', (dup[0] == my_list[0]))"
   ]
  },
  {
   "cell_type": "markdown",
   "metadata": {},
   "source": [
    "## Deep Copies\n",
    "\n",
    "The deep copy created by deepcopy() is a new container populated with copies of the contents of the original object. To make a deep copy of a list, a new list is constructed, the elements of the original list are copied, and then those copies are appended to the new list.\n",
    "\n",
    "Replacing the call to copy() with deepcopy() makes the difference in the output apparent.\n",
    "\n",
    "The first element of the list is no longer the same object reference, but when the two objects are compared they still evaluate as being equal."
   ]
  },
  {
   "cell_type": "code",
   "execution_count": 2,
   "metadata": {
    "collapsed": false
   },
   "outputs": [
    {
     "name": "stdout",
     "output_type": "stream",
     "text": [
      "             my_list: [<__main__.MyClass object at 0x104717e10>]\n",
      "                 dup: [<__main__.MyClass object at 0x104713b38>]\n",
      "      dup is my_list: False\n",
      "      dup == my_list: True\n",
      "dup[0] is my_list[0]: False\n",
      "dup[0] == my_list[0]: True\n"
     ]
    }
   ],
   "source": [
    "# copy_deep.py\n",
    "import copy\n",
    "import functools\n",
    "\n",
    "\n",
    "@functools.total_ordering\n",
    "class MyClass:\n",
    "\n",
    "    def __init__(self, name):\n",
    "        self.name = name\n",
    "\n",
    "    def __eq__(self, other):\n",
    "        return self.name == other.name\n",
    "\n",
    "    def __gt__(self, other):\n",
    "        return self.name > other.name\n",
    "\n",
    "\n",
    "a = MyClass('a')\n",
    "my_list = [a]\n",
    "dup = copy.deepcopy(my_list)\n",
    "\n",
    "print('             my_list:', my_list)\n",
    "print('                 dup:', dup)\n",
    "print('      dup is my_list:', (dup is my_list))\n",
    "print('      dup == my_list:', (dup == my_list))\n",
    "print('dup[0] is my_list[0]:', (dup[0] is my_list[0]))\n",
    "print('dup[0] == my_list[0]:', (dup[0] == my_list[0]))"
   ]
  },
  {
   "cell_type": "markdown",
   "metadata": {},
   "source": [
    "## Customizing Copy Behavior\n",
    "\n",
    "It is possible to control how copies are made using the \\__copy\\__() and \\__deepcopy\\__() special methods.\n",
    "\n",
    "\\__copy\\__() is called without any arguments and should return a shallow copy of the object.\n",
    "\\__deepcopy\\__() is called with a memo dictionary and should return a deep copy of the object. Any member attributes that need to be deep-copied should be passed to copy.deepcopy(), along with the memo dictionary, to control for recursion. (The memo dictionary is explained in more detail later.)\n",
    "The following example illustrates how the methods are called.\n",
    "\n",
    "The memo dictionary is used to keep track of the values that have been copied already, so as to avoid infinite recursion."
   ]
  },
  {
   "cell_type": "code",
   "execution_count": 3,
   "metadata": {
    "collapsed": false
   },
   "outputs": [
    {
     "name": "stdout",
     "output_type": "stream",
     "text": [
      "__copy__()\n",
      "__deepcopy__({})\n"
     ]
    }
   ],
   "source": [
    "# copy_hooks.py\n",
    "import copy\n",
    "import functools\n",
    "\n",
    "\n",
    "@functools.total_ordering\n",
    "class MyClass:\n",
    "\n",
    "    def __init__(self, name):\n",
    "        self.name = name\n",
    "\n",
    "    def __eq__(self, other):\n",
    "        return self.name == other.name\n",
    "\n",
    "    def __gt__(self, other):\n",
    "        return self.name > other.name\n",
    "\n",
    "    def __copy__(self):\n",
    "        print('__copy__()')\n",
    "        return MyClass(self.name)\n",
    "\n",
    "    def __deepcopy__(self, memo):\n",
    "        print('__deepcopy__({})'.format(memo))\n",
    "        return MyClass(copy.deepcopy(self.name, memo))\n",
    "\n",
    "\n",
    "a = MyClass('a')\n",
    "\n",
    "sc = copy.copy(a)\n",
    "dc = copy.deepcopy(a)"
   ]
  },
  {
   "cell_type": "code",
   "execution_count": 4,
   "metadata": {
    "collapsed": false
   },
   "outputs": [
    {
     "data": {
      "text/plain": [
       "True"
      ]
     },
     "execution_count": 4,
     "metadata": {},
     "output_type": "execute_result"
    }
   ],
   "source": [
    "sc == dc"
   ]
  },
  {
   "cell_type": "markdown",
   "metadata": {},
   "source": [
    "## Recursion in Deep Copy\n",
    "\n",
    "To avoid problems with duplicating recursive data structures, deepcopy() uses a dictionary to track objects that have already been copied. This dictionary is passed to the \\__deepcopy\\__() method so it can be examined there as well.\n",
    "\n",
    "The next example shows how an interconnected data structure such as a directed graph can help protect against recursion by implementing a \\__deepcopy\\__() method."
   ]
  },
  {
   "cell_type": "markdown",
   "metadata": {},
   "source": [
    "The Graph class includes a few basic directed graph methods. An instance can be initialized with a name and a list of existing nodes to which it is connected. The add_connection() method is used to set up bidirectional connections. It is also used by the deep copy operator.\n",
    "\n",
    "The \\__deepcopy\\__() method prints messages to show how it is called, and manages the memo dictionary contents as needed. Instead of copying the entire connection list wholesale, it creates a new list and appends copies of the individual connections to it. That ensures that the memo dictionary is updated as each new node is duplicated, and it avoids recursion issues or extra copies of nodes. As before, the method returns the copied object when it is done."
   ]
  },
  {
   "cell_type": "markdown",
   "metadata": {},
   "source": [
    "#### Deep Copy for an Object Graph with Cycles\n",
    "![](graph/graph_copy_deepcopy_cycled_objects.png)"
   ]
  },
  {
   "cell_type": "markdown",
   "metadata": {},
   "source": [
    "The graph shown in the figure includes several cycles, but handling the recursion with the memo dictionary prevents the traversal from causing a stack overflow error. When the root node is copied, it produces the following output.\n",
    "\n",
    "The second time the root node is encountered, while the a node is being copied, \\__deepcopy\\__() detects the recursion and reuses the existing value from the memo dictionary instead of creating a new object."
   ]
  },
  {
   "cell_type": "code",
   "execution_count": 5,
   "metadata": {
    "collapsed": false,
    "scrolled": true
   },
   "outputs": [
    {
     "name": "stdout",
     "output_type": "stream",
     "text": [
      "\n",
      "Calling __deepcopy__ for Graph(name=root, id=4369876248)\n",
      "  Memo dictionary:     (empty)\n",
      "\n",
      "Copying to new object Graph(name=root, id=4369876640) for the connection items\n",
      "  Memo dictionary after adding to memo:\n",
      "(0) [Origin] Graph(name=root, id=4369876248) --> [NewDup] Graph(name=root, id=4369876640)\n",
      "  self.connections:  [Graph(name=a, id=4369586160), Graph(name=b, id=4369876024)]\n",
      "\n",
      "Calling __deepcopy__ for Graph(name=a, id=4369586160)\n",
      "  Memo dictionary: (0) [Origin] Graph(name=root, id=4369876248) --> [NewDup] Graph(name=root, id=4369876640)\n",
      "\n",
      "Copying to new object Graph(name=a, id=4369877648) for the connection items\n",
      "  Memo dictionary after adding to memo:\n",
      "(0) [Origin] Graph(name=root, id=4369876248) --> [NewDup] Graph(name=root, id=4369876640)\n",
      "(1) [Origin] Graph(name=a, id=4369586160) --> [NewDup] Graph(name=a, id=4369877648)\n",
      "  self.connections:  [Graph(name=root, id=4369876248)]\n",
      "\n",
      "Calling __deepcopy__ for Graph(name=root, id=4369876248)\n",
      "  Already copied to Graph(name=root, id=4369876640)\n",
      "end of __deepcopy__\n",
      "\n",
      "Calling __deepcopy__ for Graph(name=b, id=4369876024)\n",
      "  Memo dictionary: (0) [Origin] 4369876248 --> [NewDup] Graph(name=root, id=4369876640)\n",
      "(1) [Origin] Graph(name=root, id=4369876248) --> [NewDup] Graph(name=root, id=4369876640)\n",
      "(2) [Origin] 4369586160 --> [NewDup] Graph(name=a, id=4369877648)\n",
      "(3) [Origin] 4369695496 --> [NewDup] [Graph(name=root, id=4369876248), Graph(name=a, id=4369586160)]\n",
      "(4) [Origin] Graph(name=a, id=4369586160) --> [NewDup] Graph(name=a, id=4369877648)\n",
      "\n",
      "Copying to new object Graph(name=b, id=4369878152) for the connection items\n",
      "  Memo dictionary after adding to memo:\n",
      "(0) [Origin] 4369586160 --> [NewDup] Graph(name=a, id=4369877648)\n",
      "(1) [Origin] Graph(name=root, id=4369876248) --> [NewDup] Graph(name=root, id=4369876640)\n",
      "(2) [Origin] Graph(name=b, id=4369876024) --> [NewDup] Graph(name=b, id=4369878152)\n",
      "(3) [Origin] 4369876248 --> [NewDup] Graph(name=root, id=4369876640)\n",
      "(4) [Origin] 4369695496 --> [NewDup] [Graph(name=root, id=4369876248), Graph(name=a, id=4369586160)]\n",
      "(5) [Origin] Graph(name=a, id=4369586160) --> [NewDup] Graph(name=a, id=4369877648)\n",
      "  self.connections:  [Graph(name=a, id=4369586160), Graph(name=root, id=4369876248)]\n",
      "end of __deepcopy__\n",
      "end of __deepcopy__\n"
     ]
    }
   ],
   "source": [
    "# copy_recursion.py\n",
    "import copy\n",
    "import enum\n",
    "\n",
    "\n",
    "class Graph:\n",
    "\n",
    "    def __init__(self, name, connections):\n",
    "        self.name = name\n",
    "        self.connections = connections\n",
    "\n",
    "    def add_connection(self, other):\n",
    "        self.connections.append(other)\n",
    "\n",
    "    def __repr__(self):\n",
    "        return 'Graph(name={}, id={})'.format(\n",
    "            self.name, id(self))\n",
    "\n",
    "    def __deepcopy__(self, memo):\n",
    "        print('\\nCalling __deepcopy__ for {!r}'.format(self))\n",
    "        if self in memo:\n",
    "            existing = memo.get(self)\n",
    "            print('  Already copied to {!r}'.format(existing))\n",
    "            return existing\n",
    "        print('  Memo dictionary:', end =' ')\n",
    "        if memo:\n",
    "            for i, (k, v) in enumerate(memo.items()):\n",
    "                print('({}) [Origin] {} --> [NewDup] {}'.format(i, k, v))\n",
    "        else:\n",
    "            print('    (empty)')\n",
    "        dup = Graph(copy.deepcopy(self.name, memo), [])        \n",
    "        memo[self] = dup\n",
    "\n",
    "        print('\\nCopying to new object {} for the connection items'.format(dup))\n",
    "        print('  Memo dictionary after adding to memo:')\n",
    "        for i , (k, v) in enumerate(memo.items()):\n",
    "            print('({}) [Origin] {} --> [NewDup] {}'.format(i, k, v))\n",
    "        print ('  self.connections: ', self.connections)\n",
    "        for c in self.connections:\n",
    "            dup.add_connection(copy.deepcopy(c, memo))\n",
    "        print(\"end of __deepcopy__\")\n",
    "        return dup\n",
    "\n",
    "\n",
    "\n",
    "root = Graph('root', [])\n",
    "a = Graph('a', [root])\n",
    "b = Graph('b', [a, root])\n",
    "root.add_connection(a)\n",
    "root.add_connection(b)\n",
    "\n",
    "dup = copy.deepcopy(root)"
   ]
  }
 ],
 "metadata": {
  "kernelspec": {
   "display_name": "Python 3",
   "language": "python",
   "name": "python3"
  },
  "language_info": {
   "codemirror_mode": {
    "name": "ipython",
    "version": 3
   },
   "file_extension": ".py",
   "mimetype": "text/x-python",
   "name": "python",
   "nbconvert_exporter": "python",
   "pygments_lexer": "ipython3",
   "version": "3.5.2"
  }
 },
 "nbformat": 4,
 "nbformat_minor": 2
}
