{
 "cells": [
  {
   "cell_type": "markdown",
   "metadata": {},
   "source": [
    "# Counter - Count Hashable Objects\n",
    "\n",
    "A Counter is a container that keeps track of how many times equivalent values are added. It can be used to implement the same algorithms for which other languages commonly use bag or multiset data structures."
   ]
  },
  {
   "cell_type": "markdown",
   "metadata": {},
   "source": [
    "## Initializing\n",
    "\n",
    "Counter supports three forms of initialization. Its constructor can be called with a sequence of items, a dictionary containing keys and counts, or using keyword arguments that map string names to counts.\n",
    "\n",
    "The results of all four forms of initialization are the same."
   ]
  },
  {
   "cell_type": "code",
   "execution_count": 1,
   "metadata": {
    "collapsed": false,
    "scrolled": true
   },
   "outputs": [
    {
     "name": "stdout",
     "output_type": "stream",
     "text": [
      "Counter({'b': 3, 'a': 2, 'c': 1})\n",
      "Counter({'b': 3, 'a': 2, 'c': 1})\n",
      "Counter({'b': 3, 'a': 2, 'c': 1})\n",
      "Counter({'b': 3, 'a': 2, 'c': 1})\n"
     ]
    }
   ],
   "source": [
    "# collections_counter_init.py\n",
    "import collections\n",
    "\n",
    "print(collections.Counter(['a', 'b', 'c', 'a', 'b', 'b']))\n",
    "print(collections.Counter({'a': 2, 'b': 3, 'c': 1}))\n",
    "print(collections.Counter(a=2, b=3, c=1))\n",
    "print(collections.Counter('abcabb'))"
   ]
  },
  {
   "cell_type": "markdown",
   "metadata": {},
   "source": [
    "An empty Counter can be constructed with no arguments and populated via the update() method.\n",
    "\n",
    "The count values are increased based on the new data, rather than replaced. In the preceding example, the count for a goes from 3 to 4."
   ]
  },
  {
   "cell_type": "code",
   "execution_count": 2,
   "metadata": {
    "collapsed": false
   },
   "outputs": [
    {
     "name": "stdout",
     "output_type": "stream",
     "text": [
      "Initial : Counter()\n",
      "Sequence: Counter({'a': 3, 'b': 2, 'd': 1, 'c': 1})\n",
      "Dict    : Counter({'d': 6, 'a': 4, 'b': 2, 'c': 1})\n"
     ]
    }
   ],
   "source": [
    "# collections_counter_update.py\n",
    "import collections\n",
    "\n",
    "c = collections.Counter()\n",
    "print('Initial :', c)\n",
    "\n",
    "c.update('abcdaab')\n",
    "print('Sequence:', c)\n",
    "\n",
    "c.update({'a': 1, 'd': 5})\n",
    "print('Dict    :', c)"
   ]
  },
  {
   "cell_type": "markdown",
   "metadata": {},
   "source": [
    "## Accessing Counts\n",
    "\n",
    "Once a Counter is populated, its values can be retrieved using the dictionary API.\n",
    "\n",
    "Counter does not raise KeyError for unknown items. If a value has not been seen in the input (as with e in this example), its count is 0."
   ]
  },
  {
   "cell_type": "code",
   "execution_count": 3,
   "metadata": {
    "collapsed": false
   },
   "outputs": [
    {
     "name": "stdout",
     "output_type": "stream",
     "text": [
      "a : 3\n",
      "b : 2\n",
      "c : 1\n",
      "d : 1\n",
      "e : 0\n"
     ]
    }
   ],
   "source": [
    "# collections_counter_get_values.py\n",
    "import collections\n",
    "\n",
    "c = collections.Counter('abcdaab')\n",
    "\n",
    "for letter in 'abcde':\n",
    "    print('{} : {}'.format(letter, c[letter]))"
   ]
  },
  {
   "cell_type": "markdown",
   "metadata": {},
   "source": [
    "The elements() method returns an iterator that produces all of the items known to the Counter.\n",
    "\n",
    "The order of elements is not guaranteed, and items with counts less than or equal to zero are not included."
   ]
  },
  {
   "cell_type": "code",
   "execution_count": 4,
   "metadata": {
    "collapsed": false
   },
   "outputs": [
    {
     "name": "stdout",
     "output_type": "stream",
     "text": [
      "Counter({'e': 3, 't': 1, 'r': 1, 'x': 1, 'y': 1, 'l': 1, 'm': 1, 'z': 0})\n",
      "\n",
      "['t', 'r', 'x', 'y', 'l', 'm', 'e', 'e', 'e']\n"
     ]
    }
   ],
   "source": [
    "# collections_counter_elements.py\n",
    "import collections\n",
    "\n",
    "c = collections.Counter('extremely')\n",
    "c['z'] = 0\n",
    "print(c)\n",
    "print()\n",
    "print(list(c.elements()))"
   ]
  },
  {
   "cell_type": "markdown",
   "metadata": {},
   "source": [
    "Use most_common() to produce a sequence of the n most frequently encountered input values and their respective counts.\n",
    "\n",
    "This example counts the letters appearing in all of the words in the system dictionary to produce a frequency distribution, then prints the three most common letters. Leaving out the argument to most_common() produces a list of all the items, in order of frequency."
   ]
  },
  {
   "cell_type": "code",
   "execution_count": 5,
   "metadata": {
    "collapsed": false
   },
   "outputs": [
    {
     "name": "stdout",
     "output_type": "stream",
     "text": [
      "Most common:\n",
      "e:  235331\n",
      "i:  201032\n",
      "a:  199554\n"
     ]
    }
   ],
   "source": [
    "# collections_counter_most_common.py\n",
    "import collections\n",
    "\n",
    "c = collections.Counter()\n",
    "with open('/usr/share/dict/words', 'rt') as f:\n",
    "    for line in f:\n",
    "        c.update(line.rstrip().lower())\n",
    "\n",
    "print('Most common:')\n",
    "for letter, count in c.most_common(3):\n",
    "    print('{}: {:>7}'.format(letter, count))"
   ]
  },
  {
   "cell_type": "markdown",
   "metadata": {},
   "source": [
    "## Arithmetic\n",
    "\n",
    "Counter instances support arithmetic and set operations for aggregating results. This example shows the standard operators for creating new Counter instances, but the in-place operators +=, -=, &=, and |= are also supported.\n",
    "\n",
    "Each time a new Counter is produced through an operation, any items with zero or negative counts are discarded. The count for a is the same in c1 and c2, so subtraction leaves it at zero."
   ]
  },
  {
   "cell_type": "code",
   "execution_count": 6,
   "metadata": {
    "collapsed": false
   },
   "outputs": [
    {
     "name": "stdout",
     "output_type": "stream",
     "text": [
      "C1: Counter({'b': 3, 'a': 2, 'c': 1})\n",
      "C2: Counter({'a': 2, 'h': 1, 'e': 1, 'b': 1, 'l': 1, 'p': 1, 't': 1})\n",
      "\n",
      "Combined counts:\n",
      "Counter({'a': 4, 'b': 4, 'h': 1, 'e': 1, 'l': 1, 'p': 1, 't': 1, 'c': 1})\n",
      "\n",
      "Subtraction:\n",
      "Counter({'b': 2, 'c': 1})\n",
      "\n",
      "Intersection (taking positive minimums):\n",
      "Counter({'a': 2, 'b': 1})\n",
      "\n",
      "Union (taking maximums):\n",
      "Counter({'b': 3, 'a': 2, 'h': 1, 'e': 1, 'l': 1, 'p': 1, 't': 1, 'c': 1})\n"
     ]
    }
   ],
   "source": [
    "# collections_counter_arithmetic.py\n",
    "import collections\n",
    "\n",
    "c1 = collections.Counter(['a', 'b', 'c', 'a', 'b', 'b'])\n",
    "c2 = collections.Counter('alphabet')\n",
    "\n",
    "print('C1:', c1)\n",
    "print('C2:', c2)\n",
    "\n",
    "print('\\nCombined counts:')\n",
    "print(c1 + c2)\n",
    "\n",
    "print('\\nSubtraction:')\n",
    "print(c1 - c2)\n",
    "\n",
    "print('\\nIntersection (taking positive minimums):')\n",
    "print(c1 & c2)\n",
    "\n",
    "print('\\nUnion (taking maximums):')\n",
    "print(c1 | c2)"
   ]
  }
 ],
 "metadata": {
  "kernelspec": {
   "display_name": "Python 3",
   "language": "python",
   "name": "python3"
  },
  "language_info": {
   "codemirror_mode": {
    "name": "ipython",
    "version": 3
   },
   "file_extension": ".py",
   "mimetype": "text/x-python",
   "name": "python",
   "nbconvert_exporter": "python",
   "pygments_lexer": "ipython3",
   "version": "3.5.2"
  }
 },
 "nbformat": 4,
 "nbformat_minor": 2
}
