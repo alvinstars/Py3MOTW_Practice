{
 "cells": [
  {
   "cell_type": "markdown",
   "metadata": {},
   "source": [
    "# deque - Double-Ended Queue\n",
    "\n",
    "A double-ended queue, or deque, supports adding and removing elements from either end of the queue. The more commonly used stacks and queues are degenerate forms of deques, where the inputs and outputs are restricted to a single end.\n",
    "\n",
    "Since deques are a type of sequence container, they support some of the same operations as list, such as examining the contents with \\__getitem\\__(), determining length, and removing elements from the middle of the queue by matching identity."
   ]
  },
  {
   "cell_type": "code",
   "execution_count": 1,
   "metadata": {
    "collapsed": false
   },
   "outputs": [
    {
     "name": "stdout",
     "output_type": "stream",
     "text": [
      "Deque: deque(['a', 'b', 'c', 'd', 'e', 'f', 'g'])\n",
      "Length: 7\n",
      "Left end: a\n",
      "Right end: g\n",
      "remove(c): deque(['a', 'b', 'd', 'e', 'f', 'g'])\n"
     ]
    }
   ],
   "source": [
    "# collections_deque.py\n",
    "import collections\n",
    "\n",
    "d = collections.deque('abcdefg')\n",
    "print('Deque:', d)\n",
    "print('Length:', len(d))\n",
    "print('Left end:', d[0])\n",
    "print('Right end:', d[-1])\n",
    "\n",
    "d.remove('c')\n",
    "print('remove(c):', d)"
   ]
  },
  {
   "cell_type": "markdown",
   "metadata": {},
   "source": [
    "## Populating\n",
    "\n",
    "A deque can be populated from either end, termed “left” and “right” in the Python implementation.\n",
    "\n",
    "The extendleft() function iterates over its input and performs the equivalent of an appendleft() for each item. The end result is that the deque contains the input sequence in reverse order."
   ]
  },
  {
   "cell_type": "code",
   "execution_count": 2,
   "metadata": {
    "collapsed": false
   },
   "outputs": [
    {
     "name": "stdout",
     "output_type": "stream",
     "text": [
      "Add to the right\n",
      "extend    : deque(['a', 'b', 'c', 'd', 'e', 'f', 'g'])\n",
      "append    : deque(['a', 'b', 'c', 'd', 'e', 'f', 'g', 'h'])\n",
      "\n",
      "Add to the left\n",
      "extendleft: deque([5, 4, 3, 2, 1, 0])\n",
      "appendleft: deque([6, 5, 4, 3, 2, 1, 0])\n"
     ]
    }
   ],
   "source": [
    "# collections_deque_populating.py\n",
    "import collections\n",
    "\n",
    "# Add to the right\n",
    "print('Add to the right')\n",
    "d1 = collections.deque()\n",
    "d1.extend('abcdefg')\n",
    "print('extend    :', d1)\n",
    "d1.append('h')\n",
    "print('append    :', d1)\n",
    "\n",
    "\n",
    "# Add to the left\n",
    "print('\\nAdd to the left')\n",
    "d2 = collections.deque()\n",
    "d2.extendleft(range(6))\n",
    "print('extendleft:', d2)\n",
    "d2.appendleft(6)\n",
    "print('appendleft:', d2)"
   ]
  },
  {
   "cell_type": "markdown",
   "metadata": {},
   "source": [
    "#### What is the difference between the list methods append and extend?\n",
    "\n",
    "http://stackoverflow.com/questions/252703/append-vs-extend\n",
    "\n",
    "* append \n",
    "\n",
    "adds its argument as a single element to the end of a list. The length of the list itself will increase by one.\n",
    "\n",
    "* extend \n",
    "\n",
    "iterates over its argument adding each element to the list, extending the list. The length of the list will increase by however many elements were in the iterable argument.\n",
    "\n",
    "#### Operator Overload, __and__, (+) and __iand__ (+=)\n",
    "\n",
    "Both + and += operators are defined for list. They are semantically similar to extend.\n",
    "\n",
    "my_list + another_list creates a third list in memory, so you can return the result of it, but it requires that the second iterable be a list.\n",
    "\n",
    "my_list += another_list modifies the list in-place (it is the in-place operator, and lists are mutable objects, as we've seen) so it does not create a new list. It also works like extend, in that the second iterable can be any kind of iterable.\n",
    "\n",
    "#### Time Complexity\n",
    "\n",
    "Append has constant time complexity, O(1).\n",
    "\n",
    "Extend has time complexity, O(k).\n",
    "\n",
    "Iterating through the multiple calls to append adds to the complexity, making it equivalent to that of extend, and since extend's iteration is implemented in C, it will always be faster if you intend to append successive items from an iterable onto a list\n",
    "\n",
    "#### Conclusion\n",
    "\n",
    "We see that extend can run much faster than append, and it is semantically clearer, so it is preferred when you intend to append each element in an iterable to a list.\n",
    "\n",
    "If you only have a single element to add to the list, use append."
   ]
  },
  {
   "cell_type": "markdown",
   "metadata": {},
   "source": [
    "## Consuming\n",
    "\n",
    "Similarly, the elements of the deque can be consumed from both ends or either end, depending on the algorithm being applied.\n",
    "\n",
    "Use pop() to remove an item from the “right” end of the deque and popleft() to take an item from the “left” end."
   ]
  },
  {
   "cell_type": "code",
   "execution_count": 3,
   "metadata": {
    "collapsed": false
   },
   "outputs": [
    {
     "name": "stdout",
     "output_type": "stream",
     "text": [
      "From the right:\n",
      "d:  deque(['a', 'b', 'c', 'd', 'e', 'f', 'g'])\n",
      "gfedcba\n",
      "\n",
      "From the left:\n",
      "d:  deque([0, 1, 2, 3, 4, 5])\n",
      "012345"
     ]
    }
   ],
   "source": [
    "# collections_deque_consuming.py\n",
    "import collections\n",
    "\n",
    "print('From the right:')\n",
    "d = collections.deque('abcdefg')\n",
    "print('d: ',d)\n",
    "while True:\n",
    "    try:\n",
    "        print(d.pop(), end='')\n",
    "    except IndexError:\n",
    "        break\n",
    "print()\n",
    "\n",
    "print('\\nFrom the left:')\n",
    "d = collections.deque(range(6))\n",
    "print('d: ',d)\n",
    "while True:\n",
    "    try:\n",
    "        print(d.popleft(), end='')\n",
    "    except IndexError:\n",
    "        break"
   ]
  },
  {
   "cell_type": "markdown",
   "metadata": {},
   "source": [
    "Since deques are thread-safe, the contents can even be consumed from both ends at the same time from separate threads.\n",
    "\n",
    "The threads in this example alternate between each end, removing items until the deque is empty."
   ]
  },
  {
   "cell_type": "code",
   "execution_count": 4,
   "metadata": {
    "collapsed": false
   },
   "outputs": [
    {
     "name": "stdout",
     "output_type": "stream",
     "text": [
      "    Left: 0\n",
      "   Right: 6\n",
      "    Left: 1\n",
      "   Right: 5\n",
      "    Left: 2\n",
      "   Right: 4\n",
      "    Left: 3\n",
      "   Right done\n",
      "    Left done\n"
     ]
    }
   ],
   "source": [
    "# collections_deque_both_ends.py\n",
    "import collections\n",
    "import threading\n",
    "import time\n",
    "\n",
    "candle = collections.deque(range(7))\n",
    "\n",
    "\n",
    "def burn(direction, nextSource):\n",
    "    while True:\n",
    "        try:\n",
    "            next = nextSource()\n",
    "        except IndexError:\n",
    "            break\n",
    "        else:\n",
    "            print('{:>8}: {}'.format(direction, next))\n",
    "            time.sleep(0.3)\n",
    "    print('{:>8} done'.format(direction))\n",
    "    return\n",
    "\n",
    "left = threading.Thread(target=burn,\n",
    "                        args=('Left', candle.popleft))\n",
    "right = threading.Thread(target=burn,\n",
    "                         args=('Right', candle.pop))\n",
    "\n",
    "left.start()\n",
    "time.sleep(0.1)\n",
    "right.start()\n",
    "\n",
    "left.join()\n",
    "right.join()"
   ]
  },
  {
   "cell_type": "markdown",
   "metadata": {},
   "source": [
    "## Rotating\n",
    "\n",
    "Another useful aspect of the deque is the ability to rotate it in either direction, so as to skip over some items.\n",
    "\n",
    "Rotating the deque to the right (using a positive rotation) takes items from the right end and moves them to the left end. Rotating to the left (with a negative value) takes items from the left end and moves them to the right end. It may help to visualize the items in the deque as being engraved along the edge of a dial."
   ]
  },
  {
   "cell_type": "code",
   "execution_count": 5,
   "metadata": {
    "collapsed": false
   },
   "outputs": [
    {
     "name": "stdout",
     "output_type": "stream",
     "text": [
      "Normal        : deque([0, 1, 2, 3, 4, 5, 6, 7, 8, 9])\n",
      "Right rotation: deque([8, 9, 0, 1, 2, 3, 4, 5, 6, 7])\n",
      "Left rotation : deque([2, 3, 4, 5, 6, 7, 8, 9, 0, 1])\n"
     ]
    }
   ],
   "source": [
    "# collections_deque_rotate.py\n",
    "import collections\n",
    "\n",
    "d = collections.deque(range(10))\n",
    "print('Normal        :', d)\n",
    "\n",
    "d = collections.deque(range(10))\n",
    "d.rotate(2)\n",
    "print('Right rotation:', d)\n",
    "\n",
    "d = collections.deque(range(10))\n",
    "d.rotate(-2)\n",
    "print('Left rotation :', d)"
   ]
  },
  {
   "cell_type": "markdown",
   "metadata": {},
   "source": [
    "## Constraining the Queue Size\n",
    "\n",
    "A deque instance can be configured with a maximum length so that it never grows beyond that size. When the queue reaches the specified length, existing items are discarded as new items are added. This behavior is useful for finding the last n items in a stream of undetermined length.\n",
    "\n",
    "The deque length is maintained regardless of which end the items are added to."
   ]
  },
  {
   "cell_type": "code",
   "execution_count": 6,
   "metadata": {
    "collapsed": false
   },
   "outputs": [
    {
     "name": "stdout",
     "output_type": "stream",
     "text": [
      "\n",
      "n = 17\n",
      "D1: deque([17], maxlen=3)\n",
      "D2: deque([17], maxlen=3)\n",
      "\n",
      "n = 72\n",
      "D1: deque([17, 72], maxlen=3)\n",
      "D2: deque([72, 17], maxlen=3)\n",
      "\n",
      "n = 97\n",
      "D1: deque([17, 72, 97], maxlen=3)\n",
      "D2: deque([97, 72, 17], maxlen=3)\n",
      "\n",
      "n = 8\n",
      "D1: deque([72, 97, 8], maxlen=3)\n",
      "D2: deque([8, 97, 72], maxlen=3)\n",
      "\n",
      "n = 32\n",
      "D1: deque([97, 8, 32], maxlen=3)\n",
      "D2: deque([32, 8, 97], maxlen=3)\n"
     ]
    }
   ],
   "source": [
    "# collections_deque_maxlen.py\n",
    "import collections\n",
    "import random\n",
    "\n",
    "# Set the random seed so we see the same output each time\n",
    "# the script is run.\n",
    "random.seed(1)\n",
    "\n",
    "d1 = collections.deque(maxlen=3)\n",
    "d2 = collections.deque(maxlen=3)\n",
    "\n",
    "for i in range(5):\n",
    "    n = random.randint(0, 100)\n",
    "    print('\\nn =', n)\n",
    "    d1.append(n)\n",
    "    d2.appendleft(n)\n",
    "    print('D1:', d1)\n",
    "    print('D2:', d2)"
   ]
  }
 ],
 "metadata": {
  "kernelspec": {
   "display_name": "Python 3",
   "language": "python",
   "name": "python3"
  },
  "language_info": {
   "codemirror_mode": {
    "name": "ipython",
    "version": 3
   },
   "file_extension": ".py",
   "mimetype": "text/x-python",
   "name": "python",
   "nbconvert_exporter": "python",
   "pygments_lexer": "ipython3",
   "version": "3.5.2"
  }
 },
 "nbformat": 4,
 "nbformat_minor": 2
}
