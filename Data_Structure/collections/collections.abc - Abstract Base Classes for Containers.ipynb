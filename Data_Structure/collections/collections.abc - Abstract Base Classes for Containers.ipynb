{
 "cells": [
  {
   "cell_type": "markdown",
   "metadata": {},
   "source": [
    "# collections.abc - Abstract Base Classes for Containers\n",
    "\n",
    "Purpose:\tAbstract base classes for container data types."
   ]
  },
  {
   "cell_type": "markdown",
   "metadata": {},
   "source": [
    "The collections.abc module contains abstract base classes that define the APIs for container data structures built into Python and provided by the collections module. Refer to the table below for a list of the classes and their purposes."
   ]
  },
  {
   "cell_type": "markdown",
   "metadata": {},
   "source": [
    "Abstract Base Classes\n",
    "\n",
    "| Class           | Base Class(es)             | API Purpose                                                                         |\n",
    "|-----------------|----------------------------|-------------------------------------------------------------------------------------|\n",
    "| Container       |                            | Basic container features, such as the in operator.                                  |\n",
    "| Hashable        |                            | Adds support for providing a hash value for the container instance.                 |\n",
    "| Iterable        |                            | Can create an iterator over the container contents.                                 |\n",
    "| Iterator        | Iterable                   | Is an iterator over the container contents.                                         |\n",
    "| Generator       | Iterator                   | Extends iterators with the generator protocol from PEP 342.                         |\n",
    "| Sized           |                            | Adds methods for containers that know how big they are.                             |\n",
    "| Callable        |                            | For containers that can be invoked as a function.                                   |\n",
    "| Sequence        | Sized, Iterable, Container | Supports retrieving individual items, iterating, and changing the order of items.   |\n",
    "| MutableSequence | Sequence                   | Supports adding and removing items to an instance after it has been created.        |\n",
    "| ByteString      | Sequence                   | Combined API of bytes and bytearray.                                                |\n",
    "| Set             | Sized, Iterable, Container | Supports set operations such as intersection and union.                             |\n",
    "| MutableSet      | Set                        | Adds methods for manipulating the set contents after it is created.                 |\n",
    "| Mapping         | Sized, Iterable, Container | Defines the read-only API used by dict.                                             |\n",
    "| MutableMapping  | Mapping                    | Defines the methods for manipulating the contents of a mapping after it is created. |\n",
    "| MappingView     | Sized                      | Defines the view API for accessing a mapping from an iterator.                      |\n",
    "| ItemsView       | MappingView, Set           | Part of the view API.                                                               |\n",
    "| KeysView        | MappingView, Set           | Part of the view API.                                                               |\n",
    "| ValuesView      | MappingView                | Part of the view API.                                                               |\n",
    "| Awaitable       |                            | API for objects that can be used in await expressions, such as coroutines.          |\n",
    "| Coroutine       | Awaitable                  | API for classes that implement the coroutine protocol.                              |\n",
    "| AsyncIterable   |                            | API for iterables compatible with async for, as defined in PEP 492.                 |\n",
    "| AsyncIterator   | AsyncIterable              | API for asynchronous iterators.                                                     |"
   ]
  },
  {
   "cell_type": "markdown",
   "metadata": {},
   "source": [
    "In addition to clearly defining the APIs for containers with different semantics, these abstract base classes can be used to test whether an object supports an API before invoking it using isinstance(). Some of the classes also provide implementations of methods, and they can be used as mix-ins to build up custom container types without implementing every method from scratch."
   ]
  }
 ],
 "metadata": {
  "kernelspec": {
   "display_name": "Python 3",
   "language": "python",
   "name": "python3"
  },
  "language_info": {
   "codemirror_mode": {
    "name": "ipython",
    "version": 3
   },
   "file_extension": ".py",
   "mimetype": "text/x-python",
   "name": "python",
   "nbconvert_exporter": "python",
   "pygments_lexer": "ipython3",
   "version": "3.5.2"
  }
 },
 "nbformat": 4,
 "nbformat_minor": 2
}
