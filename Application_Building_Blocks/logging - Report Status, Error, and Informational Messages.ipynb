{
 "cells": [
  {
   "cell_type": "markdown",
   "metadata": {},
   "source": [
    "# logging - Report Status, Error, and Informational Messages\n",
    "\n",
    "Purpose:\tReport status, error, and informational messages.\n",
    "\n",
    "The logging module defines a standard API for reporting errors and status information from applications and libraries. The key benefit of having the logging API provided by a standard library module is that all Python modules can participate in logging, so an application’s log can include messages from third-party modules."
   ]
  },
  {
   "cell_type": "markdown",
   "metadata": {},
   "source": [
    "## Logging Components\n",
    "\n",
    "The logging system is made up of four interacting types of objects. Each module or application that wants to log uses a Logger instance to add information to the logs. Invoking the logger creates a LogRecord, which is used to hold the information in memory until it is processed. A Logger may have a number of Handler objects configured to receive and process log records. The Handler uses a Formatter to turn the log records into output messages."
   ]
  },
  {
   "cell_type": "markdown",
   "metadata": {},
   "source": [
    "## Logging in Applications vs. Libraries\n",
    "\n",
    "Application developers and library authors can both use logging, but each audience has different considerations to keep in mind.\n",
    "\n",
    "Application developers configure the logging module, directing the messages to appropriate output channels. It is possible to log messages with different verbosity levels or to different destinations. Handlers for writing log messages to files, HTTP GET/POST locations, email via SMTP, generic sockets, or OS-specific logging mechanisms are all included, and it is possible to create custom log destination classes for special requirements not handled by any of the built-in classes.\n",
    "\n",
    "Developers of libraries can also use logging and have even less work to do. Simply create a logger instance for each context, using an appropriate name, and then log messages using the standard levels. As long as a library uses the logging API with consistent naming and level selections, the application can be configured to show or hide messages from the library, as desired."
   ]
  },
  {
   "cell_type": "markdown",
   "metadata": {},
   "source": [
    "## Logging to a File\n",
    "\n",
    "Most applications are configured to log to a file. Use the basicConfig() function to set up the default handler so that debug messages are written to a file."
   ]
  },
  {
   "cell_type": "code",
   "execution_count": 1,
   "metadata": {
    "collapsed": false
   },
   "outputs": [
    {
     "name": "stdout",
     "output_type": "stream",
     "text": [
      "FILE:\n",
      "DEBUG:root:This message should go to the log file\n",
      "\n"
     ]
    }
   ],
   "source": [
    "# logging_file_example.py\n",
    "import logging\n",
    "\n",
    "LOG_FILENAME = 'logging_example.out'\n",
    "logging.basicConfig(\n",
    "    filename=LOG_FILENAME,\n",
    "    level=logging.DEBUG,\n",
    ")\n",
    "\n",
    "logging.debug('This message should go to the log file')\n",
    "\n",
    "with open(LOG_FILENAME, 'rt') as f:\n",
    "    body = f.read()\n",
    "\n",
    "print('FILE:')\n",
    "print(body)"
   ]
  },
  {
   "cell_type": "markdown",
   "metadata": {},
   "source": [
    "After running the script, the log message is written to logging_example.out:"
   ]
  },
  {
   "cell_type": "code",
   "execution_count": 2,
   "metadata": {
    "collapsed": false
   },
   "outputs": [
    {
     "name": "stdout",
     "output_type": "stream",
     "text": [
      "DEBUG:root:This message should go to the log file\r\n"
     ]
    }
   ],
   "source": [
    "!cat logging_example.out"
   ]
  },
  {
   "cell_type": "markdown",
   "metadata": {},
   "source": [
    "## Rotating Log Files\n",
    "\n",
    "Running the script repeatedly causes more messages to be appended to the file. To create a new file each time the program runs, pass a filemode argument to basicConfig() with a value of 'w'. Rather than managing the creation of files this way, though, it is better to use a RotatingFileHandler, which creates new files automatically and preserves the old log file at the same time."
   ]
  },
  {
   "cell_type": "code",
   "execution_count": 3,
   "metadata": {
    "collapsed": false
   },
   "outputs": [
    {
     "name": "stdout",
     "output_type": "stream",
     "text": [
      "logging_rotatingfile_example.out\n",
      "logging_rotatingfile_example.out.1\n",
      "logging_rotatingfile_example.out.2\n",
      "logging_rotatingfile_example.out.3\n",
      "logging_rotatingfile_example.out.4\n",
      "logging_rotatingfile_example.out.5\n"
     ]
    }
   ],
   "source": [
    "# logging_rotatingfile_example.py\n",
    "import glob\n",
    "import logging\n",
    "import logging.handlers\n",
    "\n",
    "LOG_FILENAME = 'logging_rotatingfile_example.out'\n",
    "\n",
    "# Set up a specific logger with our desired output level\n",
    "my_logger = logging.getLogger('MyLogger')\n",
    "my_logger.setLevel(logging.DEBUG)\n",
    "\n",
    "# Add the log message handler to the logger\n",
    "handler = logging.handlers.RotatingFileHandler(\n",
    "    LOG_FILENAME,\n",
    "    maxBytes=20,\n",
    "    backupCount=5,\n",
    ")\n",
    "my_logger.addHandler(handler)\n",
    "\n",
    "# Log some messages\n",
    "for i in range(20):\n",
    "    my_logger.debug('i = %d' % i)\n",
    "\n",
    "# See what files are created\n",
    "logfiles = glob.glob('%s*' % LOG_FILENAME)\n",
    "for filename in logfiles:\n",
    "    print(filename)"
   ]
  },
  {
   "cell_type": "markdown",
   "metadata": {},
   "source": [
    "The most current file is always logging_rotatingfile_example.out, and each time it reaches the size limit it is renamed with the suffix .1. Each of the existing backup files is renamed to increment the suffix (.1 becomes .2, etc.) and the .5 file is erased."
   ]
  },
  {
   "cell_type": "markdown",
   "metadata": {},
   "source": [
    "## Verbosity Levels\n",
    "\n",
    "Another useful feature of the logging API is the ability to produce different messages at different log levels. This means code can be instrumented with debug messages, for example, and the log level can be set so that those debug messages are not written on a production system. the table below lists the logging levels defined by logging."
   ]
  },
  {
   "cell_type": "markdown",
   "metadata": {},
   "source": [
    "Logging Levels\n",
    "\n",
    "| Level    | Value |\n",
    "|----------|-------|\n",
    "| CRITICAL | 50    |\n",
    "| ERROR    | 40    |\n",
    "| WARNING  | 30    |\n",
    "| INFO     | 20    |\n",
    "| DEBUG    | 10    |\n",
    "| UNSET    | 0     |"
   ]
  },
  {
   "cell_type": "markdown",
   "metadata": {},
   "source": [
    "The log message is only emitted if the handler and logger are configured to emit messages of that level or higher. For example, if a message is CRITICAL, and the logger is set to ERROR, the message is emitted (50 > 40). If a message is a WARNING, and the logger is set to produce only messages set to ERROR, the message is not emitted (30 < 40).\n",
    "\n"
   ]
  },
  {
   "cell_type": "code",
   "execution_count": 4,
   "metadata": {
    "collapsed": false
   },
   "outputs": [],
   "source": [
    "# logging_level_example.py\n",
    "import logging\n",
    "import sys\n",
    "\n",
    "LEVELS = {\n",
    "    'debug': logging.DEBUG,\n",
    "    'info': logging.INFO,\n",
    "    'warning': logging.WARNING,\n",
    "    'error': logging.ERROR,\n",
    "    'critical': logging.CRITICAL,\n",
    "}\n",
    "\n",
    "if len(sys.argv) > 1:\n",
    "    level_name = sys.argv[1]\n",
    "    level = LEVELS.get(level_name, logging.NOTSET)\n",
    "    logging.basicConfig(level=level)\n",
    "\n",
    "logging.debug('This is a debug message')\n",
    "logging.info('This is an info message')\n",
    "logging.warning('This is a warning message')\n",
    "logging.error('This is an error message')\n",
    "logging.critical('This is a critical error message')"
   ]
  },
  {
   "cell_type": "markdown",
   "metadata": {},
   "source": [
    "Run the script with an argument like ‘debug’ or ‘warning’ to see which messages show up at different levels:"
   ]
  },
  {
   "cell_type": "code",
   "execution_count": 5,
   "metadata": {
    "collapsed": false
   },
   "outputs": [
    {
     "name": "stdout",
     "output_type": "stream",
     "text": [
      "DEBUG:root:This is a debug message\r\n",
      "INFO:root:This is an info message\r\n",
      "WARNING:root:This is a warning message\r\n",
      "ERROR:root:This is an error message\r\n",
      "CRITICAL:root:This is a critical error message\r\n"
     ]
    }
   ],
   "source": [
    "!python3 logging_level_example.py debug"
   ]
  },
  {
   "cell_type": "code",
   "execution_count": 6,
   "metadata": {
    "collapsed": false
   },
   "outputs": [
    {
     "name": "stdout",
     "output_type": "stream",
     "text": [
      "INFO:root:This is an info message\r\n",
      "WARNING:root:This is a warning message\r\n",
      "ERROR:root:This is an error message\r\n",
      "CRITICAL:root:This is a critical error message\r\n"
     ]
    }
   ],
   "source": [
    "!python3 logging_level_example.py info"
   ]
  },
  {
   "cell_type": "code",
   "execution_count": 7,
   "metadata": {
    "collapsed": false
   },
   "outputs": [
    {
     "name": "stdout",
     "output_type": "stream",
     "text": [
      "WARNING:root:This is a warning message\r\n",
      "ERROR:root:This is an error message\r\n",
      "CRITICAL:root:This is a critical error message\r\n"
     ]
    }
   ],
   "source": [
    "!python3 logging_level_example.py"
   ]
  },
  {
   "cell_type": "code",
   "execution_count": 8,
   "metadata": {
    "collapsed": false
   },
   "outputs": [
    {
     "name": "stdout",
     "output_type": "stream",
     "text": [
      "DEBUG:root:This is a debug message\r\n",
      "INFO:root:This is an info message\r\n",
      "WARNING:root:This is a warning message\r\n",
      "ERROR:root:This is an error message\r\n",
      "CRITICAL:root:This is a critical error message\r\n"
     ]
    }
   ],
   "source": [
    "!python3 logging_level_example.py unknown abc"
   ]
  },
  {
   "cell_type": "markdown",
   "metadata": {},
   "source": [
    "## Naming Logger Instances\n",
    "\n",
    "All of the previous log messages all have ‘root’ embedded in them because the code uses the root logger. An easy way to tell where a specific log message comes from is to use a separate logger object for each module. Log messages sent to a logger include the name of that logger. Here is an example of how to log from different modules so it is easy to trace the source of the message."
   ]
  },
  {
   "cell_type": "code",
   "execution_count": 9,
   "metadata": {
    "collapsed": true
   },
   "outputs": [],
   "source": [
    "# logging_modules_example.py\n",
    "import logging\n",
    "\n",
    "logging.basicConfig(level=logging.WARNING)\n",
    "\n",
    "logger1 = logging.getLogger('package1.module1')\n",
    "logger2 = logging.getLogger('package2.module2')\n",
    "\n",
    "logger1.warning('This message comes from one module')\n",
    "logger2.warning('This comes from another module')"
   ]
  },
  {
   "cell_type": "markdown",
   "metadata": {},
   "source": [
    "The output shows the different module names for each output line."
   ]
  },
  {
   "cell_type": "code",
   "execution_count": 10,
   "metadata": {
    "collapsed": false
   },
   "outputs": [
    {
     "name": "stdout",
     "output_type": "stream",
     "text": [
      "WARNING:package1.module1:This message comes from one module\r\n",
      "WARNING:package2.module2:This comes from another module\r\n"
     ]
    }
   ],
   "source": [
    "!python3 logging_modules_example.py"
   ]
  },
  {
   "cell_type": "markdown",
   "metadata": {},
   "source": [
    "## The Logging Tree\n",
    "\n",
    "The Logger instances are configured in a tree structure, based on their names, as illustrated in the figure. Typically each application or library defines a base name, with loggers for individual modules set as children. The root logger has no name."
   ]
  },
  {
   "cell_type": "markdown",
   "metadata": {},
   "source": [
    "The tree structure is useful for configuring logging because it means each logger does not need its own set of handlers. If a logger does not have any handlers, the message is handed to its parent for processing. This means that for most applications it is only necessary to configure handlers on the root logger, and all log information will be collected and sent to the same place, as shown in the figure."
   ]
  },
  {
   "cell_type": "markdown",
   "metadata": {},
   "source": [
    "The tree structure also allows different verbosity levels, handlers, and formatters to be set for different parts of the application or library to control which messages are logged and where they go, as in the figure."
   ]
  },
  {
   "cell_type": "markdown",
   "metadata": {},
   "source": [
    "## Integration with the warnings Module\n",
    "\n",
    "The logging module integrates with warnings through captureWarnings(), which configures warnings to send messages through the logging system instead of outputting them directly."
   ]
  },
  {
   "cell_type": "code",
   "execution_count": 11,
   "metadata": {
    "collapsed": false
   },
   "outputs": [
    {
     "name": "stderr",
     "output_type": "stream",
     "text": [
      "/Users/binyang/anaconda/envs/py3.5/lib/python3.5/site-packages/ipykernel/__main__.py:9: UserWarning: This warning is not sent to the logs\n"
     ]
    }
   ],
   "source": [
    "# logging_capture_warnings.py\n",
    "import logging\n",
    "import warnings\n",
    "\n",
    "logging.basicConfig(\n",
    "    level=logging.INFO,\n",
    ")\n",
    "\n",
    "warnings.warn('This warning is not sent to the logs')\n",
    "\n",
    "logging.captureWarnings(True)\n",
    "\n",
    "warnings.warn('This warning is sent to the logs')"
   ]
  },
  {
   "cell_type": "markdown",
   "metadata": {},
   "source": [
    "The warning message is sent to a logger named py.warnings using the WARNING level."
   ]
  },
  {
   "cell_type": "code",
   "execution_count": 12,
   "metadata": {
    "collapsed": false
   },
   "outputs": [
    {
     "name": "stdout",
     "output_type": "stream",
     "text": [
      "logging_capture_warnings.py:9: UserWarning: This warning is not sent to the logs\r\n",
      "  warnings.warn('This warning is not sent to the logs')\r\n",
      "WARNING:py.warnings:logging_capture_warnings.py:13: UserWarning: This warning is sent to the logs\r\n",
      "  warnings.warn('This warning is sent to the logs')\r\n",
      "\r\n"
     ]
    }
   ],
   "source": [
    "! python3 logging_capture_warnings.py"
   ]
  }
 ],
 "metadata": {
  "kernelspec": {
   "display_name": "Python 3",
   "language": "python",
   "name": "python3"
  },
  "language_info": {
   "codemirror_mode": {
    "name": "ipython",
    "version": 3
   },
   "file_extension": ".py",
   "mimetype": "text/x-python",
   "name": "python",
   "nbconvert_exporter": "python",
   "pygments_lexer": "ipython3",
   "version": "3.5.2"
  }
 },
 "nbformat": 4,
 "nbformat_minor": 2
}
