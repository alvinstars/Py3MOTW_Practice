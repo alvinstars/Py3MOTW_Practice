{
 "cells": [
  {
   "cell_type": "markdown",
   "metadata": {},
   "source": [
    "# importlib - Python’s Import Mechanism\n",
    "Purpose:\tThe importlib module exposes the implementation of Python’s import statement.\n",
    "\n",
    "The importlib module includes functions that implement Python’s import mechanism for loading code in packages and modules. It is one access point to importing modules dynamically, and useful in some cases where the name of the module that needs to be imported is unknown when the code is written (for example, for plugins or extensions to an application)."
   ]
  },
  {
   "cell_type": "markdown",
   "metadata": {},
   "source": [
    "## Example Package\n",
    "\n",
    "The examples in this section use a package called example with __init__.py."
   ]
  },
  {
   "cell_type": "code",
   "execution_count": 1,
   "metadata": {
    "collapsed": false
   },
   "outputs": [
    {
     "name": "stdout",
     "output_type": "stream",
     "text": [
      "Importing example package\n"
     ]
    }
   ],
   "source": [
    "# example/__init__.py\n",
    "print('Importing example package')"
   ]
  },
  {
   "cell_type": "code",
   "execution_count": 2,
   "metadata": {
    "collapsed": false
   },
   "outputs": [
    {
     "name": "stdout",
     "output_type": "stream",
     "text": [
      "Importing submodule\n"
     ]
    }
   ],
   "source": [
    "# example/submodule.py\n",
    "print('Importing submodule')"
   ]
  },
  {
   "cell_type": "markdown",
   "metadata": {},
   "source": [
    "## Module Types\n",
    "\n",
    "Python supports several styles of modules. Each requires its own handling when opening the module and adding it to the namespace, and support for the formats varies by platform. \n",
    "\n",
    "For example, under Microsoft Windows, shared libraries are loaded from files with extensions .dll or .pyd, instead of .so. The extensions for C modules may also change when using a debug build of the interpreter instead of a normal release build, since they can be compiled with debug information included as well. If a C extension library or other module is not loading as expected, use the constants defined in importlib.machinery to find the supported types for the current platform, and the parameters for loading them."
   ]
  },
  {
   "cell_type": "code",
   "execution_count": 3,
   "metadata": {
    "collapsed": false
   },
   "outputs": [
    {
     "name": "stdout",
     "output_type": "stream",
     "text": [
      "Source:     ['.py']\n",
      "Debug:      ['.pyc']\n",
      "Optimized:  ['.pyc']\n",
      "Bytecode:   ['.pyc']\n",
      "Extension:  ['.cpython-35m-darwin.so', '.abi3.so', '.so']\n"
     ]
    }
   ],
   "source": [
    "# importlib_suffixes.py\n",
    "import importlib.machinery\n",
    "\n",
    "SUFFIXES = [\n",
    "    ('Source:', importlib.machinery.SOURCE_SUFFIXES),\n",
    "    ('Debug:',\n",
    "     importlib.machinery.DEBUG_BYTECODE_SUFFIXES),\n",
    "    ('Optimized:',\n",
    "     importlib.machinery.OPTIMIZED_BYTECODE_SUFFIXES),\n",
    "    ('Bytecode:', importlib.machinery.BYTECODE_SUFFIXES),\n",
    "    ('Extension:', importlib.machinery.EXTENSION_SUFFIXES),\n",
    "]\n",
    "\n",
    "\n",
    "def main():\n",
    "    tmpl = '{:<10}  {}'\n",
    "    for name, value in SUFFIXES:\n",
    "        print(tmpl.format(name, value))\n",
    "\n",
    "if __name__ == '__main__':\n",
    "    main()"
   ]
  },
  {
   "cell_type": "markdown",
   "metadata": {},
   "source": [
    "The return value is a sequence of tuples containing the file extension, mode to use for opening the file containing the module, and a type code from a constant defined in the module. This table is incomplete, because some of the importable module or package types do not correspond to single files."
   ]
  },
  {
   "cell_type": "markdown",
   "metadata": {},
   "source": [
    "## Importing Modules\n",
    "\n",
    "The high level API in importlib makes it simple to import a module given an absolute or relative name. When using a relative module name, specify the package containing the module as a separate argument."
   ]
  },
  {
   "cell_type": "code",
   "execution_count": 4,
   "metadata": {
    "collapsed": false
   },
   "outputs": [
    {
     "name": "stdout",
     "output_type": "stream",
     "text": [
      "importing m1\n",
      "Importing example package\n",
      "Importing submodule\n",
      "m1 - <module 'example.submodule' from '/Users/binyang/GitHub/Py3MOTW/Module_and_Package/example/submodule.py'>\n",
      "importing m2\n",
      "m2 - <module 'example.submodule' from '/Users/binyang/GitHub/Py3MOTW/Module_and_Package/example/submodule.py'>\n",
      "True\n"
     ]
    }
   ],
   "source": [
    "#importlib_import_module.py\n",
    "import importlib\n",
    "\n",
    "print('importing m1')\n",
    "m1 = importlib.import_module('example.submodule')\n",
    "print('m1 - {}'.format(m1))\n",
    "\n",
    "print('importing m2')\n",
    "m2 = importlib.import_module('.submodule', package='example')\n",
    "print('m2 - {}'.format(m2))\n",
    "\n",
    "print(m1 is m2)"
   ]
  },
  {
   "cell_type": "markdown",
   "metadata": {},
   "source": [
    "If the module cannot be imported, import_module() raises ImportError."
   ]
  },
  {
   "cell_type": "code",
   "execution_count": 5,
   "metadata": {
    "collapsed": false
   },
   "outputs": [
    {
     "name": "stdout",
     "output_type": "stream",
     "text": [
      "Error: No module named 'example.nosuchmodule'\n"
     ]
    }
   ],
   "source": [
    "# importlib_import_module_error.py\n",
    "import importlib\n",
    "\n",
    "\n",
    "try:\n",
    "    importlib.import_module('example.nosuchmodule')\n",
    "except ImportError as err:\n",
    "    print('Error:', err)"
   ]
  },
  {
   "cell_type": "markdown",
   "metadata": {},
   "source": [
    "To reload an existing module, use reload()."
   ]
  },
  {
   "cell_type": "code",
   "execution_count": 6,
   "metadata": {
    "collapsed": false
   },
   "outputs": [
    {
     "name": "stdout",
     "output_type": "stream",
     "text": [
      "<module 'example.submodule' from '/Users/binyang/GitHub/Py3MOTW/Module_and_Package/example/submodule.py'>\n",
      "Importing submodule\n",
      "True\n"
     ]
    }
   ],
   "source": [
    "# importlib_reload.py\n",
    "import importlib\n",
    "\n",
    "m1 = importlib.import_module('example.submodule')\n",
    "print(m1)\n",
    "\n",
    "m2 = importlib.reload(m1)\n",
    "print(m1 is m2)"
   ]
  },
  {
   "cell_type": "markdown",
   "metadata": {},
   "source": [
    "The return value from reload() is the new module. Depending on which type of loader was used, it may be the same module instance."
   ]
  },
  {
   "cell_type": "markdown",
   "metadata": {},
   "source": [
    "## Loaders\n",
    "\n",
    "The lower-level API in importlib provides access to the loader objects, as described in Modules and Imports from the section on the sys module. To get a loader for a module, use find_loader(). Then to retrieve the module, use the loader’s load_module() method."
   ]
  },
  {
   "cell_type": "code",
   "execution_count": 7,
   "metadata": {
    "collapsed": false
   },
   "outputs": [
    {
     "name": "stdout",
     "output_type": "stream",
     "text": [
      "\n",
      "Loader spec: \n",
      " ModuleSpec(name='example', loader=<_frozen_importlib_external.SourceFileLoader object at 0x1046c0470>, origin='/Users/binyang/GitHub/Py3MOTW/Module_and_Package/example/__init__.py', submodule_search_locations=['/Users/binyang/GitHub/Py3MOTW/Module_and_Package/example'])\n",
      "\n",
      "Loader: <_frozen_importlib_external.SourceFileLoader object at 0x1046c0470>\n",
      "\n",
      "Importing example package\n",
      "\n",
      "Module: <module 'example' from '/Users/binyang/GitHub/Py3MOTW/Module_and_Package/example/__init__.py'>\n"
     ]
    }
   ],
   "source": [
    "# importlib_find_loader.py\n",
    "import importlib\n",
    "\n",
    "# deprecated importlib.find_loader\n",
    "# loader = importlib.find_loader('example')\n",
    "# print('Loader:', loader)\n",
    "\n",
    "# recommended importlib.util.find_spec()\n",
    "loader_spec = importlib.util.find_spec('example')\n",
    "print('\\nLoader spec: \\n', loader_spec)\n",
    "\n",
    "# recommended: to replace find_loader\n",
    "loader_new = importlib.util.find_spec('example').loader\n",
    "print('\\nLoader:', loader_new)\n",
    "\n",
    "print()\n",
    "m = loader_new.load_module()\n",
    "print('\\nModule:', m)"
   ]
  },
  {
   "cell_type": "markdown",
   "metadata": {},
   "source": [
    "Submodules within packages need to be loaded separately using the path from the package. In the following example, the package is loaded first and then its path is passed to find_loader() to create a loader capable of loading the submodule."
   ]
  },
  {
   "cell_type": "code",
   "execution_count": 8,
   "metadata": {
    "collapsed": false,
    "scrolled": true
   },
   "outputs": [
    {
     "name": "stdout",
     "output_type": "stream",
     "text": [
      "Importing example package\n",
      "Loader: <_frozen_importlib_external.SourceFileLoader object at 0x1046c0c50>\n",
      "pkg.__path__: ['/Users/binyang/GitHub/Py3MOTW/Module_and_Package/example']\n",
      "Importing submodule\n",
      "Module: <module 'submodule' from '/Users/binyang/GitHub/Py3MOTW/Module_and_Package/example/submodule.py'>\n"
     ]
    },
    {
     "name": "stderr",
     "output_type": "stream",
     "text": [
      "/Users/binyang/anaconda/envs/py3.5/lib/python3.5/site-packages/ipykernel/__main__.py:11: DeprecationWarning: Use importlib.util.find_spec() instead.\n"
     ]
    }
   ],
   "source": [
    "# importlib_submodule.py\n",
    "import importlib\n",
    "\n",
    "# deprecating\n",
    "# pkg_loader = importlib.find_loader('example')\n",
    "\n",
    "pkg_loader = importlib.util.find_spec('example').loader\n",
    "pkg = pkg_loader.load_module()\n",
    "\n",
    "# loader = importlib.util.find_spec('submodule', pkg.__path__).loader\n",
    "loader = importlib.find_loader('submodule', pkg.__path__)\n",
    "print('Loader:', loader)\n",
    "print('pkg.__path__:', pkg.__path__)\n",
    "\n",
    "m = loader.load_module()\n",
    "print('Module:', m)"
   ]
  },
  {
   "cell_type": "markdown",
   "metadata": {},
   "source": [
    "Unlike with import_module(), the name of the submodule should be given without any relative path prefix, since the loader will already be constrained by the package’s path."
   ]
  }
 ],
 "metadata": {
  "kernelspec": {
   "display_name": "Python 3",
   "language": "python",
   "name": "python3"
  },
  "language_info": {
   "codemirror_mode": {
    "name": "ipython",
    "version": 3
   },
   "file_extension": ".py",
   "mimetype": "text/x-python",
   "name": "python",
   "nbconvert_exporter": "python",
   "pygments_lexer": "ipython3",
   "version": "3.5.2"
  }
 },
 "nbformat": 4,
 "nbformat_minor": 2
}
