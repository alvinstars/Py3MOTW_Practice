{
 "cells": [
  {
   "cell_type": "markdown",
   "metadata": {},
   "source": [
    "# pkgutil - Package Utilities\n",
    "Purpose:\tAdd to the module search path for a specific package and work with resources included in a package.\n",
    "\n",
    "The pkgutil module includes functions for changing the import rules for Python packages and for loading non-code resources from files distributed within a package."
   ]
  },
  {
   "cell_type": "markdown",
   "metadata": {},
   "source": [
    "## Package Import Paths\n",
    "\n",
    "The extend_path() function is used to modify the search path and change the way sub-modules are imported from within a package so that several different directories can be combined as though they are one. This can be used to override installed versions of packages with development versions, or to combine platform-specific and shared modules into a single package namespace.\n",
    "\n",
    "The most common way to call extend_path() is by adding two lines to the __init__.py inside the package."
   ]
  },
  {
   "cell_type": "raw",
   "metadata": {},
   "source": [
    "import pkgutil\n",
    "__path__ = pkgutil.extend_pa"
   ]
  },
  {
   "cell_type": "markdown",
   "metadata": {},
   "source": [
    "extend_path() scans sys.path for directories that include a subdirectory named for the package given as the second argument. The list of directories is combined with the path value passed as the first argument and returned as a single list, suitable for use as the package import path.\n",
    "\n",
    "An example package called demopkg includes two files, __init__.py and shared.py. The __init__.py file in demopkg1 contains print statements to show the search path before and after it is modified, to highlight the difference."
   ]
  },
  {
   "cell_type": "raw",
   "metadata": {},
   "source": [
    "# demopkg1/__init__.py\n",
    "import pkgutil\n",
    "import pprint\n",
    "\n",
    "print('demopkg1.__path__ before:')\n",
    "pprint.pprint(__path__)\n",
    "print()\n",
    "\n",
    "__path__ = pkgutil.extend_path(__path__, __name__)\n",
    "\n",
    "print('demopkg1.__path__ after:')\n",
    "pprint.pprint(__path__)\n",
    "print()"
   ]
  },
  {
   "cell_type": "code",
   "execution_count": 1,
   "metadata": {
    "collapsed": false
   },
   "outputs": [
    {
     "name": "stdout",
     "output_type": "stream",
     "text": [
      "demopkg1.__path__ before:\n",
      "['/Users/binyang/GitHub/Py3MOTW/Module_and_Package/demopkg1']\n",
      "\n",
      "demopkg1.__path__ after:\n",
      "['/Users/binyang/GitHub/Py3MOTW/Module_and_Package/demopkg1', './demopkg1']\n",
      "\n",
      "demopkg1           : /Users/binyang/GitHub/Py3MOTW/Module_and_Package/demopkg1/__init__.py\n",
      "demopkg1.shared    : /Users/binyang/GitHub/Py3MOTW/Module_and_Package/demopkg1/shared.py\n",
      "demopkg1.not_shared: Not found (No module named 'demopkg1.not_shared')\n"
     ]
    }
   ],
   "source": [
    "# pkgutil_extend_path.py\n",
    "import demopkg1\n",
    "print('demopkg1           :', demopkg1.__file__)\n",
    "\n",
    "try:\n",
    "    import demopkg1.shared\n",
    "except Exception as err:\n",
    "    print('demopkg1.shared    : Not found ({})'.format(err))\n",
    "else:\n",
    "    print('demopkg1.shared    :', demopkg1.shared.__file__)\n",
    "\n",
    "try:\n",
    "    import demopkg1.not_shared\n",
    "except Exception as err:\n",
    "    print('demopkg1.not_shared: Not found ({})'.format(err))\n",
    "else:\n",
    "    print('demopkg1.not_shared:', demopkg1.not_shared.__file__)"
   ]
  },
  {
   "cell_type": "markdown",
   "metadata": {},
   "source": [
    "##### Note\n",
    "The full file system paths in these examples have been shortened to emphasize the parts that change."
   ]
  },
  {
   "cell_type": "markdown",
   "metadata": {},
   "source": [
    "However, if the extension directory is added to the PYTHONPATH and the program is run again, different results are produced."
   ]
  },
  {
   "cell_type": "raw",
   "metadata": {},
   "source": [
    "$ PYTHONPATH=extension python3 pkgutil_extend_path.py\n",
    "\n",
    "demopkg1.__path__ before:\n",
    "['.../demopkg1']\n",
    "\n",
    "demopkg1.__path__ after:\n",
    "['.../demopkg1',\n",
    " '.../extension/demopkg1']\n",
    "\n",
    "demopkg1           : .../demopkg1/__init__.py\n",
    "demopkg1.shared    : .../demopkg1/shared.py\n",
    "demopkg1.not_shared: .../extension/demopkg1/not_shared.py"
   ]
  },
  {
   "cell_type": "markdown",
   "metadata": {},
   "source": [
    "The version of demopkg1 inside the extension directory has been added to the search path, so the not_shared module is found there.\n",
    "\n",
    "Extending the path in this manner is useful for combining platform-specific versions of packages with common packages, especially if the platform-specific versions include C extension modules.\n",
    "\n"
   ]
  },
  {
   "cell_type": "markdown",
   "metadata": {},
   "source": [
    "## Development Versions of Packages\n",
    "\n",
    "While developing enhancements to a project, it is common to need to test changes to an installed package. Replacing the installed copy with a development version may be a bad idea, since it is not necessarily correct and other tools on the system are likely to depend on the installed package.\n",
    "\n",
    "A completely separate copy of the package could be configured in a development environment using virtualenv or venv, but for small modifications the overhead of setting up a virtual environment with all of the dependencies may be excessive.\n",
    "\n",
    "Another option is to use pkgutil to modify the module search path for modules that belong to the package under development. In this case, however, the path must be reversed so development version overrides the installed version.\n",
    "\n",
    "Given a package demopkg2 containing an __init__.py and overloaded.py, with the function under development located in demopkg2/overloaded.py. The installed version contains"
   ]
  },
  {
   "cell_type": "raw",
   "metadata": {},
   "source": [
    "# demopkg2/overloaded.py\n",
    "\n",
    "def func():\n",
    "    print('This is the installed version of func().')"
   ]
  },
  {
   "cell_type": "raw",
   "metadata": {},
   "source": [
    "# demopkg2/__init__.py\n",
    "import pkgutil\n",
    "\n",
    "__path__ = pkgutil.extend_path(__path__, __name__)\n",
    "__path__.reverse()"
   ]
  },
  {
   "cell_type": "markdown",
   "metadata": {},
   "source": [
    "reverse() is used to ensure that any directories added to the search path by pkgutil are scanned for imports before the default location."
   ]
  },
  {
   "cell_type": "code",
   "execution_count": 2,
   "metadata": {
    "collapsed": false
   },
   "outputs": [
    {
     "name": "stdout",
     "output_type": "stream",
     "text": [
      "demopkg2           : /Users/binyang/GitHub/Py3MOTW/Module_and_Package/demopkg2/__init__.py\n",
      "demopkg2.overloaded: ./demopkg2/overloaded.py\n",
      "\n",
      "This is the installed version of func().\n"
     ]
    }
   ],
   "source": [
    "# pkgutil_devel.py\n",
    "import demopkg2\n",
    "print('demopkg2           :', demopkg2.__file__)\n",
    "\n",
    "import demopkg2.overloaded\n",
    "print('demopkg2.overloaded:', demopkg2.overloaded.__file__)\n",
    "\n",
    "print()\n",
    "demopkg2.overloaded.func()"
   ]
  },
  {
   "cell_type": "markdown",
   "metadata": {},
   "source": [
    "A development directory contains a modified version of overloaded"
   ]
  },
  {
   "cell_type": "raw",
   "metadata": {},
   "source": [
    "# develop/demopkg2/overloaded.py\n",
    "\n",
    "def func():\n",
    "    print('This is the development version of func().')"
   ]
  },
  {
   "cell_type": "code",
   "execution_count": 3,
   "metadata": {
    "collapsed": false
   },
   "outputs": [
    {
     "name": "stdout",
     "output_type": "stream",
     "text": [
      "demopkg2           : /Users/binyang/GitHub/Py3MOTW/Module_and_Package/demopkg2/__init__.py\r\n",
      "demopkg2.overloaded: /Users/binyang/GitHub/Py3MOTW/Module_and_Package/develop/demopkg2/overloaded.py\r\n",
      "\r\n",
      "This is the development version of func().\r\n"
     ]
    }
   ],
   "source": [
    "!PYTHONPATH=develop python3 pkgutil_devel.py"
   ]
  },
  {
   "cell_type": "markdown",
   "metadata": {
    "collapsed": true
   },
   "source": [
    "## Managing Paths with PKG Files\n",
    "\n",
    "The first example illustrated how to extend the search path using extra directories included in the PYTHONPATH. It is also possible to add to the search path using *.pkg files containing directory names. PKG files are similar to the PTH files used by the site module. They can contain directory names, one per line, to be added to the search path for the package.\n",
    "\n",
    "Another way to structure the platform-specific portions of the application from the first example is to use a separate directory for each operating system, and include a .pkg file to extend the search path."
   ]
  },
  {
   "cell_type": "code",
   "execution_count": 4,
   "metadata": {
    "collapsed": false
   },
   "outputs": [
    {
     "name": "stdout",
     "output_type": "stream",
     "text": [
      "os_one\r\n",
      "├── demopkg1\r\n",
      "│   ├── __init__.py\r\n",
      "│   ├── __pycache__\r\n",
      "│   │   └── not_shared.cpython-35.pyc\r\n",
      "│   └── not_shared.py\r\n",
      "└── demopkg1.pkg\r\n",
      "os_two\r\n",
      "├── demopkg1\r\n",
      "│   ├── __init__.py\r\n",
      "│   ├── __pycache__\r\n",
      "│   │   └── not_shared.cpython-35.pyc\r\n",
      "│   └── not_shared.py\r\n",
      "└── demopkg1.pkg\r\n",
      "\r\n",
      "4 directories, 8 files\r\n"
     ]
    }
   ],
   "source": [
    "!tree os*"
   ]
  },
  {
   "cell_type": "markdown",
   "metadata": {
    "collapsed": true
   },
   "source": [
    "The PKG files are named demopkg1.pkg to match the package being extended. They both contain one line."
   ]
  },
  {
   "cell_type": "markdown",
   "metadata": {},
   "source": [
    "A simple wrapper script can be used to switch between the two packages."
   ]
  },
  {
   "cell_type": "raw",
   "metadata": {},
   "source": [
    "# with_os.sh\n",
    "#!/bin/sh\n",
    "\n",
    "export PYTHONPATH=os_${1}\n",
    "echo \"PYTHONPATH=$PYTHONPATH\"\n",
    "echo\n",
    "\n",
    "python3 pkgutil_os_specific.py"
   ]
  },
  {
   "cell_type": "markdown",
   "metadata": {},
   "source": [
    "When run with \"one\" or \"two\" as the arguments, the path is adjusted."
   ]
  },
  {
   "cell_type": "code",
   "execution_count": 5,
   "metadata": {
    "collapsed": false
   },
   "outputs": [
    {
     "name": "stdout",
     "output_type": "stream",
     "text": [
      "PYTHONPATH=os_one\n",
      "\n",
      "demopkg1.__path__ before:\n",
      "['/Users/binyang/GitHub/Py3MOTW/Module_and_Package/demopkg1']\n",
      "\n",
      "demopkg1.__path__ after:\n",
      "['/Users/binyang/GitHub/Py3MOTW/Module_and_Package/demopkg1',\n",
      " '/Users/binyang/GitHub/Py3MOTW/Module_and_Package/os_one/demopkg1']\n",
      "\n",
      "demopkg1: /Users/binyang/GitHub/Py3MOTW/Module_and_Package/demopkg1/__init__.py\n",
      "demopkg1.shared: /Users/binyang/GitHub/Py3MOTW/Module_and_Package/demopkg1/shared.py\n",
      "demopkg1.not_shared: /Users/binyang/GitHub/Py3MOTW/Module_and_Package/os_one/demopkg1/not_shared.py\n"
     ]
    }
   ],
   "source": [
    "!./with_os.sh one"
   ]
  },
  {
   "cell_type": "code",
   "execution_count": 6,
   "metadata": {
    "collapsed": false
   },
   "outputs": [
    {
     "name": "stdout",
     "output_type": "stream",
     "text": [
      "PYTHONPATH=os_two\n",
      "\n",
      "demopkg1.__path__ before:\n",
      "['/Users/binyang/GitHub/Py3MOTW/Module_and_Package/demopkg1']\n",
      "\n",
      "demopkg1.__path__ after:\n",
      "['/Users/binyang/GitHub/Py3MOTW/Module_and_Package/demopkg1',\n",
      " '/Users/binyang/GitHub/Py3MOTW/Module_and_Package/os_two/demopkg1']\n",
      "\n",
      "demopkg1: /Users/binyang/GitHub/Py3MOTW/Module_and_Package/demopkg1/__init__.py\n",
      "demopkg1.shared: /Users/binyang/GitHub/Py3MOTW/Module_and_Package/demopkg1/shared.py\n",
      "demopkg1.not_shared: /Users/binyang/GitHub/Py3MOTW/Module_and_Package/os_two/demopkg1/not_shared.py\n"
     ]
    }
   ],
   "source": [
    "!./with_os.sh two"
   ]
  },
  {
   "cell_type": "markdown",
   "metadata": {
    "collapsed": true
   },
   "source": [
    "PKG files can appear anywhere in the normal search path, so a single PKG file in the current working directory could also be used to include a development tree."
   ]
  },
  {
   "cell_type": "markdown",
   "metadata": {
    "collapsed": true
   },
   "source": [
    "### Nested Packages\n",
    "\n",
    "For nested packages, it is only necessary to modify the path of the top-level package. For example, with this directory structure"
   ]
  },
  {
   "cell_type": "code",
   "execution_count": 7,
   "metadata": {
    "collapsed": false
   },
   "outputs": [
    {
     "name": "stdout",
     "output_type": "stream",
     "text": [
      "develop/nested\r\n",
      "├── __init__.py\r\n",
      "├── __pycache__\r\n",
      "│   └── shallow.cpython-35.pyc\r\n",
      "├── second\r\n",
      "│   ├── __init__.py\r\n",
      "│   ├── __pycache__\r\n",
      "│   │   ├── __init__.cpython-35.pyc\r\n",
      "│   │   └── deep.cpython-35.pyc\r\n",
      "│   └── deep.py\r\n",
      "└── shallow.py\r\n",
      "\r\n",
      "3 directories, 7 files\r\n"
     ]
    }
   ],
   "source": [
    "!tree develop/nested"
   ]
  },
  {
   "cell_type": "markdown",
   "metadata": {},
   "source": [
    "Both the shallow and deep modules contain a simple function to print out a message indicating whether or not they come from the installed or development version."
   ]
  },
  {
   "cell_type": "raw",
   "metadata": {},
   "source": [
    "# pkgutil_nested.py\n",
    "import nested\n",
    "\n",
    "import nested.shallow\n",
    "print('nested.shallow:', nested.shallow.__file__)\n",
    "nested.shallow.func()\n",
    "\n",
    "print()\n",
    "import nested.second.deep\n",
    "print('nested.second.deep:', nested.second.deep.__file__)\n",
    "nested.second.deep.func()"
   ]
  },
  {
   "cell_type": "code",
   "execution_count": 8,
   "metadata": {
    "collapsed": false,
    "scrolled": false
   },
   "outputs": [
    {
     "name": "stdout",
     "output_type": "stream",
     "text": [
      "nested.shallow: /Users/binyang/GitHub/Py3MOTW/Module_and_Package/nested/shallow.py\r\n",
      "This is the installed version of shallow func().\r\n",
      "\r\n",
      "nested.second.deep: /Users/binyang/GitHub/Py3MOTW/Module_and_Package/nested/second/deep.py\r\n",
      "This is the installed version of deep func().\r\n"
     ]
    }
   ],
   "source": [
    "!python3 pkgutil_nested.py"
   ]
  },
  {
   "cell_type": "code",
   "execution_count": 9,
   "metadata": {
    "collapsed": false
   },
   "outputs": [
    {
     "name": "stdout",
     "output_type": "stream",
     "text": [
      "nested.shallow: /Users/binyang/GitHub/Py3MOTW/Module_and_Package/develop/nested/shallow.py\r\n",
      "This is the dev version of shallow func().\r\n",
      "\r\n",
      "nested.second.deep: /Users/binyang/GitHub/Py3MOTW/Module_and_Package/develop/nested/second/deep.py\r\n",
      "This is the dev version of deep func().\r\n"
     ]
    }
   ],
   "source": [
    "!PYTHONPATH=develop python3 pkgutil_nested.py"
   ]
  },
  {
   "cell_type": "markdown",
   "metadata": {},
   "source": [
    "### Package Data\n",
    "\n",
    "In addition to code, Python packages can contain data files such as templates, default configuration files, images, and other supporting files used by the code in the package. The get_data() function gives access to the data in the files in a format-agnostic way, so it does not matter if the package is distributed as an EGG, part of a frozen binary, or regular files on the file system."
   ]
  },
  {
   "cell_type": "markdown",
   "metadata": {},
   "source": [
    "With a package pkgwithdata containing a templates directory"
   ]
  },
  {
   "cell_type": "code",
   "execution_count": 10,
   "metadata": {
    "collapsed": false
   },
   "outputs": [
    {
     "name": "stdout",
     "output_type": "stream",
     "text": [
      "pkgwithdata/__init__.py\r\n",
      "pkgwithdata/__pycache__/__init__.cpython-35.pyc\r\n",
      "pkgwithdata/templates/base.html\r\n",
      "pkgwithdata/templates/fromzip.html\r\n"
     ]
    }
   ],
   "source": [
    "!find pkgwithdata -type f"
   ]
  },
  {
   "cell_type": "code",
   "execution_count": 11,
   "metadata": {
    "collapsed": false
   },
   "outputs": [
    {
     "name": "stdout",
     "output_type": "stream",
     "text": [
      "# pkgwithdata/templates/base.html\r\n",
      "<!DOCTYPE HTML PUBLIC \"-//IETF//DTD HTML//EN\">\r\n",
      "<html> <head>\r\n",
      "<title>PyMOTW Template</title>\r\n",
      "</head>\r\n",
      "\r\n",
      "<body>\r\n",
      "<h1>Example Template</h1>\r\n",
      "\r\n",
      "<p>This is a sample data file.</p>\r\n",
      "\r\n",
      "</body>\r\n",
      "</html>\r\n",
      "\r\n"
     ]
    }
   ],
   "source": [
    "!python3 pkgutil_get_data.py"
   ]
  },
  {
   "cell_type": "markdown",
   "metadata": {},
   "source": [
    "get_data() is distribution format-agnostic because it uses the import hooks defined in PEP 302 to access the package contents. Any loader that provides the hooks can be used, including the ZIP archive importer in zipfile."
   ]
  },
  {
   "cell_type": "markdown",
   "metadata": {},
   "source": [
    "# FAILED!!"
   ]
  },
  {
   "cell_type": "code",
   "execution_count": 12,
   "metadata": {
    "collapsed": false
   },
   "outputs": [
    {
     "name": "stdout",
     "output_type": "stream",
     "text": [
      "['pkgwithdatainzip.zip', '', '/Users/binyang/anaconda/envs/py3.5/lib/python35.zip', '/Users/binyang/anaconda/envs/py3.5/lib/python3.5', '/Users/binyang/anaconda/envs/py3.5/lib/python3.5/plat-darwin', '/Users/binyang/anaconda/envs/py3.5/lib/python3.5/lib-dynload', '/Users/binyang/anaconda/envs/py3.5/lib/python3.5/site-packages', '/Users/binyang/anaconda/envs/py3.5/lib/python3.5/site-packages/Sphinx-1.5.1-py3.5.egg', '/Users/binyang/anaconda/envs/py3.5/lib/python3.5/site-packages/setuptools-27.2.0-py3.5.egg', '/Users/binyang/anaconda/envs/py3.5/lib/python3.5/site-packages/IPython/extensions', '/Users/binyang/.ipython']\n",
      "Loading pkgwithdata from /Users/binyang/GitHub/Py3MOTW/Module_and_Package/pkgwithdata/__init__.py\n",
      "\n",
      "Template:\n",
      "# pkgwithdata/templates/base.html\n",
      "<!DOCTYPE HTML PUBLIC \"-//IETF//DTD HTML//EN\">\n",
      "<html> <head>\n",
      "<title>PyMOTW Template fromzip.html</title>\n",
      "</head>\n",
      "\n",
      "<body>\n",
      "<h1>Example Template</h1>\n",
      "\n",
      "<p>This is a sample data file.</p>\n",
      "\n",
      "</body>\n",
      "</html>\n",
      "\n"
     ]
    }
   ],
   "source": [
    "# pkgutil_get_data_zip.py\n",
    "import pkgutil\n",
    "import zipfile\n",
    "import sys\n",
    "\n",
    "# Create a ZIP file with code from the current directory\n",
    "# and the template using a name that does not appear on the\n",
    "# local filesystem.\n",
    "with zipfile.PyZipFile('pkgwithdatainzip.zip', mode='w') as zf:\n",
    "    zf.writepy('.')\n",
    "    zf.write('pkgwithdata/templates/base.html',\n",
    "             'pkgwithdata/templates/fromzip.html',\n",
    "             )\n",
    "\n",
    "# Add the ZIP file to the import path.\n",
    "sys.path.insert(0, 'pkgwithdatainzip.zip')\n",
    "print(sys.path)\n",
    "\n",
    "# Import pkgwithdata to show that it comes from the ZIP archive.\n",
    "import pkgwithdata\n",
    "print('Loading pkgwithdata from', pkgwithdata.__file__)\n",
    "\n",
    "# Print the template body\n",
    "print('\\nTemplate:')\n",
    "data = pkgutil.get_data('pkgwithdata', 'templates/fromzip.html')\n",
    "print(data.decode('utf-8'))"
   ]
  },
  {
   "cell_type": "code",
   "execution_count": 13,
   "metadata": {
    "collapsed": false
   },
   "outputs": [
    {
     "name": "stdout",
     "output_type": "stream",
     "text": [
      "Loading pkgwithdata from /Users/binyang/GitHub/Py3MOTW/Module_and_Package/pkgwithdata/__init__.py\r\n",
      "\r\n",
      "Template:\r\n",
      "# pkgwithdata/templates/base.html\r\n",
      "<!DOCTYPE HTML PUBLIC \"-//IETF//DTD HTML//EN\">\r\n",
      "<html> <head>\r\n",
      "<title>PyMOTW Template fromzip.html</title>\r\n",
      "</head>\r\n",
      "\r\n",
      "<body>\r\n",
      "<h1>Example Template</h1>\r\n",
      "\r\n",
      "<p>This is a sample data file.</p>\r\n",
      "\r\n",
      "</body>\r\n",
      "</html>\r\n",
      "\r\n"
     ]
    }
   ],
   "source": [
    "!python3 pkgutil_get_data_zip.py"
   ]
  },
  {
   "cell_type": "markdown",
   "metadata": {},
   "source": [
    "This example uses PyZipFile.writepy() to create a ZIP archive containing a copy of the pkgwithdata package, including a renamed version of the template file. It then adds the ZIP archive to the import path before using pkgutil to load the template and print it. Refer to the discussion of zipfile for more details about using writepy()."
   ]
  }
 ],
 "metadata": {
  "kernelspec": {
   "display_name": "Python 3",
   "language": "python",
   "name": "python3"
  },
  "language_info": {
   "codemirror_mode": {
    "name": "ipython",
    "version": 3
   },
   "file_extension": ".py",
   "mimetype": "text/x-python",
   "name": "python",
   "nbconvert_exporter": "python",
   "pygments_lexer": "ipython3",
   "version": "3.5.2"
  }
 },
 "nbformat": 4,
 "nbformat_minor": 2
}
