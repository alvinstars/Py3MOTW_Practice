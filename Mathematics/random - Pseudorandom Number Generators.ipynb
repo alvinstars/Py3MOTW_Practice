{
 "cells": [
  {
   "cell_type": "markdown",
   "metadata": {},
   "source": [
    "# random - Pseudorandom Number Generators\n",
    "\n",
    "Purpose:\tImplements several types of pseudorandom number generators.\n",
    "\n",
    "The random module provides a fast pseudorandom number generator based on the Mersenne Twister algorithm. Originally developed to produce inputs for Monte Carlo simulations, Mersenne Twister generates numbers with nearly uniform distribution and a large period, making it suited for a wide range of applications."
   ]
  },
  {
   "cell_type": "markdown",
   "metadata": {},
   "source": [
    "## Generating Random Numbers\n",
    "\n",
    "The random() function returns the next random floating point value from the generated sequence. All of the return values fall within the range 0 <= n < 1.0."
   ]
  },
  {
   "cell_type": "markdown",
   "metadata": {},
   "source": [
    "Running the program repeatedly produces different sequences of numbers."
   ]
  },
  {
   "cell_type": "code",
   "execution_count": 1,
   "metadata": {
    "collapsed": false
   },
   "outputs": [
    {
     "name": "stdout",
     "output_type": "stream",
     "text": [
      "0.279 0.725 0.782 0.436 0.120 \n"
     ]
    }
   ],
   "source": [
    "# random_random.py\n",
    "\n",
    "import random\n",
    "\n",
    "for i in range(5):\n",
    "    print('%04.3f' % random.random(), end=' ')\n",
    "print()"
   ]
  },
  {
   "cell_type": "markdown",
   "metadata": {},
   "source": [
    "To generate numbers in a specific numerical range, use uniform() instead.\n",
    "\n",
    "Pass minimum and maximum values, and uniform() adjusts the return values from random() using the formula min + (max - min) * random()."
   ]
  },
  {
   "cell_type": "code",
   "execution_count": 2,
   "metadata": {
    "collapsed": false
   },
   "outputs": [
    {
     "name": "stdout",
     "output_type": "stream",
     "text": [
      "99.926 20.152 66.598 53.730 30.377 "
     ]
    }
   ],
   "source": [
    "# random_uniform.py\n",
    "\n",
    "import random\n",
    "\n",
    "for i in range(5):\n",
    "    print('{:04.3f}'.format(random.uniform(1,100)), end=' ')"
   ]
  },
  {
   "cell_type": "markdown",
   "metadata": {},
   "source": [
    "## Seeding\n",
    "\n",
    "random() produces different values each time it is called and has a very large period before it repeats any numbers. This is useful for producing unique values or variations, but there are times when having the same data set available to be processed in different ways is useful. One technique is to use a program to generate random values and save them to be processed by a separate step. That may not be practical for large amounts of data, though, so random includes the seed() function for initializing the pseudorandom generator so that it produces an expected set of values."
   ]
  },
  {
   "cell_type": "markdown",
   "metadata": {},
   "source": [
    "The seed value controls the first value produced by the formula used to produce pseudorandom numbers, and since the formula is deterministic it also sets the full sequence produced after the seed is changed. The argument to seed() can be any hashable object. The default is to use a platform-specific source of randomness, if one is available. Otherwise, the current time is used."
   ]
  },
  {
   "cell_type": "code",
   "execution_count": 3,
   "metadata": {
    "collapsed": false
   },
   "outputs": [
    {
     "name": "stdout",
     "output_type": "stream",
     "text": [
      "0.134 0.847 0.764 0.255 0.495 "
     ]
    }
   ],
   "source": [
    "# random_seed.py\n",
    "\n",
    "import random\n",
    "\n",
    "random.seed(1)\n",
    "\n",
    "for i in range(5):\n",
    "    print('{:04.3f}'.format(random.random()), end = ' ')"
   ]
  },
  {
   "cell_type": "markdown",
   "metadata": {},
   "source": [
    "## Saving State\n",
    "\n",
    "The internal state of the pseudorandom algorithm used by random() can be saved and used to control the numbers produced in subsequent runs. Restoring the previous state before continuing reduces the likelihood of repeating values or sequences of values from the earlier input. The getstate() function returns data that can be used to re-initialize the random number generator later with setstate()."
   ]
  },
  {
   "cell_type": "markdown",
   "metadata": {},
   "source": [
    "The data returned by getstate() is an implementation detail, so this example saves the data to a file with pickle but otherwise treats it as a black box. If the file exists when the program starts, it loads the old state and continues. Each run produces a few numbers before and after saving the state, to show that restoring the state causes the generator to produce the same values again."
   ]
  },
  {
   "cell_type": "code",
   "execution_count": 4,
   "metadata": {
    "collapsed": false
   },
   "outputs": [
    {
     "name": "stdout",
     "output_type": "stream",
     "text": [
      "No state.dat, seeding\n",
      "0.134 0.847 0.764 \n",
      "\n",
      " After saving state: \n",
      "0.255 0.495 0.449 \n"
     ]
    }
   ],
   "source": [
    "# random_state.py\n",
    "\n",
    "import random\n",
    "import os\n",
    "import pickle\n",
    "\n",
    "if os.path.exists('state.dat'):\n",
    "    # Restore the previously saved state\n",
    "    print('Found state.dat, initializing random module')\n",
    "    with open('state.dat', 'rb') as f:\n",
    "        state = pickle.load(f)\n",
    "    random.setstate(state)\n",
    "else:\n",
    "    # Use a well-known start state\n",
    "    print('No state.dat, seeding')\n",
    "    random.seed(1)\n",
    "\n",
    "# Produce random values\n",
    "for i in range(3):\n",
    "    print('{:04.3f}'.format(random.random()), end =' ')\n",
    "print()\n",
    "\n",
    "# save state for next time\n",
    "with open('state.dat', 'wb') as f:\n",
    "#     print(random.getstate())\n",
    "    pickle.dump(random.getstate(), f)\n",
    "\n",
    "# produce more random values\n",
    "print('\\n After saving state: ')\n",
    "for i in range(3):\n",
    "    print('{:04.3f}'.format(random.random()), end=' ')\n",
    "print()"
   ]
  },
  {
   "cell_type": "code",
   "execution_count": 5,
   "metadata": {
    "collapsed": false
   },
   "outputs": [
    {
     "name": "stdout",
     "output_type": "stream",
     "text": [
      "Found state.dat, initializing random module\r\n",
      "0.255 0.495 0.449 \r\n",
      "\r\n",
      " After saving state: \r\n",
      "0.652 0.789 0.094 \r\n"
     ]
    }
   ],
   "source": [
    "! python3 random_state.py"
   ]
  },
  {
   "cell_type": "code",
   "execution_count": 6,
   "metadata": {
    "collapsed": false
   },
   "outputs": [
    {
     "name": "stdout",
     "output_type": "stream",
     "text": [
      "Found state.dat, initializing random module\r\n",
      "0.652 0.789 0.094 \r\n",
      "\r\n",
      " After saving state: \r\n",
      "0.028 0.836 0.433 \r\n"
     ]
    }
   ],
   "source": [
    "! python3 random_state.py"
   ]
  },
  {
   "cell_type": "code",
   "execution_count": 7,
   "metadata": {
    "collapsed": true
   },
   "outputs": [],
   "source": [
    "!rm state.dat"
   ]
  },
  {
   "cell_type": "markdown",
   "metadata": {},
   "source": [
    "## Random Integers\n",
    "\n",
    "random() generates floating point numbers. It is possible to convert the results to integers, but using randint() to generate integers directly is more convenient.\n",
    "\n",
    "The arguments to randint() are the ends of the inclusive range for the values. The numbers can be positive or negative, but the first value should be less than the second."
   ]
  },
  {
   "cell_type": "code",
   "execution_count": 8,
   "metadata": {
    "collapsed": false
   },
   "outputs": [
    {
     "name": "stdout",
     "output_type": "stream",
     "text": [
      "[1, 100]  : 84 49 27 13 63 \n",
      "[-5, 5 ]  : -5 1 1 4 -5 "
     ]
    }
   ],
   "source": [
    "# random_randint.py\n",
    "\n",
    "import random\n",
    "\n",
    "print('{:<10}:'.format('[1, 100]'), end=' ')\n",
    "\n",
    "for i in range(5):\n",
    "    print(random.randint(1, 100), end=' ')\n",
    "    \n",
    "print('\\n{:<10}:'.format('[-5, 5 ]'), end=' ')\n",
    "\n",
    "for i in range(5):\n",
    "    print(random.randint(-5, 5), end=' ')"
   ]
  },
  {
   "cell_type": "markdown",
   "metadata": {},
   "source": [
    "randrange() is a more general form of selecting values from a range.\n",
    "\n",
    "randrange() supports a step argument, in addition to start and stop values, so it is fully equivalent to selecting a random value from range(start, stop, step). It is more efficient, because the range is not actually constructed."
   ]
  },
  {
   "cell_type": "code",
   "execution_count": 9,
   "metadata": {
    "collapsed": false
   },
   "outputs": [
    {
     "name": "stdout",
     "output_type": "stream",
     "text": [
      "70 40 35 90 15 "
     ]
    }
   ],
   "source": [
    "# random_randrange.py\n",
    "\n",
    "import random\n",
    "\n",
    "for i in range(5):\n",
    "    print(random.randrange(0, 101, 5), end=' ')"
   ]
  },
  {
   "cell_type": "markdown",
   "metadata": {},
   "source": [
    "## Picking Random Items\n",
    "\n",
    "One common use for random number generators is to select a random item from a sequence of enumerated values, even if those values are not numbers. random includes the choice() function for making a random selection from a sequence. This example simulates flipping a coin 10,000 times to count how many times it comes up heads and how many times tails.\n",
    "\n",
    "There are only two outcomes allowed, so rather than use numbers and convert them the words “heads” and “tails” are used with choice(). The results are tabulated in a dictionary using the outcome names as keys."
   ]
  },
  {
   "cell_type": "code",
   "execution_count": 10,
   "metadata": {
    "collapsed": false
   },
   "outputs": [
    {
     "name": "stdout",
     "output_type": "stream",
     "text": [
      "head : 5058\n",
      "tails: 4942\n"
     ]
    }
   ],
   "source": [
    "# random_choice.py\n",
    "\n",
    "import random\n",
    "import itertools\n",
    "\n",
    "outcomes = {'head':0, 'tails':0}\n",
    "\n",
    "sides = list(outcomes.keys())\n",
    "\n",
    "for i in range(10000):\n",
    "    outcomes[random.choice(sides)] += 1\n",
    "\n",
    "for side in sides:\n",
    "    print('{:<5}: {}'.format(side, outcomes[side]))"
   ]
  },
  {
   "cell_type": "markdown",
   "metadata": {},
   "source": [
    "## Permutations\n",
    "A simulation of a card game needs to mix up the deck of cards and then deal them to the players, without using the same card more than once. Using choice() could result in the same card being dealt twice, so instead, the deck can be mixed up with shuffle() and then individual cards removed as they are dealt.\n",
    "\n",
    "The cards are represented as strings with the face value and a letter indicating the suit. The dealt “hands” are created by adding one card at a time to each of four lists, and removing it from the deck so it cannot be dealt again."
   ]
  },
  {
   "cell_type": "code",
   "execution_count": 11,
   "metadata": {
    "collapsed": false
   },
   "outputs": [
    {
     "name": "stdout",
     "output_type": "stream",
     "text": [
      "Initial deck:\n",
      " 2H  2D  2C  2S  3H  3D  3C  3S  4H  4D \n",
      " 4C  4S  5H  5D  5C  5S  6H  6D  6C  6S \n",
      " 7H  7D  7C  7S  8H  8D  8C  8S  9H  9D \n",
      " 9C  9S 10H 10D 10C 10S  JH  JD  JC  JS \n",
      " QH  QD  QC  QS  KH  KD  KC  KS  AH  AD \n",
      " AC  AS \n",
      "\n",
      "Shuffled deck:\n",
      " JH  9D  2C  5H  8H  9C  KD  8D  7H  4C \n",
      " 4D  3S  4H  KC  3C  5D  AD  2H  QS  AH \n",
      " JD  AS  QC  7C  JC  8C  7D  KH  7S  2S \n",
      " 4S  2D  5S  AC  8S  6D  9S  9H  6S 10H \n",
      " 6H  JS  3H 10D  3D  QD  6C  5C  KS 10S \n",
      "10C  QH \n",
      "\n",
      "Hands:\n",
      "1:  QH  5C 10D 10H  6D \n",
      "2: 10C  6C  3H  6S  8S \n",
      "3: 10S  QD  JS  9H  AC \n",
      "4:  KS  3D  6H  9S  5S \n",
      "\n",
      "Remaining deck:\n",
      " JH  9D  2C  5H  8H  9C  KD  8D  7H  4C \n",
      " 4D  3S  4H  KC  3C  5D  AD  2H  QS  AH \n",
      " JD  AS  QC  7C  JC  8C  7D  KH  7S  2S \n",
      " 4S  2D \n"
     ]
    }
   ],
   "source": [
    "# random_shuffle.py\n",
    "\n",
    "import random\n",
    "import itertools\n",
    "\n",
    "FACE_CARDS = ('J', 'Q', 'K', 'A')\n",
    "SUITES = ('H', 'D', 'C', 'S')\n",
    "\n",
    "def new_deck():\n",
    "    return[\n",
    "        # Always use 2 places for the value, so the strings\n",
    "        # are a consistent width.\n",
    "        '{:>2}{}'.format(*c)\n",
    "        for c in itertools.product(\n",
    "            itertools.chain(range(2, 11), FACE_CARDS), SUITES,\n",
    "        )\n",
    "    ]\n",
    "\n",
    "\n",
    "def show_deck(deck):\n",
    "    p_deck = deck[:]\n",
    "    while p_deck:\n",
    "        row = p_deck[:10]\n",
    "        p_deck = p_deck[10:]\n",
    "        for j in row:\n",
    "            print(j, end=' ')\n",
    "        print()\n",
    "\n",
    "# Make a new deck, with the cards in order\n",
    "deck = new_deck()\n",
    "print('Initial deck:')\n",
    "show_deck(deck)\n",
    "\n",
    "# Shuffle the deck to randomize the order\n",
    "random.shuffle(deck)\n",
    "print('\\nShuffled deck:')\n",
    "show_deck(deck)\n",
    "\n",
    "# Deal 4 hands of 5 cards each\n",
    "hands = [[], [], [], []]\n",
    "\n",
    "for i in range(5):\n",
    "    for h in hands:\n",
    "        h.append(deck.pop())\n",
    "\n",
    "# show the hands\n",
    "print('\\nHands:')\n",
    "for n, h in enumerate(hands):\n",
    "    print('{}:'.format(n + 1), end=' ')\n",
    "    for c in h:\n",
    "        print(c, end=' ')\n",
    "    print()\n",
    "\n",
    "# show the remaining deck\n",
    "print('\\nRemaining deck:')\n",
    "show_deck(deck)"
   ]
  },
  {
   "cell_type": "markdown",
   "metadata": {},
   "source": [
    "## Sampling\n",
    "\n",
    "Many simulations need random samples from a population of input values. The sample() function generates samples without repeating values and without modifying the input sequence. This example prints a random sample of words from the system dictionary.\n",
    "\n",
    "The algorithm for producing the result set takes into account the sizes of the input and the sample requested to produce the result as efficiently as possible."
   ]
  },
  {
   "cell_type": "code",
   "execution_count": 12,
   "metadata": {
    "collapsed": false
   },
   "outputs": [
    {
     "name": "stdout",
     "output_type": "stream",
     "text": [
      "smith\n",
      "escapism\n",
      "slummage\n",
      "nonstandardized\n",
      "vibrioid\n"
     ]
    }
   ],
   "source": [
    "# random_sample.py\n",
    "import random\n",
    "\n",
    "with open('/usr/share/dict/words', 'rt') as f:\n",
    "    words = f.readlines()\n",
    "words = [w.rstrip() for w in words]\n",
    "\n",
    "for w in random.sample(words, 5):\n",
    "    print(w)"
   ]
  },
  {
   "cell_type": "markdown",
   "metadata": {},
   "source": [
    "## Multiple Simultaneous Generators\n",
    "\n",
    "In addition to module-level functions, random includes a Random class to manage the internal state for several random number generators. All of the functions described earlier are available as methods of the Random instances, and each instance can be initialized and used separately, without interfering with the values returned by other instances.\n",
    "\n",
    "On a system with good native random value seeding, the instances start out in unique states. However, if there is no good platform random value generator, the instances are likely to have been seeded with the current time, and therefore produce the same values."
   ]
  },
  {
   "cell_type": "code",
   "execution_count": 13,
   "metadata": {
    "collapsed": false
   },
   "outputs": [
    {
     "name": "stdout",
     "output_type": "stream",
     "text": [
      "Default initialization:\n",
      "\n",
      "0.895  0.778\n",
      "0.813  0.037\n",
      "0.345  0.191\n",
      "\n",
      "Same seed:\n",
      "\n",
      "0.910  0.910\n",
      "0.853  0.853\n",
      "0.241  0.241\n"
     ]
    }
   ],
   "source": [
    "# random_random_class.py\n",
    "\n",
    "import random\n",
    "import time\n",
    "\n",
    "print('Default initialization:\\n')\n",
    "\n",
    "r1 = random.Random()\n",
    "r2 = random.Random()\n",
    "\n",
    "for i in range(3):\n",
    "    print('{:04.3f}  {:04.3f}'.format(r1.random(), r2.random()))\n",
    "\n",
    "print('\\nSame seed:\\n')\n",
    "\n",
    "seed = time.time()\n",
    "r1 = random.Random(seed)\n",
    "r2 = random.Random(seed)\n",
    "\n",
    "for i in range(3):\n",
    "    print('{:04.3f}  {:04.3f}'.format(r1.random(), r2.random()))"
   ]
  },
  {
   "cell_type": "markdown",
   "metadata": {},
   "source": [
    "## SystemRandom\n",
    "\n",
    "Some operating systems provide a random number generator that has access to more sources of entropy that can be introduced into the generator. random exposes this feature through the SystemRandom class, which has the same API as Random but uses os.urandom() to generate the values that form the basis of all of the other algorithms.\n",
    "\n",
    "Sequences produced by SystemRandom are not reproducible because the randomness is coming from the system, rather than software state (in fact, seed() and setstate() have no effect at all)."
   ]
  },
  {
   "cell_type": "code",
   "execution_count": 14,
   "metadata": {
    "collapsed": false
   },
   "outputs": [
    {
     "name": "stdout",
     "output_type": "stream",
     "text": [
      "Default initializiation:\n",
      "\n",
      "0.019  0.170\n",
      "0.491  0.352\n",
      "0.730  0.226\n",
      "\n",
      "Same seed:\n",
      "\n",
      "0.190  0.732\n",
      "0.351  0.308\n",
      "0.599  0.114\n"
     ]
    }
   ],
   "source": [
    "# random_system_random.py\n",
    "import random\n",
    "import time\n",
    "\n",
    "print('Default initializiation:\\n')\n",
    "\n",
    "r1 = random.SystemRandom()\n",
    "r2 = random.SystemRandom()\n",
    "\n",
    "for i in range(3):\n",
    "    print('{:04.3f}  {:04.3f}'.format(r1.random(), r2.random()))\n",
    "\n",
    "print('\\nSame seed:\\n')\n",
    "\n",
    "seed = time.time()\n",
    "r1 = random.SystemRandom(seed)\n",
    "r2 = random.SystemRandom(seed)\n",
    "\n",
    "for i in range(3):\n",
    "    print('{:04.3f}  {:04.3f}'.format(r1.random(), r2.random()))"
   ]
  },
  {
   "cell_type": "markdown",
   "metadata": {},
   "source": [
    "## Non-uniform Distributions\n",
    "\n",
    "While the uniform distribution of the values produced by random() is useful for a lot of purposes, other distributions more accurately model specific situations. The random module includes functions to produce values in those distributions, too. They are listed here, but not covered in detail because their uses tend to be specialized and require more complex examples.\n",
    "\n",
    "### Normal\n",
    "\n",
    "The normal distribution is commonly used for non-uniform continuous values such as grades, heights, weights, etc. The curve produced by the distribution has a distinctive shape which has lead to it being nicknamed a “bell curve.” random includes two functions for generating values with a normal distribution, normalvariate() and the slightly faster gauss() (the normal distribution is also called the Gaussian distribution).\n",
    "\n",
    "The related function, lognormvariate() produces pseudorandom values where the logarithm of the values is distributed normally. Log-normal distributions are useful for values that are the product of several random variables which do not interact.\n",
    "\n",
    "### Approximation\n",
    "\n",
    "The triangular distribution is used as an approximate distribution for small sample sizes. The “curve” of a triangular distribution has low points at known minimum and maximum values, and a high point at the mode, which is estimated based on a “most likely” outcome (reflected by the mode argument to triangular()).\n",
    "\n",
    "### Exponential\n",
    "\n",
    "expovariate() produces an exponential distribution useful for simulating arrival or interval time values for in homogeneous Poisson processes such as the rate of radioactive decay or requests coming into a web server.\n",
    "\n",
    "The Pareto, or power law, distribution matches many observable phenomena and was popularized by The Long Tail, by Chris Anderson. The paretovariate() function is useful for simulating allocation of resources to individuals (wealth to people, demand for musicians, attention to blogs, etc.).\n",
    "\n",
    "### Angular\n",
    "\n",
    "The von Mises, or circular normal, distribution (produced by vonmisesvariate()) is used for computing probabilities of cyclic values such as angles, calendar days, and times.\n",
    "\n",
    "### Sizes\n",
    "\n",
    "betavariate() generates values with the Beta distribution, which is commonly used in Bayesian statistics and applications such as task duration modeling.\n",
    "\n",
    "The Gamma distribution produced by gammavariate() is used for modeling the sizes of things such as waiting times, rainfall, and computational errors.\n",
    "\n",
    "The Weibull distribution computed by weibullvariate() is used in failure analysis, industrial engineering, and weather forecasting. It describes the distribution of sizes of particles or other discrete objects."
   ]
  }
 ],
 "metadata": {
  "kernelspec": {
   "display_name": "Python 3",
   "language": "python",
   "name": "python3"
  },
  "language_info": {
   "codemirror_mode": {
    "name": "ipython",
    "version": 3
   },
   "file_extension": ".py",
   "mimetype": "text/x-python",
   "name": "python",
   "nbconvert_exporter": "python",
   "pygments_lexer": "ipython3",
   "version": "3.5.2"
  }
 },
 "nbformat": 4,
 "nbformat_minor": 2
}
