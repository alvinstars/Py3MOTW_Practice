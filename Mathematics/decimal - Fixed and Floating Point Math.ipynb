{
 "cells": [
  {
   "cell_type": "markdown",
   "metadata": {},
   "source": [
    "# decimal - Fixed and Floating Point Math\n",
    "\n",
    "Purpose: Decimal arithmetic using fixed and floating point numbers\n",
    "\n",
    "The decimal module implements fixed and floating point arithmetic using the model familiar to most people, rather than the IEEE floating point version implemented by most computer hardware and familiar to programmers. A Decimal instance can represent any number exactly, round up or down, and apply a limit to the number of significant digits."
   ]
  },
  {
   "cell_type": "markdown",
   "metadata": {},
   "source": [
    "## Decimal\n",
    "\n",
    "Decimal values are represented as instances of the Decimal class. The constructor takes as argument one integer or string. Floating point numbers can be converted to a string before being used to create a Decimal, letting the caller explicitly deal with the number of digits for values that cannot be expressed exactly using hardware floating point representations. Alternately, the class method from_float() converts to the exact decimal representation.\n",
    "\n",
    "The floating point value of 0.1 is not represented as an exact value in binary, so the representation as a float is different from the Decimal value. The full string representation is truncated to 25 characters in the last line of this output."
   ]
  },
  {
   "cell_type": "code",
   "execution_count": 1,
   "metadata": {
    "collapsed": false
   },
   "outputs": [
    {
     "name": "stdout",
     "output_type": "stream",
     "text": [
      "Input                     Output                   \n",
      "------------------------- -------------------------\n",
      "5                         5                        \n",
      "3.14                      3.14                     \n",
      "0.1                       0.1                      \n",
      "0.10000000000000000555112 0.10000000000000000555111\n"
     ]
    }
   ],
   "source": [
    "# decimal_create.py\n",
    "import decimal\n",
    "\n",
    "fmt = '{0:<25} {1:<25}'\n",
    "\n",
    "print(fmt.format('Input', 'Output'))\n",
    "print(fmt.format('-' * 25, '-' * 25))\n",
    "\n",
    "# Integer\n",
    "print(fmt.format(5, decimal.Decimal(5)))\n",
    "\n",
    "# String\n",
    "print(fmt.format('3.14', decimal.Decimal('3.14')))\n",
    "\n",
    "# Float\n",
    "f = 0.1\n",
    "print(fmt.format(repr(f), decimal.Decimal(str(f))))\n",
    "print('{:<0.23g} {:<25}'.format(\n",
    "    f,\n",
    "    str(decimal.Decimal.from_float(f))[:25])\n",
    ")"
   ]
  },
  {
   "cell_type": "markdown",
   "metadata": {},
   "source": [
    "Decimals can also be created from tuples containing a sign flag (0 for positive, 1 for negative), a tuple of digits, and an integer exponent.\n",
    "\n",
    "The tuple-based representation is less convenient to create, but does offer a portable way of exporting decimal values without losing precision. The tuple form can be transmitted through the network or stored in a database that does not support accurate decimal values, then turned back into a Decimal instance later."
   ]
  },
  {
   "cell_type": "markdown",
   "metadata": {},
   "source": [
    "If value is a tuple, it should have three components, a sign (0 for positive or 1 for negative), a tuple of digits, and an integer exponent. For example, Decimal((0, (1, 4, 1, 4), -3)) returns Decimal('1.414')."
   ]
  },
  {
   "cell_type": "code",
   "execution_count": 2,
   "metadata": {
    "collapsed": false
   },
   "outputs": [
    {
     "name": "stdout",
     "output_type": "stream",
     "text": [
      "Input  : (1, (1, 1), -2)\n",
      "Decimal: -0.11\n"
     ]
    }
   ],
   "source": [
    "# decimal_tuple.py\n",
    "import decimal\n",
    "\n",
    "# Tuple\n",
    "t = (1, (1, 1), -2)\n",
    "print('Input  :', t)\n",
    "print('Decimal:', decimal.Decimal(t))"
   ]
  },
  {
   "cell_type": "markdown",
   "metadata": {},
   "source": [
    "## Formatting\n",
    "\n",
    "Decimal responds to Python’s string formatting protocol, using the same syntax and options as other numerical types.\n",
    "\n",
    "The format strings can control the width of the output, the precision (number of significant digits), and how to pad the value to fill the width."
   ]
  },
  {
   "cell_type": "code",
   "execution_count": 3,
   "metadata": {
    "collapsed": false
   },
   "outputs": [
    {
     "name": "stdout",
     "output_type": "stream",
     "text": [
      "Precision:\n",
      "1\n",
      "1.1\n",
      "1.10\n",
      "1.10000000000000009\n",
      "\n",
      "Width and precision combined:\n",
      "  1.1     1\n",
      " 1.10   1.1\n",
      "1.100  1.10\n",
      "1.10000 1.1000\n",
      "1.10000000 1.1000000\n",
      "\n",
      "Zero padding:\n",
      "00001\n",
      "001.1\n",
      "01.10\n"
     ]
    }
   ],
   "source": [
    "# decimal_format.py\n",
    "import decimal\n",
    "\n",
    "d = decimal.Decimal(1.1)\n",
    "print('Precision:')\n",
    "print('{:.1}'.format(d))\n",
    "print('{:.2}'.format(d))\n",
    "print('{:.3}'.format(d))\n",
    "print('{:.18}'.format(d))\n",
    "\n",
    "print('\\nWidth and precision combined:')\n",
    "print('{:5.1f} {:5.1g}'.format(d, d))\n",
    "print('{:5.2f} {:5.2g}'.format(d, d))\n",
    "print('{:5.3f} {:5.3g}'.format(d, d))\n",
    "print('{:5.5f} {:5.5g}'.format(d, d))\n",
    "print('{:5.8f} {:5.8g}'.format(d, d))\n",
    "\n",
    "\n",
    "print('\\nZero padding:')\n",
    "print('{:05.1}'.format(d))\n",
    "print('{:05.2}'.format(d))\n",
    "print('{:05.3}'.format(d))"
   ]
  },
  {
   "cell_type": "markdown",
   "metadata": {},
   "source": [
    "## Arithmetic\n",
    "\n",
    "Decimal overloads the simple arithmetic operators so instances can be manipulated in much the same way as the built-in numeric types.\n",
    "\n",
    "Decimal operators also accept integer arguments, but floating point values must be converted to Decimal instances."
   ]
  },
  {
   "cell_type": "code",
   "execution_count": 4,
   "metadata": {
    "collapsed": false
   },
   "outputs": [
    {
     "name": "stdout",
     "output_type": "stream",
     "text": [
      "a     = Decimal('5.1')\n",
      "b     = Decimal('3.14')\n",
      "c     = 4\n",
      "d     = 3.14\n",
      "\n",
      "a + b = 8.24\n",
      "a - b = 1.96\n",
      "a * b = 16.014\n",
      "a / b = 1.624203821656050955414012739\n",
      "\n",
      "a + c = 9.1\n",
      "a - c = 1.1\n",
      "a * c = 20.4\n",
      "a / c = 1.275\n",
      "\n",
      "a + d = unsupported operand type(s) for +: 'decimal.Decimal' and 'float'\n"
     ]
    }
   ],
   "source": [
    "# decimal_operators.py\n",
    "import decimal\n",
    "\n",
    "a = decimal.Decimal('5.1')\n",
    "b = decimal.Decimal('3.14')\n",
    "c = 4\n",
    "d = 3.14\n",
    "\n",
    "print('a     =', repr(a))\n",
    "print('b     =', repr(b))\n",
    "print('c     =', repr(c))\n",
    "print('d     =', repr(d))\n",
    "print()\n",
    "\n",
    "print('a + b =', a + b)\n",
    "print('a - b =', a - b)\n",
    "print('a * b =', a * b)\n",
    "print('a / b =', a / b)\n",
    "print()\n",
    "\n",
    "print('a + c =', a + c)\n",
    "print('a - c =', a - c)\n",
    "print('a * c =', a * c)\n",
    "print('a / c =', a / c)\n",
    "print()\n",
    "\n",
    "print('a + d =', end=' ')\n",
    "try:\n",
    "    print(a + d)\n",
    "except TypeError as e:\n",
    "    print(e)"
   ]
  },
  {
   "cell_type": "markdown",
   "metadata": {},
   "source": [
    "Beyond basic arithmetic, Decimal includes the methods to find the base 10 and natural logarithms. The return values from log10() and ln() are Decimal instances, so they can be used directly in formulas with other values."
   ]
  },
  {
   "cell_type": "markdown",
   "metadata": {},
   "source": [
    "## Special Values\n",
    "\n",
    "In addition to the expected numerical values, Decimal can represent several special values, including positive and negative values for infinity, “not a number”, and zero.\n",
    "\n",
    "Adding to infinite values returns another infinite value. Comparing for equality with NaN always returns false and comparing for inequality always returns true. Comparing for sort order against NaN is undefined and results in an error."
   ]
  },
  {
   "cell_type": "code",
   "execution_count": 5,
   "metadata": {
    "collapsed": false
   },
   "outputs": [
    {
     "name": "stdout",
     "output_type": "stream",
     "text": [
      "Infinity                  -Infinity                \n",
      "NaN                       -NaN                     \n",
      "0                         -0                       \n",
      "\n",
      "Infinity + 1: Infinity\n",
      "-Infinity + 1: -Infinity\n",
      "False\n",
      "True\n"
     ]
    }
   ],
   "source": [
    "# decimal_special.py\n",
    "import decimal\n",
    "\n",
    "for value in ['Infinity', 'NaN', '0']:\n",
    "    print('{0:<25} {1:<25}'.format(decimal.Decimal(value), decimal.Decimal('-' + value)))\n",
    "print()\n",
    "\n",
    "# Math with infinity\n",
    "print('Infinity + 1:', (decimal.Decimal('Infinity') + 1))\n",
    "print('-Infinity + 1:', (decimal.Decimal('-Infinity') + 1))\n",
    "\n",
    "# Print comparing NaN\n",
    "print(decimal.Decimal('NaN') == decimal.Decimal('Infinity'))\n",
    "print(decimal.Decimal('NaN') != decimal.Decimal(1))"
   ]
  },
  {
   "cell_type": "markdown",
   "metadata": {},
   "source": [
    "## Context\n",
    "\n",
    "So far, all of the examples have used the default behaviors of the decimal module. It is possible to override settings such as the precision maintained, how rounding is performed, error handling, etc. by using a context. Contexts can be applied for all Decimal instances in a thread or locally within a small code region."
   ]
  },
  {
   "cell_type": "markdown",
   "metadata": {},
   "source": [
    "### Current Context\n",
    "\n",
    "To retrieve the current global context, use getcontext.\n",
    "\n",
    "This example script shows the public properties of a Context."
   ]
  },
  {
   "cell_type": "code",
   "execution_count": 6,
   "metadata": {
    "collapsed": false
   },
   "outputs": [
    {
     "name": "stdout",
     "output_type": "stream",
     "text": [
      "Emax     = 999999\n",
      "Emin     = -999999\n",
      "capitals = 1\n",
      "prec     = 28\n",
      "rounding = ROUND_HALF_EVEN\n",
      "flags    =\n",
      "  <class 'decimal.InvalidOperation'>: False\n",
      "  <class 'decimal.FloatOperation'>: True\n",
      "  <class 'decimal.DivisionByZero'>: False\n",
      "  <class 'decimal.Overflow'>: False\n",
      "  <class 'decimal.Underflow'>: False\n",
      "  <class 'decimal.Subnormal'>: False\n",
      "  <class 'decimal.Inexact'>: True\n",
      "  <class 'decimal.Rounded'>: True\n",
      "  <class 'decimal.Clamped'>: False\n",
      "traps    =\n",
      "  <class 'decimal.InvalidOperation'>: True\n",
      "  <class 'decimal.FloatOperation'>: False\n",
      "  <class 'decimal.DivisionByZero'>: True\n",
      "  <class 'decimal.Overflow'>: True\n",
      "  <class 'decimal.Underflow'>: False\n",
      "  <class 'decimal.Subnormal'>: False\n",
      "  <class 'decimal.Inexact'>: False\n",
      "  <class 'decimal.Rounded'>: False\n",
      "  <class 'decimal.Clamped'>: False\n"
     ]
    }
   ],
   "source": [
    "# decimal_getcontext.py\n",
    "import decimal\n",
    "\n",
    "context = decimal.getcontext()\n",
    "\n",
    "print('Emax     =', context.Emax)\n",
    "print('Emin     =', context.Emin)\n",
    "print('capitals =', context.capitals)\n",
    "print('prec     =', context.prec)\n",
    "print('rounding =', context.rounding)\n",
    "print('flags    =')\n",
    "for f, v in context.flags.items():\n",
    "    print('  {}: {}'.format(f, v))\n",
    "print('traps    =')\n",
    "for t, v in context.traps.items():\n",
    "    print('  {}: {}'.format(t, v))"
   ]
  },
  {
   "cell_type": "markdown",
   "metadata": {},
   "source": [
    "### Precision\n",
    "\n",
    "The prec attribute of the context controls the precision maintained for new values created as a result of arithmetic. Literal values are maintained as described.\n",
    "\n",
    "To change the precision, assign a new value between 1 and decimal.MAX_PREC directly to the attribute."
   ]
  },
  {
   "cell_type": "code",
   "execution_count": 7,
   "metadata": {
    "collapsed": false
   },
   "outputs": [
    {
     "name": "stdout",
     "output_type": "stream",
     "text": [
      "1 : 0.123456 0.1\n",
      "2 : 0.123456 0.12\n",
      "3 : 0.123456 0.123\n",
      "4 : 0.123456 0.1235\n"
     ]
    }
   ],
   "source": [
    "# decimal_precision.py\n",
    "import decimal\n",
    "\n",
    "d = decimal.Decimal('0.123456')\n",
    "\n",
    "for i in range(1, 5):\n",
    "    decimal.getcontext().prec = i\n",
    "    print(i, ':', d, d * 1)"
   ]
  },
  {
   "cell_type": "markdown",
   "metadata": {},
   "source": [
    "### Rounding\n",
    "\n",
    "There are several options for rounding to keep values within the desired precision.\n",
    "\n",
    "* ROUND_CEILING\n",
    "Always round upwards towards infinity.\n",
    "* ROUND_DOWN\n",
    "Always round toward zero.\n",
    "* ROUND_FLOOR\n",
    "Always round down towards negative infinity.\n",
    "* ROUND_HALF_DOWN\n",
    "Rounds away from zero if the last significant digit is greater than or equal to 5, otherwise toward zero.\n",
    "* ROUND_HALF_EVEN\n",
    "Like ROUND_HALF_DOWN except that if the value is 5 then the preceding digit is examined. Even values cause the result to be rounded down and odd digits cause the result to be rounded up.\n",
    "* ROUND_HALF_UP\n",
    "Like ROUND_HALF_DOWN except if the last significant digit is 5 the value is rounded away from zero.\n",
    "* ROUND_UP\n",
    "Round away from zero.\n",
    "* ROUND_05UP\n",
    "Round away from zero if the last digit is 0 or 5, otherwise towards zero.\n",
    "\n",
    "This program shows the effect of rounding the same value to different levels of precision using the different algorithms."
   ]
  },
  {
   "cell_type": "code",
   "execution_count": 8,
   "metadata": {
    "collapsed": false
   },
   "outputs": [
    {
     "name": "stdout",
     "output_type": "stream",
     "text": [
      "           1/8 (1)  -1/8 (1) 1/8 (2)  -1/8 (2) 1/8 (3)  -1/8 (3)\n",
      "CEILING      0.2      -0.1     0.13    -0.12    0.125    -0.125  \n",
      "DOWN         0.1      -0.1     0.12    -0.12    0.125    -0.125  \n",
      "FLOOR        0.1      -0.2     0.12    -0.13    0.125    -0.125  \n",
      "HALF_DOWN    0.1      -0.1     0.12    -0.12    0.125    -0.125  \n",
      "HALF_EVEN    0.1      -0.1     0.12    -0.12    0.125    -0.125  \n",
      "HALF_UP      0.1      -0.1     0.13    -0.13    0.125    -0.125  \n",
      "UP           0.2      -0.2     0.13    -0.13    0.125    -0.125  \n",
      "05UP         0.1      -0.1     0.12    -0.12    0.125    -0.125  \n"
     ]
    }
   ],
   "source": [
    "# decimal_rounding.py\n",
    "import decimal\n",
    "\n",
    "context = decimal.getcontext()\n",
    "\n",
    "ROUNDING_MODES = [\n",
    "    'ROUND_CEILING',\n",
    "    'ROUND_DOWN',\n",
    "    'ROUND_FLOOR',\n",
    "    'ROUND_HALF_DOWN',\n",
    "    'ROUND_HALF_EVEN',\n",
    "    'ROUND_HALF_UP',\n",
    "    'ROUND_UP',\n",
    "    'ROUND_05UP',\n",
    "]\n",
    "\n",
    "header_fmt = '{:10} ' + ' '.join(['{:^8}'] * 6)\n",
    "\n",
    "print(header_fmt.format(\n",
    "    ' ',\n",
    "    '1/8 (1)', '-1/8 (1)',\n",
    "    '1/8 (2)', '-1/8 (2)',\n",
    "    '1/8 (3)', '-1/8 (3)',\n",
    "))\n",
    "for rounding_mode in ROUNDING_MODES:\n",
    "    print('{0:10}'.format(rounding_mode.partition('_')[-1]),\n",
    "          end=' ')\n",
    "    for precision in [1, 2, 3]:\n",
    "        context.prec = precision\n",
    "        context.rounding = getattr(decimal, rounding_mode)\n",
    "        value = decimal.Decimal(1) / decimal.Decimal(8)\n",
    "        print('{0:^8}'.format(value), end=' ')\n",
    "        value = decimal.Decimal(-1) / decimal.Decimal(8)\n",
    "        print('{0:^8}'.format(value), end=' ')\n",
    "    print()"
   ]
  },
  {
   "cell_type": "markdown",
   "metadata": {},
   "source": [
    "### Local Context\n",
    "\n",
    "The context can be applied to a block of code using the with statement.\n",
    "\n",
    "The Context supports the context manager API used by with, so the settings only apply within the block"
   ]
  },
  {
   "cell_type": "code",
   "execution_count": 9,
   "metadata": {
    "collapsed": false
   },
   "outputs": [
    {
     "name": "stdout",
     "output_type": "stream",
     "text": [
      "Local precision: 2\n",
      "3.14 / 3 = 1.1\n",
      "\n",
      "Default precision: 3\n",
      "3.14 / 3 = 1.04\n"
     ]
    }
   ],
   "source": [
    "# decimal_context_manager.py\n",
    "import decimal\n",
    "\n",
    "with decimal.localcontext() as c:\n",
    "    c.prec = 2\n",
    "    print('Local precision:', c.prec)\n",
    "    print('3.14 / 3 =', (decimal.Decimal('3.14') / 3))\n",
    "\n",
    "print()\n",
    "print('Default precision:', decimal.getcontext().prec)\n",
    "print('3.14 / 3 =', (decimal.Decimal('3.14') / 3))"
   ]
  },
  {
   "cell_type": "markdown",
   "metadata": {},
   "source": [
    "## Per-Instance Context\n",
    "\n",
    "Contexts also can be used to construct Decimal instances, which then inherit the precision and rounding arguments to the conversion from the context.\n",
    "\n",
    "This lets an application select the precision of constant values separately from the precision of user data, for example."
   ]
  },
  {
   "cell_type": "code",
   "execution_count": 10,
   "metadata": {
    "collapsed": false
   },
   "outputs": [
    {
     "name": "stdout",
     "output_type": "stream",
     "text": [
      "PI    : 3.14\n",
      "RESULT: 6.31\n"
     ]
    }
   ],
   "source": [
    "# ecimal_instance_context.py\n",
    "import decimal\n",
    "\n",
    "# Set up a context with limited precision\n",
    "c = decimal.getcontext().copy()\n",
    "c.prec = 3\n",
    "\n",
    "# Create our constant\n",
    "pi = c.create_decimal('3.1415')\n",
    "\n",
    "# The constant value is rounded off\n",
    "print('PI    :', pi)\n",
    "\n",
    "# The result of using the constant uses the global context\n",
    "print('RESULT:', decimal.Decimal('2.01') * pi)"
   ]
  },
  {
   "cell_type": "markdown",
   "metadata": {},
   "source": [
    "### Threads\n",
    "\n",
    "The “global” context is actually thread-local, so each thread can potentially be configured using different values.\n",
    "\n",
    "This example creates a new context using the specified, then installs it within each thread."
   ]
  },
  {
   "cell_type": "code",
   "execution_count": 11,
   "metadata": {
    "collapsed": false
   },
   "outputs": [
    {
     "name": "stdout",
     "output_type": "stream",
     "text": [
      "1  4\n",
      "2  3.9\n",
      "3  3.87\n",
      "4  3.875\n",
      "5  3.8748\n"
     ]
    }
   ],
   "source": [
    "# decimal_thread_context.py\n",
    "import decimal\n",
    "import threading\n",
    "from queue import PriorityQueue\n",
    "\n",
    "\n",
    "class Multiplier(threading.Thread):\n",
    "    def __init__(self, a, b, prec, q):\n",
    "        self.a = a\n",
    "        self.b = b\n",
    "        self.prec = prec\n",
    "        self.q = q\n",
    "        threading.Thread.__init__(self)\n",
    "\n",
    "    def run(self):\n",
    "        c = decimal.getcontext().copy()\n",
    "        c.prec = self.prec\n",
    "        decimal.setcontext(c)\n",
    "        self.q.put((self.prec, a * b))\n",
    "\n",
    "\n",
    "a = decimal.Decimal('3.14')\n",
    "b = decimal.Decimal('1.234')\n",
    "# A PriorityQueue will return values sorted by precision,\n",
    "# no matter what order the threads finish.\n",
    "q = PriorityQueue()\n",
    "threads = [Multiplier(a, b, i, q) for i in range(1, 6)]\n",
    "for t in threads:\n",
    "    t.start()\n",
    "\n",
    "for t in threads:\n",
    "    t.join()\n",
    "\n",
    "for i in range(5):\n",
    "    prec, value = q.get()\n",
    "    print('{}  {}'.format(prec, value))\n"
   ]
  }
 ],
 "metadata": {
  "kernelspec": {
   "display_name": "Python 3",
   "language": "python",
   "name": "python3"
  },
  "language_info": {
   "codemirror_mode": {
    "name": "ipython",
    "version": 3
   },
   "file_extension": ".py",
   "mimetype": "text/x-python",
   "name": "python",
   "nbconvert_exporter": "python",
   "pygments_lexer": "ipython3",
   "version": "3.5.2"
  }
 },
 "nbformat": 4,
 "nbformat_minor": 2
}
