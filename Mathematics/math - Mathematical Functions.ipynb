{
 "cells": [
  {
   "cell_type": "markdown",
   "metadata": {},
   "source": [
    "# math - Mathematical Functions\n",
    "\n",
    "Purpose:\tProvides functions for specialized mathematical operations.\n",
    "\n",
    "The math module implements many of the IEEE functions that would normally be found in the native platform C libraries for complex mathematical operations using floating point values, including logarithms and trigonometric operations."
   ]
  },
  {
   "cell_type": "markdown",
   "metadata": {},
   "source": [
    "## Special Constants\n",
    "\n",
    "Many math operations depend on special constants. math includes values for π (pi), e, nan (not a number), and infinity.\n",
    "\n",
    "Both π and e are limited in precision only by the platform’s floating point C library."
   ]
  },
  {
   "cell_type": "code",
   "execution_count": 1,
   "metadata": {
    "collapsed": false
   },
   "outputs": [
    {
     "name": "stdout",
     "output_type": "stream",
     "text": [
      "  π: 3.141592653589793115997963468544\n",
      "  e: 2.718281828459045090795598298428\n",
      "nan: nan\n",
      "inf: inf\n"
     ]
    }
   ],
   "source": [
    "# math_constants.py\n",
    "\n",
    "import math\n",
    "\n",
    "\n",
    "print('  π: {:.30f}'.format(math.pi))\n",
    "print('  e: {:.30f}'.format(math.e))\n",
    "print('nan: {:.30f}'.format(math.nan))\n",
    "print('inf: {:.30f}'.format(math.inf))"
   ]
  },
  {
   "cell_type": "markdown",
   "metadata": {},
   "source": [
    "## esting for Exceptional Values\n",
    "\n",
    "Floating point calculations can result in two types of exceptional values. The first of these, inf (infinity), appears when the double used to hold a floating point value overflows from a value with a large absolute value.\n",
    "\n",
    "When the exponent in this example grows large enough, the square of x no longer fits inside a double, and the value is recorded as infinite."
   ]
  },
  {
   "cell_type": "code",
   "execution_count": 2,
   "metadata": {
    "collapsed": false
   },
   "outputs": [
    {
     "name": "stdout",
     "output_type": "stream",
     "text": [
      " e  x      x**2   isinf \n",
      "--- ------ ------ ------\n",
      "  0 1      1      False \n",
      " 20 1e+20  1e+40  False \n",
      " 40 1e+40  1e+80  False \n",
      " 60 1e+60  1e+120 False \n",
      " 80 1e+80  1e+160 False \n",
      "100 1e+100 1e+200 False \n",
      "120 1e+120 1e+240 False \n",
      "140 1e+140 1e+280 False \n",
      "160 1e+160 inf    True  \n",
      "180 1e+180 inf    True  \n",
      "200 1e+200 inf    True  \n"
     ]
    }
   ],
   "source": [
    "# math_isinf.py\n",
    "import math\n",
    "\n",
    "print('{:^3} {:6} {:6} {:6}'.format(\n",
    "    'e', 'x', 'x**2', 'isinf'))\n",
    "print('{:-^3} {:-^6} {:-^6} {:-^6}'.format(\n",
    "    '', '', '', ''))\n",
    "\n",
    "for e in range(0, 201, 20):\n",
    "    x = 10.0 ** e\n",
    "    y = x * x\n",
    "    print('{:3d} {:<6g} {:<6g} {!s:6}'.format(\n",
    "        e, x, y, math.isinf(y),\n",
    "    ))"
   ]
  },
  {
   "cell_type": "markdown",
   "metadata": {},
   "source": [
    "Not all floating point overflows result in inf values, however. Calculating an exponent with floating point values, in particular, raises OverflowError instead of preserving the inf result.\n",
    "\n",
    "This discrepancy is caused by an implementation difference in the library used by C Python."
   ]
  },
  {
   "cell_type": "code",
   "execution_count": 3,
   "metadata": {
    "collapsed": false
   },
   "outputs": [
    {
     "name": "stdout",
     "output_type": "stream",
     "text": [
      "x    = 1e+200\n",
      "x*x  = inf\n",
      "x**2 = (34, 'Result too large')\n"
     ]
    }
   ],
   "source": [
    "# math_overflow.py\n",
    "x = 10.0 ** 200\n",
    "\n",
    "print('x    =', x)\n",
    "print('x*x  =', x * x)\n",
    "print('x**2 =', end=' ')\n",
    "try:\n",
    "    print(x ** 2)\n",
    "except OverflowError as err:\n",
    "    print(err)"
   ]
  },
  {
   "cell_type": "markdown",
   "metadata": {},
   "source": [
    "Division operations using infinite values are undefined. The result of dividing a number by infinity is nan (not a number).\n",
    "\n",
    "nan does not compare as equal to any value, even itself, so to check for nan use isnan()."
   ]
  },
  {
   "cell_type": "code",
   "execution_count": 4,
   "metadata": {
    "collapsed": false
   },
   "outputs": [
    {
     "name": "stdout",
     "output_type": "stream",
     "text": [
      "x        : inf\n",
      "isnan(x) : False\n",
      "y = x/x  : nan\n",
      "y == nan : False\n",
      "isnan(y) : True\n"
     ]
    }
   ],
   "source": [
    "# math_isnan.py\n",
    "import math\n",
    "\n",
    "x = (10.0 ** 200) * (10.0 ** 200)\n",
    "y = x / x\n",
    "\n",
    "print('x        :', x)\n",
    "print('isnan(x) :', math.isnan(x))\n",
    "print('y = x/x  :', x / x)\n",
    "print('y == nan :', y == float('nan'))\n",
    "print('isnan(y) :', math.isnan(y))"
   ]
  },
  {
   "cell_type": "markdown",
   "metadata": {},
   "source": [
    "Use isfinite() to check for regular numbers or either of the special values inf or nan.\n",
    "\n",
    "isfinite() returns false for either of the exceptional cases, and true otherwise."
   ]
  },
  {
   "cell_type": "code",
   "execution_count": 5,
   "metadata": {
    "collapsed": false
   },
   "outputs": [
    {
     "name": "stdout",
     "output_type": "stream",
     "text": [
      " 0.00   isfinite:   True\n",
      " 1.00   isfinite:   True\n",
      " 3.14   isfinite:   True\n",
      " 2.72   isfinite:   True\n",
      "  inf   isfinite:   False\n",
      "  nan   isfinite:   False\n"
     ]
    }
   ],
   "source": [
    "# math_isfinite.py\n",
    "import math\n",
    "\n",
    "for f in [0.0, 1.0, math.pi, math.e, math.inf, math.nan]:\n",
    "    print('{:5.2f}   isfinite:   {!s}'.format(f, math.isfinite(f)))"
   ]
  },
  {
   "cell_type": "markdown",
   "metadata": {},
   "source": [
    "## Comparing\n",
    "\n",
    "Comparisons for floating point values can be error prone, with each step of the computation potentially introducing errors due to the numerical representation. The isclose() function uses a stable algorithm to minimize these errors and provide a way for relative as well as absolute comparisons. The formula used is equivalent to\n",
    "\n",
    "* abs(a-b) <= max(rel_tol * max(abs(a), abs(b)), abs_tol)\n",
    "\n",
    "By default, isclose() uses relative comparison with the tolerance set to 1e-09, meaning that the difference between the values must be less than or equal to 1e-09 times the larger absolute value between a and b. Passing a keyword argument rel_tol to isclose() changes the tolerance. In this example, the values must be within 10% of each other.\n",
    "\n",
    "The comparison between 0.1 and 0.09 fails because of the error representing 0.1."
   ]
  },
  {
   "cell_type": "code",
   "execution_count": 6,
   "metadata": {
    "collapsed": false
   },
   "outputs": [
    {
     "name": "stdout",
     "output_type": "stream",
     "text": [
      "   a        b     rel_tol  abs(a-b) tolerance  close  \n",
      "-------- -------- -------- -------- -------- --------\n",
      " 1000.00   900.00     0.10   100.00   100.00     True\n",
      "  100.00    90.00     0.10    10.00    10.00     True\n",
      "   10.00     9.00     0.10     1.00     1.00     True\n",
      "    1.00     0.90     0.10     0.10     0.10     True\n",
      "    0.10     0.09     0.10     0.01     0.01    False\n"
     ]
    }
   ],
   "source": [
    "# math_isclose.py\n",
    "import math\n",
    "\n",
    "INPUTS = [\n",
    "    (1000, 900, 0.1),\n",
    "    (100, 90, 0.1),\n",
    "    (10, 9, 0.1),\n",
    "    (1, 0.9, 0.1),\n",
    "    (0.1, 0.09, 0.1),\n",
    "]\n",
    "\n",
    "print('{:^8} {:^8} {:^8} {:^8} {:^8} {:^8}'.format(\n",
    "    'a', 'b', 'rel_tol', 'abs(a-b)', 'tolerance', 'close')\n",
    ")\n",
    "print('{:-^8} {:-^8} {:-^8} {:-^8} {:-^8} {:-^8}'.format(\n",
    "    '-', '-', '-', '-', '-', '-'),\n",
    ")\n",
    "\n",
    "fmt = '{:8.2f} {:8.2f} {:8.2f} {:8.2f} {:8.2f} {!s:>8}'\n",
    "\n",
    "for a, b, rel_tol in INPUTS:\n",
    "    close = math.isclose(a, b, rel_tol=rel_tol)\n",
    "    tolerance = rel_tol * max(abs(a), abs(b))\n",
    "    abs_diff = abs(a - b)\n",
    "    print(fmt.format(a, b, rel_tol, abs_diff, tolerance, close))"
   ]
  },
  {
   "cell_type": "markdown",
   "metadata": {},
   "source": [
    "To use a fixed or “absolute” tolerance, pass abs_tol instead of rel_tol.\n",
    "\n",
    "For an absolute tolerance, the difference between the input values must be less than the tolerance given."
   ]
  },
  {
   "cell_type": "code",
   "execution_count": 7,
   "metadata": {
    "collapsed": false
   },
   "outputs": [
    {
     "name": "stdout",
     "output_type": "stream",
     "text": [
      "   a          b      abs_tol   abs(a-b)   close  \n",
      "-------- ----------- -------- ---------- --------\n",
      "    1.00   1.0000001    1e-08 0.000000100    False\n",
      "    1.00  1.00000001    1e-08 0.000000010     True\n",
      "    1.00 1.000000001    1e-08 0.000000001     True\n"
     ]
    }
   ],
   "source": [
    "# math_isclose_abs_tol.py\n",
    "import math\n",
    "\n",
    "INPUTS = [\n",
    "    (1.0, 1.0 + 1e-07, 1e-08),\n",
    "    (1.0, 1.0 + 1e-08, 1e-08),\n",
    "    (1.0, 1.0 + 1e-09, 1e-08),\n",
    "]\n",
    "\n",
    "print('{:^8} {:^11} {:^8} {:^10} {:^8}'.format(\n",
    "    'a', 'b', 'abs_tol', 'abs(a-b)', 'close')\n",
    ")\n",
    "print('{:-^8} {:-^11} {:-^8} {:-^10} {:-^8}'.format(\n",
    "    '-', '-', '-', '-', '-'),\n",
    ")\n",
    "\n",
    "for a, b, abs_tol in INPUTS:\n",
    "    close = math.isclose(a, b, abs_tol=abs_tol)\n",
    "    abs_diff = abs(a - b)\n",
    "    print('{:8.2f} {:11} {:8} {:0.9f} {!s:>8}'.format(\n",
    "        a, b, abs_tol, abs_diff, close))"
   ]
  },
  {
   "cell_type": "markdown",
   "metadata": {},
   "source": [
    "nan and inf are special cases.\n",
    "\n",
    "nan is never close to another value, including itself. inf is only close to itself."
   ]
  },
  {
   "cell_type": "code",
   "execution_count": 8,
   "metadata": {
    "collapsed": false
   },
   "outputs": [
    {
     "name": "stdout",
     "output_type": "stream",
     "text": [
      "nan, nan: False\n",
      "nan, 1.0: False\n",
      "inf, inf: True\n",
      "inf, 1.0: False\n",
      "inf, nan: False\n"
     ]
    }
   ],
   "source": [
    "# math_isclose_inf.py\n",
    "import math\n",
    "\n",
    "print('nan, nan:', math.isclose(math.nan, math.nan))\n",
    "print('nan, 1.0:', math.isclose(math.nan, 1.0))\n",
    "print('inf, inf:', math.isclose(math.inf, math.inf))\n",
    "print('inf, 1.0:', math.isclose(math.inf, 1.0))\n",
    "print('inf, nan:', math.isclose(math.inf, math.nan))"
   ]
  },
  {
   "cell_type": "markdown",
   "metadata": {},
   "source": [
    "## Converting Floating Point Values to Integers\n",
    "\n",
    "The math module includes three functions for converting floating point values to whole numbers. Each takes a different approach, and will be useful in different circumstances.\n",
    "\n",
    "The simplest is trunc(), which truncates the digits following the decimal, leaving only the significant digits making up the whole number portion of the value. floor() converts its input to the largest preceding integer, and ceil() (ceiling) produces the largest integer following sequentially after the input value.\n",
    "\n",
    "trunc() is equivalent to converting to int directly."
   ]
  },
  {
   "cell_type": "code",
   "execution_count": 9,
   "metadata": {
    "collapsed": false
   },
   "outputs": [
    {
     "name": "stdout",
     "output_type": "stream",
     "text": [
      "  i    int  trunk floor ceil \n",
      "----- ----- ----- ----- -----\n",
      " -1.5  -1.0  -1.0  -2.0  -1.0\n",
      " -0.8   0.0   0.0  -1.0   0.0\n",
      " -0.5   0.0   0.0  -1.0   0.0\n",
      " -0.2   0.0   0.0  -1.0   0.0\n",
      "  0.0   0.0   0.0   0.0   0.0\n",
      "  0.2   0.0   0.0   0.0   1.0\n",
      "  0.5   0.0   0.0   0.0   1.0\n",
      "  0.8   0.0   0.0   0.0   1.0\n",
      "  1.0   1.0   1.0   1.0   1.0\n"
     ]
    }
   ],
   "source": [
    "# math_integers.py\n",
    "import math\n",
    "\n",
    "HEADINGS = ('i', 'int', 'trunk', 'floor', 'ceil')\n",
    "print('{:^5} {:^5} {:^5} {:^5} {:^5}'.format(*HEADINGS))\n",
    "print('{:-^5} {:-^5} {:-^5} {:-^5} {:-^5}'.format(\n",
    "    '', '', '', '', '',\n",
    "))\n",
    "\n",
    "fmt = '{:5.1f} {:5.1f} {:5.1f} {:5.1f} {:5.1f}'\n",
    "\n",
    "TEST_VALUES = [\n",
    "    -1.5,\n",
    "    -0.8,\n",
    "    -0.5,\n",
    "    -0.2,\n",
    "    0,\n",
    "    0.2,\n",
    "    0.5,\n",
    "    0.8,\n",
    "    1,\n",
    "]\n",
    "\n",
    "for i in TEST_VALUES:\n",
    "    print(fmt.format(\n",
    "        i,\n",
    "        int(i),\n",
    "        math.trunc(i),\n",
    "        math.floor(i),\n",
    "        math.ceil(i),\n",
    "    ))\n"
   ]
  },
  {
   "cell_type": "markdown",
   "metadata": {},
   "source": [
    "## Alternate Representations of Floating Point Values\n",
    "\n",
    "modf() takes a single floating point number and returns a tuple containing the fractional and whole number parts of the input value.\n",
    "\n",
    "Both numbers in the return value are floats."
   ]
  },
  {
   "cell_type": "code",
   "execution_count": 10,
   "metadata": {
    "collapsed": false
   },
   "outputs": [
    {
     "name": "stdout",
     "output_type": "stream",
     "text": [
      "0/2 = (0.0, 0.0)\n",
      "1/2 = (0.5, 0.0)\n",
      "2/2 = (0.0, 1.0)\n",
      "3/2 = (0.5, 1.0)\n",
      "4/2 = (0.0, 2.0)\n",
      "5/2 = (0.5, 2.0)\n"
     ]
    }
   ],
   "source": [
    "# math_modf.py\n",
    "import math\n",
    "\n",
    "for i in range(6):\n",
    "    print('{}/2 = {}'.format(i, math.modf(i / 2.0)))"
   ]
  },
  {
   "cell_type": "markdown",
   "metadata": {},
   "source": [
    "frexp() returns the mantissa and exponent of a floating point number, and can be used to create a more portable representation of the value.\n",
    "\n",
    "frexp() uses the formula x = m \\* 2\\*\\*e, and returns the values m and e."
   ]
  },
  {
   "cell_type": "code",
   "execution_count": 11,
   "metadata": {
    "collapsed": false
   },
   "outputs": [
    {
     "name": "stdout",
     "output_type": "stream",
     "text": [
      "   x       m       e   \n",
      "------- ------- -------\n",
      "   0.10    0.80      -3\n",
      "   0.50    0.50       0\n",
      "   4.00    0.50       3\n"
     ]
    }
   ],
   "source": [
    "# math_frexp.py\n",
    "import math\n",
    "\n",
    "print('{:^7} {:^7} {:^7}'.format('x', 'm', 'e'))\n",
    "print('{:-^7} {:-^7} {:-^7}'.format('', '', ''))\n",
    "\n",
    "for x in [0.1, 0.5, 4.0]:\n",
    "    m, e = math.frexp(x)\n",
    "    print('{:7.2f} {:7.2f} {:7d}'.format(x, m, e))"
   ]
  },
  {
   "cell_type": "markdown",
   "metadata": {},
   "source": [
    "ldexp() is the inverse of frexp().\n",
    "\n",
    "Using the same formula as frexp(), ldexp() takes the mantissa and exponent values as arguments and returns a floating point number."
   ]
  },
  {
   "cell_type": "code",
   "execution_count": 12,
   "metadata": {
    "collapsed": false
   },
   "outputs": [
    {
     "name": "stdout",
     "output_type": "stream",
     "text": [
      "   m       e       x   \n",
      "------- ------- -------\n",
      "   0.80      -3    0.10\n",
      "   0.50       0    0.50\n",
      "   0.50       3    4.00\n"
     ]
    }
   ],
   "source": [
    "# math_ldexp.py\n",
    "import math\n",
    "\n",
    "print('{:^7} {:^7} {:^7}'.format('m', 'e', 'x'))\n",
    "print('{:-^7} {:-^7} {:-^7}'.format('', '', ''))\n",
    "\n",
    "INPUTS = [\n",
    "    (0.8, -3),\n",
    "    (0.5, 0),\n",
    "    (0.5, 3),\n",
    "]\n",
    "\n",
    "for m, e in INPUTS:\n",
    "    x = math.ldexp(m, e)\n",
    "    print('{:7.2f} {:7d} {:7.2f}'.format(m, e, x))"
   ]
  },
  {
   "cell_type": "markdown",
   "metadata": {},
   "source": [
    "## Positive and Negative Signs\n",
    "\n",
    "The absolute value of a number is its value without a sign. Use fabs() to calculate the absolute value of a floating point number.\n",
    "\n",
    "In practical terms, the absolute value of a float is represented as a positive value."
   ]
  },
  {
   "cell_type": "code",
   "execution_count": 13,
   "metadata": {
    "collapsed": false
   },
   "outputs": [
    {
     "name": "stdout",
     "output_type": "stream",
     "text": [
      "1.1\n",
      "0.0\n",
      "0.0\n",
      "1.1\n"
     ]
    }
   ],
   "source": [
    "# math_fabs.py\n",
    "import math\n",
    "\n",
    "print(math.fabs(-1.1))\n",
    "print(math.fabs(-0.0))\n",
    "print(math.fabs(0.0))\n",
    "print(math.fabs(1.1))"
   ]
  },
  {
   "cell_type": "markdown",
   "metadata": {},
   "source": [
    "To determine the sign of a value, either to give a set of values the same sign or to compare two values, use copysign() to set the sign of a known good value.\n",
    "\n",
    "An extra function like copysign() is needed because comparing nan and -nan directly with other values does not work."
   ]
  },
  {
   "cell_type": "code",
   "execution_count": 14,
   "metadata": {
    "collapsed": false
   },
   "outputs": [
    {
     "name": "stdout",
     "output_type": "stream",
     "text": [
      "  f     s    < 0   > 0   = 0 \n",
      "----- ----- ----- ----- -----\n",
      " -1.0    -1 True  False False\n",
      "  0.0     1 False False True \n",
      "  1.0     1 False True  False\n",
      " -inf    -1 True  False False\n",
      "  inf     1 False True  False\n",
      "  nan    -1 False False False\n",
      "  nan     1 False False False\n"
     ]
    }
   ],
   "source": [
    "# math_copysign.py\n",
    "import math\n",
    "\n",
    "HEADINGS = ('f', 's', '< 0', '> 0', '= 0')\n",
    "print('{:^5} {:^5} {:^5} {:^5} {:^5}'.format(*HEADINGS))\n",
    "print('{:-^5} {:-^5} {:-^5} {:-^5} {:-^5}'.format(\n",
    "    '', '', '', '', '',\n",
    "))\n",
    "\n",
    "VALUES = [\n",
    "    -1.0,\n",
    "    0.0,\n",
    "    1.0,\n",
    "    float('-inf'),\n",
    "    float('inf'),\n",
    "    float('-nan'),\n",
    "    float('nan'),\n",
    "]\n",
    "\n",
    "for f in VALUES:\n",
    "    s = int(math.copysign(1, f))\n",
    "    print('{:5.1f} {:5d} {!s:5} {!s:5} {!s:5}'.format(\n",
    "        f, s, f < 0, f > 0, f == 0,\n",
    "    ))"
   ]
  },
  {
   "cell_type": "markdown",
   "metadata": {},
   "source": [
    "## Commonly Used Calculations\n",
    "\n",
    "Representing precise values in binary floating point memory is challenging. Some values cannot be represented exactly, and the more often a value is manipulated through repeated calculations, the more likely a representation error will be introduced. math includes a function for computing the sum of a series of floating point numbers using an efficient algorithm that minimizes such errors.\n",
    "\n",
    "Given a sequence of ten values, each equal to 0.1, the expected value for the sum of the sequence is 1.0. Since 0.1 cannot be represented exactly as a floating point value, however, errors are introduced into the sum unless it is calculated with fsum()."
   ]
  },
  {
   "cell_type": "code",
   "execution_count": 15,
   "metadata": {
    "collapsed": false
   },
   "outputs": [
    {
     "name": "stdout",
     "output_type": "stream",
     "text": [
      "Input values: [0.1, 0.1, 0.1, 0.1, 0.1, 0.1, 0.1, 0.1, 0.1, 0.1]\n",
      "sum()       : 0.99999999999999988898\n",
      "for-loop    : 0.99999999999999988898\n",
      "math.fsum() : 1.00000000000000000000\n"
     ]
    }
   ],
   "source": [
    "# math_fsum.py\n",
    "import math\n",
    "\n",
    "values = [0.1] * 10\n",
    "\n",
    "print('Input values:', values)\n",
    "\n",
    "print('sum()       : {:.20f}'.format(sum(values)))\n",
    "\n",
    "s = 0.0\n",
    "for i in values:\n",
    "    s += i\n",
    "print('for-loop    : {:.20f}'.format(s))\n",
    "\n",
    "print('math.fsum() : {:.20f}'.format(math.fsum(values)))"
   ]
  },
  {
   "cell_type": "markdown",
   "metadata": {},
   "source": [
    "factorial() is commonly used to calculate the number of permutations and combinations of a series of objects. The factorial of a positive integer n, expressed n!, is defined recursively as (n-1)! * n and stops with 0! == 1.\n",
    "\n",
    "factorial() only works with whole numbers, but does accept float arguments as long as they can be converted to an integer without losing value."
   ]
  },
  {
   "cell_type": "code",
   "execution_count": 16,
   "metadata": {
    "collapsed": false
   },
   "outputs": [
    {
     "name": "stdout",
     "output_type": "stream",
     "text": [
      " 0      1\n",
      " 1      1\n",
      " 2      2\n",
      " 3      6\n",
      " 4     24\n",
      " 5    120\n",
      "Error computing factorial(6.1): factorial() only accepts integral values\n"
     ]
    }
   ],
   "source": [
    "# math_factorial.py\n",
    "import math\n",
    "\n",
    "for i in [0, 1.0, 2.0, 3.0, 4.0, 5.0, 6.1]:\n",
    "    try:\n",
    "        print('{:2.0f} {:6.0f}'.format(i, math.factorial(i)))\n",
    "    except ValueError as err:\n",
    "        print('Error computing factorial({}): {}'.format(i, err))"
   ]
  },
  {
   "cell_type": "markdown",
   "metadata": {},
   "source": [
    "gamma() is like factorial(), except it works with real numbers and the value is shifted down by one (gamma is equal to (n - 1)!).\n",
    "\n",
    "Since zero causes the start value to be negative, it is not allowed."
   ]
  },
  {
   "cell_type": "code",
   "execution_count": 17,
   "metadata": {
    "collapsed": false
   },
   "outputs": [
    {
     "name": "stdout",
     "output_type": "stream",
     "text": [
      "Error computing gamma(-1): math domain error\n",
      "Error computing gamma(0): math domain error\n",
      "0.1   9.51\n",
      "1.0   1.00\n",
      "1.1   0.95\n",
      "2.0   1.00\n",
      "2.2   1.10\n",
      "3.0   2.00\n",
      "3.3   2.68\n",
      "4.4  10.14\n",
      "5.5  52.34\n",
      "6.6 344.70\n"
     ]
    }
   ],
   "source": [
    "# math_gamma.py\n",
    "import math\n",
    "\n",
    "for i in [-1, 0, 0.1, 1, 1.1, 2, 2.2, 3, 3.3, 4.4, 5.5, 6.6]:\n",
    "    try:\n",
    "        print('{:2.1f} {:6.2f}'.format(i, math.gamma(i)))\n",
    "    except ValueError as err:\n",
    "        print('Error computing gamma({}): {}'.format(i, err))"
   ]
  },
  {
   "cell_type": "markdown",
   "metadata": {},
   "source": [
    "lgamma() returns the natural logarithm of the absolute value of gamma for the input value.\n",
    "\n",
    "Using lgamma() retains more precision than calculating the logarithm separately using the results of gamma()."
   ]
  },
  {
   "cell_type": "code",
   "execution_count": 18,
   "metadata": {
    "collapsed": false
   },
   "outputs": [
    {
     "name": "stdout",
     "output_type": "stream",
     "text": [
      "Error computing lgamma(0): math domain error\n",
      "1.1      -0.04987244125984036103       -0.04987244125983997245\n",
      "2.2      0.09694746679063825923       0.09694746679063866168\n",
      "3.3      0.98709857789473387513       0.98709857789473409717\n",
      "4.4      2.31610349142485727469       2.31610349142485727469\n",
      "5.5      3.95781396761871651080       3.95781396761871606671\n",
      "6.6      5.84268005527463252236       5.84268005527463252236\n"
     ]
    }
   ],
   "source": [
    "# math_lgamma.py\n",
    "import math\n",
    "\n",
    "for i in [0, 1.1, 2.2, 3.3, 4.4, 5.5, 6.6]:\n",
    "    try:\n",
    "        print('{:2.1f}      {:.20f}       {:.20f}'.format(\n",
    "            i,\n",
    "            math.lgamma(i),\n",
    "            math.log(math.gamma(i)),\n",
    "        ))\n",
    "    except ValueError as err:\n",
    "        print('Error computing lgamma({}): {}'.format(i, err))"
   ]
  },
  {
   "cell_type": "markdown",
   "metadata": {},
   "source": [
    "The modulo operator (%) computes the remainder of a division expression (i.e., 5 % 2 = 1). The operator built into the language works well with integers but, as with so many other floating point operations, intermediate calculations cause representational issues that result in a loss of data. fmod() provides a more accurate implementation for floating point values.\n",
    "\n",
    "A potentially more frequent source of confusion is the fact that the algorithm used by fmod() for computing modulo is also different from that used by %, so the sign of the result is different."
   ]
  },
  {
   "cell_type": "code",
   "execution_count": 19,
   "metadata": {
    "collapsed": false
   },
   "outputs": [
    {
     "name": "stdout",
     "output_type": "stream",
     "text": [
      " x    y     %   fmod \n",
      "---- ---- ----- -----\n",
      " 5.0  2.0  1.00  1.00\n",
      " 5.0 -2.0 -1.00  1.00\n",
      "-5.0  2.0  1.00 -1.00\n"
     ]
    }
   ],
   "source": [
    "# math_fmod.py\n",
    "import math\n",
    "\n",
    "print('{:^4} {:^4} {:^5} {:^5}'.format(\n",
    "    'x', 'y', '%', 'fmod'))\n",
    "print('{:-^4} {:-^4} {:-^5} {:-^5}'.format(\n",
    "    '-', '-', '-', '-'))\n",
    "\n",
    "INPUTS = [\n",
    "    (5, 2),\n",
    "    (5, -2),\n",
    "    (-5, 2),\n",
    "]\n",
    "\n",
    "for x, y in INPUTS:\n",
    "    print('{:4.1f} {:4.1f} {:5.2f} {:5.2f}'.format(\n",
    "        x,\n",
    "        y,\n",
    "        x % y,\n",
    "        math.fmod(x, y),\n",
    "    ))\n"
   ]
  },
  {
   "cell_type": "markdown",
   "metadata": {},
   "source": [
    "Use gcd() to find the largest integer that can divide evenly into two integers, the greatest common divisor.\n",
    "\n",
    "If both values are 0, the result is 0."
   ]
  },
  {
   "cell_type": "code",
   "execution_count": 20,
   "metadata": {
    "collapsed": false
   },
   "outputs": [
    {
     "name": "stdout",
     "output_type": "stream",
     "text": [
      "2\n",
      "10\n",
      "25\n",
      "1\n",
      "1\n",
      "0\n"
     ]
    }
   ],
   "source": [
    "# math_gcd.py\n",
    "import math\n",
    "\n",
    "print(math.gcd(10, 8))\n",
    "print(math.gcd(10, 0))\n",
    "print(math.gcd(50, 225))\n",
    "print(math.gcd(11, 9))\n",
    "print(math.gcd(1, 0))\n",
    "print(math.gcd(0, 0))"
   ]
  },
  {
   "cell_type": "markdown",
   "metadata": {},
   "source": [
    "## Exponents and Logarithms\n",
    "\n",
    "Exponential growth curves appear in economics, physics, and other sciences. Python has a built-in exponentiation operator (“\\*\\*”), but pow() can be useful when a callable function is needed as an argument to another function.\n",
    "\n",
    "Raising 1 to any power always returns 1.0, as does raising any value to a power of 0.0. Most operations on the not-a-number value nan return nan. If the exponent is less than 1, pow() computes a root."
   ]
  },
  {
   "cell_type": "code",
   "execution_count": 21,
   "metadata": {
    "collapsed": false
   },
   "outputs": [
    {
     "name": "stdout",
     "output_type": "stream",
     "text": [
      "  2.0 ** 3.000 =  8.000\n",
      "  2.1 ** 3.200 = 10.742\n",
      "  1.0 ** 5.000 =  1.000\n",
      "  2.0 ** 0.000 =  1.000\n",
      "  2.0 **   nan =    nan\n",
      "  9.0 ** 0.500 =  3.000\n",
      " 27.0 ** 0.333 =  3.000\n"
     ]
    }
   ],
   "source": [
    "# math_pow.py\n",
    "import math\n",
    "\n",
    "INPUTS = [\n",
    "    # Typical uses\n",
    "    (2, 3),\n",
    "    (2.1, 3.2),\n",
    "\n",
    "    # Always 1\n",
    "    (1.0, 5),\n",
    "    (2.0, 0),\n",
    "\n",
    "    # Not-a-number\n",
    "    (2, float('nan')),\n",
    "\n",
    "    # Roots\n",
    "    (9.0, 0.5),\n",
    "    (27.0, 1.0 / 3),\n",
    "]\n",
    "\n",
    "for x, y in INPUTS:\n",
    "    print('{:5.1f} ** {:5.3f} = {:6.3f}'.format(\n",
    "        x, y, math.pow(x, y)))"
   ]
  },
  {
   "cell_type": "markdown",
   "metadata": {},
   "source": [
    "Since square roots (exponent of 1/2) are used so frequently, there is a separate function for computing them.\n",
    "\n",
    "Computing the square roots of negative numbers requires complex numbers, which are not handled by math. Any attempt to calculate a square root of a negative value results in a ValueError."
   ]
  },
  {
   "cell_type": "code",
   "execution_count": 22,
   "metadata": {
    "collapsed": false
   },
   "outputs": [
    {
     "name": "stdout",
     "output_type": "stream",
     "text": [
      "3.0\n",
      "1.7320508075688772\n",
      "Cannot compute sqrt(-1): math domain error\n"
     ]
    }
   ],
   "source": [
    "# math_sqrt.py\n",
    "import math\n",
    "\n",
    "print(math.sqrt(9.0))\n",
    "print(math.sqrt(3))\n",
    "try:\n",
    "    print(math.sqrt(-1))\n",
    "except ValueError as err:\n",
    "    print('Cannot compute sqrt(-1):', err)"
   ]
  },
  {
   "cell_type": "markdown",
   "metadata": {},
   "source": [
    "The logarithm function finds y where x = b \\*\\* y. By default, log() computes the natural logarithm (the base is e). If a second argument is provided, that value is used as the base.\n",
    "\n",
    "Logarithms where x is less than one yield negative results."
   ]
  },
  {
   "cell_type": "code",
   "execution_count": 23,
   "metadata": {
    "collapsed": false
   },
   "outputs": [
    {
     "name": "stdout",
     "output_type": "stream",
     "text": [
      "2.0794415416798357\n",
      "3.0\n",
      "-1.0\n"
     ]
    }
   ],
   "source": [
    "# math_log.py\n",
    "import math\n",
    "\n",
    "print(math.log(8))\n",
    "print(math.log(8, 2))\n",
    "print(math.log(0.5, 2))"
   ]
  },
  {
   "cell_type": "markdown",
   "metadata": {},
   "source": [
    "There are three variations of log(). Given floating point representation and rounding errors, the computed value produced by log(x, b) has limited accuracy, especially for some bases. log10() computes log(x, 10), using a more accurate algorithm than log().\n",
    "\n",
    "The lines in the output with trailing * highlight the inaccurate values."
   ]
  },
  {
   "cell_type": "code",
   "execution_count": 24,
   "metadata": {
    "collapsed": false
   },
   "outputs": [
    {
     "name": "stdout",
     "output_type": "stream",
     "text": [
      "i       x        accurate       inaccurate      mismatch\n",
      "-- ------------ ---------- -------------------- --------\n",
      " 0          1.0 0.00000000 0.000000000000000000      \n",
      " 1         10.0 1.00000000 1.000000000000000000      \n",
      " 2        100.0 2.00000000 2.000000000000000000      \n",
      " 3       1000.0 3.00000000 2.999999999999999556   *  \n",
      " 4      10000.0 4.00000000 4.000000000000000000      \n",
      " 5     100000.0 5.00000000 5.000000000000000000      \n",
      " 6    1000000.0 6.00000000 5.999999999999999112   *  \n",
      " 7   10000000.0 7.00000000 7.000000000000000000      \n",
      " 8  100000000.0 8.00000000 8.000000000000000000      \n",
      " 9 1000000000.0 9.00000000 8.999999999999998224   *  \n"
     ]
    }
   ],
   "source": [
    "# math_log10.py\n",
    "import math\n",
    "\n",
    "print('{:2} {:^12} {:^10} {:^20} {:8}'.format(\n",
    "    'i', 'x', 'accurate', 'inaccurate', 'mismatch',\n",
    "))\n",
    "print('{:-^2} {:-^12} {:-^10} {:-^20} {:-^8}'.format(\n",
    "    '', '', '', '', '',\n",
    "))\n",
    "\n",
    "for i in range(0, 10):\n",
    "    x = math.pow(10, i)\n",
    "    accurate = math.log10(x)\n",
    "    inaccurate = math.log(x, 10)\n",
    "    match = '' if int(inaccurate) == i else '*'\n",
    "    print('{:2d} {:12.1f} {:10.8f} {:20.18f} {:^5}'.format(\n",
    "        i, x, accurate, inaccurate, match,\n",
    "    ))"
   ]
  },
  {
   "cell_type": "markdown",
   "metadata": {},
   "source": [
    "Similar to log10(), log2() calculates the equivalent of math.log(x, 2).\n",
    "\n",
    "Depending on the underlying platform, using the built-in and special-purpose function can offer better performance and accuracy by using special-purpose algorithms for base 2 that are not found in the more general purpose function."
   ]
  },
  {
   "cell_type": "code",
   "execution_count": 25,
   "metadata": {
    "collapsed": false
   },
   "outputs": [
    {
     "name": "stdout",
     "output_type": "stream",
     "text": [
      " i   x   log2 \n",
      "-- ----- -----\n",
      " 0   1.0   0.0\n",
      " 1   2.0   1.0\n",
      " 2   4.0   2.0\n",
      " 3   8.0   3.0\n",
      " 4  16.0   4.0\n",
      " 5  32.0   5.0\n",
      " 6  64.0   6.0\n",
      " 7 128.0   7.0\n",
      " 8 256.0   8.0\n",
      " 9 512.0   9.0\n"
     ]
    }
   ],
   "source": [
    "# math_log2.py\n",
    "import math\n",
    "\n",
    "print('{:>2} {:^5} {:^5}'.format(\n",
    "    'i', 'x', 'log2',\n",
    "))\n",
    "print('{:-^2} {:-^5} {:-^5}'.format(\n",
    "    '', '', '',\n",
    "))\n",
    "\n",
    "for i in range(0, 10):\n",
    "    x = math.pow(2, i)\n",
    "    result = math.log2(x)\n",
    "    print('{:2d} {:5.1f} {:5.1f}'.format(\n",
    "        i, x, result,\n",
    "    ))\n"
   ]
  },
  {
   "cell_type": "markdown",
   "metadata": {},
   "source": [
    "log1p() calculates the Newton-Mercator series (the natural logarithm of 1+x).\n",
    "\n",
    "log1p() is more accurate for values of x very close to zero because it uses an algorithm that compensates for round-off errors from the initial addition."
   ]
  },
  {
   "cell_type": "code",
   "execution_count": 26,
   "metadata": {
    "collapsed": false
   },
   "outputs": [
    {
     "name": "stdout",
     "output_type": "stream",
     "text": [
      "x       : 1e-25\n",
      "1 + x   : 1.0\n",
      "log(1+x): 0.0\n",
      "log1p(x): 1e-25\n"
     ]
    }
   ],
   "source": [
    "# math_log1p.py\n",
    "import math\n",
    "\n",
    "x = 0.0000000000000000000000001\n",
    "print('x       :', x)\n",
    "print('1 + x   :', 1 + x)\n",
    "print('log(1+x):', math.log(1 + x))\n",
    "print('log1p(x):', math.log1p(x))"
   ]
  },
  {
   "cell_type": "markdown",
   "metadata": {},
   "source": [
    "exp() computes the exponential function (e**x).\n",
    "\n",
    "As with other special-case functions, it uses an algorithm that produces more accurate results than the general-purpose equivalent math.pow(math.e, x)."
   ]
  },
  {
   "cell_type": "code",
   "execution_count": 27,
   "metadata": {
    "collapsed": false
   },
   "outputs": [
    {
     "name": "stdout",
     "output_type": "stream",
     "text": [
      "7.38905609893064951876\n",
      "7.38905609893064951876\n",
      "7.38905609893065040694\n"
     ]
    }
   ],
   "source": [
    "# math_exp.py\n",
    "import math\n",
    "\n",
    "x = 2\n",
    "\n",
    "fmt = '{:.20f}'\n",
    "print(fmt.format(math.e ** 2))\n",
    "print(fmt.format(math.pow(math.e, 2)))\n",
    "print(fmt.format(math.exp(2)))"
   ]
  },
  {
   "cell_type": "markdown",
   "metadata": {},
   "source": [
    "expm1() is the inverse of log1p(), and calculates e**x - 1.\n",
    "\n",
    "Small values of x lose precision when the subtraction is performed separately, like with log1p()."
   ]
  },
  {
   "cell_type": "code",
   "execution_count": 28,
   "metadata": {
    "collapsed": false
   },
   "outputs": [
    {
     "name": "stdout",
     "output_type": "stream",
     "text": [
      "1e-25\n",
      "0.0\n",
      "1e-25\n"
     ]
    }
   ],
   "source": [
    "# math_expm1.py\n",
    "import math\n",
    "\n",
    "x = 0.0000000000000000000000001\n",
    "\n",
    "print(x)\n",
    "print(math.exp(x) - 1)\n",
    "print(math.expm1(x))"
   ]
  },
  {
   "cell_type": "markdown",
   "metadata": {},
   "source": [
    "## Angles\n",
    "\n",
    "Although degrees are more commonly used in everyday discussions of angles, radians are the standard unit of angular measure in science and math. A radian is the angle created by two lines intersecting at the center of a circle, with their ends on the circumference of the circle spaced one radius apart.\n",
    "\n",
    "The circumference is calculated as 2πr, so there is a relationship between radians and π, a value that shows up frequently in trigonometric calculations. That relationship leads to radians being used in trigonometry and calculus, because they result in more compact formulas.\n",
    "\n",
    "To convert from degrees to radians, use radians().\n",
    "\n",
    "The formula for the conversion is rad = deg * π / 180."
   ]
  },
  {
   "cell_type": "code",
   "execution_count": 29,
   "metadata": {
    "collapsed": false
   },
   "outputs": [
    {
     "name": "stdout",
     "output_type": "stream",
     "text": [
      "Degrees Radians Expected\n",
      "------- ------- -------\n",
      "      0    0.00    0.00\n",
      "     30    0.52    0.52\n",
      "     45    0.79    0.79\n",
      "     60    1.05    1.05\n",
      "     90    1.57    1.57\n",
      "    180    3.14    3.14\n",
      "    270    4.71    4.71\n",
      "    360    6.28    6.28\n"
     ]
    }
   ],
   "source": [
    "# math_radians.py\n",
    "import math\n",
    "\n",
    "print('{:^7} {:^7} {:^7}'.format(\n",
    "    'Degrees', 'Radians', 'Expected'))\n",
    "print('{:-^7} {:-^7} {:-^7}'.format(\n",
    "    '', '', ''))\n",
    "\n",
    "INPUTS = [\n",
    "    (0, 0),\n",
    "    (30, math.pi / 6),\n",
    "    (45, math.pi / 4),\n",
    "    (60, math.pi / 3),\n",
    "    (90, math.pi / 2),\n",
    "    (180, math.pi),\n",
    "    (270, 3 / 2.0 * math.pi),\n",
    "    (360, 2 * math.pi),\n",
    "]\n",
    "\n",
    "for deg, expected in INPUTS:\n",
    "    print('{:7d} {:7.2f} {:7.2f}'.format(\n",
    "        deg,\n",
    "        math.radians(deg),\n",
    "        expected,\n",
    "    ))"
   ]
  },
  {
   "cell_type": "markdown",
   "metadata": {},
   "source": [
    "To convert from radians to degrees, use degrees().\n",
    "\n",
    "The formula is deg = rad * 180 / π."
   ]
  },
  {
   "cell_type": "code",
   "execution_count": 30,
   "metadata": {
    "collapsed": false
   },
   "outputs": [
    {
     "name": "stdout",
     "output_type": "stream",
     "text": [
      "Radians  Degrees  Expected\n",
      "-------- -------- --------\n",
      "    0.00     0.00     0.00\n",
      "    0.52    30.00    30.00\n",
      "    0.79    45.00    45.00\n",
      "    1.05    60.00    60.00\n",
      "    1.57    90.00    90.00\n",
      "    3.14   180.00   180.00\n",
      "    4.71   270.00   270.00\n",
      "    6.28   360.00   360.00\n"
     ]
    }
   ],
   "source": [
    "# math_degrees.py\n",
    "import math\n",
    "\n",
    "INPUTS = [\n",
    "    (0, 0),\n",
    "    (math.pi / 6, 30),\n",
    "    (math.pi / 4, 45),\n",
    "    (math.pi / 3, 60),\n",
    "    (math.pi / 2, 90),\n",
    "    (math.pi, 180),\n",
    "    (3 * math.pi / 2, 270),\n",
    "    (2 * math.pi, 360),\n",
    "]\n",
    "\n",
    "print('{:^8} {:^8} {:^8}'.format(\n",
    "    'Radians', 'Degrees', 'Expected'))\n",
    "print('{:-^8} {:-^8} {:-^8}'.format('', '', ''))\n",
    "for rad, expected in INPUTS:\n",
    "    print('{:8.2f} {:8.2f} {:8.2f}'.format(\n",
    "        rad,\n",
    "        math.degrees(rad),\n",
    "        expected,\n",
    "    ))"
   ]
  },
  {
   "cell_type": "markdown",
   "metadata": {},
   "source": [
    "## Trigonometry\n",
    "\n",
    "Trigonometric functions relate angles in a triangle to the lengths of its sides. They show up in formulas with periodic properties such as harmonics, circular motion, or when dealing with angles. All of the trigonometric functions in the standard library take angles expressed as radians.\n",
    "\n",
    "Given an angle in a right triangle, the sine is the ratio of the length of the side opposite the angle to the hypotenuse (sin A = opposite/hypotenuse). The cosine is the ratio of the length of the adjacent side to the hypotenuse (cos A = adjacent/hypotenuse). And the tangent is the ratio of the opposite side to the adjacent side (tan A = opposite/adjacent)."
   ]
  },
  {
   "cell_type": "code",
   "execution_count": 31,
   "metadata": {
    "collapsed": false
   },
   "outputs": [
    {
     "name": "stdout",
     "output_type": "stream",
     "text": [
      "Degrees Radians  Sine   Cosine  Tangent\n",
      "------- ------- ------- ------- -------\n",
      "   0.00    0.00    0.00    1.00    0.00\n",
      "  30.00    0.52    0.50    0.87    0.58\n",
      "  60.00    1.05    0.87    0.50    1.73\n",
      "  90.00    1.57    1.00    0.00     inf\n",
      " 120.00    2.09    0.87   -0.50   -1.73\n",
      " 150.00    2.62    0.50   -0.87   -0.58\n",
      " 180.00    3.14    0.00   -1.00   -0.00\n",
      " 210.00    3.67   -0.50   -0.87    0.58\n",
      " 240.00    4.19   -0.87   -0.50    1.73\n",
      " 270.00    4.71   -1.00   -0.00     inf\n",
      " 300.00    5.24   -0.87    0.50   -1.73\n",
      " 330.00    5.76   -0.50    0.87   -0.58\n",
      " 360.00    6.28   -0.00    1.00   -0.00\n"
     ]
    }
   ],
   "source": [
    "# math_trig.py\n",
    "import math\n",
    "\n",
    "print('{:^7} {:^7} {:^7} {:^7} {:^7}'.format(\n",
    "    'Degrees', 'Radians', 'Sine', 'Cosine', 'Tangent'))\n",
    "print('{:-^7} {:-^7} {:-^7} {:-^7} {:-^7}'.format(\n",
    "    '-', '-', '-', '-', '-'))\n",
    "\n",
    "fmt = '{:7.2f} {:7.2f} {:7.2f} {:7.2f} {:7.2f}'\n",
    "\n",
    "for deg in range(0, 361, 30):\n",
    "    rad = math.radians(deg)\n",
    "    if deg in (90, 270):\n",
    "        t = float('inf')\n",
    "    else:\n",
    "        t = math.tan(rad)\n",
    "    print(fmt.format(deg, rad, math.sin(rad), math.cos(rad), t))"
   ]
  },
  {
   "cell_type": "markdown",
   "metadata": {},
   "source": [
    "The tangent can also be defined as the ratio of the sine of the angle to its cosine, and since the cosine is 0 for π/2 and 3π/2 radians, the tangent is infinite."
   ]
  },
  {
   "cell_type": "markdown",
   "metadata": {},
   "source": [
    "Given a point (x, y), the length of the hypotenuse for the triangle between the points [(0, 0), (x, 0), (x, y)] is (x\\*\\*2 + y\\*\\*2) \\*\\* 1/2, and can be computed with hypot().\n",
    "\n",
    "Points on the circle always have hypotenuse equal to 1."
   ]
  },
  {
   "cell_type": "code",
   "execution_count": 32,
   "metadata": {
    "collapsed": false
   },
   "outputs": [
    {
     "name": "stdout",
     "output_type": "stream",
     "text": [
      "   X       Y    Hypotenuse\n",
      "------- ------- ----------\n",
      "   1.00    1.00    1.41\n",
      "  -1.00   -1.00    1.41\n",
      "   1.41    1.41    2.00\n",
      "   3.00    4.00    5.00\n",
      "   0.71    0.71    1.00\n",
      "   0.50    0.87    1.00\n"
     ]
    }
   ],
   "source": [
    "# math_hypot.py\n",
    "import math\n",
    "\n",
    "print('{:^7} {:^7} {:^10}'.format('X', 'Y', 'Hypotenuse'))\n",
    "print('{:-^7} {:-^7} {:-^10}'.format('', '', ''))\n",
    "\n",
    "POINTS = [\n",
    "    # simple points\n",
    "    (1, 1),\n",
    "    (-1, -1),\n",
    "    (math.sqrt(2), math.sqrt(2)),\n",
    "    (3, 4),  # 3-4-5 triangle\n",
    "    # on the circle\n",
    "    (math.sqrt(2) / 2, math.sqrt(2) / 2),  # pi/4 rads\n",
    "    (0.5, math.sqrt(3) / 2),  # pi/3 rads\n",
    "]\n",
    "\n",
    "for x, y in POINTS:\n",
    "    h = math.hypot(x, y)\n",
    "    print('{:7.2f} {:7.2f} {:7.2f}'.format(x, y, h))"
   ]
  },
  {
   "cell_type": "markdown",
   "metadata": {},
   "source": [
    "The same function can be used to find the distance between two points.\n",
    "\n",
    "Use the difference in the x and y values to move one endpoint to the origin, and then pass the results to hypot()."
   ]
  },
  {
   "cell_type": "code",
   "execution_count": 33,
   "metadata": {
    "collapsed": false
   },
   "outputs": [
    {
     "name": "stdout",
     "output_type": "stream",
     "text": [
      "   X1       Y1       X2       Y2    Distance\n",
      "-------- -------- -------- -------- --------\n",
      "    5.00     5.00     6.00     6.00     1.41\n",
      "   -6.00    -6.00    -5.00    -5.00     1.41\n",
      "    0.00     0.00     3.00     4.00     5.00\n",
      "   -1.00    -1.00     2.00     3.00     5.00\n"
     ]
    }
   ],
   "source": [
    "# math_distance_2_points.py\n",
    "import math\n",
    "\n",
    "print('{:^8} {:^8} {:^8} {:^8} {:^8}'.format(\n",
    "    'X1', 'Y1', 'X2', 'Y2', 'Distance',\n",
    "))\n",
    "print('{:-^8} {:-^8} {:-^8} {:-^8} {:-^8}'.format(\n",
    "    '', '', '', '', '',\n",
    "))\n",
    "\n",
    "POINTS = [\n",
    "    ((5, 5), (6, 6)),\n",
    "    ((-6, -6), (-5, -5)),\n",
    "    ((0, 0), (3, 4)),  # 3-4-5 triangle\n",
    "    ((-1, -1), (2, 3)),  # 3-4-5 triangle\n",
    "]\n",
    "\n",
    "for (x1, y1), (x2, y2) in POINTS:\n",
    "    x = x1 - x2\n",
    "    y = y1 - y2\n",
    "    h = math.hypot(x, y)\n",
    "    print('{:8.2f} {:8.2f} {:8.2f} {:8.2f} {:8.2f}'.format(\n",
    "        x1, y1, x2, y2, h,\n",
    "    ))"
   ]
  },
  {
   "cell_type": "markdown",
   "metadata": {},
   "source": [
    "math also defines inverse trigonometric functions.\n",
    "\n",
    "1.57 is roughly equal to π/2, or 90 degrees, the angle at which the sine is 1 and the cosine is 0."
   ]
  },
  {
   "cell_type": "code",
   "execution_count": 34,
   "metadata": {
    "collapsed": false
   },
   "outputs": [
    {
     "name": "stdout",
     "output_type": "stream",
     "text": [
      "arcsine(0.0)    =  0.00\n",
      "arccosine(0.0)  =  1.57\n",
      "arctangent(0.0) =  0.00\n",
      "\n",
      "arcsine(0.5)    =  0.52\n",
      "arccosine(0.5)  =  1.05\n",
      "arctangent(0.5) =  0.46\n",
      "\n",
      "arcsine(1.0)    =  1.57\n",
      "arccosine(1.0)  =  0.00\n",
      "arctangent(1.0) =  0.79\n",
      "\n"
     ]
    }
   ],
   "source": [
    "# math_inverse_trig.py\n",
    "import math\n",
    "\n",
    "for r in [0, 0.5, 1]:\n",
    "    print('arcsine({:.1f})    = {:5.2f}'.format(r, math.asin(r)))\n",
    "    print('arccosine({:.1f})  = {:5.2f}'.format(r, math.acos(r)))\n",
    "    print('arctangent({:.1f}) = {:5.2f}'.format(r, math.atan(r)))\n",
    "    print()"
   ]
  },
  {
   "cell_type": "markdown",
   "metadata": {},
   "source": [
    "## Hyperbolic Functions\n",
    "\n",
    "Hyperbolic functions appear in linear differential equations and are used when working with electromagnetic fields, fluid dynamics, special relativity, and other advanced physics and mathematics.\n",
    "\n",
    "Whereas the cosine and sine functions enscribe a circle, the hyperbolic cosine and hyperbolic sine form half of a hyperbola.\n",
    "\n"
   ]
  },
  {
   "cell_type": "code",
   "execution_count": 35,
   "metadata": {
    "collapsed": false
   },
   "outputs": [
    {
     "name": "stdout",
     "output_type": "stream",
     "text": [
      "  X     sinh   cosh   tanh \n",
      "------ ------ ------ ------\n",
      "0.0000 0.0000 1.0000 0.0000\n",
      "0.2000 0.2013 1.0201 0.1974\n",
      "0.4000 0.4108 1.0811 0.3799\n",
      "0.6000 0.6367 1.1855 0.5370\n",
      "0.8000 0.8881 1.3374 0.6640\n",
      "1.0000 1.1752 1.5431 0.7616\n"
     ]
    }
   ],
   "source": [
    "# math_hyperbolic.py\n",
    "import math\n",
    "\n",
    "print('{:^6} {:^6} {:^6} {:^6}'.format(\n",
    "    'X', 'sinh', 'cosh', 'tanh',\n",
    "))\n",
    "print('{:-^6} {:-^6} {:-^6} {:-^6}'.format('', '', '', ''))\n",
    "\n",
    "fmt = '{:6.4f} {:6.4f} {:6.4f} {:6.4f}'\n",
    "\n",
    "for i in range(0, 11, 2):\n",
    "    x = i / 10.0\n",
    "    print(fmt.format(\n",
    "        x,\n",
    "        math.sinh(x),\n",
    "        math.cosh(x),\n",
    "        math.tanh(x),\n",
    "    ))"
   ]
  },
  {
   "cell_type": "markdown",
   "metadata": {},
   "source": [
    "## Special Functions\n",
    "\n",
    "The Gauss Error function is used in statistics.\n",
    "\n",
    "For the error function, erf(-x) == -erf(x).\n",
    "\n",
    "The complimentary error function is 1 - erf(x).\n",
    "\n",
    "The implementation of erfc() avoids precision errors for small values of x when subtracting from 1."
   ]
  },
  {
   "cell_type": "code",
   "execution_count": 36,
   "metadata": {
    "collapsed": false
   },
   "outputs": [
    {
     "name": "stdout",
     "output_type": "stream",
     "text": [
      "  x   erf(x)  erfc(x)\n",
      "----- ------- -------\n",
      "-3.00 -1.0000  2.0000\n",
      "-2.00 -0.9953  1.9953\n",
      "-1.00 -0.8427  1.8427\n",
      "-0.50 -0.5205  1.5205\n",
      "-0.25 -0.2763  1.2763\n",
      " 0.00  0.0000  1.0000\n",
      " 0.25  0.2763  0.7237\n",
      " 0.50  0.5205  0.4795\n",
      " 1.00  0.8427  0.1573\n",
      " 2.00  0.9953  0.0047\n",
      " 3.00  1.0000  0.0000\n"
     ]
    }
   ],
   "source": [
    "# math_erf.py\n",
    "import math\n",
    "\n",
    "print('{:^5} {:7} {:7}'.format('x', 'erf(x)','erfc(x)'))\n",
    "print('{:-^5} {:-^7} {:-^7}'.format('', '',''))\n",
    "\n",
    "for x in [-3, -2, -1, -0.5, -0.25, 0, 0.25, 0.5, 1, 2, 3]:\n",
    "    print('{:5.2f} {:7.4f} {:7.4f}'.format(x, math.erf(x), math.erfc(x)))"
   ]
  }
 ],
 "metadata": {
  "kernelspec": {
   "display_name": "Python 3",
   "language": "python",
   "name": "python3"
  },
  "language_info": {
   "codemirror_mode": {
    "name": "ipython",
    "version": 3
   },
   "file_extension": ".py",
   "mimetype": "text/x-python",
   "name": "python",
   "nbconvert_exporter": "python",
   "pygments_lexer": "ipython3",
   "version": "3.5.2"
  }
 },
 "nbformat": 4,
 "nbformat_minor": 2
}
