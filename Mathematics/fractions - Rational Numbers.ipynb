{
 "cells": [
  {
   "cell_type": "markdown",
   "metadata": {},
   "source": [
    "# fractions - Rational Numbers\n",
    "\n",
    "Purpose:\tImplements a class for working with rational numbers.\n",
    "\n",
    "The Fraction class implements numerical operations for rational numbers based on the API defined by Rational in the numbers module."
   ]
  },
  {
   "cell_type": "markdown",
   "metadata": {},
   "source": [
    "## Creating Fraction Instances\n",
    "\n",
    "As with the decimal module, new values can be created in several ways. One easy way is to create them from separate numerator and denominator values:\n",
    "\n",
    "The lowest common denominator is maintained as new values are computed."
   ]
  },
  {
   "cell_type": "code",
   "execution_count": 1,
   "metadata": {
    "collapsed": false
   },
   "outputs": [
    {
     "name": "stdout",
     "output_type": "stream",
     "text": [
      "1/2 = 1/2\n",
      "2/4 = 1/2\n",
      "3/6 = 1/2\n"
     ]
    }
   ],
   "source": [
    "# fractions_create_integers.py\n",
    "import fractions\n",
    "\n",
    "for n, d in [(1, 2), (2, 4), (3, 6)]:\n",
    "    f = fractions.Fraction(n, d)\n",
    "    print('{}/{} = {}'.format(n, d, f))"
   ]
  },
  {
   "cell_type": "markdown",
   "metadata": {},
   "source": [
    "Another way to create a Fraction is using a string representation of numerator / denominator\n",
    "    \n",
    "The string is parsed to find the numerator and denominator values."
   ]
  },
  {
   "cell_type": "code",
   "execution_count": 2,
   "metadata": {
    "collapsed": false
   },
   "outputs": [
    {
     "name": "stdout",
     "output_type": "stream",
     "text": [
      "1/2 = 1/2\n",
      "2/4 = 1/2\n",
      "3/6 = 1/2\n"
     ]
    }
   ],
   "source": [
    "# fractions_create_strings.py\n",
    "import fractions\n",
    "\n",
    "for s in ['1/2', '2/4', '3/6']:\n",
    "    f = fractions.Fraction(s)\n",
    "    print('{} = {}'.format(s, f))"
   ]
  },
  {
   "cell_type": "markdown",
   "metadata": {},
   "source": [
    "Strings can also use the more usual decimal or floating point notation of series of digits separated by a period. Any string that can be parsed by float() and that does not represent “not a number” (NaN) or an infinite value is supported.\n",
    "\n",
    "The numerator and denominator values represented by the floating point value is computed automatically."
   ]
  },
  {
   "cell_type": "code",
   "execution_count": 3,
   "metadata": {
    "collapsed": false
   },
   "outputs": [
    {
     "name": "stdout",
     "output_type": "stream",
     "text": [
      " 0.5 = 1/2\n",
      " 1.5 = 3/2\n",
      " 2.0 = 2\n",
      "5e-1 = 1/2\n"
     ]
    }
   ],
   "source": [
    "# fractions_create_strings_floats.py\n",
    "import fractions\n",
    "\n",
    "for s in ['0.5', '1.5', '2.0', '5e-1']:\n",
    "    f = fractions.Fraction(s)\n",
    "    print('{0:>4} = {1}'.format(s, f))"
   ]
  },
  {
   "cell_type": "markdown",
   "metadata": {},
   "source": [
    "It is also possible to create Fraction instances directly from other representations of rational values, such as float or Decimal.\n",
    "\n",
    "Floating point values that cannot be expressed exactly may yield unexpected results."
   ]
  },
  {
   "cell_type": "code",
   "execution_count": 4,
   "metadata": {
    "collapsed": false
   },
   "outputs": [
    {
     "name": "stdout",
     "output_type": "stream",
     "text": [
      "0.1 = 3602879701896397/36028797018963968\n",
      "0.5 = 1/2\n",
      "1.5 = 3/2\n",
      "2.0 = 2\n"
     ]
    }
   ],
   "source": [
    "# fractions_from_float.py\n",
    "import fractions\n",
    "\n",
    "for v in [0.1, 0.5, 1.5, 2.0]:\n",
    "    print('{} = {}'.format(v, fractions.Fraction(v)))"
   ]
  },
  {
   "cell_type": "markdown",
   "metadata": {},
   "source": [
    "Using Decimal representations of the values gives the expected results.\n",
    "\n",
    "The internal implementation of Decimal does not suffer from the precision errors of the standard floating point representation."
   ]
  },
  {
   "cell_type": "code",
   "execution_count": 5,
   "metadata": {
    "collapsed": false
   },
   "outputs": [
    {
     "name": "stdout",
     "output_type": "stream",
     "text": [
      "0.1 = 1/10\n",
      "0.5 = 1/2\n",
      "1.5 = 3/2\n",
      "2.0 = 2\n"
     ]
    }
   ],
   "source": [
    "# fractions_from_decimal.py\n",
    "import decimal\n",
    "import fractions\n",
    "\n",
    "values = [\n",
    "    decimal.Decimal('0.1'),\n",
    "    decimal.Decimal('0.5'),\n",
    "    decimal.Decimal('1.5'),\n",
    "    decimal.Decimal('2.0'),\n",
    "]\n",
    "\n",
    "for v in values:\n",
    "    print('{} = {}'.format(v, fractions.Fraction(v)))"
   ]
  },
  {
   "cell_type": "markdown",
   "metadata": {},
   "source": [
    "## Arithmetic\n",
    "Once the fractions are instantiated, they can be used in mathematical expressions.\n",
    "\n",
    "All of the standard operators are supported."
   ]
  },
  {
   "cell_type": "code",
   "execution_count": 6,
   "metadata": {
    "collapsed": false
   },
   "outputs": [
    {
     "name": "stdout",
     "output_type": "stream",
     "text": [
      "1/2 + 3/4 = 5/4\n",
      "1/2 - 3/4 = -1/4\n",
      "1/2 * 3/4 = 3/8\n",
      "1/2 / 3/4 = 2/3\n"
     ]
    }
   ],
   "source": [
    "# fractions_arithmetic.py\n",
    "import fractions\n",
    "\n",
    "f1 = fractions.Fraction(1, 2)\n",
    "f2 = fractions.Fraction(3, 4)\n",
    "\n",
    "print('{} + {} = {}'.format(f1, f2, f1 + f2))\n",
    "print('{} - {} = {}'.format(f1, f2, f1 - f2))\n",
    "print('{} * {} = {}'.format(f1, f2, f1 * f2))\n",
    "print('{} / {} = {}'.format(f1, f2, f1 / f2))"
   ]
  },
  {
   "cell_type": "markdown",
   "metadata": {},
   "source": [
    "## Approximating Values\n",
    "\n",
    "A useful feature of Fraction is the ability to convert a floating point number to an approximate rational value.\n",
    "\n",
    "The value of the fraction can be controlled by limiting the size of the denominator."
   ]
  },
  {
   "cell_type": "code",
   "execution_count": 7,
   "metadata": {
    "collapsed": false
   },
   "outputs": [
    {
     "name": "stdout",
     "output_type": "stream",
     "text": [
      "PI       = 3.141592653589793\n",
      "No limit = 3141592653589793/1000000000000000\n",
      "       1 = 3\n",
      "       6 = 19/6\n",
      "      11 = 22/7\n",
      "      60 = 179/57\n",
      "      70 = 201/64\n",
      "      90 = 267/85\n",
      "     100 = 311/99\n"
     ]
    }
   ],
   "source": [
    "# fractions_limit_denominator.py\n",
    "import fractions\n",
    "import math\n",
    "\n",
    "print('PI       =', math.pi)\n",
    "\n",
    "f_pi = fractions.Fraction(str(math.pi))\n",
    "print('No limit =', f_pi)\n",
    "\n",
    "for i in [1, 6, 11, 60, 70, 90, 100]:\n",
    "    limited = f_pi.limit_denominator(i)\n",
    "    print('{0:8} = {1}'.format(i, limited))"
   ]
  }
 ],
 "metadata": {
  "kernelspec": {
   "display_name": "Python 3",
   "language": "python",
   "name": "python3"
  },
  "language_info": {
   "codemirror_mode": {
    "name": "ipython",
    "version": 3
   },
   "file_extension": ".py",
   "mimetype": "text/x-python",
   "name": "python",
   "nbconvert_exporter": "python",
   "pygments_lexer": "ipython3",
   "version": "3.5.2"
  }
 },
 "nbformat": 4,
 "nbformat_minor": 2
}
