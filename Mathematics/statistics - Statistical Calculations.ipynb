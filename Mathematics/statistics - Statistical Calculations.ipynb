{
 "cells": [
  {
   "cell_type": "markdown",
   "metadata": {},
   "source": [
    "# statistics - Statistical Calculations\n",
    "\n",
    "Purpose:\tImplementations of common statistical calculations.\n",
    "    \n",
    "The statistics module implements many common statistical formulas for efficient calculations using Python’s various numerical types (int, float, Decimal, and Fraction)."
   ]
  },
  {
   "cell_type": "markdown",
   "metadata": {},
   "source": [
    "## Averages\n",
    "\n",
    "There are three forms of averages supported, the mean, the median, and the mode. Calculate the arithmetic mean with mean().\n",
    "\n",
    "The return value for integers and floats is always a float. For Decimal and Fraction input data, the result is of the same type as the inputs."
   ]
  },
  {
   "cell_type": "code",
   "execution_count": 1,
   "metadata": {
    "collapsed": false
   },
   "outputs": [
    {
     "name": "stdout",
     "output_type": "stream",
     "text": [
      "5.33\n"
     ]
    }
   ],
   "source": [
    "# statistics_mean.py\n",
    "from statistics import *\n",
    "\n",
    "data = [1, 2, 2, 5, 10, 12]\n",
    "\n",
    "print('{:0.2f}'.format(mean(data)))"
   ]
  },
  {
   "cell_type": "markdown",
   "metadata": {},
   "source": [
    "Calculate the most common data point in a data set using mode().\n",
    "\n",
    "The return value is always a member of the input data set. Because mode() treats the input as a set of discrete values, and counts the recurrences, the inputs do not actually need to be numerical values."
   ]
  },
  {
   "cell_type": "code",
   "execution_count": 2,
   "metadata": {
    "collapsed": false
   },
   "outputs": [
    {
     "name": "stdout",
     "output_type": "stream",
     "text": [
      "2\n"
     ]
    }
   ],
   "source": [
    "# statistics_mode.py\n",
    "from statistics import *\n",
    "\n",
    "data = [1, 2, 2, 5, 10, 12]\n",
    "\n",
    "print(mode(data))"
   ]
  },
  {
   "cell_type": "markdown",
   "metadata": {},
   "source": [
    "There are four variations for calculating the median, or middle, value. The first three are straightforward versions of the usual algorithm, with different solutions for handling data sets with an even number of elements.\n",
    "\n",
    "median() finds the center value, and if the data set has an even number of values it averages the two middle items. median_low() always returns a value from the input data set, using the lower of the two middle items for data sets with an even number of items. median_high() similarly returns the higher of the two middle items."
   ]
  },
  {
   "cell_type": "code",
   "execution_count": 3,
   "metadata": {
    "collapsed": false
   },
   "outputs": [
    {
     "name": "stdout",
     "output_type": "stream",
     "text": [
      "median     : 3.50\n",
      "low        : 2.00\n",
      "high       : 5.00\n"
     ]
    }
   ],
   "source": [
    "# statistics_median.py\n",
    "from statistics import *\n",
    "\n",
    "data = [1, 2, 2, 5, 10, 12]\n",
    "\n",
    "print('median     : {:0.2f}'.format(median(data)))\n",
    "print('low        : {:0.2f}'.format(median_low(data)))\n",
    "print('high       : {:0.2f}'.format(median_high(data)))"
   ]
  },
  {
   "cell_type": "markdown",
   "metadata": {},
   "source": [
    "The fourth version of the median calculation, median_grouped(), treats the inputs as continuous data and calculates the 50% percentile median by first finding the median range using the provided interval width and then interpolating within that range using the position of the actual value(s) from the data set that fall in that range.\n",
    "\n",
    "As the interval width increases, the median computed for the same data set changes."
   ]
  },
  {
   "cell_type": "code",
   "execution_count": 4,
   "metadata": {
    "collapsed": false
   },
   "outputs": [
    {
     "name": "stdout",
     "output_type": "stream",
     "text": [
      "1: 29.50\n",
      "2: 29.00\n",
      "3: 28.50\n"
     ]
    }
   ],
   "source": [
    "# statistics_median_grouped.py\n",
    "from statistics import *\n",
    "\n",
    "data = [10, 20, 30, 40]\n",
    "\n",
    "print('1: {:0.2f}'.format(median_grouped(data, interval=1)))\n",
    "print('2: {:0.2f}'.format(median_grouped(data, interval=2)))\n",
    "print('3: {:0.2f}'.format(median_grouped(data, interval=3)))"
   ]
  },
  {
   "cell_type": "markdown",
   "metadata": {},
   "source": [
    "### Variance\n",
    "\n",
    "Statistics uses two values to express how disperse a set of values is relative to the mean. The variance is the average of the square of the difference of each value and the mean, and the standard deviation is the square root of the variance (which is useful because taking the square root allows the standard deviation to be expressed in the same units as the input data). Large values for variance or standard deviation indicate that a set of data is disperse, while small values indicate that the data is clustered closer to the mean.\n",
    "\n",
    "Python includes two sets of functions for computing variance and standard deviation, depending on whether the data set represents the entire population or a sample of the population. This example uses wc to count the number of lines in the input files for all of the example programs and then uses pvariance() and pstdev() to compute the variance and standard deviation for the entire population before using variance() and stddev() to compute the sample variance and standard deviation for a subset created by using the length of every second file found."
   ]
  },
  {
   "cell_type": "code",
   "execution_count": 5,
   "metadata": {
    "collapsed": false,
    "scrolled": false
   },
   "outputs": [
    {
     "name": "stdout",
     "output_type": "stream",
     "text": [
      "     697 ./decimal - Fixed and Floating Point Math.ipynb\r\n",
      "     312 ./fractions - Rational Numbers.ipynb\r\n",
      "     238 ./statistics - Statistical Calculations.ipynb\r\n",
      "    1247 total\r\n"
     ]
    }
   ],
   "source": [
    "!wc -l ./*.ipynb"
   ]
  },
  {
   "cell_type": "code",
   "execution_count": 6,
   "metadata": {
    "collapsed": false,
    "scrolled": true
   },
   "outputs": [
    {
     "name": "stdout",
     "output_type": "stream",
     "text": [
      "[(697, './decimal'), (312, './fractions'), (238, './statistics')]\n",
      "Basic statistics:\n",
      "  count     :   3\n",
      "  min       : 238.00\n",
      "  max       : 697.00\n",
      "  mean      : 415.67\n",
      "\n",
      "Population variance:\n",
      "  pstdev    : 201.21\n",
      "  pvariance : 40486.89\n",
      "\n",
      "Estimated variance for sample:\n",
      "  count     :   2\n",
      "  stdev     : 324.56\n",
      "  variance  : 105340.50\n"
     ]
    }
   ],
   "source": [
    "# statistics_variance.py\n",
    "from statistics import *\n",
    "import subprocess\n",
    "\n",
    "\n",
    "def get_line_lengths():\n",
    "#     cmd = 'wc -l ../[a-z]*/*.py'\n",
    "    cmd = 'wc -l ./*.ipynb'\n",
    "    out = subprocess.check_output(\n",
    "        cmd, shell=True).decode('utf-8')\n",
    "    for line in out.splitlines():\n",
    "        parts = line.split()\n",
    "        if parts[1].strip().lower() == 'total':\n",
    "            break\n",
    "        nlines = int(parts[0].strip())\n",
    "        if not nlines:\n",
    "            continue  # skip empty files\n",
    "        yield (nlines, parts[1].strip())\n",
    "\n",
    "\n",
    "data = list(get_line_lengths())\n",
    "print(data)\n",
    "\n",
    "lengths = [d[0] for d in data]\n",
    "sample = lengths[::2]\n",
    "\n",
    "print('Basic statistics:')\n",
    "print('  count     : {:3d}'.format(len(lengths)))\n",
    "print('  min       : {:6.2f}'.format(min(lengths)))\n",
    "print('  max       : {:6.2f}'.format(max(lengths)))\n",
    "print('  mean      : {:6.2f}'.format(mean(lengths)))\n",
    "\n",
    "print('\\nPopulation variance:')\n",
    "print('  pstdev    : {:6.2f}'.format(pstdev(lengths)))\n",
    "print('  pvariance : {:6.2f}'.format(pvariance(lengths)))\n",
    "\n",
    "print('\\nEstimated variance for sample:')\n",
    "print('  count     : {:3d}'.format(len(sample)))\n",
    "print('  stdev     : {:6.2f}'.format(stdev(sample)))\n",
    "print('  variance  : {:6.2f}'.format(variance(sample)))"
   ]
  }
 ],
 "metadata": {
  "kernelspec": {
   "display_name": "Python 3",
   "language": "python",
   "name": "python3"
  },
  "language_info": {
   "codemirror_mode": {
    "name": "ipython",
    "version": 3
   },
   "file_extension": ".py",
   "mimetype": "text/x-python",
   "name": "python",
   "nbconvert_exporter": "python",
   "pygments_lexer": "ipython3",
   "version": "3.5.2"
  }
 },
 "nbformat": 4,
 "nbformat_minor": 2
}
