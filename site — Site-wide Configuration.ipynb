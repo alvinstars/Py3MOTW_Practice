{
 "cells": [
  {
   "cell_type": "markdown",
   "metadata": {},
   "source": [
    "# site — Site-wide Configuration"
   ]
  },
  {
   "cell_type": "markdown",
   "metadata": {},
   "source": [
    "## Import Path\n",
    "\n",
    "site is automatically imported each time the interpreter starts up. On import, it extends sys.path with site-specific names constructed by combining the prefix values sys.prefix and sys.exec_prefix with several suffixes. The prefix values used are saved in the module-level variable PREFIXES for reference later. \n",
    "\n",
    "Under Windows, the suffixes are an empty string and lib/site-packages. \n",
    "For Unix-like platforms, the values are lib/python$version/site-packages (where $version is replaced by the major and minor version number of the interpreter, such as 3.5) and lib/site-python."
   ]
  },
  {
   "cell_type": "raw",
   "metadata": {},
   "source": [
    "Each of the paths resulting from the combinations is tested, and those that exist are added to sys.path. This output shows the framework version of Python installed on a Mac OS X system."
   ]
  },
  {
   "cell_type": "code",
   "execution_count": 7,
   "metadata": {
    "collapsed": false,
    "scrolled": true
   },
   "outputs": [
    {
     "name": "stdout",
     "output_type": "stream",
     "text": [
      "Path prefixes:\n",
      "   /Users/binyang/anaconda/envs/py3.5\n",
      "   /Users/binyang/anaconda/envs/py3.5\n",
      "\n",
      "prefix: /Users/binyang/anaconda/envs/py3.5\n",
      "\n",
      "suffix: lib/python3.5/site-packages\n",
      "Full path: /Users/binyang/anaconda/envs/py3.5/lib/python3.5/site-packages\n",
      "   exists : True\n",
      "   in path: True\n",
      "\n",
      "suffix: lib/site-python\n",
      "Full path: /Users/binyang/anaconda/envs/py3.5/lib/site-python\n",
      "   exists : False\n",
      "   in path: False\n"
     ]
    }
   ],
   "source": [
    "# site_import_path.py\n",
    "import sys\n",
    "import os\n",
    "import site\n",
    "\n",
    "if 'Windows' in sys.platform:\n",
    "    SUFFIXES = [\n",
    "        '',\n",
    "        'lib/site-packages',\n",
    "    ]\n",
    "else:\n",
    "    SUFFIXES = [\n",
    "        'lib/python{}/site-packages'.format(sys.version[:3]),\n",
    "        'lib/site-python',\n",
    "    ]\n",
    "\n",
    "print('Path prefixes:')\n",
    "for p in site.PREFIXES:\n",
    "    print('  ', p)\n",
    "\n",
    "for prefix in sorted(set(site.PREFIXES)):\n",
    "    print()\n",
    "    print('prefix:', prefix)\n",
    "    for suffix in SUFFIXES:\n",
    "        print()\n",
    "        print('suffix:', suffix)\n",
    "        path = os.path.join(prefix, suffix).rstrip(os.sep)\n",
    "        print('Full path:', path)\n",
    "        print('   exists :', os.path.exists(path))\n",
    "        print('   in path:', path in sys.path)"
   ]
  },
  {
   "cell_type": "markdown",
   "metadata": {},
   "source": [
    "## User Directories\n",
    "\n",
    "In addition to the global site-packages paths, site is responsible for adding the user-specific locations to the import path. The user-specific paths are all based on the USER_BASE directory, which usually located in a part of the file system owned (and writable) by the current user. Inside the USER_BASE directory is a site-packages directory, with the path accessible as USER_SITE."
   ]
  },
  {
   "cell_type": "code",
   "execution_count": 8,
   "metadata": {
    "collapsed": false
   },
   "outputs": [
    {
     "name": "stdout",
     "output_type": "stream",
     "text": [
      "Base: /Users/binyang/.local\n",
      "Site: /Users/binyang/.local/lib/python3.5/site-packages\n"
     ]
    }
   ],
   "source": [
    "# site_user_base.py\n",
    "import site\n",
    "\n",
    "print('Base:', site.USER_BASE)\n",
    "print('Site:', site.USER_SITE)"
   ]
  },
  {
   "cell_type": "raw",
   "metadata": {},
   "source": [
    "The USER_SITE path name is created using the same platform-specific suffix values described earlier.\n",
    "\n",
    "The user base directory can be set through the PYTHONUSERBASE environment variable, and has platform-specific defaults (~/Python$version/site-packages for Windows and ~/.local for non-Windows)."
   ]
  },
  {
   "cell_type": "raw",
   "metadata": {},
   "source": [
    "The user directory is disabled under some circumstances that would pose security issues (for example, if the process is running with a different effective user or group id than the actual user that started it). An application can check the setting by examining ENABLE_USER_SITE."
   ]
  },
  {
   "cell_type": "code",
   "execution_count": 11,
   "metadata": {
    "collapsed": false
   },
   "outputs": [
    {
     "name": "stdout",
     "output_type": "stream",
     "text": [
      "Flag   : True\n",
      "Meaning: Enabled\n"
     ]
    }
   ],
   "source": [
    "# site_enable_user_site.py\n",
    "import site\n",
    "\n",
    "status = {\n",
    "    None: 'Disabled for security',\n",
    "    True: 'Enabled',\n",
    "    False: 'Disabled by command-line option',\n",
    "}\n",
    "\n",
    "print('Flag   :', site.ENABLE_USER_SITE)\n",
    "print('Meaning:', status[site.ENABLE_USER_SITE])"
   ]
  },
  {
   "cell_type": "raw",
   "metadata": {},
   "source": [
    "The user directory can also be explicitly disabled on the command line with -s."
   ]
  },
  {
   "cell_type": "markdown",
   "metadata": {},
   "source": [
    "## Path Configuration Files\n",
    "\n",
    "As paths are added to the import path, they are also scanned for path configuration files. A path configuration file is a plain text file with the extension .pth. Each line in the file can take one of four forms.\n",
    "\n",
    "* A full or relative path to another location that should be added to the import path.\n",
    "* A Python statement to be executed. All such lines must begin with an import statement.\n",
    "* Blank lines are ignored.\n",
    "* A line starting with # is treated as a comment and ignored.\n",
    "\n",
    "Path configuration files can be used to extend the import path to look in locations that would not have been added automatically. For example, the setuptools package adds a path to easy-install.pth when it installs a package in development mode using python setup.py develop."
   ]
  },
  {
   "cell_type": "raw",
   "metadata": {},
   "source": [
    "The path changes by addsitedir() go beyond simply appending the argument to sys.path. If the directory given to addsitedir() includes any files matching the pattern *.pth, they are loaded as path configuration files. Given a directory structure like the following\n",
    "\n",
    "with_pth\n",
    "├── pymotw.pth\n",
    "└── subdir\n",
    "    └── mymodule.py\n",
    "\n",
    "If with_pth/pymotw.pth contains\n",
    "\n",
    "# Add a single subdirectory to the path.\n",
    "./subdir\n",
    "\n",
    "then with_pth/subdir/mymodule.py can be imported by adding with_pth as a site directory, even though the module is not in that directory because both with_pth and with_pth/subdir are added to the import path.\n",
    "\n",
    "If a site directory contains multiple .pth files, they are processed in alphabetical order."
   ]
  },
  {
   "cell_type": "markdown",
   "metadata": {},
   "source": [
    "## Customizing Site Configuration\n",
    "\n",
    "The site module is also responsible for loading site-wide customization defined by the local site owner in a sitecustomize module. Uses for sitecustomize include extending the import path and enabling coverage, profiling, or other development tools."
   ]
  },
  {
   "cell_type": "raw",
   "metadata": {},
   "source": [
    "For example, this sitecustomize.py script extends the import path with a directory based on the current platform. The platform-specific path in /opt/python is added to the import path, so any packages installed there can be imported. A system like this is useful for sharing packages containing compiled extension modules between hosts on a network via a shared file system. Only the sitecustomize.py script needs to be installed on each host, and the other packages can be accessed from the file server."
   ]
  },
  {
   "cell_type": "code",
   "execution_count": 26,
   "metadata": {
    "collapsed": false
   },
   "outputs": [
    {
     "name": "stdout",
     "output_type": "stream",
     "text": [
      "Loading sitecustomize.py\n",
      "Adding new path /opt/python/3.5/Darwin-16.3.0-x86_64-i386-64bit\n"
     ]
    }
   ],
   "source": [
    "# with_sitecustomize/sitecustomize.py\n",
    "print('Loading sitecustomize.py')\n",
    "\n",
    "import site\n",
    "import platform\n",
    "import os\n",
    "import sys\n",
    "\n",
    "path = os.path.join('/opt',\n",
    "                    'python',\n",
    "                    sys.version[:3],\n",
    "                    platform.platform(),\n",
    "                    )\n",
    "print('Adding new path', path)\n",
    "\n",
    "site.addsitedir(path)"
   ]
  },
  {
   "cell_type": "raw",
   "metadata": {},
   "source": [
    "A simple script can be used to show that sitecustomize.py is imported before Python starts running your own code."
   ]
  },
  {
   "cell_type": "code",
   "execution_count": 29,
   "metadata": {
    "collapsed": false
   },
   "outputs": [
    {
     "name": "stdout",
     "output_type": "stream",
     "text": [
      "Running main program from\n",
      "/Users/binyang/anaconda/envs/py3.5/lib/python3.5/site-packages/ipykernel/__main__.py\n",
      "End of path: /opt/python/3.5/Darwin-16.3.0-x86_64-i386-64bit\n"
     ]
    }
   ],
   "source": [
    "# with_sitecustomize/site_sitecustomize.py\n",
    "import sys\n",
    "\n",
    "print('Running main program from\\n{}'.format(sys.argv[0]))\n",
    "\n",
    "print('End of path:', sys.path[-1])"
   ]
  },
  {
   "cell_type": "markdown",
   "metadata": {},
   "source": [
    "## Customizing User Configuration¶\n",
    "\n",
    "Similar to sitecustomize, the usercustomize module can be used to set up user-specific settings each time the interpreter starts up. usercustomize is loaded after sitecustomize, so site-wide customizations can be overridden.\n",
    "\n",
    "In environments where a user’s home directory is shared on several servers running different operating systems or versions, the standard user directory mechanism may not work for user-specific installations of packages. In these cases, a platform-specific directory tree can be used instead."
   ]
  },
  {
   "cell_type": "code",
   "execution_count": 30,
   "metadata": {
    "collapsed": false
   },
   "outputs": [
    {
     "name": "stdout",
     "output_type": "stream",
     "text": [
      "Loading usercustomize.py\n",
      "Adding new path /Users/binyang/python/3.5/Darwin-16.3.0-x86_64-i386-64bit\n"
     ]
    }
   ],
   "source": [
    "# with_usercustomize/usercustomize.py\n",
    "print('Loading usercustomize.py')\n",
    "\n",
    "import site\n",
    "import platform\n",
    "import os\n",
    "import sys\n",
    "\n",
    "path = os.path.expanduser(os.path.join('~',\n",
    "                                       'python',\n",
    "                                       sys.version[:3],\n",
    "                                       platform.platform(),\n",
    "                                       ))\n",
    "print('Adding new path', path)\n",
    "\n",
    "site.addsitedir(path)\n"
   ]
  },
  {
   "cell_type": "raw",
   "metadata": {},
   "source": [
    "Since usercustomize is meant for user-specific configuration for a user, it should be installed somewhere in the user’s default path, but not on the site-wide path. The default USER_BASE directory is a good location. This example sets PYTHONPATH explicitly to ensure the module is picked up."
   ]
  },
  {
   "cell_type": "raw",
   "metadata": {},
   "source": [
    "When the user site directory feature is disabled, usercustomize is not imported, whether it is located in the user site directory or elsewhere."
   ]
  },
  {
   "cell_type": "code",
   "execution_count": 32,
   "metadata": {
    "collapsed": false
   },
   "outputs": [
    {
     "data": {
      "text/plain": [
       "['',\n",
       " '/Users/binyang/anaconda/envs/py3.5/lib/python35.zip',\n",
       " '/Users/binyang/anaconda/envs/py3.5/lib/python3.5',\n",
       " '/Users/binyang/anaconda/envs/py3.5/lib/python3.5/plat-darwin',\n",
       " '/Users/binyang/anaconda/envs/py3.5/lib/python3.5/lib-dynload',\n",
       " '/Users/binyang/anaconda/envs/py3.5/lib/python3.5/site-packages',\n",
       " '/Users/binyang/anaconda/envs/py3.5/lib/python3.5/site-packages/Sphinx-1.5.1-py3.5.egg',\n",
       " '/Users/binyang/anaconda/envs/py3.5/lib/python3.5/site-packages/setuptools-27.2.0-py3.5.egg',\n",
       " '/Users/binyang/anaconda/envs/py3.5/lib/python3.5/site-packages/IPython/extensions',\n",
       " '/Users/binyang/.ipython',\n",
       " '/opt/python/3.5/Darwin-16.3.0-x86_64-i386-64bit',\n",
       " '/Users/binyang/python/3.5/Darwin-16.3.0-x86_64-i386-64bit']"
      ]
     },
     "execution_count": 32,
     "metadata": {},
     "output_type": "execute_result"
    }
   ],
   "source": [
    "sys.path"
   ]
  },
  {
   "cell_type": "markdown",
   "metadata": {},
   "source": [
    "## Disabling the site Module\n",
    "\n",
    "To maintain backwards-compatibility with versions of Python from before the automatic import was added, the interpreter accepts an -S option.\n",
    "\n",
    "$ python3 -S site_import_path.py"
   ]
  }
 ],
 "metadata": {
  "kernelspec": {
   "display_name": "Python 3",
   "language": "python",
   "name": "python3"
  },
  "language_info": {
   "codemirror_mode": {
    "name": "ipython",
    "version": 3
   },
   "file_extension": ".py",
   "mimetype": "text/x-python",
   "name": "python",
   "nbconvert_exporter": "python",
   "pygments_lexer": "ipython3",
   "version": "3.5.2"
  }
 },
 "nbformat": 4,
 "nbformat_minor": 2
}
