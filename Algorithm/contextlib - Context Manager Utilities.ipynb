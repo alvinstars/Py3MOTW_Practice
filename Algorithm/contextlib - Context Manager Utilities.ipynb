{
 "cells": [
  {
   "cell_type": "markdown",
   "metadata": {},
   "source": [
    "# contextlib - Context Manager Utilities\n",
    "Purpose:\tUtilities for creating and working with context managers.\n",
    "\n",
    "The contextlib module contains utilities for working with context managers and the with statement."
   ]
  },
  {
   "cell_type": "markdown",
   "metadata": {},
   "source": [
    "## Context Manager API\n",
    "\n",
    "A context manager is responsible for a resource within a code block, possibly creating it when the block is entered and then cleaning it up after the block is exited. For example, files support the context manager API to make it easy to ensure they are closed after all reading or writing is done."
   ]
  },
  {
   "cell_type": "code",
   "execution_count": 1,
   "metadata": {
    "collapsed": true
   },
   "outputs": [],
   "source": [
    "# contextlib_file.py\n",
    "with open('/tmp/pymotw.txt', 'wt') as f:\n",
    "    f.write('contents go here')\n",
    "# file is automatically closed"
   ]
  },
  {
   "cell_type": "markdown",
   "metadata": {},
   "source": [
    "A context manager is enabled by the with statement, and the API involves two methods. The \\__enter\\__() method is run when execution flow enters the code block inside the with. It returns an object to be used within the context. When execution flow leaves the with block, the __exit__() method of the context manager is called to clean up any resources being used."
   ]
  },
  {
   "cell_type": "markdown",
   "metadata": {},
   "source": [
    "Combining a context manager and the with statement is a more compact way of writing a try:finally block, since the context manager’s __exit__() method is always called, even if an exception is raised."
   ]
  },
  {
   "cell_type": "code",
   "execution_count": 2,
   "metadata": {
    "collapsed": false
   },
   "outputs": [
    {
     "name": "stdout",
     "output_type": "stream",
     "text": [
      "__init__()\n",
      "__enter__()\n",
      "Doing work in the context\n",
      "__exit__()\n"
     ]
    }
   ],
   "source": [
    "# contextlib_api.py\n",
    "class Context:\n",
    "\n",
    "    def __init__(self):\n",
    "        print('__init__()')\n",
    "\n",
    "    def __enter__(self):\n",
    "        print('__enter__()')\n",
    "        return self\n",
    "\n",
    "    def __exit__(self, exc_type, exc_val, exc_tb):\n",
    "        print('__exit__()')\n",
    "\n",
    "with Context():\n",
    "    print('Doing work in the context')"
   ]
  },
  {
   "cell_type": "markdown",
   "metadata": {},
   "source": [
    "The \\__enter\\__() method can return any object to be associated with a name specified in the as clause of the with statement. In this example, the Context returns an object that uses the open context.\n",
    "\n",
    "The value associated with the variable c is the object returned by \\__enter\\__(), which is not necessarily the Context instance created in the with statement."
   ]
  },
  {
   "cell_type": "code",
   "execution_count": 3,
   "metadata": {
    "collapsed": false
   },
   "outputs": [
    {
     "name": "stdout",
     "output_type": "stream",
     "text": [
      "Context.__init__()\n",
      "Context.__enter__()\n",
      "WithinContext.__init__(<__main__.Context object at 0x104612f28>)\n",
      "WithinContext.do_something()\n",
      "Context.__exit__()\n"
     ]
    }
   ],
   "source": [
    "# contextlib_api_other_object.py\n",
    "class WithinContext:\n",
    "\n",
    "    def __init__(self, context):\n",
    "        print('WithinContext.__init__({})'.format(context))\n",
    "\n",
    "    def do_something(self):\n",
    "        print('WithinContext.do_something()')\n",
    "\n",
    "    def __del__(self):\n",
    "        print('WithinContext.__del__')\n",
    "\n",
    "\n",
    "class Context:\n",
    "\n",
    "    def __init__(self):\n",
    "        print('Context.__init__()')\n",
    "\n",
    "    def __enter__(self):\n",
    "        print('Context.__enter__()')\n",
    "        return WithinContext(self)\n",
    "\n",
    "    def __exit__(self, exc_type, exc_val, exc_tb):\n",
    "        print('Context.__exit__()')\n",
    "\n",
    "with Context() as c:\n",
    "    c.do_something()"
   ]
  },
  {
   "cell_type": "markdown",
   "metadata": {},
   "source": [
    "The \\__exit\\__() method receives arguments containing details of any exception raised in the with block.\n",
    "\n",
    "If the context manager can handle the exception, \\__exit\\__() should return a true value to indicate that the exception does not need to be propagated. Returning false causes the exception to be re-raised after \\__exit\\__() returns."
   ]
  },
  {
   "cell_type": "code",
   "execution_count": 4,
   "metadata": {
    "collapsed": false
   },
   "outputs": [
    {
     "name": "stdout",
     "output_type": "stream",
     "text": [
      "__init__(True)\n",
      "__enter__()\n",
      "__exit__()\n",
      "  exc_type = <class 'RuntimeError'>\n",
      "  exc_val  = error message handled\n",
      "  exc_tb   = <traceback object at 0x104607b88>\n",
      "\n",
      "__init__(False)\n",
      "__enter__()\n",
      "__exit__()\n",
      "  exc_type = <class 'RuntimeError'>\n",
      "  exc_val  = error message propagated\n",
      "  exc_tb   = <traceback object at 0x104607c08>\n"
     ]
    },
    {
     "ename": "RuntimeError",
     "evalue": "error message propagated",
     "output_type": "error",
     "traceback": [
      "\u001b[0;31m---------------------------------------------------------------------------\u001b[0m",
      "\u001b[0;31mRuntimeError\u001b[0m                              Traceback (most recent call last)",
      "\u001b[0;32m<ipython-input-4-8267ae7c38be>\u001b[0m in \u001b[0;36m<module>\u001b[0;34m()\u001b[0m\n\u001b[1;32m     23\u001b[0m \u001b[0;34m\u001b[0m\u001b[0m\n\u001b[1;32m     24\u001b[0m \u001b[0;32mwith\u001b[0m \u001b[0mContext\u001b[0m\u001b[0;34m(\u001b[0m\u001b[0;32mFalse\u001b[0m\u001b[0;34m)\u001b[0m\u001b[0;34m:\u001b[0m\u001b[0;34m\u001b[0m\u001b[0m\n\u001b[0;32m---> 25\u001b[0;31m     \u001b[0;32mraise\u001b[0m \u001b[0mRuntimeError\u001b[0m\u001b[0;34m(\u001b[0m\u001b[0;34m'error message propagated'\u001b[0m\u001b[0;34m)\u001b[0m\u001b[0;34m\u001b[0m\u001b[0m\n\u001b[0m",
      "\u001b[0;31mRuntimeError\u001b[0m: error message propagated"
     ]
    }
   ],
   "source": [
    "# contextlib_api_error.py\n",
    "class Context:\n",
    "\n",
    "    def __init__(self, handle_error):\n",
    "        print('__init__({})'.format(handle_error))\n",
    "        self.handle_error = handle_error\n",
    "\n",
    "    def __enter__(self):\n",
    "        print('__enter__()')\n",
    "        return self\n",
    "\n",
    "    def __exit__(self, exc_type, exc_val, exc_tb):\n",
    "        print('__exit__()')\n",
    "        print('  exc_type =', exc_type)\n",
    "        print('  exc_val  =', exc_val)\n",
    "        print('  exc_tb   =', exc_tb)\n",
    "        return self.handle_error\n",
    "\n",
    "with Context(True):\n",
    "    raise RuntimeError('error message handled')\n",
    "\n",
    "print()\n",
    "\n",
    "with Context(False):\n",
    "    raise RuntimeError('error message propagated')"
   ]
  },
  {
   "cell_type": "markdown",
   "metadata": {},
   "source": [
    "## Context Managers as Function Decorators\n",
    "\n",
    "The class ContextDecorator adds support to regular context manager classes to let them be used as function decorators as well as context managers.\n",
    "\n",
    "One difference with using the context manager as a decorator is that the value returned by \\__enter\\__() is not available inside the function being decorated, unlike when using with and as. Arguments passed to the decorated function are available in the usual way."
   ]
  },
  {
   "cell_type": "code",
   "execution_count": 5,
   "metadata": {
    "collapsed": false
   },
   "outputs": [
    {
     "name": "stdout",
     "output_type": "stream",
     "text": [
      "__init__(as decorator)\n",
      "\n",
      "__init__(as context manager)\n",
      "__enter__(as context manager)\n",
      "Doing work in the context\n",
      "__exit__(as context manager)\n",
      "\n",
      "__enter__(as decorator)\n",
      "Doing work in the wrapped function\n",
      "__exit__(as decorator)\n"
     ]
    }
   ],
   "source": [
    "# contextlib_decorator.py\n",
    "import contextlib\n",
    "\n",
    "\n",
    "class Context(contextlib.ContextDecorator):\n",
    "\n",
    "    def __init__(self, how_used):\n",
    "        self.how_used = how_used\n",
    "        print('__init__({})'.format(how_used))\n",
    "\n",
    "    def __enter__(self):\n",
    "        print('__enter__({})'.format(self.how_used))\n",
    "        return self\n",
    "\n",
    "    def __exit__(self, exc_type, exc_val, exc_tb):\n",
    "        print('__exit__({})'.format(self.how_used))\n",
    "\n",
    "\n",
    "@Context('as decorator')\n",
    "def func(message):\n",
    "    print(message)\n",
    "\n",
    "print()\n",
    "with Context('as context manager'):\n",
    "    print('Doing work in the context')\n",
    "\n",
    "print()\n",
    "func('Doing work in the wrapped function')"
   ]
  },
  {
   "cell_type": "markdown",
   "metadata": {},
   "source": [
    "## From Generator to Context Manager\n",
    "\n",
    "Creating context managers the traditional way, by writing a class with \\__enter\\__() and \\__exit\\__() methods, is not difficult. But sometimes writing everything out fully is extra overhead for a trivial bit of context. In those sorts of situations, use the contextmanager() decorator to convert a generator function into a context manager.\n",
    "\n",
    "The generator should initialize the context, yield exactly one time, then clean up the context. The value yielded, if any, is bound to the variable in the as clause of the with statement. Exceptions from within the with block are re-raised inside the generator, so they can be handled there."
   ]
  },
  {
   "cell_type": "code",
   "execution_count": 6,
   "metadata": {
    "collapsed": false
   },
   "outputs": [
    {
     "name": "stdout",
     "output_type": "stream",
     "text": [
      "Normal:\n",
      "  entering\n",
      "  inside with statement: {}\n",
      "  exiting\n",
      "\n",
      "Handled error:\n",
      "  entering\n",
      "  ERROR: showing example of handling an error\n",
      "  exiting\n",
      "\n",
      "Unhandled error:\n",
      "  entering\n",
      "  exiting\n"
     ]
    },
    {
     "ename": "ValueError",
     "evalue": "this exception is not handled",
     "output_type": "error",
     "traceback": [
      "\u001b[0;31m---------------------------------------------------------------------------\u001b[0m",
      "\u001b[0;31mValueError\u001b[0m                                Traceback (most recent call last)",
      "\u001b[0;32m<ipython-input-6-386be08a6e42>\u001b[0m in \u001b[0;36m<module>\u001b[0;34m()\u001b[0m\n\u001b[1;32m     23\u001b[0m \u001b[0mprint\u001b[0m\u001b[0;34m(\u001b[0m\u001b[0;34m'\\nUnhandled error:'\u001b[0m\u001b[0;34m)\u001b[0m\u001b[0;34m\u001b[0m\u001b[0m\n\u001b[1;32m     24\u001b[0m \u001b[0;32mwith\u001b[0m \u001b[0mmake_context\u001b[0m\u001b[0;34m(\u001b[0m\u001b[0;34m)\u001b[0m \u001b[0;32mas\u001b[0m \u001b[0mvalue\u001b[0m\u001b[0;34m:\u001b[0m\u001b[0;34m\u001b[0m\u001b[0m\n\u001b[0;32m---> 25\u001b[0;31m     \u001b[0;32mraise\u001b[0m \u001b[0mValueError\u001b[0m\u001b[0;34m(\u001b[0m\u001b[0;34m'this exception is not handled'\u001b[0m\u001b[0;34m)\u001b[0m\u001b[0;34m\u001b[0m\u001b[0m\n\u001b[0m",
      "\u001b[0;31mValueError\u001b[0m: this exception is not handled"
     ]
    }
   ],
   "source": [
    "# contextlib_contextmanager.py\n",
    "import contextlib\n",
    "\n",
    "\n",
    "@contextlib.contextmanager\n",
    "def make_context():\n",
    "    print('  entering')\n",
    "    try:\n",
    "        yield {}\n",
    "    except RuntimeError as err:\n",
    "        print('  ERROR:', err)\n",
    "    finally:\n",
    "        print('  exiting')\n",
    "\n",
    "print('Normal:')\n",
    "with make_context() as value:\n",
    "    print('  inside with statement:', value)\n",
    "\n",
    "print('\\nHandled error:')\n",
    "with make_context() as value:\n",
    "    raise RuntimeError('showing example of handling an error')\n",
    "\n",
    "print('\\nUnhandled error:')\n",
    "with make_context() as value:\n",
    "    raise ValueError('this exception is not handled')"
   ]
  },
  {
   "cell_type": "markdown",
   "metadata": {},
   "source": [
    "The context manager returned by contextmanager() is derived from ContextDecorator, so it also works as a function decorator.\n",
    "\n",
    "As in the ContextDecorator example above, when the context manager is used as a decorator the value yielded by the generator is not available inside the function being decorated. Arguments passed to the decorated function are still available, as demonstrated by throw_error() in this example."
   ]
  },
  {
   "cell_type": "code",
   "execution_count": 7,
   "metadata": {
    "collapsed": false
   },
   "outputs": [
    {
     "name": "stdout",
     "output_type": "stream",
     "text": [
      "Normal:\n",
      "  entering\n",
      "  inside with statement\n",
      "  exiting\n",
      "\n",
      "Handled error:\n",
      "  entering\n",
      "  ERROR: showing example of handling an error\n",
      "  exiting\n",
      "\n",
      "Unhandled error:\n",
      "  entering\n",
      "  exiting\n"
     ]
    },
    {
     "ename": "ValueError",
     "evalue": "this exception is not handled",
     "output_type": "error",
     "traceback": [
      "\u001b[0;31m---------------------------------------------------------------------------\u001b[0m",
      "\u001b[0;31mValueError\u001b[0m                                Traceback (most recent call last)",
      "\u001b[0;32m<ipython-input-7-5950ed0e2014>\u001b[0m in \u001b[0;36m<module>\u001b[0;34m()\u001b[0m\n\u001b[1;32m     34\u001b[0m \u001b[0;34m\u001b[0m\u001b[0m\n\u001b[1;32m     35\u001b[0m \u001b[0mprint\u001b[0m\u001b[0;34m(\u001b[0m\u001b[0;34m'\\nUnhandled error:'\u001b[0m\u001b[0;34m)\u001b[0m\u001b[0;34m\u001b[0m\u001b[0m\n\u001b[0;32m---> 36\u001b[0;31m \u001b[0mthrow_error\u001b[0m\u001b[0;34m(\u001b[0m\u001b[0mValueError\u001b[0m\u001b[0;34m(\u001b[0m\u001b[0;34m'this exception is not handled'\u001b[0m\u001b[0;34m)\u001b[0m\u001b[0;34m)\u001b[0m\u001b[0;34m\u001b[0m\u001b[0m\n\u001b[0m",
      "\u001b[0;32m/Users/binyang/anaconda/envs/py3.5/lib/python3.5/contextlib.py\u001b[0m in \u001b[0;36minner\u001b[0;34m(*args, **kwds)\u001b[0m\n\u001b[1;32m     28\u001b[0m         \u001b[0;32mdef\u001b[0m \u001b[0minner\u001b[0m\u001b[0;34m(\u001b[0m\u001b[0;34m*\u001b[0m\u001b[0margs\u001b[0m\u001b[0;34m,\u001b[0m \u001b[0;34m**\u001b[0m\u001b[0mkwds\u001b[0m\u001b[0;34m)\u001b[0m\u001b[0;34m:\u001b[0m\u001b[0;34m\u001b[0m\u001b[0m\n\u001b[1;32m     29\u001b[0m             \u001b[0;32mwith\u001b[0m \u001b[0mself\u001b[0m\u001b[0;34m.\u001b[0m\u001b[0m_recreate_cm\u001b[0m\u001b[0;34m(\u001b[0m\u001b[0;34m)\u001b[0m\u001b[0;34m:\u001b[0m\u001b[0;34m\u001b[0m\u001b[0m\n\u001b[0;32m---> 30\u001b[0;31m                 \u001b[0;32mreturn\u001b[0m \u001b[0mfunc\u001b[0m\u001b[0;34m(\u001b[0m\u001b[0;34m*\u001b[0m\u001b[0margs\u001b[0m\u001b[0;34m,\u001b[0m \u001b[0;34m**\u001b[0m\u001b[0mkwds\u001b[0m\u001b[0;34m)\u001b[0m\u001b[0;34m\u001b[0m\u001b[0m\n\u001b[0m\u001b[1;32m     31\u001b[0m         \u001b[0;32mreturn\u001b[0m \u001b[0minner\u001b[0m\u001b[0;34m\u001b[0m\u001b[0m\n\u001b[1;32m     32\u001b[0m \u001b[0;34m\u001b[0m\u001b[0m\n",
      "\u001b[0;32m<ipython-input-7-5950ed0e2014>\u001b[0m in \u001b[0;36mthrow_error\u001b[0;34m(err)\u001b[0m\n\u001b[1;32m     24\u001b[0m \u001b[0;34m@\u001b[0m\u001b[0mmake_context\u001b[0m\u001b[0;34m(\u001b[0m\u001b[0;34m)\u001b[0m\u001b[0;34m\u001b[0m\u001b[0m\n\u001b[1;32m     25\u001b[0m \u001b[0;32mdef\u001b[0m \u001b[0mthrow_error\u001b[0m\u001b[0;34m(\u001b[0m\u001b[0merr\u001b[0m\u001b[0;34m)\u001b[0m\u001b[0;34m:\u001b[0m\u001b[0;34m\u001b[0m\u001b[0m\n\u001b[0;32m---> 26\u001b[0;31m     \u001b[0;32mraise\u001b[0m \u001b[0merr\u001b[0m\u001b[0;34m\u001b[0m\u001b[0m\n\u001b[0m\u001b[1;32m     27\u001b[0m \u001b[0;34m\u001b[0m\u001b[0m\n\u001b[1;32m     28\u001b[0m \u001b[0;34m\u001b[0m\u001b[0m\n",
      "\u001b[0;31mValueError\u001b[0m: this exception is not handled"
     ]
    }
   ],
   "source": [
    "# contextlib_contextmanager_decorator.py\n",
    "import contextlib\n",
    "\n",
    "\n",
    "@contextlib.contextmanager\n",
    "def make_context():\n",
    "    print('  entering')\n",
    "    try:\n",
    "        # Yield control, but not a value, because any value\n",
    "        # yielded is not available when the context manager\n",
    "        # is used as a decorator.\n",
    "        yield\n",
    "    except RuntimeError as err:\n",
    "        print('  ERROR:', err)\n",
    "    finally:\n",
    "        print('  exiting')\n",
    "\n",
    "\n",
    "@make_context()\n",
    "def normal():\n",
    "    print('  inside with statement')\n",
    "\n",
    "\n",
    "@make_context()\n",
    "def throw_error(err):\n",
    "    raise err\n",
    "\n",
    "\n",
    "print('Normal:')\n",
    "normal()\n",
    "\n",
    "print('\\nHandled error:')\n",
    "throw_error(RuntimeError('showing example of handling an error'))\n",
    "\n",
    "print('\\nUnhandled error:')\n",
    "throw_error(ValueError('this exception is not handled'))"
   ]
  },
  {
   "cell_type": "markdown",
   "metadata": {},
   "source": [
    "## Closing Open Handles\n",
    "\n",
    "The file class supports the context manager API directly, but some other objects that represent open handles do not. The example given in the standard library documentation for contextlib is the object returned from urllib.urlopen(). There are other legacy classes that use a close() method but do not support the context manager API. To ensure that a handle is \n",
    "closed, use closing() to create a context manager for it.\n",
    "\n",
    "The handle is closed whether there is an error in the with block or not."
   ]
  },
  {
   "cell_type": "code",
   "execution_count": 8,
   "metadata": {
    "collapsed": false
   },
   "outputs": [
    {
     "name": "stdout",
     "output_type": "stream",
     "text": [
      "Normal Example:\n",
      "  __init__()\n",
      "  inside with statement: open\n",
      "  close()\n",
      "  outside with statement: closed\n",
      "\n",
      "Error handling example:\n",
      "  __init__()\n",
      "  raising from inside with statement\n",
      "  close()\n",
      "  Had an error: error message\n"
     ]
    }
   ],
   "source": [
    "# contextlib_closing.py\n",
    "import contextlib\n",
    "\n",
    "\n",
    "class Door:\n",
    "\n",
    "    def __init__(self):\n",
    "        print('  __init__()')\n",
    "        self.status = 'open'\n",
    "\n",
    "    def close(self):\n",
    "        print('  close()')\n",
    "        self.status = 'closed'\n",
    "\n",
    "print('Normal Example:')\n",
    "with contextlib.closing(Door()) as door:\n",
    "    print('  inside with statement: {}'.format(door.status))\n",
    "print('  outside with statement: {}'.format(door.status))\n",
    "\n",
    "print('\\nError handling example:')\n",
    "try:\n",
    "    with contextlib.closing(Door()) as door:\n",
    "        print('  raising from inside with statement')\n",
    "        raise RuntimeError('error message')\n",
    "except Exception as err:\n",
    "    print('  Had an error:', err)"
   ]
  },
  {
   "cell_type": "markdown",
   "metadata": {},
   "source": [
    "## Ignoring Exceptions\n",
    "\n",
    "It is frequently useful to ignore exceptions raised by libraries, because the error indicates that the desired state has already been achieved, or it can otherwise be ignored. The most common way to ignore exceptions is with a try:except statement with only a pass statement in the except block."
   ]
  },
  {
   "cell_type": "markdown",
   "metadata": {},
   "source": [
    "In this case, the operation fails and the error is ignored."
   ]
  },
  {
   "cell_type": "code",
   "execution_count": 9,
   "metadata": {
    "collapsed": false
   },
   "outputs": [
    {
     "name": "stdout",
     "output_type": "stream",
     "text": [
      "trying non-idempotent operation\n",
      "done\n"
     ]
    }
   ],
   "source": [
    "# contextlib_ignore_error.py\n",
    "class NonFatalError(Exception):\n",
    "    pass\n",
    "\n",
    "\n",
    "def non_idempotent_operation():\n",
    "    raise NonFatalError(\n",
    "        'The operation failed because of existing state'\n",
    "    )\n",
    "\n",
    "\n",
    "try:\n",
    "    print('trying non-idempotent operation')\n",
    "    non_idempotent_operation()\n",
    "    print('succeeded!')\n",
    "except NonFatalError:\n",
    "    pass\n",
    "\n",
    "print('done')"
   ]
  },
  {
   "cell_type": "markdown",
   "metadata": {},
   "source": [
    "The try:except form can be replaced with contextlib.suppress() to more explicitly suppress a class of exceptions happening anywhere in the with block.\n",
    "    \n",
    "In this updated version, the exception is discarded entirely."
   ]
  },
  {
   "cell_type": "code",
   "execution_count": 10,
   "metadata": {
    "collapsed": false
   },
   "outputs": [
    {
     "name": "stdout",
     "output_type": "stream",
     "text": [
      "trying non-idempotent operation\n",
      "done\n"
     ]
    }
   ],
   "source": [
    "# contextlib_suppress.py\n",
    "import contextlib\n",
    "\n",
    "\n",
    "class NonFatalError(Exception):\n",
    "    pass\n",
    "\n",
    "\n",
    "def non_idempotent_operation():\n",
    "    raise NonFatalError(\n",
    "        'The operation failed because of existing state'\n",
    "    )\n",
    "\n",
    "\n",
    "with contextlib.suppress(NonFatalError):\n",
    "    print('trying non-idempotent operation')\n",
    "    non_idempotent_operation()\n",
    "    print('succeeded!')\n",
    "\n",
    "print('done')"
   ]
  },
  {
   "cell_type": "markdown",
   "metadata": {},
   "source": [
    "## Redirecting Output Streams\n",
    "\n",
    "Poorly designed library code may write directly to sys.stdout or sys.stderr, without providing arguments to configure different output destinations. The redirect_stdout() and redirect_stderr() context managers can be used to capture output from functions like this, for which the source cannot be changed to accept a new output argument.\n",
    "\n",
    "In this example, misbehaving_function() writes to both stdout and stderr, but the two context managers send that output to the same io.StringIO instance where it is saved to be used later."
   ]
  },
  {
   "cell_type": "code",
   "execution_count": 11,
   "metadata": {
    "collapsed": false
   },
   "outputs": [],
   "source": [
    "# contextlib_redirect.py\n",
    "from contextlib import redirect_stdout, redirect_stderr\n",
    "import io\n",
    "import sys\n",
    "\n",
    "def misbehaving_function(a):\n",
    "    sys.stdout.write('(stdout) A: {!r}\\n'.format(a))\n",
    "    sys.stderr.write('(stderr) A: {!r}\\n'.format(a))"
   ]
  },
  {
   "cell_type": "code",
   "execution_count": 12,
   "metadata": {
    "collapsed": false
   },
   "outputs": [
    {
     "name": "stdout",
     "output_type": "stream",
     "text": [
      "(stdout) A: 5\n"
     ]
    },
    {
     "name": "stderr",
     "output_type": "stream",
     "text": [
      "(stderr) A: 5\n"
     ]
    }
   ],
   "source": [
    "misbehaving_function(5)"
   ]
  },
  {
   "cell_type": "code",
   "execution_count": 13,
   "metadata": {
    "collapsed": false
   },
   "outputs": [
    {
     "name": "stdout",
     "output_type": "stream",
     "text": [
      "(stdout) A: 5\n",
      "(stderr) A: 5\n",
      "\n"
     ]
    }
   ],
   "source": [
    "capture = io.StringIO()\n",
    "with redirect_stdout(capture), redirect_stderr(capture):\n",
    "    misbehaving_function(5)\n",
    "\n",
    "print(capture.getvalue())"
   ]
  },
  {
   "cell_type": "markdown",
   "metadata": {},
   "source": [
    "##### Note\n",
    "Both redirect_stdout() and redirect_stderr() modify global state by replacing objects in the sys module, and should be used with care. The functions are not thread-safe, and may interfere with other operations that expect the standard output streams to be attached to terminal devices."
   ]
  },
  {
   "cell_type": "markdown",
   "metadata": {
    "collapsed": true
   },
   "source": [
    "## Dynamic Context Manager Stacks\n",
    "\n",
    "Most context managers operate on one object at a time, such as a single file or database handle. In these cases, the object is known in advance and the code using the context manager can be built around that one object. In other cases, a program may need to create an unknown number of objects in a context, while wanting all of them to be cleaned up when control flow exits the context. ExitStack was created to handle these more dynamic cases.\n",
    "\n",
    "An ExitStack instance maintains a stack data structure of cleanup callbacks. The callbacks are populated explicitly within the context, and any registered callbacks are called in the reverse order when control flow exits the context. The result is like having multple nested with statements, except they are established dynamically."
   ]
  },
  {
   "cell_type": "markdown",
   "metadata": {
    "collapsed": true
   },
   "source": [
    "### Stacking Context Managers\n",
    "\n",
    "There are several ways to populate the ExitStack. This example uses enter_context() to add a new context manager to the stack.\n",
    "\n",
    "enter_context() first calls \\__enter\\__() on the context manager, and then registers its \\__exit\\__() method as a callback to be invoked as the stack is undone.\n"
   ]
  },
  {
   "cell_type": "code",
   "execution_count": 14,
   "metadata": {
    "collapsed": false
   },
   "outputs": [
    {
     "name": "stdout",
     "output_type": "stream",
     "text": [
      "0 entering\n",
      "1 entering\n",
      "2 entering\n",
      "inside context\n",
      "2 exiting\n",
      "1 exiting\n",
      "0 exiting\n"
     ]
    }
   ],
   "source": [
    "# contextlib_exitstack_enter_context.py\n",
    "import contextlib\n",
    "\n",
    "\n",
    "@contextlib.contextmanager\n",
    "def make_context(i):\n",
    "    print('{} entering'.format(i))\n",
    "    yield {}\n",
    "    print('{} exiting'.format(i))\n",
    "\n",
    "\n",
    "def variable_stack(n, msg):\n",
    "    with contextlib.ExitStack() as stack:\n",
    "        for i in range(n):\n",
    "            stack.enter_context(make_context(i))\n",
    "        print(msg)\n",
    "\n",
    "\n",
    "variable_stack(3, 'inside context')"
   ]
  },
  {
   "cell_type": "markdown",
   "metadata": {
    "collapsed": true
   },
   "source": [
    "The context managers given to ExitStack are treated as though they are in a series of nested with statements. Errors that happen anywhere within the context propagate through the normal error handling of the context managers. These context manager classes illustrate the way errors propagate."
   ]
  },
  {
   "cell_type": "code",
   "execution_count": 15,
   "metadata": {
    "collapsed": true
   },
   "outputs": [],
   "source": [
    "# contextlib_context_managers.py\n",
    "import contextlib\n",
    "\n",
    "def variable_stack(stacks):\n",
    "    with contextlib.ExitStack() as stack:\n",
    "        for i in stacks:\n",
    "            stack.enter_context(i)\n",
    "        print(\"** in the middle of stacks **\")\n",
    "    print(\"** outside of stack, any errors were handled **\")\n",
    "\n",
    "class Tracker:\n",
    "    \"Base class for noisy context managers.\"\n",
    "\n",
    "    def __init__(self, i):\n",
    "        self.i = i\n",
    "\n",
    "    def msg(self, s):\n",
    "        print('  {}({}): {}'.format(\n",
    "            self.__class__.__name__, self.i, s))\n",
    "\n",
    "    def __enter__(self):\n",
    "        self.msg('entering')\n",
    "\n",
    "\n",
    "class HandleError(Tracker):\n",
    "    \"If an exception is received, treat it as handled.\"\n",
    "\n",
    "    def __exit__(self, *exc_details):\n",
    "        received_exc = exc_details[1] is not None\n",
    "        if received_exc:\n",
    "            self.msg('handling exception {!r}'.format(\n",
    "                exc_details[1]))\n",
    "        self.msg('exiting {}'.format(received_exc))\n",
    "        # Return Boolean value indicating whether the exception\n",
    "        # was handled.\n",
    "        return received_exc\n",
    "\n",
    "\n",
    "class PassError(Tracker):\n",
    "    \"If an exception is received, propagate it.\"\n",
    "\n",
    "    def __exit__(self, *exc_details):\n",
    "        received_exc = exc_details[1] is not None\n",
    "        if received_exc:\n",
    "            self.msg('passing exception {!r}'.format(\n",
    "                exc_details[1]))\n",
    "        self.msg('exiting')\n",
    "        # Return False, indicating any exception was not handled.\n",
    "        return False\n",
    "\n",
    "\n",
    "class ErrorOnExit(Tracker):\n",
    "    \"Cause an exception.\"\n",
    "\n",
    "    def __exit__(self, *exc_details):\n",
    "        self.msg('throwing error')\n",
    "        raise RuntimeError('from {}'.format(self.i))\n",
    "\n",
    "\n",
    "class ErrorOnEnter(Tracker):\n",
    "    \"Cause an exception.\"\n",
    "\n",
    "    def __enter__(self):\n",
    "        self.msg('throwing error on enter')\n",
    "        raise RuntimeError('from {}'.format(self.i))\n",
    "\n",
    "    def __exit__(self, *exc_info):\n",
    "        self.msg('exiting')"
   ]
  },
  {
   "cell_type": "markdown",
   "metadata": {
    "collapsed": true
   },
   "source": [
    "The examples using these classes are based around variable_stack(), which uses the context managers passed to construct an ExitStack, building up the overall context one by one. The examples below pass different context managers to explore the error handling behavior. First, the normal case of no exceptions."
   ]
  },
  {
   "cell_type": "code",
   "execution_count": 16,
   "metadata": {
    "collapsed": false
   },
   "outputs": [
    {
     "name": "stdout",
     "output_type": "stream",
     "text": [
      "No errors:\n",
      "  HandleError(1): entering\n",
      "  PassError(2): entering\n",
      "** in the middle of stacks **\n",
      "  PassError(2): exiting\n",
      "  HandleError(1): exiting False\n",
      "** outside of stack, any errors were handled **\n"
     ]
    }
   ],
   "source": [
    "print('No errors:')\n",
    "variable_stack([\n",
    "    HandleError(1),\n",
    "    PassError(2),\n",
    "])"
   ]
  },
  {
   "cell_type": "markdown",
   "metadata": {
    "collapsed": true
   },
   "source": [
    "Then, an example of handling exceptions within the context managers at the end of the stack, in which all of the open contexts are closed as the stack is unwound."
   ]
  },
  {
   "cell_type": "code",
   "execution_count": 17,
   "metadata": {
    "collapsed": false
   },
   "outputs": [
    {
     "name": "stdout",
     "output_type": "stream",
     "text": [
      "\n",
      "Error at the end of the context stack:\n",
      "  HandleError(1): entering\n",
      "  HandleError(2): entering\n",
      "  ErrorOnExit(3): entering\n",
      "** in the middle of stacks **\n",
      "  ErrorOnExit(3): throwing error\n",
      "  HandleError(2): handling exception RuntimeError('from 3',)\n",
      "  HandleError(2): exiting True\n",
      "  HandleError(1): exiting False\n",
      "** outside of stack, any errors were handled **\n"
     ]
    }
   ],
   "source": [
    "print('\\nError at the end of the context stack:')\n",
    "variable_stack([\n",
    "    HandleError(1),\n",
    "    HandleError(2),\n",
    "    ErrorOnExit(3),\n",
    "])"
   ]
  },
  {
   "cell_type": "markdown",
   "metadata": {
    "collapsed": true
   },
   "source": [
    "Next, an example of handling exceptions within the context managers in the middle of the stack, in which the error does not occur until some contexts are already closed, so those contexts do not see the error."
   ]
  },
  {
   "cell_type": "code",
   "execution_count": 18,
   "metadata": {
    "collapsed": false
   },
   "outputs": [
    {
     "name": "stdout",
     "output_type": "stream",
     "text": [
      "\n",
      "Error in the middle of the context stack:\n",
      "  HandleError(1): entering\n",
      "  PassError(2): entering\n",
      "  ErrorOnExit(3): entering\n",
      "  HandleError(4): entering\n",
      "** in the middle of stacks **\n",
      "  HandleError(4): exiting False\n",
      "  ErrorOnExit(3): throwing error\n",
      "  PassError(2): passing exception RuntimeError('from 3',)\n",
      "  PassError(2): exiting\n",
      "  HandleError(1): handling exception RuntimeError('from 3',)\n",
      "  HandleError(1): exiting True\n",
      "** outside of stack, any errors were handled **\n"
     ]
    }
   ],
   "source": [
    "print('\\nError in the middle of the context stack:')\n",
    "variable_stack([\n",
    "    HandleError(1),\n",
    "    PassError(2),\n",
    "    ErrorOnExit(3),\n",
    "    HandleError(4),\n",
    "])"
   ]
  },
  {
   "cell_type": "markdown",
   "metadata": {
    "collapsed": true
   },
   "source": [
    "Finally, an example of the exception remaining unhandled and propagating up to the calling code."
   ]
  },
  {
   "cell_type": "code",
   "execution_count": 19,
   "metadata": {
    "collapsed": false
   },
   "outputs": [
    {
     "name": "stdout",
     "output_type": "stream",
     "text": [
      "\n",
      "Error ignored:\n",
      "  PassError(1): entering\n",
      "  ErrorOnExit(2): entering\n",
      "** in the middle of stacks **\n",
      "  ErrorOnExit(2): throwing error\n",
      "  PassError(1): passing exception RuntimeError('from 2',)\n",
      "  PassError(1): exiting\n",
      "error handled outside of context\n"
     ]
    }
   ],
   "source": [
    "try:\n",
    "    print('\\nError ignored:')\n",
    "    variable_stack([\n",
    "        PassError(1),\n",
    "        ErrorOnExit(2),\n",
    "    ])\n",
    "except RuntimeError:\n",
    "    print('error handled outside of context')"
   ]
  },
  {
   "cell_type": "markdown",
   "metadata": {
    "collapsed": true
   },
   "source": [
    "## Arbitrary Context Callbacks\n",
    "\n",
    "ExitStack also supports arbitrary callbacks for closing a context, making it easy to clean up resources that are not controlled via a context manager.\n",
    "\n",
    "Just as with the \\__exit\\__() methods of full context managers, the callbacks are invoked in the reverse order that they are registered."
   ]
  },
  {
   "cell_type": "code",
   "execution_count": 20,
   "metadata": {
    "collapsed": false
   },
   "outputs": [
    {
     "name": "stdout",
     "output_type": "stream",
     "text": [
      "closing callback((), {'arg3': 'val3'})\n",
      "closing callback(('arg1', 'arg2'), {})\n"
     ]
    }
   ],
   "source": [
    "# contextlib_exitstack_callbacks.py\n",
    "import contextlib\n",
    "\n",
    "\n",
    "def callback(*args, **kwds):\n",
    "    print('closing callback({}, {})'.format(args, kwds))\n",
    "\n",
    "\n",
    "with contextlib.ExitStack() as stack:\n",
    "    stack.callback(callback, 'arg1', 'arg2')\n",
    "    stack.callback(callback, arg3='val3')"
   ]
  },
  {
   "cell_type": "markdown",
   "metadata": {
    "collapsed": true
   },
   "source": [
    "The callbacks are invoked regardless of whether an error occurred, and they are not given any information about whether an error occurred. Their return value is ignored.\n",
    "\n",
    "Because they do not have access to the error, callbacks are unable to suppress exceptions from propagating through the rest of the stack of context managers."
   ]
  },
  {
   "cell_type": "code",
   "execution_count": 21,
   "metadata": {
    "collapsed": false
   },
   "outputs": [
    {
     "name": "stdout",
     "output_type": "stream",
     "text": [
      "closing callback((), {'arg3': 'val3'})\n",
      "closing callback(('arg1', 'arg2'), {})\n",
      "ERROR: thrown error\n"
     ]
    }
   ],
   "source": [
    "# contextlib_exitstack_callbacks_error.py\n",
    "import contextlib\n",
    "\n",
    "\n",
    "def callback(*args, **kwds):\n",
    "    print('closing callback({}, {})'.format(args, kwds))\n",
    "\n",
    "\n",
    "try:\n",
    "    with contextlib.ExitStack() as stack:\n",
    "        stack.callback(callback, 'arg1', 'arg2')\n",
    "        stack.callback(callback, arg3='val3')\n",
    "        raise RuntimeError('thrown error')\n",
    "except RuntimeError as err:\n",
    "    print('ERROR: {}'.format(err))"
   ]
  },
  {
   "cell_type": "markdown",
   "metadata": {
    "collapsed": true
   },
   "source": [
    "Callbacks make a convenient way to clearly define cleanup logic without the overhead of creating a new context manager class. To improve code readability, that logic can be encapsulated in an inline function, and callback() can be used as a decorator.\n",
    "\n",
    "There is no way to specify the arguments for functions registered using the decorator form of callback(). However, if the cleanup callback is defined inline, scope rules give it access to variables defined in the calling code."
   ]
  },
  {
   "cell_type": "code",
   "execution_count": 22,
   "metadata": {
    "collapsed": false
   },
   "outputs": [
    {
     "name": "stdout",
     "output_type": "stream",
     "text": [
      "within the context\n",
      "inline_cleanup()\n",
      "local_resource = 'resource created in context'\n"
     ]
    }
   ],
   "source": [
    "# contextlib_exitstack_callbacks_decorator.py\n",
    "import contextlib\n",
    "\n",
    "\n",
    "with contextlib.ExitStack() as stack:\n",
    "\n",
    "    @stack.callback\n",
    "    def inline_cleanup():\n",
    "        print('inline_cleanup()')\n",
    "        print('local_resource = {!r}'.format(local_resource))\n",
    "\n",
    "    local_resource = 'resource created in context'\n",
    "    print('within the context')"
   ]
  },
  {
   "cell_type": "markdown",
   "metadata": {
    "collapsed": true
   },
   "source": [
    "## Partial Stacks\n",
    "\n",
    "Sometimes when building complex contexts it is useful to be able to abort an operation if the context cannot be completely constructed, but to delay the cleanup of all resources until a later time if they can all be set up properly. For example, if an operation needs several long-lived network connections, it may be best to not start the operation if one connection fails. However, if all of the connections can be opened they need to stay open longer than the duration of a single context manager. The pop_all() method of ExitStack can be used in this scenario.\n",
    "\n",
    "pop_all() clears all of the context managers and callbacks from the stack on which it is called, and returns a new stack pre-populated with those same context managers and callbacks. The close() method of the new stack can be invoked later, after the original stack is gone, to clean up the resources."
   ]
  },
  {
   "cell_type": "markdown",
   "metadata": {},
   "source": [
    "This example uses the same context manager classes defined earlier, with the difference that ErrorOnEnter produces an error on \\__enter\\__() instead of \\__exit\\__(). Inside variable_stack(), if all of the contexts are entered without error then the close() method of a new ExitStack is returned. If a handled error occurs, variable_stack() returns None to indicate that the cleanup work is already done. And if an unhandled error occurs, the partial stack is cleaned up and the error is propagated."
   ]
  },
  {
   "cell_type": "code",
   "execution_count": 23,
   "metadata": {
    "collapsed": false
   },
   "outputs": [
    {
     "name": "stdout",
     "output_type": "stream",
     "text": [
      "No errors:\n",
      "  HandleError(1): entering\n",
      "  HandleError(2): entering\n",
      "  HandleError(2): exiting False\n",
      "  HandleError(1): exiting False\n",
      "\n",
      "Handled error building context manager stack:\n",
      "  HandleError(1): entering\n",
      "  ErrorOnEnter(2): throwing error on enter\n",
      "  HandleError(1): handling exception RuntimeError('from 2',)\n",
      "  HandleError(1): exiting True\n",
      "no cleaner returned\n",
      "\n",
      "Unhandled error building context manager stack:\n",
      "  PassError(1): entering\n",
      "  ErrorOnEnter(2): throwing error on enter\n",
      "  PassError(1): passing exception RuntimeError('from 2',)\n",
      "  PassError(1): exiting\n",
      "caught error from 2\n"
     ]
    }
   ],
   "source": [
    "# contextlib_exitstack_pop_all.py\n",
    "import contextlib\n",
    "\n",
    "# from contextlib_context_managers import *\n",
    "\n",
    "def variable_stack(contexts):\n",
    "    with contextlib.ExitStack() as stack:\n",
    "        for c in contexts:\n",
    "            stack.enter_context(c)\n",
    "        # Return the close() method of a new stack as a clean-up\n",
    "        # function.\n",
    "        return stack.pop_all().close\n",
    "    # Explicitly return None, indicating that the ExitStack could\n",
    "    # not be initialized cleanly but that cleanup has already\n",
    "    # occurred.\n",
    "    return None\n",
    "\n",
    "\n",
    "print('No errors:')\n",
    "cleaner = variable_stack([\n",
    "    HandleError(1),\n",
    "    HandleError(2),\n",
    "])\n",
    "cleaner()\n",
    "\n",
    "print('\\nHandled error building context manager stack:')\n",
    "try:\n",
    "    cleaner = variable_stack([\n",
    "        HandleError(1),\n",
    "        ErrorOnEnter(2),\n",
    "    ])\n",
    "except RuntimeError as err:\n",
    "    print('caught error {}'.format(err))\n",
    "else:\n",
    "    if cleaner is not None:\n",
    "        cleaner()\n",
    "    else:\n",
    "        print('no cleaner returned')\n",
    "\n",
    "print('\\nUnhandled error building context manager stack:')\n",
    "try:\n",
    "    cleaner = variable_stack([\n",
    "        PassError(1),\n",
    "        ErrorOnEnter(2),\n",
    "    ])\n",
    "except RuntimeError as err:\n",
    "    print('caught error {}'.format(err))\n",
    "else:\n",
    "    if cleaner is not None:\n",
    "        cleaner()\n",
    "    else:\n",
    "        print('no cleaner returned')"
   ]
  }
 ],
 "metadata": {
  "kernelspec": {
   "display_name": "Python 3",
   "language": "python",
   "name": "python3"
  },
  "language_info": {
   "codemirror_mode": {
    "name": "ipython",
    "version": 3
   },
   "file_extension": ".py",
   "mimetype": "text/x-python",
   "name": "python",
   "nbconvert_exporter": "python",
   "pygments_lexer": "ipython3",
   "version": "3.5.2"
  }
 },
 "nbformat": 4,
 "nbformat_minor": 2
}
