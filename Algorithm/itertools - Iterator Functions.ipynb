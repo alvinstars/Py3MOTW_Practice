{
 "cells": [
  {
   "cell_type": "markdown",
   "metadata": {},
   "source": [
    "# itertools - Iterator Functions\n",
    "\n",
    "Purpose:\tThe itertools module includes a set of functions for working with sequence data sets."
   ]
  },
  {
   "cell_type": "markdown",
   "metadata": {},
   "source": [
    "The functions provided by itertools are inspired by similar features of functional programming languages such as Clojure, Haskell, APL, and SML. They are intended to be fast and use memory efficiently, and also to be hooked together to express more complicated iteration-based algorithms.\n",
    "\n",
    "Iterator-based code offers better memory consumption characteristics than code that uses lists. Since data is not produced from the iterator until it is needed, all of the data does not need to be stored in memory at the same time. This “lazy” processing model can reduce swapping and other side-effects of large data sets, improving performance.\n",
    "\n",
    "In addition to the functions defined in itertools, the examples in this section also rely on some of the built-in functions for iteration."
   ]
  },
  {
   "cell_type": "markdown",
   "metadata": {},
   "source": [
    "## Merging and Splitting Iterators\n",
    "\n",
    "The chain() function takes several iterators as arguments and returns a single iterator that produces the contents of all of the inputs as though they came from a single iterator."
   ]
  },
  {
   "cell_type": "code",
   "execution_count": 1,
   "metadata": {
    "collapsed": false
   },
   "outputs": [
    {
     "name": "stdout",
     "output_type": "stream",
     "text": [
      "1\n",
      "2\n",
      "3\n",
      "a\n",
      "b\n",
      "c\n",
      "\n"
     ]
    }
   ],
   "source": [
    "# itertools_chain.py\n",
    "from itertools import *\n",
    "\n",
    "for i in chain([1, 2, 3], ['a', 'b', 'c']):\n",
    "    print(i, end='\\n')\n",
    "print()"
   ]
  },
  {
   "cell_type": "markdown",
   "metadata": {},
   "source": [
    "chain() makes it easy to process several sequences without constructing one large list."
   ]
  },
  {
   "cell_type": "markdown",
   "metadata": {},
   "source": [
    "If the iterables to be combined are not all known in advance, or need to be evaluated lazily, chain.from_iterable() can be used to construct the chain instead."
   ]
  },
  {
   "cell_type": "code",
   "execution_count": 2,
   "metadata": {
    "collapsed": false
   },
   "outputs": [
    {
     "name": "stdout",
     "output_type": "stream",
     "text": [
      "1\n",
      "2\n",
      "3\n",
      "a\n",
      "b\n",
      "c\n",
      "\n"
     ]
    }
   ],
   "source": [
    "# itertools_chain_from_iterable.py\n",
    "from itertools import *\n",
    "\n",
    "\n",
    "def make_iterables_to_chain():\n",
    "    yield [1, 2, 3]\n",
    "    yield ['a', 'b', 'c']\n",
    "\n",
    "\n",
    "for i in chain.from_iterable(make_iterables_to_chain()):\n",
    "    print(i, end='\\n')\n",
    "print()\n"
   ]
  },
  {
   "cell_type": "markdown",
   "metadata": {},
   "source": [
    "The built-in function zip() returns an iterator that combines the elements of several iterators into tuples.\n",
    "\n",
    "As with the other functions in this module, the return value is an iterable object that produces values one at a time."
   ]
  },
  {
   "cell_type": "code",
   "execution_count": 3,
   "metadata": {
    "collapsed": false
   },
   "outputs": [
    {
     "name": "stdout",
     "output_type": "stream",
     "text": [
      "(1, 'a')\n",
      "(2, 'b')\n",
      "(3, 'c')\n"
     ]
    }
   ],
   "source": [
    "# itertools_zip.py\n",
    "for i in zip([1, 2, 3], ['a', 'b', 'c','d']):\n",
    "    print(i)"
   ]
  },
  {
   "cell_type": "markdown",
   "metadata": {},
   "source": [
    "zip() stops when the first input iterator is exhausted. To process all of the inputs, even if the iterators produce different numbers of values, use zip_longest()."
   ]
  },
  {
   "cell_type": "code",
   "execution_count": 4,
   "metadata": {
    "collapsed": false
   },
   "outputs": [
    {
     "name": "stdout",
     "output_type": "stream",
     "text": [
      "zip stops early:\n",
      "[(0, 0), (1, 1)]\n",
      "\n",
      "zip_longest processes all of the values:\n",
      "[(0, 0), (1, 1), (2, None)]\n"
     ]
    }
   ],
   "source": [
    "# itertools_zip_longest.py\n",
    "from itertools import *\n",
    "\n",
    "r1 = range(3)\n",
    "r2 = range(2)\n",
    "\n",
    "print('zip stops early:')\n",
    "print(list(zip(r1, r2)))\n",
    "\n",
    "r1 = range(3)\n",
    "r2 = range(2)\n",
    "\n",
    "print('\\nzip_longest processes all of the values:')\n",
    "print(list(zip_longest(r1, r2)))"
   ]
  },
  {
   "cell_type": "markdown",
   "metadata": {},
   "source": [
    "By default, zip_longest() substitutes None for any missing values. Use the fillvalue argument to use a different substitute value."
   ]
  },
  {
   "cell_type": "markdown",
   "metadata": {},
   "source": [
    "The islice() function returns an iterator which returns selected items from the input iterator, by index.\n",
    "\n",
    "islice() takes the same arguments as the slice operator for lists: start, stop, and step. The start and step arguments are optional."
   ]
  },
  {
   "cell_type": "code",
   "execution_count": 5,
   "metadata": {
    "collapsed": false
   },
   "outputs": [
    {
     "name": "stdout",
     "output_type": "stream",
     "text": [
      "Stop at 5:\n",
      "0 1 2 3 4 \n",
      "\n",
      "Start at 5, Stop at 10:\n",
      "5 6 7 8 9 \n",
      "\n",
      "By tens to 100:\n",
      "0 10 20 30 40 50 60 70 80 90 \n",
      "\n"
     ]
    }
   ],
   "source": [
    "# itertools_islice.py\n",
    "from itertools import *\n",
    "\n",
    "print('Stop at 5:')\n",
    "for i in islice(range(100), 5):\n",
    "    print(i, end=' ')\n",
    "print('\\n')\n",
    "\n",
    "print('Start at 5, Stop at 10:')\n",
    "for i in islice(range(100), 5, 10):\n",
    "    print(i, end=' ')\n",
    "print('\\n')\n",
    "\n",
    "print('By tens to 100:')\n",
    "for i in islice(range(100), 0, 100, 10):\n",
    "    print(i, end=' ')\n",
    "print('\\n')"
   ]
  },
  {
   "cell_type": "markdown",
   "metadata": {},
   "source": [
    "The tee() function returns several independent iterators (defaults to 2) based on a single original input.\n",
    "\n",
    "tee() has semantics similar to the Unix tee utility, which repeats the values it reads from its input and writes them to a named file and standard output. The iterators returned by tee() can be used to feed the same set of data into multiple algorithms to be processed in parallel."
   ]
  },
  {
   "cell_type": "code",
   "execution_count": 6,
   "metadata": {
    "collapsed": false
   },
   "outputs": [
    {
     "name": "stdout",
     "output_type": "stream",
     "text": [
      "i1: [0, 1, 2, 3, 4]\n",
      "i2: [0, 1, 2, 3, 4]\n"
     ]
    }
   ],
   "source": [
    "# itertools_tee.py\n",
    "from itertools import *\n",
    "\n",
    "r = islice(count(), 5)\n",
    "i1, i2 = tee(r)\n",
    "\n",
    "print('i1:', list(i1))\n",
    "print('i2:', list(i2))\n"
   ]
  },
  {
   "cell_type": "markdown",
   "metadata": {},
   "source": [
    "The new iterators created by tee() share their input, so the original iterator should not be used after the new ones are created.\n",
    "\n",
    "If values are consumed from the original input, the new iterators will not produce those values:"
   ]
  },
  {
   "cell_type": "code",
   "execution_count": 7,
   "metadata": {
    "collapsed": false
   },
   "outputs": [
    {
     "name": "stdout",
     "output_type": "stream",
     "text": [
      "r: 0 1 2 \n",
      "i1: [3, 4]\n",
      "i2: [3, 4]\n"
     ]
    }
   ],
   "source": [
    "# itertools_tee_error.py\n",
    "from itertools import *\n",
    "\n",
    "r = islice(count(), 5)\n",
    "i1, i2 = tee(r)\n",
    "\n",
    "print('r:', end=' ')\n",
    "for i in r:\n",
    "    print(i, end=' ')\n",
    "    if i > 1:\n",
    "        break\n",
    "print()\n",
    "\n",
    "print('i1:', list(i1))\n",
    "print('i2:', list(i2))"
   ]
  },
  {
   "cell_type": "markdown",
   "metadata": {},
   "source": [
    "## Converting Inputs\n",
    "\n",
    "The built-in map() function returns an iterator that calls a function on the values in the input iterators, and returns the results. It stops when any input iterator is exhausted.\n",
    "\n",
    "In the first example, the lambda function multiplies the input values by 2. In a second example, the lambda function multiplies two arguments, taken from separate iterators, and returns a tuple with the original arguments and the computed value. The third example stops after producing two tuples because the second range is exhausted."
   ]
  },
  {
   "cell_type": "code",
   "execution_count": 8,
   "metadata": {
    "collapsed": false
   },
   "outputs": [
    {
     "name": "stdout",
     "output_type": "stream",
     "text": [
      "Doubles:\n",
      "0\n",
      "2\n",
      "4\n",
      "6\n",
      "8\n",
      "\n",
      "Multiples:\n",
      "0 * 5 = 0\n",
      "1 * 6 = 6\n",
      "2 * 7 = 14\n",
      "3 * 8 = 24\n",
      "4 * 9 = 36\n",
      "\n",
      "Stopping:\n",
      "(0, 0, 0)\n",
      "(1, 1, 1)\n"
     ]
    }
   ],
   "source": [
    "# itertools_map.py\n",
    "\n",
    "def times_two(x):\n",
    "    return 2 * x\n",
    "\n",
    "\n",
    "def multiply(x, y):\n",
    "    return (x, y, x * y)\n",
    "\n",
    "\n",
    "print('Doubles:')\n",
    "for i in map(times_two, range(5)):\n",
    "    print(i)\n",
    "\n",
    "print('\\nMultiples:')\n",
    "r1 = range(5)\n",
    "r2 = range(5, 10)\n",
    "for i in map(multiply, r1, r2):\n",
    "    print('{:d} * {:d} = {:d}'.format(*i))\n",
    "\n",
    "print('\\nStopping:')\n",
    "r1 = range(5)\n",
    "r2 = range(2)\n",
    "for i in map(multiply, r1, r2):\n",
    "    print(i)\n"
   ]
  },
  {
   "cell_type": "markdown",
   "metadata": {},
   "source": [
    "The starmap() function is similar to map(), but instead of constructing a tuple from multiple iterators, it splits up the items in a single iterator as arguments to the mapping function using the * syntax.\n",
    "\n"
   ]
  },
  {
   "cell_type": "code",
   "execution_count": 9,
   "metadata": {
    "collapsed": false
   },
   "outputs": [
    {
     "name": "stdout",
     "output_type": "stream",
     "text": [
      "(0, 5, 0)\n",
      "0 * 5 = 0\n",
      "\n",
      "(1, 6, 6)\n",
      "1 * 6 = 6\n",
      "\n",
      "(2, 7, 14)\n",
      "2 * 7 = 14\n",
      "\n",
      "(3, 8, 24)\n",
      "3 * 8 = 24\n",
      "\n",
      "(4, 9, 36)\n",
      "4 * 9 = 36\n",
      "\n"
     ]
    }
   ],
   "source": [
    "# itertools_starmap.py\n",
    "from itertools import *\n",
    "\n",
    "values = [(0, 5), (1, 6), (2, 7), (3, 8), (4, 9)]\n",
    "\n",
    "for i in starmap(lambda x, y: (x, y, x * y), values):\n",
    "    print(i)\n",
    "    print('{} * {} = {}\\n'.format(*i))"
   ]
  },
  {
   "cell_type": "markdown",
   "metadata": {},
   "source": [
    "## Producing New Values\n",
    "\n",
    "The count() function returns an iterator that produces consecutive integers, indefinitely. The first number can be passed as an argument (the default is zero). There is no upper bound argument (see the built-in range() for more control over the result set).\n",
    "\n",
    "This example stops because the list argument is consumed.\n",
    "\n"
   ]
  },
  {
   "cell_type": "code",
   "execution_count": 10,
   "metadata": {
    "collapsed": false
   },
   "outputs": [
    {
     "name": "stdout",
     "output_type": "stream",
     "text": [
      "(1, 'a')\n",
      "(2, 'b')\n",
      "(3, 'c')\n"
     ]
    }
   ],
   "source": [
    "# itertools_count.py\n",
    "from itertools import *\n",
    "\n",
    "for i in zip(count(1), ['a', 'b', 'c']):\n",
    "    print(i)"
   ]
  },
  {
   "cell_type": "markdown",
   "metadata": {},
   "source": [
    "The start and step arguments to count() can be any numerical values that can be added together.\n",
    "\n",
    "In this example, the start point and steps are Fraction objects from the fraction module."
   ]
  },
  {
   "cell_type": "code",
   "execution_count": 11,
   "metadata": {
    "collapsed": false
   },
   "outputs": [
    {
     "name": "stdout",
     "output_type": "stream",
     "text": [
      "1/3 - a\n",
      "2/3 - b\n",
      "1 - c\n"
     ]
    }
   ],
   "source": [
    "# itertools_count_step.py\n",
    "import fractions\n",
    "from itertools import *\n",
    "\n",
    "start = fractions.Fraction(1, 3)\n",
    "step = fractions.Fraction(1, 3)\n",
    "\n",
    "for i in zip(count(start, step), ['a', 'b', 'c']):\n",
    "    print('{} - {}'.format(*i))"
   ]
  },
  {
   "cell_type": "markdown",
   "metadata": {},
   "source": [
    "The cycle() function returns an iterator that repeats the contents of the arguments it is given indefinitely. Since it has to remember the entire contents of the input iterator, it may consume quite a bit of memory if the iterator is long.\n",
    "\n",
    "A counter variable is used to break out of the loop after a few cycles in this example."
   ]
  },
  {
   "cell_type": "code",
   "execution_count": 12,
   "metadata": {
    "collapsed": false
   },
   "outputs": [
    {
     "name": "stdout",
     "output_type": "stream",
     "text": [
      "(0, 'a')\n",
      "(1, 'b')\n",
      "(2, 'c')\n",
      "(3, 'a')\n",
      "(4, 'b')\n",
      "(5, 'c')\n",
      "(6, 'a')\n"
     ]
    }
   ],
   "source": [
    "# itertools_cycle.py\n",
    "from itertools import *\n",
    "\n",
    "for i in zip(range(7), cycle(['a', 'b', 'c'])):\n",
    "    print(i)"
   ]
  },
  {
   "cell_type": "markdown",
   "metadata": {},
   "source": [
    "The repeat() function returns an iterator that produces the same value each time it is accessed.\n",
    "\n",
    "The iterator returned by repeat() keeps returning data forever, unless the optional times argument is provided to limit it."
   ]
  },
  {
   "cell_type": "code",
   "execution_count": 13,
   "metadata": {
    "collapsed": false
   },
   "outputs": [
    {
     "name": "stdout",
     "output_type": "stream",
     "text": [
      "over-and-over\n",
      "over-and-over\n",
      "over-and-over\n",
      "over-and-over\n",
      "over-and-over\n"
     ]
    }
   ],
   "source": [
    "# itertools_repeat.py\n",
    "from itertools import *\n",
    "\n",
    "for i in repeat('over-and-over', 5):\n",
    "    print(i)\n"
   ]
  },
  {
   "cell_type": "markdown",
   "metadata": {},
   "source": [
    "It is useful to combine repeat() with zip() or map() when invariant values need to be included with the values from the other iterators.\n",
    "\n",
    "A counter value is combined with the constant returned by repeat() in this example."
   ]
  },
  {
   "cell_type": "code",
   "execution_count": 14,
   "metadata": {
    "collapsed": false
   },
   "outputs": [
    {
     "name": "stdout",
     "output_type": "stream",
     "text": [
      "0 over-and-over\n",
      "1 over-and-over\n",
      "2 over-and-over\n",
      "3 over-and-over\n",
      "4 over-and-over\n"
     ]
    }
   ],
   "source": [
    "# itertools_repeat_zip.py\n",
    "from itertools import *\n",
    "\n",
    "for i, s in zip(count(), repeat('over-and-over', 5)):\n",
    "    print(i, s)\n"
   ]
  },
  {
   "cell_type": "markdown",
   "metadata": {},
   "source": [
    "This example uses map() to multiply the numbers in the range 0 through 4 by 2.\n",
    "\n",
    "The repeat() iterator does not need to be explicitly limited, since map() stops processing when any of its inputs ends, and the range() returns only five elements."
   ]
  },
  {
   "cell_type": "code",
   "execution_count": 15,
   "metadata": {
    "collapsed": false
   },
   "outputs": [
    {
     "name": "stdout",
     "output_type": "stream",
     "text": [
      "2 * 0 = 0\n",
      "2 * 1 = 2\n",
      "2 * 2 = 4\n",
      "2 * 3 = 6\n",
      "2 * 4 = 8\n"
     ]
    }
   ],
   "source": [
    "# itertools_repeat_map.py\n",
    "from itertools import *\n",
    "\n",
    "for i in map(lambda x, y: (x, y, x * y), repeat(2), range(5)):\n",
    "    print('{:d} * {:d} = {:d}'.format(*i))"
   ]
  },
  {
   "cell_type": "markdown",
   "metadata": {},
   "source": [
    "## Filtering\n",
    "\n",
    "The dropwhile() function returns an iterator that produces elements of the input iterator after a condition becomes false for the first time.\n",
    "\n",
    "dropwhile() does not filter every item of the input; after the condition is false the first time, all of the remaining items in the input are returned."
   ]
  },
  {
   "cell_type": "code",
   "execution_count": 16,
   "metadata": {
    "collapsed": false
   },
   "outputs": [
    {
     "name": "stdout",
     "output_type": "stream",
     "text": [
      "Testing: -1\n",
      "Testing: 0\n",
      "Testing: 1\n",
      "Yielding: 1\n",
      "\n",
      "Yielding: 2\n",
      "\n",
      "Yielding: -2\n",
      "\n"
     ]
    }
   ],
   "source": [
    "# itertools_dropwhile.py\n",
    "from itertools import *\n",
    "\n",
    "\n",
    "def should_drop(x):\n",
    "    print('Testing:', x)\n",
    "    return x < 1\n",
    "\n",
    "for i in dropwhile(should_drop, [-1, 0, 1, 2, -2]):\n",
    "    print('Yielding:', i)\n",
    "    print()"
   ]
  },
  {
   "cell_type": "markdown",
   "metadata": {},
   "source": [
    "The opposite of dropwhile() is takewhile(). It returns an iterator that returns items from the input iterator as long as the test function returns true.\n",
    "\n",
    "As soon as should_take() returns False, takewhile() stops processing the input."
   ]
  },
  {
   "cell_type": "code",
   "execution_count": 17,
   "metadata": {
    "collapsed": false
   },
   "outputs": [
    {
     "name": "stdout",
     "output_type": "stream",
     "text": [
      "Testing: -1\n",
      "Yielding: -1\n",
      "\n",
      "Testing: 0\n",
      "Yielding: 0\n",
      "\n",
      "Testing: 1\n",
      "Yielding: 1\n",
      "\n",
      "Testing: 2\n"
     ]
    }
   ],
   "source": [
    "# itertools_takewhile.py\n",
    "from itertools import *\n",
    "\n",
    "\n",
    "def should_take(x):\n",
    "    print('Testing:', x)\n",
    "    return x < 2\n",
    "\n",
    "for i in takewhile(should_take, [-1, 0, 1, 2, -2]):\n",
    "    print('Yielding:', i)\n",
    "    print()"
   ]
  },
  {
   "cell_type": "markdown",
   "metadata": {},
   "source": [
    "The built-in function filter() returns an iterator that includes only items for which the test function returns true.\n",
    "\n",
    "filter() is different from dropwhile() and takewhile() in that every item is tested before it is returned."
   ]
  },
  {
   "cell_type": "code",
   "execution_count": 18,
   "metadata": {
    "collapsed": false
   },
   "outputs": [
    {
     "name": "stdout",
     "output_type": "stream",
     "text": [
      "Testing: -1\n",
      "Yielding: -1\n",
      "\n",
      "Testing: 0\n",
      "Yielding: 0\n",
      "\n",
      "Testing: 1\n",
      "Testing: 2\n",
      "Testing: -2\n",
      "Yielding: -2\n",
      "\n"
     ]
    }
   ],
   "source": [
    "# itertools_filter.py\n",
    "from itertools import *\n",
    "\n",
    "\n",
    "def check_item(x):\n",
    "    print('Testing:', x)\n",
    "    return x < 1\n",
    "\n",
    "for i in filter(check_item, [-1, 0, 1, 2, -2]):\n",
    "    print('Yielding:', i)\n",
    "    print()"
   ]
  },
  {
   "cell_type": "markdown",
   "metadata": {},
   "source": [
    "filterfalse() returns an iterator that includes only items where the test function returns false.\n",
    "\n",
    "\n",
    "The test expression in check_item() is the same, so the results in this example with filterfalse() are the opposite of the results from the previous example."
   ]
  },
  {
   "cell_type": "code",
   "execution_count": 19,
   "metadata": {
    "collapsed": false
   },
   "outputs": [
    {
     "name": "stdout",
     "output_type": "stream",
     "text": [
      "Testing: -1\n",
      "Testing: 0\n",
      "Testing: 1\n",
      "Yielding: 1\n",
      "\n",
      "Testing: 2\n",
      "Yielding: 2\n",
      "\n",
      "Testing: -2\n"
     ]
    }
   ],
   "source": [
    "# itertools_filterfalse.py\n",
    "from itertools import *\n",
    "\n",
    "\n",
    "def check_item(x):\n",
    "    print('Testing:', x)\n",
    "    return x < 1\n",
    "\n",
    "for i in filterfalse(check_item, [-1, 0, 1, 2, -2]):\n",
    "    print('Yielding:', i)\n",
    "    print()"
   ]
  },
  {
   "cell_type": "markdown",
   "metadata": {},
   "source": [
    "compress() offers another way to filter the contents of an iterable. Instead of calling a function, it uses the values in another iterable to indicate when to accept a value and when to ignore it.\n",
    "\n",
    "The first argument is the data iterable to process and the second is a selector iterable producing Boolean values indicating which elements to take from the data input (a true value causes the value to be produced, a false value causes it to be ignored).\n"
   ]
  },
  {
   "cell_type": "code",
   "execution_count": 20,
   "metadata": {
    "collapsed": false
   },
   "outputs": [
    {
     "name": "stdout",
     "output_type": "stream",
     "text": [
      "3 6 9 \n"
     ]
    }
   ],
   "source": [
    "# itertools_compress.py\n",
    "from itertools import *\n",
    "\n",
    "data = range(1, 10)\n",
    "every_third = cycle([False, False, True])\n",
    "\n",
    "\n",
    "for i in compress(data, every_third):\n",
    "    print(i, end=' ')\n",
    "print()"
   ]
  },
  {
   "cell_type": "markdown",
   "metadata": {},
   "source": [
    "## Grouping Data\n",
    "\n",
    "The groupby() function returns an iterator that produces sets of values organized by a common key. This example illustrates grouping related values based on an attribute."
   ]
  },
  {
   "cell_type": "markdown",
   "metadata": {},
   "source": [
    "*The input sequence needs to be sorted on the key value in order for the groupings to work out as expected.*"
   ]
  },
  {
   "cell_type": "code",
   "execution_count": 21,
   "metadata": {
    "collapsed": false
   },
   "outputs": [
    {
     "name": "stdout",
     "output_type": "stream",
     "text": [
      "Data:\n",
      "[(0, 0),\n",
      " (1, 1),\n",
      " (2, 2),\n",
      " (0, 3),\n",
      " (1, 4),\n",
      " (2, 5),\n",
      " (0, 6)]\n",
      "\n",
      "Grouped, unsorted:\n",
      "0 [(0, 0)]\n",
      "1 [(1, 1)]\n",
      "2 [(2, 2)]\n",
      "0 [(0, 3)]\n",
      "1 [(1, 4)]\n",
      "2 [(2, 5)]\n",
      "0 [(0, 6)]\n",
      "\n",
      "Sorted:\n",
      "[(0, 0),\n",
      " (0, 3),\n",
      " (0, 6),\n",
      " (1, 1),\n",
      " (1, 4),\n",
      " (2, 2),\n",
      " (2, 5)]\n",
      "\n",
      "Grouped, sorted:\n",
      "0 [(0, 0), (0, 3), (0, 6)]\n",
      "1 [(1, 1), (1, 4)]\n",
      "2 [(2, 2), (2, 5)]\n",
      "\n"
     ]
    }
   ],
   "source": [
    "# itertools_groupby_seq.py\n",
    "import functools\n",
    "from itertools import *\n",
    "import operator\n",
    "import pprint\n",
    "\n",
    "\n",
    "@functools.total_ordering\n",
    "class Point:\n",
    "\n",
    "    def __init__(self, x, y):\n",
    "        self.x = x\n",
    "        self.y = y\n",
    "\n",
    "    def __repr__(self):\n",
    "        return '({}, {})'.format(self.x, self.y)\n",
    "\n",
    "    def __eq__(self, other):\n",
    "        return (self.x, self.y) == (other.x, other.y)\n",
    "\n",
    "    def __gt__(self, other):\n",
    "        return (self.x, self.y) > (other.x, other.y)\n",
    "\n",
    "\n",
    "# Create a dataset of Point instances\n",
    "data = list(map(Point,\n",
    "                cycle(islice(count(), 3)),\n",
    "                islice(count(), 7)))\n",
    "print('Data:')\n",
    "pprint.pprint(data, width=35)\n",
    "print()\n",
    "\n",
    "# Try to group the unsorted data based on X values\n",
    "print('Grouped, unsorted:')\n",
    "for k, g in groupby(data, operator.attrgetter('x')):\n",
    "    print(k, list(g))\n",
    "print()\n",
    "\n",
    "# Sort the data\n",
    "data.sort()\n",
    "print('Sorted:')\n",
    "pprint.pprint(data, width=35)\n",
    "print()\n",
    "\n",
    "# Group the sorted data based on X values\n",
    "print('Grouped, sorted:')\n",
    "for k, g in groupby(data, operator.attrgetter('x')):\n",
    "    print(k, list(g))\n",
    "print()"
   ]
  },
  {
   "cell_type": "markdown",
   "metadata": {},
   "source": [
    "## Combining Inputs\n",
    "\n",
    "The accumulate() function processes the input iterable, passing the nth and n+1st item to a function and producing the return value instead of either input. The default function used to combine the two values adds them, so accumulate() can be used to produce the cumulative sum of a series of numerical inputs."
   ]
  },
  {
   "cell_type": "markdown",
   "metadata": {},
   "source": [
    "When used with a sequence of non-integer values, the results depend on what it means to “add” two items together. The second example in this script shows that when accumulate() receives a string input each response is a progressively longer prefix of that string."
   ]
  },
  {
   "cell_type": "code",
   "execution_count": 22,
   "metadata": {
    "collapsed": false
   },
   "outputs": [
    {
     "name": "stdout",
     "output_type": "stream",
     "text": [
      "[0, 1, 3, 6, 10]\n",
      "['a', 'ab', 'abc', 'abcd', 'abcde']\n"
     ]
    }
   ],
   "source": [
    "# itertools_accumulate.py\n",
    "from itertools import *\n",
    "\n",
    "print(list(accumulate(range(5))))\n",
    "print(list(accumulate('abcde')))"
   ]
  },
  {
   "cell_type": "markdown",
   "metadata": {},
   "source": [
    "It is possible to combine accumulate() with any other function that takes two input values to achieve different results.\n",
    "\n",
    "This example combines the string values in a way that makes a series of (nonsensical) palindromes. Each step of the way when f() is called, it prints the input values passed to it by accumulate()."
   ]
  },
  {
   "cell_type": "code",
   "execution_count": 23,
   "metadata": {
    "collapsed": false
   },
   "outputs": [
    {
     "name": "stdout",
     "output_type": "stream",
     "text": [
      "a b\n",
      "bab c\n",
      "cbabc d\n",
      "dcbabcd e\n",
      "['a', 'bab', 'cbabc', 'dcbabcd', 'edcbabcde']\n"
     ]
    }
   ],
   "source": [
    "# itertools_accumulate_custom.py\n",
    "from itertools import *\n",
    "\n",
    "\n",
    "def f(a, b):\n",
    "    print(a, b)\n",
    "    return b + a + b\n",
    "\n",
    "print(list(accumulate('abcde', f)))"
   ]
  },
  {
   "cell_type": "markdown",
   "metadata": {},
   "source": [
    "Nested for loops that iterate over multiple sequences can often be replaced with product(), which produces a single iterable whose values are the Cartesian product of the set of input values.\n",
    "\n",
    "The values produced by product() are tuples, with the members taken from each of the iterables passed in as arguments in the order they are passed. The first tuple returned includes the first value from each iterable. The last iterable passed to product() is processed first, followed by the next to last, and so on. The result is that the return values are in order based on the first iterable, then the next iterable, etc.\n",
    "\n",
    "In this example, the cards are ordered by value and then by suit."
   ]
  },
  {
   "cell_type": "code",
   "execution_count": 24,
   "metadata": {
    "collapsed": false
   },
   "outputs": [
    {
     "name": "stdout",
     "output_type": "stream",
     "text": [
      " 2H  2D  2C  2S \n",
      " 3H  3D  3C  3S \n",
      " 4H  4D  4C  4S \n",
      " 5H  5D  5C  5S \n",
      " 6H  6D  6C  6S \n",
      " 7H  7D  7C  7S \n",
      " 8H  8D  8C  8S \n",
      " 9H  9D  9C  9S \n",
      "10H 10D 10C 10S \n",
      " JH  JD  JC  JS \n",
      " QH  QD  QC  QS \n",
      " KH  KD  KC  KS \n",
      " AH  AD  AC  AS \n"
     ]
    }
   ],
   "source": [
    "# itertools_product.py\n",
    "from itertools import *\n",
    "import pprint\n",
    "\n",
    "FACE_CARDS = ('J', 'Q', 'K', 'A')\n",
    "SUITS = ('H', 'D', 'C', 'S')\n",
    "\n",
    "DECK = list(\n",
    "    product(\n",
    "        chain(range(2, 11), FACE_CARDS),\n",
    "        SUITS,\n",
    "    )\n",
    ")\n",
    "\n",
    "for card in DECK:\n",
    "    print('{:>2}{}'.format(*card), end=' ')\n",
    "    if card[1] == SUITS[-1]:\n",
    "        print()"
   ]
  },
  {
   "cell_type": "markdown",
   "metadata": {},
   "source": [
    "To change the order of the cards, change the order of the arguments to product().\n",
    "\n",
    "The print loop in this example looks for an Ace card, instead of the spade suit, and then adds a newline to break up the output."
   ]
  },
  {
   "cell_type": "code",
   "execution_count": 25,
   "metadata": {
    "collapsed": false
   },
   "outputs": [
    {
     "name": "stdout",
     "output_type": "stream",
     "text": [
      " 2H  3H  4H  5H  6H  7H  8H  9H 10H  JH  QH  KH  AH \n",
      " 2D  3D  4D  5D  6D  7D  8D  9D 10D  JD  QD  KD  AD \n",
      " 2C  3C  4C  5C  6C  7C  8C  9C 10C  JC  QC  KC  AC \n",
      " 2S  3S  4S  5S  6S  7S  8S  9S 10S  JS  QS  KS  AS \n"
     ]
    }
   ],
   "source": [
    "# itertools_product_ordering.py\n",
    "from itertools import *\n",
    "import pprint\n",
    "\n",
    "FACE_CARDS = ('J', 'Q', 'K', 'A')\n",
    "SUITS = ('H', 'D', 'C', 'S')\n",
    "\n",
    "DECK = list(\n",
    "    product(\n",
    "        SUITS,\n",
    "        chain(range(2, 11), FACE_CARDS),\n",
    "    )\n",
    ")\n",
    "\n",
    "for card in DECK:\n",
    "    print('{:>2}{}'.format(card[1], card[0]), end=' ')\n",
    "    if card[1] == FACE_CARDS[-1]:\n",
    "        print()"
   ]
  },
  {
   "cell_type": "markdown",
   "metadata": {},
   "source": [
    "To compute the product of a sequence with itself, specify how many times the input should be repeated.\n",
    "\n",
    "Since repeating a single iterable is like passing the same iterable multiple times, each tuple produced by product() will contain a number of items equal to the repeat counter."
   ]
  },
  {
   "cell_type": "code",
   "execution_count": 26,
   "metadata": {
    "collapsed": false
   },
   "outputs": [
    {
     "name": "stdout",
     "output_type": "stream",
     "text": [
      "Repeat 2:\n",
      "\n",
      "(0, 0) (0, 1) (0, 2) \n",
      "(1, 0) (1, 1) (1, 2) \n",
      "(2, 0) (2, 1) (2, 2) \n",
      "\n",
      "Repeat 3:\n",
      "\n",
      "(0, 0, 0) (0, 0, 1) (0, 0, 2) \n",
      "(0, 1, 0) (0, 1, 1) (0, 1, 2) \n",
      "(0, 2, 0) (0, 2, 1) (0, 2, 2) \n",
      "(1, 0, 0) (1, 0, 1) (1, 0, 2) \n",
      "(1, 1, 0) (1, 1, 1) (1, 1, 2) \n",
      "(1, 2, 0) (1, 2, 1) (1, 2, 2) \n",
      "(2, 0, 0) (2, 0, 1) (2, 0, 2) \n",
      "(2, 1, 0) (2, 1, 1) (2, 1, 2) \n",
      "(2, 2, 0) (2, 2, 1) (2, 2, 2) \n",
      "\n"
     ]
    }
   ],
   "source": [
    "# itertools_product_repeat.py\n",
    "from itertools import *\n",
    "\n",
    "\n",
    "def show(iterable):\n",
    "    for i, item in enumerate(iterable, 1):\n",
    "        print(item, end=' ')\n",
    "        if (i % 3) == 0:\n",
    "            print()\n",
    "    print()\n",
    "\n",
    "\n",
    "print('Repeat 2:\\n')\n",
    "show(list(product(range(3), repeat=2)))\n",
    "\n",
    "print('Repeat 3:\\n')\n",
    "show(list(product(range(3), repeat=3)))"
   ]
  },
  {
   "cell_type": "markdown",
   "metadata": {},
   "source": [
    "The permutations() function produces items from the input iterable combined in the possible permutations of the given length. It defaults to producing the full set of all permutations.\n",
    "\n",
    "Use the r argument to limit the length and number of the individual permutations returned."
   ]
  },
  {
   "cell_type": "code",
   "execution_count": 27,
   "metadata": {
    "collapsed": false
   },
   "outputs": [
    {
     "name": "stdout",
     "output_type": "stream",
     "text": [
      "All permutations:\n",
      "\n",
      "abcd abdc acbd acdb adbc adcb \n",
      "bacd badc bcad bcda bdac bdca \n",
      "cabd cadb cbad cbda cdab cdba \n",
      "dabc dacb dbac dbca dcab dcba \n",
      "\n",
      "Pairs:\n",
      "\n",
      "ab ac ad \n",
      "ba bc bd \n",
      "ca cb cd \n",
      "da db dc \n"
     ]
    }
   ],
   "source": [
    "# itertools_permutations.py\n",
    "from itertools import *\n",
    "\n",
    "def show(iterable):\n",
    "    first = None\n",
    "    for i, item in enumerate(iterable, 1):\n",
    "        if first != item[0]:\n",
    "            if first is not None:\n",
    "                print()\n",
    "            first = item[0]\n",
    "        print(''.join(item), end=' ')\n",
    "    print()\n",
    "\n",
    "print('All permutations:\\n')\n",
    "show(permutations('abcd'))\n",
    "\n",
    "print('\\nPairs:\\n')\n",
    "show(permutations('abcd', r=2))"
   ]
  },
  {
   "cell_type": "markdown",
   "metadata": {},
   "source": [
    "To limit the values to unique combinations rather than permutations, use combinations(). As long as the members of the input are unique, the output will not include any repeated values.\n",
    "\n",
    "Unlike with permutations, the r argument to combinations() is required."
   ]
  },
  {
   "cell_type": "code",
   "execution_count": 28,
   "metadata": {
    "collapsed": false
   },
   "outputs": [
    {
     "name": "stdout",
     "output_type": "stream",
     "text": [
      "Unique pairs:\n",
      "\n",
      "ab ac ad \n",
      "bc bd \n",
      "cd \n"
     ]
    }
   ],
   "source": [
    "# itertools_combinations.py\n",
    "from itertools import *\n",
    "\n",
    "\n",
    "def show(iterable):\n",
    "    first = None\n",
    "    for i, item in enumerate(iterable, 1):\n",
    "        if first != item[0]:\n",
    "            if first is not None:\n",
    "                print()\n",
    "            first = item[0]\n",
    "        print(''.join(item), end=' ')\n",
    "    print()\n",
    "\n",
    "print('Unique pairs:\\n')\n",
    "show(combinations('abcd', r=2))"
   ]
  },
  {
   "cell_type": "markdown",
   "metadata": {},
   "source": [
    "While combinations() does not repeat individual input elements, sometimes it is useful to consider combinations that do include repeated elements. For those cases, use combinations_with_replacement().\n",
    "\n",
    "In this output, each input item is paired with itself as well as all of the other members of the input sequence."
   ]
  },
  {
   "cell_type": "code",
   "execution_count": 29,
   "metadata": {
    "collapsed": false
   },
   "outputs": [
    {
     "name": "stdout",
     "output_type": "stream",
     "text": [
      "Unique pairs:\n",
      "\n",
      "aa ab ac ad \n",
      "bb bc bd \n",
      "cc cd \n",
      "dd \n"
     ]
    }
   ],
   "source": [
    "# itertools_combinations_with_replacement.py\n",
    "from itertools import *\n",
    "\n",
    "\n",
    "def show(iterable):\n",
    "    first = None\n",
    "    for i, item in enumerate(iterable, 1):\n",
    "        if first != item[0]:\n",
    "            if first is not None:\n",
    "                print()\n",
    "            first = item[0]\n",
    "        print(''.join(item), end=' ')\n",
    "    print()\n",
    "\n",
    "print('Unique pairs:\\n')\n",
    "show(combinations_with_replacement('abcd', r=2))"
   ]
  }
 ],
 "metadata": {
  "kernelspec": {
   "display_name": "Python 3",
   "language": "python",
   "name": "python3"
  },
  "language_info": {
   "codemirror_mode": {
    "name": "ipython",
    "version": 3
   },
   "file_extension": ".py",
   "mimetype": "text/x-python",
   "name": "python",
   "nbconvert_exporter": "python",
   "pygments_lexer": "ipython3",
   "version": "3.5.2"
  }
 },
 "nbformat": 4,
 "nbformat_minor": 2
}
