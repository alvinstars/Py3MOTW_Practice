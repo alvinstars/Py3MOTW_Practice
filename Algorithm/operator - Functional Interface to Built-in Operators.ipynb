{
 "cells": [
  {
   "cell_type": "markdown",
   "metadata": {},
   "source": [
    "# operator - Functional Interface to Built-in Operators\n",
    "\n",
    "Purpose:\tFunctional interface to built-in operators.\n",
    "\n",
    "Programming using iterators occasionally requires creating small functions for simple expressions. Sometimes, these can be implemented as lambda functions, but for some operations new functions are not needed at all. The operator module defines functions that correspond to built-in operations for arithmetic, comparison, and other operations corresponding to standard object APIs."
   ]
  },
  {
   "cell_type": "markdown",
   "metadata": {},
   "source": [
    "## Logical Operations\n",
    "\n",
    "There are functions for determining the boolean equivalent for a value, negating it to create the opposite boolean value, and comparing objects to see if they are identical.\n",
    "\n",
    "not\\_() includes the trailing underscore because not is a Python keyword. truth() applies the same logic used when testing an expression in an if statement or converting an expression to a bool. is_() implements the same check used by the is keyword, and is_not() does the same test and returns the opposite answer."
   ]
  },
  {
   "cell_type": "code",
   "execution_count": 1,
   "metadata": {
    "collapsed": false
   },
   "outputs": [
    {
     "name": "stdout",
     "output_type": "stream",
     "text": [
      "a = -1\n",
      "b = 5\n",
      "\n",
      "not_(a)     : False\n",
      "truth(a)    : True\n",
      "is_(a, b)   : False\n",
      "is_not(a, b): True\n"
     ]
    }
   ],
   "source": [
    "# operator_boolean.py\n",
    "from operator import *\n",
    "\n",
    "a = -1\n",
    "b = 5\n",
    "\n",
    "print('a =', a)\n",
    "print('b =', b)\n",
    "print()\n",
    "\n",
    "print('not_(a)     :', not_(a))\n",
    "print('truth(a)    :', truth(a))\n",
    "print('is_(a, b)   :', is_(a, b))\n",
    "print('is_not(a, b):', is_not(a, b))"
   ]
  },
  {
   "cell_type": "markdown",
   "metadata": {},
   "source": [
    "## Comparison Operators\n",
    "\n",
    "All of the rich comparison operators are supported.\n",
    "\n",
    "The functions are equivalent to the expression syntax using <, <=, ==, !=, >=, and >."
   ]
  },
  {
   "cell_type": "code",
   "execution_count": 2,
   "metadata": {
    "collapsed": false
   },
   "outputs": [
    {
     "name": "stdout",
     "output_type": "stream",
     "text": [
      "a = 1\n",
      "b = 5.0\n",
      "lt(a, b): True\n",
      "le(a, b): True\n",
      "eq(a, b): False\n",
      "ne(a, b): True\n",
      "ge(a, b): False\n",
      "gt(a, b): False\n"
     ]
    }
   ],
   "source": [
    "# operator_comparisons.py\n",
    "from operator import *\n",
    "\n",
    "a = 1\n",
    "b = 5.0\n",
    "\n",
    "print('a =', a)\n",
    "print('b =', b)\n",
    "for func in (lt, le, eq, ne, ge, gt):\n",
    "    print('{}(a, b): {}'.format(func.__name__, func(a, b)))"
   ]
  },
  {
   "cell_type": "markdown",
   "metadata": {},
   "source": [
    "### Arithmetic Operators\n",
    "\n",
    "The arithmetic operators for manipulating numerical values are also supported.\n",
    "\n",
    "There are two separate division operators: floordiv() (integer division as implemented in Python before version 3.0) and truediv() (floating point division)."
   ]
  },
  {
   "cell_type": "code",
   "execution_count": 3,
   "metadata": {
    "collapsed": false
   },
   "outputs": [
    {
     "name": "stdout",
     "output_type": "stream",
     "text": [
      "a = -1\n",
      "b = 5.0\n",
      "c = 2\n",
      "d = 6\n",
      "\n",
      "Positive/Negative:\n",
      "abs(a): 1\n",
      "neg(a): 1\n",
      "neg(b): -5.0\n",
      "pos(a): -1\n",
      "pos(b): 5.0\n",
      "\n",
      "Arithmetic:\n",
      "add(a, b)     : 4.0\n",
      "floordiv(a, b): -1.0\n",
      "floordiv(d, c): 3\n",
      "mod(a, b)     : 4.0\n",
      "mul(a, b)     : -5.0\n",
      "pow(c, d)     : 64\n",
      "sub(b, a)     : 6.0\n",
      "truediv(a, b) : -0.2\n",
      "truediv(d, c) : 3.0\n",
      "\n",
      "Bitwise:\n",
      "and_(c, d)  : 2\n",
      "invert(c)   : -3\n",
      "lshift(c, d): 128\n",
      "or_(c, d)   : 6\n",
      "rshift(d, c): 1\n",
      "xor(c, d)   : 4\n"
     ]
    }
   ],
   "source": [
    "# operator_math.py\n",
    "from operator import *\n",
    "\n",
    "a = -1\n",
    "b = 5.0\n",
    "c = 2\n",
    "d = 6\n",
    "\n",
    "print('a =', a)\n",
    "print('b =', b)\n",
    "print('c =', c)\n",
    "print('d =', d)\n",
    "\n",
    "print('\\nPositive/Negative:')\n",
    "print('abs(a):', abs(a))\n",
    "print('neg(a):', neg(a))\n",
    "print('neg(b):', neg(b))\n",
    "print('pos(a):', pos(a))\n",
    "print('pos(b):', pos(b))\n",
    "\n",
    "print('\\nArithmetic:')\n",
    "print('add(a, b)     :', add(a, b))\n",
    "print('floordiv(a, b):', floordiv(a, b))\n",
    "print('floordiv(d, c):', floordiv(d, c))\n",
    "print('mod(a, b)     :', mod(a, b))\n",
    "print('mul(a, b)     :', mul(a, b))\n",
    "print('pow(c, d)     :', pow(c, d))\n",
    "print('sub(b, a)     :', sub(b, a))\n",
    "print('truediv(a, b) :', truediv(a, b))\n",
    "print('truediv(d, c) :', truediv(d, c))\n",
    "\n",
    "print('\\nBitwise:')\n",
    "print('and_(c, d)  :', and_(c, d))\n",
    "print('invert(c)   :', invert(c))\n",
    "print('lshift(c, d):', lshift(c, d))\n",
    "print('or_(c, d)   :', or_(c, d))\n",
    "print('rshift(d, c):', rshift(d, c))\n",
    "print('xor(c, d)   :', xor(c, d))"
   ]
  },
  {
   "cell_type": "markdown",
   "metadata": {},
   "source": [
    "### Sequence Operators\n",
    "\n",
    "The operators for working with sequences can be divided into four groups: building up sequences, searching for items, accessing contents, and removing items from sequences.\n",
    "\n",
    "Some of these operations, such as setitem() and delitem(), modify the sequence in place and do not return a value."
   ]
  },
  {
   "cell_type": "code",
   "execution_count": 4,
   "metadata": {
    "collapsed": false
   },
   "outputs": [
    {
     "name": "stdout",
     "output_type": "stream",
     "text": [
      "a = [1, 2, 3]\n",
      "b = ['a', 'b', 'c']\n",
      "\n",
      "Constructive:\n",
      "  concat(a, b): [1, 2, 3, 'a', 'b', 'c']\n",
      "\n",
      "Searching:\n",
      "  contains(a, 1)  : True\n",
      "  contains(b, \"d\"): False\n",
      "  countOf(a, 1)   : 1\n",
      "  countOf(b, \"d\") : 0\n",
      "  indexOf(a, 5)   : 0\n",
      "\n",
      "Access Items:\n",
      "  getitem(b, 1)                  : b\n",
      "  getitem(b, slice(1, 3))        : ['b', 'c']\n",
      "  setitem(b, 1, \"d\")             : ['a', 'd', 'c']\n",
      "  setitem(a, slice(1, 3), [4, 5]): [1, 4, 5]\n",
      "\n",
      "Destructive:\n",
      "  delitem(b, 1)          : ['a', 'c']\n",
      "  delitem(a, slice(1, 3)): [1]\n"
     ]
    }
   ],
   "source": [
    "# operator_sequences.py\n",
    "from operator import *\n",
    "\n",
    "a = [1, 2, 3]\n",
    "b = ['a', 'b', 'c']\n",
    "\n",
    "print('a =', a)\n",
    "print('b =', b)\n",
    "\n",
    "print('\\nConstructive:')\n",
    "print('  concat(a, b):', concat(a, b))\n",
    "\n",
    "print('\\nSearching:')\n",
    "print('  contains(a, 1)  :', contains(a, 1))\n",
    "print('  contains(b, \"d\"):', contains(b, \"d\"))\n",
    "print('  countOf(a, 1)   :', countOf(a, 1))\n",
    "print('  countOf(b, \"d\") :', countOf(b, \"d\"))\n",
    "print('  indexOf(a, 5)   :', indexOf(a, 1))\n",
    "\n",
    "print('\\nAccess Items:')\n",
    "print('  getitem(b, 1)                  :',\n",
    "      getitem(b, 1))\n",
    "print('  getitem(b, slice(1, 3))        :',\n",
    "      getitem(b, slice(1, 3)))\n",
    "print('  setitem(b, 1, \"d\")             :', end=' ')\n",
    "setitem(b, 1, \"d\")\n",
    "print(b)\n",
    "print('  setitem(a, slice(1, 3), [4, 5]):', end=' ')\n",
    "setitem(a, slice(1, 3), [4, 5])\n",
    "print(a)\n",
    "\n",
    "print('\\nDestructive:')\n",
    "print('  delitem(b, 1)          :', end=' ')\n",
    "delitem(b, 1)\n",
    "print(b)\n",
    "print('  delitem(a, slice(1, 3)):', end=' ')\n",
    "delitem(a, slice(1, 3))\n",
    "print(a)"
   ]
  },
  {
   "cell_type": "markdown",
   "metadata": {},
   "source": [
    "### In-place Operators\n",
    "\n",
    "In addition to the standard operators, many types of objects support “in-place” modification through special operators such as +=. There are equivalent functions for in-place modifications, too:\n",
    "\n",
    "These examples only demonstrate a few of the functions. Refer to the standard library documentation for complete details."
   ]
  },
  {
   "cell_type": "code",
   "execution_count": 5,
   "metadata": {
    "collapsed": false
   },
   "outputs": [
    {
     "name": "stdout",
     "output_type": "stream",
     "text": [
      "a = -1\n",
      "b = 5.0\n",
      "c = [1, 2, 3]\n",
      "d = ['a', 'b', 'c']\n",
      "\n",
      "a = iadd(a, b) => a =  4.0\n",
      "\n",
      "c = iconcat(c, d) => c =  [1, 2, 3, 'a', 'b', 'c']\n"
     ]
    }
   ],
   "source": [
    "# operator_inplace.py\n",
    "from operator import *\n",
    "\n",
    "a = -1\n",
    "b = 5.0\n",
    "c = [1, 2, 3]\n",
    "d = ['a', 'b', 'c']\n",
    "print('a =', a)\n",
    "print('b =', b)\n",
    "print('c =', c)\n",
    "print('d =', d)\n",
    "print()\n",
    "\n",
    "a = iadd(a, b)\n",
    "print('a = iadd(a, b) => a = ', a)\n",
    "print()\n",
    "\n",
    "c = iconcat(c, d)\n",
    "print('c = iconcat(c, d) => c = ', c)"
   ]
  },
  {
   "cell_type": "markdown",
   "metadata": {},
   "source": [
    "### Attribute and Item “Getters”\n",
    "\n",
    "One of the most unusual features of the operator module is the concept of getters. These are callable objects constructed at runtime to retrieve attributes of objects or contents from sequences. Getters are especially useful when working with iterators or generator sequences, where they are intended to incur less overhead than a lambda or Python function.\n",
    "\n",
    "Attribute getters work like lambda x, n='attrname': getattr(x, n):"
   ]
  },
  {
   "cell_type": "code",
   "execution_count": 6,
   "metadata": {
    "collapsed": false
   },
   "outputs": [
    {
     "name": "stdout",
     "output_type": "stream",
     "text": [
      "objects   : [MyObj(0), MyObj(1), MyObj(2), MyObj(3), MyObj(4)]\n",
      "arg values: [0, 1, 2, 3, 4]\n",
      "reversed  : [MyObj(4), MyObj(3), MyObj(2), MyObj(1), MyObj(0)]\n",
      "sorted    : [MyObj(0), MyObj(1), MyObj(2), MyObj(3), MyObj(4)]\n"
     ]
    }
   ],
   "source": [
    "# operator_attrgetter.py\n",
    "from operator import *\n",
    "\n",
    "\n",
    "class MyObj:\n",
    "    \"\"\"example class for attrgetter\"\"\"\n",
    "\n",
    "    def __init__(self, arg):\n",
    "        super().__init__()\n",
    "        self.arg = arg\n",
    "\n",
    "    def __repr__(self):\n",
    "        return 'MyObj({})'.format(self.arg)\n",
    "\n",
    "\n",
    "l = [MyObj(i) for i in range(5)]\n",
    "print('objects   :', l)\n",
    "\n",
    "# Extract the 'arg' value from each object\n",
    "g = attrgetter('arg')\n",
    "vals = [g(i) for i in l]\n",
    "print('arg values:', vals)\n",
    "\n",
    "# Sort using arg\n",
    "l.reverse()\n",
    "print('reversed  :', l)\n",
    "print('sorted    :', sorted(l, key=g))\n"
   ]
  },
  {
   "cell_type": "markdown",
   "metadata": {},
   "source": [
    "Item getters work like lambda x, y=5: x[y]\n",
    "\n",
    "Item getters work with mappings as well as sequences."
   ]
  },
  {
   "cell_type": "code",
   "execution_count": 7,
   "metadata": {
    "collapsed": false
   },
   "outputs": [
    {
     "name": "stdout",
     "output_type": "stream",
     "text": [
      "Dictionaries:\n",
      " original: [{'val': 0}, {'val': -1}, {'val': -2}, {'val': -3}]\n",
      "   values: [0, -1, -2, -3]\n",
      "   sorted: [{'val': -3}, {'val': -2}, {'val': -1}, {'val': 0}]\n",
      "\n",
      "Tuples:\n",
      " original: [(0, 0), (1, -2), (2, -4), (3, -6)]\n",
      "   values: [0, -2, -4, -6]\n",
      "   sorted: [(3, -6), (2, -4), (1, -2), (0, 0)]\n"
     ]
    }
   ],
   "source": [
    "# operator_itemgetter.py\n",
    "from operator import *\n",
    "\n",
    "l = [dict(val=-1 * i) for i in range(4)]\n",
    "print('Dictionaries:')\n",
    "print(' original:', l)\n",
    "g = itemgetter('val')\n",
    "vals = [g(i) for i in l]\n",
    "print('   values:', vals)\n",
    "print('   sorted:', sorted(l, key=g))\n",
    "\n",
    "print\n",
    "l = [(i, i * -2) for i in range(4)]\n",
    "\n",
    "print('\\nTuples:')\n",
    "print(' original:', l)\n",
    "g = itemgetter(1)\n",
    "vals = [g(i) for i in l]\n",
    "print('   values:', vals)\n",
    "print('   sorted:', sorted(l, key=g))"
   ]
  },
  {
   "cell_type": "markdown",
   "metadata": {},
   "source": [
    "### Combining Operators and Custom Classes\n",
    "\n",
    "The functions in the operator module work via the standard Python interfaces for their operations, so they work with user-defined classes as well as the built-in types.\n",
    "\n",
    "Refer to the Python reference guide for a complete list of the special methods used by each operator."
   ]
  },
  {
   "cell_type": "code",
   "execution_count": 8,
   "metadata": {
    "collapsed": false
   },
   "outputs": [
    {
     "name": "stdout",
     "output_type": "stream",
     "text": [
      "Comparison:\n",
      "Testing MyObj(1) < MyObj(2)\n",
      "True\n",
      "\n",
      "Arithmetic:\n",
      "Adding MyObj(1) + MyObj(2)\n",
      "MyObj(3)\n"
     ]
    }
   ],
   "source": [
    "# operator_classes.py\n",
    "from operator import *\n",
    "\n",
    "\n",
    "class MyObj:\n",
    "    \"\"\"Example for operator overloading\"\"\"\n",
    "\n",
    "    def __init__(self, val):\n",
    "        super(MyObj, self).__init__()\n",
    "        self.val = val\n",
    "\n",
    "    def __str__(self):\n",
    "        return 'MyObj({})'.format(self.val)\n",
    "\n",
    "    def __lt__(self, other):\n",
    "        \"\"\"compare for less-than\"\"\"\n",
    "        print('Testing {} < {}'.format(self, other))\n",
    "        return self.val < other.val\n",
    "\n",
    "    def __add__(self, other):\n",
    "        \"\"\"add values\"\"\"\n",
    "        print('Adding {} + {}'.format(self, other))\n",
    "        return MyObj(self.val + other.val)\n",
    "\n",
    "\n",
    "a = MyObj(1)\n",
    "b = MyObj(2)\n",
    "\n",
    "print('Comparison:')\n",
    "print(lt(a, b))\n",
    "\n",
    "print('\\nArithmetic:')\n",
    "print(add(a, b))"
   ]
  }
 ],
 "metadata": {
  "kernelspec": {
   "display_name": "Python 3",
   "language": "python",
   "name": "python3"
  },
  "language_info": {
   "codemirror_mode": {
    "name": "ipython",
    "version": 3
   },
   "file_extension": ".py",
   "mimetype": "text/x-python",
   "name": "python",
   "nbconvert_exporter": "python",
   "pygments_lexer": "ipython3",
   "version": "3.5.2"
  }
 },
 "nbformat": 4,
 "nbformat_minor": 2
}
