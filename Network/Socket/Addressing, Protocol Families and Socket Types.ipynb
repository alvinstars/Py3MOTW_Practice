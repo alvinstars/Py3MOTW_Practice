{
 "cells": [
  {
   "cell_type": "markdown",
   "metadata": {},
   "source": [
    "# Addressing, Protocol Families and Socket Types\n",
    "\n",
    "A socket is one endpoint of a communication channel used by programs to pass data back and forth locally or across the Internet. Sockets have two primary properties controlling the way they send data: the address family controls the OSI network layer protocol used and the socket type controls the transport layer protocol.\n",
    "\n",
    "Python supports three address families. The most common, AF_INET, is used for IPv4 Internet addressing. IPv4 addresses are four bytes long and are usually represented as a sequence of four numbers, one per octet, separated by dots (e.g., 10.1.1.5 and 127.0.0.1). These values are more commonly referred to as “IP addresses.” Almost all Internet networking is done using IP version 4 at this time.\n",
    "\n",
    "AF_INET6 is used for IPv6 Internet addressing. IPv6 is the “next generation” version of the Internet protocol, and supports 128-bit addresses, traffic shaping, and routing features not available under IPv4. Adoption of IPv6 continues to grow, especially with the proliferation of cloud computing and the extra devices being added to the network because of Internet-of-things projects.\n",
    "\n",
    "AF_UNIX is the address family for Unix Domain Sockets (UDS), an inter-process communication protocol available on POSIX-compliant systems. The implementation of UDS typically allows the operating system to pass data directly from process to process, without going through the network stack. This is more efficient than using AF_INET, but because the file system is used as the namespace for addressing, UDS is restricted to processes on the same system. The appeal of using UDS over other IPC mechanisms such as named pipes or shared memory is that the programming interface is the same as for IP networking, so the application can take advantage of efficient communication when running on a single host, but use the same code when sending data across the network.\n",
    "\n"
   ]
  },
  {
   "cell_type": "markdown",
   "metadata": {},
   "source": [
    "#### Note\n",
    "The AF_UNIX constant is only defined on systems where UDS is supported."
   ]
  },
  {
   "cell_type": "markdown",
   "metadata": {},
   "source": [
    "The socket type is usually either SOCK_DGRAM for message-oriented datagram transport or SOCK_STREAM for stream-oriented transport. Datagram sockets are most often associated with UDP, the user datagram protocol. They provide unreliable delivery of individual messages. Stream-oriented sockets are associated with TCP, transmission control protocol. They provide byte streams between the client and server, ensuring message delivery or failure notification through timeout management, retransmission, and other features.\n",
    "\n",
    "Most application protocols that deliver a large amount of data, such as HTTP, are built on top of TCP because it makes it simpler to create complex applications when message ordering and delivery is handled automatically. UDP is commonly used for protocols where order is less important (since the messages are self-contained and often small, such as name look-ups via DNS), or for multicasting (sending the same data to several hosts). Both UDP and TCP can be used with either IPv4 or IPv6 addressing."
   ]
  },
  {
   "cell_type": "markdown",
   "metadata": {},
   "source": [
    "#### Note\n",
    "Python’s socket module supports other socket types but they are less commonly used, so are not covered here. Refer to the standard library documentation for more details."
   ]
  },
  {
   "cell_type": "markdown",
   "metadata": {},
   "source": [
    "## Looking up Hosts on the Network\n",
    "\n",
    "socket includes functions to interface with the domain name services on the network so a program can convert the host name of a server into its numerical network address. Applications do not need to convert addresses explicitly before using them to connect to a server, but it can be useful when reporting errors to include the numerical address as well as the name value being used.\n",
    "\n",
    "To find the official name of the current host, use gethostname().\n",
    "\n",
    "The name returned will depend on the network settings for the current system, and may change if it is on a different network (such as a laptop attached to a wireless LAN)."
   ]
  },
  {
   "cell_type": "code",
   "execution_count": 1,
   "metadata": {
    "collapsed": false
   },
   "outputs": [
    {
     "name": "stdout",
     "output_type": "stream",
     "text": [
      "MementoMori\n"
     ]
    }
   ],
   "source": [
    "# socket_gethostname.py\n",
    "import socket\n",
    "\n",
    "print(socket.gethostname())"
   ]
  },
  {
   "cell_type": "markdown",
   "metadata": {},
   "source": [
    "Use gethostbyname() to consult the operating system hostname resolution API and convert the name of a server to its numerical address.\n",
    "\n",
    "If the DNS configuration of the current system includes one or more domains in the search, the name argument does not need to be a fully qualified name (i.e., it does not need to include the domain name as well as the base hostname). If the name cannot be found, an exception of type socket.error is raised."
   ]
  },
  {
   "cell_type": "code",
   "execution_count": 2,
   "metadata": {
    "collapsed": false
   },
   "outputs": [
    {
     "name": "stdout",
     "output_type": "stream",
     "text": [
      "localhost : 127.0.0.1\n",
      "pymotw.com : 66.33.211.242\n",
      "www.python.org : 151.101.192.223\n",
      "nosuchname : [Errno 8] nodename nor servname provided, or not known\n"
     ]
    }
   ],
   "source": [
    "# socket_gethostbyname.py\n",
    "import socket\n",
    "\n",
    "HOSTS = [\n",
    "    'localhost',\n",
    "    'pymotw.com',\n",
    "    'www.python.org',\n",
    "    'nosuchname',\n",
    "]\n",
    "\n",
    "for host in HOSTS:\n",
    "    try:\n",
    "        print('{} : {}'.format(host, socket.gethostbyname(host)))\n",
    "    except socket.error as msg:\n",
    "        print('{} : {}'.format(host, msg))\n"
   ]
  },
  {
   "cell_type": "markdown",
   "metadata": {},
   "source": [
    "For access to more naming information about a server, use gethostbyname_ex(). It returns the canonical hostname of the server, any aliases, and all of the available IP addresses that can be used to reach it.\n",
    "\n",
    "Having all known IP addresses for a server lets a client implement its own load balancing or fail-over algorithms."
   ]
  },
  {
   "cell_type": "code",
   "execution_count": 3,
   "metadata": {
    "collapsed": false
   },
   "outputs": [
    {
     "name": "stdout",
     "output_type": "stream",
     "text": [
      "localhost\n",
      "  Hostname: localhost\n",
      "  Aliases : []\n",
      " Addresses: ['127.0.0.1']\n",
      "\n",
      "pymotw.com\n",
      "  Hostname: pymotw.com\n",
      "  Aliases : []\n",
      " Addresses: ['66.33.211.242']\n",
      "\n",
      "www.python.org\n",
      "  Hostname: python.map.fastly.net\n",
      "  Aliases : ['www.python.org']\n",
      " Addresses: ['151.101.0.223', '151.101.64.223', '151.101.128.223', '151.101.192.223']\n",
      "\n",
      "nosuchname\n",
      "ERROR: [Errno 8] nodename nor servname provided, or not known\n",
      "\n"
     ]
    }
   ],
   "source": [
    "# socket_gethostbyname_ex.py\n",
    "import socket\n",
    "\n",
    "HOSTS = [\n",
    "    'localhost',\n",
    "    'pymotw.com',\n",
    "    'www.python.org',\n",
    "    'nosuchname',\n",
    "]\n",
    "\n",
    "for host in HOSTS:\n",
    "    print(host)\n",
    "    try:\n",
    "        name, aliases, addresses = socket.gethostbyname_ex(host)\n",
    "        print('  Hostname:', name)\n",
    "        print('  Aliases :', aliases)\n",
    "        print(' Addresses:', addresses)\n",
    "    except socket.error as msg:\n",
    "        print('ERROR:', msg)\n",
    "    print()"
   ]
  },
  {
   "cell_type": "markdown",
   "metadata": {},
   "source": [
    "Use getfqdn() to convert a partial name to a fully qualified domain name.\n",
    "\n",
    "The name returned will not necessarily match the input argument in any way if the input is an alias, such as www is here."
   ]
  },
  {
   "cell_type": "code",
   "execution_count": 4,
   "metadata": {
    "collapsed": false
   },
   "outputs": [
    {
     "name": "stdout",
     "output_type": "stream",
     "text": [
      " localhost : 1.0.0.0.0.0.0.0.0.0.0.0.0.0.0.0.0.0.0.0.0.0.0.0.0.0.0.0.0.0.0.0.ip6.arpa\n",
      "pymotw.com : apache2-zoo.george-washington.dreamhost.com\n",
      "google.com : lga34s13-in-f14.1e100.net\n"
     ]
    }
   ],
   "source": [
    "# socket_getfqdn.py\n",
    "import socket\n",
    "\n",
    "for host in ['localhost', 'pymotw.com','google.com']:\n",
    "    print('{:>10} : {}'.format(host, socket.getfqdn(host)))"
   ]
  },
  {
   "cell_type": "markdown",
   "metadata": {},
   "source": [
    "When the address of a server is available, use gethostbyaddr() to do a “reverse” lookup for the name.\n",
    "\n",
    "The return value is a tuple containing the full hostname, any aliases, and all IP addresses associated with the name."
   ]
  },
  {
   "cell_type": "code",
   "execution_count": 5,
   "metadata": {
    "collapsed": false
   },
   "outputs": [
    {
     "name": "stdout",
     "output_type": "stream",
     "text": [
      "Hostname : localhost\n",
      "Aliases  : ['1.0.0.127.in-addr.arpa']\n",
      "Addresses: ['127.0.0.1']\n"
     ]
    }
   ],
   "source": [
    "# socket_gethostbyaddr.py\n",
    "import socket\n",
    "\n",
    "hostname, aliases, addresses = socket.gethostbyaddr('127.0.0.1')\n",
    "\n",
    "print('Hostname :', hostname)\n",
    "print('Aliases  :', aliases)\n",
    "print('Addresses:', addresses)"
   ]
  },
  {
   "cell_type": "markdown",
   "metadata": {},
   "source": [
    "## Finding Service Information\n",
    "\n",
    "In addition to an IP address, each socket address includes an integer port number. Many applications can run on the same host, listening on a single IP address, but only one socket at a time can use a port at that address. The combination of IP address, protocol, and port number uniquely identify a communication channel and ensure that messages sent through a socket arrive at the correct destination.\n",
    "\n",
    "Some of the port numbers are pre-allocated for a specific protocol. For example, communication between email servers using SMTP occurs over port number 25 using TCP, and web clients and servers use port 80 for HTTP. The port numbers for network services with standardized names can be looked up with getservbyname().\n",
    "\n",
    "Although a standardized service is unlikely to change ports, looking up the value with a system call instead of hard-coding it is more flexible when new services are added in the future."
   ]
  },
  {
   "cell_type": "code",
   "execution_count": 6,
   "metadata": {
    "collapsed": false
   },
   "outputs": [
    {
     "name": "stdout",
     "output_type": "stream",
     "text": [
      "http://www.python.org          --  http     : 80\n",
      "https://www.mybank.com         --  https    : 443\n",
      "ftp://prep.ai.mit.edu          --  ftp      : 21\n",
      "gopher://gopher.micro.umn.edu  --  gopher   : 70\n",
      "smtp://mail.example.com        --  smtp     : 25\n",
      "imap://mail.example.com        --  imap     : 143\n",
      "imaps://mail.example.com       --  imaps    : 993\n",
      "pop3://pop.example.com         --  pop3     : 110\n",
      "pop3s://pop.example.com        --  pop3s    : 995\n"
     ]
    }
   ],
   "source": [
    "# socket_getservbyname.py\n",
    "import socket\n",
    "from urllib.parse import urlparse\n",
    "\n",
    "URLS = [\n",
    "    'http://www.python.org',\n",
    "    'https://www.mybank.com',\n",
    "    'ftp://prep.ai.mit.edu',\n",
    "    'gopher://gopher.micro.umn.edu',\n",
    "    'smtp://mail.example.com',\n",
    "    'imap://mail.example.com',\n",
    "    'imaps://mail.example.com',\n",
    "    'pop3://pop.example.com',\n",
    "    'pop3s://pop.example.com',\n",
    "]\n",
    "\n",
    "for url in URLS:\n",
    "    parsed_url = urlparse(url)\n",
    "    port = socket.getservbyname(parsed_url.scheme)\n",
    "    print('{:<30} --  {:<8} : {}'.format(url, parsed_url.scheme, port))"
   ]
  },
  {
   "cell_type": "markdown",
   "metadata": {},
   "source": [
    "To reverse the service port lookup, use getservbyport().\n",
    "\n",
    "The reverse lookup is useful for constructing URLs to services from arbitrary addresses."
   ]
  },
  {
   "cell_type": "code",
   "execution_count": 7,
   "metadata": {
    "collapsed": false
   },
   "outputs": [
    {
     "name": "stdout",
     "output_type": "stream",
     "text": [
      "http://example.com/\n",
      "https://example.com/\n",
      "ftp://example.com/\n",
      "gopher://example.com/\n",
      "smtp://example.com/\n",
      "imap://example.com/\n",
      "imaps://example.com/\n",
      "pop3://example.com/\n",
      "pop3s://example.com/\n"
     ]
    }
   ],
   "source": [
    "# socket_getservbyport.py\n",
    "import socket\n",
    "from urllib.parse import urlunparse\n",
    "\n",
    "for port in [80, 443, 21, 70, 25, 143, 993, 110, 995]:\n",
    "    url = '{}://example.com/'.format(socket.getservbyport(port))\n",
    "    print(url)"
   ]
  },
  {
   "cell_type": "markdown",
   "metadata": {},
   "source": [
    "The number assigned to a transport protocol can be retrieved with getprotobyname().\n",
    "\n",
    "The values for protocol numbers are standardized, and defined as constants in socket with the prefix IPPROTO_."
   ]
  },
  {
   "cell_type": "code",
   "execution_count": 8,
   "metadata": {
    "collapsed": false
   },
   "outputs": [
    {
     "name": "stdout",
     "output_type": "stream",
     "text": [
      "icmp ->  1 (socket.IPPROTO_ICMP =  1)\n",
      " udp -> 17 (socket.IPPROTO_UDP  = 17)\n",
      " tcp ->  6 (socket.IPPROTO_TCP  =  6)\n"
     ]
    }
   ],
   "source": [
    "# socket_getprotobyname.py\n",
    "import socket\n",
    "\n",
    "\n",
    "def get_constants(prefix):\n",
    "    \"\"\"Create a dictionary mapping socket module\n",
    "    constants to their names.\n",
    "    \"\"\"\n",
    "    return {\n",
    "        getattr(socket, n): n\n",
    "        for n in dir(socket)\n",
    "        if n.startswith(prefix)\n",
    "    }\n",
    "\n",
    "\n",
    "protocols = get_constants('IPPROTO_')\n",
    "\n",
    "for name in ['icmp', 'udp', 'tcp']:\n",
    "    proto_num = socket.getprotobyname(name)\n",
    "    const_name = protocols[proto_num]\n",
    "    print('{:>4} -> {:2d} (socket.{:<12} = {:2d})'.format(\n",
    "        name, proto_num, const_name,\n",
    "        getattr(socket, const_name)))"
   ]
  },
  {
   "cell_type": "markdown",
   "metadata": {},
   "source": [
    "## Looking Up Server Addresses\n",
    "\n",
    "getaddrinfo() converts the basic address of a service into a list of tuples with all of the information necessary to make a connection. The contents of each tuple will vary, containing different network families or protocols."
   ]
  },
  {
   "cell_type": "code",
   "execution_count": 9,
   "metadata": {
    "collapsed": false
   },
   "outputs": [
    {
     "name": "stdout",
     "output_type": "stream",
     "text": [
      "Family        : AF_INET\n",
      "Type          : SOCK_STREAM\n",
      "Protocol      : IPPROTO_TCP\n",
      "Canonical name: \n",
      "Socket address: ('151.101.192.223', 80)\n",
      "\n",
      "Family        : AF_INET\n",
      "Type          : SOCK_DGRAM\n",
      "Protocol      : IPPROTO_UDP\n",
      "Canonical name: \n",
      "Socket address: ('151.101.0.223', 80)\n",
      "\n",
      "Family        : AF_INET\n",
      "Type          : SOCK_STREAM\n",
      "Protocol      : IPPROTO_TCP\n",
      "Canonical name: \n",
      "Socket address: ('151.101.0.223', 80)\n",
      "\n",
      "Family        : AF_INET\n",
      "Type          : SOCK_DGRAM\n",
      "Protocol      : IPPROTO_UDP\n",
      "Canonical name: \n",
      "Socket address: ('151.101.64.223', 80)\n",
      "\n",
      "Family        : AF_INET\n",
      "Type          : SOCK_STREAM\n",
      "Protocol      : IPPROTO_TCP\n",
      "Canonical name: \n",
      "Socket address: ('151.101.64.223', 80)\n",
      "\n",
      "Family        : AF_INET\n",
      "Type          : SOCK_DGRAM\n",
      "Protocol      : IPPROTO_UDP\n",
      "Canonical name: \n",
      "Socket address: ('151.101.128.223', 80)\n",
      "\n",
      "Family        : AF_INET\n",
      "Type          : SOCK_STREAM\n",
      "Protocol      : IPPROTO_TCP\n",
      "Canonical name: \n",
      "Socket address: ('151.101.128.223', 80)\n",
      "\n",
      "Family        : AF_INET\n",
      "Type          : SOCK_DGRAM\n",
      "Protocol      : IPPROTO_UDP\n",
      "Canonical name: \n",
      "Socket address: ('151.101.192.223', 80)\n",
      "\n",
      "Family        : AF_INET6\n",
      "Type          : SOCK_STREAM\n",
      "Protocol      : IPPROTO_TCP\n",
      "Canonical name: \n",
      "Socket address: ('2a04:4e42:600::223', 80, 0, 0)\n",
      "\n",
      "Family        : AF_INET6\n",
      "Type          : SOCK_STREAM\n",
      "Protocol      : IPPROTO_TCP\n",
      "Canonical name: \n",
      "Socket address: ('2a04:4e42::223', 80, 0, 0)\n",
      "\n",
      "Family        : AF_INET6\n",
      "Type          : SOCK_DGRAM\n",
      "Protocol      : IPPROTO_UDP\n",
      "Canonical name: \n",
      "Socket address: ('2a04:4e42:200::223', 80, 0, 0)\n",
      "\n",
      "Family        : AF_INET6\n",
      "Type          : SOCK_STREAM\n",
      "Protocol      : IPPROTO_TCP\n",
      "Canonical name: \n",
      "Socket address: ('2a04:4e42:200::223', 80, 0, 0)\n",
      "\n",
      "Family        : AF_INET6\n",
      "Type          : SOCK_DGRAM\n",
      "Protocol      : IPPROTO_UDP\n",
      "Canonical name: \n",
      "Socket address: ('2a04:4e42:400::223', 80, 0, 0)\n",
      "\n",
      "Family        : AF_INET6\n",
      "Type          : SOCK_STREAM\n",
      "Protocol      : IPPROTO_TCP\n",
      "Canonical name: \n",
      "Socket address: ('2a04:4e42:400::223', 80, 0, 0)\n",
      "\n",
      "Family        : AF_INET6\n",
      "Type          : SOCK_DGRAM\n",
      "Protocol      : IPPROTO_UDP\n",
      "Canonical name: \n",
      "Socket address: ('2a04:4e42:600::223', 80, 0, 0)\n",
      "\n",
      "Family        : AF_INET6\n",
      "Type          : SOCK_DGRAM\n",
      "Protocol      : IPPROTO_UDP\n",
      "Canonical name: \n",
      "Socket address: ('2a04:4e42::223', 80, 0, 0)\n",
      "\n"
     ]
    }
   ],
   "source": [
    "# socket_getaddrinfo.py\n",
    "import socket\n",
    "\n",
    "\n",
    "def get_constants(prefix):\n",
    "    \"\"\"Create a dictionary mapping socket module\n",
    "    constants to their names.\n",
    "    \"\"\"\n",
    "    return {\n",
    "        getattr(socket, n): n\n",
    "        for n in dir(socket)\n",
    "        if n.startswith(prefix)\n",
    "    }\n",
    "\n",
    "\n",
    "families = get_constants('AF_')\n",
    "types = get_constants('SOCK_')\n",
    "protocols = get_constants('IPPROTO_')\n",
    "\n",
    "for response in socket.getaddrinfo('www.python.org', 'http'):\n",
    "\n",
    "    # Unpack the response tuple\n",
    "    family, socktype, proto, canonname, sockaddr = response\n",
    "\n",
    "    print('Family        :', families[family])\n",
    "    print('Type          :', types[socktype])\n",
    "    print('Protocol      :', protocols[proto])\n",
    "    print('Canonical name:', canonname)\n",
    "    print('Socket address:', sockaddr)\n",
    "    print()"
   ]
  },
  {
   "cell_type": "markdown",
   "metadata": {},
   "source": [
    "getaddrinfo() takes several arguments for filtering the result list. The host and port values given in the example are required arguments. The optional arguments are family, socktype, proto, and flags. The optional values should be either 0 or one of the constants defined by socket.\n",
    "\n",
    "Since flags includes AI_CANONNAME, the canonical name of the server, which may be different from the value used for the lookup if the host has any aliases, is included in the results this time. Without the flag, the canonical name value is left empty."
   ]
  },
  {
   "cell_type": "code",
   "execution_count": 10,
   "metadata": {
    "collapsed": false
   },
   "outputs": [
    {
     "name": "stdout",
     "output_type": "stream",
     "text": [
      "Family        : AF_INET\n",
      "Type          : SOCK_STREAM\n",
      "Protocol      : IPPROTO_TCP\n",
      "Canonical name: python.map.fastly.net\n",
      "Socket address: ('151.101.0.223', 80)\n",
      "\n",
      "Family        : AF_INET\n",
      "Type          : SOCK_STREAM\n",
      "Protocol      : IPPROTO_TCP\n",
      "Canonical name: python.map.fastly.net\n",
      "Socket address: ('151.101.64.223', 80)\n",
      "\n",
      "Family        : AF_INET\n",
      "Type          : SOCK_STREAM\n",
      "Protocol      : IPPROTO_TCP\n",
      "Canonical name: python.map.fastly.net\n",
      "Socket address: ('151.101.128.223', 80)\n",
      "\n",
      "Family        : AF_INET\n",
      "Type          : SOCK_STREAM\n",
      "Protocol      : IPPROTO_TCP\n",
      "Canonical name: python.map.fastly.net\n",
      "Socket address: ('151.101.192.223', 80)\n",
      "\n"
     ]
    }
   ],
   "source": [
    "# socket_getaddrinfo_extra_args.py\n",
    "import socket\n",
    "\n",
    "\n",
    "def get_constants(prefix):\n",
    "    \"\"\"Create a dictionary mapping socket module\n",
    "    constants to their names.\n",
    "    \"\"\"\n",
    "    return {\n",
    "        getattr(socket, n): n\n",
    "        for n in dir(socket)\n",
    "        if n.startswith(prefix)\n",
    "    }\n",
    "\n",
    "\n",
    "families = get_constants('AF_')\n",
    "types = get_constants('SOCK_')\n",
    "protocols = get_constants('IPPROTO_')\n",
    "\n",
    "responses = socket.getaddrinfo(\n",
    "    host='www.python.org',\n",
    "    port='http',\n",
    "    family=socket.AF_INET,\n",
    "    type=socket.SOCK_STREAM,\n",
    "    proto=socket.IPPROTO_TCP,\n",
    "    flags=socket.AI_CANONNAME,\n",
    ")\n",
    "\n",
    "for response in responses:\n",
    "    # Unpack the response tuple\n",
    "    family, socktype, proto, canonname, sockaddr = response\n",
    "\n",
    "    print('Family        :', families[family])\n",
    "    print('Type          :', types[socktype])\n",
    "    print('Protocol      :', protocols[proto])\n",
    "    print('Canonical name:', canonname)\n",
    "    print('Socket address:', sockaddr)\n",
    "    print()"
   ]
  },
  {
   "cell_type": "markdown",
   "metadata": {},
   "source": [
    "## IP Address Representations\n",
    "\n",
    "Network programs written in C use the data type struct sockaddr to represent IP addresses as binary values (instead of the string addresses usually found in Python programs). To convert IPv4 addresses between the Python representation and the C representation, use inet_aton() and inet_ntoa().\n",
    "\n",
    "The four bytes in the packed format can be passed to C libraries, transmitted safely over the network, or saved to a database compactly."
   ]
  },
  {
   "cell_type": "code",
   "execution_count": 11,
   "metadata": {
    "collapsed": false
   },
   "outputs": [
    {
     "name": "stdout",
     "output_type": "stream",
     "text": [
      "Original: 192.168.1.1\n",
      "Packed  : b'c0a80101'\n",
      "Unpacked: 192.168.1.1\n",
      "\n",
      "Original: 127.0.0.1\n",
      "Packed  : b'7f000001'\n",
      "Unpacked: 127.0.0.1\n",
      "\n"
     ]
    }
   ],
   "source": [
    "# socket_address_packing.py\n",
    "import binascii\n",
    "import socket\n",
    "import struct\n",
    "import sys\n",
    "\n",
    "for string_address in ['192.168.1.1', '127.0.0.1']:\n",
    "    packed = socket.inet_aton(string_address)\n",
    "    print('Original:', string_address)\n",
    "    print('Packed  :', binascii.hexlify(packed))\n",
    "    print('Unpacked:', socket.inet_ntoa(packed))\n",
    "    print()"
   ]
  },
  {
   "cell_type": "markdown",
   "metadata": {},
   "source": [
    "The related functions inet_pton() and inet_ntop() work with both IPv4 and IPv6 addresses, producing the appropriate format based on the address family parameter passed in.\n",
    "\n",
    "An IPv6 address is already a hexadecimal value, so converting the packed version to a series of hex digits produces a string similar to the original value.\n",
    "\n"
   ]
  },
  {
   "cell_type": "code",
   "execution_count": 12,
   "metadata": {
    "collapsed": false
   },
   "outputs": [
    {
     "name": "stdout",
     "output_type": "stream",
     "text": [
      "Original: 2002:ac10:10a:1234:21e:52ff:fe74:40e\n",
      "Packed  : b'2002ac10010a1234021e52fffe74040e'\n",
      "Unpacked: 2002:ac10:10a:1234:21e:52ff:fe74:40e\n"
     ]
    }
   ],
   "source": [
    "# socket_ipv6_address_packing.py\n",
    "import binascii\n",
    "import socket\n",
    "import struct\n",
    "import sys\n",
    "\n",
    "string_address = '2002:ac10:10a:1234:21e:52ff:fe74:40e'\n",
    "packed = socket.inet_pton(socket.AF_INET6, string_address)\n",
    "\n",
    "print('Original:', string_address)\n",
    "print('Packed  :', binascii.hexlify(packed))\n",
    "print('Unpacked:', socket.inet_ntop(socket.AF_INET6, packed))"
   ]
  }
 ],
 "metadata": {
  "kernelspec": {
   "display_name": "Python 3",
   "language": "python",
   "name": "python3"
  },
  "language_info": {
   "codemirror_mode": {
    "name": "ipython",
    "version": 3
   },
   "file_extension": ".py",
   "mimetype": "text/x-python",
   "name": "python",
   "nbconvert_exporter": "python",
   "pygments_lexer": "ipython3",
   "version": "3.5.2"
  }
 },
 "nbformat": 4,
 "nbformat_minor": 2
}
