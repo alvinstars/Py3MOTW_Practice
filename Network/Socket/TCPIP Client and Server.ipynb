{
 "cells": [
  {
   "cell_type": "markdown",
   "metadata": {},
   "source": [
    "# TCP/IP Client and Server\n",
    "\n",
    "Sockets can be configured to act as a server and listen for incoming messages, or connect to other applications as a client. After both ends of a TCP/IP socket are connected, communication is bi-directional."
   ]
  },
  {
   "cell_type": "markdown",
   "metadata": {},
   "source": [
    "## Echo Server\n",
    "\n",
    "This sample program, based on the one in the standard library documentation, receives incoming messages and echos them back to the sender. It starts by creating a TCP/IP socket, then bind() is used to associate the socket with the server address. In this case, the address is localhost, referring to the current server, and the port number is 10000."
   ]
  },
  {
   "cell_type": "raw",
   "metadata": {},
   "source": [
    "# socket_echo_server.py\n",
    "import socket\n",
    "import sys\n",
    "\n",
    "# Create a TCP/IP socket\n",
    "sock = socket.socket(socket.AF_INET, socket.SOCK_STREAM)\n",
    "\n",
    "# Bind the socket to the port\n",
    "server_address = ('localhost', 10000)\n",
    "print('starting up on {} port {}'.format(*server_address))\n",
    "sock.bind(server_address)\n",
    "\n",
    "# Listen for incoming connections\n",
    "sock.listen(1)\n",
    "\n",
    "while True:\n",
    "    # Wait for a connection\n",
    "    print('waiting for a connection')\n",
    "    connection, client_address = sock.accept()\n",
    "    try:\n",
    "        print('connection from', client_address)\n",
    "\n",
    "        # Receive the data in small chunks and retransmit it\n",
    "        while True:\n",
    "            data = connection.recv(16)\n",
    "            print('received {!r}'.format(data))\n",
    "            if data:\n",
    "                print('sending data back to the client')\n",
    "                connection.sendall(data)\n",
    "            else:\n",
    "                print('no data from', client_address)\n",
    "                break\n",
    "\n",
    "    finally:\n",
    "        # Clean up the connection\n",
    "        connection.close()"
   ]
  },
  {
   "cell_type": "markdown",
   "metadata": {},
   "source": [
    "Calling listen() puts the socket into server mode, and accept() waits for an incoming connection. The integer argument is the number of connections the system should queue up in the background before rejecting new clients. This example only expects to work with one connection at a time.\n",
    "\n",
    "accept() returns an open connection between the server and client, along with the address of the client. The connection is actually a different socket on another port (assigned by the kernel). Data is read from the connection with recv() and transmitted with sendall().\n",
    "\n",
    "When communication with a client is finished, the connection needs to be cleaned up using close(). This example uses a try:finally block to ensure that close() is always called, even in the event of an error."
   ]
  },
  {
   "cell_type": "markdown",
   "metadata": {},
   "source": [
    "## Echo Client¶\n",
    "\n",
    "The client program sets up its socket differently from the way a server does. Instead of binding to a port and listening, it uses connect() to attach the socket directly to the remote address.\n",
    "\n"
   ]
  },
  {
   "cell_type": "raw",
   "metadata": {},
   "source": [
    "# socket_echo_client.py\n",
    "import socket\n",
    "import sys\n",
    "\n",
    "# Create a TCP/IP socket\n",
    "sock = socket.socket(socket.AF_INET, socket.SOCK_STREAM)\n",
    "\n",
    "# Connect the socket to the port where the server is listening\n",
    "server_address = ('localhost', 10000)\n",
    "print('connecting to {} port {}'.format(*server_address))\n",
    "sock.connect(server_address)\n",
    "\n",
    "try:\n",
    "\n",
    "    # Send data\n",
    "    message = b'This is the message.  It will be repeated.'\n",
    "    print('sending {!r}'.format(message))\n",
    "    sock.sendall(message)\n",
    "\n",
    "    # Look for the response\n",
    "    amount_received = 0\n",
    "    amount_expected = len(message)\n",
    "\n",
    "    while amount_received < amount_expected:\n",
    "        data = sock.recv(16)\n",
    "        amount_received += len(data)\n",
    "        print('received {!r}'.format(data))\n",
    "\n",
    "finally:\n",
    "    print('closing socket')\n",
    "    sock.close()"
   ]
  },
  {
   "cell_type": "markdown",
   "metadata": {},
   "source": [
    "After the connection is established, data can be sent through the socket with sendall() and received with recv(), just as in the server. When the entire message is sent and a copy received, the socket is closed to free up the port."
   ]
  },
  {
   "cell_type": "markdown",
   "metadata": {},
   "source": [
    "## Client and Server Together\n",
    "\n",
    "The client and server should be run in separate terminal windows, so they can communicate with each other. The server output shows the incoming connection and data, as well as the response sent back to the client."
   ]
  },
  {
   "cell_type": "raw",
   "metadata": {},
   "source": [
    "➜  Socket git:(master) ✗ python3 socket_echo_server.py\n",
    "starting up on localhost port 10000\n",
    "waiting for a connection\n",
    "connection from ('127.0.0.1', 49809)\n",
    "received b'This is the mess'\n",
    "sending data back to the client\n",
    "received b'age.  It will be'\n",
    "sending data back to the client\n",
    "received b' repeated.'\n",
    "sending data back to the client\n",
    "received b''\n",
    "no data from ('127.0.0.1', 49809)\n",
    "waiting for a connection"
   ]
  },
  {
   "cell_type": "markdown",
   "metadata": {},
   "source": [
    "The client output shows the outgoing message and the response from the server."
   ]
  },
  {
   "cell_type": "code",
   "execution_count": 1,
   "metadata": {
    "collapsed": false
   },
   "outputs": [
    {
     "name": "stdout",
     "output_type": "stream",
     "text": [
      "connecting to localhost port 10000\r\n",
      "sending b'This is the message.  It will be repeated.'\r\n",
      "received b'This is the mess'\r\n",
      "received b'age.  It will be'\r\n",
      "received b' repeated.'\r\n",
      "closing socket\r\n"
     ]
    }
   ],
   "source": [
    "! python3 socket_echo_client.py"
   ]
  },
  {
   "cell_type": "markdown",
   "metadata": {},
   "source": [
    "## Easy Client Connections\n",
    "\n",
    "TCP/IP clients can save a few steps by using the convenience function create_connection() to connect to a server. The function takes one argument, a two-value tuple containing the address of the server, and derives the best address to use for the connection."
   ]
  },
  {
   "cell_type": "raw",
   "metadata": {},
   "source": [
    "# socket_echo_client_easy.py\n",
    "import socket\n",
    "import sys\n",
    "\n",
    "\n",
    "def get_constants(prefix):\n",
    "    \"\"\"Create a dictionary mapping socket module\n",
    "    constants to their names.\n",
    "    \"\"\"\n",
    "    return {\n",
    "        getattr(socket, n): n\n",
    "        for n in dir(socket)\n",
    "        if n.startswith(prefix)\n",
    "    }\n",
    "\n",
    "\n",
    "families = get_constants('AF_')\n",
    "types = get_constants('SOCK_')\n",
    "protocols = get_constants('IPPROTO_')\n",
    "\n",
    "# Create a TCP/IP socket\n",
    "sock = socket.create_connection(('localhost', 10000))\n",
    "\n",
    "print('Family  :', families[sock.family])\n",
    "print('Type    :', types[sock.type])\n",
    "print('Protocol:', protocols[sock.proto])\n",
    "print()\n",
    "\n",
    "try:\n",
    "\n",
    "    # Send data\n",
    "    message = b'This is the message.  It will be repeated.'\n",
    "    print('sending {!r}'.format(message))\n",
    "    sock.sendall(message)\n",
    "\n",
    "    amount_received = 0\n",
    "    amount_expected = len(message)\n",
    "\n",
    "    while amount_received < amount_expected:\n",
    "        data = sock.recv(16)\n",
    "        amount_received += len(data)\n",
    "        print('received {!r}'.format(data))\n",
    "\n",
    "finally:\n",
    "    print('closing socket')\n",
    "    sock.close()"
   ]
  },
  {
   "cell_type": "markdown",
   "metadata": {},
   "source": [
    "create_connection() uses getaddrinfo() to find candidate connection parameters, and returns a socket opened with the first configuration that creates a successful connection. The family, type, and proto attributes can be examined to determine the type of socket being returned."
   ]
  },
  {
   "cell_type": "code",
   "execution_count": 2,
   "metadata": {
    "collapsed": false
   },
   "outputs": [
    {
     "name": "stdout",
     "output_type": "stream",
     "text": [
      "Family  : AF_INET\r\n",
      "Type    : SOCK_STREAM\r\n",
      "Protocol: IPPROTO_TCP\r\n",
      "\r\n",
      "sending b'This is the message.  It will be repeated.'\r\n",
      "received b'This is the mess'\r\n",
      "received b'age.  It will be'\r\n",
      "received b' repeated.'\r\n",
      "closing socket\r\n"
     ]
    }
   ],
   "source": [
    "! python3 socket_echo_client_easy.py"
   ]
  },
  {
   "cell_type": "code",
   "execution_count": 3,
   "metadata": {
    "collapsed": false
   },
   "outputs": [],
   "source": [
    "import socket\n",
    "\n",
    "def get_constants(prefix):\n",
    "    \"\"\"Create a dictionary mapping socket module\n",
    "    constants to their names.\n",
    "    \"\"\"\n",
    "    return {\n",
    "        getattr(socket, n): n\n",
    "        for n in dir(socket)\n",
    "        if n.startswith(prefix)\n",
    "    }\n",
    "\n",
    "\n",
    "families = get_constants('AF_')\n",
    "types = get_constants('SOCK_')\n",
    "protocols = get_constants('IPPROTO_')"
   ]
  },
  {
   "cell_type": "code",
   "execution_count": 4,
   "metadata": {
    "collapsed": false
   },
   "outputs": [
    {
     "data": {
      "text/plain": [
       "{<AddressFamily.AF_UNSPEC: 0>: 'AF_UNSPEC',\n",
       " <AddressFamily.AF_UNIX: 1>: 'AF_UNIX',\n",
       " <AddressFamily.AF_INET: 2>: 'AF_INET',\n",
       " <AddressFamily.AF_SNA: 11>: 'AF_SNA',\n",
       " 12: 'AF_DECnet',\n",
       " <AddressFamily.AF_APPLETALK: 16>: 'AF_APPLETALK',\n",
       " <AddressFamily.AF_ROUTE: 17>: 'AF_ROUTE',\n",
       " <AddressFamily.AF_LINK: 18>: 'AF_LINK',\n",
       " <AddressFamily.AF_IPX: 23>: 'AF_IPX',\n",
       " <AddressFamily.AF_INET6: 30>: 'AF_INET6',\n",
       " <AddressFamily.AF_SYSTEM: 32>: 'AF_SYSTEM'}"
      ]
     },
     "execution_count": 4,
     "metadata": {},
     "output_type": "execute_result"
    }
   ],
   "source": [
    "families"
   ]
  },
  {
   "cell_type": "code",
   "execution_count": 5,
   "metadata": {
    "collapsed": false
   },
   "outputs": [
    {
     "data": {
      "text/plain": [
       "{<SocketKind.SOCK_STREAM: 1>: 'SOCK_STREAM',\n",
       " <SocketKind.SOCK_DGRAM: 2>: 'SOCK_DGRAM',\n",
       " <SocketKind.SOCK_RAW: 3>: 'SOCK_RAW',\n",
       " <SocketKind.SOCK_RDM: 4>: 'SOCK_RDM',\n",
       " <SocketKind.SOCK_SEQPACKET: 5>: 'SOCK_SEQPACKET'}"
      ]
     },
     "execution_count": 5,
     "metadata": {},
     "output_type": "execute_result"
    }
   ],
   "source": [
    "types"
   ]
  },
  {
   "cell_type": "code",
   "execution_count": 6,
   "metadata": {
    "collapsed": false
   },
   "outputs": [
    {
     "data": {
      "text/plain": [
       "{0: 'IPPROTO_IP',\n",
       " 1: 'IPPROTO_ICMP',\n",
       " 2: 'IPPROTO_IGMP',\n",
       " 3: 'IPPROTO_GGP',\n",
       " 4: 'IPPROTO_IPV4',\n",
       " 6: 'IPPROTO_TCP',\n",
       " 8: 'IPPROTO_EGP',\n",
       " 12: 'IPPROTO_PUP',\n",
       " 17: 'IPPROTO_UDP',\n",
       " 22: 'IPPROTO_IDP',\n",
       " 29: 'IPPROTO_TP',\n",
       " 36: 'IPPROTO_XTP',\n",
       " 41: 'IPPROTO_IPV6',\n",
       " 43: 'IPPROTO_ROUTING',\n",
       " 44: 'IPPROTO_FRAGMENT',\n",
       " 46: 'IPPROTO_RSVP',\n",
       " 47: 'IPPROTO_GRE',\n",
       " 50: 'IPPROTO_ESP',\n",
       " 51: 'IPPROTO_AH',\n",
       " 58: 'IPPROTO_ICMPV6',\n",
       " 59: 'IPPROTO_NONE',\n",
       " 60: 'IPPROTO_DSTOPTS',\n",
       " 63: 'IPPROTO_HELLO',\n",
       " 77: 'IPPROTO_ND',\n",
       " 80: 'IPPROTO_EON',\n",
       " 103: 'IPPROTO_PIM',\n",
       " 108: 'IPPROTO_IPCOMP',\n",
       " 132: 'IPPROTO_SCTP',\n",
       " 255: 'IPPROTO_RAW',\n",
       " 256: 'IPPROTO_MAX'}"
      ]
     },
     "execution_count": 6,
     "metadata": {},
     "output_type": "execute_result"
    }
   ],
   "source": [
    "protocols"
   ]
  },
  {
   "cell_type": "markdown",
   "metadata": {},
   "source": [
    "## Choosing an Address for Listening\n",
    "\n",
    "It is important to bind a server to the correct address, so that clients can communicate with it. The previous examples all used 'localhost' as the IP address, which limits connections to clients running on the same server. Use a public address of the server, such as the value returned by gethostname(), to allow other hosts to connect. This example modifies the echo server to listen on an address specified via a command line argument."
   ]
  },
  {
   "cell_type": "raw",
   "metadata": {},
   "source": [
    "# socket_echo_server_explicit.py\n",
    "import socket\n",
    "import sys\n",
    "\n",
    "# Create a TCP/IP socket\n",
    "sock = socket.socket(socket.AF_INET, socket.SOCK_STREAM)\n",
    "\n",
    "# Bind the socket to the address given on the command line\n",
    "server_name = sys.argv[1]\n",
    "server_address = (server_name, 10001)\n",
    "print('starting up on {} port {}'.format(*server_address))\n",
    "sock.bind(server_address)\n",
    "sock.listen(1)\n",
    "\n",
    "while True:\n",
    "    print('waiting for a connection')\n",
    "    connection, client_address = sock.accept()\n",
    "    try:\n",
    "        print('client connected:', client_address)\n",
    "        while True:\n",
    "            data = connection.recv(16)\n",
    "            print('received {!r}'.format(data))\n",
    "            if data:\n",
    "                connection.sendall(data)\n",
    "            else:\n",
    "                break\n",
    "    finally:\n",
    "        connection.close()"
   ]
  },
  {
   "cell_type": "markdown",
   "metadata": {},
   "source": [
    "A similar modification to the client program is needed before the server can be tested."
   ]
  },
  {
   "cell_type": "raw",
   "metadata": {},
   "source": [
    "# socket_echo_client_explicit.py\n",
    "import socket\n",
    "import sys\n",
    "\n",
    "# Create a TCP/IP socket\n",
    "sock = socket.socket(socket.AF_INET, socket.SOCK_STREAM)\n",
    "\n",
    "# Connect the socket to the port on the server\n",
    "# given by the caller\n",
    "server_address = (sys.argv[1], 10001)\n",
    "print('connecting to {} port {}'.format(*server_address))\n",
    "sock.connect(server_address)\n",
    "\n",
    "try:\n",
    "\n",
    "    message = b'This is the message.  It will be repeated.'\n",
    "    print('sending {!r}'.format(message))\n",
    "    sock.sendall(message)\n",
    "\n",
    "    amount_received = 0\n",
    "    amount_expected = len(message)\n",
    "    while amount_received < amount_expected:\n",
    "        data = sock.recv(16)\n",
    "        amount_received += len(data)\n",
    "        print('received {!r}'.format(data))\n",
    "\n",
    "finally:\n",
    "    sock.close()"
   ]
  },
  {
   "cell_type": "markdown",
   "metadata": {},
   "source": [
    "After starting the server, the netstat command shows it listening on the address for the named host."
   ]
  },
  {
   "cell_type": "code",
   "execution_count": 7,
   "metadata": {
    "collapsed": false
   },
   "outputs": [
    {
     "name": "stdout",
     "output_type": "stream",
     "text": [
      "PING mementomori (127.0.0.1): 56 data bytes\n",
      "64 bytes from 127.0.0.1: icmp_seq=0 ttl=64 time=0.082 ms\n",
      "64 bytes from 127.0.0.1: icmp_seq=1 ttl=64 time=0.066 ms\n",
      "64 bytes from 127.0.0.1: icmp_seq=2 ttl=64 time=0.085 ms\n",
      "\n",
      "--- mementomori ping statistics ---\n",
      "3 packets transmitted, 3 packets received, 0.0% packet loss\n",
      "round-trip min/avg/max/stddev = 0.066/0.078/0.085/0.008 ms\n"
     ]
    }
   ],
   "source": [
    "! ping -t 3 MementoMori"
   ]
  },
  {
   "cell_type": "code",
   "execution_count": 8,
   "metadata": {
    "collapsed": false
   },
   "outputs": [
    {
     "name": "stdout",
     "output_type": "stream",
     "text": [
      "tcp4       0      0  127.0.0.1.10001        *.*                    LISTEN     \r\n"
     ]
    }
   ],
   "source": [
    "! netstat -an | grep 10001"
   ]
  },
  {
   "cell_type": "code",
   "execution_count": 9,
   "metadata": {
    "collapsed": false
   },
   "outputs": [
    {
     "name": "stdout",
     "output_type": "stream",
     "text": [
      "connecting to MementoMori port 10001\r\n",
      "sending b'This is the message.  It will be repeated.'\r\n",
      "received b'This is the mess'\r\n",
      "received b'age.  It will be'\r\n",
      "received b' repeated.'\r\n"
     ]
    }
   ],
   "source": [
    "! python3 socket_echo_client_explicit.py MementoMori"
   ]
  },
  {
   "cell_type": "raw",
   "metadata": {},
   "source": [
    "# server output\n",
    "➜  Socket git:(master) ✗ python3 socket_echo_server_explicit.py MementoMori\n",
    "starting up on MementoMori port 10001\n",
    "waiting for a connection\n",
    "client connected: ('127.0.0.1', 59534)\n",
    "received b'This is the mess'\n",
    "received b'age.  It will be'\n",
    "received b' repeated.'\n",
    "received b''\n",
    "waiting for a connection"
   ]
  },
  {
   "cell_type": "markdown",
   "metadata": {},
   "source": [
    "Many servers have more than one network interface, and therefore more than one IP address. Rather than running separate copies of a service bound to each IP address, use the special address INADDR_ANY to listen on all addresses at the same time. Although socket defines a constant for INADDR_ANY, it is an integer value and must be converted to a dotted-notation string address before it can be passed to bind(). As a shortcut, use “0.0.0.0” or an empty string ('') instead of doing the conversion."
   ]
  },
  {
   "cell_type": "raw",
   "metadata": {},
   "source": [
    "# socket_echo_server_any.py\n",
    "import socket\n",
    "import sys\n",
    "\n",
    "# Create a TCP/IP socket\n",
    "sock = socket.socket(socket.AF_INET, socket.SOCK_STREAM)\n",
    "\n",
    "# Bind the socket to the address given on the command line\n",
    "server_address = ('', 10002)\n",
    "sock.bind(server_address)\n",
    "print('starting up on {} port {}'.format(*sock.getsockname()))\n",
    "sock.listen(1)\n",
    "\n",
    "while True:\n",
    "    print('waiting for a connection')\n",
    "    connection, client_address = sock.accept()\n",
    "    try:\n",
    "        print('client connected:', client_address)\n",
    "        while True:\n",
    "            data = connection.recv(16)\n",
    "            print('received {!r}'.format(data))\n",
    "            if data:\n",
    "                connection.sendall(data)\n",
    "            else:\n",
    "                break\n",
    "    finally:\n",
    "        connection.close()"
   ]
  },
  {
   "cell_type": "markdown",
   "metadata": {},
   "source": [
    "To see the actual address being used by a socket, call its getsockname() method. After starting the service, running netstat again shows it listening for incoming connections on any address."
   ]
  },
  {
   "cell_type": "code",
   "execution_count": 10,
   "metadata": {
    "collapsed": false
   },
   "outputs": [
    {
     "name": "stdout",
     "output_type": "stream",
     "text": [
      "tcp4       0      0  *.10002                *.*                    LISTEN     \r\n"
     ]
    }
   ],
   "source": [
    "! netstat -an | grep 10002"
   ]
  }
 ],
 "metadata": {
  "kernelspec": {
   "display_name": "Python 3",
   "language": "python",
   "name": "python3"
  },
  "language_info": {
   "codemirror_mode": {
    "name": "ipython",
    "version": 3
   },
   "file_extension": ".py",
   "mimetype": "text/x-python",
   "name": "python",
   "nbconvert_exporter": "python",
   "pygments_lexer": "ipython3",
   "version": "3.5.2"
  }
 },
 "nbformat": 4,
 "nbformat_minor": 2
}
