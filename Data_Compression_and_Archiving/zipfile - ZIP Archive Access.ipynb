{
 "cells": [
  {
   "cell_type": "markdown",
   "metadata": {},
   "source": [
    "# zipfile - ZIP Archive Access\n",
    "\n",
    "Purpose:\tRead and write ZIP archive files.\n",
    "\n",
    "The zipfile module can be used to manipulate ZIP archive files, the format popularized by the PC program PKZIP."
   ]
  },
  {
   "cell_type": "markdown",
   "metadata": {},
   "source": [
    "## Testing ZIP Files\n",
    "\n",
    "The is_zipfile() function returns a boolean indicating whether or not the filename passed as an argument refers to a valid ZIP archive."
   ]
  },
  {
   "cell_type": "code",
   "execution_count": 1,
   "metadata": {
    "collapsed": false
   },
   "outputs": [
    {
     "name": "stdout",
     "output_type": "stream",
     "text": [
      "     README.txt  False\n",
      "    example.zip  True\n",
      "bad_example.zip  False\n",
      "   notthere.zip  False\n"
     ]
    }
   ],
   "source": [
    "# zipfile_is_zipfile.py\n",
    "import zipfile\n",
    "\n",
    "for filename in ['README.txt', 'example.zip',\n",
    "                 'bad_example.zip', 'notthere.zip']:\n",
    "    print('{:>15}  {}'.format(\n",
    "        filename, zipfile.is_zipfile(filename)))"
   ]
  },
  {
   "cell_type": "markdown",
   "metadata": {},
   "source": [
    "If the file does not exist at all, is_zipfile() returns False."
   ]
  },
  {
   "cell_type": "markdown",
   "metadata": {},
   "source": [
    "## Reading Metadata from an Archive\n",
    "\n",
    "Use the ZipFile class to work directly with a ZIP archive. It supports methods for reading data about existing archives as well as modifying the archives by adding additional files.\n",
    "\n"
   ]
  },
  {
   "cell_type": "code",
   "execution_count": 2,
   "metadata": {
    "collapsed": false
   },
   "outputs": [
    {
     "name": "stdout",
     "output_type": "stream",
     "text": [
      "['example.py']\n"
     ]
    }
   ],
   "source": [
    "# zipfile_namelist.py\n",
    "import zipfile\n",
    "\n",
    "with zipfile.ZipFile('example.zip', 'r') as zf:\n",
    "    print(zf.namelist())"
   ]
  },
  {
   "cell_type": "markdown",
   "metadata": {},
   "source": [
    "The namelist() method returns the names of the files in an existing archive."
   ]
  },
  {
   "cell_type": "markdown",
   "metadata": {},
   "source": [
    "The list of names is only part of the information available from the archive, though. To access all of the metadata about the ZIP contents, use the infolist() or getinfo() methods."
   ]
  },
  {
   "cell_type": "code",
   "execution_count": 3,
   "metadata": {
    "collapsed": false
   },
   "outputs": [
    {
     "name": "stdout",
     "output_type": "stream",
     "text": [
      "example.py\n",
      "  Comment     : b''\n",
      "  Modified    : 2017-02-04 00:40:30\n",
      "  System      : Unix\n",
      "  ZIP version : 30\n",
      "  Compressed  : 86 bytes\n",
      "  Uncompressed: 93 bytes\n",
      "\n"
     ]
    }
   ],
   "source": [
    "# zipfile_infolist.py\n",
    "import datetime\n",
    "import zipfile\n",
    "\n",
    "\n",
    "def print_info(archive_name):\n",
    "    with zipfile.ZipFile(archive_name) as zf:\n",
    "        for info in zf.infolist():\n",
    "            print(info.filename)\n",
    "            print('  Comment     :', info.comment)\n",
    "            mod_date = datetime.datetime(*info.date_time)\n",
    "            print('  Modified    :', mod_date)\n",
    "            if info.create_system == 0:\n",
    "                system = 'Windows'\n",
    "            elif info.create_system == 3:\n",
    "                system = 'Unix'\n",
    "            else:\n",
    "                system = 'UNKNOWN'\n",
    "            print('  System      :', system)\n",
    "            print('  ZIP version :', info.create_version)\n",
    "            print('  Compressed  :', info.compress_size, 'bytes')\n",
    "            print('  Uncompressed:', info.file_size, 'bytes')\n",
    "            print()\n",
    "\n",
    "if __name__ == '__main__':\n",
    "    print_info('example.zip')\n"
   ]
  },
  {
   "cell_type": "markdown",
   "metadata": {},
   "source": [
    "If the name of the archive member is known in advance, its ZipInfo object can be retrieved directly with getinfo()."
   ]
  },
  {
   "cell_type": "code",
   "execution_count": 4,
   "metadata": {
    "collapsed": false
   },
   "outputs": [
    {
     "name": "stdout",
     "output_type": "stream",
     "text": [
      "ERROR: Did not find README.txt in zip file\n",
      "ERROR: Did not find notthere.txt in zip file\n",
      "example.py is 93 bytes\n"
     ]
    }
   ],
   "source": [
    "# zipfile_getinfo.py\n",
    "import zipfile\n",
    "\n",
    "with zipfile.ZipFile('example.zip') as zf:\n",
    "    for filename in ['README.txt', 'notthere.txt','example.py']:\n",
    "        try:\n",
    "            info = zf.getinfo(filename)\n",
    "        except KeyError:\n",
    "            print('ERROR: Did not find {} in zip file'.format(\n",
    "                filename))\n",
    "        else:\n",
    "            print('{} is {} bytes'.format(\n",
    "                info.filename, info.file_size))\n"
   ]
  },
  {
   "cell_type": "markdown",
   "metadata": {},
   "source": [
    "If the archive member is not present, getinfo() raises a KeyError."
   ]
  },
  {
   "cell_type": "markdown",
   "metadata": {},
   "source": [
    "## Extracting Archived Files From an Archive\n",
    "\n",
    "To access the data from an archive member, use the read() method, passing the member’s name."
   ]
  },
  {
   "cell_type": "code",
   "execution_count": 5,
   "metadata": {
    "collapsed": false
   },
   "outputs": [
    {
     "name": "stdout",
     "output_type": "stream",
     "text": [
      "ERROR: Did not find README.txt in zip file\n",
      "\n",
      "ERROR: Did not find notthere.txt in zip file\n",
      "\n",
      "example.py :\n",
      "b\"#demopkg2/overloaded.py\\n\\ndef func():\\n    print('This is the dev version of shallow func().')\\n\"\n",
      "\n"
     ]
    }
   ],
   "source": [
    "# zipfile_read.py\n",
    "import zipfile\n",
    "\n",
    "with zipfile.ZipFile('example.zip') as zf:\n",
    "    for filename in ['README.txt', 'notthere.txt','example.py']:\n",
    "        try:\n",
    "            data = zf.read(filename)\n",
    "        except KeyError:\n",
    "            print('ERROR: Did not find {} in zip file'.format(\n",
    "                filename))\n",
    "        else:\n",
    "            print(filename, ':')\n",
    "            print(data)\n",
    "        print()"
   ]
  },
  {
   "cell_type": "markdown",
   "metadata": {},
   "source": [
    "## Creating New Archives\n",
    "\n",
    "To create a new archive, instantiate the ZipFile with a mode of 'w'. Any existing file is truncated and a new archive is started. To add files, use the write() method.\n",
    "\n"
   ]
  },
  {
   "cell_type": "code",
   "execution_count": 17,
   "metadata": {
    "collapsed": false
   },
   "outputs": [
    {
     "name": "stdout",
     "output_type": "stream",
     "text": [
      "creating archive\n",
      "adding example.py\n",
      "\n",
      "example.py\n",
      "  Comment     : b''\n",
      "  Modified    : 2017-02-04 00:40:28\n",
      "  System      : Unix\n",
      "  ZIP version : 20\n",
      "  Compressed  : 93 bytes\n",
      "  Uncompressed: 93 bytes\n",
      "\n"
     ]
    }
   ],
   "source": [
    "# zipfile_write.py\n",
    "from zipfile_infolist import print_info\n",
    "import zipfile\n",
    "\n",
    "print('creating archive')\n",
    "with zipfile.ZipFile('write.zip', mode='w') as zf:\n",
    "    print('adding example.py')\n",
    "    zf.write('example.py')\n",
    "\n",
    "print()\n",
    "print_info('write.zip')"
   ]
  },
  {
   "cell_type": "markdown",
   "metadata": {},
   "source": [
    "To add compression, the zlib module is required. If zlib is available, the compression mode for individual files or for the archive as a whole can be set using zipfile.ZIP_DEFLATED. The default compression mode is zipfile.ZIP_STORED, which adds the input data to the archive without compressing it."
   ]
  },
  {
   "cell_type": "code",
   "execution_count": 19,
   "metadata": {
    "collapsed": false
   },
   "outputs": [
    {
     "name": "stdout",
     "output_type": "stream",
     "text": [
      "creating archive\n",
      "adding example.py with compression mode deflated\n",
      "\n",
      "example.py\n",
      "  Comment     : b''\n",
      "  Modified    : 2017-02-04 00:40:28\n",
      "  System      : Unix\n",
      "  ZIP version : 20\n",
      "  Compressed  : 86 bytes\n",
      "  Uncompressed: 93 bytes\n",
      "\n"
     ]
    }
   ],
   "source": [
    "# zipfile_write_compression.py\n",
    "from zipfile_infolist import print_info\n",
    "import zipfile\n",
    "try:\n",
    "    import zlib\n",
    "    compression = zipfile.ZIP_DEFLATED\n",
    "except:\n",
    "    compression = zipfile.ZIP_STORED\n",
    "\n",
    "modes = {\n",
    "    zipfile.ZIP_DEFLATED: 'deflated',\n",
    "    zipfile.ZIP_STORED: 'stored',\n",
    "}\n",
    "\n",
    "print('creating archive')\n",
    "with zipfile.ZipFile('write_compression.zip', mode='w') as zf:\n",
    "    mode_name = modes[compression]\n",
    "    print('adding example.py with compression mode', mode_name)\n",
    "    zf.write('example.py', compress_type=compression)\n",
    "\n",
    "print()\n",
    "print_info('write_compression.zip')"
   ]
  },
  {
   "cell_type": "markdown",
   "metadata": {},
   "source": [
    "## Using Alternate Archive Member Names\n",
    "\n",
    "Pass an arcname value to write() to add a file to an archive using a name other than the original filename.\n",
    "\n"
   ]
  },
  {
   "cell_type": "code",
   "execution_count": 21,
   "metadata": {
    "collapsed": false
   },
   "outputs": [
    {
     "name": "stdout",
     "output_type": "stream",
     "text": [
      "example_arc.py\n",
      "  Comment     : b''\n",
      "  Modified    : 2017-02-04 00:40:28\n",
      "  System      : Unix\n",
      "  ZIP version : 20\n",
      "  Compressed  : 93 bytes\n",
      "  Uncompressed: 93 bytes\n",
      "\n"
     ]
    }
   ],
   "source": [
    "#zipfile_write_arcname.py\n",
    "from zipfile_infolist import print_info\n",
    "import zipfile\n",
    "\n",
    "with zipfile.ZipFile('write_arcname.zip', mode='w') as zf:\n",
    "    zf.write('example.py', arcname='example_arc.py')\n",
    "\n",
    "print_info('write_arcname.zip')"
   ]
  },
  {
   "cell_type": "markdown",
   "metadata": {},
   "source": [
    "There is no sign of the original filename in the archive."
   ]
  },
  {
   "cell_type": "code",
   "execution_count": 22,
   "metadata": {
    "collapsed": false
   },
   "outputs": [
    {
     "name": "stdout",
     "output_type": "stream",
     "text": [
      "['example_arc.py']\n"
     ]
    }
   ],
   "source": [
    "# zipfile_namelist.py\n",
    "import zipfile\n",
    "\n",
    "with zipfile.ZipFile('write_arcname.zip', 'r') as zf:\n",
    "    print(zf.namelist())"
   ]
  },
  {
   "cell_type": "markdown",
   "metadata": {},
   "source": [
    "## Writing Data from Sources Other Than Files\n",
    "\n",
    "Sometimes it is necessary to write to a ZIP archive using data that did not come from an existing file. \n",
    "\n",
    "Rather than writing the data to a file, then adding that file to the ZIP archive, use the writestr() method to add a string of bytes to the archive directly."
   ]
  },
  {
   "cell_type": "code",
   "execution_count": 23,
   "metadata": {
    "collapsed": false
   },
   "outputs": [
    {
     "name": "stdout",
     "output_type": "stream",
     "text": [
      "from_string.txt\n",
      "  Comment     : b''\n",
      "  Modified    : 2017-02-04 00:53:20\n",
      "  System      : Unix\n",
      "  ZIP version : 20\n",
      "  Compressed  : 36 bytes\n",
      "  Uncompressed: 34 bytes\n",
      "\n",
      "b'This data did not exist in a file.'\n"
     ]
    }
   ],
   "source": [
    "# zipfile_writestr.py\n",
    "from zipfile_infolist import print_info\n",
    "import zipfile\n",
    "\n",
    "msg = 'This data did not exist in a file.'\n",
    "with zipfile.ZipFile('writestr.zip',\n",
    "                     mode='w',\n",
    "                     compression=zipfile.ZIP_DEFLATED,\n",
    "                     ) as zf:\n",
    "    zf.writestr('from_string.txt', msg)\n",
    "\n",
    "print_info('writestr.zip')\n",
    "\n",
    "with zipfile.ZipFile('writestr.zip', 'r') as zf:\n",
    "    print(zf.read('from_string.txt'))"
   ]
  },
  {
   "cell_type": "markdown",
   "metadata": {},
   "source": [
    "In this case, the compress_type argument to ZipFile was used to compress the data, since writestr() does not take an argument to specify the compression."
   ]
  },
  {
   "cell_type": "markdown",
   "metadata": {},
   "source": [
    "## Writing with a ZipInfo Instance\n",
    "\n",
    "Normally, the modification date is computed when a file or string is added to the archive. A ZipInfo instance can be passed to writestr() to define the modification date and other metadata."
   ]
  },
  {
   "cell_type": "code",
   "execution_count": 28,
   "metadata": {
    "collapsed": false
   },
   "outputs": [
    {
     "name": "stdout",
     "output_type": "stream",
     "text": [
      "from_string.txt\n",
      "  Comment     : b'Remarks go here'\n",
      "  Modified    : 2017-02-04 01:07:56\n",
      "  System      : Windows\n",
      "  ZIP version : 20\n",
      "  Compressed  : 36 bytes\n",
      "  Uncompressed: 34 bytes\n",
      "\n"
     ]
    }
   ],
   "source": [
    "# zipfile_writestr_zipinfo.py\n",
    "import time\n",
    "import zipfile\n",
    "from zipfile_infolist import print_info\n",
    "\n",
    "msg = b'This data did not exist in a file.'\n",
    "\n",
    "with zipfile.ZipFile('writestr_zipinfo.zip',\n",
    "                     mode='w',\n",
    "                     ) as zf:\n",
    "    info = zipfile.ZipInfo('from_string.txt',\n",
    "                           date_time=time.localtime(time.time()),\n",
    "                           )\n",
    "    info.compress_type = zipfile.ZIP_DEFLATED\n",
    "    info.comment = b'Remarks go here'\n",
    "    info.create_system = 0\n",
    "    zf.writestr(info, msg)\n",
    "\n",
    "print_info('writestr_zipinfo.zip')"
   ]
  },
  {
   "cell_type": "markdown",
   "metadata": {},
   "source": [
    "In this example, the modified time is set to the current time, the data is compressed, and false value for create_system is used. A simple comment is also associated with the new file."
   ]
  },
  {
   "cell_type": "markdown",
   "metadata": {},
   "source": [
    "## Appending to Files\n",
    "\n",
    "In addition to creating new archives, it is possible to append to an existing archive or add an archive at the end of an existing file (such as a .exe file for a self-extracting archive). To open a file to append to it, use mode 'a'."
   ]
  },
  {
   "cell_type": "code",
   "execution_count": 32,
   "metadata": {
    "collapsed": false
   },
   "outputs": [
    {
     "name": "stdout",
     "output_type": "stream",
     "text": [
      "creating archive\n",
      "\n",
      "printing info\n",
      "README.txt\n",
      "  Comment     : b''\n",
      "  Modified    : 2017-02-04 01:10:46\n",
      "  System      : Unix\n",
      "  ZIP version : 20\n",
      "  Compressed  : 76 bytes\n",
      "  Uncompressed: 76 bytes\n",
      "\n",
      "appending to the archive\n",
      "\n",
      "printing info\n",
      "README.txt\n",
      "  Comment     : b''\n",
      "  Modified    : 2017-02-04 01:10:46\n",
      "  System      : Unix\n",
      "  ZIP version : 20\n",
      "  Compressed  : 76 bytes\n",
      "  Uncompressed: 76 bytes\n",
      "\n",
      "README2.txt\n",
      "  Comment     : b''\n",
      "  Modified    : 2017-02-04 01:10:46\n",
      "  System      : Unix\n",
      "  ZIP version : 20\n",
      "  Compressed  : 76 bytes\n",
      "  Uncompressed: 76 bytes\n",
      "\n"
     ]
    }
   ],
   "source": [
    "# zipfile_append.py\n",
    "from zipfile_infolist import print_info\n",
    "import zipfile\n",
    "\n",
    "print('creating archive')\n",
    "with zipfile.ZipFile('append.zip', mode='w') as zf:\n",
    "    zf.write('README.txt')\n",
    "\n",
    "print('\\nprinting info')\n",
    "print_info('append.zip')\n",
    "\n",
    "print('appending to the archive')\n",
    "with zipfile.ZipFile('append.zip', mode='a') as zf:\n",
    "    zf.write('README.txt', arcname='README2.txt')\n",
    "\n",
    "print('\\nprinting info')\n",
    "print_info('append.zip')"
   ]
  },
  {
   "cell_type": "markdown",
   "metadata": {},
   "source": [
    "## Python ZIP Archives\n",
    "\n",
    "Python can import modules from inside ZIP archives using zipimport, if those archives appear in sys.path. The PyZipFile class can be used to construct a module suitable for use in this way. \n",
    "\n",
    "The extra method writepy() tells PyZipFile to scan a directory for .py files and add the corresponding .pyo or .pyc file to the archive. If neither compiled form exists, a .pyc file is created and added."
   ]
  },
  {
   "cell_type": "code",
   "execution_count": 36,
   "metadata": {
    "collapsed": false
   },
   "outputs": [
    {
     "name": "stdout",
     "output_type": "stream",
     "text": [
      "Adding python files\n",
      "Adding files from directory .\n",
      "Adding example.pyc\n",
      "Adding zipfile_infolist.pyc\n",
      "Adding zipfile_pyzipfile.pyc\n",
      "example.pyc\n",
      "zipfile_infolist.pyc\n",
      "zipfile_pyzipfile.pyc\n",
      "\n",
      "Imported from: /Users/binyang/GitHub/Py3MOTW/Data_Compression_and_Archiving/zipfile_pyzipfile.py\n",
      "This is the dev version of shallow func().\n"
     ]
    }
   ],
   "source": [
    "# zipfile_pyzipfile.py\n",
    "import sys\n",
    "import zipfile\n",
    "\n",
    "if __name__ == '__main__':\n",
    "    with zipfile.PyZipFile('pyzipfile.zip', mode='w') as zf:\n",
    "        zf.debug = 3\n",
    "        print('Adding python files')\n",
    "        zf.writepy('.')\n",
    "    for name in zf.namelist():\n",
    "        print(name)\n",
    "\n",
    "    print()\n",
    "    sys.path.insert(0, 'pyzipfile.zip')\n",
    "    import zipfile_pyzipfile\n",
    "    print('Imported from:', zipfile_pyzipfile.__file__)\n",
    "    \n",
    "    zipfile_pyzipfile.func()"
   ]
  },
  {
   "cell_type": "markdown",
   "metadata": {},
   "source": [
    "## Limitations\n",
    "\n",
    "The zipfile module does not support ZIP files with appended comments, or multi-disk archives. It does support ZIP files larger than 4 GB that use the ZIP64 extensions."
   ]
  }
 ],
 "metadata": {
  "kernelspec": {
   "display_name": "Python 3",
   "language": "python",
   "name": "python3"
  },
  "language_info": {
   "codemirror_mode": {
    "name": "ipython",
    "version": 3
   },
   "file_extension": ".py",
   "mimetype": "text/x-python",
   "name": "python",
   "nbconvert_exporter": "python",
   "pygments_lexer": "ipython3",
   "version": "3.5.2"
  }
 },
 "nbformat": 4,
 "nbformat_minor": 2
}
