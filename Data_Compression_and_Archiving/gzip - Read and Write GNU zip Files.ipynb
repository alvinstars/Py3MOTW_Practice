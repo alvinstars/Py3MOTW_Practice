{
 "cells": [
  {
   "cell_type": "markdown",
   "metadata": {},
   "source": [
    "# gzip - Read and Write GNU zip Files\n",
    "\n",
    "Purpose:\tRead and write gzip files.\n",
    "    \n",
    "The gzip module provides a file-like interface to GNU zip files, using zlib to compress and uncompress the data."
   ]
  },
  {
   "cell_type": "markdown",
   "metadata": {},
   "source": [
    "## Writing Compressed Files\n",
    "\n",
    "The module-level function open() creates an instance of the file-like class GzipFile. The usual methods for writing and reading bytes are provided."
   ]
  },
  {
   "cell_type": "raw",
   "metadata": {},
   "source": [
    "# gzip_write.py\n",
    "import gzip\n",
    "import io\n",
    "import os\n",
    "\n",
    "outfilename = 'example.txt.gz'\n",
    "with gzip.open(outfilename, 'wb') as output:\n",
    "    with io.TextIOWrapper(output, encoding='utf-8') as enc:\n",
    "        enc.write('Contents of the example file go here.\\n')\n",
    "\n",
    "print(outfilename, 'contains', os.stat(outfilename).st_size,\n",
    "      'bytes')\n",
    "os.system('file -b --mime {}'.format(outfilename))"
   ]
  },
  {
   "cell_type": "code",
   "execution_count": 1,
   "metadata": {
    "collapsed": false
   },
   "outputs": [
    {
     "name": "stdout",
     "output_type": "stream",
     "text": [
      "example.txt.gz contains 75 bytes\r\n",
      "application/x-gzip; charset=binary\r\n"
     ]
    }
   ],
   "source": [
    "!python3 gzip_write.py"
   ]
  },
  {
   "cell_type": "markdown",
   "metadata": {},
   "source": [
    "To write data into a compressed file, open the file with mode 'wb'. This example wraps the GzipFile with a TextIOWrapper from the io module to encode Unicode text to bytes suitable for compression."
   ]
  },
  {
   "cell_type": "markdown",
   "metadata": {},
   "source": [
    "Different amounts of compression can be used by passing a compresslevel argument. Valid values range from 0 to 9, inclusive. Lower values are faster and result in less compression. Higher values are slower and compress more, up to a point."
   ]
  },
  {
   "cell_type": "code",
   "execution_count": 2,
   "metadata": {
    "collapsed": false
   },
   "outputs": [
    {
     "name": "stdout",
     "output_type": "stream",
     "text": [
      "Level  Size        Checksum\n",
      "-----  ----------  ---------------------------------\n",
      "data        95232  3d4fd702cdce150f62a3539c10f42fdc\n",
      "    0       95287  5520efb889ef04a3ab66eadfd41dbc4f\n",
      "    1         781  41f80b37b1187ba272dff5a619510a06\n",
      "    2         781  ba4075a0068ce954c5600ac70b12715e\n",
      "    3         781  5c8fff92aabe1434531da21eeb95267e\n",
      "    4         467  0264e1a50ea8bacc28a48ddcf7f5b659\n",
      "    5         467  941abc7f4c11bc95b3338559806ec0e8\n",
      "    6         467  841d39e31564f96bd588dcdd82015471\n",
      "    7         467  ba8b1b1b60cbdb7f6c9a088f76dfb06d\n",
      "    8         467  79ee9bffde81bd37845ce7cd2c4e1562\n",
      "    9         467  2829ddd2383fcb798db693c2b0615d02\n"
     ]
    }
   ],
   "source": [
    "# gzip_compresslevel.py\n",
    "import gzip\n",
    "import io\n",
    "import os\n",
    "import hashlib\n",
    "\n",
    "\n",
    "def get_hash(data):\n",
    "    return hashlib.md5(data).hexdigest()\n",
    "\n",
    "\n",
    "data = open('example.py', 'r').read() * 1024\n",
    "cksum = get_hash(data.encode('utf-8'))\n",
    "\n",
    "\n",
    "print('Level  Size        Checksum')\n",
    "print('-----  ----------  ---------------------------------')\n",
    "print('data   {:>10}  {}'.format(len(data), cksum))\n",
    "\n",
    "for i in range(0, 10):\n",
    "    filename = 'compress-level-{}.gz'.format(i)\n",
    "    with gzip.open(filename, 'wb', compresslevel=i) as output:\n",
    "        with io.TextIOWrapper(output, encoding='utf-8') as enc:\n",
    "            enc.write(data)\n",
    "    size = os.stat(filename).st_size\n",
    "    cksum = get_hash(open(filename, 'rb').read())\n",
    "    print('{:>5d}  {:>10d}  {}'.format(i, size, cksum))"
   ]
  },
  {
   "cell_type": "markdown",
   "metadata": {},
   "source": [
    "A GzipFile instance also includes a writelines() method that can be used to write a sequence of strings."
   ]
  },
  {
   "cell_type": "raw",
   "metadata": {},
   "source": [
    "# gzip_writelines.py\n",
    "import gzip\n",
    "import io\n",
    "import itertools\n",
    "import os\n",
    "\n",
    "with gzip.open('example_lines.txt.gz', 'wb') as output:\n",
    "    with io.TextIOWrapper(output, encoding='utf-8') as enc:\n",
    "        enc.writelines(\n",
    "            itertools.repeat('The same line, over and over.\\n',\n",
    "                             10)\n",
    "        )\n",
    "\n",
    "os.system('gzcat example_lines.txt.gz')"
   ]
  },
  {
   "cell_type": "code",
   "execution_count": 3,
   "metadata": {
    "collapsed": false
   },
   "outputs": [
    {
     "name": "stdout",
     "output_type": "stream",
     "text": [
      "The same line, over and over.\r\n",
      "The same line, over and over.\r\n",
      "The same line, over and over.\r\n",
      "The same line, over and over.\r\n",
      "The same line, over and over.\r\n",
      "The same line, over and over.\r\n",
      "The same line, over and over.\r\n",
      "The same line, over and over.\r\n",
      "The same line, over and over.\r\n",
      "The same line, over and over.\r\n"
     ]
    }
   ],
   "source": [
    "! python3 gzip_writelines.py"
   ]
  },
  {
   "cell_type": "markdown",
   "metadata": {},
   "source": [
    "## Reading Compressed Data\n",
    "\n",
    "To read data back from previously compressed files, open the file with binary read mode ('rb') so no text-based translation of line endings or Unicode decoding is performed."
   ]
  },
  {
   "cell_type": "code",
   "execution_count": 4,
   "metadata": {
    "collapsed": false
   },
   "outputs": [
    {
     "name": "stdout",
     "output_type": "stream",
     "text": [
      "Contents of the example file go here.\n",
      "\n"
     ]
    }
   ],
   "source": [
    "# gzip_read.py\n",
    "import gzip\n",
    "import io\n",
    "\n",
    "with gzip.open('example.txt.gz', 'rb') as input_file:\n",
    "    with io.TextIOWrapper(input_file, encoding='utf-8') as dec:\n",
    "        print(dec.read())"
   ]
  },
  {
   "cell_type": "markdown",
   "metadata": {},
   "source": [
    "This example reads the file written by gzip_write.py from the previous section, using a TextIOWrapper to decode the text after it is decompressed."
   ]
  },
  {
   "cell_type": "markdown",
   "metadata": {},
   "source": [
    "While reading a file, it is also possible to seek and read only part of the data.\n",
    "\n",
    "The seek() position is relative to the uncompressed data, so the caller does not need to know that the data file is compressed."
   ]
  },
  {
   "cell_type": "code",
   "execution_count": 5,
   "metadata": {
    "collapsed": false
   },
   "outputs": [
    {
     "name": "stdout",
     "output_type": "stream",
     "text": [
      "Entire file:\n",
      "b'Contents of the example file go here.\\n'\n",
      "Starting at position 5 for 10 bytes:\n",
      "b'nts of the'\n",
      "\n",
      "True\n"
     ]
    }
   ],
   "source": [
    "# gzip_seek.py\n",
    "import gzip\n",
    "\n",
    "with gzip.open('example.txt.gz', 'rb') as input_file:\n",
    "    print('Entire file:')\n",
    "    all_data = input_file.read()\n",
    "    print(all_data)\n",
    "\n",
    "    expected = all_data[5:15]\n",
    "\n",
    "    # rewind to beginning\n",
    "    input_file.seek(0)\n",
    "\n",
    "    # move ahead 5 bytes\n",
    "    input_file.seek(5)\n",
    "    print('Starting at position 5 for 10 bytes:')\n",
    "    partial = input_file.read(10)\n",
    "    print(partial)\n",
    "\n",
    "    print()\n",
    "    print(expected == partial)"
   ]
  },
  {
   "cell_type": "markdown",
   "metadata": {},
   "source": [
    "## Working with Streams\n",
    "\n",
    "The GzipFile class can be used to wrap other types of data streams so they can use compression as well. This is useful when the data is being transmitted over a socket or an existing (already open) file handle. A BytesIO buffer can also be used."
   ]
  },
  {
   "cell_type": "markdown",
   "metadata": {},
   "source": [
    "One benefit of using GzipFile over zlib is that it supports the file API. However, when re-reading the previously compressed data, an explicit length is passed to read(). Leaving the length off resulted in a CRC error, possibly because BytesIO returned an empty string before reporting EOF. When working with streams of compressed data, either prefix the data with an integer representing the actual amount of data to be read or use the incremental decompression API in zlib."
   ]
  },
  {
   "cell_type": "code",
   "execution_count": 6,
   "metadata": {
    "collapsed": false
   },
   "outputs": [
    {
     "name": "stdout",
     "output_type": "stream",
     "text": [
      "UNCOMPRESSED: 300\n",
      "b'The same line, over and over.\\nThe same line, over and over.\\nThe same line, over and over.\\nThe same line, over and over.\\nThe same line, over and over.\\nThe same line, over and over.\\nThe same line, over and over.\\nThe same line, over and over.\\nThe same line, over and over.\\nThe same line, over and over.\\n'\n",
      "\n",
      "COMPRESSED: 51\n",
      "b'1f8b0800aa711a5902ff0bc94855284ecc4d55c8c9cc4bd551c82f4b2d5248cc4b0133f4b8424665916401d3e717802c010000'\n",
      "\n",
      "REREAD: 300\n",
      "b'The same line, over and over.\\nThe same line, over and over.\\nThe same line, over and over.\\nThe same line, over and over.\\nThe same line, over and over.\\nThe same line, over and over.\\nThe same line, over and over.\\nThe same line, over and over.\\nThe same line, over and over.\\nThe same line, over and over.\\n'\n"
     ]
    }
   ],
   "source": [
    "# gzip_BytesIO.py\n",
    "import gzip\n",
    "from io import BytesIO\n",
    "import binascii\n",
    "\n",
    "uncompressed_data = b'The same line, over and over.\\n' * 10\n",
    "print('UNCOMPRESSED:', len(uncompressed_data))\n",
    "print(uncompressed_data)\n",
    "\n",
    "buf = BytesIO()\n",
    "with gzip.GzipFile(mode='wb', fileobj=buf) as f:\n",
    "    f.write(uncompressed_data)\n",
    "\n",
    "compressed_data = buf.getvalue()\n",
    "print('\\nCOMPRESSED:', len(compressed_data))\n",
    "print(binascii.hexlify(compressed_data))\n",
    "\n",
    "inbuffer = BytesIO(compressed_data)\n",
    "with gzip.GzipFile(mode='rb', fileobj=inbuffer) as f:\n",
    "    reread_data = f.read(len(uncompressed_data))\n",
    "\n",
    "print('\\nREREAD:', len(reread_data))\n",
    "print(reread_data)"
   ]
  },
  {
   "cell_type": "code",
   "execution_count": 7,
   "metadata": {
    "collapsed": false
   },
   "outputs": [],
   "source": [
    "# cleanup the test files\n",
    "!rm compress-level*.gz example.txt.gz example_lines.txt.gz"
   ]
  }
 ],
 "metadata": {
  "kernelspec": {
   "display_name": "Python 3",
   "language": "python",
   "name": "python3"
  },
  "language_info": {
   "codemirror_mode": {
    "name": "ipython",
    "version": 3
   },
   "file_extension": ".py",
   "mimetype": "text/x-python",
   "name": "python",
   "nbconvert_exporter": "python",
   "pygments_lexer": "ipython3",
   "version": "3.5.2"
  }
 },
 "nbformat": 4,
 "nbformat_minor": 2
}
