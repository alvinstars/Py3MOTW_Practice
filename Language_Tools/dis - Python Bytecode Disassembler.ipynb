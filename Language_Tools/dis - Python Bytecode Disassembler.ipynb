{
 "cells": [
  {
   "cell_type": "markdown",
   "metadata": {},
   "source": [
    "# dis - Python Bytecode Disassembler\n",
    "\n",
    "Purpose:\tConvert code objects to a human-readable representation of the bytecodes for analysis.\n",
    "\n",
    "The dis module includes functions for working with Python bytecode by disassembling it into a more human-readable form. Reviewing the bytecodes being executed by the interpreter is a good way to hand-tune tight loops and perform other kinds of optimizations. It is also useful for finding race conditions in multi-threaded applications, since it can be used to estimate the point in the code where thread control may switch."
   ]
  },
  {
   "cell_type": "markdown",
   "metadata": {},
   "source": [
    "#### Warning\n",
    "The use of bytecodes is a version-specific implementation detail of the CPython interpreter. Refer to Include/opcode.h in the source code for the version of the interpreter you are using to find the canonical list of bytecodes."
   ]
  },
  {
   "cell_type": "markdown",
   "metadata": {},
   "source": [
    "## Basic Disassembly\n",
    "\n",
    "The function dis() prints the disassembled representation of a Python code source (module, class, method, function, or code object). A module such as dis_simple.py can be disassembled by running dis from the command line."
   ]
  },
  {
   "cell_type": "raw",
   "metadata": {},
   "source": [
    "# dis_simple.py\n",
    "#!/usr/bin/env python3\n",
    "# encoding: utf-8\n",
    "\n",
    "my_dict = {'a': 1}"
   ]
  },
  {
   "cell_type": "markdown",
   "metadata": {},
   "source": [
    "The output is organized into columns with the original source line number, the instruction address within the code object, the opcode name, and any arguments passed to the opcode.\n",
    "\n",
    "In this case, the source translates to four different operations to create and populate the dictionary, then save the results to a local variable. Since the Python interpreter is stack-based, the first steps are to put the constants onto the stack in the correct order with LOAD_CONST, and then use BUILD_MAP to pop off the new key and value to be added to the dictionary. The resulting dict object is bound to the name my_dict with STORE_NAME."
   ]
  },
  {
   "cell_type": "code",
   "execution_count": 1,
   "metadata": {
    "collapsed": false
   },
   "outputs": [
    {
     "name": "stdout",
     "output_type": "stream",
     "text": [
      "  5           0 LOAD_CONST               0 ('a')\r\n",
      "              3 LOAD_CONST               1 (1)\r\n",
      "              6 BUILD_MAP                1\r\n",
      "              9 STORE_NAME               0 (my_dict)\r\n",
      "             12 LOAD_CONST               2 (None)\r\n",
      "             15 RETURN_VALUE\r\n"
     ]
    }
   ],
   "source": [
    "! python3 -m dis dis_simple.py"
   ]
  },
  {
   "cell_type": "markdown",
   "metadata": {},
   "source": [
    "## Disassembling Functions\n",
    "\n",
    "Unfortunately, disassembling an entire module does not recurse into functions automatically."
   ]
  },
  {
   "cell_type": "raw",
   "metadata": {},
   "source": [
    "# dis_function.py\n",
    "#!/usr/bin/env python3\n",
    "# encoding: utf-8\n",
    "\n",
    "\n",
    "def f(*args):\n",
    "    nargs = len(args)\n",
    "    print(nargs, args)\n",
    "\n",
    "\n",
    "if __name__ == '__main__':\n",
    "    import dis\n",
    "    dis.dis(f)"
   ]
  },
  {
   "cell_type": "code",
   "execution_count": 2,
   "metadata": {
    "collapsed": false
   },
   "outputs": [
    {
     "name": "stdout",
     "output_type": "stream",
     "text": [
      "  6           0 LOAD_CONST               0 (<code object f at 0x1022aa9c0, file \"dis_function.py\", line 6>)\r\n",
      "              3 LOAD_CONST               1 ('f')\r\n",
      "              6 MAKE_FUNCTION            0\r\n",
      "              9 STORE_NAME               0 (f)\r\n",
      "\r\n",
      " 11          12 LOAD_NAME                1 (__name__)\r\n",
      "             15 LOAD_CONST               2 ('__main__')\r\n",
      "             18 COMPARE_OP               2 (==)\r\n",
      "             21 POP_JUMP_IF_FALSE       49\r\n",
      "\r\n",
      " 12          24 LOAD_CONST               3 (0)\r\n",
      "             27 LOAD_CONST               4 (None)\r\n",
      "             30 IMPORT_NAME              2 (dis)\r\n",
      "             33 STORE_NAME               2 (dis)\r\n",
      "\r\n",
      " 13          36 LOAD_NAME                2 (dis)\r\n",
      "             39 LOAD_ATTR                2 (dis)\r\n",
      "             42 LOAD_NAME                0 (f)\r\n",
      "             45 CALL_FUNCTION            1 (1 positional, 0 keyword pair)\r\n",
      "             48 POP_TOP\r\n",
      "        >>   49 LOAD_CONST               4 (None)\r\n",
      "             52 RETURN_VALUE\r\n"
     ]
    }
   ],
   "source": [
    "! python3 -m dis dis_function.py"
   ]
  },
  {
   "cell_type": "markdown",
   "metadata": {},
   "source": [
    "To see inside the function, the function itself must be passed to dis()."
   ]
  },
  {
   "cell_type": "code",
   "execution_count": 3,
   "metadata": {
    "collapsed": false
   },
   "outputs": [
    {
     "name": "stdout",
     "output_type": "stream",
     "text": [
      "  7           0 LOAD_GLOBAL              0 (len)\r\n",
      "              3 LOAD_FAST                0 (args)\r\n",
      "              6 CALL_FUNCTION            1 (1 positional, 0 keyword pair)\r\n",
      "              9 STORE_FAST               1 (nargs)\r\n",
      "\r\n",
      "  8          12 LOAD_GLOBAL              1 (print)\r\n",
      "             15 LOAD_FAST                1 (nargs)\r\n",
      "             18 LOAD_FAST                0 (args)\r\n",
      "             21 CALL_FUNCTION            2 (2 positional, 0 keyword pair)\r\n",
      "             24 POP_TOP\r\n",
      "             25 LOAD_CONST               0 (None)\r\n",
      "             28 RETURN_VALUE\r\n"
     ]
    }
   ],
   "source": [
    "! python3 dis_function.py"
   ]
  },
  {
   "cell_type": "markdown",
   "metadata": {},
   "source": [
    "To print a summary of the function, including information about the arguments and names it uses, call show_code(), passing the function as the first argument.\n",
    "\n",
    "The argument to show_code() is passed to code_info(), which returns a nicely formatted summary of the function, method, code string, or other code object, ready to be printed."
   ]
  },
  {
   "cell_type": "code",
   "execution_count": 4,
   "metadata": {
    "collapsed": false
   },
   "outputs": [
    {
     "name": "stdout",
     "output_type": "stream",
     "text": [
      "Name:              f\n",
      "Filename:          <ipython-input-4-048fc51e43ed>\n",
      "Argument count:    0\n",
      "Kw-only arguments: 0\n",
      "Number of locals:  2\n",
      "Stack size:        3\n",
      "Flags:             OPTIMIZED, NEWLOCALS, VARARGS, NOFREE\n",
      "Constants:\n",
      "   0: None\n",
      "Names:\n",
      "   0: len\n",
      "   1: print\n",
      "Variable names:\n",
      "   0: args\n",
      "   1: nargs\n"
     ]
    }
   ],
   "source": [
    "#!/usr/bin/env python3\n",
    "# encoding: utf-8\n",
    "\n",
    "\n",
    "def f(*args):\n",
    "    nargs = len(args)\n",
    "    print(nargs, args)\n",
    "\n",
    "\n",
    "if __name__ == '__main__':\n",
    "    import dis\n",
    "    dis.show_code(f)"
   ]
  },
  {
   "cell_type": "markdown",
   "metadata": {},
   "source": [
    "## Classes\n",
    "\n",
    "Classes can be passed to dis(), in which case all of the methods are disassembled in turn.\n",
    "\n",
    "The methods are listed in alphabetical order, not the order they appear in the file."
   ]
  },
  {
   "cell_type": "code",
   "execution_count": 5,
   "metadata": {
    "collapsed": false
   },
   "outputs": [
    {
     "name": "stdout",
     "output_type": "stream",
     "text": [
      "Disassembly of __init__:\n",
      " 17           0 LOAD_FAST                1 (name)\n",
      "              3 LOAD_FAST                0 (self)\n",
      "              6 STORE_ATTR               0 (name)\n",
      "              9 LOAD_CONST               0 (None)\n",
      "             12 RETURN_VALUE\n",
      "\n",
      "Disassembly of __str__:\n",
      " 14           0 LOAD_CONST               1 ('MyObject({})')\n",
      "              3 LOAD_ATTR                0 (format)\n",
      "              6 LOAD_FAST                0 (self)\n",
      "              9 LOAD_ATTR                1 (name)\n",
      "             12 CALL_FUNCTION            1 (1 positional, 0 keyword pair)\n",
      "             15 RETURN_VALUE\n",
      "\n"
     ]
    }
   ],
   "source": [
    "# dis_class.py\n",
    "#!/usr/bin/env python3\n",
    "# encoding: utf-8\n",
    "\n",
    "import dis\n",
    "\n",
    "\n",
    "class MyObject:\n",
    "    \"\"\"Example for dis.\"\"\"\n",
    "\n",
    "    CLASS_ATTRIBUTE = 'some value'\n",
    "\n",
    "    def __str__(self):\n",
    "        return 'MyObject({})'.format(self.name)\n",
    "\n",
    "    def __init__(self, name):\n",
    "        self.name = name\n",
    "\n",
    "\n",
    "dis.dis(MyObject)"
   ]
  },
  {
   "cell_type": "markdown",
   "metadata": {},
   "source": [
    "## Source Code\n",
    "\n",
    "It is often more convenient to work with the source code for a program than with the code objects themselves. The functions in dis accept string arguments containing source code, and convert them to code objects before producing the disassembly or other output.\n",
    "\n",
    "Passing a string lets you save the step of compiling the code and holding a reference to the results yourself, which is more convenient in cases when statements outside of a function are being examined."
   ]
  },
  {
   "cell_type": "code",
   "execution_count": 6,
   "metadata": {
    "collapsed": false
   },
   "outputs": [
    {
     "name": "stdout",
     "output_type": "stream",
     "text": [
      "Disassembly:\n",
      "\n",
      "  2           0 LOAD_CONST               0 ('a')\n",
      "              3 LOAD_CONST               1 (1)\n",
      "              6 BUILD_MAP                1\n",
      "              9 STORE_NAME               0 (my_dict)\n",
      "             12 LOAD_CONST               2 (None)\n",
      "             15 RETURN_VALUE\n",
      "\n",
      "Code details:\n",
      "\n",
      "Name:              <module>\n",
      "Filename:          <disassembly>\n",
      "Argument count:    0\n",
      "Kw-only arguments: 0\n",
      "Number of locals:  0\n",
      "Stack size:        2\n",
      "Flags:             NOFREE\n",
      "Constants:\n",
      "   0: 'a'\n",
      "   1: 1\n",
      "   2: None\n",
      "Names:\n",
      "   0: my_dict\n"
     ]
    }
   ],
   "source": [
    "# dis_string.py\n",
    "import dis\n",
    "\n",
    "code = \"\"\"\n",
    "my_dict = {'a': 1}\n",
    "\"\"\"\n",
    "\n",
    "print('Disassembly:\\n')\n",
    "dis.dis(code)\n",
    "\n",
    "print('\\nCode details:\\n')\n",
    "dis.show_code(code)"
   ]
  },
  {
   "cell_type": "markdown",
   "metadata": {},
   "source": [
    "## Using Disassembly to Debug\n",
    "\n",
    "Sometimes when debugging an exception it can be useful to see which bytecode caused a problem. There are a couple of ways to disassemble the code around an error. The first is by using dis() in the interactive interpreter to report about the last exception. If no argument is passed to dis(), then it looks for an exception and shows the disassembly of the top of the stack that caused it."
   ]
  },
  {
   "cell_type": "raw",
   "metadata": {},
   "source": [
    "Python 3.5.1 (v3.5.1:37a07cee5969, Dec  5 2015, 21:12:44)\n",
    "[GCC 4.2.1 (Apple Inc. build 5666) (dot 3)] on darwin\n",
    "Type \"help\", \"copyright\", \"credits\" or \"license\" for more information.\n",
    ">>> import dis\n",
    ">>> j = 4\n",
    ">>> i = i + 4\n",
    "Traceback (most recent call last):\n",
    "  File \"<stdin>\", line 1, in <module>\n",
    "NameError: name 'i' is not defined\n",
    ">>> dis.dis()\n",
    "  1 -->       0 LOAD_NAME                0 (i)\n",
    "              3 LOAD_CONST               0 (4)\n",
    "              6 BINARY_ADD\n",
    "              7 STORE_NAME               0 (i)\n",
    "             10 LOAD_CONST               1 (None)\n",
    "             13 RETURN_VALUE"
   ]
  },
  {
   "cell_type": "markdown",
   "metadata": {},
   "source": [
    "The --> after the line number indicates the opcode that caused the error. There is no i variable defined, so the value associated with the name cannot be loaded onto the stack.\n",
    "\n",
    "A program can also print the information about an active traceback by passing it to distb() directly. In this example, there is a DivideByZero exception, but since the formula has two divisions it may not be clear which part is zero."
   ]
  },
  {
   "cell_type": "markdown",
   "metadata": {},
   "source": [
    "The error is easy to spot when it is loaded onto the stack in the disassembled version. The bad operation is highlighted with the -->, and the previous line pushes the value for j onto the stack."
   ]
  },
  {
   "cell_type": "code",
   "execution_count": 7,
   "metadata": {
    "collapsed": false
   },
   "outputs": [
    {
     "name": "stdout",
     "output_type": "stream",
     "text": [
      "  9           0 SETUP_EXCEPT            26 (to 29)\n",
      "\n",
      " 10           3 LOAD_NAME                0 (k)\n",
      "              6 LOAD_NAME                1 (i)\n",
      "              9 LOAD_NAME                2 (j)\n",
      "    -->      12 BINARY_TRUE_DIVIDE\n",
      "             13 BINARY_MULTIPLY\n",
      "             14 LOAD_NAME                1 (i)\n",
      "             17 LOAD_NAME                0 (k)\n",
      "             20 BINARY_TRUE_DIVIDE\n",
      "             21 BINARY_ADD\n",
      "             22 STORE_NAME               3 (result)\n",
      "             25 POP_BLOCK\n",
      "             26 JUMP_FORWARD            66 (to 95)\n",
      "\n",
      " 11     >>   29 POP_TOP\n",
      "             30 POP_TOP\n",
      "             31 POP_TOP\n",
      "\n",
      " 12          32 LOAD_CONST               0 (0)\n",
      "             35 LOAD_CONST               1 (None)\n",
      "             38 IMPORT_NAME              4 (dis)\n",
      "             41 STORE_NAME               4 (dis)\n",
      "\n",
      " 13          44 LOAD_CONST               0 (0)\n",
      "             47 LOAD_CONST               1 (None)\n",
      "             50 IMPORT_NAME              5 (sys)\n",
      "             53 STORE_NAME               5 (sys)\n",
      "\n",
      " 14          56 LOAD_NAME                5 (sys)\n",
      "             59 LOAD_ATTR                6 (exc_info)\n",
      "             62 CALL_FUNCTION            0 (0 positional, 0 keyword pair)\n",
      "             65 UNPACK_SEQUENCE          3\n",
      "             68 STORE_NAME               7 (exc_type)\n",
      "             71 STORE_NAME               8 (exc_value)\n",
      "             74 STORE_NAME               9 (exc_tb)\n",
      "\n",
      " 15          77 LOAD_NAME                4 (dis)\n",
      "             80 LOAD_ATTR               10 (distb)\n",
      "             83 LOAD_NAME                9 (exc_tb)\n",
      "             86 CALL_FUNCTION            1 (1 positional, 0 keyword pair)\n",
      "             89 POP_TOP\n",
      "             90 POP_EXCEPT\n",
      "             91 JUMP_FORWARD             1 (to 95)\n",
      "             94 END_FINALLY\n",
      "        >>   95 LOAD_CONST               1 (None)\n",
      "             98 RETURN_VALUE\n"
     ]
    }
   ],
   "source": [
    "# dis_traceback.py\n",
    "#!/usr/bin/env python3\n",
    "# encoding: utf-8\n",
    "\n",
    "i = 1\n",
    "j = 0\n",
    "k = 3\n",
    "\n",
    "try:\n",
    "    result = k * (i / j) + (i / k)\n",
    "except:\n",
    "    import dis\n",
    "    import sys\n",
    "    exc_type, exc_value, exc_tb = sys.exc_info()\n",
    "    dis.distb(exc_tb)"
   ]
  },
  {
   "cell_type": "markdown",
   "metadata": {},
   "source": [
    "## Performance Analysis of Loops\n",
    "\n",
    "Besides debugging errors, dis can also help identify performance issues. Examining the disassembled code is especially useful with tight loops where the number of Python instructions is low but they translate to an inefficient set of bytecodes. The helpfulness of the disassembly can be seen by examining a few different implementations of a class, Dictionary, that reads a list of words and groups them by their first letter.\n",
    "\n",
    "The test driver application dis_test_loop.py can be used to run each incarnation of the Dictionary class, starting with a straightforward, but slow, implementation."
   ]
  },
  {
   "cell_type": "raw",
   "metadata": {},
   "source": [
    "# dis_test_loop.py\n",
    "import dis\n",
    "import sys\n",
    "import textwrap\n",
    "import timeit\n",
    "\n",
    "module_name = sys.argv[1]\n",
    "module = __import__(module_name)\n",
    "Dictionary = module.Dictionary\n",
    "\n",
    "dis.dis(Dictionary.load_data)\n",
    "print()\n",
    "t = timeit.Timer(\n",
    "    'd = Dictionary(words)',\n",
    "    textwrap.dedent(\"\"\"\n",
    "    from {module_name} import Dictionary\n",
    "    words = [\n",
    "        l.strip()\n",
    "        for l in open('/usr/share/dict/words', 'rt')\n",
    "    ]\n",
    "    \"\"\").format(module_name=module_name)\n",
    ")\n",
    "iterations = 10\n",
    "print('TIME: {:0.4f}'.format(t.timeit(iterations) / iterations))"
   ]
  },
  {
   "cell_type": "markdown",
   "metadata": {},
   "source": [
    "The test driver application dis_test_loop.py can be used to run each incarnation of the Dictionary class, starting with a straightforward, but slow, implementation."
   ]
  },
  {
   "cell_type": "code",
   "execution_count": 8,
   "metadata": {
    "collapsed": true
   },
   "outputs": [],
   "source": [
    "# dis_slow_loop.py\n",
    "#!/usr/bin/env python3\n",
    "# encoding: utf-8\n",
    "\n",
    "\n",
    "class Dictionary:\n",
    "\n",
    "    def __init__(self, words):\n",
    "        self.by_letter = {}\n",
    "        self.load_data(words)\n",
    "\n",
    "    def load_data(self, words):\n",
    "        for word in words:\n",
    "            try:\n",
    "                self.by_letter[word[0]].append(word)\n",
    "            except KeyError:\n",
    "                self.by_letter[word[0]] = [word]"
   ]
  },
  {
   "cell_type": "markdown",
   "metadata": {},
   "source": [
    "Running the test program with this version shows the disassembled program and the amount of time it takes to run."
   ]
  },
  {
   "cell_type": "code",
   "execution_count": 9,
   "metadata": {
    "collapsed": false,
    "scrolled": false
   },
   "outputs": [
    {
     "name": "stdout",
     "output_type": "stream",
     "text": [
      " 13           0 SETUP_LOOP              83 (to 86)\n",
      "              3 LOAD_FAST                1 (words)\n",
      "              6 GET_ITER\n",
      "        >>    7 FOR_ITER                75 (to 85)\n",
      "             10 STORE_FAST               2 (word)\n",
      "\n",
      " 14          13 SETUP_EXCEPT            28 (to 44)\n",
      "\n",
      " 15          16 LOAD_FAST                0 (self)\n",
      "             19 LOAD_ATTR                0 (by_letter)\n",
      "             22 LOAD_FAST                2 (word)\n",
      "             25 LOAD_CONST               1 (0)\n",
      "             28 BINARY_SUBSCR\n",
      "             29 BINARY_SUBSCR\n",
      "             30 LOAD_ATTR                1 (append)\n",
      "             33 LOAD_FAST                2 (word)\n",
      "             36 CALL_FUNCTION            1 (1 positional, 0 keyword pair)\n",
      "             39 POP_TOP\n",
      "             40 POP_BLOCK\n",
      "             41 JUMP_ABSOLUTE            7\n",
      "\n",
      " 16     >>   44 DUP_TOP\n",
      "             45 LOAD_GLOBAL              2 (KeyError)\n",
      "             48 COMPARE_OP              10 (exception match)\n",
      "             51 POP_JUMP_IF_FALSE       81\n",
      "             54 POP_TOP\n",
      "             55 POP_TOP\n",
      "             56 POP_TOP\n",
      "\n",
      " 17          57 LOAD_FAST                2 (word)\n",
      "             60 BUILD_LIST               1\n",
      "             63 LOAD_FAST                0 (self)\n",
      "             66 LOAD_ATTR                0 (by_letter)\n",
      "             69 LOAD_FAST                2 (word)\n",
      "             72 LOAD_CONST               1 (0)\n",
      "             75 BINARY_SUBSCR\n",
      "             76 STORE_SUBSCR\n",
      "             77 POP_EXCEPT\n",
      "             78 JUMP_ABSOLUTE            7\n",
      "        >>   81 END_FINALLY\n",
      "             82 JUMP_ABSOLUTE            7\n",
      "        >>   85 POP_BLOCK\n",
      "        >>   86 LOAD_CONST               0 (None)\n",
      "             89 RETURN_VALUE\n",
      "\n",
      "TIME: 0.0937\n"
     ]
    }
   ],
   "source": [
    "! python3 dis_test_loop.py dis_slow_loop"
   ]
  },
  {
   "cell_type": "markdown",
   "metadata": {},
   "source": [
    "The previous output shows dis_slow_loop.py taking 0.0568 seconds to load the 235886 words in the copy of /usr/share/dict/words on OS X. That is not too bad, but the accompanying disassembly shows that the loop is doing more work than it needs to. As it enters the loop in opcode 14, it sets up an exception context (SETUP_EXCEPT). Then it takes six opcodes to find self.by_letter[word[0]] before appending word to the list. If there is an exception because word[0] is not in the dictionary yet, the exception handler does all of the same work to determine word[0] (three opcodes) and sets self.by_letter[word[0]] to a new list containing the word.\n",
    "\n",
    "One technique to eliminate the exception setup is to pre-populate self.by_letter with one list for each letter of the alphabet. That means the list for the new word should always be found, and the value can be saved after the lookup."
   ]
  },
  {
   "cell_type": "raw",
   "metadata": {},
   "source": [
    "# dis_faster_loop.py\n",
    "#!/usr/bin/env python3\n",
    "# encoding: utf-8\n",
    "\n",
    "import string\n",
    "\n",
    "\n",
    "class Dictionary:\n",
    "\n",
    "    def __init__(self, words):\n",
    "        self.by_letter = {\n",
    "            letter: []\n",
    "            for letter in string.ascii_letters\n",
    "        }\n",
    "        self.load_data(words)\n",
    "\n",
    "    def load_data(self, words):\n",
    "        for word in words:\n",
    "            self.by_letter[word[0]].append(word)"
   ]
  },
  {
   "cell_type": "markdown",
   "metadata": {},
   "source": [
    "The change cuts the number of opcodes in half. Obviously the exception handling had some overhead, but not a significant amount.\n",
    "\n"
   ]
  },
  {
   "cell_type": "code",
   "execution_count": 10,
   "metadata": {
    "collapsed": false
   },
   "outputs": [
    {
     "name": "stdout",
     "output_type": "stream",
     "text": [
      " 18           0 SETUP_LOOP              38 (to 41)\n",
      "              3 LOAD_FAST                1 (words)\n",
      "              6 GET_ITER\n",
      "        >>    7 FOR_ITER                30 (to 40)\n",
      "             10 STORE_FAST               2 (word)\n",
      "\n",
      " 19          13 LOAD_FAST                0 (self)\n",
      "             16 LOAD_ATTR                0 (by_letter)\n",
      "             19 LOAD_FAST                2 (word)\n",
      "             22 LOAD_CONST               1 (0)\n",
      "             25 BINARY_SUBSCR\n",
      "             26 BINARY_SUBSCR\n",
      "             27 LOAD_ATTR                1 (append)\n",
      "             30 LOAD_FAST                2 (word)\n",
      "             33 CALL_FUNCTION            1 (1 positional, 0 keyword pair)\n",
      "             36 POP_TOP\n",
      "             37 JUMP_ABSOLUTE            7\n",
      "        >>   40 POP_BLOCK\n",
      "        >>   41 LOAD_CONST               0 (None)\n",
      "             44 RETURN_VALUE\n",
      "\n",
      "TIME: 0.0863\n"
     ]
    }
   ],
   "source": [
    "! python3 dis_test_loop.py dis_faster_loop"
   ]
  },
  {
   "cell_type": "markdown",
   "metadata": {},
   "source": [
    "The performance can be improved further by moving the lookup for self.by_letter outside of the loop (the value does not change, after all)."
   ]
  },
  {
   "cell_type": "raw",
   "metadata": {},
   "source": [
    "# dis_fastest_loop.py\n",
    "#!/usr/bin/env python3\n",
    "# encoding: utf-8\n",
    "\n",
    "import collections\n",
    "\n",
    "\n",
    "class Dictionary:\n",
    "\n",
    "    def __init__(self, words):\n",
    "        self.by_letter = collections.defaultdict(list)\n",
    "        self.load_data(words)\n",
    "\n",
    "    def load_data(self, words):\n",
    "        by_letter = self.by_letter\n",
    "        for word in words:\n",
    "            by_letter[word[0]].append(word)"
   ]
  },
  {
   "cell_type": "markdown",
   "metadata": {},
   "source": [
    "Opcodes 0-6 now find the value of self.by_letter and save it as a local variable by_letter. Using a local variable only takes a single opcode, instead of two (statement 22 uses LOAD_FAST to place the dictionary onto the stack). After this change, the run time is down a lot."
   ]
  },
  {
   "cell_type": "code",
   "execution_count": 11,
   "metadata": {
    "collapsed": false
   },
   "outputs": [
    {
     "name": "stdout",
     "output_type": "stream",
     "text": [
      " 15           0 LOAD_FAST                0 (self)\n",
      "              3 LOAD_ATTR                0 (by_letter)\n",
      "              6 STORE_FAST               2 (by_letter)\n",
      "\n",
      " 16           9 SETUP_LOOP              35 (to 47)\n",
      "             12 LOAD_FAST                1 (words)\n",
      "             15 GET_ITER\n",
      "        >>   16 FOR_ITER                27 (to 46)\n",
      "             19 STORE_FAST               3 (word)\n",
      "\n",
      " 17          22 LOAD_FAST                2 (by_letter)\n",
      "             25 LOAD_FAST                3 (word)\n",
      "             28 LOAD_CONST               1 (0)\n",
      "             31 BINARY_SUBSCR\n",
      "             32 BINARY_SUBSCR\n",
      "             33 LOAD_ATTR                1 (append)\n",
      "             36 LOAD_FAST                3 (word)\n",
      "             39 CALL_FUNCTION            1 (1 positional, 0 keyword pair)\n",
      "             42 POP_TOP\n",
      "             43 JUMP_ABSOLUTE           16\n",
      "        >>   46 POP_BLOCK\n",
      "        >>   47 LOAD_CONST               0 (None)\n",
      "             50 RETURN_VALUE\n",
      "\n",
      "TIME: 0.0529\n"
     ]
    }
   ],
   "source": [
    "! python3 dis_test_loop.py dis_fastest_loop"
   ]
  },
  {
   "cell_type": "markdown",
   "metadata": {},
   "source": [
    "A further optimization is to eliminate the Python version of the for loop entirely. If itertools.groupby() is used to arrange the input, the iteration is moved to C. This is safe because the inputs are known to be sorted. If that was not the case, the program would need to sort them first."
   ]
  },
  {
   "cell_type": "raw",
   "metadata": {},
   "source": [
    "# dis_eliminate_loop.py\n",
    "#!/usr/bin/env python3\n",
    "# encoding: utf-8\n",
    "\n",
    "import operator\n",
    "import itertools\n",
    "\n",
    "\n",
    "class Dictionary:\n",
    "\n",
    "    def __init__(self, words):\n",
    "        self.by_letter = {}\n",
    "        self.load_data(words)\n",
    "\n",
    "    def load_data(self, words):\n",
    "        # Arrange by letter\n",
    "        grouped = itertools.groupby(\n",
    "            words,\n",
    "            key=operator.itemgetter(0),\n",
    "        )\n",
    "        # Save arranged sets of words\n",
    "        self.by_letter = {\n",
    "            group[0][0]: group\n",
    "            for group in grouped\n",
    "        }"
   ]
  },
  {
   "cell_type": "markdown",
   "metadata": {},
   "source": [
    "The itertools version has about 60% of the run time for the original."
   ]
  },
  {
   "cell_type": "code",
   "execution_count": 12,
   "metadata": {
    "collapsed": false
   },
   "outputs": [
    {
     "name": "stdout",
     "output_type": "stream",
     "text": [
      " 17           0 LOAD_GLOBAL              0 (itertools)\n",
      "              3 LOAD_ATTR                1 (groupby)\n",
      "\n",
      " 18           6 LOAD_FAST                1 (words)\n",
      "              9 LOAD_CONST               1 ('key')\n",
      "\n",
      " 19          12 LOAD_GLOBAL              2 (operator)\n",
      "             15 LOAD_ATTR                3 (itemgetter)\n",
      "             18 LOAD_CONST               2 (0)\n",
      "             21 CALL_FUNCTION            1 (1 positional, 0 keyword pair)\n",
      "             24 CALL_FUNCTION          257 (1 positional, 1 keyword pair)\n",
      "             27 STORE_FAST               2 (grouped)\n",
      "\n",
      " 22          30 LOAD_CONST               3 (<code object <dictcomp> at 0x102279e40, file \"/Users/binyang/GitHub/Py3MOTW/Language_Tools/dis_eliminate_loop.py\", line 22>)\n",
      "             33 LOAD_CONST               4 ('Dictionary.load_data.<locals>.<dictcomp>')\n",
      "             36 MAKE_FUNCTION            0\n",
      "\n",
      " 24          39 LOAD_FAST                2 (grouped)\n",
      "             42 GET_ITER\n",
      "             43 CALL_FUNCTION            1 (1 positional, 0 keyword pair)\n",
      "             46 LOAD_FAST                0 (self)\n",
      "             49 STORE_ATTR               4 (by_letter)\n",
      "             52 LOAD_CONST               0 (None)\n",
      "             55 RETURN_VALUE\n",
      "\n",
      "TIME: 0.0308\n"
     ]
    }
   ],
   "source": [
    "! python3 dis_test_loop.py dis_eliminate_loop"
   ]
  },
  {
   "cell_type": "markdown",
   "metadata": {},
   "source": [
    "## Compiler Optimizations\n",
    "\n",
    "Disassembling compiled source also exposes some of the optimizations made by the compiler. For example, literal expressions are folded during compilation, when possible."
   ]
  },
  {
   "cell_type": "raw",
   "metadata": {},
   "source": [
    "# dis_constant_folding.py\n",
    "\n",
    "#!/usr/bin/env python3\n",
    "# encoding: utf-8\n",
    "\n",
    "# Folded\n",
    "i = 1 + 2\n",
    "f = 3.4 * 5.6\n",
    "s = 'Hello,' + ' World!'\n",
    "\n",
    "# Not folded\n",
    "I = i * 3 * 4\n",
    "F = f / 2 / 3\n",
    "S = s + '\\n' + 'Fantastic!'"
   ]
  },
  {
   "cell_type": "markdown",
   "metadata": {},
   "source": [
    "None of the values in the expressions on lines 7-9 can change the way the operation is performed, so the result of the expressions can be computed at compilation time and collapsed into single LOAD_CONST instructions. That is not true about lines 12-14. Because a variable is involved in those expressions, and the variable might refer to an object that overloads the operator involved, the evaluation has to be delayed to runtime."
   ]
  },
  {
   "cell_type": "code",
   "execution_count": 13,
   "metadata": {
    "collapsed": false
   },
   "outputs": [
    {
     "name": "stdout",
     "output_type": "stream",
     "text": [
      "  7           0 LOAD_CONST              11 (3)\r\n",
      "              3 STORE_NAME               0 (i)\r\n",
      "\r\n",
      "  8           6 LOAD_CONST              12 (19.04)\r\n",
      "              9 STORE_NAME               1 (f)\r\n",
      "\r\n",
      "  9          12 LOAD_CONST              13 ('Hello, World!')\r\n",
      "             15 STORE_NAME               2 (s)\r\n",
      "\r\n",
      " 12          18 LOAD_NAME                0 (i)\r\n",
      "             21 LOAD_CONST               6 (3)\r\n",
      "             24 BINARY_MULTIPLY\r\n",
      "             25 LOAD_CONST               7 (4)\r\n",
      "             28 BINARY_MULTIPLY\r\n",
      "             29 STORE_NAME               3 (I)\r\n",
      "\r\n",
      " 13          32 LOAD_NAME                1 (f)\r\n",
      "             35 LOAD_CONST               1 (2)\r\n",
      "             38 BINARY_TRUE_DIVIDE\r\n",
      "             39 LOAD_CONST               6 (3)\r\n",
      "             42 BINARY_TRUE_DIVIDE\r\n",
      "             43 STORE_NAME               4 (F)\r\n",
      "\r\n",
      " 14          46 LOAD_NAME                2 (s)\r\n",
      "             49 LOAD_CONST               8 ('\\n')\r\n",
      "             52 BINARY_ADD\r\n",
      "             53 LOAD_CONST               9 ('Fantastic!')\r\n",
      "             56 BINARY_ADD\r\n",
      "             57 STORE_NAME               5 (S)\r\n",
      "             60 LOAD_CONST              10 (None)\r\n",
      "             63 RETURN_VALUE\r\n"
     ]
    }
   ],
   "source": [
    "! python3 -m dis dis_constant_folding.py"
   ]
  }
 ],
 "metadata": {
  "kernelspec": {
   "display_name": "Python 3",
   "language": "python",
   "name": "python3"
  },
  "language_info": {
   "codemirror_mode": {
    "name": "ipython",
    "version": 3
   },
   "file_extension": ".py",
   "mimetype": "text/x-python",
   "name": "python",
   "nbconvert_exporter": "python",
   "pygments_lexer": "ipython3",
   "version": "3.5.2"
  }
 },
 "nbformat": 4,
 "nbformat_minor": 2
}
