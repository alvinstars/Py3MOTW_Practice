{
 "cells": [
  {
   "cell_type": "markdown",
   "metadata": {},
   "source": [
    "# abc - Abstract Base Classes\n",
    "\n",
    "Purpose:\tDefine and use abstract base classes for interface verification."
   ]
  },
  {
   "cell_type": "markdown",
   "metadata": {},
   "source": [
    "## Why use Abstract Base Classes?\n",
    "\n",
    "Abstract base classes are a form of interface checking more strict than individual hasattr() checks for particular methods. By defining an abstract base class, a common API can be established for a set of subclasses. This capability is especially useful in situations where someone less familiar with the source for an application is going to provide plug-in extensions, but can also help when working on a large team or with a large code-base where keeping track of all of the classes at the same time is difficult or not possible."
   ]
  },
  {
   "cell_type": "markdown",
   "metadata": {},
   "source": [
    "## How ABCs Work\n",
    "\n",
    "abc works by marking methods of the base class as abstract, and then registering concrete classes as implementations of the abstract base. If an application or library requires a particular API, issubclass() or isinstance() can be used to check an object against the abstract class.\n",
    "\n",
    "To start, define an abstract base class to represent the API of a set of plug-ins for saving and loading data. Set the metaclass for the new base class to ABCMeta, and use decorators to establish the public API for the class. The following examples use abc_base.py."
   ]
  },
  {
   "cell_type": "raw",
   "metadata": {
    "collapsed": false
   },
   "source": [
    "# abc_base.py\n",
    "import abc\n",
    "\n",
    "class PluginBase(metaclass=abc.ABCMeta):\n",
    "\n",
    "    @abc.abstractmethod\n",
    "    def load(self, input):\n",
    "        \"\"\"Retrieve data from the input source\n",
    "        and return an object.\n",
    "        \"\"\"\n",
    "\n",
    "    @abc.abstractmethod\n",
    "    def save(self, output, data):\n",
    "        \"\"\"Save the data object to the output.\"\"\""
   ]
  },
  {
   "cell_type": "markdown",
   "metadata": {},
   "source": [
    "## Registering a Concrete Class\n",
    "\n",
    "There are two ways to indicate that a concrete class implements an abstract API: either explicitly register the class or create a new subclass directly from the abstract base. Use the register() class method as a decorator on a concrete class to add it explicitly when the class provides the required API, but is not part of the inheritance tree of the abstract base class."
   ]
  },
  {
   "cell_type": "raw",
   "metadata": {
    "collapsed": false
   },
   "source": [
    "# abc_register.py\n",
    "import abc\n",
    "from abc_base import PluginBase\n",
    "\n",
    "\n",
    "class LocalBaseClass:\n",
    "    pass\n",
    "\n",
    "\n",
    "@PluginBase.register\n",
    "class RegisteredImplementation(LocalBaseClass):\n",
    "\n",
    "    def load(self, input):\n",
    "        return input.read()\n",
    "\n",
    "    def save(self, output, data):\n",
    "        return output.write(data)\n",
    "\n",
    "\n",
    "if __name__ == '__main__':\n",
    "    print('Subclass:', issubclass(RegisteredImplementation,\n",
    "                                  PluginBase))\n",
    "    print('Instance:', isinstance(RegisteredImplementation(),\n",
    "                                  PluginBase))"
   ]
  },
  {
   "cell_type": "markdown",
   "metadata": {},
   "source": [
    "In this example the RegisteredImplementation is derived from LocalBaseClass, but is registered as implementing the PluginBase API so issubclass() and isinstance() treat it as though it is derived from PluginBase."
   ]
  },
  {
   "cell_type": "code",
   "execution_count": 1,
   "metadata": {
    "collapsed": false
   },
   "outputs": [
    {
     "name": "stdout",
     "output_type": "stream",
     "text": [
      "Subclass: True\r\n",
      "Instance: True\r\n"
     ]
    }
   ],
   "source": [
    "! python3 abc_register.py"
   ]
  },
  {
   "cell_type": "markdown",
   "metadata": {
    "collapsed": true
   },
   "source": [
    "## Implementation Through Subclassing\n",
    "\n",
    "Subclassing directly from the base avoids the need to register the class explicitly."
   ]
  },
  {
   "cell_type": "raw",
   "metadata": {
    "collapsed": true
   },
   "source": [
    "# abc_subclass.py\n",
    "import abc\n",
    "from abc_base import PluginBase\n",
    "\n",
    "\n",
    "class SubclassImplementation(PluginBase):\n",
    "\n",
    "    def load(self, input):\n",
    "        return input.read()\n",
    "\n",
    "    def save(self, output, data):\n",
    "        return output.write(data)\n",
    "\n",
    "\n",
    "if __name__ == '__main__':\n",
    "    print('Subclass:', issubclass(SubclassImplementation,\n",
    "                                  PluginBase))\n",
    "    print('Instance:', isinstance(SubclassImplementation(),\n",
    "                                  PluginBase))"
   ]
  },
  {
   "cell_type": "markdown",
   "metadata": {
    "collapsed": true
   },
   "source": [
    "In this case, normal Python class management features are used to recognize SubclassImplementation as implementing the abstract PluginBase."
   ]
  },
  {
   "cell_type": "code",
   "execution_count": 2,
   "metadata": {
    "collapsed": false
   },
   "outputs": [
    {
     "name": "stdout",
     "output_type": "stream",
     "text": [
      "Subclass: True\r\n",
      "Instance: True\r\n"
     ]
    }
   ],
   "source": [
    "! python3 abc_subclass.py"
   ]
  },
  {
   "cell_type": "markdown",
   "metadata": {
    "collapsed": true
   },
   "source": [
    "A side effect of using direct subclassing is it is possible to find all of the implementations of a plug-in by asking the base class for the list of known classes derived from it (this is not an abc feature, all classes can do this)."
   ]
  },
  {
   "cell_type": "raw",
   "metadata": {
    "collapsed": true
   },
   "source": [
    "# abc_find_subclasses.py\n",
    "import abc\n",
    "from abc_base import PluginBase\n",
    "import abc_subclass\n",
    "import abc_register\n",
    "\n",
    "for sc in PluginBase.__subclasses__():\n",
    "    print(sc.__name__)"
   ]
  },
  {
   "cell_type": "markdown",
   "metadata": {
    "collapsed": true
   },
   "source": [
    "Even though abc_register() is imported, RegisteredImplementation is not among the list of subclasses because it is not actually derived from the base."
   ]
  },
  {
   "cell_type": "code",
   "execution_count": 3,
   "metadata": {
    "collapsed": false
   },
   "outputs": [
    {
     "name": "stdout",
     "output_type": "stream",
     "text": [
      "SubclassImplementation\r\n"
     ]
    }
   ],
   "source": [
    "! python3 abc_find_subclass.py"
   ]
  },
  {
   "cell_type": "markdown",
   "metadata": {
    "collapsed": true
   },
   "source": [
    "## Helper Base Class\n",
    "\n",
    "Forgetting to set the metaclass properly means the concrete implementations do not have their APIs enforced. To make it easier to set up the abstract class properly, a base class is provided that sets the metaclass automatically."
   ]
  },
  {
   "cell_type": "raw",
   "metadata": {
    "collapsed": true
   },
   "source": [
    "# abc_abc_base.py\n",
    "import abc\n",
    "\n",
    "\n",
    "class PluginBase(abc.ABC):\n",
    "\n",
    "    @abc.abstractmethod\n",
    "    def load(self, input):\n",
    "        \"\"\"Retrieve data from the input source\n",
    "        and return an object.\n",
    "        \"\"\"\n",
    "\n",
    "    @abc.abstractmethod\n",
    "    def save(self, output, data):\n",
    "        \"\"\"Save the data object to the output.\"\"\"\n",
    "\n",
    "\n",
    "class SubclassImplementation(PluginBase):\n",
    "\n",
    "    def load(self, input):\n",
    "        return input.read()\n",
    "\n",
    "    def save(self, output, data):\n",
    "        return output.write(data)\n",
    "\n",
    "\n",
    "if __name__ == '__main__':\n",
    "    print('Subclass:', issubclass(SubclassImplementation,\n",
    "                                  PluginBase))\n",
    "    print('Instance:', isinstance(SubclassImplementation(),\n",
    "                                  PluginBase))"
   ]
  },
  {
   "cell_type": "markdown",
   "metadata": {
    "collapsed": true
   },
   "source": [
    "To create a new abstract class, simply inherit from ABC."
   ]
  },
  {
   "cell_type": "code",
   "execution_count": 4,
   "metadata": {
    "collapsed": false
   },
   "outputs": [
    {
     "name": "stdout",
     "output_type": "stream",
     "text": [
      "Subclass: True\r\n",
      "Instance: True\r\n"
     ]
    }
   ],
   "source": [
    "! python3 abc_abc_base.py"
   ]
  },
  {
   "cell_type": "markdown",
   "metadata": {
    "collapsed": true
   },
   "source": [
    "## Incomplete Implementations\n",
    "\n",
    "Another benefit of subclassing directly from the abstract base class is that the subclass cannot be instantiated unless it fully implements the abstract portion of the API."
   ]
  },
  {
   "cell_type": "code",
   "execution_count": 5,
   "metadata": {
    "collapsed": false
   },
   "outputs": [
    {
     "name": "stdout",
     "output_type": "stream",
     "text": [
      "Subclass: True\n",
      "Can't instantiate abstract class IncompleteImplementation with abstract methods load\n"
     ]
    }
   ],
   "source": [
    "# abc_incomplete.py\n",
    "import abc\n",
    "from abc_base import PluginBase\n",
    "\n",
    "\n",
    "@PluginBase.register\n",
    "class IncompleteImplementation(PluginBase):\n",
    "\n",
    "    def save(self, output, data):\n",
    "        return output.write(data)\n",
    "\n",
    "\n",
    "if __name__ == '__main__':\n",
    "    print('Subclass:', issubclass(IncompleteImplementation,\n",
    "                                  PluginBase))\n",
    "    try:\n",
    "        print('Instance:', isinstance(IncompleteImplementation(),\n",
    "                                  PluginBase))\n",
    "    except Exception as e:\n",
    "        print(e)"
   ]
  },
  {
   "cell_type": "markdown",
   "metadata": {
    "collapsed": true
   },
   "source": [
    "This keeps incomplete implementations from triggering unexpected errors at runtime."
   ]
  },
  {
   "cell_type": "markdown",
   "metadata": {
    "collapsed": true
   },
   "source": [
    "## Concrete Methods in ABCs\n",
    "\n",
    "Although a concrete class must provide implementations of all abstract methods, the abstract base class can also provide implementations that can be invoked via super(). This allows common logic to be reused by placing it in the base class, but forces subclasses to provide an overriding method with (potentially) custom logic."
   ]
  },
  {
   "cell_type": "raw",
   "metadata": {
    "collapsed": true
   },
   "source": [
    "# abc_concrete_method.py\n",
    "import abc\n",
    "import io\n",
    "\n",
    "\n",
    "class ABCWithConcreteImplementation(abc.ABC):\n",
    "\n",
    "    @abc.abstractmethod\n",
    "    def retrieve_values(self, input):\n",
    "        print('base class reading data')\n",
    "        return input.read()\n",
    "\n",
    "\n",
    "class ConcreteOverride(ABCWithConcreteImplementation):\n",
    "\n",
    "    def retrieve_values(self, input):\n",
    "        base_data = super(ConcreteOverride,\n",
    "                          self).retrieve_values(input)\n",
    "        print('subclass sorting data')\n",
    "        response = sorted(base_data.splitlines())\n",
    "        return response\n",
    "\n",
    "\n",
    "input = io.StringIO(\"\"\"line one\n",
    "line two\n",
    "line three\n",
    "\"\"\")\n",
    "\n",
    "reader = ConcreteOverride()\n",
    "print(reader.retrieve_values(input))\n",
    "print()"
   ]
  },
  {
   "cell_type": "markdown",
   "metadata": {
    "collapsed": true
   },
   "source": [
    "Since ABCWithConcreteImplementation() is an abstract base class, it is not possible to instantiate it to use it directly. Subclasses must provide an override for retrieve_values(), and in this case the concrete class sorts the data before returning it."
   ]
  },
  {
   "cell_type": "code",
   "execution_count": 6,
   "metadata": {
    "collapsed": false
   },
   "outputs": [
    {
     "name": "stdout",
     "output_type": "stream",
     "text": [
      "base class reading data\r\n",
      "subclass sorting data\r\n",
      "['line one', 'line three', 'line two']\r\n",
      "\r\n"
     ]
    }
   ],
   "source": [
    "! python3 abc_concrete_method.py"
   ]
  },
  {
   "cell_type": "markdown",
   "metadata": {
    "collapsed": true
   },
   "source": [
    "## Abstract Properties\n",
    "\n",
    "If an API specification includes attributes in addition to methods, it can require the attributes in concrete classes by combining abstractmethod() with property()."
   ]
  },
  {
   "cell_type": "raw",
   "metadata": {},
   "source": [
    "# abc_abstractproperty.py\n",
    "import abc\n",
    "\n",
    "\n",
    "class Base(abc.ABC):\n",
    "\n",
    "    @property\n",
    "    @abc.abstractmethod\n",
    "    def value(self):\n",
    "        return 'Should never reach here'\n",
    "\n",
    "    @property\n",
    "    @abc.abstractmethod\n",
    "    def constant(self):\n",
    "        return 'Should never reach here'\n",
    "\n",
    "\n",
    "class Implementation(Base):\n",
    "\n",
    "    @property\n",
    "    def value(self):\n",
    "        return 'concrete property'\n",
    "\n",
    "    constant = 'set by a class attribute'\n",
    "\n",
    "\n",
    "try:\n",
    "    b = Base()\n",
    "    print('Base.value:', b.value)\n",
    "except Exception as err:\n",
    "    print('ERROR:', str(err))\n",
    "\n",
    "i = Implementation()\n",
    "print('Implementation.value   :', i.value)\n",
    "print('Implementation.constant:', i.constant)"
   ]
  },
  {
   "cell_type": "markdown",
   "metadata": {
    "collapsed": true
   },
   "source": [
    "The Base class in the example cannot be instantiated because it has only an abstract version of the property getter methods for value and constant. The value property is given a concrete getter in Implementation and constant is defined using a class attribute."
   ]
  },
  {
   "cell_type": "code",
   "execution_count": 7,
   "metadata": {
    "collapsed": false
   },
   "outputs": [
    {
     "name": "stdout",
     "output_type": "stream",
     "text": [
      "ERROR: Can't instantiate abstract class Base with abstract methods constant, value\r\n",
      "Implementation.value   : concrete property\r\n",
      "Implementation.constant: set by a class attribute\r\n"
     ]
    }
   ],
   "source": [
    "! python3 abc_abstractproperty.py"
   ]
  },
  {
   "cell_type": "markdown",
   "metadata": {},
   "source": [
    "Abstract read-write properties can also be defined."
   ]
  },
  {
   "cell_type": "raw",
   "metadata": {},
   "source": [
    "# abc_abstractproperty_rw.py\n",
    "import abc\n",
    "\n",
    "\n",
    "class Base(abc.ABC):\n",
    "\n",
    "    @property\n",
    "    @abc.abstractmethod\n",
    "    def value(self):\n",
    "        return 'Should never reach here'\n",
    "\n",
    "    @value.setter\n",
    "    @abc.abstractmethod\n",
    "    def value(self, new_value):\n",
    "        return\n",
    "\n",
    "\n",
    "class PartialImplementation(Base):\n",
    "\n",
    "    @property\n",
    "    def value(self):\n",
    "        return 'Read-only'\n",
    "\n",
    "\n",
    "class Implementation(Base):\n",
    "\n",
    "    _value = 'Default value'\n",
    "\n",
    "    @property\n",
    "    def value(self):\n",
    "        return self._value\n",
    "\n",
    "    @value.setter\n",
    "    def value(self, new_value):\n",
    "        self._value = new_value\n",
    "\n",
    "\n",
    "try:\n",
    "    b = Base()\n",
    "    print('Base.value:', b.value)\n",
    "except Exception as err:\n",
    "    print('ERROR:', str(err))\n",
    "\n",
    "p = PartialImplementation()\n",
    "print('PartialImplementation.value:', p.value)\n",
    "\n",
    "try:\n",
    "    p.value = 'Alteration'\n",
    "    print('PartialImplementation.value:', p.value)\n",
    "except Exception as err:\n",
    "    print('ERROR:', str(err))\n",
    "\n",
    "i = Implementation()\n",
    "print('Implementation.value:', i.value)\n",
    "\n",
    "i.value = 'New value'\n",
    "print('Changed value:', i.value)"
   ]
  },
  {
   "cell_type": "markdown",
   "metadata": {},
   "source": [
    "The concrete property must be defined the same way as the abstract property, as either read-write or read-only. Overriding a read-write property in PartialImplementation with one that is read-only leaves the property read-only – the property’s setter method from the base class is not reused."
   ]
  },
  {
   "cell_type": "code",
   "execution_count": 8,
   "metadata": {
    "collapsed": false
   },
   "outputs": [
    {
     "name": "stdout",
     "output_type": "stream",
     "text": [
      "ERROR: Can't instantiate abstract class Base with abstract methods value\r\n",
      "PartialImplementation.value: Read-only\r\n",
      "ERROR: can't set attribute\r\n",
      "Implementation.value: Default value\r\n",
      "Changed value: New value\r\n"
     ]
    }
   ],
   "source": [
    "! python3 abc_abstractproperty_rw.py"
   ]
  },
  {
   "cell_type": "markdown",
   "metadata": {},
   "source": [
    "To use the decorator syntax with read-write abstract properties, the methods to get and set the value must be named the same."
   ]
  },
  {
   "cell_type": "markdown",
   "metadata": {},
   "source": [
    "## Abstract Class and Static Methods\n",
    "\n",
    "Class and static methods can also be marked as abstract."
   ]
  },
  {
   "cell_type": "code",
   "execution_count": 9,
   "metadata": {
    "collapsed": false
   },
   "outputs": [
    {
     "name": "stdout",
     "output_type": "stream",
     "text": [
      "ERROR: Can't instantiate abstract class Base with abstract methods const_behavior, factory\n",
      "Implementation.const_behavior : Static behavior differs\n"
     ]
    }
   ],
   "source": [
    "# abc_class_static.py\n",
    "import abc\n",
    "\n",
    "\n",
    "class Base(abc.ABC):\n",
    "\n",
    "    @classmethod\n",
    "    @abc.abstractmethod\n",
    "    def factory(cls, *args):\n",
    "        return cls()\n",
    "\n",
    "    @staticmethod\n",
    "    @abc.abstractmethod\n",
    "    def const_behavior():\n",
    "        return 'Should never reach here'\n",
    "\n",
    "\n",
    "class Implementation(Base):\n",
    "\n",
    "    def do_something(self):\n",
    "        pass\n",
    "\n",
    "    @classmethod\n",
    "    def factory(cls, *args):\n",
    "        obj = cls(*args)\n",
    "        obj.do_something()\n",
    "        return obj\n",
    "\n",
    "    @staticmethod\n",
    "    def const_behavior():\n",
    "        return 'Static behavior differs'\n",
    "\n",
    "\n",
    "try:\n",
    "    o = Base.factory()\n",
    "    print('Base.value:', o.const_behavior())\n",
    "except Exception as err:\n",
    "    print('ERROR:', str(err))\n",
    "\n",
    "i = Implementation.factory()\n",
    "print('Implementation.const_behavior :', i.const_behavior())\n"
   ]
  },
  {
   "cell_type": "markdown",
   "metadata": {},
   "source": [
    "Although the class method is invoked on the class rather than an instance, it still prevents the class from being instantiated if it is not defined."
   ]
  },
  {
   "cell_type": "code",
   "execution_count": 10,
   "metadata": {
    "collapsed": false
   },
   "outputs": [
    {
     "name": "stdout",
     "output_type": "stream",
     "text": [
      "ERROR: Can't instantiate abstract class Base with abstract methods const_behavior, factory\r\n",
      "Implementation.const_behavior : Static behavior differs\r\n"
     ]
    }
   ],
   "source": [
    "! python3 abc_class_static.py"
   ]
  }
 ],
 "metadata": {
  "kernelspec": {
   "display_name": "Python 3",
   "language": "python",
   "name": "python3"
  },
  "language_info": {
   "codemirror_mode": {
    "name": "ipython",
    "version": 3
   },
   "file_extension": ".py",
   "mimetype": "text/x-python",
   "name": "python",
   "nbconvert_exporter": "python",
   "pygments_lexer": "ipython3",
   "version": "3.5.2"
  }
 },
 "nbformat": 4,
 "nbformat_minor": 2
}
