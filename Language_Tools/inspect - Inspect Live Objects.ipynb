{
 "cells": [
  {
   "cell_type": "markdown",
   "metadata": {},
   "source": [
    "# inspect — Inspect Live Objects\n",
    "\n",
    "Purpose:\tThe inspect module provides functions for introspecting on live objects and their source code.\n",
    "\n",
    "The inspect module provides functions for learning about live objects, including modules, classes, instances, functions, and methods. The functions in this module can be used to retrieve the original source code for a function, look at the arguments to a method on the stack, and extract the sort of information useful for producing library documentation for source code."
   ]
  },
  {
   "cell_type": "markdown",
   "metadata": {
    "collapsed": true
   },
   "source": [
    "## Example Module\n",
    "\n",
    "The rest of the examples for this section use this example file, example.py."
   ]
  },
  {
   "cell_type": "code",
   "execution_count": 1,
   "metadata": {
    "collapsed": true
   },
   "outputs": [],
   "source": [
    "# example.py\n",
    "# This comment appears first\n",
    "# and spans 2 lines.\n",
    "\n",
    "# This comment does not show up in the output of getcomments().\n",
    "\n",
    "\"\"\"Sample file to serve as the basis for inspect examples.\n",
    "\"\"\"\n",
    "\n",
    "\n",
    "def module_level_function(arg1, arg2='default', *args, **kwargs):\n",
    "    \"\"\"This function is declared in the module.\"\"\"\n",
    "    local_variable = arg1 * 2\n",
    "    return local_variable\n",
    "\n",
    "\n",
    "class A(object):\n",
    "    \"\"\"The A class.\"\"\"\n",
    "\n",
    "    def __init__(self, name):\n",
    "        self.name = name\n",
    "\n",
    "    def get_name(self):\n",
    "        \"Returns the name of the instance.\"\n",
    "        return self.name\n",
    "\n",
    "\n",
    "instance_of_a = A('sample_instance')\n",
    "\n",
    "\n",
    "class B(A):\n",
    "    \"\"\"This is the B class.\n",
    "    It is derived from A.\n",
    "    \"\"\"\n",
    "\n",
    "    # This method is not part of A.\n",
    "    def do_something(self):\n",
    "        \"\"\"Does some work\"\"\"\n",
    "\n",
    "    def get_name(self):\n",
    "        \"Overrides version from A\"\n",
    "        return 'B(' + self.name + ')'"
   ]
  },
  {
   "cell_type": "markdown",
   "metadata": {},
   "source": [
    "## Inspecting Modules\n",
    "\n",
    "The first kind of introspection probes live objects to learn about them. Use getmembers() to discover the member attributes of object. The types of members that might be returned depend on the type of object scanned. Modules can contain classes and functions; classes can contain methods and attributes; and so on.\n",
    "\n",
    "The arguments to getmembers() are an object to scan (a module, class, or instance) and an optional predicate function that is used to filter the objects returned. The return value is a list of tuples with two values: the name of the member, and the type of the member. The inspect module includes several such predicate functions with names like ismodule(), isclass(), etc."
   ]
  },
  {
   "cell_type": "markdown",
   "metadata": {},
   "source": [
    "This sample prints the members of the example module. Modules have several private attributes that are used as part of the import implementation as well as a set of __builtins__. All of these are ignored in the output for this example because they are not actually part of the module and the list is long.\n",
    "\n"
   ]
  },
  {
   "cell_type": "code",
   "execution_count": 2,
   "metadata": {
    "collapsed": false
   },
   "outputs": [
    {
     "name": "stdout",
     "output_type": "stream",
     "text": [
      "A : <class 'example.A'>\n",
      "B : <class 'example.B'>\n",
      "instance_of_a : <example.A object at 0x1041c10f0>\n",
      "module_level_function : <function module_level_function at 0x1041a0d90>\n"
     ]
    }
   ],
   "source": [
    "# inspect_getmembers_module.py\n",
    "import inspect\n",
    "\n",
    "import example\n",
    "\n",
    "for name, data in inspect.getmembers(example):\n",
    "    if name.startswith('__'):\n",
    "        continue\n",
    "    print('{} : {!r}'.format(name, data))"
   ]
  },
  {
   "cell_type": "markdown",
   "metadata": {
    "collapsed": true
   },
   "source": [
    "## Inspecting Classes\n",
    "\n",
    "Classes are scanned using getmembers() in the same way as modules, though the types of members are different.\n",
    "\n",
    "Because no filtering is applied, the output shows the attributes, methods, slots, and other members of the class."
   ]
  },
  {
   "cell_type": "code",
   "execution_count": 3,
   "metadata": {
    "collapsed": false
   },
   "outputs": [
    {
     "name": "stdout",
     "output_type": "stream",
     "text": [
      "[('__class__', <class 'type'>),\n",
      " ('__delattr__',\n",
      "  <slot wrapper '__delattr__' of 'object' objects>),\n",
      " ('__dict__',\n",
      "  mappingproxy({'__dict__': <attribute '__dict__' of 'A' objects>,\n",
      "                '__doc__': 'The A class.',\n",
      "                '__init__': <function A.__init__ at 0x1041af0d0>,\n",
      "                '__module__': 'example',\n",
      "                '__weakref__': <attribute '__weakref__' of 'A' objects>,\n",
      "                'get_name': <function A.get_name at 0x1041af510>})),\n",
      " ('__dir__', <method '__dir__' of 'object' objects>),\n",
      " ('__doc__', 'The A class.'),\n",
      " ('__eq__', <slot wrapper '__eq__' of 'object' objects>),\n",
      " ('__format__', <method '__format__' of 'object' objects>),\n",
      " ('__ge__', <slot wrapper '__ge__' of 'object' objects>),\n",
      " ('__getattribute__',\n",
      "  <slot wrapper '__getattribute__' of 'object' objects>),\n",
      " ('__gt__', <slot wrapper '__gt__' of 'object' objects>),\n",
      " ('__hash__', <slot wrapper '__hash__' of 'object' objects>),\n",
      " ('__init__', <function A.__init__ at 0x1041af0d0>),\n",
      " ('__le__', <slot wrapper '__le__' of 'object' objects>),\n",
      " ('__lt__', <slot wrapper '__lt__' of 'object' objects>),\n",
      " ('__module__', 'example'),\n",
      " ('__ne__', <slot wrapper '__ne__' of 'object' objects>),\n",
      " ('__new__',\n",
      "  <built-in method __new__ of type object at 0x1001d3c80>),\n",
      " ('__reduce__', <method '__reduce__' of 'object' objects>),\n",
      " ('__reduce_ex__', <method '__reduce_ex__' of 'object' objects>),\n",
      " ('__repr__', <slot wrapper '__repr__' of 'object' objects>),\n",
      " ('__setattr__',\n",
      "  <slot wrapper '__setattr__' of 'object' objects>),\n",
      " ('__sizeof__', <method '__sizeof__' of 'object' objects>),\n",
      " ('__str__', <slot wrapper '__str__' of 'object' objects>),\n",
      " ('__subclasshook__',\n",
      "  <built-in method __subclasshook__ of type object at 0x1045daae8>),\n",
      " ('__weakref__', <attribute '__weakref__' of 'A' objects>),\n",
      " ('get_name', <function A.get_name at 0x1041af510>)]\n"
     ]
    }
   ],
   "source": [
    "# inspect_getmembers_class.py\n",
    "import inspect\n",
    "from pprint import pprint\n",
    "\n",
    "import example\n",
    "\n",
    "pprint(inspect.getmembers(example.A), width=65)"
   ]
  },
  {
   "cell_type": "markdown",
   "metadata": {
    "collapsed": true
   },
   "source": [
    "To find the methods of a class, use the isfunction() predicate. The ismethod() predicate only recognizes bound methods of instances.\n",
    "\n",
    "Only unbound methods are returned now."
   ]
  },
  {
   "cell_type": "code",
   "execution_count": 4,
   "metadata": {
    "collapsed": false
   },
   "outputs": [
    {
     "name": "stdout",
     "output_type": "stream",
     "text": [
      "[('__init__', <function A.__init__ at 0x1041af0d0>),\n",
      " ('get_name', <function A.get_name at 0x1041af510>)]\n"
     ]
    }
   ],
   "source": [
    "# inspect_getmembers_class_methods.py\n",
    "import inspect\n",
    "from pprint import pprint\n",
    "\n",
    "import example\n",
    "\n",
    "pprint(inspect.getmembers(example.A, inspect.isfunction))"
   ]
  },
  {
   "cell_type": "markdown",
   "metadata": {
    "collapsed": true
   },
   "source": [
    "The output for B includes the override for get_name() as well as the new method, and the inherited \\__init\\__() method implemented in A.\n",
    "\n",
    "Methods inherited from A, such as \\__init\\__(), are identified as being methods of B."
   ]
  },
  {
   "cell_type": "code",
   "execution_count": 5,
   "metadata": {
    "collapsed": false
   },
   "outputs": [
    {
     "name": "stdout",
     "output_type": "stream",
     "text": [
      "[('__init__', <function A.__init__ at 0x1041af0d0>),\n",
      " ('do_something', <function B.do_something at 0x1041af6a8>),\n",
      " ('get_name', <function B.get_name at 0x1041af620>)]\n"
     ]
    }
   ],
   "source": [
    "# inspect_getmembers_class_methods_b.py\n",
    "import inspect\n",
    "from pprint import pprint\n",
    "\n",
    "import example\n",
    "\n",
    "pprint(inspect.getmembers(example.B, inspect.isfunction))"
   ]
  },
  {
   "cell_type": "markdown",
   "metadata": {
    "collapsed": true
   },
   "source": [
    "## Inspecting Instances\n",
    "\n",
    "Introspecting instances works in the same way as other objects.\n",
    "\n",
    "The predicate ismethod() recognizes two bound methods from A in the example instance."
   ]
  },
  {
   "cell_type": "code",
   "execution_count": 6,
   "metadata": {
    "collapsed": false
   },
   "outputs": [
    {
     "name": "stdout",
     "output_type": "stream",
     "text": [
      "[('__init__', <bound method A.__init__ of <example.A object at 0x1041a55f8>>),\n",
      " ('get_name', <bound method A.get_name of <example.A object at 0x1041a55f8>>)]\n"
     ]
    }
   ],
   "source": [
    "# inspect_getmembers_instance.py\n",
    "import inspect\n",
    "from pprint import pprint\n",
    "\n",
    "import example\n",
    "\n",
    "a = example.A(name='inspect_getmembers')\n",
    "pprint(inspect.getmembers(a, inspect.ismethod))"
   ]
  },
  {
   "cell_type": "markdown",
   "metadata": {
    "collapsed": true
   },
   "source": [
    "## Documentation Strings\n",
    "\n",
    "The docstring for an object can be retrieved with getdoc(). The return value is the \\__doc\\__ attribute with tabs expanded to spaces and with indentation made uniform.\n",
    "\n",
    "The second line of the docstring is indented when it is retrieved through the attribute directly, but moved to the left margin by getdoc()."
   ]
  },
  {
   "cell_type": "code",
   "execution_count": 7,
   "metadata": {
    "collapsed": false
   },
   "outputs": [
    {
     "name": "stdout",
     "output_type": "stream",
     "text": [
      "B.__doc__:\n",
      "This is the B class.\n",
      "    It is derived from A.\n",
      "    \n",
      "\n",
      "getdoc(B):\n",
      "This is the B class.\n",
      "It is derived from A.\n"
     ]
    }
   ],
   "source": [
    "# inspect_getdoc.py\n",
    "import inspect\n",
    "import example\n",
    "\n",
    "print('B.__doc__:')\n",
    "print(example.B.__doc__)\n",
    "print()\n",
    "print('getdoc(B):')\n",
    "print(inspect.getdoc(example.B))"
   ]
  },
  {
   "cell_type": "markdown",
   "metadata": {
    "collapsed": true
   },
   "source": [
    "In addition to the actual docstring, it is possible to retrieve the comments from the source file where an object is implemented, if the source is available. The getcomments() function looks at the source of the object and finds comments on lines preceding the implementation.\n",
    "\n",
    "The lines returned include the comment prefix with any whitespace prefix stripped off."
   ]
  },
  {
   "cell_type": "code",
   "execution_count": 8,
   "metadata": {
    "collapsed": false
   },
   "outputs": [
    {
     "name": "stdout",
     "output_type": "stream",
     "text": [
      "# This method is not part of A.\n",
      "\n"
     ]
    }
   ],
   "source": [
    "# inspect_getcomments_method.py\n",
    "import inspect\n",
    "import example\n",
    "\n",
    "print(inspect.getcomments(example.B.do_something))"
   ]
  },
  {
   "cell_type": "markdown",
   "metadata": {
    "collapsed": true
   },
   "source": [
    "When a module is passed to getcomments(), the return value is always the first comment in the module.\n",
    "\n",
    "Contiguous lines from the example file are included as a single comment, but as soon as a blank line appears the comment is stopped."
   ]
  },
  {
   "cell_type": "code",
   "execution_count": 9,
   "metadata": {
    "collapsed": false
   },
   "outputs": [
    {
     "name": "stdout",
     "output_type": "stream",
     "text": [
      "# example.py\n",
      "# This comment appears first\n",
      "# and spans 2 lines.\n",
      "\n"
     ]
    }
   ],
   "source": [
    "# inspect_getcomments_module.py\n",
    "import inspect\n",
    "import example\n",
    "\n",
    "print(inspect.getcomments(example))"
   ]
  },
  {
   "cell_type": "markdown",
   "metadata": {
    "collapsed": true
   },
   "source": [
    "## Retrieving Source\n",
    "\n",
    "If the .py file is available for a module, the original source code for the class or method can be retrieved using getsource() and getsourcelines().\n",
    "\n",
    "When a class is passed in, all of the methods for the class are included in the output."
   ]
  },
  {
   "cell_type": "code",
   "execution_count": 10,
   "metadata": {
    "collapsed": false
   },
   "outputs": [
    {
     "name": "stdout",
     "output_type": "stream",
     "text": [
      "class A(object):\n",
      "    \"\"\"The A class.\"\"\"\n",
      "\n",
      "    def __init__(self, name):\n",
      "        self.name = name\n",
      "\n",
      "    def get_name(self):\n",
      "        \"Returns the name of the instance.\"\n",
      "        return self.name\n",
      "\n"
     ]
    }
   ],
   "source": [
    "# inspect_getsource_class.py\n",
    "import inspect\n",
    "import example\n",
    "\n",
    "print(inspect.getsource(example.A))"
   ]
  },
  {
   "cell_type": "markdown",
   "metadata": {
    "collapsed": true
   },
   "source": [
    "To retrieve the source for a single method, pass the method reference to getsource().\n",
    "\n",
    "The original indent level is retained in this case."
   ]
  },
  {
   "cell_type": "code",
   "execution_count": 11,
   "metadata": {
    "collapsed": false
   },
   "outputs": [
    {
     "name": "stdout",
     "output_type": "stream",
     "text": [
      "    def get_name(self):\n",
      "        \"Returns the name of the instance.\"\n",
      "        return self.name\n",
      "\n"
     ]
    }
   ],
   "source": [
    "# inspect_getsource_method.py\n",
    "import inspect\n",
    "import example\n",
    "\n",
    "print(inspect.getsource(example.A.get_name))"
   ]
  },
  {
   "cell_type": "markdown",
   "metadata": {
    "collapsed": true
   },
   "source": [
    "Use getsourcelines() instead of getsource() to retrieve the lines of source split into individual strings.\n",
    "\n",
    "The return value from getsourcelines() is a tuple containing a list of strings (the lines from the source file), and a starting line number in the file where the source appears."
   ]
  },
  {
   "cell_type": "code",
   "execution_count": 12,
   "metadata": {
    "collapsed": false
   },
   "outputs": [
    {
     "name": "stdout",
     "output_type": "stream",
     "text": [
      "(['    def get_name(self):\\n',\n",
      "  '        \"Returns the name of the instance.\"\\n',\n",
      "  '        return self.name\\n'],\n",
      " 23)\n"
     ]
    }
   ],
   "source": [
    "# inspect_getsourcelines_method.py\n",
    "import inspect\n",
    "import pprint\n",
    "import example\n",
    "\n",
    "pprint.pprint(inspect.getsourcelines(example.A.get_name))"
   ]
  },
  {
   "cell_type": "markdown",
   "metadata": {
    "collapsed": true
   },
   "source": [
    "If the source file is not available, getsource() and getsourcelines() raise an IOError."
   ]
  },
  {
   "cell_type": "markdown",
   "metadata": {
    "collapsed": true
   },
   "source": [
    "## Method and Function Signatures\n",
    "\n",
    "In addition to the documentation for a function or method, it is possible to ask for a complete specification of the arguments the callable takes, including default values. The signature() function returns a Signature instance containing information about the arguments to the function.\n",
    "\n",
    "The function arguments are available through the parameters attribute of the Signature. parameters is an ordered dictionary mapping the parameter names to Parameter instances describing the argument. In this example, the first argument to the function, arg1, does not have a default value, while arg2 does."
   ]
  },
  {
   "cell_type": "code",
   "execution_count": 13,
   "metadata": {
    "collapsed": false
   },
   "outputs": [
    {
     "name": "stdout",
     "output_type": "stream",
     "text": [
      "module_level_function(arg1, arg2='default', *args, **kwargs)\n",
      "\n",
      "Parameter details:\n",
      "  arg1\n",
      "  arg2='default'\n",
      "  *args\n",
      "  **kwargs\n"
     ]
    }
   ],
   "source": [
    "# inspect_signature_function.py\n",
    "import inspect\n",
    "import example\n",
    "\n",
    "sig = inspect.signature(example.module_level_function)\n",
    "print('module_level_function{}'.format(sig))\n",
    "\n",
    "print('\\nParameter details:')\n",
    "for name, param in sig.parameters.items():\n",
    "    if param.kind == inspect.Parameter.POSITIONAL_ONLY:\n",
    "        print('  {} (positional-only)'.format(name))\n",
    "    elif param.kind == inspect.Parameter.POSITIONAL_OR_KEYWORD:\n",
    "        if param.default != inspect.Parameter.empty:\n",
    "            print('  {}={!r}'.format(name, param.default))\n",
    "        else:\n",
    "            print('  {}'.format(name))\n",
    "    elif param.kind == inspect.Parameter.VAR_POSITIONAL:\n",
    "        print('  *{}'.format(name))\n",
    "    elif param.kind == inspect.Parameter.KEYWORD_ONLY:\n",
    "        if param.default != inspect.Parameter.empty:\n",
    "            print('  {}={!r} (keyword-only)'.format(\n",
    "                name, param.default))\n",
    "        else:\n",
    "            print('  {} (keyword-only)'.format(name))\n",
    "    elif param.kind == inspect.Parameter.VAR_KEYWORD:\n",
    "        print('  **{}'.format(name))"
   ]
  },
  {
   "cell_type": "markdown",
   "metadata": {
    "collapsed": true
   },
   "source": [
    "The Signature for a function can be used by decorators or other functions to validate inputs, provide different defaults, etc. Writing a suitably generic and reusable validation decorator has one special challenge, though, because it can be complicated to match up incoming arguments with their names for functions that accept a combination of named and positional arguments. The bind() and bind_partial() methods provide the necessary logic to handle the mapping. They return a BoundArguments instance populated with the arguments associated with the names of the arguments of a specified function.\n",
    "\n",
    "The BoundArguments instance has attributes args and kwargs that can be used to call the function using the syntax to expand the tuple and dictionary onto the stack as the arguments."
   ]
  },
  {
   "cell_type": "code",
   "execution_count": 14,
   "metadata": {
    "collapsed": false
   },
   "outputs": [
    {
     "name": "stdout",
     "output_type": "stream",
     "text": [
      "Arguments:\n",
      "arg1 = 'this is arg1'\n",
      "arg2 = 'this is arg2'\n",
      "args = ('this is an extra positional argument',)\n",
      "kwargs = {'extra_named_arg': 'value'}\n",
      "\n",
      "Calling:\n",
      "this is arg1this is arg1\n"
     ]
    }
   ],
   "source": [
    "# inspect_signature_bind.py\n",
    "import inspect\n",
    "import example\n",
    "\n",
    "sig = inspect.signature(example.module_level_function)\n",
    "\n",
    "bound = sig.bind(\n",
    "    'this is arg1',\n",
    "    'this is arg2',\n",
    "    'this is an extra positional argument',\n",
    "    extra_named_arg='value',\n",
    ")\n",
    "\n",
    "print('Arguments:')\n",
    "for name, value in bound.arguments.items():\n",
    "    print('{} = {!r}'.format(name, value))\n",
    "\n",
    "print('\\nCalling:')\n",
    "print(example.module_level_function(*bound.args, **bound.kwargs))"
   ]
  },
  {
   "cell_type": "markdown",
   "metadata": {
    "collapsed": true
   },
   "source": [
    "If only some arguments are available, bind_partial() will still create a BoundArguments instance. It may not be fully usable until the remaining arguments are added.\n",
    "\n",
    "apply_defaults() will add any values from the parameter defaults."
   ]
  },
  {
   "cell_type": "code",
   "execution_count": 15,
   "metadata": {
    "collapsed": false
   },
   "outputs": [
    {
     "name": "stdout",
     "output_type": "stream",
     "text": [
      "Without defaults:\n",
      "arg1 = 'this is arg1'\n",
      "\n",
      "With defaults:\n",
      "arg1 = 'this is arg1'\n",
      "arg2 = 'default'\n",
      "args = ()\n",
      "kwargs = {}\n"
     ]
    }
   ],
   "source": [
    "# inspect_signature_bind_partial.py\n",
    "import inspect\n",
    "import example\n",
    "\n",
    "sig = inspect.signature(example.module_level_function)\n",
    "\n",
    "partial = sig.bind_partial(\n",
    "    'this is arg1',\n",
    ")\n",
    "\n",
    "print('Without defaults:')\n",
    "for name, value in partial.arguments.items():\n",
    "    print('{} = {!r}'.format(name, value))\n",
    "\n",
    "print('\\nWith defaults:')\n",
    "partial.apply_defaults()\n",
    "for name, value in partial.arguments.items():\n",
    "    print('{} = {!r}'.format(name, value))"
   ]
  },
  {
   "cell_type": "markdown",
   "metadata": {
    "collapsed": true
   },
   "source": [
    "## Class Hierarchies\n",
    "\n",
    "inspect includes two methods for working directly with class hierarchies. The first, getclasstree(), creates a tree-like data structure based on the classes it is given and their base classes. Each element in the list returned is either a tuple with a class and its base classes, or another list containing tuples for subclasses.\n",
    "\n",
    "The output from this example is the tree of inheritance for the A, B, C, and D classes. D appears twice, since it inherits from both C and A."
   ]
  },
  {
   "cell_type": "code",
   "execution_count": 16,
   "metadata": {
    "collapsed": false,
    "scrolled": true
   },
   "outputs": [
    {
     "name": "stdout",
     "output_type": "stream",
     "text": [
      "A, B, C, D:\n",
      " object\n",
      "   A\n",
      "     D\n",
      "     B\n",
      "       C\n",
      "         D\n"
     ]
    }
   ],
   "source": [
    "# inspect_getclasstree.py\n",
    "import inspect\n",
    "import example\n",
    "\n",
    "\n",
    "class C(example.B):\n",
    "    pass\n",
    "\n",
    "\n",
    "class D(C, example.A):\n",
    "    pass\n",
    "\n",
    "\n",
    "def print_class_tree(tree, indent=-1):\n",
    "    if isinstance(tree, list):\n",
    "        for node in tree:\n",
    "            print_class_tree(node, indent + 1)\n",
    "    else:\n",
    "        print('  ' * indent, tree[0].__name__)\n",
    "    return\n",
    "\n",
    "\n",
    "if __name__ == '__main__':\n",
    "    print('A, B, C, D:')\n",
    "    print_class_tree(inspect.getclasstree(\n",
    "        [example.A, example.B, C, D])\n",
    "    )"
   ]
  },
  {
   "cell_type": "code",
   "execution_count": 17,
   "metadata": {
    "collapsed": false
   },
   "outputs": [
    {
     "data": {
      "text/plain": [
       "[(object, ()),\n",
       " [(example.A, (object,)),\n",
       "  [(__main__.D, (__main__.C, example.A)),\n",
       "   (example.B, (example.A,)),\n",
       "   [(__main__.C, (example.B,)), [(__main__.D, (__main__.C, example.A))]]]]]"
      ]
     },
     "execution_count": 17,
     "metadata": {},
     "output_type": "execute_result"
    }
   ],
   "source": [
    "inspect.getclasstree([example.A, example.B, C, D])"
   ]
  },
  {
   "cell_type": "markdown",
   "metadata": {},
   "source": [
    "If getclasstree() is called with unique set to a true value, the output is different.\n",
    "\n",
    "This time, D only appears in the output once:"
   ]
  },
  {
   "cell_type": "code",
   "execution_count": 18,
   "metadata": {
    "collapsed": false
   },
   "outputs": [
    {
     "name": "stdout",
     "output_type": "stream",
     "text": [
      " object\n",
      "   A\n",
      "     B\n",
      "       C\n",
      "         D\n"
     ]
    }
   ],
   "source": [
    "# inspect_getclasstree_unique.py\n",
    "import inspect\n",
    "import example\n",
    "\n",
    "def print_class_tree(tree, indent=-1):\n",
    "    if isinstance(tree, list):\n",
    "        for node in tree:\n",
    "            print_class_tree(node, indent + 1)\n",
    "    else:\n",
    "        print('  ' * indent, tree[0].__name__)\n",
    "    return\n",
    "\n",
    "print_class_tree(inspect.getclasstree(\n",
    "    [example.A, example.B, C, D],\n",
    "    unique=True,\n",
    "))"
   ]
  },
  {
   "cell_type": "code",
   "execution_count": 19,
   "metadata": {
    "collapsed": false
   },
   "outputs": [
    {
     "data": {
      "text/plain": [
       "[(object, ()),\n",
       " [(example.A, (object,)),\n",
       "  [(example.B, (example.A,)),\n",
       "   [(__main__.C, (example.B,)), [(__main__.D, (__main__.C, example.A))]]]]]"
      ]
     },
     "execution_count": 19,
     "metadata": {},
     "output_type": "execute_result"
    }
   ],
   "source": [
    "inspect.getclasstree([example.A, example.B, C, D], unique=True)"
   ]
  },
  {
   "cell_type": "markdown",
   "metadata": {
    "collapsed": true
   },
   "source": [
    "## Method Resolution Order\n",
    "\n",
    "The other function for working with class hierarchies is getmro(), which returns a tuple of classes in the order they should be scanned when resolving an attribute that might be inherited from a base class using the Method Resolution Order (MRO). Each class in the sequence appears only once.\n",
    "\n",
    "This output demonstrates the “depth-first” nature of the MRO search. For B_First, A also comes before C in the search order, because B is derived from A."
   ]
  },
  {
   "cell_type": "code",
   "execution_count": 20,
   "metadata": {
    "collapsed": false
   },
   "outputs": [
    {
     "name": "stdout",
     "output_type": "stream",
     "text": [
      "B_First:\n",
      "  B_First\n",
      "  B\n",
      "  A\n",
      "  C\n",
      "  object\n",
      "\n",
      "C_First:\n",
      "  C_First\n",
      "  C\n",
      "  B\n",
      "  A\n",
      "  object\n"
     ]
    }
   ],
   "source": [
    "# inspect_getmro.py\n",
    "import inspect\n",
    "import example\n",
    "\n",
    "\n",
    "class C(object):\n",
    "    pass\n",
    "\n",
    "\n",
    "class C_First(C, example.B):\n",
    "    pass\n",
    "\n",
    "\n",
    "class B_First(example.B, C):\n",
    "    pass\n",
    "\n",
    "\n",
    "print('B_First:')\n",
    "for c in inspect.getmro(B_First):\n",
    "    print('  {}'.format(c.__name__))\n",
    "print()\n",
    "print('C_First:')\n",
    "for c in inspect.getmro(C_First):\n",
    "    print('  {}'.format(c.__name__))"
   ]
  },
  {
   "cell_type": "markdown",
   "metadata": {
    "collapsed": true
   },
   "source": [
    "## The Stack and Frames\n",
    "\n",
    "In addition to introspection of code objects, inspect includes functions for inspecting the runtime environment while a program is being executed. Most of these functions work with the call stack, and operate on call frames. Frame objects hold the current execution context, including references to the code being run, the operation being executed, as well as the values of local and global variables. Typically such information is used to build tracebacks when exceptions are raised. It can also be useful for logging or when debugging programs, since the stack frames can be interrogated to discover the argument values passed into the functions.\n",
    "\n",
    "currentframe() returns the frame at the top of the stack (for the current function).\n",
    "\n",
    "The values of the arguments to recurse() are included in the frame’s dictionary of local variables."
   ]
  },
  {
   "cell_type": "code",
   "execution_count": 21,
   "metadata": {
    "collapsed": false
   },
   "outputs": [
    {
     "name": "stdout",
     "output_type": "stream",
     "text": [
      "line 10 of <ipython-input-21-cb8025d78081>\n",
      "locals:\n",
      "{'frame': <frame object at 0x103a1f9a8>,\n",
      " 'keyword': 'changed value of argument',\n",
      " 'kwonly': 'must be named',\n",
      " 'limit': 2,\n",
      " 'local_variable': '..'}\n",
      "\n",
      "line 10 of <ipython-input-21-cb8025d78081>\n",
      "locals:\n",
      "{'frame': <frame object at 0x103bca6b8>,\n",
      " 'keyword': 'changed value of argument',\n",
      " 'kwonly': 'must be named',\n",
      " 'limit': 1,\n",
      " 'local_variable': '.'}\n",
      "\n",
      "line 10 of <ipython-input-21-cb8025d78081>\n",
      "locals:\n",
      "{'frame': <frame object at 0x1045dc1f8>,\n",
      " 'keyword': 'changed value of argument',\n",
      " 'kwonly': 'must be named',\n",
      " 'limit': 0,\n",
      " 'local_variable': ''}\n",
      "\n"
     ]
    }
   ],
   "source": [
    "# inspect_currentframe.py\n",
    "import inspect\n",
    "import pprint\n",
    "\n",
    "\n",
    "def recurse(limit, keyword='default', *, kwonly='must be named'):\n",
    "    local_variable = '.' * limit\n",
    "    keyword = 'changed value of argument'\n",
    "    frame = inspect.currentframe()\n",
    "    print('line {} of {}'.format(frame.f_lineno,\n",
    "                                 frame.f_code.co_filename))\n",
    "    print('locals:')\n",
    "    pprint.pprint(frame.f_locals)\n",
    "    print()\n",
    "    if limit <= 0:\n",
    "        return\n",
    "    recurse(limit - 1)\n",
    "    return local_variable\n",
    "\n",
    "if __name__ == '__main__':\n",
    "    recurse(2)"
   ]
  },
  {
   "cell_type": "markdown",
   "metadata": {
    "collapsed": true
   },
   "source": [
    "Using stack(), it is also possible to access all of the stack frames from the current frame to the first caller. This example is similar to the one shown earlier, except it waits until reaching the end of the recursion to print the stack information.\n",
    "\n",
    "The last part of the output represents the main program, outside of the recurse() function."
   ]
  },
  {
   "cell_type": "markdown",
   "metadata": {},
   "source": [
    "There are other functions for building lists of frames in different contexts, such as when an exception is being processed. See the documentation for trace(), getouterframes(), and getinnerframes() for more details."
   ]
  },
  {
   "cell_type": "raw",
   "metadata": {},
   "source": [
    "# inspect_stack.py\n",
    "import inspect\n",
    "import pprint\n",
    "\n",
    "\n",
    "def show_stack():\n",
    "    for level in inspect.stack():\n",
    "        print('{}[{}]\\n  -> {}'.format(\n",
    "            level.frame.f_code.co_filename,\n",
    "            level.lineno,\n",
    "            level.code_context[level.index].strip(),\n",
    "        ))\n",
    "        pprint.pprint(level.frame.f_locals)\n",
    "        print()\n",
    "\n",
    "\n",
    "def recurse_s(limit):\n",
    "    local_variable = '.' * limit\n",
    "    if limit <= 0:\n",
    "        show_stack()\n",
    "        return\n",
    "    recurse_s(limit - 1)\n",
    "    return local_variable\n",
    "\n",
    "\n",
    "if __name__ == '__main__':\n",
    "    recurse_s(2)"
   ]
  },
  {
   "cell_type": "code",
   "execution_count": 22,
   "metadata": {
    "collapsed": false
   },
   "outputs": [
    {
     "name": "stdout",
     "output_type": "stream",
     "text": [
      "inspect_stack.py[7]\r\n",
      "  -> for level in inspect.stack():\r\n",
      "{'level': FrameInfo(frame=<frame object at 0x102273980>, filename='inspect_stack.py', lineno=7, function='show_stack', code_context=['    for level in inspect.stack():\\n'], index=0)}\r\n",
      "\r\n",
      "inspect_stack.py[20]\r\n",
      "  -> show_stack()\r\n",
      "{'limit': 0, 'local_variable': ''}\r\n",
      "\r\n",
      "inspect_stack.py[22]\r\n",
      "  -> recurse_s(limit - 1)\r\n",
      "{'limit': 1, 'local_variable': '.'}\r\n",
      "\r\n",
      "inspect_stack.py[22]\r\n",
      "  -> recurse_s(limit - 1)\r\n",
      "{'limit': 2, 'local_variable': '..'}\r\n",
      "\r\n",
      "inspect_stack.py[27]\r\n",
      "  -> recurse_s(2)\r\n",
      "{'__builtins__': <module 'builtins' (built-in)>,\r\n",
      " '__cached__': None,\r\n",
      " '__doc__': None,\r\n",
      " '__file__': 'inspect_stack.py',\r\n",
      " '__loader__': <_frozen_importlib_external.SourceFileLoader object at 0x1006a5b38>,\r\n",
      " '__name__': '__main__',\r\n",
      " '__package__': None,\r\n",
      " '__spec__': None,\r\n",
      " 'inspect': <module 'inspect' from '/Library/Frameworks/Python.framework/Versions/3.5/lib/python3.5/inspect.py'>,\r\n",
      " 'pprint': <module 'pprint' from '/Library/Frameworks/Python.framework/Versions/3.5/lib/python3.5/pprint.py'>,\r\n",
      " 'recurse_s': <function recurse_s at 0x1022e8f28>,\r\n",
      " 'show_stack': <function show_stack at 0x100656f28>}\r\n",
      "\r\n"
     ]
    }
   ],
   "source": [
    "! python3 inspect_stack.py"
   ]
  },
  {
   "cell_type": "markdown",
   "metadata": {},
   "source": [
    "## Command Line Interface\n",
    "\n",
    "The inspect module also includes a command line interface for getting details about objects without having to write out the calls in a separate Python program. The input is a module name and optional object from within the module. The default output is the source code for the named object. Using the --details argument causes metadata to be printed instead of the source."
   ]
  },
  {
   "cell_type": "code",
   "execution_count": 23,
   "metadata": {
    "collapsed": false
   },
   "outputs": [
    {
     "name": "stdout",
     "output_type": "stream",
     "text": [
      "Target: example\r\n",
      "Origin: /Users/binyang/GitHub/Py3MOTW/Language_Tools/example.py\r\n",
      "Cached: /Users/binyang/GitHub/Py3MOTW/Language_Tools/__pycache__/example.cpython-35.pyc\r\n",
      "Loader: <_frozen_importlib_external.SourceFileLoader object at 0x101bba668>\r\n",
      "\r\n",
      "\r\n"
     ]
    }
   ],
   "source": [
    "! python3 -m inspect -d example"
   ]
  },
  {
   "cell_type": "code",
   "execution_count": 24,
   "metadata": {
    "collapsed": false
   },
   "outputs": [
    {
     "name": "stdout",
     "output_type": "stream",
     "text": [
      "Target: example:A\n",
      "Origin: /Users/binyang/GitHub/Py3MOTW/Language_Tools/example.py\n",
      "Cached: /Users/binyang/GitHub/Py3MOTW/Language_Tools/__pycache__/example.cpython-35.pyc\n",
      "Line: 16\n",
      "\n",
      "\n"
     ]
    }
   ],
   "source": [
    "! python3 -m inspect -d example:A"
   ]
  },
  {
   "cell_type": "code",
   "execution_count": 25,
   "metadata": {
    "collapsed": false
   },
   "outputs": [
    {
     "name": "stdout",
     "output_type": "stream",
     "text": [
      "    def get_name(self):\r\n",
      "        \"Returns the name of the instance.\"\r\n",
      "        return self.name\r\n",
      "\r\n"
     ]
    }
   ],
   "source": [
    "! python3 -m inspect example:A.get_name"
   ]
  }
 ],
 "metadata": {
  "kernelspec": {
   "display_name": "Python 3",
   "language": "python",
   "name": "python3"
  },
  "language_info": {
   "codemirror_mode": {
    "name": "ipython",
    "version": 3
   },
   "file_extension": ".py",
   "mimetype": "text/x-python",
   "name": "python",
   "nbconvert_exporter": "python",
   "pygments_lexer": "ipython3",
   "version": "3.5.2"
  }
 },
 "nbformat": 4,
 "nbformat_minor": 2
}
