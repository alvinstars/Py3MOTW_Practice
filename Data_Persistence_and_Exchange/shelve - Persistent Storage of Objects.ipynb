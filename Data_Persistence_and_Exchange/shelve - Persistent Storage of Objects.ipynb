{
 "cells": [
  {
   "cell_type": "markdown",
   "metadata": {},
   "source": [
    "# shelve - Persistent Storage of Objects\n",
    "\n",
    "Purpose:\tThe shelve module implements persistent storage for arbitrary Python objects that can be pickled, using a dictionary-like API.\n",
    "\n",
    "The shelve module can be used as a simple persistent storage option for Python objects when a relational database is not required. The shelf is accessed by keys, just as with a dictionary. The values are pickled and written to a database created and managed by dbm."
   ]
  },
  {
   "cell_type": "markdown",
   "metadata": {},
   "source": [
    "## Creating a new Shelf\n",
    "\n",
    "The simplest way to use shelve is via the DbfilenameShelf class. It uses dbm to store the data. The class can be used directly, or by calling shelve.open()."
   ]
  },
  {
   "cell_type": "code",
   "execution_count": 6,
   "metadata": {
    "collapsed": true
   },
   "outputs": [],
   "source": [
    "# shelve_create.py\n",
    "import shelve\n",
    "\n",
    "with shelve.open('test_shelf.db') as s:\n",
    "    s['key1'] = {\n",
    "        'int': 10,\n",
    "        'float': 9.5,\n",
    "        'string': 'Sample data',\n",
    "    }"
   ]
  },
  {
   "cell_type": "markdown",
   "metadata": {},
   "source": [
    "To access the data again, open the shelf and use it like a dictionary."
   ]
  },
  {
   "cell_type": "code",
   "execution_count": 7,
   "metadata": {
    "collapsed": false
   },
   "outputs": [
    {
     "name": "stdout",
     "output_type": "stream",
     "text": [
      "{'int': 10, 'float': 9.5, 'string': 'Sample data'}\n"
     ]
    }
   ],
   "source": [
    "# shelve_existing.py\n",
    "import shelve\n",
    "\n",
    "with shelve.open('test_shelf.db') as s:\n",
    "    existing = s['key1']\n",
    "\n",
    "print(existing)"
   ]
  },
  {
   "cell_type": "markdown",
   "metadata": {},
   "source": [
    "The dbm module does not support multiple applications writing to the same database at the same time, but it does support concurrent read-only clients. If a client will not be modifying the shelf, tell shelve to open the database read-only by passing flag='r'.\n",
    "\n",
    "If the program tries to modify the database while it is opened read-only, an access error exception is generated. The exception type depends on the database module selected by dbm when the database was created."
   ]
  },
  {
   "cell_type": "code",
   "execution_count": 8,
   "metadata": {
    "collapsed": false
   },
   "outputs": [
    {
     "name": "stdout",
     "output_type": "stream",
     "text": [
      "Existing: {'int': 10, 'float': 9.5, 'string': 'Sample data'}\n",
      "ERROR: cannot add item to database\n"
     ]
    }
   ],
   "source": [
    "# shelve_readonly.py\n",
    "import dbm\n",
    "import shelve\n",
    "\n",
    "with shelve.open('test_shelf.db', flag='r') as s:\n",
    "    print('Existing:', s['key1'])\n",
    "    try:\n",
    "        s['key1'] = 'new value'\n",
    "    except dbm.error as err:\n",
    "        print('ERROR: {}'.format(err))"
   ]
  },
  {
   "cell_type": "markdown",
   "metadata": {},
   "source": [
    "## Write-back\n",
    "\n",
    "Shelves do not track modifications to volatile objects, by default. That means if the contents of an item stored in the shelf are changed, the shelf must be updated explicitly by storing the entire item again.\n",
    "\n",
    "In this example, the dictionary at 'key1' is not stored again, so when the shelf is re-opened, the changes have not been preserved."
   ]
  },
  {
   "cell_type": "code",
   "execution_count": 9,
   "metadata": {
    "collapsed": false
   },
   "outputs": [
    {
     "name": "stdout",
     "output_type": "stream",
     "text": [
      "{'int': 10, 'float': 9.5, 'string': 'Sample data'}\n",
      "{'int': 10, 'float': 9.5, 'string': 'Sample data'}\n"
     ]
    }
   ],
   "source": [
    "# shelve_withoutwriteback.py\n",
    "import shelve\n",
    "\n",
    "with shelve.open('test_shelf.db') as s:\n",
    "    print(s['key1'])\n",
    "    s['key1']['new_value'] = 'this was not here before'\n",
    "\n",
    "with shelve.open('test_shelf.db', writeback=True) as s:\n",
    "    print(s['key1'])"
   ]
  },
  {
   "cell_type": "markdown",
   "metadata": {},
   "source": [
    "To automatically catch changes to volatile objects stored in the shelf, open it with writeback enabled. The writeback flag causes the shelf to remember all of the objects retrieved from the database using an in-memory cache. Each cache object is also written back to the database when the shelf is closed.\n",
    "\n",
    "Although it reduces the chance of programmer error, and can make object persistence more transparent, using writeback mode may not be desirable in every situation. The cache consumes extra memory while the shelf is open, and pausing to write every cached object back to the database when it is closed slows down the application. All of the cached objects are written back to the database because there is no way to tell if they have been modified. If the application reads data more than it writes, writeback will impact performance unnecessarily."
   ]
  },
  {
   "cell_type": "code",
   "execution_count": 10,
   "metadata": {
    "collapsed": false
   },
   "outputs": [
    {
     "name": "stdout",
     "output_type": "stream",
     "text": [
      "Initial data:\n",
      "{'float': 9.5, 'int': 10, 'string': 'Sample data'}\n",
      "\n",
      "Modified:\n",
      "{'float': 9.5,\n",
      " 'int': 10,\n",
      " 'new_value': 'this was not here before',\n",
      " 'string': 'Sample data'}\n",
      "\n",
      "Preserved:\n",
      "{'float': 9.5,\n",
      " 'int': 10,\n",
      " 'new_value': 'this was not here before',\n",
      " 'string': 'Sample data'}\n"
     ]
    }
   ],
   "source": [
    "# shelve_writeback.py\n",
    "import shelve\n",
    "import pprint\n",
    "\n",
    "with shelve.open('test_shelf.db', writeback=True) as s:\n",
    "    print('Initial data:')\n",
    "    pprint.pprint(s['key1'])\n",
    "\n",
    "    s['key1']['new_value'] = 'this was not here before'\n",
    "    print('\\nModified:')\n",
    "    pprint.pprint(s['key1'])\n",
    "\n",
    "with shelve.open('test_shelf.db', writeback=True) as s:\n",
    "    print('\\nPreserved:')\n",
    "    pprint.pprint(s['key1'])\n"
   ]
  },
  {
   "cell_type": "markdown",
   "metadata": {},
   "source": [
    "## Specific Shelf Types\n",
    "\n",
    "The earlier examples all used the default shelf implementation. Using shelve.open() instead of one of the shelf implementations directly is a common usage pattern, especially if it does not matter what type of database is used to store the data. There are times, however, when the database format is important. In those situations, use DbfilenameShelf or BsdDbShelf directly, or even subclass Shelf for a custom solution."
   ]
  }
 ],
 "metadata": {
  "kernelspec": {
   "display_name": "Python 3",
   "language": "python",
   "name": "python3"
  },
  "language_info": {
   "codemirror_mode": {
    "name": "ipython",
    "version": 3
   },
   "file_extension": ".py",
   "mimetype": "text/x-python",
   "name": "python",
   "nbconvert_exporter": "python",
   "pygments_lexer": "ipython3",
   "version": "3.5.2"
  }
 },
 "nbformat": 4,
 "nbformat_minor": 2
}
