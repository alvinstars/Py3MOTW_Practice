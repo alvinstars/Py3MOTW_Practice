{
 "cells": [
  {
   "cell_type": "markdown",
   "metadata": {},
   "source": [
    "# dbm - Unix Key-Value Databases\n",
    "\n",
    "Purpose:\tdbm provides a generic dictionary-like interface to DBM-style, string-keyed databases\n",
    "    \n",
    "dbm is a front-end for DBM-style databases that use simple string values as keys to access records containing strings. It uses whichdb() to identify databases, then opens them with the appropriate module. It is used as a back-end for shelve, which stores objects in a DBM database using pickle."
   ]
  },
  {
   "cell_type": "markdown",
   "metadata": {},
   "source": [
    "## Database Types\n",
    "\n",
    "Python comes with several modules for accessing DBM-style databases. The default implementation selected depends on the libraries available on the current system and the options used when Python was compiled. Separate interfaces to the specific implementations allow Python programs to exchange data with programs in other languages that do not automatically switch between available formats, or to write portable data files that will work on multiple platforms.\n",
    "\n"
   ]
  },
  {
   "cell_type": "markdown",
   "metadata": {},
   "source": [
    "### dbm.gnu\n",
    "\n",
    "dbm.gnu is an interface to the version of the dbm library from the GNU project. It works the same as the other DBM implementations described here, with a few changes to the flags supported by open().\n",
    "\n",
    "Besides the standard 'r', 'w', 'c', and 'n' flags, dbm.gnu.open() supports:\n",
    "\n",
    "* 'f' to open the database in fast mode. In fast mode, writes to the database are not synchronized.\n",
    "* 's' to open the database in synchronized mode. Changes to the database are written to the file as they are made, rather than being delayed until the database is closed or synced explicitly.\n",
    "* 'u' to open the database unlocked."
   ]
  },
  {
   "cell_type": "markdown",
   "metadata": {},
   "source": [
    "### dbm.ndbm\n",
    "\n",
    "The dbm.ndbm module provides an interface to the Unix ndbm implementations of the dbm format, depending on how the module was configured during compilation. The module attribute library identifies the name of the library configure was able to find when the extension module was compiled."
   ]
  },
  {
   "cell_type": "markdown",
   "metadata": {},
   "source": [
    "### dbm.dumb\n",
    "\n",
    "The dbm.dumb module is a portable fallback implementation of the DBM API when no other implementations are available. No external dependencies are required to use dbm.dumb, but it is slower than most other implementations."
   ]
  },
  {
   "cell_type": "markdown",
   "metadata": {},
   "source": [
    "## Creating a New Database\n",
    "\n",
    "The storage format for new databases is selected by looking for usable versions of each of the sub-modules in order.\n",
    "\n",
    "* dbm.gnu\n",
    "* dbm.ndbm\n",
    "* dbm.dumb\n",
    "\n",
    "The open() function takes flags to control how the database file is managed. To create a new database when necessary, use 'c'. Using 'n' always creates a new database, overwriting an existing file."
   ]
  },
  {
   "cell_type": "code",
   "execution_count": 1,
   "metadata": {
    "collapsed": true
   },
   "outputs": [],
   "source": [
    "# dbm_new.py\n",
    "import dbm\n",
    "\n",
    "with dbm.open('/tmp/example.db', 'n') as db:\n",
    "    db['key'] = 'value'\n",
    "    db['today'] = 'Sunday'\n",
    "    db['author'] = 'Doug'"
   ]
  },
  {
   "cell_type": "markdown",
   "metadata": {},
   "source": [
    "whichdb() reports the type of database that was created.\n",
    "\n",
    "Output from the example program will vary, depending on which modules are installed on the system."
   ]
  },
  {
   "cell_type": "code",
   "execution_count": 2,
   "metadata": {
    "collapsed": false
   },
   "outputs": [
    {
     "name": "stdout",
     "output_type": "stream",
     "text": [
      "dbm.ndbm\n"
     ]
    }
   ],
   "source": [
    "# dbm_whichdb.py\n",
    "import dbm\n",
    "\n",
    "print(dbm.whichdb('/tmp/example.db'))"
   ]
  },
  {
   "cell_type": "markdown",
   "metadata": {},
   "source": [
    "## Opening an Existing Database\n",
    "\n",
    "To open an existing database, use flags of either 'r' (for read-only) or 'w' (for read-write). Existing databases are automatically given to whichdb() to identify, so it as long as a file can be identified, the appropriate module is used to open it.\n",
    "\n",
    "Once open, db is a dictionary-like object. New keys are always converted to byte strings when added to the database, and returned as byte strings."
   ]
  },
  {
   "cell_type": "code",
   "execution_count": 3,
   "metadata": {
    "collapsed": false
   },
   "outputs": [
    {
     "name": "stdout",
     "output_type": "stream",
     "text": [
      "keys(): [b'key', b'today', b'author']\n",
      "iterating: b'key' b'value'\n",
      "iterating: b'today' b'Sunday'\n",
      "iterating: b'author' b'Doug'\n",
      "db[\"author\"] = b'Doug'\n"
     ]
    }
   ],
   "source": [
    "# dbm_existing.py\n",
    "import dbm\n",
    "\n",
    "with dbm.open('/tmp/example.db', 'r') as db:\n",
    "    print('keys():', db.keys())\n",
    "    for k in db.keys():\n",
    "        print('iterating:', k, db[k])\n",
    "    print('db[\"author\"] =', db['author'])"
   ]
  },
  {
   "cell_type": "markdown",
   "metadata": {},
   "source": [
    "## Error Cases\n",
    "\n",
    "The keys of the database need to be strings.\n",
    "\n",
    "Values must be strings or None."
   ]
  },
  {
   "cell_type": "code",
   "execution_count": 4,
   "metadata": {
    "collapsed": false
   },
   "outputs": [
    {
     "name": "stdout",
     "output_type": "stream",
     "text": [
      "dbm mappings have bytes or string keys only\n"
     ]
    }
   ],
   "source": [
    "# dbm_intkeys.py\n",
    "import dbm\n",
    "\n",
    "with dbm.open('/tmp/example.db', 'w') as db:\n",
    "    try:\n",
    "        db[1] = 'one'\n",
    "    except TypeError as err:\n",
    "        print(err)"
   ]
  },
  {
   "cell_type": "code",
   "execution_count": 5,
   "metadata": {
    "collapsed": false
   },
   "outputs": [
    {
     "name": "stdout",
     "output_type": "stream",
     "text": [
      "dbm mappings have byte or string elements only\n"
     ]
    }
   ],
   "source": [
    "# dbm_intvalue.py\n",
    "import dbm\n",
    "\n",
    "with dbm.open('/tmp/example.db', 'w') as db:\n",
    "    try:\n",
    "        db['one'] = 1\n",
    "    except TypeError as err:\n",
    "        print(err)"
   ]
  }
 ],
 "metadata": {
  "kernelspec": {
   "display_name": "Python 3",
   "language": "python",
   "name": "python3"
  },
  "language_info": {
   "codemirror_mode": {
    "name": "ipython",
    "version": 3
   },
   "file_extension": ".py",
   "mimetype": "text/x-python",
   "name": "python",
   "nbconvert_exporter": "python",
   "pygments_lexer": "ipython3",
   "version": "3.5.2"
  }
 },
 "nbformat": 4,
 "nbformat_minor": 2
}
