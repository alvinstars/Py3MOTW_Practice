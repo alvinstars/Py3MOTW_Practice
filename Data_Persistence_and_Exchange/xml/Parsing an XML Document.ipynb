{
 "cells": [
  {
   "cell_type": "markdown",
   "metadata": {},
   "source": [
    "# Parsing an XML Document\n",
    "\n",
    "Parsed XML documents are represented in memory by ElementTree and Element objects connected in a tree structure based on the way the nodes in the XML document are nested.\n",
    "\n",
    "Parsing an entire document with parse() returns an ElementTree instance. The tree knows about all of the data in the input document, and the nodes of the tree can be searched or manipulated in place. While this flexibility can make working with the parsed document more convenient, it typically takes more memory than an event-based parsing approach since the entire document must be loaded at one time.\n",
    "\n",
    "The memory footprint of small, simple documents such as this list of podcasts represented as an OPML outline is not significant:"
   ]
  },
  {
   "cell_type": "raw",
   "metadata": {},
   "source": [
    "<?xml version=\"1.0\" encoding=\"UTF-8\"?>\n",
    "<opml version=\"1.0\">\n",
    "<head>\n",
    "    <title>My Podcasts</title>\n",
    "    <dateCreated>Sat, 06 Aug 2016 15:53:26 GMT</dateCreated>\n",
    "    <dateModified>Sat, 06 Aug 2016 15:53:26 GMT</dateModified>\n",
    "</head>\n",
    "<body>\n",
    "  <outline text=\"Non-tech\">\n",
    "    <outline\n",
    "        text=\"99% Invisible\" type=\"rss\"\n",
    "        xmlUrl=\"http://feeds.99percentinvisible.org/99percentinvisible\"\n",
    "        htmlUrl=\"http://99percentinvisible.org\" />\n",
    "  </outline>\n",
    "  <outline text=\"Python\">\n",
    "    <outline\n",
    "        text=\"Talk Python to Me\" type=\"rss\"\n",
    "        xmlUrl=\"https://talkpython.fm/episodes/rss\"\n",
    "        htmlUrl=\"https://talkpython.fm\" />\n",
    "    <outline\n",
    "        text=\"Podcast.__init__\" type=\"rss\"\n",
    "        xmlUrl=\"http://podcastinit.podbean.com/feed/\"\n",
    "        htmlUrl=\"http://podcastinit.com\" />\n",
    "  </outline>\n",
    "</body>\n",
    "</opml>"
   ]
  },
  {
   "cell_type": "markdown",
   "metadata": {},
   "source": [
    "To parse the file, pass an open file handle to parse().\n",
    "\n",
    "It will read the data, parse the XML, and return an ElementTree object."
   ]
  },
  {
   "cell_type": "code",
   "execution_count": 1,
   "metadata": {
    "collapsed": false
   },
   "outputs": [
    {
     "name": "stdout",
     "output_type": "stream",
     "text": [
      "<xml.etree.ElementTree.ElementTree object at 0x1041fd908>\n"
     ]
    }
   ],
   "source": [
    "# ElementTree_parse_opml.py\n",
    "from xml.etree import ElementTree\n",
    "with open('podcasts.opml', 'rt') as f:\n",
    "    tree = ElementTree.parse(f)\n",
    "print(tree)"
   ]
  },
  {
   "cell_type": "code",
   "execution_count": 2,
   "metadata": {
    "collapsed": false
   },
   "outputs": [
    {
     "name": "stdout",
     "output_type": "stream",
     "text": [
      "<xml.etree.ElementTree.ElementTree object at 0x10421f908>\n"
     ]
    }
   ],
   "source": [
    "# another example\n",
    "\n",
    "xmlExample = \"\"\"<?xml version=\"1.0\" encoding=\"UTF-8\"?>\n",
    "<opml version=\"1.0\">\n",
    "<head>\n",
    "    <title>My Podcasts</title>\n",
    "    <dateCreated>Sat, 06 Aug 2016 15:53:26 GMT</dateCreated>\n",
    "    <dateModified>Sat, 06 Aug 2016 15:53:26 GMT</dateModified>\n",
    "</head>\n",
    "<body>\n",
    "  <outline text=\"Non-tech\">\n",
    "    <outline\n",
    "        text=\"99% Invisible\" type=\"rss\"\n",
    "        xmlUrl=\"http://feeds.99percentinvisible.org/99percentinvisible\"\n",
    "        htmlUrl=\"http://99percentinvisible.org\" />\n",
    "  </outline>\n",
    "  <outline text=\"Python\">\n",
    "    <outline\n",
    "        text=\"Talk Python to Me\" type=\"rss\"\n",
    "        xmlUrl=\"https://talkpython.fm/episodes/rss\"\n",
    "        htmlUrl=\"https://talkpython.fm\" />\n",
    "    <outline\n",
    "        text=\"Podcast.__init__\" type=\"rss\"\n",
    "        xmlUrl=\"http://podcastinit.podbean.com/feed/\"\n",
    "        htmlUrl=\"http://podcastinit.com\" />\n",
    "  </outline>\n",
    "</body>\n",
    "</opml>\n",
    "\"\"\"\n",
    "import io\n",
    "source = io.StringIO(xmlExample)\n",
    "import xml.etree.ElementTree as ET\n",
    "tree1 = ET.parse(source)\n",
    "print(tree1)"
   ]
  },
  {
   "cell_type": "markdown",
   "metadata": {},
   "source": [
    "## Traversing the Parsed Tree\n",
    "\n",
    "To visit all of the children in order, use iter() to create a generator that iterates over the ElementTree instance.\n",
    "\n",
    "This example prints the entire tree, one tag at a time."
   ]
  },
  {
   "cell_type": "code",
   "execution_count": 3,
   "metadata": {
    "collapsed": false
   },
   "outputs": [
    {
     "name": "stdout",
     "output_type": "stream",
     "text": [
      "opml\n",
      "head\n",
      "title\n",
      "dateCreated\n",
      "dateModified\n",
      "body\n",
      "outline\n",
      "outline\n",
      "outline\n",
      "outline\n",
      "outline\n"
     ]
    }
   ],
   "source": [
    "# ElementTree_dump_opml.py\n",
    "from xml.etree import ElementTree\n",
    "import pprint\n",
    "\n",
    "with open('podcasts.opml', 'rt') as f:\n",
    "    tree = ElementTree.parse(f)\n",
    "\n",
    "for node in tree.iter():\n",
    "    print(node.tag)"
   ]
  },
  {
   "cell_type": "markdown",
   "metadata": {},
   "source": [
    "To print only the groups of names and feed URLs for the podcasts, leaving out of all of the data in the header section by iterating over only the outline nodes and print the text and xmlUrl attributes by looking up the values in the attrib dictionary.\n",
    "\n",
    "The 'outline' argument to iter() means processing is limited to only nodes with the tag 'outline'."
   ]
  },
  {
   "cell_type": "code",
   "execution_count": 4,
   "metadata": {
    "collapsed": false
   },
   "outputs": [
    {
     "name": "stdout",
     "output_type": "stream",
     "text": [
      "Non-tech\n",
      "  99% Invisible\n",
      "    http://feeds.99percentinvisible.org/99percentinvisible\n",
      "Python\n",
      "  Talk Python to Me\n",
      "    https://talkpython.fm/episodes/rss\n",
      "  Podcast.__init__\n",
      "    http://podcastinit.podbean.com/feed/\n"
     ]
    }
   ],
   "source": [
    "# ElementTree_show_feed_urls.py\n",
    "from xml.etree import ElementTree\n",
    "\n",
    "with open('podcasts.opml', 'rt') as f:\n",
    "    tree = ElementTree.parse(f)\n",
    "\n",
    "for node in tree.iter('outline'):\n",
    "    name = node.attrib.get('text')\n",
    "    url = node.attrib.get('xmlUrl')\n",
    "    if name and url:\n",
    "        print('  %s' % name)\n",
    "        print('    %s' % url)\n",
    "    else:\n",
    "        print(name)"
   ]
  },
  {
   "cell_type": "markdown",
   "metadata": {},
   "source": [
    "## Finding Nodes in a Document\n",
    "\n",
    "Walking the entire tree like this, searching for relevant nodes, can be error prone. The previous example had to look at each outline node to determine if it was a group (nodes with only a text attribute) or podcast (with both text and xmlUrl). To produce a simple list of the podcast feed URLs, without names or groups, the logic could be simplified using findall() to look for nodes with more descriptive search characteristics.\n",
    "\n",
    "As a first pass at converting the first version, an XPath argument can be used to look for all outline nodes.\n",
    "\n",
    "The logic in this version is not substantially different than the version using getiterator(). It still has to check for the presence of the URL, except that it does not print the group name when the URL is not found."
   ]
  },
  {
   "cell_type": "code",
   "execution_count": 5,
   "metadata": {
    "collapsed": false
   },
   "outputs": [
    {
     "name": "stdout",
     "output_type": "stream",
     "text": [
      "http://feeds.99percentinvisible.org/99percentinvisible\n",
      "https://talkpython.fm/episodes/rss\n",
      "http://podcastinit.podbean.com/feed/\n"
     ]
    }
   ],
   "source": [
    "# ElementTree_find_feeds_by_tag.py\n",
    "from xml.etree import ElementTree\n",
    "\n",
    "with open('podcasts.opml', 'rt') as f:\n",
    "    tree = ElementTree.parse(f)\n",
    "\n",
    "for node in tree.findall('.//outline'):\n",
    "    url = node.attrib.get('xmlUrl')\n",
    "    if url:\n",
    "        print(url)"
   ]
  },
  {
   "cell_type": "markdown",
   "metadata": {},
   "source": [
    "It is possible to take advantage of the fact that the outline nodes are only nested two levels deep. Changing the search path to .//outline/outline means the loop will process only the second level of outline nodes.\n",
    "\n",
    "All of the outline nodes nested two levels deep in the input are expected to have the xmlURL attribute referring to the podcast feed, so the loop can skip checking for the attribute before using it.\n",
    "\n",
    "This version is limited to the existing structure, though, so if the outline nodes are ever rearranged into a deeper tree, it will stop working."
   ]
  },
  {
   "cell_type": "code",
   "execution_count": 6,
   "metadata": {
    "collapsed": false
   },
   "outputs": [
    {
     "name": "stdout",
     "output_type": "stream",
     "text": [
      "http://feeds.99percentinvisible.org/99percentinvisible\n",
      "https://talkpython.fm/episodes/rss\n",
      "http://podcastinit.podbean.com/feed/\n"
     ]
    }
   ],
   "source": [
    "# ElementTree_find_feeds_by_structure.py\n",
    "from xml.etree import ElementTree\n",
    "\n",
    "with open('podcasts.opml', 'rt') as f:\n",
    "    tree = ElementTree.parse(f)\n",
    "\n",
    "for node in tree.findall('.//outline/outline'):\n",
    "    url = node.attrib.get('xmlUrl')\n",
    "    print(url)"
   ]
  },
  {
   "cell_type": "markdown",
   "metadata": {},
   "source": [
    "## Parsed Node Attributes\n",
    "\n",
    "The items returned by findall() and iter() are Element objects, each representing a node in the XML parse tree. Each Element has attributes for accessing data pulled out of the XML. This can be illustrated with a somewhat more contrived example input file, data.xml."
   ]
  },
  {
   "cell_type": "raw",
   "metadata": {},
   "source": [
    "<?xml version=\"1.0\" encoding=\"UTF-8\"?>\n",
    "<top>\n",
    "  <child>Regular text.</child>\n",
    "  <child_with_tail>Regular text.</child_with_tail>\"Tail\" text.\n",
    "  <with_attributes name=\"value\" foo=\"bar\" />\n",
    "  <entity_expansion attribute=\"This &#38; That\">\n",
    "    That &#38; This\n",
    "  </entity_expansion>\n",
    "</top>"
   ]
  },
  {
   "cell_type": "markdown",
   "metadata": {},
   "source": [
    "The XML attributes of a node are available in the attrib property, which acts like a dictionary.\n",
    "\n",
    "The node on line five of the input file has two attributes, name and foo"
   ]
  },
  {
   "cell_type": "code",
   "execution_count": 7,
   "metadata": {
    "collapsed": false
   },
   "outputs": [
    {
     "name": "stdout",
     "output_type": "stream",
     "text": [
      "with_attributes\n",
      "  foo  = \"bar\"\n",
      "  name = \"value\"\n"
     ]
    }
   ],
   "source": [
    "# ElementTree_node_attributes.py\n",
    "from xml.etree import ElementTree\n",
    "\n",
    "with open('data.xml', 'rt') as f:\n",
    "    tree = ElementTree.parse(f)\n",
    "\n",
    "node = tree.find('./with_attributes')\n",
    "print(node.tag)\n",
    "for name, value in sorted(node.attrib.items()):\n",
    "    print('  %-4s = \"%s\"' % (name, value))"
   ]
  },
  {
   "cell_type": "markdown",
   "metadata": {},
   "source": [
    "The text content of the nodes is available, along with the tail text, which comes after the end of a close tag.\n",
    "\n",
    "The child node on line three contains embedded text, and the node on line four has text with a tail (including whitespace)."
   ]
  },
  {
   "cell_type": "code",
   "execution_count": 8,
   "metadata": {
    "collapsed": false
   },
   "outputs": [
    {
     "name": "stdout",
     "output_type": "stream",
     "text": [
      "child\n",
      "  child node text: Regular text.\n",
      "  and tail text  : \n",
      "  \n",
      "child_with_tail\n",
      "  child node text: Regular text.\n",
      "  and tail text  : \"Tail\" text.\n",
      "  \n"
     ]
    }
   ],
   "source": [
    "# ElementTree_node_text.py\n",
    "from xml.etree import ElementTree\n",
    "\n",
    "with open('data.xml', 'rt') as f:\n",
    "    tree = ElementTree.parse(f)\n",
    "\n",
    "for path in ['./child', './child_with_tail']:\n",
    "    node = tree.find(path)\n",
    "    print(node.tag)\n",
    "    print('  child node text:', node.text)\n",
    "    print('  and tail text  :', node.tail)"
   ]
  },
  {
   "cell_type": "markdown",
   "metadata": {},
   "source": [
    "XML entity references embedded in the document are converted to the appropriate characters before values are returned.\n",
    "\n",
    "The automatic conversion means the implementation detail of representing certain characters in an XML document can be ignored."
   ]
  },
  {
   "cell_type": "code",
   "execution_count": 9,
   "metadata": {
    "collapsed": false
   },
   "outputs": [
    {
     "name": "stdout",
     "output_type": "stream",
     "text": [
      "entity_expansion\n",
      "  in attribute: This & That\n",
      "  in text     : That & This\n"
     ]
    }
   ],
   "source": [
    "# ElementTree_entity_references.py\n",
    "from xml.etree import ElementTree\n",
    "\n",
    "with open('data.xml', 'rt') as f:\n",
    "    tree = ElementTree.parse(f)\n",
    "\n",
    "node = tree.find('entity_expansion')\n",
    "print(node.tag)\n",
    "print('  in attribute:', node.attrib['attribute'])\n",
    "print('  in text     :', node.text.strip())"
   ]
  },
  {
   "cell_type": "markdown",
   "metadata": {},
   "source": [
    "## Watching Events While Parsing\n",
    "\n",
    "The other API for processing XML documents is event-based. The parser generates start events for opening tags and end events for closing tags. Data can be extracted from the document during the parsing phase by iterating over the event stream, which is convenient if it is not necessary to manipulate the entire document afterwards and there is no need to hold the entire parsed document in memory.\n",
    "\n",
    "Events can be one of:\n",
    "\n",
    "* start\n",
    "\n",
    "A new tag has been encountered. The closing angle bracket of the tag was processed, but not the contents.\n",
    "\n",
    "* end\n",
    "\n",
    "The closing angle bracket of a closing tag has been processed. All of the children were already processed.\n",
    "\n",
    "* start-ns\n",
    "\n",
    "Start a namespace declaration.\n",
    "\n",
    "* end-ns\n",
    "\n",
    "End a namespace declaration.\n",
    "\n",
    "iterparse() returns an iterable that produces tuples containing the name of the event and the node triggering the event."
   ]
  },
  {
   "cell_type": "markdown",
   "metadata": {},
   "source": [
    "By default, only end events are generated. To see other events, pass the list of desired event names to iterparse(), as in this example."
   ]
  },
  {
   "cell_type": "code",
   "execution_count": 10,
   "metadata": {
    "collapsed": false
   },
   "outputs": [
    {
     "name": "stdout",
     "output_type": "stream",
     "text": [
      "start            opml         4364310312\n",
      "..start          head         4364326296\n",
      "....start        title        4364325576\n",
      "....end          title        4364325576\n",
      "....start        dateCreated  4364325816\n",
      "....end          dateCreated  4364325816\n",
      "....start        dateModified 4364325416\n",
      "....end          dateModified 4364325416\n",
      "..end            head         4364326296\n",
      "..start          body         4364328776\n",
      "....start        outline      4364327256\n",
      "......start      outline      4358292088\n",
      "......end        outline      4358292088\n",
      "....end          outline      4364327256\n",
      "....start        outline      4358292168\n",
      "......start      outline      4358292248\n",
      "......end        outline      4358292248\n",
      "......start      outline      4358292328\n",
      "......end        outline      4358292328\n",
      "....end          outline      4358292168\n",
      "..end            body         4364328776\n",
      "end              opml         4364310312\n"
     ]
    }
   ],
   "source": [
    "# ElementTree_show_all_events.py\n",
    "from xml.etree.ElementTree import iterparse\n",
    "\n",
    "depth = 0\n",
    "prefix_width = 8\n",
    "prefix_dots = '.' * prefix_width\n",
    "line_template = ''.join([\n",
    "    '{prefix:<0.{prefix_len}}',\n",
    "    '{event:<8}',\n",
    "    '{suffix:<{suffix_len}} ',\n",
    "    '{node.tag:<12} ',\n",
    "    '{node_id}',\n",
    "])\n",
    "\n",
    "EVENT_NAMES = ['start', 'end', 'start-ns', 'end-ns']\n",
    "\n",
    "for (event, node) in iterparse('podcasts.opml', EVENT_NAMES):\n",
    "    if event == 'end':\n",
    "        depth -= 1\n",
    "\n",
    "    prefix_len = depth * 2\n",
    "\n",
    "    print(line_template.format(\n",
    "        prefix=prefix_dots,\n",
    "        prefix_len=prefix_len,\n",
    "        suffix='',\n",
    "        suffix_len=(prefix_width - prefix_len),\n",
    "        node=node,\n",
    "        node_id=id(node),\n",
    "        event=event,\n",
    "    ))\n",
    "\n",
    "    if event == 'start':\n",
    "        depth += 1"
   ]
  },
  {
   "cell_type": "markdown",
   "metadata": {},
   "source": [
    "The event-style of processing is more natural for some operations, such as converting XML input to some other format. This technique can be used to convert list of podcasts from the earlier examples from an XML file to a CSV file, so they can be loaded into a spreadsheet or database application."
   ]
  },
  {
   "cell_type": "code",
   "execution_count": 11,
   "metadata": {
    "collapsed": false
   },
   "outputs": [
    {
     "name": "stdout",
     "output_type": "stream",
     "text": [
      "\"Non-tech\",\"99% Invisible\",\"http://feeds.99percentinvisible.org/99percentinvisible\",\"http://99percentinvisible.org\"\r\n",
      "\"Python\",\"Talk Python to Me\",\"https://talkpython.fm/episodes/rss\",\"https://talkpython.fm\"\r\n",
      "\"Python\",\"Podcast.__init__\",\"http://podcastinit.podbean.com/feed/\",\"http://podcastinit.com\"\r\n"
     ]
    }
   ],
   "source": [
    "# ElementTree_write_podcast_csv.py\n",
    "import csv\n",
    "from xml.etree.ElementTree import iterparse\n",
    "import sys\n",
    "\n",
    "writer = csv.writer(sys.stdout, quoting=csv.QUOTE_NONNUMERIC)\n",
    "\n",
    "group_name = ''\n",
    "\n",
    "parsing = iterparse('podcasts.opml', events=['start'])\n",
    "\n",
    "for (event, node) in parsing:\n",
    "    if node.tag != 'outline':\n",
    "        # Ignore anything not part of the outline\n",
    "        continue\n",
    "    if not node.attrib.get('xmlUrl'):\n",
    "        # Remember the current group\n",
    "        group_name = node.attrib['text']\n",
    "    else:\n",
    "        # Output a podcast entry\n",
    "        writer.writerow(\n",
    "            (group_name, node.attrib['text'],\n",
    "             node.attrib['xmlUrl'],\n",
    "             node.attrib.get('htmlUrl', ''))\n",
    "        )"
   ]
  },
  {
   "cell_type": "markdown",
   "metadata": {},
   "source": [
    "This conversion program does not need to hold the entire parsed input file in memory, and processing each node as it is encountered in the input is more efficient."
   ]
  },
  {
   "cell_type": "markdown",
   "metadata": {},
   "source": [
    "#### Note\n",
    "The output from ElementTree_write_podcast_csv.py has been reformatted to fit on this page. The output lines ending with \\ indicate an artificial line break."
   ]
  },
  {
   "cell_type": "markdown",
   "metadata": {},
   "source": [
    "## Creating a Custom Tree Builder\n",
    "\n",
    "A potentially more efficient means of handling parse events is to replace the standard tree builder behavior with a custom version. The XMLParser parser uses a TreeBuilder to process the XML and call methods on a target class to save the results. The usual output is an ElementTree instance created by the default TreeBuilder class. Replacing TreeBuilder with another class allows it to receive the events before the Element nodes are instantiated, saving that portion of the overhead.\n",
    "\n",
    "The XML-to-CSV converter from the previous section can be re-implemented as a tree builder."
   ]
  },
  {
   "cell_type": "code",
   "execution_count": 12,
   "metadata": {
    "collapsed": false
   },
   "outputs": [
    {
     "name": "stdout",
     "output_type": "stream",
     "text": [
      "\"Non-tech\",\"99% Invisible\",\"http://feeds.99percentinvisible.org/99percentinvisible\",\"http://99percentinvisible.org\"\r\n",
      "\"Python\",\"Talk Python to Me\",\"https://talkpython.fm/episodes/rss\",\"https://talkpython.fm\"\r\n",
      "\"Python\",\"Podcast.__init__\",\"http://podcastinit.podbean.com/feed/\",\"http://podcastinit.com\"\r\n"
     ]
    }
   ],
   "source": [
    "# ElementTree_podcast_csv_treebuilder.py\n",
    "import csv\n",
    "import io\n",
    "from xml.etree.ElementTree import XMLParser\n",
    "import sys\n",
    "\n",
    "\n",
    "class PodcastListToCSV(object):\n",
    "\n",
    "    def __init__(self, outputFile):\n",
    "        self.writer = csv.writer(\n",
    "            outputFile,\n",
    "            quoting=csv.QUOTE_NONNUMERIC,\n",
    "        )\n",
    "        self.group_name = ''\n",
    "\n",
    "    def start(self, tag, attrib):\n",
    "        if tag != 'outline':\n",
    "            # Ignore anything not part of the outline\n",
    "            return\n",
    "        if not attrib.get('xmlUrl'):\n",
    "            # Remember the current group\n",
    "            self.group_name = attrib['text']\n",
    "        else:\n",
    "            # Output a podcast entry\n",
    "            self.writer.writerow(\n",
    "                (self.group_name,\n",
    "                 attrib['text'],\n",
    "                 attrib['xmlUrl'],\n",
    "                 attrib.get('htmlUrl', ''))\n",
    "            )\n",
    "\n",
    "    def end(self, tag):\n",
    "        \"Ignore closing tags\"\n",
    "\n",
    "    def data(self, data):\n",
    "        \"Ignore data inside nodes\"\n",
    "\n",
    "    def close(self):\n",
    "        \"Nothing special to do here\"\n",
    "\n",
    "\n",
    "target = PodcastListToCSV(sys.stdout)\n",
    "parser = XMLParser(target=target)\n",
    "with open('podcasts.opml', 'rt') as f:\n",
    "    for line in f:\n",
    "        parser.feed(line)\n",
    "parser.close()"
   ]
  },
  {
   "cell_type": "markdown",
   "metadata": {},
   "source": [
    "PodcastListToCSV implements the TreeBuilder protocol. Each time a new XML tag is encountered, start() is called with the tag name and attributes. When a closing tag is seen, end() is called with the name. In between, data() is called when a node has content (the tree builder is expected to keep up with the “current” node). When all of the input is processed, close() is called. It can return a value, which will be returned to the user of the TreeBuilder."
   ]
  },
  {
   "cell_type": "markdown",
   "metadata": {},
   "source": [
    "#### Note\n",
    "The output from ElementTree_podcast_csv_treebuidler.py has been reformatted to fit on this page. The output lines ending with \\ indicate an artificial line break."
   ]
  },
  {
   "cell_type": "markdown",
   "metadata": {},
   "source": [
    "## Parsing Strings\n",
    "\n",
    "To work with smaller bits of XML text, especially string literals that might be embedded in the source of a program, use XML() and the string containing the XML to be parsed as the only argument."
   ]
  },
  {
   "cell_type": "code",
   "execution_count": 13,
   "metadata": {
    "collapsed": false
   },
   "outputs": [
    {
     "name": "stdout",
     "output_type": "stream",
     "text": [
      "parsed = <Element 'root' at 0x103c692c8>\n",
      "group\n",
      "child\n",
      "  text: \"This is child \"a\".\"\n",
      "  attr: id   = \"a\"\n",
      "child\n",
      "  text: \"This is child \"b\".\"\n",
      "  tail: \"test tail of b\"\n",
      "  attr: id   = \"b\"\n",
      "group\n",
      "child\n",
      "  text: \"This is child \"c\".\"\n",
      "  attr: id   = \"c\"\n",
      "grandchild\n",
      "  text: \"This is grandchild\"\n",
      "child\n",
      "  text: \"This is child \"d\".\"\n",
      "  attr: id   = \"d\"\n"
     ]
    }
   ],
   "source": [
    "# ElementTree_XML.py\n",
    "from xml.etree.ElementTree import XML\n",
    "\n",
    "\n",
    "def show_node(node):\n",
    "    print(node.tag)\n",
    "    if node.text is not None and node.text.strip():\n",
    "        print('  text: \"%s\"' % node.text.strip())\n",
    "    if node.tail is not None and node.tail.strip():\n",
    "        print('  tail: \"%s\"' % node.tail.strip())\n",
    "    for name, value in sorted(node.attrib.items()):\n",
    "        print('  attr: %-4s = \"%s\"' % (name, value))\n",
    "    for child in node:\n",
    "        show_node(child)\n",
    "\n",
    "\n",
    "parsed = XML('''\n",
    "<root>\n",
    "  <group>\n",
    "    <child id=\"a\">This is child \"a\".</child>\n",
    "    <child id=\"b\">This is child \"b\".</child>\n",
    "    test tail of b\n",
    "  </group>\n",
    "  <group>\n",
    "    <child id=\"c\">This is child \"c\".\n",
    "      <grandchild>This is grandchild</grandchild>\n",
    "    </child>\n",
    "    <child id=\"d\">This is child \"d\".</child>\n",
    "  </group>\n",
    "</root>\n",
    "''')\n",
    "\n",
    "print('parsed =', parsed)\n",
    "\n",
    "for elem in parsed:\n",
    "    show_node(elem)\n"
   ]
  },
  {
   "cell_type": "markdown",
   "metadata": {},
   "source": [
    "Unlike with parse(), the return value is an Element instance instead of an ElementTree. An Element supports the iterator protocol directly, so there is no need to call getiterator()."
   ]
  },
  {
   "cell_type": "markdown",
   "metadata": {},
   "source": [
    "For structured XML that uses the id attribute to identify unique nodes of interest, XMLID() is a convenient way to access the parse results."
   ]
  },
  {
   "cell_type": "code",
   "execution_count": 14,
   "metadata": {
    "collapsed": false
   },
   "outputs": [
    {
     "name": "stdout",
     "output_type": "stream",
     "text": [
      "a = <Element 'child' at 0x104225868>\n",
      "b = <Element 'child' at 0x104225228>\n",
      "c = <Element 'child' at 0x1042216d8>\n"
     ]
    }
   ],
   "source": [
    "# ElementTree_XMLID.py\n",
    "from xml.etree.ElementTree import XMLID\n",
    "\n",
    "tree, id_map = XMLID('''\n",
    "<root>\n",
    "  <group>\n",
    "    <child id=\"a\">This is child \"a\".</child>\n",
    "    <child id=\"b\">This is child \"b\".</child>\n",
    "  </group>\n",
    "  <group>\n",
    "    <child id=\"c\">This is child \"c\".</child>\n",
    "  </group>\n",
    "</root>\n",
    "''')\n",
    "\n",
    "for key, value in sorted(id_map.items()):\n",
    "    print('%s = %s' % (key, value))"
   ]
  },
  {
   "cell_type": "markdown",
   "metadata": {},
   "source": [
    "XMLID() returns the parsed tree as an Element object, along with a dictionary mapping the id attribute strings to the individual nodes in the tree."
   ]
  }
 ],
 "metadata": {
  "kernelspec": {
   "display_name": "Python 3",
   "language": "python",
   "name": "python3"
  },
  "language_info": {
   "codemirror_mode": {
    "name": "ipython",
    "version": 3
   },
   "file_extension": ".py",
   "mimetype": "text/x-python",
   "name": "python",
   "nbconvert_exporter": "python",
   "pygments_lexer": "ipython3",
   "version": "3.5.2"
  }
 },
 "nbformat": 4,
 "nbformat_minor": 2
}
