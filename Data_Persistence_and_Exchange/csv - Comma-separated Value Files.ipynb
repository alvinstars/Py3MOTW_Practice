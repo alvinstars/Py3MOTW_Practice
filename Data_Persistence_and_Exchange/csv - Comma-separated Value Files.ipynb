{
 "cells": [
  {
   "cell_type": "markdown",
   "metadata": {},
   "source": [
    "# csv - Comma-separated Value Files\n",
    "\n",
    "\n",
    "Purpose:\tRead and write comma separated value files.\n",
    "\n",
    "The csv module can be used to work with data exported from spreadsheets and databases into text files formatted with fields and records, commonly referred to as comma-separated value (CSV) format because commas are often used to separate the fields in a record."
   ]
  },
  {
   "cell_type": "markdown",
   "metadata": {},
   "source": [
    "## Reading\n",
    "\n",
    "Use reader() to create a an object for reading data from a CSV file. The reader can be used as an iterator to process the rows of the file in order. For example\n",
    "\n"
   ]
  },
  {
   "cell_type": "raw",
   "metadata": {},
   "source": [
    "# csv_reader.py\n",
    "import csv\n",
    "import sys\n",
    "\n",
    "with open(sys.argv[1], 'rt') as f:\n",
    "    reader = csv.reader(f)\n",
    "    for row in reader:\n",
    "        print(row)"
   ]
  },
  {
   "cell_type": "markdown",
   "metadata": {},
   "source": [
    "The first argument to reader() is the source of text lines. In this case, it is a file, but any iterable is accepted (a StringIO instance, list, etc.). Other optional arguments can be given to control how the input data is parsed."
   ]
  },
  {
   "cell_type": "code",
   "execution_count": 1,
   "metadata": {
    "collapsed": false
   },
   "outputs": [
    {
     "name": "stdout",
     "output_type": "stream",
     "text": [
      "\"Title 1\",\"Title 2\",\"Title 3\",\"Title 4\"\r\n",
      "1,\"a\",08/18/07,\"å\"\r\n",
      "2,\"b\",08/19/07,\"∫\"\r\n",
      "3,\"c\",08/20/07,\"ç\"\r\n"
     ]
    }
   ],
   "source": [
    "!cat testdata.csv"
   ]
  },
  {
   "cell_type": "markdown",
   "metadata": {},
   "source": [
    "As it is read, each row of the input data is parsed and converted to a list of strings."
   ]
  },
  {
   "cell_type": "code",
   "execution_count": 2,
   "metadata": {
    "collapsed": false
   },
   "outputs": [
    {
     "name": "stdout",
     "output_type": "stream",
     "text": [
      "['Title 1', 'Title 2', 'Title 3', 'Title 4']\r\n",
      "['1', 'a', '08/18/07', 'å']\r\n",
      "['2', 'b', '08/19/07', '∫']\r\n",
      "['3', 'c', '08/20/07', 'ç']\r\n"
     ]
    }
   ],
   "source": [
    "!python3 csv_reader.py testdata.csv"
   ]
  },
  {
   "cell_type": "markdown",
   "metadata": {},
   "source": [
    "The parser handles line breaks embedded within strings in a row, which is why a “row” is not always the same as a “line” of input from the file."
   ]
  },
  {
   "cell_type": "markdown",
   "metadata": {},
   "source": [
    "Fields with line breaks in the input retain the internal line breaks when they are returned by the parser."
   ]
  },
  {
   "cell_type": "code",
   "execution_count": 3,
   "metadata": {
    "collapsed": false
   },
   "outputs": [
    {
     "name": "stdout",
     "output_type": "stream",
     "text": [
      "\"Title 1\",\"Title 2\",\"Title 3\"\r\n",
      "1,\"first line\r\n",
      "second line\",08/18/07\r\n"
     ]
    }
   ],
   "source": [
    "!cat testlinebreak.csv"
   ]
  },
  {
   "cell_type": "code",
   "execution_count": 4,
   "metadata": {
    "collapsed": false
   },
   "outputs": [
    {
     "name": "stdout",
     "output_type": "stream",
     "text": [
      "['Title 1', 'Title 2', 'Title 3']\r\n",
      "['1', 'first line\\nsecond line', '08/18/07']\r\n"
     ]
    }
   ],
   "source": [
    "!python3 csv_reader.py testlinebreak.csv"
   ]
  },
  {
   "cell_type": "markdown",
   "metadata": {},
   "source": [
    "## Writing\n",
    "\n",
    "Writing CSV files is just as easy as reading them. Use writer() to create an object for writing, then iterate over the rows, using writerow() to print them."
   ]
  },
  {
   "cell_type": "raw",
   "metadata": {},
   "source": [
    "# csv_writer.py\n",
    "import csv\n",
    "import sys\n",
    "\n",
    "unicode_chars = 'å∫ç'\n",
    "\n",
    "with open(sys.argv[1], 'wt') as f:\n",
    "    writer = csv.writer(f)\n",
    "    writer.writerow(('Title 1', 'Title 2', 'Title 3', 'Title 4'))\n",
    "    for i in range(3):\n",
    "        row = (\n",
    "            i + 1,\n",
    "            chr(ord('a') + i),\n",
    "            '08/{:02d}/07'.format(i + 1),\n",
    "            unicode_chars[i],\n",
    "        )\n",
    "        writer.writerow(row)\n",
    "\n",
    "print(open(sys.argv[1], 'rt').read())"
   ]
  },
  {
   "cell_type": "markdown",
   "metadata": {},
   "source": [
    "The output does not look exactly like the exported data used in the reader example because it lacks quotes around some of the values."
   ]
  },
  {
   "cell_type": "code",
   "execution_count": 5,
   "metadata": {
    "collapsed": false
   },
   "outputs": [
    {
     "name": "stdout",
     "output_type": "stream",
     "text": [
      "Title 1,Title 2,Title 3,Title 4\r\n",
      "1,a,08/01/07,å\r\n",
      "2,b,08/02/07,∫\r\n",
      "3,c,08/03/07,ç\r\n",
      "\r\n"
     ]
    }
   ],
   "source": [
    "!python3 csv_writer.py testout.csv"
   ]
  },
  {
   "cell_type": "markdown",
   "metadata": {},
   "source": [
    "## Quoting\n",
    "\n",
    "The default quoting behavior is different for the writer, so the second and third columns in the previous example are not quoted. To add quoting, set the quoting argument to one of the other quoting modes."
   ]
  },
  {
   "cell_type": "markdown",
   "metadata": {},
   "source": [
    "writer = csv.writer(f, quoting=csv.QUOTE_NONNUMERIC)"
   ]
  },
  {
   "cell_type": "markdown",
   "metadata": {},
   "source": [
    "In this case, QUOTE_NONNUMERIC adds quotes around all columns that contain values that are not numbers."
   ]
  },
  {
   "cell_type": "code",
   "execution_count": 6,
   "metadata": {
    "collapsed": false
   },
   "outputs": [
    {
     "name": "stdout",
     "output_type": "stream",
     "text": [
      "\"Title 1\",\"Title 2\",\"Title 3\",\"Title 4\"\r\n",
      "1,\"a\",\"08/01/07\",\"å\"\r\n",
      "2,\"b\",\"08/02/07\",\"∫\"\r\n",
      "3,\"c\",\"08/03/07\",\"ç\"\r\n",
      "\r\n"
     ]
    }
   ],
   "source": [
    "!python3 csv_writer_quoted.py testout_quoted.csv"
   ]
  },
  {
   "cell_type": "markdown",
   "metadata": {},
   "source": [
    "There are four different quoting options, defined as constants in the csv module.\n",
    "\n",
    "QUOTE_ALL\n",
    "Quote everything, regardless of type.\n",
    "\n",
    "QUOTE_MINIMAL\n",
    "Quote fields with special characters (anything that would confuse a parser configured with the same dialect and options). This is the default\n",
    "\n",
    "QUOTE_NONNUMERIC\n",
    "Quote all fields that are not integers or floats. When used with the reader, input fields that are not quoted are converted to floats.\n",
    "\n",
    "QUOTE_NONE\n",
    "Do not quote anything on output. When used with the reader, quote characters are included in the field values (normally, they are treated as delimiters and stripped)."
   ]
  },
  {
   "cell_type": "markdown",
   "metadata": {},
   "source": [
    "## Dialects\n",
    "\n",
    "There is no well-defined standard for comma-separated value files, so the parser needs to be flexible. This flexibility means there are many parameters to control how csv parses or writes data. Rather than passing each of these parameters to the reader and writer separately, they are grouped together into a dialect object.\n",
    "\n",
    "Dialect classes can be registered by name, so that callers of the csv module do not need to know the parameter settings in advance. The complete list of registered dialects can be retrieved with list_dialects().\n",
    "\n"
   ]
  },
  {
   "cell_type": "code",
   "execution_count": 7,
   "metadata": {
    "collapsed": false
   },
   "outputs": [
    {
     "name": "stdout",
     "output_type": "stream",
     "text": [
      "['excel', 'excel-tab', 'unix']\n"
     ]
    }
   ],
   "source": [
    "# csv_list_dialects.py\n",
    "import csv\n",
    "\n",
    "print(csv.list_dialects())"
   ]
  },
  {
   "cell_type": "markdown",
   "metadata": {},
   "source": [
    "The standard library includes three dialects: excel, excel-tabs, and unix. The excel dialect is for working with data in the default export format for Microsoft Excel, and also works with LibreOffice. The unix dialect quotes all fields with double-quotes and uses \\n as the record separator."
   ]
  },
  {
   "cell_type": "markdown",
   "metadata": {},
   "source": [
    "## Creating a Dialect\n",
    "\n",
    "If, instead of using commas to delimit fields, the input file uses pipes (|), like this"
   ]
  },
  {
   "cell_type": "code",
   "execution_count": 8,
   "metadata": {
    "collapsed": false
   },
   "outputs": [
    {
     "name": "stdout",
     "output_type": "stream",
     "text": [
      "\"Title 1\"|\"Title 2\"|\"Title 3\"\r\n",
      "1|\"first line\r\n",
      "second line\"|08/18/07\r\n"
     ]
    }
   ],
   "source": [
    "!cat testdata.pipes"
   ]
  },
  {
   "cell_type": "markdown",
   "metadata": {},
   "source": [
    "a new dialect can be registered using the appropriate delimiter."
   ]
  },
  {
   "cell_type": "code",
   "execution_count": 9,
   "metadata": {
    "collapsed": false
   },
   "outputs": [
    {
     "name": "stdout",
     "output_type": "stream",
     "text": [
      "['Title 1', 'Title 2', 'Title 3']\n",
      "['1', 'first line\\nsecond line', '08/18/07']\n"
     ]
    }
   ],
   "source": [
    "# csv_dialect.py\n",
    "import csv\n",
    "\n",
    "csv.register_dialect('pipes', delimiter='|')\n",
    "\n",
    "with open('testdata.pipes', 'r') as f:\n",
    "    reader = csv.reader(f, dialect='pipes')\n",
    "    for row in reader:\n",
    "        print(row)"
   ]
  },
  {
   "cell_type": "markdown",
   "metadata": {},
   "source": [
    "Using the “pipes” dialect, the file can be read just as with the comma-delimited file."
   ]
  },
  {
   "cell_type": "code",
   "execution_count": 10,
   "metadata": {
    "collapsed": false
   },
   "outputs": [
    {
     "name": "stdout",
     "output_type": "stream",
     "text": [
      "['excel', 'pipes', 'excel-tab', 'unix']\n"
     ]
    }
   ],
   "source": [
    "# csv_list_dialects.py\n",
    "import csv\n",
    "\n",
    "print(csv.list_dialects())"
   ]
  },
  {
   "cell_type": "markdown",
   "metadata": {},
   "source": [
    "## Dialect Parameters\n",
    "\n",
    "A dialect specifies all of the tokens used when parsing or writing a data file. the table below lists the aspects of the file format that can be specified, from the way columns are delimited to the character used to escape a token."
   ]
  },
  {
   "cell_type": "markdown",
   "metadata": {},
   "source": [
    "### CSV Dialect Parameters\n",
    "\n",
    "| Attribute        | Default       | Meaning                                                             |\n",
    "|------------------|---------------|---------------------------------------------------------------------|\n",
    "| delimiter        | ,             | Field separator (one character)                                     |\n",
    "| doublequote      | True          | Flag controlling whether quotechar instances are doubled            |\n",
    "| escapechar       | None          | Character used to indicate an escape sequence                       |\n",
    "| lineterminator   | \\r\\n             | String used by writer to terminate a line                           |\n",
    "| quotechar        | \"             | String to surround fields containing special values (one character) |\n",
    "| quoting          | QUOTE_MINIMAL | Controls quoting behavior described earlier                         |\n",
    "| skipinitialspace | False         | Ignore whitespace after the field delimiter                         |"
   ]
  },
  {
   "cell_type": "code",
   "execution_count": 11,
   "metadata": {
    "collapsed": false
   },
   "outputs": [
    {
     "name": "stdout",
     "output_type": "stream",
     "text": [
      "Dialect: \"escaped\"\n",
      "\n",
      "  delimiter   = ','       skipinitialspace = 0\n",
      "  doublequote = 0         quoting          = QUOTE_NONE\n",
      "  quotechar   = '\"'       lineterminator   = '\\r\\n'\n",
      "  escapechar  = '\\\\'  \n",
      "\n",
      "col1,1,10/01/2010,Special chars: \\\" ' \\, to parse\r\n",
      "\n",
      "Dialect: \"excel\"\n",
      "\n",
      "  delimiter   = ','       skipinitialspace = 0\n",
      "  doublequote = 1         quoting          = QUOTE_MINIMAL\n",
      "  quotechar   = '\"'       lineterminator   = '\\r\\n'\n",
      "  escapechar  = None  \n",
      "\n",
      "col1,1,10/01/2010,\"Special chars: \"\" ' , to parse\"\r\n",
      "\n",
      "Dialect: \"excel-tab\"\n",
      "\n",
      "  delimiter   = '\\t'      skipinitialspace = 0\n",
      "  doublequote = 1         quoting          = QUOTE_MINIMAL\n",
      "  quotechar   = '\"'       lineterminator   = '\\r\\n'\n",
      "  escapechar  = None  \n",
      "\n",
      "col1\t1\t10/01/2010\t\"Special chars: \"\" ' \t to parse\"\r\n",
      "\n",
      "Dialect: \"pipes\"\n",
      "\n",
      "  delimiter   = '|'       skipinitialspace = 0\n",
      "  doublequote = 1         quoting          = QUOTE_MINIMAL\n",
      "  quotechar   = '\"'       lineterminator   = '\\r\\n'\n",
      "  escapechar  = None  \n",
      "\n",
      "col1|1|10/01/2010|\"Special chars: \"\" ' | to parse\"\r\n",
      "\n",
      "Dialect: \"singlequote\"\n",
      "\n",
      "  delimiter   = ','       skipinitialspace = 0\n",
      "  doublequote = 1         quoting          = QUOTE_ALL\n",
      "  quotechar   = \"'\"       lineterminator   = '\\r\\n'\n",
      "  escapechar  = None  \n",
      "\n",
      "'col1','1','10/01/2010','Special chars: \" '' , to parse'\r\n",
      "\n",
      "Dialect: \"unix\"\n",
      "\n",
      "  delimiter   = ','       skipinitialspace = 0\n",
      "  doublequote = 1         quoting          = QUOTE_ALL\n",
      "  quotechar   = '\"'       lineterminator   = '\\n'\n",
      "  escapechar  = None  \n",
      "\n",
      "\"col1\",\"1\",\"10/01/2010\",\"Special chars: \"\" ' , to parse\"\n",
      "\n"
     ]
    }
   ],
   "source": [
    "# csv_dialect_variations.py\n",
    "import csv\n",
    "import sys\n",
    "\n",
    "csv.register_dialect('escaped',\n",
    "                     escapechar='\\\\',\n",
    "                     doublequote=False,\n",
    "                     quoting=csv.QUOTE_NONE,\n",
    "                     )\n",
    "csv.register_dialect('singlequote',\n",
    "                     quotechar=\"'\",\n",
    "                     quoting=csv.QUOTE_ALL,\n",
    "                     )\n",
    "\n",
    "quoting_modes = {\n",
    "    getattr(csv, n): n\n",
    "    for n in dir(csv)\n",
    "    if n.startswith('QUOTE_')\n",
    "}\n",
    "\n",
    "TEMPLATE = '''\\\n",
    "Dialect: \"{name}\"\n",
    "\n",
    "  delimiter   = {dl!r:<6}    skipinitialspace = {si!r}\n",
    "  doublequote = {dq!r:<6}    quoting          = {qu}\n",
    "  quotechar   = {qc!r:<6}    lineterminator   = {lt!r}\n",
    "  escapechar  = {ec!r:<6}\n",
    "'''\n",
    "\n",
    "for name in sorted(csv.list_dialects()):\n",
    "    dialect = csv.get_dialect(name)\n",
    "\n",
    "    print(TEMPLATE.format(\n",
    "        name=name,\n",
    "        dl=dialect.delimiter,\n",
    "        si=dialect.skipinitialspace,\n",
    "        dq=dialect.doublequote,\n",
    "        qu=quoting_modes[dialect.quoting],\n",
    "        qc=dialect.quotechar,\n",
    "        lt=dialect.lineterminator,\n",
    "        ec=dialect.escapechar,\n",
    "    ))\n",
    "\n",
    "    writer = csv.writer(sys.stdout, dialect=dialect)\n",
    "    writer.writerow(\n",
    "        ('col1', 1, '10/01/2010',\n",
    "         'Special chars: \" \\' {} to parse'.format(\n",
    "             dialect.delimiter))\n",
    "    )\n",
    "    print()"
   ]
  },
  {
   "cell_type": "markdown",
   "metadata": {},
   "source": [
    "## Using Field Names\n",
    "\n",
    "In addition to working with sequences of data, the csv module includes classes for working with rows as dictionaries so that the fields can be named. The DictReader and DictWriter classes translate rows to dictionaries instead of lists. Keys for the dictionary can be passed in, or inferred from the first row in the input (when the row contains headers)."
   ]
  },
  {
   "cell_type": "raw",
   "metadata": {},
   "source": [
    "# csv_dictreader.py\n",
    "import csv\n",
    "import sys\n",
    "\n",
    "with open(sys.argv[1], 'rt') as f:\n",
    "    reader = csv.DictReader(f)\n",
    "    for row in reader:\n",
    "        print(row)"
   ]
  },
  {
   "cell_type": "markdown",
   "metadata": {},
   "source": [
    "The dictionary-based reader and writer are implemented as wrappers around the sequence-based classes, and use the same methods and arguments. The only difference in the reader API is that rows are returned as dictionaries instead of lists or tuples."
   ]
  },
  {
   "cell_type": "code",
   "execution_count": 12,
   "metadata": {
    "collapsed": false
   },
   "outputs": [
    {
     "name": "stdout",
     "output_type": "stream",
     "text": [
      "\"Title 1\",\"Title 2\",\"Title 3\",\"Title 4\"\r\n",
      "1,\"a\",08/18/07,\"å\"\r\n",
      "2,\"b\",08/19/07,\"∫\"\r\n",
      "3,\"c\",08/20/07,\"ç\"\r\n"
     ]
    }
   ],
   "source": [
    "! cat testdata.csv"
   ]
  },
  {
   "cell_type": "code",
   "execution_count": 13,
   "metadata": {
    "collapsed": false
   },
   "outputs": [
    {
     "name": "stdout",
     "output_type": "stream",
     "text": [
      "{'Title 2': 'a', 'Title 4': 'å', 'Title 3': '08/18/07', 'Title 1': '1'}\r\n",
      "{'Title 2': 'b', 'Title 4': '∫', 'Title 3': '08/19/07', 'Title 1': '2'}\r\n",
      "{'Title 2': 'c', 'Title 4': 'ç', 'Title 3': '08/20/07', 'Title 1': '3'}\r\n"
     ]
    }
   ],
   "source": [
    "! python3 csv_dictreader.py testdata.csv"
   ]
  },
  {
   "cell_type": "markdown",
   "metadata": {},
   "source": [
    "The DictWriter must be given a list of field names so it knows how to order the columns in the output"
   ]
  },
  {
   "cell_type": "raw",
   "metadata": {
    "collapsed": false
   },
   "source": [
    "# csv_dictwriter.py\n",
    "import csv\n",
    "import sys\n",
    "\n",
    "fieldnames = ('Title 1', 'Title 2', 'Title 3', 'Title 4')\n",
    "headers = {\n",
    "    n: n\n",
    "    for n in fieldnames\n",
    "}\n",
    "unicode_chars = 'å∫ç'\n",
    "\n",
    "with open(sys.argv[1], 'wt') as f:\n",
    "\n",
    "    writer = csv.DictWriter(f, fieldnames=fieldnames)\n",
    "    writer.writeheader()\n",
    "\n",
    "    for i in range(3):\n",
    "        writer.writerow({\n",
    "            'Title 1': i + 1,\n",
    "            'Title 2': chr(ord('a') + i),\n",
    "            'Title 3': '08/{:02d}/07'.format(i + 1),\n",
    "            'Title 4': unicode_chars[i],\n",
    "        })\n",
    "\n",
    "print(open(sys.argv[1], 'rt').read())"
   ]
  },
  {
   "cell_type": "markdown",
   "metadata": {},
   "source": [
    "The field names are not written to the file automatically, but they can be written explicitly using the writeheader() method."
   ]
  },
  {
   "cell_type": "code",
   "execution_count": 14,
   "metadata": {
    "collapsed": false
   },
   "outputs": [
    {
     "name": "stdout",
     "output_type": "stream",
     "text": [
      "Title 1,Title 2,Title 3,Title 4\r\n",
      "1,a,08/01/07,å\r\n",
      "2,b,08/02/07,∫\r\n",
      "3,c,08/03/07,ç\r\n",
      "\r\n"
     ]
    }
   ],
   "source": [
    "! python3 csv_dictwriter.py testout.csv"
   ]
  }
 ],
 "metadata": {
  "kernelspec": {
   "display_name": "Python 3",
   "language": "python",
   "name": "python3"
  },
  "language_info": {
   "codemirror_mode": {
    "name": "ipython",
    "version": 3
   },
   "file_extension": ".py",
   "mimetype": "text/x-python",
   "name": "python",
   "nbconvert_exporter": "python",
   "pygments_lexer": "ipython3",
   "version": "3.5.2"
  }
 },
 "nbformat": 4,
 "nbformat_minor": 2
}
