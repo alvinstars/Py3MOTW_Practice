{
 "cells": [
  {
   "cell_type": "markdown",
   "metadata": {},
   "source": [
    "# functools - Tools for Manipulating Functions\n",
    "\n",
    "Purpose:\tFunctions that operate on other functions.\n",
    "\n",
    "The functools module provides tools for adapting or extending functions and other callable objects, without completely rewriting them."
   ]
  },
  {
   "cell_type": "markdown",
   "metadata": {},
   "source": [
    "## Decorators\n",
    "\n",
    "The primary tool supplied by the functools module is the class partial, which can be used to “wrap” a callable object with default arguments. The resulting object is itself callable and can be treated as though it is the original function. It takes all of the same arguments as the original, and can be invoked with extra positional or named arguments as well. A partial can be used instead of a lambda to provide default arguments to a function, while leaving some arguments unspecified."
   ]
  },
  {
   "cell_type": "markdown",
   "metadata": {},
   "source": [
    "### Partial Objects\n",
    "\n",
    "This example shows two simple partial objects for the function myfunc(). The output of show_details() includes the func, args, and keywords attributes of the partial object."
   ]
  },
  {
   "cell_type": "code",
   "execution_count": 1,
   "metadata": {
    "collapsed": false
   },
   "outputs": [
    {
     "name": "stdout",
     "output_type": "stream",
     "text": [
      "myfunc:\n",
      "  object: <function myfunc at 0x104575f28>\n",
      "  __name__: myfunc\n",
      "  called myfunc with: ('a', 3)\n",
      "\n",
      "partial with named default:\n",
      "  object: functools.partial(<function myfunc at 0x104575f28>, b=4)\n",
      "  func: <function myfunc at 0x104575f28>\n",
      "  args: ()\n",
      "  keywords: {'b': 4}\n",
      "  called myfunc with: ('passing a', 4)\n",
      "  called myfunc with: ('override b', 5)\n",
      "\n",
      "partial with defaults:\n",
      "  object: functools.partial(<function myfunc at 0x104575f28>, 'default a', b=99)\n",
      "  func: <function myfunc at 0x104575f28>\n",
      "  args: ('default a',)\n",
      "  keywords: {'b': 99}\n",
      "  called myfunc with: ('default a', 99)\n",
      "  called myfunc with: ('default a', 'override b')\n",
      "\n",
      "Insufficient arguments:\n"
     ]
    },
    {
     "ename": "TypeError",
     "evalue": "myfunc() missing 1 required positional argument: 'a'",
     "output_type": "error",
     "traceback": [
      "\u001b[0;31m---------------------------------------------------------------------------\u001b[0m",
      "\u001b[0;31mTypeError\u001b[0m                                 Traceback (most recent call last)",
      "\u001b[0;32m<ipython-input-1-576cd6b00e55>\u001b[0m in \u001b[0;36m<module>\u001b[0;34m()\u001b[0m\n\u001b[1;32m     41\u001b[0m \u001b[0;34m\u001b[0m\u001b[0m\n\u001b[1;32m     42\u001b[0m \u001b[0mprint\u001b[0m\u001b[0;34m(\u001b[0m\u001b[0;34m'Insufficient arguments:'\u001b[0m\u001b[0;34m)\u001b[0m\u001b[0;34m\u001b[0m\u001b[0m\n\u001b[0;32m---> 43\u001b[0;31m \u001b[0mp1\u001b[0m\u001b[0;34m(\u001b[0m\u001b[0;34m)\u001b[0m\u001b[0;34m\u001b[0m\u001b[0m\n\u001b[0m",
      "\u001b[0;31mTypeError\u001b[0m: myfunc() missing 1 required positional argument: 'a'"
     ]
    }
   ],
   "source": [
    "# functools_partial.py\n",
    "import functools\n",
    "\n",
    "\n",
    "def myfunc(a, b=2):\n",
    "    \"Docstring for myfunc().\"\n",
    "    print('  called myfunc with:', (a, b))\n",
    "\n",
    "\n",
    "def show_details(name, f, is_partial=False):\n",
    "    \"Show details of a callable object.\"\n",
    "    print('{}:'.format(name))\n",
    "    print('  object:', f)\n",
    "    if not is_partial:\n",
    "        print('  __name__:', f.__name__)\n",
    "    if is_partial:\n",
    "        print('  func:', f.func)\n",
    "        print('  args:', f.args)\n",
    "        print('  keywords:', f.keywords)\n",
    "    return\n",
    "\n",
    "\n",
    "show_details('myfunc', myfunc)\n",
    "myfunc('a', 3)\n",
    "print()\n",
    "\n",
    "# Set a different default value for 'b', but require\n",
    "# the caller to provide 'a'.\n",
    "p1 = functools.partial(myfunc, b=4)\n",
    "show_details('partial with named default', p1, True)\n",
    "p1('passing a')\n",
    "p1('override b', b=5)\n",
    "print()\n",
    "\n",
    "# Set default values for both 'a' and 'b'.\n",
    "p2 = functools.partial(myfunc, 'default a', b=99)\n",
    "show_details('partial with defaults', p2, True)\n",
    "p2()\n",
    "p2(b='override b')\n",
    "print()\n",
    "\n",
    "print('Insufficient arguments:')\n",
    "p1()"
   ]
  },
  {
   "cell_type": "raw",
   "metadata": {},
   "source": [
    "At the end of the example, the first partial created is invoked without passing a value for a, causing an exception."
   ]
  },
  {
   "cell_type": "markdown",
   "metadata": {},
   "source": [
    "### Acquiring Function Properties\n",
    "\n",
    "The partial object does not have __name__ or __doc__ attributes by default, and without those attributes, decorated functions are more difficult to debug. Using update_wrapper(), copies or adds attributes from the original function to the partial object."
   ]
  },
  {
   "cell_type": "code",
   "execution_count": 6,
   "metadata": {
    "collapsed": false
   },
   "outputs": [
    {
     "name": "stdout",
     "output_type": "stream",
     "text": [
      "myfunc:\n",
      "  object: <function myfunc at 0x10471dc80>\n",
      "  __name__: myfunc\n",
      "  __doc__ 'Docstring for myfunc().'\n",
      "\n",
      "raw wrapper:\n",
      "  object: functools.partial(<function myfunc at 0x10471dc80>, b=4)\n",
      "  __name__: (no __name__)\n",
      "  __doc__ 'partial(func, *args, **keywords) - new function with partial application\\n    of the given arguments and keywords.\\n'\n",
      "\n",
      "Updating wrapper:\n",
      "  assign: ('__module__', '__name__', '__qualname__', '__doc__', '__annotations__')\n",
      "  update: ('__dict__',)\n",
      "\n",
      "updated wrapper:\n",
      "  object: functools.partial(<function myfunc at 0x10471dc80>, b=4)\n",
      "  __name__: myfunc\n",
      "  __doc__ 'Docstring for myfunc().'\n",
      "\n"
     ]
    }
   ],
   "source": [
    "# functools_update_wrapper.py\n",
    "import functools\n",
    "\n",
    "\n",
    "def myfunc(a, b=2):\n",
    "    \"Docstring for myfunc().\"\n",
    "    print('  called myfunc with:', (a, b))\n",
    "\n",
    "\n",
    "def show_details(name, f):\n",
    "    \"Show details of a callable object.\"\n",
    "    print('{}:'.format(name))\n",
    "    print('  object:', f)\n",
    "    print('  __name__:', end=' ')\n",
    "    try:\n",
    "        print(f.__name__)\n",
    "    except AttributeError:\n",
    "        print('(no __name__)')\n",
    "    print('  __doc__', repr(f.__doc__))\n",
    "    print()\n",
    "\n",
    "\n",
    "show_details('myfunc', myfunc)\n",
    "\n",
    "p1 = functools.partial(myfunc, b=4)\n",
    "show_details('raw wrapper', p1)\n",
    "\n",
    "print('Updating wrapper:')\n",
    "print('  assign:', functools.WRAPPER_ASSIGNMENTS)\n",
    "print('  update:', functools.WRAPPER_UPDATES)\n",
    "print()\n",
    "\n",
    "functools.update_wrapper(p1, myfunc)\n",
    "show_details('updated wrapper', p1)"
   ]
  },
  {
   "cell_type": "raw",
   "metadata": {},
   "source": [
    "The attributes added to the wrapper are defined in WRAPPER_ASSIGNMENTS, \n",
    "while WRAPPER_UPDATES lists values to be modified."
   ]
  },
  {
   "cell_type": "markdown",
   "metadata": {},
   "source": [
    "### Other Callables\n",
    "\n",
    "Partials work with any callable object, not just with standalone functions."
   ]
  },
  {
   "cell_type": "code",
   "execution_count": 7,
   "metadata": {
    "collapsed": false
   },
   "outputs": [
    {
     "name": "stdout",
     "output_type": "stream",
     "text": [
      "instance:\n",
      "  object: <__main__.MyClass object at 0x10473c898>\n",
      "  __name__: (no __name__)\n",
      "  __doc__ 'Demonstration class for functools'\n",
      "  called object with: (<__main__.MyClass object at 0x10473c898>, 'e goes here', 6)\n",
      "\n",
      "instance wrapper:\n",
      "  object: functools.partial(<__main__.MyClass object at 0x10473c898>, e='default for e', f=8)\n",
      "  __name__: (no __name__)\n",
      "  __doc__ 'Demonstration class for functools'\n",
      "  called object with: (<__main__.MyClass object at 0x10473c898>, 'default for e', 8)\n"
     ]
    }
   ],
   "source": [
    "# This example creates partials from an instance of a class with a __call__() method.\n",
    "\n",
    "# functools_callable.py\n",
    "import functools\n",
    "\n",
    "\n",
    "class MyClass:\n",
    "    \"Demonstration class for functools\"\n",
    "\n",
    "    def __call__(self, e, f=6):\n",
    "        \"Docstring for MyClass.__call__\"\n",
    "        print('  called object with:', (self, e, f))\n",
    "\n",
    "\n",
    "def show_details(name, f):\n",
    "    \"Show details of a callable object.\"\n",
    "    print('{}:'.format(name))\n",
    "    print('  object:', f)\n",
    "    print('  __name__:', end=' ')\n",
    "    try:\n",
    "        print(f.__name__)\n",
    "    except AttributeError:\n",
    "        print('(no __name__)')\n",
    "    print('  __doc__', repr(f.__doc__))\n",
    "    return\n",
    "\n",
    "\n",
    "o = MyClass()\n",
    "\n",
    "show_details('instance', o)\n",
    "o('e goes here')\n",
    "print()\n",
    "\n",
    "p = functools.partial(o, e='default for e', f=8)\n",
    "functools.update_wrapper(p, o)\n",
    "show_details('instance wrapper', p)\n",
    "p()"
   ]
  },
  {
   "cell_type": "markdown",
   "metadata": {},
   "source": [
    "### Methods and Functions\n",
    "\n",
    "While partial() returns a callable ready to be used directly, partialmethod() returns a callable ready to be used as an unbound method of an object. \n",
    "\n",
    "In the following example, the same standalone function is added as an attribute of MyClass twice, once using partialmethod() as method1() and again using partial() as method2()."
   ]
  },
  {
   "cell_type": "code",
   "execution_count": 8,
   "metadata": {
    "collapsed": false
   },
   "outputs": [
    {
     "name": "stdout",
     "output_type": "stream",
     "text": [
      "standalone\n",
      "  called standalone with: (None, 1, 2)\n",
      "\n",
      "method1 as partialmethod\n",
      "  called standalone with: (<__main__.MyClass object at 0x10472c198>, 1, 2)\n",
      "  self.attr = instance attribute\n",
      "\n",
      "method2 as partial\n",
      "ERROR: standalone() missing 1 required positional argument: 'self'\n"
     ]
    }
   ],
   "source": [
    "# functools_partialmethod.py\n",
    "import functools\n",
    "\n",
    "\n",
    "def standalone(self, a=1, b=2):\n",
    "    \"Standalone function\"\n",
    "    print('  called standalone with:', (self, a, b))\n",
    "    if self is not None:\n",
    "        print('  self.attr =', self.attr)\n",
    "\n",
    "\n",
    "class MyClass:\n",
    "    \"Demonstration class for functools\"\n",
    "\n",
    "    def __init__(self):\n",
    "        self.attr = 'instance attribute'\n",
    "\n",
    "    method1 = functools.partialmethod(standalone)\n",
    "    method2 = functools.partial(standalone)\n",
    "\n",
    "\n",
    "o = MyClass()\n",
    "\n",
    "print('standalone')\n",
    "standalone(None)\n",
    "print()\n",
    "\n",
    "print('method1 as partialmethod')\n",
    "o.method1()\n",
    "print()\n",
    "\n",
    "print('method2 as partial')\n",
    "try:\n",
    "    o.method2()\n",
    "except TypeError as err:\n",
    "    print('ERROR: {}'.format(err))"
   ]
  },
  {
   "cell_type": "raw",
   "metadata": {},
   "source": [
    "method1() can be called from an instance of MyClass, and the instance is passed as the first argument just as with methods defined normally. \n",
    "\n",
    "method2() is not set up as a bound method, and so the self argument must be passed explicitly, or the call will result in a TypeError."
   ]
  },
  {
   "cell_type": "markdown",
   "metadata": {},
   "source": [
    "### Acquiring Function Properties for Decorators\n",
    "\n",
    "Updating the properties of a wrapped callable is especially useful when used in a decorator, since the transformed function ends up with properties of the original “bare” function.\n",
    "\n"
   ]
  },
  {
   "cell_type": "code",
   "execution_count": 19,
   "metadata": {
    "collapsed": false
   },
   "outputs": [
    {
     "name": "stdout",
     "output_type": "stream",
     "text": [
      "myfunc:\n",
      "  object: <function myfunc at 0x10474cd90>\n",
      "  __name__: myfunc\n",
      "  __doc__ 'myfunc() is not complicated'\n",
      "\n",
      "  myfunc: ('unwrapped, default b', 2)\n",
      "  myfunc: ('unwrapped, passing b', 3)\n",
      "\n",
      "wrapped_myfunc:\n",
      "  object: <function myfunc at 0x104760f28>\n",
      "  __name__: myfunc\n",
      "  __doc__ 'myfunc() is not complicated'\n",
      "\n",
      "  decorated: ('decorated defaults', 1)\n",
      "     myfunc: ('decorated defaults', 1)\n",
      "  decorated: ('args to wrapped', 4)\n",
      "     myfunc: ('args to wrapped', 4)\n",
      "\n",
      "decorated_myfunc:\n",
      "  object: <function decorated_myfunc at 0x104768048>\n",
      "  __name__: decorated_myfunc\n",
      "  __doc__ 'Hello from decorated_myfunc'\n",
      "\n",
      "  decorated: ('decorated defaults', 1)\n",
      "     myfunc: ('decorated defaults', 1)\n",
      "  decorated: ('args to decorated', 4)\n",
      "     myfunc: ('args to decorated', 4)\n"
     ]
    }
   ],
   "source": [
    "# functools_wraps.py\n",
    "import functools\n",
    "\n",
    "\n",
    "def show_details(name, f):\n",
    "    \"Show details of a callable object.\"\n",
    "    print('{}:'.format(name))\n",
    "    print('  object:', f)\n",
    "    print('  __name__:', end=' ')\n",
    "    try:\n",
    "        print(f.__name__)\n",
    "    except AttributeError:\n",
    "        print('(no __name__)')\n",
    "    print('  __doc__', repr(f.__doc__))\n",
    "    print()\n",
    "\n",
    "\n",
    "def simple_decorator(f):\n",
    "    @functools.wraps(f)\n",
    "    def decorated(a='decorated defaults', b=1):\n",
    "        print('  decorated:', (a, b))\n",
    "        print('  ', end=' ')\n",
    "        return f(a, b=b)\n",
    "    return decorated\n",
    "\n",
    "\n",
    "def myfunc(a, b=2):\n",
    "    \"myfunc() is not complicated\"\n",
    "    print('  myfunc:', (a, b))\n",
    "    return\n",
    "\n",
    "\n",
    "# The raw function\n",
    "show_details('myfunc', myfunc)\n",
    "myfunc('unwrapped, default b')\n",
    "myfunc('unwrapped, passing b', 3)\n",
    "print()\n",
    "\n",
    "# Wrap explicitly\n",
    "wrapped_myfunc = simple_decorator(myfunc)\n",
    "show_details('wrapped_myfunc', wrapped_myfunc)\n",
    "wrapped_myfunc()\n",
    "wrapped_myfunc('args to wrapped', 4)\n",
    "print()\n",
    "\n",
    "\n",
    "# Wrap with decorator syntax\n",
    "@simple_decorator\n",
    "def decorated_myfunc(a, b):\n",
    "    \"Hello from decorated_myfunc\"\n",
    "    myfunc(a, b)\n",
    "    return\n",
    "\n",
    "show_details('decorated_myfunc', decorated_myfunc)\n",
    "decorated_myfunc()\n",
    "decorated_myfunc('args to decorated', 4)"
   ]
  },
  {
   "cell_type": "markdown",
   "metadata": {},
   "source": [
    "## Comparison\n",
    "\n",
    "Under Python 2, classes could define a __cmp__() method that returns -1, 0, or 1 based on whether the object is less than, equal to, or greater than the item being compared. \n",
    "\n",
    "Python 2.1 introduced the rich comparison methods API (__lt__(), __le__(), __eq__(), __ne__(), __gt__(), and __ge__()), which perform a single comparison operation and return a boolean value. \n",
    "\n",
    "Python 3 deprecated __cmp__() in favor of these new methods and functools provides tools to make it easier to write classes that comply with the new comparison requirements in Python 3."
   ]
  },
  {
   "cell_type": "markdown",
   "metadata": {},
   "source": [
    "### Rich Comparison\n",
    "\n",
    "The rich comparison API is designed to allow classes with complex comparisons to implement each test in the most efficient way possible. However, for classes where comparison is relatively simple, there is no point in manually creating each of the rich comparison methods. \n",
    "\n",
    "The total_ordering() class decorator takes a class that provides some of the methods, and adds the rest of them."
   ]
  },
  {
   "cell_type": "code",
   "execution_count": 41,
   "metadata": {
    "collapsed": false
   },
   "outputs": [
    {
     "name": "stdout",
     "output_type": "stream",
     "text": [
      "Methods:\n",
      "\n",
      "[('__eq__', <function MyObject.__eq__ at 0x10473d510>),\n",
      " ('__ge__', <function _ge_from_gt at 0x1029e28c8>),\n",
      " ('__gt__', <function MyObject.__gt__ at 0x10473dea0>),\n",
      " ('__init__', <function MyObject.__init__ at 0x10474c620>),\n",
      " ('__le__', <function _le_from_gt at 0x1029e2950>),\n",
      " ('__lt__', <function _lt_from_gt at 0x1029e2840>)]\n",
      "\n",
      "Comparisons:\n",
      "\n",
      "a < b :\n",
      "  MyObject: testing __gt__(1, 2)\n",
      "  MyObject: testing __eq__(1, 2)\n",
      "  result of a < b: True\n",
      "\n",
      "a <= b:\n",
      "  MyObject: testing __gt__(1, 2)\n",
      "  result of a <= b: True\n",
      "\n",
      "a == b:\n",
      "  MyObject: testing __eq__(1, 2)\n",
      "  result of a == b: False\n",
      "\n",
      "a >= b:\n",
      "  MyObject: testing __gt__(1, 2)\n",
      "  MyObject: testing __eq__(1, 2)\n",
      "  result of a >= b: False\n",
      "\n",
      "a > b :\n",
      "  MyObject: testing __gt__(1, 2)\n",
      "  result of a > b: False\n"
     ]
    }
   ],
   "source": [
    "# functools_total_ordering.py\n",
    "import functools\n",
    "import inspect\n",
    "from pprint import pprint\n",
    "\n",
    "\n",
    "@functools.total_ordering\n",
    "class MyObject:\n",
    "\n",
    "    def __init__(self, val):\n",
    "        self.val = val\n",
    "\n",
    "    def __eq__(self, other):\n",
    "        print('  MyObject: testing __eq__({}, {})'.format(\n",
    "            self.val, other.val))\n",
    "        return self.val == other.val\n",
    "\n",
    "    def __gt__(self, other):\n",
    "        print('  MyObject: testing __gt__({}, {})'.format(\n",
    "            self.val, other.val))\n",
    "        return self.val > other.val\n",
    "\n",
    "\n",
    "print('Methods:\\n')\n",
    "pprint(inspect.getmembers(MyObject, inspect.isfunction))\n",
    "# pprint(inspect.getmembers(MyObject))\n",
    "       \n",
    "a = MyObject(1)\n",
    "b = MyObject(2)\n",
    "\n",
    "print('\\nComparisons:')\n",
    "for expr in ['a < b', 'a <= b', 'a == b', 'a >= b', 'a > b']:\n",
    "    print('\\n{:<6}:'.format(expr))\n",
    "    result = eval(expr)\n",
    "    print('  result of {}: {}'.format(expr, result))"
   ]
  },
  {
   "cell_type": "raw",
   "metadata": {},
   "source": [
    "The class must provide implementation of __eq__() and one other rich comparison method. \n",
    "\n",
    "The decorator adds implementations of the rest of the methods that work by using the comparisons provided. \n",
    "\n",
    "If a comparison cannot be made, the method should return NotImplemented so the comparison can be tried using the reverse comparison operators on the other object, before failing entirely."
   ]
  },
  {
   "cell_type": "markdown",
   "metadata": {},
   "source": [
    "### Collation Order\n",
    "\n",
    "Since old-style comparison functions are deprecated in Python 3, the cmp argument to functions like sort() are also no longer supported. Older programs that use comparison functions can use cmp_to_key() to convert them to a function that returns a collation key, which is used to determine the position in the final sequence.\n",
    "\n"
   ]
  },
  {
   "cell_type": "code",
   "execution_count": 42,
   "metadata": {
    "collapsed": false
   },
   "outputs": [
    {
     "name": "stdout",
     "output_type": "stream",
     "text": [
      "key_wrapper(MyObject(5)) -> <functools.KeyWrapper object at 0x1044bcc10>\n",
      "key_wrapper(MyObject(4)) -> <functools.KeyWrapper object at 0x1044bcfd0>\n",
      "key_wrapper(MyObject(3)) -> <functools.KeyWrapper object at 0x1044bcbd0>\n",
      "key_wrapper(MyObject(2)) -> <functools.KeyWrapper object at 0x1044bce70>\n",
      "key_wrapper(MyObject(1)) -> <functools.KeyWrapper object at 0x1044bc5d0>\n",
      "comparing MyObject(4) and MyObject(5)\n",
      "comparing MyObject(3) and MyObject(4)\n",
      "comparing MyObject(2) and MyObject(3)\n",
      "comparing MyObject(1) and MyObject(2)\n",
      "MyObject(1)\n",
      "MyObject(2)\n",
      "MyObject(3)\n",
      "MyObject(4)\n",
      "MyObject(5)\n"
     ]
    }
   ],
   "source": [
    "# functools_cmp_to_key.py\n",
    "import functools\n",
    "\n",
    "\n",
    "class MyObject:\n",
    "\n",
    "    def __init__(self, val):\n",
    "        self.val = val\n",
    "\n",
    "    def __str__(self):\n",
    "        return 'MyObject({})'.format(self.val)\n",
    "\n",
    "\n",
    "def compare_obj(a, b):\n",
    "    \"\"\"Old-style comparison function.\n",
    "    \"\"\"\n",
    "    print('comparing {} and {}'.format(a, b))\n",
    "    if a.val < b.val:\n",
    "        return -1\n",
    "    elif a.val > b.val:\n",
    "        return 1\n",
    "    return 0\n",
    "\n",
    "# Make a key function using cmp_to_key()\n",
    "get_key = functools.cmp_to_key(compare_obj)\n",
    "\n",
    "\n",
    "def get_key_wrapper(o):\n",
    "    \"Wrapper function for get_key to allow for print statements.\"\n",
    "    new_key = get_key(o)\n",
    "    print('key_wrapper({}) -> {!r}'.format(o, new_key))\n",
    "    return new_key\n",
    "\n",
    "objs = [MyObject(x) for x in range(5, 0, -1)]\n",
    "\n",
    "for o in sorted(objs, key=get_key_wrapper):\n",
    "    print(o)"
   ]
  },
  {
   "cell_type": "markdown",
   "metadata": {},
   "source": [
    "Normally cmp_to_key() would be used directly, but in this example an extra wrapper function is introduced to print out more information as the key function is being called.\n",
    "\n",
    "The output shows that sorted() starts by calling get_key_wrapper() for each item in the sequence to produce a key. The keys returned by cmp_to_key() are instances of a class defined in functools that implements the rich comparison API using the old-style comparison function passed in. After all of the keys are created, the sequence is sorted by comparing the keys."
   ]
  },
  {
   "cell_type": "markdown",
   "metadata": {},
   "source": [
    "## Caching\n",
    "\n",
    "The lru_cache() decorator wraps a function in a least-recently-used cache. Arguments to the function are used to build a hash key, which is then mapped to the result. Subsequent calls with the same arguments will fetch the value from the cache instead of calling the function. \n",
    "\n",
    "The decorator also adds methods to the function to examine the state of the cache (cache_info()) and empty the cache (cache_clear())."
   ]
  },
  {
   "cell_type": "code",
   "execution_count": 43,
   "metadata": {
    "collapsed": false
   },
   "outputs": [
    {
     "name": "stdout",
     "output_type": "stream",
     "text": [
      "First set of calls:\n",
      "expensive(0, 0)\n",
      "expensive(0, 1)\n",
      "expensive(1, 0)\n",
      "expensive(1, 1)\n",
      "CacheInfo(hits=0, misses=4, maxsize=128, currsize=4)\n",
      "\n",
      "Second set of calls:\n",
      "expensive(0, 2)\n",
      "expensive(1, 2)\n",
      "expensive(2, 0)\n",
      "expensive(2, 1)\n",
      "expensive(2, 2)\n",
      "CacheInfo(hits=4, misses=9, maxsize=128, currsize=9)\n",
      "\n",
      "Clearing cache:\n",
      "CacheInfo(hits=0, misses=0, maxsize=128, currsize=0)\n",
      "\n",
      "Third set of calls:\n",
      "expensive(0, 0)\n",
      "expensive(0, 1)\n",
      "expensive(1, 0)\n",
      "expensive(1, 1)\n",
      "CacheInfo(hits=0, misses=4, maxsize=128, currsize=4)\n"
     ]
    }
   ],
   "source": [
    "# functools_lru_cache.py\n",
    "import functools\n",
    "\n",
    "\n",
    "@functools.lru_cache()\n",
    "def expensive(a, b):\n",
    "    print('expensive({}, {})'.format(a, b))\n",
    "    return a * b\n",
    "\n",
    "\n",
    "MAX = 2\n",
    "\n",
    "print('First set of calls:')\n",
    "for i in range(MAX):\n",
    "    for j in range(MAX):\n",
    "        expensive(i, j)\n",
    "print(expensive.cache_info())\n",
    "\n",
    "print('\\nSecond set of calls:')\n",
    "for i in range(MAX + 1):\n",
    "    for j in range(MAX + 1):\n",
    "        expensive(i, j)\n",
    "print(expensive.cache_info())\n",
    "\n",
    "print('\\nClearing cache:')\n",
    "expensive.cache_clear()\n",
    "print(expensive.cache_info())\n",
    "\n",
    "print('\\nThird set of calls:')\n",
    "for i in range(MAX):\n",
    "    for j in range(MAX):\n",
    "        expensive(i, j)\n",
    "print(expensive.cache_info())"
   ]
  },
  {
   "cell_type": "markdown",
   "metadata": {},
   "source": [
    "This example makes several calls to expensive() in a set of nested loops. The second time those calls are made with the same values the results appear in the cache. When the cache is cleared and the loops are run again the values must be recomputed."
   ]
  },
  {
   "cell_type": "markdown",
   "metadata": {},
   "source": [
    "To prevent the cache from growing without bounds in a long-running process, it is given a maximum size. The default is 128 entries, but that can be changed for each cache using the maxsize argument."
   ]
  },
  {
   "cell_type": "code",
   "execution_count": 47,
   "metadata": {
    "collapsed": false
   },
   "outputs": [
    {
     "name": "stdout",
     "output_type": "stream",
     "text": [
      "Establish the cache\n",
      "(1, 2) called expensive(1, 2)\n",
      "No cache hit: post_hits 0 = pre_hits 0\n",
      "(2, 3) called expensive(2, 3)\n",
      "No cache hit: post_hits 0 = pre_hits 0\n",
      "\n",
      "Use cached items\n",
      "(1, 2) cache hit: post_hits 1 > pre_hits 0\n",
      "(2, 3) cache hit: post_hits 2 > pre_hits 1\n",
      "\n",
      "Compute a new value, triggering cache expiration\n",
      "(3, 4) called expensive(3, 4)\n",
      "No cache hit: post_hits 2 = pre_hits 2\n",
      "\n",
      "Cache still contains one old item\n",
      "(2, 3) cache hit: post_hits 3 > pre_hits 2\n",
      "\n",
      "Oldest item needs to be recomputed\n",
      "(1, 2) called expensive(1, 2)\n",
      "No cache hit: post_hits 3 = pre_hits 3\n"
     ]
    }
   ],
   "source": [
    "# functools_lru_cache_expire.py\n",
    "import functools\n",
    "\n",
    "\n",
    "@functools.lru_cache(maxsize=2)\n",
    "def expensive(a, b):\n",
    "    print('called expensive({}, {})'.format(a, b))\n",
    "    return a * b\n",
    "\n",
    "\n",
    "def make_call(a, b):\n",
    "    print('({}, {})'.format(a, b), end=' ')\n",
    "    pre_hits = expensive.cache_info().hits\n",
    "    expensive(a, b)\n",
    "    post_hits = expensive.cache_info().hits\n",
    "    if post_hits > pre_hits:\n",
    "        print('cache hit: post_hits {} > pre_hits {}'.format(post_hits, pre_hits))\n",
    "    else:\n",
    "        print('No cache hit: post_hits {} = pre_hits {}'.format(post_hits, pre_hits))\n",
    "\n",
    "\n",
    "print('Establish the cache')\n",
    "make_call(1, 2)\n",
    "make_call(2, 3)\n",
    "\n",
    "print('\\nUse cached items')\n",
    "make_call(1, 2)\n",
    "make_call(2, 3)\n",
    "\n",
    "print('\\nCompute a new value, triggering cache expiration')\n",
    "make_call(3, 4)\n",
    "\n",
    "print('\\nCache still contains one old item')\n",
    "make_call(2, 3)\n",
    "\n",
    "print('\\nOldest item needs to be recomputed')\n",
    "make_call(1, 2)\n"
   ]
  },
  {
   "cell_type": "raw",
   "metadata": {},
   "source": [
    "The keys for the cache managed by lru_cache() must be hashable, so all of the arguments to the function wrapped with the cache lookup must be hashable.\n",
    "\n",
    "If any object that can’t be hashed is passed in to the function, a TypeError is raised."
   ]
  },
  {
   "cell_type": "code",
   "execution_count": 50,
   "metadata": {
    "collapsed": false
   },
   "outputs": [
    {
     "name": "stdout",
     "output_type": "stream",
     "text": [
      "(1, 2) called expensive(1, 2)\n",
      "([1], 2) ERROR: unhashable type: 'list'\n",
      "(1, {'2': 'two'}) ERROR: unhashable type: 'dict'\n"
     ]
    }
   ],
   "source": [
    "# functools_lru_cache_arguments.py\n",
    "import functools\n",
    "\n",
    "\n",
    "@functools.lru_cache(maxsize=2)\n",
    "def expensive(a, b):\n",
    "    print('called expensive({}, {})'.format(a, b))\n",
    "    return a * b\n",
    "\n",
    "\n",
    "def make_call(a, b):\n",
    "    print('({}, {})'.format(a, b), end=' ')\n",
    "    pre_hits = expensive.cache_info().hits\n",
    "    expensive(a, b)\n",
    "    post_hits = expensive.cache_info().hits\n",
    "    if post_hits > pre_hits:\n",
    "        print('cache hit')\n",
    "\n",
    "\n",
    "make_call(1, 2)\n",
    "\n",
    "try:\n",
    "    make_call([1], 2)\n",
    "except TypeError as err:\n",
    "    print('ERROR: {}'.format(err))\n",
    "\n",
    "try:\n",
    "    make_call(1, {'2': 'two'})\n",
    "except TypeError as err:\n",
    "    print('ERROR: {}'.format(err))"
   ]
  },
  {
   "cell_type": "code",
   "execution_count": null,
   "metadata": {
    "collapsed": true
   },
   "outputs": [],
   "source": []
  },
  {
   "cell_type": "code",
   "execution_count": null,
   "metadata": {
    "collapsed": true
   },
   "outputs": [],
   "source": []
  },
  {
   "cell_type": "code",
   "execution_count": null,
   "metadata": {
    "collapsed": true
   },
   "outputs": [],
   "source": []
  },
  {
   "cell_type": "code",
   "execution_count": null,
   "metadata": {
    "collapsed": true
   },
   "outputs": [],
   "source": []
  },
  {
   "cell_type": "code",
   "execution_count": null,
   "metadata": {
    "collapsed": true
   },
   "outputs": [],
   "source": []
  },
  {
   "cell_type": "code",
   "execution_count": null,
   "metadata": {
    "collapsed": true
   },
   "outputs": [],
   "source": []
  },
  {
   "cell_type": "code",
   "execution_count": null,
   "metadata": {
    "collapsed": true
   },
   "outputs": [],
   "source": []
  },
  {
   "cell_type": "code",
   "execution_count": null,
   "metadata": {
    "collapsed": true
   },
   "outputs": [],
   "source": []
  },
  {
   "cell_type": "code",
   "execution_count": null,
   "metadata": {
    "collapsed": true
   },
   "outputs": [],
   "source": []
  },
  {
   "cell_type": "code",
   "execution_count": null,
   "metadata": {
    "collapsed": true
   },
   "outputs": [],
   "source": []
  },
  {
   "cell_type": "code",
   "execution_count": null,
   "metadata": {
    "collapsed": true
   },
   "outputs": [],
   "source": []
  },
  {
   "cell_type": "code",
   "execution_count": null,
   "metadata": {
    "collapsed": true
   },
   "outputs": [],
   "source": []
  },
  {
   "cell_type": "code",
   "execution_count": null,
   "metadata": {
    "collapsed": true
   },
   "outputs": [],
   "source": []
  },
  {
   "cell_type": "code",
   "execution_count": null,
   "metadata": {
    "collapsed": true
   },
   "outputs": [],
   "source": []
  },
  {
   "cell_type": "code",
   "execution_count": null,
   "metadata": {
    "collapsed": true
   },
   "outputs": [],
   "source": []
  },
  {
   "cell_type": "code",
   "execution_count": null,
   "metadata": {
    "collapsed": true
   },
   "outputs": [],
   "source": []
  },
  {
   "cell_type": "code",
   "execution_count": null,
   "metadata": {
    "collapsed": true
   },
   "outputs": [],
   "source": []
  },
  {
   "cell_type": "code",
   "execution_count": null,
   "metadata": {
    "collapsed": true
   },
   "outputs": [],
   "source": []
  },
  {
   "cell_type": "code",
   "execution_count": null,
   "metadata": {
    "collapsed": true
   },
   "outputs": [],
   "source": []
  },
  {
   "cell_type": "code",
   "execution_count": null,
   "metadata": {
    "collapsed": true
   },
   "outputs": [],
   "source": []
  },
  {
   "cell_type": "code",
   "execution_count": null,
   "metadata": {
    "collapsed": true
   },
   "outputs": [],
   "source": []
  },
  {
   "cell_type": "code",
   "execution_count": null,
   "metadata": {
    "collapsed": true
   },
   "outputs": [],
   "source": []
  },
  {
   "cell_type": "code",
   "execution_count": null,
   "metadata": {
    "collapsed": true
   },
   "outputs": [],
   "source": []
  },
  {
   "cell_type": "code",
   "execution_count": null,
   "metadata": {
    "collapsed": true
   },
   "outputs": [],
   "source": []
  },
  {
   "cell_type": "code",
   "execution_count": null,
   "metadata": {
    "collapsed": true
   },
   "outputs": [],
   "source": []
  },
  {
   "cell_type": "code",
   "execution_count": null,
   "metadata": {
    "collapsed": true
   },
   "outputs": [],
   "source": []
  }
 ],
 "metadata": {
  "kernelspec": {
   "display_name": "Python 3",
   "language": "python",
   "name": "python3"
  },
  "language_info": {
   "codemirror_mode": {
    "name": "ipython",
    "version": 3
   },
   "file_extension": ".py",
   "mimetype": "text/x-python",
   "name": "python",
   "nbconvert_exporter": "python",
   "pygments_lexer": "ipython3",
   "version": "3.5.2"
  }
 },
 "nbformat": 4,
 "nbformat_minor": 2
}
