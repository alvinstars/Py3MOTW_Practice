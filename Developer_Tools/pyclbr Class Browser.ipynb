{
 "cells": [
  {
   "cell_type": "markdown",
   "metadata": {},
   "source": [
    "# pyclbr  Class Browser\n",
    "\n",
    "Purpose:\tImplements an API suitable for use in a source code editor for making a class browser.\n",
    "\n",
    "pyclbr can scan Python source to find classes and stand-alone functions. The information about class, method, and function names and line numbers is gathered using tokenize without importing the code.\n",
    "\n",
    "The examples in this section use the following source file as input."
   ]
  },
  {
   "cell_type": "code",
   "execution_count": 1,
   "metadata": {
    "collapsed": true
   },
   "outputs": [],
   "source": [
    "# pyclbr_example.py\n",
    "\"\"\"Example source for pyclbr.\n",
    "\"\"\"\n",
    "\n",
    "\n",
    "class Base:\n",
    "    \"\"\"This is the base class.\n",
    "    \"\"\"\n",
    "\n",
    "    def method1(self):\n",
    "        return\n",
    "\n",
    "\n",
    "class Sub1(Base):\n",
    "    \"\"\"This is the first subclass.\n",
    "    \"\"\"\n",
    "\n",
    "\n",
    "class Sub2(Base):\n",
    "    \"\"\"This is the second subclass.\n",
    "    \"\"\"\n",
    "\n",
    "\n",
    "class Mixin:\n",
    "    \"\"\"A mixin class.\n",
    "    \"\"\"\n",
    "\n",
    "    def method2(self):\n",
    "        return\n",
    "\n",
    "\n",
    "class MixinUser(Sub2, Mixin):\n",
    "    \"\"\"Overrides method1 and method2\n",
    "    \"\"\"\n",
    "\n",
    "    def method1(self):\n",
    "        return\n",
    "\n",
    "    def method2(self):\n",
    "        return\n",
    "\n",
    "    def method3(self):\n",
    "        return\n",
    "\n",
    "\n",
    "def my_function():\n",
    "    \"\"\"Stand-alone function.\n",
    "    \"\"\"\n",
    "    return"
   ]
  },
  {
   "cell_type": "markdown",
   "metadata": {},
   "source": [
    "## Scanning for Classes\n",
    "\n",
    "There are two public functions exposed by pyclbr. The first, readmodule(), takes the name of the module as argument returns a mapping of class names to Class objects containing the metadata about the class source.\n",
    "\n",
    "The metadata for the class includes the file and line number where it is defined, as well as the names of super classes. The methods of the class are saved as a mapping between method name and line number. The output shows the classes and methods listed in order based on their line number in the source file."
   ]
  },
  {
   "cell_type": "code",
   "execution_count": 2,
   "metadata": {
    "collapsed": false
   },
   "outputs": [
    {
     "name": "stdout",
     "output_type": "stream",
     "text": [
      "example_data:  {'Mixin': <pyclbr.Class object at 0x10474ed30>, 'Sub1': <pyclbr.Class object at 0x10474ec50>, 'Base': <pyclbr.Class object at 0x10471e828>, 'MixinUser': <pyclbr.Class object at 0x10474ed68>, 'Sub2': <pyclbr.Class object at 0x10474ec88>}\n",
      "****************************************\n",
      "Class: Base\n",
      "  File: pyclbr_example.py [6]\n",
      "  Method: method1 [10]\n",
      "\n",
      "********************\n",
      "Class: Sub1\n",
      "  File: pyclbr_example.py [14]\n",
      "  Super classes: ['Base']\n",
      "\n",
      "********************\n",
      "Class: Sub2\n",
      "  File: pyclbr_example.py [19]\n",
      "  Super classes: ['Base']\n",
      "\n",
      "********************\n",
      "Class: Mixin\n",
      "  File: pyclbr_example.py [24]\n",
      "  Method: method2 [28]\n",
      "\n",
      "********************\n",
      "Class: MixinUser\n",
      "  File: pyclbr_example.py [32]\n",
      "  Super classes: ['Sub2', 'Mixin']\n",
      "  Method: method1 [36]\n",
      "  Method: method2 [39]\n",
      "  Method: method3 [42]\n",
      "\n",
      "********************\n"
     ]
    }
   ],
   "source": [
    "# pyclbr_readmodule.py\n",
    "import pyclbr\n",
    "import os\n",
    "from operator import itemgetter\n",
    "\n",
    "def show_class(name, class_data):\n",
    "    print('Class:', name)\n",
    "    filename = os.path.basename(class_data.file)\n",
    "    print('  File: {0} [{1}]'.format(\n",
    "        filename, class_data.lineno))\n",
    "    show_super_classes(name, class_data)\n",
    "    show_methods(name, class_data)\n",
    "    print()\n",
    "\n",
    "\n",
    "def show_methods(class_name, class_data):\n",
    "    for name, lineno in sorted(class_data.methods.items(),\n",
    "                               key=itemgetter(1)):\n",
    "        print('  Method: {0} [{1}]'.format(name, lineno))\n",
    "\n",
    "\n",
    "def show_super_classes(name, class_data):\n",
    "    super_class_names = []\n",
    "    for super_class in class_data.super:\n",
    "        if super_class == 'object':\n",
    "            continue\n",
    "        if isinstance(super_class, str):\n",
    "            super_class_names.append(super_class)\n",
    "        else:\n",
    "            super_class_names.append(super_class.name)\n",
    "    if super_class_names:\n",
    "        print('  Super classes:', super_class_names)\n",
    "\n",
    "\n",
    "example_data = pyclbr.readmodule('pyclbr_example')\n",
    "print('example_data: ',example_data)\n",
    "print('*' * 40)\n",
    "\n",
    "for name, class_data in sorted(example_data.items(),\n",
    "                               key=lambda x: x[1].lineno):\n",
    "    show_class(name, class_data)\n",
    "    print('*'*20)"
   ]
  },
  {
   "cell_type": "markdown",
   "metadata": {},
   "source": [
    "## Scanning for Functions\n",
    "\n",
    "The other public function in pyclbr is readmodule_ex(). It does everything that readmodule() does, and adds functions to the result set.\n",
    "\n",
    "Each Function object has properties much like the Class object."
   ]
  },
  {
   "cell_type": "code",
   "execution_count": 3,
   "metadata": {
    "collapsed": false
   },
   "outputs": [
    {
     "name": "stdout",
     "output_type": "stream",
     "text": [
      "Function: my_function [46]\n"
     ]
    }
   ],
   "source": [
    "# pyclbr_readmodule_ex.py\n",
    "import pyclbr\n",
    "import os\n",
    "from operator import itemgetter\n",
    "\n",
    "example_data = pyclbr.readmodule_ex('pyclbr_example')\n",
    "\n",
    "for name, data in sorted(example_data.items(),\n",
    "                         key=lambda x: x[1].lineno):\n",
    "    if isinstance(data, pyclbr.Function):\n",
    "        print('Function: {0} [{1}]'.format(name, data.lineno))"
   ]
  }
 ],
 "metadata": {
  "kernelspec": {
   "display_name": "Python 3",
   "language": "python",
   "name": "python3"
  },
  "language_info": {
   "codemirror_mode": {
    "name": "ipython",
    "version": 3
   },
   "file_extension": ".py",
   "mimetype": "text/x-python",
   "name": "python",
   "nbconvert_exporter": "python",
   "pygments_lexer": "ipython3",
   "version": "3.5.2"
  }
 },
 "nbformat": 4,
 "nbformat_minor": 2
}
