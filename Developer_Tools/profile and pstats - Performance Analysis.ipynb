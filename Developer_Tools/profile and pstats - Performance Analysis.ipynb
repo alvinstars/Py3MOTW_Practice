{
 "cells": [
  {
   "cell_type": "markdown",
   "metadata": {},
   "source": [
    "# profile and pstats - Performance Analysis\n",
    "\n",
    "Purpose:\tPerformance analysis of Python programs.\n",
    "\n",
    "The profile module provides APIs for collecting and analyzing statistics about how Python source consumes processor resources.\n",
    "\n",
    "##### Note\n",
    "This output reports in this section have been reformatted to fit on the page. Lines ending with backslash (\\) are continued on the next line."
   ]
  },
  {
   "cell_type": "markdown",
   "metadata": {},
   "source": [
    "## Running the Profiler\n",
    "\n",
    "The most basic starting point in the profile module is run(). It takes a string statement as argument, and creates a report of the time spent executing different lines of code while running the statement."
   ]
  },
  {
   "cell_type": "code",
   "execution_count": 1,
   "metadata": {
    "collapsed": false
   },
   "outputs": [
    {
     "name": "stdout",
     "output_type": "stream",
     "text": [
      "[0, 1, 1, 2, 3, 5, 8, 13, 21, 34, 55, 89, 144, 233, 377, 610, 987, 1597, 2584, 4181, 6765]\n",
      "\n",
      "         57402 function calls (112 primitive calls) in 0.205 seconds\n",
      "\n",
      "   Ordered by: standard name\n",
      "\n",
      "   ncalls  tottime  percall  cumtime  percall filename:lineno(function)\n",
      "        4    0.000    0.000    0.000    0.000 :0(acquire)\n",
      "       21    0.000    0.000    0.000    0.000 :0(append)\n",
      "        1    0.000    0.000    0.205    0.205 :0(exec)\n",
      "       20    0.000    0.000    0.000    0.000 :0(extend)\n",
      "        3    0.000    0.000    0.000    0.000 :0(getpid)\n",
      "        3    0.000    0.000    0.000    0.000 :0(isinstance)\n",
      "        2    0.000    0.000    0.000    0.000 :0(print)\n",
      "        1    0.000    0.000    0.000    0.000 :0(setprofile)\n",
      "        4    0.000    0.000    0.000    0.000 :0(urandom)\n",
      "     21/1    0.000    0.000    0.205    0.205 <ipython-input-1-a9266880fffc>:13(fib_seq)\n",
      " 57291/21    0.204    0.000    0.204    0.010 <ipython-input-1-a9266880fffc>:5(fib)\n",
      "        1    0.000    0.000    0.205    0.205 <string>:1(<module>)\n",
      "        4    0.000    0.000    0.000    0.000 iostream.py:180(schedule)\n",
      "        3    0.000    0.000    0.000    0.000 iostream.py:285(_is_master_process)\n",
      "        3    0.000    0.000    0.000    0.000 iostream.py:298(_schedule_flush)\n",
      "        3    0.000    0.000    0.000    0.000 iostream.py:361(write)\n",
      "        4    0.000    0.000    0.000    0.000 iostream.py:89(_event_pipe)\n",
      "        1    0.000    0.000    0.205    0.205 profile:0(print(fib_seq(20));print())\n",
      "        0    0.000             0.000          profile:0(profiler)\n",
      "        4    0.000    0.000    0.000    0.000 threading.py:1060(_wait_for_tstate_lock)\n",
      "        4    0.000    0.000    0.000    0.000 threading.py:1102(is_alive)\n",
      "        4    0.000    0.000    0.000    0.000 threading.py:504(is_set)\n",
      "\n",
      "\n"
     ]
    }
   ],
   "source": [
    "# profile_fibonacci_raw.py\n",
    "\n",
    "import profile\n",
    "\n",
    "def fib(n):\n",
    "    if n == 0:\n",
    "        return 0\n",
    "    elif n == 1:\n",
    "        return 1\n",
    "    else:\n",
    "        return fib(n-1) + fib(n-2)\n",
    "\n",
    "def fib_seq(n):\n",
    "    seq = []\n",
    "    if n > 0:\n",
    "        seq.extend(fib_seq(n-1))\n",
    "    seq.append(fib(n))\n",
    "    return seq\n",
    "\n",
    "profile.run('print(fib_seq(20));print()')"
   ]
  },
  {
   "cell_type": "markdown",
   "metadata": {},
   "source": [
    "The details about where time was spent are broken out by function in the listing showing the number of calls, total time spent in the function, time per call (tottime/ncalls), cumulative time spent in a function, and the ratio of cumulative time to primitive calls.\n",
    "\n",
    "Not surprisingly, most of the time here is spent calling fib() repeatedly. Adding a cache decorator reduces the number of recursive calls, and has a big impact on the performance of this function."
   ]
  },
  {
   "cell_type": "code",
   "execution_count": 2,
   "metadata": {
    "collapsed": false
   },
   "outputs": [
    {
     "name": "stdout",
     "output_type": "stream",
     "text": [
      "[0, 1, 1, 2, 3, 5, 8, 13, 21, 34, 55, 89, 144, 233, 377, 610, 987, 1597, 2584, 4181, 6765]\n",
      "\n",
      "         132 function calls (112 primitive calls) in 0.001 seconds\n",
      "\n",
      "   Ordered by: standard name\n",
      "\n",
      "   ncalls  tottime  percall  cumtime  percall filename:lineno(function)\n",
      "        4    0.000    0.000    0.000    0.000 :0(acquire)\n",
      "       21    0.000    0.000    0.000    0.000 :0(append)\n",
      "        1    0.000    0.000    0.001    0.001 :0(exec)\n",
      "       20    0.000    0.000    0.000    0.000 :0(extend)\n",
      "        3    0.000    0.000    0.000    0.000 :0(getpid)\n",
      "        3    0.000    0.000    0.000    0.000 :0(isinstance)\n",
      "        2    0.000    0.000    0.001    0.000 :0(print)\n",
      "        1    0.000    0.000    0.000    0.000 :0(setprofile)\n",
      "        4    0.000    0.000    0.000    0.000 :0(urandom)\n",
      "     21/1    0.000    0.000    0.001    0.001 <ipython-input-2-6d87e85147c0>:18(fib_seq)\n",
      "       21    0.000    0.000    0.000    0.000 <ipython-input-2-6d87e85147c0>:6(fib)\n",
      "        1    0.000    0.000    0.001    0.001 <string>:1(<module>)\n",
      "        4    0.000    0.000    0.000    0.000 iostream.py:180(schedule)\n",
      "        3    0.000    0.000    0.000    0.000 iostream.py:285(_is_master_process)\n",
      "        3    0.000    0.000    0.000    0.000 iostream.py:298(_schedule_flush)\n",
      "        3    0.000    0.000    0.001    0.000 iostream.py:361(write)\n",
      "        4    0.000    0.000    0.000    0.000 iostream.py:89(_event_pipe)\n",
      "        1    0.000    0.000    0.001    0.001 profile:0(print(fib_seq(20)); print())\n",
      "        0    0.000             0.000          profile:0(profiler)\n",
      "        4    0.000    0.000    0.000    0.000 threading.py:1060(_wait_for_tstate_lock)\n",
      "        4    0.000    0.000    0.000    0.000 threading.py:1102(is_alive)\n",
      "        4    0.000    0.000    0.000    0.000 threading.py:504(is_set)\n",
      "\n",
      "\n"
     ]
    }
   ],
   "source": [
    "# profile_fibonacci_memoized.py\n",
    "import functools\n",
    "import profile\n",
    "\n",
    "\n",
    "@functools.lru_cache(maxsize=None)\n",
    "def fib(n):\n",
    "    # from literateprograms.org\n",
    "    # http://bit.ly/hlOQ5m\n",
    "    if n == 0:\n",
    "        return 0\n",
    "    elif n == 1:\n",
    "        return 1\n",
    "    else:\n",
    "        return fib(n - 1) + fib(n - 2)\n",
    "\n",
    "\n",
    "def fib_seq(n):\n",
    "    seq = []\n",
    "    if n > 0:\n",
    "        seq.extend(fib_seq(n - 1))\n",
    "    seq.append(fib(n))\n",
    "    return seq\n",
    "\n",
    "\n",
    "if __name__ == '__main__':\n",
    "    profile.run('print(fib_seq(20)); print()')"
   ]
  },
  {
   "cell_type": "markdown",
   "metadata": {},
   "source": [
    "By remembering the Fibonacci value at each level, most of the recursion is avoided. The ncalls count for fib() shows that it never recurses."
   ]
  },
  {
   "cell_type": "markdown",
   "metadata": {},
   "source": [
    "## Running in a Context\n",
    "\n",
    "Sometimes, instead of constructing a complex expression for run(), it is easier to build a simple expression and pass it parameters through a context, using runctx().\n",
    "\n",
    "In this example, the value of n is passed through the local variable context instead of being embedded directly in the statement passed to runctx()."
   ]
  },
  {
   "cell_type": "code",
   "execution_count": 3,
   "metadata": {
    "collapsed": false
   },
   "outputs": [
    {
     "name": "stdout",
     "output_type": "stream",
     "text": [
      "[0, 1, 1, 2, 3, 5, 8, 13, 21, 34, 55, 89, 144, 233, 377, 610, 987, 1597, 2584, 4181, 6765]\n",
      "\n",
      "         132 function calls (112 primitive calls) in 0.003 seconds\n",
      "\n",
      "   Ordered by: standard name\n",
      "\n",
      "   ncalls  tottime  percall  cumtime  percall filename:lineno(function)\n",
      "        4    0.000    0.000    0.000    0.000 :0(acquire)\n",
      "       21    0.000    0.000    0.000    0.000 :0(append)\n",
      "        1    0.000    0.000    0.003    0.003 :0(exec)\n",
      "       20    0.000    0.000    0.000    0.000 :0(extend)\n",
      "        3    0.000    0.000    0.000    0.000 :0(getpid)\n",
      "        3    0.000    0.000    0.000    0.000 :0(isinstance)\n",
      "        2    0.000    0.000    0.003    0.001 :0(print)\n",
      "        1    0.000    0.000    0.000    0.000 :0(setprofile)\n",
      "        4    0.001    0.000    0.001    0.000 :0(urandom)\n",
      "     21/1    0.000    0.000    0.000    0.000 <ipython-input-3-b0ff3ede32d0>:18(fib_seq)\n",
      "       21    0.000    0.000    0.000    0.000 <ipython-input-3-b0ff3ede32d0>:6(fib)\n",
      "        1    0.000    0.000    0.003    0.003 <string>:1(<module>)\n",
      "        4    0.001    0.000    0.002    0.001 iostream.py:180(schedule)\n",
      "        3    0.000    0.000    0.000    0.000 iostream.py:285(_is_master_process)\n",
      "        3    0.000    0.000    0.001    0.000 iostream.py:298(_schedule_flush)\n",
      "        3    0.000    0.000    0.002    0.001 iostream.py:361(write)\n",
      "        4    0.000    0.000    0.000    0.000 iostream.py:89(_event_pipe)\n",
      "        1    0.000    0.000    0.003    0.003 profile:0(print(fib_seq(n));print())\n",
      "        0    0.000             0.000          profile:0(profiler)\n",
      "        4    0.000    0.000    0.000    0.000 threading.py:1060(_wait_for_tstate_lock)\n",
      "        4    0.000    0.000    0.000    0.000 threading.py:1102(is_alive)\n",
      "        4    0.000    0.000    0.000    0.000 threading.py:504(is_set)\n",
      "\n",
      "\n"
     ]
    }
   ],
   "source": [
    "# profile_runctx.py\n",
    "\n",
    "import profile\n",
    "import functools\n",
    "\n",
    "@functools.lru_cache(maxsize=None)\n",
    "def fib(n):\n",
    "    # from literateprograms.org\n",
    "    # http://bit.ly/hlOQ5m\n",
    "    if n == 0:\n",
    "        return 0\n",
    "    elif n == 1:\n",
    "        return 1\n",
    "    else:\n",
    "        return fib(n - 1) + fib(n - 2)\n",
    "\n",
    "\n",
    "def fib_seq(n):\n",
    "    seq = []\n",
    "    if n > 0:\n",
    "        seq.extend(fib_seq(n - 1))\n",
    "    seq.append(fib(n))\n",
    "    return seq\n",
    "\n",
    "if __name__ == '__main__':\n",
    "    profile.runctx(\n",
    "        'print(fib_seq(n));print()', globals(), {'n':20})"
   ]
  },
  {
   "cell_type": "markdown",
   "metadata": {},
   "source": [
    "## pstats: Saving and Working With Statistics\n",
    "\n",
    "The standard report created by the profile functions is not very flexible. However, custom reports can be produced by saving the raw profiling data from run() and runctx() and processing it separately with the pstats.Stats class.\n",
    "\n",
    "This example runs several iterations of the same test and combines the results.\n",
    "\n",
    "The output report is sorted in descending order of cumulative time spent in the function and the directory names are removed from the printed filenames to conserve horizontal space on the page."
   ]
  },
  {
   "cell_type": "code",
   "execution_count": 4,
   "metadata": {
    "collapsed": false
   },
   "outputs": [
    {
     "name": "stdout",
     "output_type": "stream",
     "text": [
      "0 [0, 1, 1, 2, 3, 5, 8, 13, 21, 34, 55, 89, 144, 233, 377, 610, 987, 1597, 2584, 4181, 6765]\n",
      "1 [0, 1, 1, 2, 3, 5, 8, 13, 21, 34, 55, 89, 144, 233, 377, 610, 987, 1597, 2584, 4181, 6765]\n",
      "2 [0, 1, 1, 2, 3, 5, 8, 13, 21, 34, 55, 89, 144, 233, 377, 610, 987, 1597, 2584, 4181, 6765]\n",
      "3 [0, 1, 1, 2, 3, 5, 8, 13, 21, 34, 55, 89, 144, 233, 377, 610, 987, 1597, 2584, 4181, 6765]\n",
      "4 [0, 1, 1, 2, 3, 5, 8, 13, 21, 34, 55, 89, 144, 233, 377, 610, 987, 1597, 2584, 4181, 6765]\n",
      "Thu Apr  6 23:26:31 2017    profile_stats_0.stats\n",
      "Thu Apr  6 23:26:31 2017    profile_stats_1.stats\n",
      "Thu Apr  6 23:26:31 2017    profile_stats_2.stats\n",
      "Thu Apr  6 23:26:31 2017    profile_stats_3.stats\n",
      "Thu Apr  6 23:26:31 2017    profile_stats_4.stats\n",
      "\n",
      "         598 function calls (498 primitive calls) in 0.003 seconds\n",
      "\n",
      "   Ordered by: cumulative time\n",
      "\n",
      "   ncalls  tottime  percall  cumtime  percall filename:lineno(function)\n",
      "        5    0.000    0.000    0.003    0.001 {built-in method builtins.exec}\n",
      "        5    0.000    0.000    0.003    0.001 <string>:1(<module>)\n",
      "        5    0.000    0.000    0.002    0.000 {built-in method builtins.print}\n",
      "       20    0.000    0.000    0.002    0.000 iostream.py:361(write)\n",
      "       21    0.001    0.000    0.002    0.000 iostream.py:180(schedule)\n",
      "       21    0.001    0.000    0.001    0.000 {built-in method posix.urandom}\n",
      "    105/5    0.000    0.000    0.000    0.000 <ipython-input-4-ebcae057bc8e>:19(fib_seq)\n",
      "       21    0.000    0.000    0.000    0.000 threading.py:1102(is_alive)\n",
      "       21    0.000    0.000    0.000    0.000 threading.py:1060(_wait_for_tstate_lock)\n",
      "       20    0.000    0.000    0.000    0.000 iostream.py:298(_schedule_flush)\n",
      "       20    0.000    0.000    0.000    0.000 iostream.py:285(_is_master_process)\n",
      "       21    0.000    0.000    0.000    0.000 iostream.py:89(_event_pipe)\n",
      "       21    0.000    0.000    0.000    0.000 {method 'acquire' of '_thread.lock' objects}\n",
      "      100    0.000    0.000    0.000    0.000 {method 'extend' of 'list' objects}\n",
      "      105    0.000    0.000    0.000    0.000 {method 'append' of 'list' objects}\n",
      "       21    0.000    0.000    0.000    0.000 threading.py:504(is_set)\n",
      "       20    0.000    0.000    0.000    0.000 {built-in method builtins.isinstance}\n",
      "       21    0.000    0.000    0.000    0.000 <ipython-input-4-ebcae057bc8e>:7(fib)\n",
      "       20    0.000    0.000    0.000    0.000 {built-in method posix.getpid}\n",
      "        5    0.000    0.000    0.000    0.000 {method 'disable' of '_lsprof.Profiler' objects}\n",
      "\n",
      "\n"
     ]
    },
    {
     "data": {
      "text/plain": [
       "<pstats.Stats at 0x104619b38>"
      ]
     },
     "execution_count": 4,
     "metadata": {},
     "output_type": "execute_result"
    }
   ],
   "source": [
    "# profile_stats.py\n",
    "\n",
    "import cProfile as profile\n",
    "import pstats\n",
    "import functools\n",
    "\n",
    "@functools.lru_cache(maxsize=None)\n",
    "def fib(n):\n",
    "    # from literateprograms.org\n",
    "    # http://bit.ly/hlOQ5m\n",
    "    if n == 0:\n",
    "        return 0\n",
    "    elif n == 1:\n",
    "        return 1\n",
    "    else:\n",
    "        return fib(n - 1) + fib(n - 2)\n",
    "\n",
    "\n",
    "def fib_seq(n):\n",
    "    seq = []\n",
    "    if n > 0:\n",
    "        seq.extend(fib_seq(n - 1))\n",
    "    seq.append(fib(n))\n",
    "    return seq\n",
    "\n",
    "# create 5 sets of stats\n",
    "for i in range(5):\n",
    "    filename = 'profile_stats_{}.stats'.format(i)\n",
    "    profile.run('print({}, fib_seq(20))'.format(i), filename)\n",
    "\n",
    "# read all 5 stats files into a single object\n",
    "stats = pstats.Stats('profile_stats_0.stats')\n",
    "for i in range(1, 5):\n",
    "    stats.add('profile_stats_{}.stats'.format(i))\n",
    "\n",
    "# clean up filenames for the report\n",
    "stats.strip_dirs()\n",
    "\n",
    "# sort the stats by the cumulative time spent\n",
    "stats.sort_stats('cumulative')\n",
    "\n",
    "stats.print_stats()"
   ]
  },
  {
   "cell_type": "markdown",
   "metadata": {},
   "source": [
    "## Limiting Report Contents\n",
    "\n",
    "The output can be restricted by function. This version only shows information about the performance of fib() and fib_seq() by using a regular expression to match the desired filename:lineno(function) values.\n",
    "\n",
    "The regular expression includes a literal left parenthesis (() to match against the function name portion of the location value."
   ]
  },
  {
   "cell_type": "code",
   "execution_count": 5,
   "metadata": {
    "collapsed": false
   },
   "outputs": [
    {
     "name": "stdout",
     "output_type": "stream",
     "text": [
      "Thu Apr  6 23:26:31 2017    profile_stats_0.stats\n",
      "Thu Apr  6 23:26:31 2017    profile_stats_1.stats\n",
      "Thu Apr  6 23:26:31 2017    profile_stats_2.stats\n",
      "Thu Apr  6 23:26:31 2017    profile_stats_3.stats\n",
      "Thu Apr  6 23:26:31 2017    profile_stats_4.stats\n",
      "\n",
      "         598 function calls (498 primitive calls) in 0.003 seconds\n",
      "\n",
      "   Ordered by: cumulative time\n",
      "   List reduced from 20 to 2 due to restriction <'\\\\(fib'>\n",
      "\n",
      "   ncalls  tottime  percall  cumtime  percall filename:lineno(function)\n",
      "    105/5    0.000    0.000    0.000    0.000 <ipython-input-4-ebcae057bc8e>:19(fib_seq)\n",
      "       21    0.000    0.000    0.000    0.000 <ipython-input-4-ebcae057bc8e>:7(fib)\n",
      "\n",
      "\n"
     ]
    },
    {
     "data": {
      "text/plain": [
       "<pstats.Stats at 0x104641be0>"
      ]
     },
     "execution_count": 5,
     "metadata": {},
     "output_type": "execute_result"
    }
   ],
   "source": [
    "# profile_stats_restricted.py\n",
    "\n",
    "import profile\n",
    "import pstats\n",
    "import functools\n",
    "\n",
    "@functools.lru_cache(maxsize=None)\n",
    "def fib(n):\n",
    "    if n == 0:\n",
    "        return 0\n",
    "    elif n == 1:\n",
    "        return 1\n",
    "    else:\n",
    "        return fib(n-1) + fib (n-2)\n",
    "    \n",
    "def fib_seq(n):\n",
    "    seq = []\n",
    "    if n > 0:\n",
    "        seq.extend(fib_seq(n-1))\n",
    "    seq.extend(fib(n))\n",
    "    return seq\n",
    "\n",
    "# Read all 5 stats files into a single object\n",
    "stats = pstats.Stats('profile_stats_0.stats')\n",
    "for i in range(1, 5):\n",
    "    stats.add('profile_stats_{}.stats'.format(i))\n",
    "stats.strip_dirs()\n",
    "stats.sort_stats('cumulative')\n",
    "\n",
    "# limit output to lines with \"(fib\" in them\n",
    "stats.print_stats('\\(fib')"
   ]
  },
  {
   "cell_type": "markdown",
   "metadata": {},
   "source": [
    "## Caller / Callee Graphs\n",
    "\n",
    "Stats also includes methods for printing the callers and callees of functions.\n",
    "\n",
    "The arguments to print_callers() and print_callees() work the same as the restriction arguments to print_stats(). The output shows the caller, callee, number of calls, and cumulative time."
   ]
  },
  {
   "cell_type": "code",
   "execution_count": 6,
   "metadata": {
    "collapsed": false,
    "scrolled": true
   },
   "outputs": [
    {
     "name": "stdout",
     "output_type": "stream",
     "text": [
      "INCOMING CALLERS:\n",
      "   Ordered by: cumulative time\n",
      "   List reduced from 20 to 2 due to restriction <'\\\\(fib'>\n",
      "\n",
      "Function                                    was called by...\n",
      "                                                ncalls  tottime  cumtime\n",
      "<ipython-input-4-ebcae057bc8e>:19(fib_seq)  <-   100/5    0.000    0.000  <ipython-input-4-ebcae057bc8e>:19(fib_seq)\n",
      "                                                     5    0.000    0.000  <string>:1(<module>)\n",
      "<ipython-input-4-ebcae057bc8e>:7(fib)       <-      21    0.000    0.000  <ipython-input-4-ebcae057bc8e>:19(fib_seq)\n",
      "\n",
      "\n",
      "OUTGOING CALLEES:\n",
      "   Ordered by: cumulative time\n",
      "   List reduced from 20 to 2 due to restriction <'\\\\(fib'>\n",
      "\n",
      "Function                                    called...\n",
      "                                                ncalls  tottime  cumtime\n",
      "<ipython-input-4-ebcae057bc8e>:19(fib_seq)  ->      21    0.000    0.000  <ipython-input-4-ebcae057bc8e>:7(fib)\n",
      "                                                 100/5    0.000    0.000  <ipython-input-4-ebcae057bc8e>:19(fib_seq)\n",
      "                                                   105    0.000    0.000  {method 'append' of 'list' objects}\n",
      "                                                   100    0.000    0.000  {method 'extend' of 'list' objects}\n",
      "<ipython-input-4-ebcae057bc8e>:7(fib)       -> \n",
      "\n",
      "\n"
     ]
    },
    {
     "data": {
      "text/plain": [
       "<pstats.Stats at 0x1046773c8>"
      ]
     },
     "execution_count": 6,
     "metadata": {},
     "output_type": "execute_result"
    }
   ],
   "source": [
    "# profile_stats_callers.py\n",
    "import cProfile as profile\n",
    "import pstats\n",
    "import functools\n",
    "\n",
    "@functools.lru_cache(maxsize=None)\n",
    "def fib(n):\n",
    "    if n == 0:\n",
    "        return 0\n",
    "    elif n == 1:\n",
    "        return 1\n",
    "    else:\n",
    "        return fib(n-1) + fib (n-2)\n",
    "    \n",
    "def fib_seq(n):\n",
    "    seq = []\n",
    "    if n > 0:\n",
    "        seq.extend(fib_seq(n-1))\n",
    "    seq.extend(fib(n))\n",
    "    return seq\n",
    "\n",
    "# Read all 5 stats files into a single object\n",
    "stats = pstats.Stats('profile_stats_0.stats')\n",
    "for i in range(1, 5):\n",
    "    stats.add('profile_stats_{}.stats'.format(i))\n",
    "stats.strip_dirs()\n",
    "stats.sort_stats('cumulative')\n",
    "\n",
    "print('INCOMING CALLERS:')\n",
    "stats.print_callers('\\(fib')\n",
    "\n",
    "print('OUTGOING CALLEES:')\n",
    "stats.print_callees('\\(fib')"
   ]
  },
  {
   "cell_type": "code",
   "execution_count": 7,
   "metadata": {
    "collapsed": true
   },
   "outputs": [],
   "source": [
    "! rm profile_stats_[0-4].stats"
   ]
  }
 ],
 "metadata": {
  "kernelspec": {
   "display_name": "Python 3",
   "language": "python",
   "name": "python3"
  },
  "language_info": {
   "codemirror_mode": {
    "name": "ipython",
    "version": 3
   },
   "file_extension": ".py",
   "mimetype": "text/x-python",
   "name": "python",
   "nbconvert_exporter": "python",
   "pygments_lexer": "ipython3",
   "version": "3.5.2"
  }
 },
 "nbformat": 4,
 "nbformat_minor": 2
}
