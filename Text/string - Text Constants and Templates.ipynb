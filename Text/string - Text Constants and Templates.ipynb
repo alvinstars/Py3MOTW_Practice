{
 "cells": [
  {
   "cell_type": "markdown",
   "metadata": {},
   "source": [
    "# string - Text Constants and Templates\n",
    "\n",
    "Purpose:\tContains constants and classes for working with text.\n",
    "\n",
    "The string module dates from the earliest versions of Python. Many of the functions previously implemented in this module have been moved to methods of str objects. The string module retains several useful constants and classes for working with str objects. This discussion will concentrate on them."
   ]
  },
  {
   "cell_type": "markdown",
   "metadata": {},
   "source": [
    "## Functions\n",
    "\n",
    "The function capwords() capitalizes all of the words in a string.\n",
    "\n",
    "The results are the same as those obtained by calling split(), capitalizing the words in the resulting list, and then calling join() to combine the results."
   ]
  },
  {
   "cell_type": "code",
   "execution_count": 1,
   "metadata": {
    "collapsed": false
   },
   "outputs": [
    {
     "name": "stdout",
     "output_type": "stream",
     "text": [
      "The quick brown fox jumped over the lazy dog.\n",
      "The Quick Brown Fox Jumped Over The Lazy Dog.\n"
     ]
    }
   ],
   "source": [
    "# string_capwords.py\n",
    "import string\n",
    "\n",
    "s = 'The quick brown fox jumped over the lazy dog.'\n",
    "\n",
    "print(s)\n",
    "print(string.capwords(s))"
   ]
  },
  {
   "cell_type": "markdown",
   "metadata": {},
   "source": [
    "## Templates\n",
    "\n",
    "String templates were added as part of PEP 292 and are intended as an alternative to the built-in interpolation syntax. With string.Template interpolation, variables are identified by prefixing the name with $ (e.g., $var). Alternatively, if necessary to set them off from surrounding text, they can also be wrapped with curly braces (e.g., ${var}).\n",
    "\n",
    "This example compares a simple template with similar string interpolation using the % operator and the new format string syntax using str.format().\n",
    "\n",
    "In the first two cases, the trigger character ($ or %) is escaped by repeating it twice. For the format syntax, both { and } need to be escaped by repeating them."
   ]
  },
  {
   "cell_type": "code",
   "execution_count": 2,
   "metadata": {
    "collapsed": false
   },
   "outputs": [
    {
     "name": "stdout",
     "output_type": "stream",
     "text": [
      "TEMPLATE: \n",
      "Variable        : foo\n",
      "Escape          : $\n",
      "Variable in text: fooiable\n",
      "\n",
      "INTERPOLATION: \n",
      "Variable        : foo\n",
      "Escape          : %\n",
      "Variable in text: fooiable\n",
      "\n",
      "FORMAT: \n",
      "Variable        : foo\n",
      "Escape          : {}\n",
      "Variable in text: fooiable\n",
      "\n"
     ]
    }
   ],
   "source": [
    "# string_template.py\n",
    "import string\n",
    "\n",
    "values = {'var': 'foo'}\n",
    "\n",
    "t = string.Template(\"\"\"\n",
    "Variable        : $var\n",
    "Escape          : $$\n",
    "Variable in text: ${var}iable\n",
    "\"\"\")\n",
    "\n",
    "print('TEMPLATE:', t.substitute(values))\n",
    "\n",
    "s = \"\"\"\n",
    "Variable        : %(var)s\n",
    "Escape          : %%\n",
    "Variable in text: %(var)siable\n",
    "\"\"\"\n",
    "\n",
    "print('INTERPOLATION:', s % values)\n",
    "\n",
    "s = \"\"\"\n",
    "Variable        : {var}\n",
    "Escape          : {{}}\n",
    "Variable in text: {var}iable\n",
    "\"\"\"\n",
    "\n",
    "print('FORMAT:', s.format(**values))"
   ]
  },
  {
   "cell_type": "markdown",
   "metadata": {},
   "source": [
    "One key difference between templates and string interpolation or formatting is that the type of the arguments is not taken into account. The values are converted to strings, and the strings are inserted into the result. No formatting options are available. For example, there is no way to control the number of digits used to represent a floating-point value.\n",
    "\n",
    "A benefit, though, is that use of the safe_substitute() method makes it possible to avoid exceptions if not all of the values needed by the template are provided as arguments.\n",
    "\n",
    "Since there is no value for missing in the values dictionary, a KeyError is raised by substitute(). Instead of raising the error, safe_substitute() catches it and leaves the variable expression alone in the text."
   ]
  },
  {
   "cell_type": "code",
   "execution_count": 3,
   "metadata": {
    "collapsed": false
   },
   "outputs": [
    {
     "name": "stdout",
     "output_type": "stream",
     "text": [
      "ERROR: 'missing'\n",
      "safe_substitute(): foo is here but $missing is not provided\n"
     ]
    }
   ],
   "source": [
    "# string_template_missing.py\n",
    "import string\n",
    "\n",
    "values = {'var': 'foo'}\n",
    "\n",
    "t = string.Template(\"$var is here but $missing is not provided\")\n",
    "\n",
    "try:\n",
    "    print('substitute()     :', t.substitute(values))\n",
    "except KeyError as err:\n",
    "    print('ERROR:', str(err))\n",
    "\n",
    "print('safe_substitute():', t.safe_substitute(values))"
   ]
  },
  {
   "cell_type": "markdown",
   "metadata": {},
   "source": [
    "## Advanced Templates\n",
    "\n",
    "The default syntax for string.Template can be changed by adjusting the regular expression patterns it uses to find the variable names in the template body. A simple way to do that is to change the delimiter and idpattern class attributes.\n",
    "\n",
    "In this example, the substitution rules are changed so that the delimiter is % instead of $ and variable names must include an underscore somewhere in the middle. The pattern %notunderscored is not replaced by anything, because it does not include an underscore character."
   ]
  },
  {
   "cell_type": "code",
   "execution_count": 4,
   "metadata": {
    "collapsed": false
   },
   "outputs": [
    {
     "name": "stdout",
     "output_type": "stream",
     "text": [
      "Modified ID pattern:\n",
      "\n",
      "  Delimiter : %\n",
      "  Replaced  : replaced\n",
      "  Ignored   : %notunderscored\n",
      "\n"
     ]
    }
   ],
   "source": [
    "# string_template_advanced.py\n",
    "import string\n",
    "\n",
    "\n",
    "class MyTemplate(string.Template):\n",
    "    delimiter = '%'\n",
    "    idpattern = '[a-z]+_[a-z]+'\n",
    "\n",
    "\n",
    "template_text = '''\n",
    "  Delimiter : %%\n",
    "  Replaced  : %with_underscore\n",
    "  Ignored   : %notunderscored\n",
    "'''\n",
    "\n",
    "d = {\n",
    "    'with_underscore': 'replaced',\n",
    "    'notunderscored': 'not replaced',\n",
    "}\n",
    "\n",
    "t = MyTemplate(template_text)\n",
    "print('Modified ID pattern:')\n",
    "print(t.safe_substitute(d))"
   ]
  },
  {
   "cell_type": "markdown",
   "metadata": {},
   "source": [
    "For even more complex changes, it is possible to override the pattern attribute and define an entirely new regular expression. The pattern provided must contain four named groups for capturing the escaped delimiter, the named variable, a braced version of the variable name, and invalid delimiter patterns.\n",
    "\n",
    "The value of t.pattern is a compiled regular expression, but the original string is available via its pattern attribute."
   ]
  },
  {
   "cell_type": "code",
   "execution_count": 5,
   "metadata": {
    "collapsed": false
   },
   "outputs": [
    {
     "name": "stdout",
     "output_type": "stream",
     "text": [
      "\n",
      "    \\$(?:\n",
      "      (?P<escaped>\\$) |   # Escape sequence of two delimiters\n",
      "      (?P<named>[_a-z][_a-z0-9]*)      |   # delimiter and a Python identifier\n",
      "      {(?P<braced>[_a-z][_a-z0-9]*)}   |   # delimiter and a braced identifier\n",
      "      (?P<invalid>)              # Other ill-formed delimiter exprs\n",
      "    )\n",
      "    \n"
     ]
    }
   ],
   "source": [
    "# string_template_defaultpattern.py\n",
    "import string\n",
    "\n",
    "t = string.Template('$var')\n",
    "print(t.pattern.pattern)"
   ]
  },
  {
   "cell_type": "markdown",
   "metadata": {},
   "source": [
    "This example defines a new pattern to create a new type of template, using {{var}} as the variable syntax.\n",
    "\n",
    "Both the named and braced patterns must be provided separately, even though they are the same. Running the sample program generates the following output:"
   ]
  },
  {
   "cell_type": "code",
   "execution_count": 6,
   "metadata": {
    "collapsed": false
   },
   "outputs": [
    {
     "name": "stdout",
     "output_type": "stream",
     "text": [
      "MATCHES: [('{{', '', '', ''), ('', 'var', '', '')]\n",
      "SUBSTITUTED: \n",
      "{{\n",
      "replacement\n",
      "\n"
     ]
    }
   ],
   "source": [
    "# string_template_newsyntax.py\n",
    "import re\n",
    "import string\n",
    "\n",
    "\n",
    "class MyTemplate(string.Template):\n",
    "    delimiter = '{{'\n",
    "    pattern = r'''\n",
    "    \\{\\{(?:\n",
    "    (?P<escaped>\\{\\{)|\n",
    "    (?P<named>[_a-z][_a-z0-9]*)\\}\\}|\n",
    "    (?P<braced>[_a-z][_a-z0-9]*)\\}\\}|\n",
    "    (?P<invalid>)\n",
    "    )\n",
    "    '''\n",
    "\n",
    "\n",
    "t = MyTemplate('''\n",
    "{{{{\n",
    "{{var}}\n",
    "''')\n",
    "\n",
    "print('MATCHES:', t.pattern.findall(t.template))\n",
    "print('SUBSTITUTED:', t.safe_substitute(var='replacement'))"
   ]
  },
  {
   "cell_type": "markdown",
   "metadata": {},
   "source": [
    "## Formatter\n",
    "\n",
    "The Formatter class implements the same layout specification language as the format() method of str. Its features include type coersion, alignment, attribute and field references, named and positional template arguments, and type-specific formatting options. Most of the time the format() method is a more convenient interface to these features, but Formatter is provided as a way to build subclasses, for cases where variations are needed."
   ]
  },
  {
   "cell_type": "markdown",
   "metadata": {},
   "source": [
    "## Constants\n",
    "\n",
    "The string module includes a number of constants related to ASCII and numerical character sets.\n",
    "\n",
    "These constants are useful when working with ASCII data, but since it is increasingly common to encounter non-ASCII text in some form of Unicode, their application is limited."
   ]
  },
  {
   "cell_type": "code",
   "execution_count": 7,
   "metadata": {
    "collapsed": false
   },
   "outputs": [
    {
     "name": "stdout",
     "output_type": "stream",
     "text": [
      "ascii_letters='abcdefghijklmnopqrstuvwxyzABCDEFGHIJKLMNOPQRSTUVWXYZ'\n",
      "\n",
      "ascii_lowercase='abcdefghijklmnopqrstuvwxyz'\n",
      "\n",
      "ascii_uppercase='ABCDEFGHIJKLMNOPQRSTUVWXYZ'\n",
      "\n",
      "digits='0123456789'\n",
      "\n",
      "hexdigits='0123456789abcdefABCDEF'\n",
      "\n",
      "octdigits='01234567'\n",
      "\n",
      "printable='0123456789abcdefghijklmnopqrstuvwxyzABCDEFGHIJKLMNOPQRSTUVWXYZ!\"#$%&\\'()*+,-./:;<=>?@[\\\\]^_`{|}~ \\t\\n\\r\\x0b\\x0c'\n",
      "\n",
      "punctuation='!\"#$%&\\'()*+,-./:;<=>?@[\\\\]^_`{|}~'\n",
      "\n",
      "whitespace=' \\t\\n\\r\\x0b\\x0c'\n",
      "\n"
     ]
    }
   ],
   "source": [
    "# string_constants.py\n",
    "import inspect\n",
    "import string\n",
    "\n",
    "\n",
    "def is_str(value):\n",
    "    return isinstance(value, str)\n",
    "\n",
    "\n",
    "for name, value in inspect.getmembers(string, is_str):\n",
    "    if name.startswith('_'):\n",
    "        continue\n",
    "    print('%s=%r\\n' % (name, value))"
   ]
  },
  {
   "cell_type": "code",
   "execution_count": 8,
   "metadata": {
    "collapsed": false
   },
   "outputs": [
    {
     "name": "stdout",
     "output_type": "stream",
     "text": [
      "Help on function getmembers in module inspect:\n",
      "\n",
      "getmembers(object, predicate=None)\n",
      "    Return all members of an object as (name, value) pairs sorted by name.\n",
      "    Optionally, only return members that satisfy a given predicate.\n",
      "\n"
     ]
    }
   ],
   "source": [
    "help(inspect.getmembers)"
   ]
  }
 ],
 "metadata": {
  "kernelspec": {
   "display_name": "Python 3",
   "language": "python",
   "name": "python3"
  },
  "language_info": {
   "codemirror_mode": {
    "name": "ipython",
    "version": 3
   },
   "file_extension": ".py",
   "mimetype": "text/x-python",
   "name": "python",
   "nbconvert_exporter": "python",
   "pygments_lexer": "ipython3",
   "version": "3.5.2"
  }
 },
 "nbformat": 4,
 "nbformat_minor": 2
}
