{
 "cells": [
  {
   "cell_type": "markdown",
   "metadata": {},
   "source": [
    "# re — Regular Expressions\n",
    "\n",
    "Purpose:\tSearching within and changing text using formal patterns.\n",
    "\n",
    "Regular expressions are text matching patterns described with a formal syntax. The patterns are interpreted as a set of instructions, which are then executed with a string as input to produce a matching subset or modified version of the original. The term “regular expressions” is frequently shortened to “regex” or “regexp” in conversation. Expressions can include literal text matching, repetition, pattern composition, branching, and other sophisticated rules. A large number of parsing problems are easier to solve with a regular expression than by creating a special-purpose lexer and parser.\n",
    "\n",
    "Regular expressions are typically used in applications that involve a lot of text processing. For example, they are commonly used as search patterns in text editing programs used by developers, including vi, emacs, and modern IDEs. They are also an integral part of Unix command-line utilities such as sed, grep, and awk. Many programming languages include support for regular expressions in the language syntax (Perl, Ruby, Awk, and Tcl). Other languages, such as C, C++, and Python, support regular expressions through extension libraries.\n",
    "\n",
    "Multiple open source implementations of regular expressions exist, each sharing a common core syntax but with different extensions or modifications to their advanced features. The syntax used in Python’s re module is based on the syntax used for regular expressions in Perl, with a few Python-specific enhancements."
   ]
  },
  {
   "cell_type": "markdown",
   "metadata": {},
   "source": [
    "#### Note\n",
    "Although the formal definition of “regular expression” is limited to expressions that describe regular languages, some of the extensions supported by re go beyond describing regular languages. The term “regular expression” is used here in a more general sense to mean any expression that can be evaluated by Python’s re module."
   ]
  },
  {
   "cell_type": "markdown",
   "metadata": {},
   "source": [
    "## Finding Patterns in Text\n",
    "\n",
    "The most common use for re is to search for patterns in text. The search() function takes the pattern and text to scan, and returns a Match object when the pattern is found. If the pattern is not found, search() returns None.\n",
    "\n",
    "Each Match object holds information about the nature of the match, including the original input string, the regular expression used, and the location within the original string where the pattern occurs.\n",
    "\n",
    "The start() and end() methods give the indexes into the string showing where the text matched by the pattern occurs."
   ]
  },
  {
   "cell_type": "code",
   "execution_count": 1,
   "metadata": {
    "collapsed": false
   },
   "outputs": [
    {
     "name": "stdout",
     "output_type": "stream",
     "text": [
      "Found \"this\"\n",
      "in \"Does this text match the pattern?\"\n",
      "from 5 to 9 (\"this\")\n"
     ]
    }
   ],
   "source": [
    "# re_simple_match.py\n",
    "import re\n",
    "\n",
    "pattern = 'this'\n",
    "text = 'Does this text match the pattern?'\n",
    "\n",
    "match = re.search(pattern, text)\n",
    "\n",
    "s = match.start()\n",
    "e = match.end()\n",
    "\n",
    "print('Found \"{}\"\\nin \"{}\"\\nfrom {} to {} (\"{}\")'.format(\n",
    "    match.re.pattern, match.string, s, e, text[s:e]))"
   ]
  },
  {
   "cell_type": "markdown",
   "metadata": {},
   "source": [
    "## Compiling Expressions\n",
    "\n",
    "Although re includes module-level functions for working with regular expressions as text strings, it is more efficient to compile the expressions a program uses frequently. The compile() function converts an expression string into a RegexObject.\n",
    "\n",
    "The module-level functions maintain a cache of compiled expressions, but the size of the cache is limited and using compiled expressions directly avoids the overhead associated with cache lookup. Another advantage of using compiled expressions is that by precompiling all of the expressions when the module is loaded, the compilation work is shifted to application start time, instead of occurring at a point where the program may be responding to a user action."
   ]
  },
  {
   "cell_type": "code",
   "execution_count": 2,
   "metadata": {
    "collapsed": false
   },
   "outputs": [
    {
     "name": "stdout",
     "output_type": "stream",
     "text": [
      "Text: 'Does this text match the patter?'\n",
      "\n",
      "Seeking \"this\" ->  match!\n",
      "Seeking \"that\" ->  no match!\n"
     ]
    }
   ],
   "source": [
    "# re_simple_compilted.py\n",
    "\n",
    "import re\n",
    "\n",
    "# precompile the patterns\n",
    "\n",
    "regexes = [\n",
    "    re.compile(p)\n",
    "    for p in ['this', 'that']\n",
    "]\n",
    "\n",
    "text = 'Does this text match the patter?'\n",
    "\n",
    "print('Text: {!r}\\n'.format(text))\n",
    "\n",
    "for regex in regexes:\n",
    "    print('Seeking \"{}\" -> '.format(regex.pattern), end=' ') \n",
    "    if regex.search(text):\n",
    "        print('match!')\n",
    "    else:\n",
    "        print('no match!')"
   ]
  },
  {
   "cell_type": "markdown",
   "metadata": {},
   "source": [
    "## Multiple Matches\n",
    "\n",
    "So far, the example patterns have all used search() to look for single instances of literal text strings. The findall() function returns all of the substrings of the input that match the pattern without overlapping.\n",
    "\n",
    "This example input string includes two instances of ab."
   ]
  },
  {
   "cell_type": "code",
   "execution_count": 3,
   "metadata": {
    "collapsed": false
   },
   "outputs": [
    {
     "name": "stdout",
     "output_type": "stream",
     "text": [
      "Found 'ab'\n",
      "Found 'ab'\n"
     ]
    }
   ],
   "source": [
    "# re_findall.py\n",
    "\n",
    "import re\n",
    "\n",
    "text = 'abbaaabbbaaaa'\n",
    "\n",
    "pattern = 'ab'\n",
    "\n",
    "for match in re.findall(pattern, text):\n",
    "    print('Found {!r}'.format(match))"
   ]
  },
  {
   "cell_type": "markdown",
   "metadata": {},
   "source": [
    "The finditer() function returns an iterator that produces Match instances instead of the strings returned by findall().\n",
    "\n",
    "This example finds the same two occurrences of ab, and the Match instance shows where they are found in the original input."
   ]
  },
  {
   "cell_type": "code",
   "execution_count": 4,
   "metadata": {
    "collapsed": false
   },
   "outputs": [
    {
     "name": "stdout",
     "output_type": "stream",
     "text": [
      "Found 'ab' at 0:2\n",
      "Found 'ab' at 5:7\n"
     ]
    }
   ],
   "source": [
    "# re_finditer.py\n",
    "\n",
    "import re\n",
    "\n",
    "text = 'abbaaabbbaaaaa'\n",
    "\n",
    "pattern = 'ab'\n",
    "\n",
    "for match in re.finditer(pattern, text):\n",
    "    s = match.start()\n",
    "    e = match.end()\n",
    "    print('Found {!r} at {:d}:{:d}'.format(text[s:e], s, e))"
   ]
  },
  {
   "cell_type": "markdown",
   "metadata": {},
   "source": [
    "## Pattern Syntax\n",
    "\n",
    "Regular expressions support more powerful patterns than simple literal text strings. Patterns can repeat, can be anchored to different logical locations within the input, and can be expressed in compact forms that do not require every literal character to be present in the pattern. All of these features are used by combining literal text values with meta-characters that are part of the regular expression pattern syntax implemented by re.\n",
    "\n",
    "The following examples will use test_patterns() to explore how variations in patterns change the way they match the same input text. The output shows the input text and the substring range from each portion of the input that matches the pattern."
   ]
  },
  {
   "cell_type": "code",
   "execution_count": 5,
   "metadata": {
    "collapsed": false
   },
   "outputs": [
    {
     "name": "stdout",
     "output_type": "stream",
     "text": [
      "'ab ('a' followed by 'b')'\n",
      "  'abbaaabbbbaaaaa'\n",
      "  'ab'\n",
      "  .....'ab'\n",
      "\n",
      "'baa ('b' followed by double 'a')'\n",
      "  'abbaaabbbbaaaaa'\n",
      "  ..'baa'\n",
      "  .........'baa'\n",
      "\n"
     ]
    }
   ],
   "source": [
    "# re_test_patterns.py\n",
    "\n",
    "import re\n",
    "\n",
    "def test_patterns(text, patterns):\n",
    "    \"\"\"Given source text and a list of patterns, look for\n",
    "    matches for each pattern within the text and print\n",
    "    them to stdout.\n",
    "    \"\"\"\n",
    "    # Look for each pattern in the text and print the results\n",
    "    for pattern, desc in patterns:\n",
    "        print(\"'{} ({})'\".format(pattern, desc))\n",
    "        print(\"  '{}'\".format(text))\n",
    "        for match in re.finditer(pattern, text):\n",
    "            s = match.start()\n",
    "            e = match.end()\n",
    "            substr = text[s:e]\n",
    "            n_backslashes = text[:s].count('\\\\')\n",
    "            prefix = '.' * (s + n_backslashes)\n",
    "            print(\"  {}'{}'\".format(prefix, substr))\n",
    "        print()\n",
    "    return\n",
    "\n",
    "if __name__ == '__main__':\n",
    "    test_patterns('abbaaabbbbaaaaa',\n",
    "                 [('ab',\"'a' followed by 'b'\"),\n",
    "                 ('baa',\"'b' followed by double 'a'\")])"
   ]
  },
  {
   "cell_type": "markdown",
   "metadata": {
    "collapsed": true
   },
   "source": [
    "## Repetition\n",
    "\n",
    "There are five ways to express repetition in a pattern. \n",
    "\n",
    "* A pattern followed by the meta-character \\* is repeated zero or more times (allowing a pattern to repeat zero times means it does not need to appear at all to match). \n",
    "* If the * is replaced with +, the pattern must appear at least once. \n",
    "* Using ? means the pattern appears zero or one time. \n",
    "* For a specific number of occurrences, use {m} after the pattern, where m is the number of times the pattern should repeat. \n",
    "* Finally, to allow a variable but limited number of repetitions, use {m,n}, where m is the minimum number of repetitions and n is the maximum. Leaving out n ({m,}) means the value must appear at least m times, with no maximum.\n",
    "\n",
    "There are more matches for ab* and ab? than ab+."
   ]
  },
  {
   "cell_type": "code",
   "execution_count": 6,
   "metadata": {
    "collapsed": false
   },
   "outputs": [
    {
     "name": "stdout",
     "output_type": "stream",
     "text": [
      "'ab* (a followed by zero or more b)'\n",
      "  'abbaabbba'\n",
      "  'abb'\n",
      "  ...'a'\n",
      "  ....'abbb'\n",
      "  ........'a'\n",
      "\n",
      "'ab+ (a followed by one or more b)'\n",
      "  'abbaabbba'\n",
      "  'abb'\n",
      "  ....'abbb'\n",
      "\n",
      "'ab? (a followed by zero or one b)'\n",
      "  'abbaabbba'\n",
      "  'ab'\n",
      "  ...'a'\n",
      "  ....'ab'\n",
      "  ........'a'\n",
      "\n",
      "'ab{3} (a followed by three b)'\n",
      "  'abbaabbba'\n",
      "  ....'abbb'\n",
      "\n",
      "'ab{2,3} (a followed by two to three b)'\n",
      "  'abbaabbba'\n",
      "  'abb'\n",
      "  ....'abbb'\n",
      "\n"
     ]
    }
   ],
   "source": [
    "# re_repetition.py\n",
    "\n",
    "from re_test_patterns import test_patterns\n",
    "\n",
    "test_patterns(\n",
    "    'abbaabbba',\n",
    "    [('ab*', 'a followed by zero or more b'),\n",
    "     ('ab+', 'a followed by one or more b'),\n",
    "     ('ab?', 'a followed by zero or one b'),\n",
    "     ('ab{3}', 'a followed by three b'),\n",
    "     ('ab{2,3}', 'a followed by two to three b')],\n",
    ")"
   ]
  },
  {
   "cell_type": "markdown",
   "metadata": {
    "collapsed": true
   },
   "source": [
    "When processing a repetition instruction, re will usually consume as much of the input as possible while matching the pattern. This so-called greedy behavior may result in fewer individual matches, or the matches may include more of the input text than intended. Greediness can be turned off by following the repetition instruction with ?.\n",
    "\n",
    "Disabling greedy consumption of the input for any of the patterns where zero occurrences of b are allowed means the matched substring does not include any b characters."
   ]
  },
  {
   "cell_type": "code",
   "execution_count": 7,
   "metadata": {
    "collapsed": false
   },
   "outputs": [
    {
     "name": "stdout",
     "output_type": "stream",
     "text": [
      "'ab*? (a followed by zero or more b)'\n",
      "  'abbaabbba'\n",
      "  'a'\n",
      "  ...'a'\n",
      "  ....'a'\n",
      "  ........'a'\n",
      "\n",
      "'ab+? (a followed by one or more b)'\n",
      "  'abbaabbba'\n",
      "  'ab'\n",
      "  ....'ab'\n",
      "\n",
      "'ab?? (a followed by zero or one b)'\n",
      "  'abbaabbba'\n",
      "  'a'\n",
      "  ...'a'\n",
      "  ....'a'\n",
      "  ........'a'\n",
      "\n",
      "'ab{3}? (a followed by three b)'\n",
      "  'abbaabbba'\n",
      "  ....'abbb'\n",
      "\n",
      "'ab{2,3}? (a followed by two to three b)'\n",
      "  'abbaabbba'\n",
      "  'abb'\n",
      "  ....'abb'\n",
      "\n"
     ]
    }
   ],
   "source": [
    "# re_repetition_non_greedy.py\n",
    "from re_test_patterns import test_patterns\n",
    "\n",
    "test_patterns(\n",
    "    'abbaabbba',\n",
    "    [('ab*?', 'a followed by zero or more b'),\n",
    "     ('ab+?', 'a followed by one or more b'),\n",
    "     ('ab??', 'a followed by zero or one b'),\n",
    "     ('ab{3}?', 'a followed by three b'),\n",
    "     ('ab{2,3}?', 'a followed by two to three b')],\n",
    ")"
   ]
  },
  {
   "cell_type": "markdown",
   "metadata": {
    "collapsed": true
   },
   "source": [
    "## Character Sets\n",
    "\n",
    "A character set is a group of characters, any one of which can match at that point in the pattern. For example, [ab] would match either a or b.\n",
    "\n",
    "The greedy form of the expression (a[ab]+) consumes the entire string because the first letter is a and every subsequent character is either a or b."
   ]
  },
  {
   "cell_type": "code",
   "execution_count": 8,
   "metadata": {
    "collapsed": false
   },
   "outputs": [
    {
     "name": "stdout",
     "output_type": "stream",
     "text": [
      "'[ab] (either a or b)'\n",
      "  'abbaabbba'\n",
      "  'a'\n",
      "  .'b'\n",
      "  ..'b'\n",
      "  ...'a'\n",
      "  ....'a'\n",
      "  .....'b'\n",
      "  ......'b'\n",
      "  .......'b'\n",
      "  ........'a'\n",
      "\n",
      "'a[ab]+ (a followed by 1 or more a or b)'\n",
      "  'abbaabbba'\n",
      "  'abbaabbba'\n",
      "\n",
      "'a[ab]+? (a followed by 1 or more a or b, not greedy)'\n",
      "  'abbaabbba'\n",
      "  'ab'\n",
      "  ...'aa'\n",
      "\n"
     ]
    }
   ],
   "source": [
    "# re_charset.py\n",
    "from re_test_patterns import test_patterns\n",
    "\n",
    "test_patterns(\n",
    "    'abbaabbba',\n",
    "    [('[ab]', 'either a or b'),\n",
    "     ('a[ab]+', 'a followed by 1 or more a or b'),\n",
    "     ('a[ab]+?', 'a followed by 1 or more a or b, not greedy')],\n",
    ")"
   ]
  },
  {
   "cell_type": "markdown",
   "metadata": {
    "collapsed": true
   },
   "source": [
    "A character set can also be used to exclude specific characters. The carat (^) means to look for characters that are not in the set following the carat.\n",
    "\n",
    "This pattern finds all of the substrings that do not contain the characters -, ., or a space."
   ]
  },
  {
   "cell_type": "code",
   "execution_count": 9,
   "metadata": {
    "collapsed": false
   },
   "outputs": [
    {
     "name": "stdout",
     "output_type": "stream",
     "text": [
      "'[^-. ]+ (sequences without -, ., or space)'\n",
      "  'This is some text -- with punctuation.'\n",
      "  'This'\n",
      "  .....'is'\n",
      "  ........'some'\n",
      "  .............'text'\n",
      "  .....................'with'\n",
      "  ..........................'punctuation'\n",
      "\n"
     ]
    }
   ],
   "source": [
    "# re_charset_exclude.py\n",
    "from re_test_patterns import test_patterns\n",
    "\n",
    "test_patterns(\n",
    "    'This is some text -- with punctuation.',\n",
    "    [('[^-. ]+', 'sequences without -, ., or space')],\n",
    ")"
   ]
  },
  {
   "cell_type": "markdown",
   "metadata": {
    "collapsed": true
   },
   "source": [
    "As character sets grow larger, typing every character that should (or should not) match becomes tedious. A more compact format using character ranges can be used to define a character set to include all of the contiguous characters between the specified start and stop points.\n",
    "\n",
    "Here the range a-z includes the lowercase ASCII letters, and the range A-Z includes the uppercase ASCII letters. The ranges can also be combined into a single character set."
   ]
  },
  {
   "cell_type": "code",
   "execution_count": 10,
   "metadata": {
    "collapsed": false
   },
   "outputs": [
    {
     "name": "stdout",
     "output_type": "stream",
     "text": [
      "'[a-z]+ (sequences of lowercase letters)'\n",
      "  'This is some text -- with punctuation.'\n",
      "  .'his'\n",
      "  .....'is'\n",
      "  ........'some'\n",
      "  .............'text'\n",
      "  .....................'with'\n",
      "  ..........................'punctuation'\n",
      "\n",
      "'[A-Z]+ (sequences of uppercase letters)'\n",
      "  'This is some text -- with punctuation.'\n",
      "  'T'\n",
      "\n",
      "'[a-zA-Z]+ (sequences of letters of either case)'\n",
      "  'This is some text -- with punctuation.'\n",
      "  'This'\n",
      "  .....'is'\n",
      "  ........'some'\n",
      "  .............'text'\n",
      "  .....................'with'\n",
      "  ..........................'punctuation'\n",
      "\n",
      "'[A-Z][a-z]+ (one uppercase followed by lowercase)'\n",
      "  'This is some text -- with punctuation.'\n",
      "  'This'\n",
      "\n"
     ]
    }
   ],
   "source": [
    "# re_charset_ranges.py\n",
    "from re_test_patterns import test_patterns\n",
    "\n",
    "test_patterns(\n",
    "    'This is some text -- with punctuation.',\n",
    "    [('[a-z]+', 'sequences of lowercase letters'),\n",
    "     ('[A-Z]+', 'sequences of uppercase letters'),\n",
    "     ('[a-zA-Z]+', 'sequences of letters of either case'),\n",
    "     ('[A-Z][a-z]+', 'one uppercase followed by lowercase')],\n",
    ")"
   ]
  },
  {
   "cell_type": "markdown",
   "metadata": {
    "collapsed": true
   },
   "source": [
    "As a special case of a character set, the meta-character dot, or period (.), indicates that the pattern should match any single character in that position.\n",
    "\n",
    "Combining the dot with repetition can result in very long matches, unless the non-greedy form is used."
   ]
  },
  {
   "cell_type": "code",
   "execution_count": 11,
   "metadata": {
    "collapsed": false
   },
   "outputs": [
    {
     "name": "stdout",
     "output_type": "stream",
     "text": [
      "'a. (a followed by any one character)'\n",
      "  'abbaabbba'\n",
      "  'ab'\n",
      "  ...'aa'\n",
      "\n",
      "'b. (b followed by any one character)'\n",
      "  'abbaabbba'\n",
      "  .'bb'\n",
      "  .....'bb'\n",
      "  .......'ba'\n",
      "\n",
      "'a.*b (a followed by anything, ending in b)'\n",
      "  'abbaabbba'\n",
      "  'abbaabbb'\n",
      "\n",
      "'a.*?b (a followed by anything, ending in b)'\n",
      "  'abbaabbba'\n",
      "  'ab'\n",
      "  ...'aab'\n",
      "\n"
     ]
    }
   ],
   "source": [
    "# re_charset_dot.py\n",
    "from re_test_patterns import test_patterns\n",
    "\n",
    "test_patterns(\n",
    "    'abbaabbba',\n",
    "    [('a.', 'a followed by any one character'),\n",
    "     ('b.', 'b followed by any one character'),\n",
    "     ('a.*b', 'a followed by anything, ending in b'),\n",
    "     ('a.*?b', 'a followed by anything, ending in b')],\n",
    ")\n"
   ]
  },
  {
   "cell_type": "markdown",
   "metadata": {
    "collapsed": true
   },
   "source": [
    "## Escape Codes\n",
    "\n",
    "An even more compact representation uses escape codes for several predefined character sets. The escape codes recognized by re are listed in the table below.\n",
    "\n",
    "\n",
    "| Code | Meaning                                |\n",
    "|------|----------------------------------------|\n",
    "| \\d   | a digit                                |\n",
    "| \\D   | a non-digit                            |\n",
    "| \\s   | whitespace (tab, space, newline, etc.) |\n",
    "| \\S   | non-whitespace                         |\n",
    "| \\w   | alphanumeric                           |\n",
    "| \\W   | non-alphanumeric                       |"
   ]
  },
  {
   "cell_type": "markdown",
   "metadata": {
    "collapsed": true
   },
   "source": [
    "#### Note\n",
    "Escapes are indicated by prefixing the character with a backslash (\\\\). Unfortunately, a backslash must itself be escaped in normal Python strings, and that results in difficult-to-read expressions. Using raw strings, which are created by prefixing the literal value with r, eliminates this problem and maintains readability.\n",
    "\n",
    "These sample expressions combine escape codes with repetition to find sequences of like characters in the input string."
   ]
  },
  {
   "cell_type": "code",
   "execution_count": 12,
   "metadata": {
    "collapsed": false
   },
   "outputs": [
    {
     "name": "stdout",
     "output_type": "stream",
     "text": [
      "'\\d+ (sequence of digits)'\n",
      "  'A prime #1 example!'\n",
      "  .........'1'\n",
      "\n",
      "'\\D+ (sequence of non-digits)'\n",
      "  'A prime #1 example!'\n",
      "  'A prime #'\n",
      "  ..........' example!'\n",
      "\n",
      "'\\s+ (sequence of whitespace)'\n",
      "  'A prime #1 example!'\n",
      "  .' '\n",
      "  .......' '\n",
      "  ..........' '\n",
      "\n",
      "'\\S+ (sequence of non-whitespace)'\n",
      "  'A prime #1 example!'\n",
      "  'A'\n",
      "  ..'prime'\n",
      "  ........'#1'\n",
      "  ...........'example!'\n",
      "\n",
      "'\\w+ (alphanumeric characters)'\n",
      "  'A prime #1 example!'\n",
      "  'A'\n",
      "  ..'prime'\n",
      "  .........'1'\n",
      "  ...........'example'\n",
      "\n",
      "'\\W+ (non-alphanumeric)'\n",
      "  'A prime #1 example!'\n",
      "  .' '\n",
      "  .......' #'\n",
      "  ..........' '\n",
      "  ..................'!'\n",
      "\n"
     ]
    }
   ],
   "source": [
    "# re_escape_codes.py\n",
    "from re_test_patterns import test_patterns\n",
    "\n",
    "test_patterns(\n",
    "    'A prime #1 example!',\n",
    "    [(r'\\d+', 'sequence of digits'),\n",
    "     (r'\\D+', 'sequence of non-digits'),\n",
    "     (r'\\s+', 'sequence of whitespace'),\n",
    "     (r'\\S+', 'sequence of non-whitespace'),\n",
    "     (r'\\w+', 'alphanumeric characters'),\n",
    "     (r'\\W+', 'non-alphanumeric')],\n",
    ")"
   ]
  },
  {
   "cell_type": "markdown",
   "metadata": {
    "collapsed": true
   },
   "source": [
    "To match the characters that are part of the regular expression syntax, escape the characters in the search pattern.\n",
    "\n",
    "The pattern in this example escapes the backslash and plus characters, since both are meta-characters and have special meaning in a regular expression."
   ]
  },
  {
   "cell_type": "code",
   "execution_count": 13,
   "metadata": {
    "collapsed": false
   },
   "outputs": [
    {
     "name": "stdout",
     "output_type": "stream",
     "text": [
      "'\\\\.\\+ (escape code)'\n",
      "  '\\d+ \\D+ \\s+'\n",
      "  '\\d+'\n",
      "  .....'\\D+'\n",
      "  ..........'\\s+'\n",
      "\n"
     ]
    }
   ],
   "source": [
    "# re_escape_escapes.py\n",
    "from re_test_patterns import test_patterns\n",
    "\n",
    "test_patterns(\n",
    "    r'\\d+ \\D+ \\s+',\n",
    "    [(r'\\\\.\\+', 'escape code')],\n",
    ")"
   ]
  },
  {
   "cell_type": "markdown",
   "metadata": {
    "collapsed": true
   },
   "source": [
    "## Anchoring\n",
    "\n",
    "In addition to describing the content of a pattern to match, the relative location can be specified in the input text where the pattern should appear by using anchoring instructions. the table below lists valid anchoring codes.\n",
    "\n",
    "| Code | Meaning                                            |\n",
    "|------|----------------------------------------------------|\n",
    "| ^    | start of string, or line                           |\n",
    "| $    | end of string, or line                             |\n",
    "| \\A   | start of string                                    |\n",
    "| \\Z   | end of string                                      |\n",
    "| \\b   | empty string at the beginning or end of a word     |\n",
    "| \\B   | empty string not at the beginning or end of a word |\n",
    "\n",
    "The patterns in the example for matching words at the beginning and the end of the string are different because the word at the end of the string is followed by punctuation to terminate the sentence. The pattern \\w+$ would not match, since . is not considered an alphanumeric character.\n",
    "\n"
   ]
  },
  {
   "cell_type": "code",
   "execution_count": 14,
   "metadata": {
    "collapsed": false
   },
   "outputs": [
    {
     "name": "stdout",
     "output_type": "stream",
     "text": [
      "'^\\w+ (word at start of string)'\n",
      "  'This is some text -- with punctuation.'\n",
      "  'This'\n",
      "\n",
      "'\\A\\w+ (word at start of string)'\n",
      "  'This is some text -- with punctuation.'\n",
      "  'This'\n",
      "\n",
      "'\\w+\\S*$ (word near end of string)'\n",
      "  'This is some text -- with punctuation.'\n",
      "  ..........................'punctuation.'\n",
      "\n",
      "'\\w+\\S*\\Z (word near end of string)'\n",
      "  'This is some text -- with punctuation.'\n",
      "  ..........................'punctuation.'\n",
      "\n",
      "'\\w*t\\w* (word containing t)'\n",
      "  'This is some text -- with punctuation.'\n",
      "  .............'text'\n",
      "  .....................'with'\n",
      "  ..........................'punctuation'\n",
      "\n",
      "'\\bt\\w+ (t at start of word)'\n",
      "  'This is some text -- with punctuation.'\n",
      "  .............'text'\n",
      "\n",
      "'\\w+t\\b (t at end of word)'\n",
      "  'This is some text -- with punctuation.'\n",
      "  .............'text'\n",
      "\n",
      "'\\Bt\\B (t, not start or end of word)'\n",
      "  'This is some text -- with punctuation.'\n",
      "  .......................'t'\n",
      "  ..............................'t'\n",
      "  .................................'t'\n",
      "\n"
     ]
    }
   ],
   "source": [
    "# re_anchoring.py\n",
    "from re_test_patterns import test_patterns\n",
    "\n",
    "test_patterns(\n",
    "    'This is some text -- with punctuation.',\n",
    "    [(r'^\\w+', 'word at start of string'),\n",
    "     (r'\\A\\w+', 'word at start of string'),\n",
    "     (r'\\w+\\S*$', 'word near end of string'),\n",
    "     (r'\\w+\\S*\\Z', 'word near end of string'),\n",
    "     (r'\\w*t\\w*', 'word containing t'),\n",
    "     (r'\\bt\\w+', 't at start of word'),\n",
    "     (r'\\w+t\\b', 't at end of word'),\n",
    "     (r'\\Bt\\B', 't, not start or end of word')],\n",
    ")"
   ]
  },
  {
   "cell_type": "code",
   "execution_count": null,
   "metadata": {
    "collapsed": true
   },
   "outputs": [],
   "source": []
  },
  {
   "cell_type": "code",
   "execution_count": null,
   "metadata": {
    "collapsed": true
   },
   "outputs": [],
   "source": []
  },
  {
   "cell_type": "code",
   "execution_count": null,
   "metadata": {
    "collapsed": true
   },
   "outputs": [],
   "source": []
  },
  {
   "cell_type": "code",
   "execution_count": null,
   "metadata": {
    "collapsed": true
   },
   "outputs": [],
   "source": []
  },
  {
   "cell_type": "code",
   "execution_count": null,
   "metadata": {
    "collapsed": true
   },
   "outputs": [],
   "source": []
  },
  {
   "cell_type": "code",
   "execution_count": null,
   "metadata": {
    "collapsed": true
   },
   "outputs": [],
   "source": []
  },
  {
   "cell_type": "code",
   "execution_count": null,
   "metadata": {
    "collapsed": true
   },
   "outputs": [],
   "source": []
  },
  {
   "cell_type": "code",
   "execution_count": null,
   "metadata": {
    "collapsed": true
   },
   "outputs": [],
   "source": []
  },
  {
   "cell_type": "code",
   "execution_count": null,
   "metadata": {
    "collapsed": true
   },
   "outputs": [],
   "source": []
  },
  {
   "cell_type": "code",
   "execution_count": null,
   "metadata": {
    "collapsed": true
   },
   "outputs": [],
   "source": []
  },
  {
   "cell_type": "code",
   "execution_count": null,
   "metadata": {
    "collapsed": true
   },
   "outputs": [],
   "source": []
  },
  {
   "cell_type": "code",
   "execution_count": null,
   "metadata": {
    "collapsed": true
   },
   "outputs": [],
   "source": []
  },
  {
   "cell_type": "code",
   "execution_count": null,
   "metadata": {
    "collapsed": true
   },
   "outputs": [],
   "source": []
  },
  {
   "cell_type": "code",
   "execution_count": null,
   "metadata": {
    "collapsed": true
   },
   "outputs": [],
   "source": []
  },
  {
   "cell_type": "code",
   "execution_count": null,
   "metadata": {
    "collapsed": true
   },
   "outputs": [],
   "source": []
  },
  {
   "cell_type": "code",
   "execution_count": null,
   "metadata": {
    "collapsed": true
   },
   "outputs": [],
   "source": []
  },
  {
   "cell_type": "code",
   "execution_count": null,
   "metadata": {
    "collapsed": true
   },
   "outputs": [],
   "source": []
  },
  {
   "cell_type": "code",
   "execution_count": null,
   "metadata": {
    "collapsed": true
   },
   "outputs": [],
   "source": []
  },
  {
   "cell_type": "code",
   "execution_count": null,
   "metadata": {
    "collapsed": true
   },
   "outputs": [],
   "source": []
  },
  {
   "cell_type": "code",
   "execution_count": null,
   "metadata": {
    "collapsed": true
   },
   "outputs": [],
   "source": []
  },
  {
   "cell_type": "code",
   "execution_count": null,
   "metadata": {
    "collapsed": true
   },
   "outputs": [],
   "source": []
  },
  {
   "cell_type": "code",
   "execution_count": null,
   "metadata": {
    "collapsed": true
   },
   "outputs": [],
   "source": []
  },
  {
   "cell_type": "code",
   "execution_count": null,
   "metadata": {
    "collapsed": true
   },
   "outputs": [],
   "source": []
  },
  {
   "cell_type": "code",
   "execution_count": null,
   "metadata": {
    "collapsed": true
   },
   "outputs": [],
   "source": []
  },
  {
   "cell_type": "code",
   "execution_count": null,
   "metadata": {
    "collapsed": true
   },
   "outputs": [],
   "source": []
  },
  {
   "cell_type": "code",
   "execution_count": null,
   "metadata": {
    "collapsed": true
   },
   "outputs": [],
   "source": []
  },
  {
   "cell_type": "code",
   "execution_count": null,
   "metadata": {
    "collapsed": true
   },
   "outputs": [],
   "source": []
  },
  {
   "cell_type": "code",
   "execution_count": null,
   "metadata": {
    "collapsed": true
   },
   "outputs": [],
   "source": []
  },
  {
   "cell_type": "code",
   "execution_count": null,
   "metadata": {
    "collapsed": true
   },
   "outputs": [],
   "source": []
  },
  {
   "cell_type": "code",
   "execution_count": null,
   "metadata": {
    "collapsed": true
   },
   "outputs": [],
   "source": []
  },
  {
   "cell_type": "code",
   "execution_count": null,
   "metadata": {
    "collapsed": true
   },
   "outputs": [],
   "source": []
  },
  {
   "cell_type": "code",
   "execution_count": null,
   "metadata": {
    "collapsed": true
   },
   "outputs": [],
   "source": []
  },
  {
   "cell_type": "code",
   "execution_count": null,
   "metadata": {
    "collapsed": true
   },
   "outputs": [],
   "source": []
  },
  {
   "cell_type": "code",
   "execution_count": null,
   "metadata": {
    "collapsed": true
   },
   "outputs": [],
   "source": []
  },
  {
   "cell_type": "code",
   "execution_count": null,
   "metadata": {
    "collapsed": true
   },
   "outputs": [],
   "source": []
  },
  {
   "cell_type": "code",
   "execution_count": null,
   "metadata": {
    "collapsed": true
   },
   "outputs": [],
   "source": []
  },
  {
   "cell_type": "code",
   "execution_count": null,
   "metadata": {
    "collapsed": true
   },
   "outputs": [],
   "source": []
  },
  {
   "cell_type": "code",
   "execution_count": null,
   "metadata": {
    "collapsed": true
   },
   "outputs": [],
   "source": []
  },
  {
   "cell_type": "code",
   "execution_count": null,
   "metadata": {
    "collapsed": true
   },
   "outputs": [],
   "source": []
  },
  {
   "cell_type": "code",
   "execution_count": null,
   "metadata": {
    "collapsed": true
   },
   "outputs": [],
   "source": []
  },
  {
   "cell_type": "code",
   "execution_count": null,
   "metadata": {
    "collapsed": true
   },
   "outputs": [],
   "source": []
  },
  {
   "cell_type": "code",
   "execution_count": null,
   "metadata": {
    "collapsed": true
   },
   "outputs": [],
   "source": []
  },
  {
   "cell_type": "code",
   "execution_count": null,
   "metadata": {
    "collapsed": true
   },
   "outputs": [],
   "source": []
  },
  {
   "cell_type": "code",
   "execution_count": null,
   "metadata": {
    "collapsed": true
   },
   "outputs": [],
   "source": []
  },
  {
   "cell_type": "code",
   "execution_count": null,
   "metadata": {
    "collapsed": true
   },
   "outputs": [],
   "source": []
  },
  {
   "cell_type": "code",
   "execution_count": null,
   "metadata": {
    "collapsed": true
   },
   "outputs": [],
   "source": []
  },
  {
   "cell_type": "code",
   "execution_count": null,
   "metadata": {
    "collapsed": true
   },
   "outputs": [],
   "source": []
  },
  {
   "cell_type": "code",
   "execution_count": null,
   "metadata": {
    "collapsed": true
   },
   "outputs": [],
   "source": []
  },
  {
   "cell_type": "code",
   "execution_count": null,
   "metadata": {
    "collapsed": true
   },
   "outputs": [],
   "source": []
  },
  {
   "cell_type": "code",
   "execution_count": null,
   "metadata": {
    "collapsed": true
   },
   "outputs": [],
   "source": []
  },
  {
   "cell_type": "code",
   "execution_count": null,
   "metadata": {
    "collapsed": true
   },
   "outputs": [],
   "source": []
  },
  {
   "cell_type": "code",
   "execution_count": null,
   "metadata": {
    "collapsed": true
   },
   "outputs": [],
   "source": []
  }
 ],
 "metadata": {
  "kernelspec": {
   "display_name": "Python 3",
   "language": "python",
   "name": "python3"
  },
  "language_info": {
   "codemirror_mode": {
    "name": "ipython",
    "version": 3
   },
   "file_extension": ".py",
   "mimetype": "text/x-python",
   "name": "python",
   "nbconvert_exporter": "python",
   "pygments_lexer": "ipython3",
   "version": "3.5.2"
  }
 },
 "nbformat": 4,
 "nbformat_minor": 2
}
