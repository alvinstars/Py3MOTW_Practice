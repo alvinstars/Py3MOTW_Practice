{
 "cells": [
  {
   "cell_type": "markdown",
   "metadata": {},
   "source": [
    "# textwrap - Formatting Text Paragraphs\n",
    "\n",
    "Purpose:\tFormatting text by adjusting where line breaks occur in a paragraph.\n",
    "\n",
    "The textwrap module can be used to format text for output in situations where pretty-printing is desired. It offers programmatic functionality similar to the paragraph wrapping or filling features found in many text editors and word processors."
   ]
  },
  {
   "cell_type": "markdown",
   "metadata": {},
   "source": [
    "## Example Data\n",
    "\n",
    "The examples in this section use the module textwrap_example.py, which contains a string sample_text."
   ]
  },
  {
   "cell_type": "code",
   "execution_count": 1,
   "metadata": {
    "collapsed": true
   },
   "outputs": [],
   "source": [
    "# textwrap_example.py\n",
    "sample_text = '''\n",
    "    The textwrap module can be used to format text for output in\n",
    "    situations where pretty-printing is desired.  It offers\n",
    "    programmatic functionality similar to the paragraph wrapping\n",
    "    or filling features found in many text editors.\n",
    "    '''"
   ]
  },
  {
   "cell_type": "markdown",
   "metadata": {},
   "source": [
    "## Filling Paragraphs\n",
    "\n",
    "The fill() function takes text as input and produces formatted text as output.\n",
    "\n",
    "The results are something less than desirable. The text is now left justified, but the first line retains its indent and the spaces from the front of each subsequent line are embedded in the paragraph."
   ]
  },
  {
   "cell_type": "code",
   "execution_count": 2,
   "metadata": {
    "collapsed": false
   },
   "outputs": [
    {
     "name": "stdout",
     "output_type": "stream",
     "text": [
      "     The textwrap module can be used to format\n",
      "text for output in     situations where pretty-\n",
      "printing is desired.  It offers     programmatic\n",
      "functionality similar to the paragraph wrapping\n",
      "or filling features found in many text editors.\n"
     ]
    }
   ],
   "source": [
    "# textwrap_fill.py\n",
    "import textwrap\n",
    "# from textwrap_example import sample_text\n",
    "\n",
    "print(textwrap.fill(sample_text, width=50))"
   ]
  },
  {
   "cell_type": "markdown",
   "metadata": {},
   "source": [
    "## Removing Existing Indentation\n",
    "\n",
    "The previous example has embedded tabs and extra spaces mixed into the middle of the output, so it is not formatted very cleanly. Removing the common whitespace prefix from all of the lines in the sample text with dedent() produces better results and allows the use of docstrings or embedded multiline strings straight from Python code while removing the formatting of the code itself. The sample string has an artificial indent level introduced for illustrating this feature."
   ]
  },
  {
   "cell_type": "code",
   "execution_count": 3,
   "metadata": {
    "collapsed": false
   },
   "outputs": [
    {
     "name": "stdout",
     "output_type": "stream",
     "text": [
      "Dedented:\n",
      "\n",
      "The textwrap module can be used to format text for output in\n",
      "situations where pretty-printing is desired.  It offers\n",
      "programmatic functionality similar to the paragraph wrapping\n",
      "or filling features found in many text editors.\n",
      "\n"
     ]
    }
   ],
   "source": [
    "# textwrap_dedent.py\n",
    "import textwrap\n",
    "# from textwrap_example import sample_text\n",
    "\n",
    "dedented_text = textwrap.dedent(sample_text)\n",
    "print('Dedented:')\n",
    "print(dedented_text)"
   ]
  },
  {
   "cell_type": "markdown",
   "metadata": {},
   "source": [
    "Since “dedent” is the opposite of “indent,” the result is a block of text with the common initial whitespace from each line removed. If one line is already indented more than another, some of the whitespace will not be removed."
   ]
  },
  {
   "cell_type": "markdown",
   "metadata": {},
   "source": [
    "## Combining Dedent and Fill\n",
    "\n",
    "Next, the dedented text can be passed through fill() with a few different width values.\n",
    "\n",
    "This produces outputs in the specified widths."
   ]
  },
  {
   "cell_type": "code",
   "execution_count": 4,
   "metadata": {
    "collapsed": false
   },
   "outputs": [
    {
     "name": "stdout",
     "output_type": "stream",
     "text": [
      "45 Columns:\n",
      "\n",
      "The textwrap module can be used to format\n",
      "text for output in situations where pretty-\n",
      "printing is desired.  It offers programmatic\n",
      "functionality similar to the paragraph\n",
      "wrapping or filling features found in many\n",
      "text editors.\n",
      "\n",
      "60 Columns:\n",
      "\n",
      "The textwrap module can be used to format text for output in\n",
      "situations where pretty-printing is desired.  It offers\n",
      "programmatic functionality similar to the paragraph wrapping\n",
      "or filling features found in many text editors.\n",
      "\n"
     ]
    }
   ],
   "source": [
    "# textwrap_fill_width.py\n",
    "import textwrap\n",
    "# from textwrap_example import sample_text\n",
    "\n",
    "dedented_text = textwrap.dedent(sample_text).strip()\n",
    "for width in [45, 60]:\n",
    "    print('{} Columns:\\n'.format(width))\n",
    "    print(textwrap.fill(dedented_text, width=width))\n",
    "    print()"
   ]
  },
  {
   "cell_type": "markdown",
   "metadata": {},
   "source": [
    "## Indenting Blocks\n",
    "\n",
    "Use the indent() function to add consistent prefix text to all of the lines in a string. This example formats the same example text as though it was part of an email message being quoted in the reply, using > as the prefix for each line.\n",
    "\n",
    "The block of text is split on newlines, the prefix is added to each line that contains text, and then the lines are combined back into a new string and returned."
   ]
  },
  {
   "cell_type": "code",
   "execution_count": 5,
   "metadata": {
    "collapsed": false
   },
   "outputs": [
    {
     "name": "stdout",
     "output_type": "stream",
     "text": [
      "Quoted block:\n",
      "\n",
      ">  The textwrap module can be used to format text\n",
      "> for output in situations where pretty-printing is\n",
      "> desired.  It offers programmatic functionality\n",
      "> similar to the paragraph wrapping or filling\n",
      "> features found in many text editors.\n",
      "\n",
      "> Second paragraph after a blank line.\n"
     ]
    }
   ],
   "source": [
    "# textwrap_indent.py\n",
    "import textwrap\n",
    "# from textwrap_example import sample_text\n",
    "\n",
    "dedented_text = textwrap.dedent(sample_text)\n",
    "wrapped = textwrap.fill(dedented_text, width=50)\n",
    "wrapped += '\\n\\nSecond paragraph after a blank line.'\n",
    "final = textwrap.indent(wrapped, '> ')\n",
    "\n",
    "print('Quoted block:\\n')\n",
    "print(final)"
   ]
  },
  {
   "cell_type": "markdown",
   "metadata": {},
   "source": [
    "To control which lines receive the new prefix, pass a callable as the predicate argument to indent(). The callable will be invoked for each line of text in turn and the prefix will be added for lines where the return value is true.\n",
    "\n",
    "This example adds the prefix EVEN to lines that contain an even number of characters."
   ]
  },
  {
   "cell_type": "code",
   "execution_count": 6,
   "metadata": {
    "collapsed": false
   },
   "outputs": [
    {
     "name": "stdout",
     "output_type": "stream",
     "text": [
      "Indent ' The textwrap module can be used to format text\\n'?\n",
      "Indent 'for output in situations where pretty-printing is\\n'?\n",
      "Indent 'desired.  It offers programmatic functionality\\n'?\n",
      "Indent 'similar to the paragraph wrapping or filling\\n'?\n",
      "Indent 'features found in many text editors.'?\n",
      "\n",
      "Quoted block:\n",
      "\n",
      "EVEN  The textwrap module can be used to format text\n",
      "for output in situations where pretty-printing is\n",
      "EVEN desired.  It offers programmatic functionality\n",
      "EVEN similar to the paragraph wrapping or filling\n",
      "EVEN features found in many text editors.\n"
     ]
    }
   ],
   "source": [
    "# textwrap_indent_predicate.py\n",
    "import textwrap\n",
    "# from textwrap_example import sample_text\n",
    "\n",
    "\n",
    "def should_indent(line):\n",
    "    print('Indent {!r}?'.format(line))\n",
    "    return len(line.strip()) % 2 == 0\n",
    "\n",
    "\n",
    "dedented_text = textwrap.dedent(sample_text)\n",
    "wrapped = textwrap.fill(dedented_text, width=50)\n",
    "final = textwrap.indent(wrapped, 'EVEN ',\n",
    "                        predicate=should_indent)\n",
    "\n",
    "print('\\nQuoted block:\\n')\n",
    "print(final)"
   ]
  },
  {
   "cell_type": "markdown",
   "metadata": {},
   "source": [
    "## Hanging Indents\n",
    "\n",
    "In the same way that it is possible to set the width of the output, the indent of the first line can be controlled independently of subsequent lines.\n",
    "\n",
    "This makes it possible to produce a hanging indent, where the first line is indented less than the other lines."
   ]
  },
  {
   "cell_type": "code",
   "execution_count": 7,
   "metadata": {
    "collapsed": false
   },
   "outputs": [
    {
     "name": "stdout",
     "output_type": "stream",
     "text": [
      "The textwrap module can be used to format text for\n",
      "    output in situations where pretty-printing is\n",
      "    desired.  It offers programmatic functionality\n",
      "    similar to the paragraph wrapping or filling\n",
      "    features found in many text editors.\n"
     ]
    }
   ],
   "source": [
    "# textwrap_hanging_indent.py\n",
    "import textwrap\n",
    "# from textwrap_example import sample_text\n",
    "\n",
    "dedented_text = textwrap.dedent(sample_text).strip()\n",
    "print(textwrap.fill(dedented_text,\n",
    "                    initial_indent='',\n",
    "                    subsequent_indent=' ' * 4,\n",
    "                    width=50,\n",
    "                    ))"
   ]
  },
  {
   "cell_type": "markdown",
   "metadata": {},
   "source": [
    "## Truncating Long Text\n",
    "\n",
    "To truncate text to create a summary or preview, use shorten(). All existing whitespace, such as tabs, newlines, and series of multiple spaces, will be standardized to a single space. Then the text will be truncated to a length less than or equal to what is requested, between word boundaries so that no partial words are included.\n",
    "\n",
    "If non-whitespace text is removed from the original text as part of the truncation, it is replaced with a placeholder value. The default value [...] can be replaced by providing a placeholder argument to shorten()."
   ]
  },
  {
   "cell_type": "code",
   "execution_count": 8,
   "metadata": {
    "collapsed": false
   },
   "outputs": [
    {
     "name": "stdout",
     "output_type": "stream",
     "text": [
      "Original:\n",
      "\n",
      " The textwrap module can be used to format text\n",
      "for output in situations where pretty-printing is\n",
      "desired.  It offers programmatic functionality\n",
      "similar to the paragraph wrapping or filling\n",
      "features found in many text editors.\n",
      "\n",
      "Shortened:\n",
      "\n",
      "The textwrap module can be used to format text for\n",
      "output in situations where pretty-printing [...]\n"
     ]
    }
   ],
   "source": [
    "# textwrap_shorten.py\n",
    "import textwrap\n",
    "# from textwrap_example import sample_text\n",
    "\n",
    "print('Original:\\n')\n",
    "\n",
    "dedented_text = textwrap.dedent(sample_text)\n",
    "original = textwrap.fill(dedented_text, width=50)\n",
    "\n",
    "print(original)\n",
    "\n",
    "############3\n",
    "\n",
    "print('\\nShortened:\\n')\n",
    "\n",
    "shortened = textwrap.shorten(original, 100)\n",
    "shortened_wrapped = textwrap.fill(shortened, width=50)\n",
    "\n",
    "print(shortened_wrapped)"
   ]
  }
 ],
 "metadata": {
  "kernelspec": {
   "display_name": "Python 3",
   "language": "python",
   "name": "python3"
  },
  "language_info": {
   "codemirror_mode": {
    "name": "ipython",
    "version": 3
   },
   "file_extension": ".py",
   "mimetype": "text/x-python",
   "name": "python",
   "nbconvert_exporter": "python",
   "pygments_lexer": "ipython3",
   "version": "3.5.2"
  }
 },
 "nbformat": 4,
 "nbformat_minor": 2
}
