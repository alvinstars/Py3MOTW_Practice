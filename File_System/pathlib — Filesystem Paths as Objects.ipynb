{
 "cells": [
  {
   "cell_type": "markdown",
   "metadata": {},
   "source": [
    "# pathlib — Filesystem Paths as Objects\n",
    "\n",
    "Purpose:\tParse, build, test, and otherwise work on filenames and paths using an object-oriented API instead of low-level string operations."
   ]
  },
  {
   "cell_type": "markdown",
   "metadata": {},
   "source": [
    "## Path Representations\n",
    "\n",
    "pathlib includes classes for managing filesystem paths formatted using either the POSIX standard or Microsoft Windows syntax. It includes so called “pure” classes, which operate on strings but do not interact with an actual filesystem, and “concrete” classes, which extend the API to include operations that reflect or modify data on the local filesystem.\n",
    "\n",
    "The pure classes PurePosixPath and PureWindowsPath can be instantiated and used on any operating system, since they only work on names. To instantiate the correct class for working with a real filesystem, use Path to get either a PosixPath or WindowsPath, depending on the platform."
   ]
  },
  {
   "cell_type": "markdown",
   "metadata": {},
   "source": [
    "## Building Paths\n",
    "\n",
    "To instantiate a new path, give a string as the first argument. The string representation of the path object is this name value. To create a new path referring to a value relative to an existing path, use the / operator to extend the path. The argument to the operator can either be a string or another path object.\n",
    "\n",
    "As the value for root in the example output shows, the operator combines the path values as they are given, and does not normalize the result when it contains the parent directory reference \"..\". However, if a segment begins with the path separator it is interpreted as a new “root” reference in the same way as os.path.join(). Extra path separators are removed from the middle of the path value, as in the etc example here."
   ]
  },
  {
   "cell_type": "code",
   "execution_count": 1,
   "metadata": {
    "collapsed": false
   },
   "outputs": [
    {
     "name": "stdout",
     "output_type": "stream",
     "text": [
      "/usr\n",
      "/usr/local\n",
      "/usr/share\n",
      "/usr/..\n",
      "/etc\n"
     ]
    }
   ],
   "source": [
    "# pathlib_operator.py\n",
    "import pathlib\n",
    "\n",
    "usr = pathlib.PurePosixPath('/usr')\n",
    "print(usr)\n",
    "\n",
    "usr_local = usr / 'local'\n",
    "print(usr_local)\n",
    "\n",
    "usr_share = usr / pathlib.PurePosixPath('share')\n",
    "print(usr_share)\n",
    "\n",
    "root = usr / '..'\n",
    "print(root)\n",
    "\n",
    "etc = root / '/etc/'\n",
    "print(etc)"
   ]
  },
  {
   "cell_type": "markdown",
   "metadata": {},
   "source": [
    "The concrete path classes include a resolve() method for normalizing a path by looking at the filesystem for directories and symbolic links and producing the absolute path referred to by a name.\n",
    "\n",
    "Here the relative path is converted to the absolute path to /usr/share. If the input path includes symlinks, those are expanded as well to allow the resolved path to refer directly to the target."
   ]
  },
  {
   "cell_type": "code",
   "execution_count": 2,
   "metadata": {
    "collapsed": false
   },
   "outputs": [
    {
     "name": "stdout",
     "output_type": "stream",
     "text": [
      "/usr/share\n"
     ]
    }
   ],
   "source": [
    "# pathlib_resolve.py\n",
    "import pathlib\n",
    "\n",
    "usr_local = pathlib.Path('/usr/local')\n",
    "share = usr_local / '..' / 'share'\n",
    "print(share.resolve())"
   ]
  },
  {
   "cell_type": "markdown",
   "metadata": {},
   "source": [
    "To build paths when the segments are not known in advance, use joinpath(), passing each path segment as a separate argument.\n",
    "\n",
    "As with the / operator, calling joinpath() creates a new instance."
   ]
  },
  {
   "cell_type": "code",
   "execution_count": 3,
   "metadata": {
    "collapsed": false
   },
   "outputs": [
    {
     "name": "stdout",
     "output_type": "stream",
     "text": [
      "/usr/local\n"
     ]
    }
   ],
   "source": [
    "# pathlib_joinpath.py\n",
    "import pathlib\n",
    "\n",
    "root = pathlib.PurePosixPath('/')\n",
    "subdirs = ['usr', 'local']\n",
    "usr_local = root.joinpath(*subdirs)\n",
    "print(usr_local)"
   ]
  },
  {
   "cell_type": "markdown",
   "metadata": {},
   "source": [
    "Given an existing path object, it is easy to build a new one with minor differences such as referring to a different file in the same directory. Use with_name() to create a new path that replaces the name portion of a path with a different file name. Use with_suffix() to create a new path that replaces the file name’s extension with a different value.\n",
    "\n",
    "Both methods return new objects, and the original is left unchanged."
   ]
  },
  {
   "cell_type": "code",
   "execution_count": 4,
   "metadata": {
    "collapsed": false
   },
   "outputs": [
    {
     "name": "stdout",
     "output_type": "stream",
     "text": [
      "source/pathlib/index.rst\n",
      "source/pathlib/pathlib_from_existing.py\n",
      "source/pathlib/pathlib_from_existing.pyc\n"
     ]
    }
   ],
   "source": [
    "# pathlib_from_existing.py\n",
    "import pathlib\n",
    "\n",
    "ind = pathlib.PurePosixPath('source/pathlib/index.rst')\n",
    "print(ind)\n",
    "\n",
    "py = ind.with_name('pathlib_from_existing.py')\n",
    "print(py)\n",
    "\n",
    "pyc = py.with_suffix('.pyc')\n",
    "print(pyc)"
   ]
  },
  {
   "cell_type": "markdown",
   "metadata": {},
   "source": [
    "## Parsing Paths\n",
    "\n",
    "Path objects have methods and properties for extracting partial values from the name. For example, the parts property produces a sequence of path segments parsed based on the path separator value.\n",
    "\n",
    "The sequence is a tuple, reflecting the immutability of the path instance."
   ]
  },
  {
   "cell_type": "code",
   "execution_count": 5,
   "metadata": {
    "collapsed": false
   },
   "outputs": [
    {
     "name": "stdout",
     "output_type": "stream",
     "text": [
      "('/', 'usr', 'local')\n"
     ]
    }
   ],
   "source": [
    "# pathlib_parts.py\n",
    "import pathlib\n",
    "\n",
    "p = pathlib.PurePosixPath('/usr/local')\n",
    "print(p.parts)"
   ]
  },
  {
   "cell_type": "markdown",
   "metadata": {},
   "source": [
    "There are two ways to navigate “up” the filesystem hierarchy from a given path object. The parent property refers to a new path instance for the directory containing the path, the value returned by os.path.dirname(). The parents property is an iterable that produces parent directory references, continually going “up” the path hierarchy until reaching the root.\n",
    "\n",
    "The example iterates over the parents property and prints the member values."
   ]
  },
  {
   "cell_type": "code",
   "execution_count": 6,
   "metadata": {
    "collapsed": false
   },
   "outputs": [
    {
     "name": "stdout",
     "output_type": "stream",
     "text": [
      "parent: /usr/local\n",
      "\n",
      "hierarchy:\n",
      "/usr/local\n",
      "/usr\n",
      "/\n"
     ]
    }
   ],
   "source": [
    "# pathlib_parents.py\n",
    "import pathlib\n",
    "\n",
    "p = pathlib.PurePosixPath('/usr/local/lib')\n",
    "\n",
    "print('parent: {}'.format(p.parent))\n",
    "\n",
    "print('\\nhierarchy:')\n",
    "for up in p.parents:\n",
    "    print(up)"
   ]
  },
  {
   "cell_type": "markdown",
   "metadata": {},
   "source": [
    "Other parts of the path can be accessed through properties of the path object. The name property holds the last part of the path, after the final path separator (the same value that os.path.basename() produces). The suffix property holds the value after the extension separator and the stem property holds the portion of the name before the suffix.\n",
    "\n",
    "Although the suffix and stem values are similar to the values produced by os.path.splitext(), the values are based only on the value of name and not the full path."
   ]
  },
  {
   "cell_type": "code",
   "execution_count": 7,
   "metadata": {
    "collapsed": false
   },
   "outputs": [
    {
     "name": "stdout",
     "output_type": "stream",
     "text": [
      "path  : source/pathlib/pathlib_name.py\n",
      "name  : pathlib_name.py\n",
      "suffix: .py\n",
      "stem  : pathlib_name\n"
     ]
    }
   ],
   "source": [
    "# pathlib_name.py\n",
    "import pathlib\n",
    "\n",
    "p = pathlib.PurePosixPath('./source/pathlib/pathlib_name.py')\n",
    "print('path  : {}'.format(p))\n",
    "print('name  : {}'.format(p.name))\n",
    "print('suffix: {}'.format(p.suffix))\n",
    "print('stem  : {}'.format(p.stem))"
   ]
  },
  {
   "cell_type": "markdown",
   "metadata": {},
   "source": [
    "## Creating Concrete Paths\n",
    "\n",
    "Instances of the concrete Path class can be created from string arguments referring to the name (or potential name) of a file, directory, or symbolic link on the file system. The class also provides several convenience methods for building instances using commonly used locations that change, such as the current working directory and the user’s home directory.\n",
    "\n",
    "Both methods create Path instances pre-populated with an absolute file system reference."
   ]
  },
  {
   "cell_type": "code",
   "execution_count": 8,
   "metadata": {
    "collapsed": false
   },
   "outputs": [
    {
     "name": "stdout",
     "output_type": "stream",
     "text": [
      "home:  /Users/binyang\n",
      "cwd :  /Users/binyang/GitHub/Py3MOTW/File_System\n"
     ]
    }
   ],
   "source": [
    "# pathlib_convenience.py\n",
    "import pathlib\n",
    "\n",
    "home = pathlib.Path.home()\n",
    "print('home: ', home)\n",
    "\n",
    "cwd = pathlib.Path.cwd()\n",
    "print('cwd : ', cwd)"
   ]
  },
  {
   "cell_type": "markdown",
   "metadata": {},
   "source": [
    "## Directory Contents\n",
    "\n",
    "There are three methods for accessing the directory listings to discover the names of files available on the file system. iterdir() is a generator, yielding a new Path instance for each item in the containing directory.\n",
    "\n",
    "If the Path does not refer to a directory, iterdir() raises NotADirectoryError."
   ]
  },
  {
   "cell_type": "code",
   "execution_count": 9,
   "metadata": {
    "collapsed": false
   },
   "outputs": [
    {
     "name": "stdout",
     "output_type": "stream",
     "text": [
      ".ipynb_checkpoints\n",
      "dir\n",
      "glob - Filename Pattern Matching.ipynb\n",
      "io - Text, Binary, and Raw Stream IO Tools.ipynb\n",
      "os.path - Platform-independent Manipulation of Filenames.ipynb\n",
      "pathlib — Filesystem Paths as Objects.ipynb\n",
      "test_files\n"
     ]
    }
   ],
   "source": [
    "# pathlib_iterdir.py\n",
    "import pathlib\n",
    "\n",
    "p = pathlib.Path('.')\n",
    "\n",
    "for f in p.iterdir():\n",
    "    print(f)"
   ]
  },
  {
   "cell_type": "markdown",
   "metadata": {},
   "source": [
    "Use glob() to find only files matching a pattern.\n",
    "\n",
    "This example shows all of the  input files in the current directory of the script."
   ]
  },
  {
   "cell_type": "code",
   "execution_count": 10,
   "metadata": {
    "collapsed": false
   },
   "outputs": [
    {
     "name": "stdout",
     "output_type": "stream",
     "text": [
      "glob - Filename Pattern Matching.ipynb\n",
      "io - Text, Binary, and Raw Stream IO Tools.ipynb\n",
      "os.path - Platform-independent Manipulation of Filenames.ipynb\n",
      "pathlib — Filesystem Paths as Objects.ipynb\n"
     ]
    }
   ],
   "source": [
    "# pathlib_glob.py\n",
    "import pathlib\n",
    "\n",
    "p = pathlib.Path('.')\n",
    "\n",
    "for f in p.glob('*.ipynb'):\n",
    "    print(f)"
   ]
  },
  {
   "cell_type": "markdown",
   "metadata": {},
   "source": [
    "## Reading and Writing Files\n",
    "\n",
    "Each Path instance includes methods for working with the contents of the file to which it refers. For immediately retrieving the contents, use read_bytes() or read_text(). To write to the file, use write_bytes() or write_text(). \n",
    "\n",
    "Use the open() method to open the file and retain the file handle, instead of passing the name to the built-in open() function.\n",
    "\n",
    "The convenience methods do some type checking before opening the file and writing to it, but otherwise they are equivalent to doing the operation directly."
   ]
  },
  {
   "cell_type": "code",
   "execution_count": 11,
   "metadata": {
    "collapsed": false
   },
   "outputs": [
    {
     "name": "stdout",
     "output_type": "stream",
     "text": [
      "read from open(): 'This is the content'\n",
      "read_text(): 'This is the content'\n"
     ]
    }
   ],
   "source": [
    "# pathlib_read_write.py\n",
    "import pathlib\n",
    "\n",
    "f = pathlib.Path('example.txt')\n",
    "\n",
    "f.write_bytes('This is the content'.encode('utf-8'))\n",
    "\n",
    "with f.open('r', encoding='utf-8') as handle:\n",
    "    print('read from open(): {!r}'.format(handle.read()))\n",
    "\n",
    "print('read_text(): {!r}'.format(f.read_text('utf-8')))"
   ]
  },
  {
   "cell_type": "markdown",
   "metadata": {},
   "source": [
    "## Manipulating Directories and Symbolic Links\n",
    "\n",
    "Paths representing directories or symbolic links that do not exist can be used to create the associated file system entries.\n",
    "\n",
    "If the path already exists, mkdir() raises a FileExistsError."
   ]
  },
  {
   "cell_type": "code",
   "execution_count": 12,
   "metadata": {
    "collapsed": false
   },
   "outputs": [
    {
     "name": "stdout",
     "output_type": "stream",
     "text": [
      "Creating example_dir\n"
     ]
    }
   ],
   "source": [
    "# pathlib_mkdir.py\n",
    "import pathlib\n",
    "\n",
    "p = pathlib.Path('example_dir')\n",
    "\n",
    "print('Creating {}'.format(p))\n",
    "p.mkdir()"
   ]
  },
  {
   "cell_type": "markdown",
   "metadata": {},
   "source": [
    "Use symlink_to() to create a symbolic link. The link will be named based on the path’s value and will refer to the name given as argument to symlink_to().\n",
    "\n",
    "This example creates a symbolic link, then uses resolve() to read the link to find what it points to and print the name."
   ]
  },
  {
   "cell_type": "code",
   "execution_count": 13,
   "metadata": {
    "collapsed": false
   },
   "outputs": [
    {
     "name": "stdout",
     "output_type": "stream",
     "text": [
      "example_link\n",
      "/Users/binyang/GitHub/Py3MOTW/File_System/example.txt\n",
      "example.txt\n"
     ]
    }
   ],
   "source": [
    "# pathlib_symlink_to.py\n",
    "import pathlib\n",
    "\n",
    "p = pathlib.Path('example_link')\n",
    "\n",
    "p.symlink_to('example.txt')\n",
    "\n",
    "print(p)\n",
    "print(p.resolve())\n",
    "print(p.resolve().name)"
   ]
  },
  {
   "cell_type": "markdown",
   "metadata": {},
   "source": [
    "## File Types\n",
    "\n",
    "A Path instance includes several methods for testing the type of file refered to by the path. This example creates several files of different types and tests those as well as a few other device-specific files available on the local operating system.\n",
    "\n",
    "Each of the methods, is_dir(), is_file(), is_symlink(), is_socket(), is_fifo(), is_block_device(), and is_char_device(), takes no arguments."
   ]
  },
  {
   "cell_type": "code",
   "execution_count": 14,
   "metadata": {
    "collapsed": false
   },
   "outputs": [
    {
     "name": "stdout",
     "output_type": "stream",
     "text": [
      "Name                 File    Dir   Link   FIFO  Block  Character\n",
      "\n",
      "test_files/fifo       False  False  False   True  False  False  \n",
      "test_files/file        True  False  False  False  False  False  \n",
      "test_files/symlink     True  False   True  False  False  False  \n",
      "/dev/disk0            False  False  False  False   True  False  \n",
      "/dev/console          False  False  False  False  False   True  \n"
     ]
    }
   ],
   "source": [
    "# pathlib_types.py\n",
    "import itertools\n",
    "import os\n",
    "import pathlib\n",
    "\n",
    "root = pathlib.Path('test_files')\n",
    "\n",
    "# Clean up from previous runs.\n",
    "if root.exists():\n",
    "    for f in root.iterdir():\n",
    "        f.unlink()\n",
    "else:\n",
    "    root.mkdir()\n",
    "\n",
    "# Create test files\n",
    "(root / 'file').write_text(\n",
    "    'This is a regular file', encoding='utf-8')\n",
    "(root / 'symlink').symlink_to('file')\n",
    "os.mkfifo(str(root / 'fifo'))\n",
    "\n",
    "# Check the file types\n",
    "to_scan = itertools.chain(\n",
    "    root.iterdir(),\n",
    "    [pathlib.Path('/dev/disk0'),\n",
    "     pathlib.Path('/dev/console')],\n",
    ")\n",
    "hfmt = '{:18s}' + ('  {:>5}' * 6)\n",
    "print(hfmt.format('Name', 'File', 'Dir', 'Link', 'FIFO', 'Block',\n",
    "                  'Character'))\n",
    "print()\n",
    "\n",
    "fmt = '{:20s}  ' + ('{!r:>5}  ' * 6)\n",
    "for f in to_scan:\n",
    "    print(fmt.format(\n",
    "        str(f),\n",
    "        f.is_file(),\n",
    "        f.is_dir(),\n",
    "        f.is_symlink(),\n",
    "        f.is_fifo(),\n",
    "        f.is_block_device(),\n",
    "        f.is_char_device(),\n",
    "    ))"
   ]
  },
  {
   "cell_type": "markdown",
   "metadata": {},
   "source": [
    "## File Properties\n",
    "\n",
    "Detailed information about a file can be accessed using the methods stat() or lstat() (for checking the status of something that might be a symbolic link). These methods produce the same results as os.stat() and os.lstat().\n",
    "\n",
    "The output will vary depending on how the example code was installed. Try passing different filenames on the command line to pathlib_stat.py."
   ]
  },
  {
   "cell_type": "code",
   "execution_count": 15,
   "metadata": {
    "collapsed": false
   },
   "outputs": [
    {
     "name": "stdout",
     "output_type": "stream",
     "text": [
      "os.stat_result(st_mode=33188, st_ino=44288892, st_dev=16777220, st_nlink=1, st_uid=501, st_gid=20, st_size=19, st_atime=1489546717, st_mtime=1489546717, st_ctime=1489546717)\n",
      "\n",
      "example.txt:\n",
      "  Size: 19\n",
      "  Permissions: 0o100644\n",
      "  Owner: 501\n",
      "  Device: 16777220\n",
      "  Created      : Tue Mar 14 22:58:37 2017\n",
      "  Last modified: Tue Mar 14 22:58:37 2017\n",
      "  Last accessed: Tue Mar 14 22:58:37 2017\n"
     ]
    }
   ],
   "source": [
    "# pathlib_stat.py\n",
    "import pathlib\n",
    "import sys\n",
    "import time\n",
    "\n",
    "# if len(sys.argv) == 1:\n",
    "#     filename = __file__\n",
    "# else:\n",
    "#     filename = sys.argv[1]\n",
    "filename = 'example.txt'\n",
    "\n",
    "p = pathlib.Path(filename)\n",
    "stat_info = p.stat()\n",
    "\n",
    "print(stat_info)\n",
    "print('\\n{}:'.format(filename))\n",
    "print('  Size:', stat_info.st_size)\n",
    "print('  Permissions:', oct(stat_info.st_mode))\n",
    "print('  Owner:', stat_info.st_uid)\n",
    "print('  Device:', stat_info.st_dev)\n",
    "print('  Created      :', time.ctime(stat_info.st_ctime))\n",
    "print('  Last modified:', time.ctime(stat_info.st_mtime))\n",
    "print('  Last accessed:', time.ctime(stat_info.st_atime))"
   ]
  },
  {
   "cell_type": "markdown",
   "metadata": {},
   "source": [
    "For simpler access to information about the owner of a file, use owner() and group().\n",
    "\n",
    "While stat() returns numerical system ID values, these methods look up the name associated with the IDs."
   ]
  },
  {
   "cell_type": "code",
   "execution_count": 16,
   "metadata": {
    "collapsed": false
   },
   "outputs": [
    {
     "name": "stdout",
     "output_type": "stream",
     "text": [
      "example.txt is owned by binyang/staff\n"
     ]
    }
   ],
   "source": [
    "# pathlib_ownership.py\n",
    "import pathlib\n",
    "\n",
    "p = pathlib.Path(filename)\n",
    "\n",
    "print('{} is owned by {}/{}'.format(p, p.owner(), p.group()))"
   ]
  },
  {
   "cell_type": "markdown",
   "metadata": {},
   "source": [
    "The touch() method works like the Unix command touch to create a file or update an existing file’s modification time and permissions.\n",
    "\n",
    "Running this example more than once updates the existing file on subsequent runs."
   ]
  },
  {
   "cell_type": "code",
   "execution_count": 17,
   "metadata": {
    "collapsed": false
   },
   "outputs": [
    {
     "name": "stdout",
     "output_type": "stream",
     "text": [
      "creating new\n",
      "Start: Tue Mar 14 22:58:37 2017\n",
      "End  : Tue Mar 14 22:58:38 2017\n"
     ]
    }
   ],
   "source": [
    "# pathlib_touch.py\n",
    "import pathlib\n",
    "import time\n",
    "\n",
    "p = pathlib.Path('touched')\n",
    "if p.exists():\n",
    "    print('already exists')\n",
    "else:\n",
    "    print('creating new')\n",
    "\n",
    "p.touch()\n",
    "start = p.stat()\n",
    "\n",
    "time.sleep(1)\n",
    "\n",
    "p.touch()\n",
    "end = p.stat()\n",
    "\n",
    "print('Start:', time.ctime(start.st_mtime))\n",
    "print('End  :', time.ctime(end.st_mtime))"
   ]
  },
  {
   "cell_type": "code",
   "execution_count": 18,
   "metadata": {
    "collapsed": false
   },
   "outputs": [
    {
     "name": "stdout",
     "output_type": "stream",
     "text": [
      "already exists\n",
      "Start: Tue Mar 14 22:58:38 2017\n",
      "End  : Tue Mar 14 22:58:39 2017\n"
     ]
    }
   ],
   "source": [
    "# pathlib_touch.py\n",
    "import pathlib\n",
    "import time\n",
    "\n",
    "p = pathlib.Path('touched')\n",
    "if p.exists():\n",
    "    print('already exists')\n",
    "else:\n",
    "    print('creating new')\n",
    "\n",
    "p.touch()\n",
    "start = p.stat()\n",
    "\n",
    "time.sleep(1)\n",
    "\n",
    "p.touch()\n",
    "end = p.stat()\n",
    "\n",
    "print('Start:', time.ctime(start.st_mtime))\n",
    "print('End  :', time.ctime(end.st_mtime))"
   ]
  },
  {
   "cell_type": "markdown",
   "metadata": {},
   "source": [
    "## Permissions\n",
    "\n",
    "On Unix-like systems, file permissions can be changed using chmod(), passing the mode as an integer. Mode values can be constructed using constants defined in the stat module. This example toggles the user’s execute permission bit.\n",
    "\n",
    "The script assumes it has the permissions necessary to modify the mode of the file when run."
   ]
  },
  {
   "cell_type": "code",
   "execution_count": 19,
   "metadata": {
    "collapsed": false
   },
   "outputs": [
    {
     "name": "stdout",
     "output_type": "stream",
     "text": [
      "\n",
      "Before: 644\n",
      "Adding execute permission\n",
      "After: 744\n"
     ]
    }
   ],
   "source": [
    "# pathlib_chmod.py\n",
    "import os\n",
    "import pathlib\n",
    "import stat\n",
    "\n",
    "# Create a fresh test file.\n",
    "f = pathlib.Path('pathlib_chmod_example.txt')\n",
    "if f.exists():\n",
    "    f.unlink()\n",
    "f.write_text('contents')\n",
    "\n",
    "# Determine what permissions are already set using stat.\n",
    "existing_permissions = stat.S_IMODE(f.stat().st_mode)\n",
    "print('\\nBefore: {:o}'.format(existing_permissions))\n",
    "\n",
    "\n",
    "# Decide which way to toggle them.\n",
    "if not (existing_permissions & os.X_OK):\n",
    "    print('Adding execute permission')\n",
    "    new_permissions = existing_permissions | stat.S_IXUSR\n",
    "else:\n",
    "    print('Removing execute permission')\n",
    "    # use xor to remove the user execute permission\n",
    "    new_permissions = existing_permissions ^ stat.S_IXUSR\n",
    "\n",
    "# Make the change and show the new value.\n",
    "f.chmod(new_permissions)\n",
    "after_permissions = stat.S_IMODE(f.stat().st_mode)\n",
    "print('After: {:o}'.format(after_permissions))"
   ]
  },
  {
   "cell_type": "code",
   "execution_count": 20,
   "metadata": {
    "collapsed": false
   },
   "outputs": [
    {
     "name": "stdout",
     "output_type": "stream",
     "text": [
      "-rwxr--r--  1 binyang  staff  8 Mar 14 22:58 \u001b[31mpathlib_chmod_example.txt\u001b[m\u001b[m\r\n"
     ]
    }
   ],
   "source": [
    "! ls -al pathlib_chmod_example.txt"
   ]
  },
  {
   "cell_type": "code",
   "execution_count": 21,
   "metadata": {
    "collapsed": true
   },
   "outputs": [],
   "source": [
    "! rm pathlib_chmod_example.txt"
   ]
  },
  {
   "cell_type": "markdown",
   "metadata": {},
   "source": [
    "## Deleting\n",
    "\n",
    "There are two methods for removing things from the file system, depending on the type. To remove an empty directory, use rmdir().\n",
    "\n",
    "A FileNotFoundError exception is raised if the post-conditions are already met and the directory does not exist. It is also an error to try to remove a directory that is not empty."
   ]
  },
  {
   "cell_type": "code",
   "execution_count": 22,
   "metadata": {
    "collapsed": false
   },
   "outputs": [
    {
     "name": "stdout",
     "output_type": "stream",
     "text": [
      "Removing example_dir\n"
     ]
    }
   ],
   "source": [
    "# pathlib_rmdir.py\n",
    "import pathlib\n",
    "\n",
    "p = pathlib.Path('example_dir')\n",
    "\n",
    "print('Removing {}'.format(p))\n",
    "p.rmdir()"
   ]
  },
  {
   "cell_type": "markdown",
   "metadata": {},
   "source": [
    "For files, symbolic links, and most other path types use unlink().\n",
    "\n",
    "The user must have permission to remove the file, symbolic link, socket, or other file system object."
   ]
  },
  {
   "cell_type": "code",
   "execution_count": 23,
   "metadata": {
    "collapsed": false
   },
   "outputs": [
    {
     "name": "stdout",
     "output_type": "stream",
     "text": [
      "exists before removing: True\n",
      "exists after removing: False\n"
     ]
    }
   ],
   "source": [
    "# pathlib_unlink.py\n",
    "import pathlib\n",
    "\n",
    "p = pathlib.Path('touched')\n",
    "\n",
    "p.touch()\n",
    "\n",
    "print('exists before removing:', p.exists())\n",
    "\n",
    "p.unlink()\n",
    "\n",
    "print('exists after removing:', p.exists())"
   ]
  },
  {
   "cell_type": "code",
   "execution_count": 24,
   "metadata": {
    "collapsed": false
   },
   "outputs": [],
   "source": [
    "# Cleanup the current dir\n",
    "\n",
    "p1 = pathlib.Path('example_link')\n",
    "p1.unlink()\n",
    "\n",
    "p2 = pathlib.Path('example.txt')\n",
    "p2.unlink()\n",
    "\n",
    "root = pathlib.Path('test_files')\n",
    "\n",
    "# Clean up from previous runs.\n",
    "if root.exists():\n",
    "    for f in root.iterdir():\n",
    "        f.unlink()\n",
    "    root.rmdir()"
   ]
  }
 ],
 "metadata": {
  "kernelspec": {
   "display_name": "Python 3",
   "language": "python",
   "name": "python3"
  },
  "language_info": {
   "codemirror_mode": {
    "name": "ipython",
    "version": 3
   },
   "file_extension": ".py",
   "mimetype": "text/x-python",
   "name": "python",
   "nbconvert_exporter": "python",
   "pygments_lexer": "ipython3",
   "version": "3.5.2"
  }
 },
 "nbformat": 4,
 "nbformat_minor": 2
}
