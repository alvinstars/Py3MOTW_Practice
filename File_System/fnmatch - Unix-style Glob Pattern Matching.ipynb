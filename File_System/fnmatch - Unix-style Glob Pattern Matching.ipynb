{
 "cells": [
  {
   "cell_type": "markdown",
   "metadata": {},
   "source": [
    "# fnmatch - Unix-style Glob Pattern Matching\n",
    "\n",
    "Purpose:\tHandle Unix-style filename comparisons.\n",
    "\n",
    "The fnmatch module is used to compare filenames against glob-style patterns such as used by Unix shells."
   ]
  },
  {
   "cell_type": "markdown",
   "metadata": {},
   "source": [
    "## Simple Matching\n",
    "\n",
    "fnmatch() compares a single filename against a pattern and returns a boolean, indicating whether or not they match. The comparison is case-sensitive when the operating system uses a case-sensitive file system.\n",
    "\n",
    "In this example, the pattern matches all files starting with 'fnmatch_' and ending in '.py'."
   ]
  },
  {
   "cell_type": "code",
   "execution_count": 1,
   "metadata": {
    "collapsed": true
   },
   "outputs": [],
   "source": [
    "# create dummy testing files\n",
    "! touch fnmatch_filter.py fnmatch_fnmatch.py fnmatch_fnmatchcase.py fnmatch_translate.py"
   ]
  },
  {
   "cell_type": "code",
   "execution_count": 2,
   "metadata": {
    "collapsed": false
   },
   "outputs": [
    {
     "name": "stdout",
     "output_type": "stream",
     "text": [
      "Pattern : fnmatch_*.py\n",
      "\n",
      "Filename: .ipynb_checkpoints        False\n",
      "Filename: dir                       False\n",
      "Filename: fnmatch - Unix-style Glob Pattern Matching.ipynb False\n",
      "Filename: fnmatch_filter.py         True\n",
      "Filename: fnmatch_fnmatch.py        True\n",
      "Filename: fnmatch_fnmatchcase.py    True\n",
      "Filename: fnmatch_translate.py      True\n",
      "Filename: glob - Filename Pattern Matching.ipynb False\n",
      "Filename: io - Text, Binary, and Raw Stream IO Tools.ipynb False\n",
      "Filename: os.path - Platform-independent Manipulation of Filenames.ipynb False\n",
      "Filename: pathlib — Filesystem Paths as Objects.ipynb False\n"
     ]
    }
   ],
   "source": [
    "# fnmatch_fnmatch.py\n",
    "import fnmatch\n",
    "import os\n",
    "\n",
    "pattern = 'fnmatch_*.py'\n",
    "print('Pattern :', pattern)\n",
    "print()\n",
    "\n",
    "files = os.listdir('.')\n",
    "for name in files:\n",
    "    print('Filename: {:<25} {}'.format(\n",
    "        name, fnmatch.fnmatch(name, pattern)))"
   ]
  },
  {
   "cell_type": "markdown",
   "metadata": {},
   "source": [
    "To force a case-sensitive comparison, regardless of the file system and operating system settings, use fnmatchcase().\n",
    "\n",
    "Since the OS X system used to test this program uses a case-sensitive file system, no files match the modified pattern."
   ]
  },
  {
   "cell_type": "code",
   "execution_count": 3,
   "metadata": {
    "collapsed": false
   },
   "outputs": [
    {
     "name": "stdout",
     "output_type": "stream",
     "text": [
      "Pattern : FNMATCH_*.PY\n",
      "\n",
      "Filename: .ipynb_checkpoints        False\n",
      "Filename: dir                       False\n",
      "Filename: fnmatch - Unix-style Glob Pattern Matching.ipynb False\n",
      "Filename: fnmatch_filter.py         False\n",
      "Filename: fnmatch_fnmatch.py        False\n",
      "Filename: fnmatch_fnmatchcase.py    False\n",
      "Filename: fnmatch_translate.py      False\n",
      "Filename: glob - Filename Pattern Matching.ipynb False\n",
      "Filename: io - Text, Binary, and Raw Stream IO Tools.ipynb False\n",
      "Filename: os.path - Platform-independent Manipulation of Filenames.ipynb False\n",
      "Filename: pathlib — Filesystem Paths as Objects.ipynb False\n"
     ]
    }
   ],
   "source": [
    "# fnmatch_fnmatchcase.py\n",
    "import fnmatch\n",
    "import os\n",
    "\n",
    "pattern = 'FNMATCH_*.PY'\n",
    "print('Pattern :', pattern)\n",
    "print()\n",
    "\n",
    "files = os.listdir('.')\n",
    "\n",
    "for name in files:\n",
    "    print('Filename: {:<25} {}'.format(\n",
    "        name, fnmatch.fnmatchcase(name, pattern)))"
   ]
  },
  {
   "cell_type": "markdown",
   "metadata": {},
   "source": [
    "## Filtering\n",
    "\n",
    "To test a sequence of filenames, use filter(), which returns a list of the names that match the pattern argument.\n",
    "\n",
    "In this example, filter() returns the list of names of the example source files associated with this section."
   ]
  },
  {
   "cell_type": "code",
   "execution_count": 4,
   "metadata": {
    "collapsed": false
   },
   "outputs": [
    {
     "name": "stdout",
     "output_type": "stream",
     "text": [
      "Pattern : fnmatch_*.py\n",
      "\n",
      "Files   :\n",
      "['.ipynb_checkpoints',\n",
      " 'dir',\n",
      " 'fnmatch - Unix-style Glob Pattern Matching.ipynb',\n",
      " 'fnmatch_filter.py',\n",
      " 'fnmatch_fnmatch.py',\n",
      " 'fnmatch_fnmatchcase.py',\n",
      " 'fnmatch_translate.py',\n",
      " 'glob - Filename Pattern Matching.ipynb',\n",
      " 'io - Text, Binary, and Raw Stream IO Tools.ipynb',\n",
      " 'os.path - Platform-independent Manipulation of Filenames.ipynb',\n",
      " 'pathlib — Filesystem Paths as Objects.ipynb']\n",
      "\n",
      "Matches :\n",
      "['fnmatch_filter.py',\n",
      " 'fnmatch_fnmatch.py',\n",
      " 'fnmatch_fnmatchcase.py',\n",
      " 'fnmatch_translate.py']\n"
     ]
    }
   ],
   "source": [
    "# fnmatch_filter.py\n",
    "import fnmatch\n",
    "import os\n",
    "import pprint\n",
    "\n",
    "pattern = 'fnmatch_*.py'\n",
    "print('Pattern :', pattern)\n",
    "\n",
    "files = os.listdir('.')\n",
    "\n",
    "print('\\nFiles   :')\n",
    "pprint.pprint(files)\n",
    "\n",
    "print('\\nMatches :')\n",
    "pprint.pprint(fnmatch.filter(files, pattern))"
   ]
  },
  {
   "cell_type": "markdown",
   "metadata": {},
   "source": [
    "## Translating Patterns\n",
    "\n",
    "Internally, fnmatch converts the glob pattern to a regular expression and uses the re module to compare the name and pattern. The translate() function is the public API for converting glob patterns to regular expressions.\n",
    "\n",
    "Some of the characters are escaped to make a valid expression."
   ]
  },
  {
   "cell_type": "code",
   "execution_count": 5,
   "metadata": {
    "collapsed": false,
    "scrolled": true
   },
   "outputs": [
    {
     "name": "stdout",
     "output_type": "stream",
     "text": [
      "Pattern : fnmatch_*.py\n",
      "Regex   : fnmatch_.*\\.py\\Z(?ms)\n"
     ]
    }
   ],
   "source": [
    "# fnmatch_translate.py\n",
    "import fnmatch\n",
    "\n",
    "pattern = 'fnmatch_*.py'\n",
    "print('Pattern :', pattern)\n",
    "print('Regex   :', fnmatch.translate(pattern))"
   ]
  },
  {
   "cell_type": "code",
   "execution_count": 6,
   "metadata": {
    "collapsed": true
   },
   "outputs": [],
   "source": [
    "# cleanup\n",
    "! rm fnmatch_filter.py fnmatch_fnmatch.py fnmatch_fnmatchcase.py fnmatch_translate.py"
   ]
  }
 ],
 "metadata": {
  "kernelspec": {
   "display_name": "Python 3",
   "language": "python",
   "name": "python3"
  },
  "language_info": {
   "codemirror_mode": {
    "name": "ipython",
    "version": 3
   },
   "file_extension": ".py",
   "mimetype": "text/x-python",
   "name": "python",
   "nbconvert_exporter": "python",
   "pygments_lexer": "ipython3",
   "version": "3.5.2"
  }
 },
 "nbformat": 4,
 "nbformat_minor": 2
}
