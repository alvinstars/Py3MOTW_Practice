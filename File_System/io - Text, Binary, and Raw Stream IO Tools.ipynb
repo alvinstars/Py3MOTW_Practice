{
 "cells": [
  {
   "cell_type": "markdown",
   "metadata": {},
   "source": [
    "# io - Text, Binary, and Raw Stream I/O Tools\n",
    "\n",
    "Purpose:\tImplements file I/O and provides classes for working with buffers using file-like API.\n",
    "\n",
    "The io module implements the classes behind the interpreter’s built-in open() for file-based input and output operations. The classes are decomposed in such a way that they can be recombined for alternate purposes, for example to enable writing Unicode data to a network socket."
   ]
  },
  {
   "cell_type": "markdown",
   "metadata": {},
   "source": [
    "## In-memory Streams\n",
    "\n",
    "StringIO provides a convenient means of working with text in memory using the file API (read(), write(), etc.). Using StringIO to build large strings can offer performance savings over some other string concatenation techniques in some cases. In-memory stream buffers are also useful for testing, where writing to a real file on disk may slow down the test suite.\n",
    "\n",
    "Here are a few standard examples of using StringIO buffers.\n",
    "    \n",
    "This example uses read(), but the readline() and readlines() methods are also available. The StringIO class also provides a seek() method for jumping around in a buffer while reading, which can be useful for rewinding if a look-ahead parsing algorithm is being used.\n",
    "\n"
   ]
  },
  {
   "cell_type": "code",
   "execution_count": 1,
   "metadata": {
    "collapsed": false
   },
   "outputs": [
    {
     "name": "stdout",
     "output_type": "stream",
     "text": [
      "This goes into the buffer. And so does this.\n",
      "\n",
      "Inital value for read buffer\n",
      "Inital value for read buffer\n"
     ]
    }
   ],
   "source": [
    "# io_stringio.py\n",
    "import io\n",
    "\n",
    "# Writing to a buffer\n",
    "output = io.StringIO()\n",
    "output.write('This goes into the buffer. ')\n",
    "print('And so does this.', file=output)\n",
    "\n",
    "# Retrieve the value written\n",
    "print(output.getvalue())\n",
    "\n",
    "output.close()  # discard buffer memory\n",
    "\n",
    "# Initialize a read buffer\n",
    "input = io.StringIO('Inital value for read buffer')\n",
    "\n",
    "# Read from the buffer\n",
    "print(input.read())\n",
    "\n",
    "print(input.getvalue())"
   ]
  },
  {
   "cell_type": "markdown",
   "metadata": {},
   "source": [
    "To work with raw bytes instead of Unicode text, use BytesIO.\n",
    "\n",
    "The values written to the BytesIO must be bytes rather than str."
   ]
  },
  {
   "cell_type": "code",
   "execution_count": 2,
   "metadata": {
    "collapsed": false
   },
   "outputs": [
    {
     "name": "stdout",
     "output_type": "stream",
     "text": [
      "b'This goes into the buffer. \\xc3\\x81\\xc3\\x87\\xc3\\x8a'\n",
      "b'Inital value for read buffer'\n"
     ]
    }
   ],
   "source": [
    "# io_bytesio.py\n",
    "import io\n",
    "\n",
    "# Writing to a buffer\n",
    "output = io.BytesIO()\n",
    "output.write('This goes into the buffer. '.encode('utf-8'))\n",
    "output.write('ÁÇÊ'.encode('utf-8'))\n",
    "\n",
    "# Retrieve the value written\n",
    "print(output.getvalue())\n",
    "\n",
    "output.close()  # discard buffer memory\n",
    "\n",
    "# Initialize a read buffer\n",
    "input = io.BytesIO(b'Inital value for read buffer')\n",
    "\n",
    "# Read from the buffer\n",
    "print(input.read())"
   ]
  },
  {
   "cell_type": "markdown",
   "metadata": {},
   "source": [
    "## Wrapping Byte Streams for Text Data\n",
    "\n",
    "Raw byte streams such as sockets can be wrapped with a layer to handle string encoding and decoding, making it easier to use them with text data. The TextIOWrapper class supports writing as well as reading. The write_through argument disables buffering, and flushes all data written to the wrapper through to the underlying buffer immediately.\n",
    "\n",
    "This example uses a BytesIO instance as the stream. Examples for bz2, http.server, and subprocess demonstrate using TextIOWrapper with other types of file-like objects."
   ]
  },
  {
   "cell_type": "code",
   "execution_count": 3,
   "metadata": {
    "collapsed": false
   },
   "outputs": [
    {
     "name": "stdout",
     "output_type": "stream",
     "text": [
      "b'This goes into the buffer. \\xc3\\x81\\xc3\\x87\\xc3\\x8a'\n",
      "Inital value for read buffer with unicode characters ÁÇÊ\n"
     ]
    }
   ],
   "source": [
    "# io_textiowrapper.py\n",
    "import io\n",
    "\n",
    "# Writing to a buffer\n",
    "output = io.BytesIO()\n",
    "wrapper = io.TextIOWrapper(\n",
    "    output,\n",
    "    encoding='utf-8',\n",
    "    write_through=True,\n",
    ")\n",
    "wrapper.write('This goes into the buffer. ')\n",
    "wrapper.write('ÁÇÊ')\n",
    "\n",
    "# Retrieve the value written\n",
    "print(output.getvalue())\n",
    "\n",
    "output.close()  # discard buffer memory\n",
    "\n",
    "# Initialize a read buffer\n",
    "input = io.BytesIO(\n",
    "    b'Inital value for read buffer with unicode characters ' +\n",
    "    'ÁÇÊ'.encode('utf-8')\n",
    ")\n",
    "wrapper = io.TextIOWrapper(input, encoding='utf-8')\n",
    "\n",
    "# Read from the buffer\n",
    "print(wrapper.read())"
   ]
  }
 ],
 "metadata": {
  "kernelspec": {
   "display_name": "Python 3",
   "language": "python",
   "name": "python3"
  },
  "language_info": {
   "codemirror_mode": {
    "name": "ipython",
    "version": 3
   },
   "file_extension": ".py",
   "mimetype": "text/x-python",
   "name": "python",
   "nbconvert_exporter": "python",
   "pygments_lexer": "ipython3",
   "version": "3.5.2"
  }
 },
 "nbformat": 4,
 "nbformat_minor": 2
}
