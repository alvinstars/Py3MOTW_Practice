{
 "cells": [
  {
   "cell_type": "markdown",
   "metadata": {},
   "source": [
    "# os.path - Platform-independent Manipulation of Filenames\n",
    "\n",
    "Purpose:\tParse, build, test, and otherwise work on filenames and paths.\n",
    "\n",
    "Writing code to work with files on multiple platforms is easy using the functions included in the os.path module. Even programs not intended to be ported between platforms should use os.path for reliable filename parsing."
   ]
  },
  {
   "cell_type": "markdown",
   "metadata": {},
   "source": [
    "## Parsing Paths\n",
    "\n",
    "The first set of functions in os.path can be used to parse strings representing filenames into their component parts. It is important to realize that these functions do not depend on the paths actually existing; they operate solely on the strings.\n",
    "\n",
    "Path parsing depends on a few variable defined in os:\n",
    "\n",
    "* os.sep - The separator between portions of the path (e.g., “/” or “\\”).\n",
    "* os.extsep - The separator between a filename and the file “extension” (e.g., “.”).\n",
    "* os.pardir - The path component that means traverse the directory tree up one level (e.g., “..”).\n",
    "* os.curdir - The path component that refers to the current directory (e.g., “.”)."
   ]
  },
  {
   "cell_type": "markdown",
   "metadata": {},
   "source": [
    "### split()\n",
    "The split() function breaks the path into two separate parts and returns a tuple with the results. The second element of the tuple is the last component of the path, and the first element is everything that comes before it."
   ]
  },
  {
   "cell_type": "code",
   "execution_count": 5,
   "metadata": {
    "collapsed": false
   },
   "outputs": [
    {
     "name": "stdout",
     "output_type": "stream",
     "text": [
      " '/one/two/three' : ('/one/two', 'three')\n",
      "'/one/two/three/' : ('/one/two/three', '')\n",
      "              '/' : ('/', '')\n",
      "              '.' : ('', '.')\n",
      "               '' : ('', '')\n"
     ]
    }
   ],
   "source": [
    "# ospath_split.py\n",
    "import os.path\n",
    "\n",
    "PATHS = [\n",
    "    '/one/two/three',\n",
    "    '/one/two/three/',\n",
    "    '/',\n",
    "    '.',\n",
    "    '',\n",
    "]\n",
    "\n",
    "for path in PATHS:\n",
    "    print('{!r:>17} : {}'.format(path, os.path.split(path)))"
   ]
  },
  {
   "cell_type": "markdown",
   "metadata": {},
   "source": [
    "### basename()\n",
    "The basename() function returns a value equivalent to the second part of the split() value."
   ]
  },
  {
   "cell_type": "code",
   "execution_count": 6,
   "metadata": {
    "collapsed": false
   },
   "outputs": [
    {
     "name": "stdout",
     "output_type": "stream",
     "text": [
      " '/one/two/three' : 'three'\n",
      "'/one/two/three/' : ''\n",
      "              '/' : ''\n",
      "              '.' : '.'\n",
      "               '' : ''\n"
     ]
    }
   ],
   "source": [
    "# ospath_basename.py\n",
    "import os.path\n",
    "\n",
    "PATHS = [\n",
    "    '/one/two/three',\n",
    "    '/one/two/three/',\n",
    "    '/',\n",
    "    '.',\n",
    "    '',\n",
    "]\n",
    "\n",
    "for path in PATHS:\n",
    "    print('{!r:>17} : {!r}'.format(path, os.path.basename(path)))"
   ]
  },
  {
   "cell_type": "markdown",
   "metadata": {},
   "source": [
    "The full path is stripped down to the last element, whether that refers to a file or directory. If the path ends in the directory separator (os.sep), the base portion is considered to be empty."
   ]
  },
  {
   "cell_type": "markdown",
   "metadata": {},
   "source": [
    "### dirname()\n",
    "The dirname() function returns the first part of the split path:"
   ]
  },
  {
   "cell_type": "code",
   "execution_count": 7,
   "metadata": {
    "collapsed": false
   },
   "outputs": [
    {
     "name": "stdout",
     "output_type": "stream",
     "text": [
      " '/one/two/three' : '/one/two'\n",
      "'/one/two/three/' : '/one/two/three'\n",
      "              '/' : '/'\n",
      "              '.' : ''\n",
      "               '' : ''\n"
     ]
    }
   ],
   "source": [
    "# ospath_dirname.py\n",
    "import os.path\n",
    "\n",
    "PATHS = [\n",
    "    '/one/two/three',\n",
    "    '/one/two/three/',\n",
    "    '/',\n",
    "    '.',\n",
    "    '',\n",
    "]\n",
    "\n",
    "for path in PATHS:\n",
    "    print('{!r:>17} : {!r}'.format(path, os.path.dirname(path)))"
   ]
  },
  {
   "cell_type": "markdown",
   "metadata": {},
   "source": [
    "### splitext()\n",
    "splitext() works like split(), but divides the path on the extension separator, rather than the directory separator."
   ]
  },
  {
   "cell_type": "code",
   "execution_count": 11,
   "metadata": {
    "collapsed": false
   },
   "outputs": [
    {
     "name": "stdout",
     "output_type": "stream",
     "text": [
      "       'filename.txt' : ('filename', '.txt')\n",
      "           'filename' : ('filename', '')\n",
      "'/path/to/filename.txt' : ('/path/to/filename', '.txt')\n",
      "                  '/' : ('/', '')\n",
      "                   '' : ('', '')\n",
      "  'my-archive.tar.gz' : ('my-archive.tar', '.gz')\n",
      "      'no-extension.' : ('no-extension', '.')\n"
     ]
    }
   ],
   "source": [
    "# ospath_splitext.py\n",
    "import os.path\n",
    "\n",
    "PATHS = [\n",
    "    'filename.txt',\n",
    "    'filename',\n",
    "    '/path/to/filename.txt',\n",
    "    '/',\n",
    "    '',\n",
    "    'my-archive.tar.gz',\n",
    "    'no-extension.',\n",
    "]\n",
    "\n",
    "for path in PATHS:\n",
    "    print('{!r:>21} : {!r}'.format(path, os.path.splitext(path)))"
   ]
  },
  {
   "cell_type": "markdown",
   "metadata": {},
   "source": [
    "Only the last occurrence of os.extsep is used when looking for the extension, so if a filename has multiple extensions the results of splitting it leaves part of the extension on the prefix."
   ]
  },
  {
   "cell_type": "markdown",
   "metadata": {},
   "source": [
    "### commonprefix()\n",
    "commonprefix() takes a list of paths as an argument and returns a single string that represents a common prefix present in all of the paths. The value may represent a path that does not actually exist, and the path separator is not included in the consideration, so the prefix might not stop on a separator boundary."
   ]
  },
  {
   "cell_type": "code",
   "execution_count": 12,
   "metadata": {
    "collapsed": false
   },
   "outputs": [
    {
     "name": "stdout",
     "output_type": "stream",
     "text": [
      "PATH: /one/two/three/four\n",
      "PATH: /one/two/threefold\n",
      "PATH: /one/two/three/\n",
      "\n",
      "PREFIX: /one/two/three\n"
     ]
    }
   ],
   "source": [
    "# ospath_commonprefix.py\n",
    "import os.path\n",
    "\n",
    "paths = ['/one/two/three/four',\n",
    "         '/one/two/threefold',\n",
    "         '/one/two/three/',\n",
    "         ]\n",
    "for path in paths:\n",
    "    print('PATH:', path)\n",
    "\n",
    "print()\n",
    "print('PREFIX:', os.path.commonprefix(paths))"
   ]
  },
  {
   "cell_type": "markdown",
   "metadata": {},
   "source": [
    "### commonpath()\n",
    "commonpath() does honor path separators, and returns a prefix that does not include partial path values."
   ]
  },
  {
   "cell_type": "code",
   "execution_count": 13,
   "metadata": {
    "collapsed": false
   },
   "outputs": [
    {
     "name": "stdout",
     "output_type": "stream",
     "text": [
      "PATH: /one/two/three/four\n",
      "PATH: /one/two/threefold\n",
      "PATH: /one/two/three/\n",
      "\n",
      "PREFIX: /one/two\n"
     ]
    }
   ],
   "source": [
    "# ospath_commonpath.py\n",
    "import os.path\n",
    "\n",
    "paths = ['/one/two/three/four',\n",
    "         '/one/two/threefold',\n",
    "         '/one/two/three/',\n",
    "         ]\n",
    "for path in paths:\n",
    "    print('PATH:', path)\n",
    "\n",
    "print()\n",
    "print('PREFIX:', os.path.commonpath(paths))"
   ]
  },
  {
   "cell_type": "markdown",
   "metadata": {},
   "source": [
    "## Building Paths\n",
    "\n",
    "Besides taking existing paths apart, it is frequently necessary to build paths from other strings. "
   ]
  },
  {
   "cell_type": "markdown",
   "metadata": {},
   "source": [
    "### join()\n",
    "To combine several path components into a single value, use join():    "
   ]
  },
  {
   "cell_type": "code",
   "execution_count": 16,
   "metadata": {
    "collapsed": false
   },
   "outputs": [
    {
     "name": "stdout",
     "output_type": "stream",
     "text": [
      "('one', 'two', 'three') : 'one/two/three'\n",
      "('/', 'one', 'two', 'three') : '/one/two/three'\n",
      "('/one', '/two', '/three') : '/three'\n"
     ]
    }
   ],
   "source": [
    "# ospath_join.py\n",
    "import os.path\n",
    "\n",
    "PATHS = [\n",
    "    ('one', 'two', 'three'),\n",
    "    ('/', 'one', 'two', 'three'),\n",
    "    ('/one', '/two', '/three'),\n",
    "]\n",
    "\n",
    "for parts in PATHS:\n",
    "    print('{} : {!r}'.format(parts, os.path.join(*parts)))"
   ]
  },
  {
   "cell_type": "markdown",
   "metadata": {},
   "source": [
    "If any argument to join begins with os.sep, all of the previous arguments are discarded and the new one becomes the beginning of the return value."
   ]
  },
  {
   "cell_type": "markdown",
   "metadata": {},
   "source": [
    "### expanduser() \n",
    "It is also possible to work with paths that include “variable” components that can be expanded automatically. For example, expanduser() converts the tilde (~) character to the name of a user’s home directory.\n",
    "\n",
    "If the user’s home directory cannot be found, the string is returned unchanged, as with ~nosuchuser in this example."
   ]
  },
  {
   "cell_type": "code",
   "execution_count": 20,
   "metadata": {
    "collapsed": false
   },
   "outputs": [
    {
     "name": "stdout",
     "output_type": "stream",
     "text": [
      "            '~' : '/Users/binyang'\n",
      "   '~dhellmann' : '~dhellmann'\n",
      "  '~nosuchuser' : '~nosuchuser'\n"
     ]
    }
   ],
   "source": [
    "# ospath_expanduser.py\n",
    "import os.path\n",
    "\n",
    "for user in ['', 'dhellmann', 'nosuchuser']:\n",
    "    lookup = '~' + user\n",
    "    print('{!r:>15} : {!r}'.format(\n",
    "        lookup, os.path.expanduser(lookup)))"
   ]
  },
  {
   "cell_type": "markdown",
   "metadata": {},
   "source": [
    "### expandvars()\n",
    "expandvars() is more general, and expands any shell environment variables present in the path."
   ]
  },
  {
   "cell_type": "code",
   "execution_count": 26,
   "metadata": {
    "collapsed": false
   },
   "outputs": [
    {
     "name": "stdout",
     "output_type": "stream",
     "text": [
      "/path/to/VALUE\n"
     ]
    }
   ],
   "source": [
    "# ospath_expandvars.py\n",
    "import os.path\n",
    "import os\n",
    "\n",
    "os.environ['MYVAR'] = 'VALUE'\n",
    "\n",
    "print(os.path.expandvars('/path/to/$MYVAR'))"
   ]
  },
  {
   "cell_type": "code",
   "execution_count": 24,
   "metadata": {
    "collapsed": false
   },
   "outputs": [
    {
     "name": "stdout",
     "output_type": "stream",
     "text": [
      "MYVAR=VALUE\r\n"
     ]
    }
   ],
   "source": [
    "! env | grep MYVAR"
   ]
  },
  {
   "cell_type": "markdown",
   "metadata": {},
   "source": [
    "## Normalizing Paths"
   ]
  },
  {
   "cell_type": "markdown",
   "metadata": {},
   "source": [
    "### normpath()\n",
    "Paths assembled from separate strings using join() or with embedded variables might end up with extra separators or relative path components. Use normpath() to clean them up:"
   ]
  },
  {
   "cell_type": "code",
   "execution_count": 33,
   "metadata": {
    "collapsed": false
   },
   "outputs": [
    {
     "name": "stdout",
     "output_type": "stream",
     "text": [
      "             'one//two//three' : 'one/two/three'\n",
      "           'one/./two/./three' : 'one/two/three'\n",
      "        'one/../alt/two/three' : 'alt/two/three'\n"
     ]
    }
   ],
   "source": [
    "# ospath_normpath.py\n",
    "import os.path\n",
    "\n",
    "PATHS = [\n",
    "    'one//two//three',\n",
    "    'one/./two/./three',\n",
    "    'one/../alt/two/three',\n",
    "]\n",
    "\n",
    "for path in PATHS:\n",
    "    print('{!r:>30} : {!r}'.format(path, os.path.normpath(path)))"
   ]
  },
  {
   "cell_type": "markdown",
   "metadata": {},
   "source": [
    "### abspath()\n",
    "To convert a relative path to an absolute filename, use abspath()."
   ]
  },
  {
   "cell_type": "code",
   "execution_count": 34,
   "metadata": {
    "collapsed": false
   },
   "outputs": [
    {
     "name": "stdout",
     "output_type": "stream",
     "text": [
      "                  '.' : '/usr'\n",
      "                 '..' : '/'\n",
      "    './one/two/three' : '/usr/one/two/three'\n",
      "   '../one/two/three' : '/one/two/three'\n"
     ]
    }
   ],
   "source": [
    "# ospath_abspath.py\n",
    "import os\n",
    "import os.path\n",
    "\n",
    "os.chdir('/usr')\n",
    "\n",
    "PATHS = [\n",
    "    '.',\n",
    "    '..',\n",
    "    './one/two/three',\n",
    "    '../one/two/three',\n",
    "]\n",
    "\n",
    "for path in PATHS:\n",
    "    print('{!r:>21} : {!r}'.format(path, os.path.abspath(path)))"
   ]
  },
  {
   "cell_type": "markdown",
   "metadata": {},
   "source": [
    "## File Times\n",
    "\n",
    "Besides working with paths, os.path includes functions for retrieving file properties, similar to the ones returned by os.stat():"
   ]
  },
  {
   "cell_type": "code",
   "execution_count": 44,
   "metadata": {
    "collapsed": false
   },
   "outputs": [
    {
     "name": "stdout",
     "output_type": "stream",
     "text": [
      "<class 'NameError'> name '__file__' is not defined\n"
     ]
    }
   ],
   "source": [
    "# ospath_properties.py\n",
    "import os.path\n",
    "import time\n",
    "\n",
    "try:\n",
    "    print('File         :', __file__)\n",
    "    print('Access time  :', time.ctime(os.path.getatime(__file__)))\n",
    "    print('Modified time:', time.ctime(os.path.getmtime(__file__)))\n",
    "    print('Change time  :', time.ctime(os.path.getctime(__file__)))\n",
    "    print('Size         :', os.path.getsize(__file__))\n",
    "except Exception as err:\n",
    "    print(type(err),err)"
   ]
  },
  {
   "cell_type": "markdown",
   "metadata": {},
   "source": [
    "os.path.getatime() returns the access time, os.path.getmtime() returns the modification time, and os.path.getctime() returns the creation time. os.path.getsize() returns the amount of data in the file, represented in bytes.\n",
    "\n",
    "Note: \\__file__ applies to modules and Python scripts, not to notebooks. "
   ]
  },
  {
   "cell_type": "markdown",
   "metadata": {},
   "source": [
    "## Testing Files\n",
    "\n",
    "When a program encounters a path name, it often needs to know whether the path refers to a file, directory, or symlink and whether it exists. os.path includes functions for testing all of these conditions."
   ]
  },
  {
   "cell_type": "code",
   "execution_count": 50,
   "metadata": {
    "collapsed": false
   },
   "outputs": [
    {
     "name": "stdout",
     "output_type": "stream",
     "text": [
      "File        : '/'\n",
      "Absolute    : True\n",
      "Is File?    : False\n",
      "Is Dir?     : True\n",
      "Is Link?    : False\n",
      "Mountpoint? : True\n",
      "Exists?     : True\n",
      "Link Exists?: True\n",
      "\n",
      "File        : './broken_link'\n",
      "Absolute    : False\n",
      "Is File?    : False\n",
      "Is Dir?     : False\n",
      "Is Link?    : False\n",
      "Mountpoint? : False\n",
      "Exists?     : False\n",
      "Link Exists?: False\n",
      "\n"
     ]
    }
   ],
   "source": [
    "# ospath_tests.py\n",
    "import os.path\n",
    "\n",
    "try:\n",
    "    FILENAMES = [\n",
    "#         __file__,\n",
    "#         os.path.dirname(__file__),\n",
    "        '/',\n",
    "        './broken_link',\n",
    "    ]\n",
    "    for file in FILENAMES:\n",
    "        print('File        : {!r}'.format(file))\n",
    "        print('Absolute    :', os.path.isabs(file))\n",
    "        print('Is File?    :', os.path.isfile(file))\n",
    "        print('Is Dir?     :', os.path.isdir(file))\n",
    "        print('Is Link?    :', os.path.islink(file))\n",
    "        print('Mountpoint? :', os.path.ismount(file))\n",
    "        print('Exists?     :', os.path.exists(file))\n",
    "        print('Link Exists?:', os.path.lexists(file))\n",
    "        print()\n",
    "except Exception as err:\n",
    "    print(type(err),err)"
   ]
  }
 ],
 "metadata": {
  "kernelspec": {
   "display_name": "Python 3",
   "language": "python",
   "name": "python3"
  },
  "language_info": {
   "codemirror_mode": {
    "name": "ipython",
    "version": 3
   },
   "file_extension": ".py",
   "mimetype": "text/x-python",
   "name": "python",
   "nbconvert_exporter": "python",
   "pygments_lexer": "ipython3",
   "version": "3.5.2"
  }
 },
 "nbformat": 4,
 "nbformat_minor": 2
}
