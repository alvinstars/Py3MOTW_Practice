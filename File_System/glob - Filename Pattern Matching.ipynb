{
 "cells": [
  {
   "cell_type": "markdown",
   "metadata": {},
   "source": [
    "# glob - Filename Pattern Matching\n",
    "\n",
    "Purpose:\tUse Unix shell rules to find filenames matching a pattern."
   ]
  },
  {
   "cell_type": "markdown",
   "metadata": {},
   "source": [
    "Even though the glob API is small, the module packs a lot of power. It is useful in any situation where a program needs to look for a list of files on the file system with names matching a pattern. To create a list of filenames that all have a certain extension, prefix, or any common string in the middle, use glob instead of writing custom code to scan the directory contents.\n",
    "\n",
    "The pattern rules for glob are not the same as the regular expressions used by the re module. Instead, they follow standard Unix path expansion rules. There are only a few special characters used to implement two different wild-cards and character ranges. The pattern rules are applied to segments of the filename (stopping at the path separator, /). Paths in the pattern can be relative or absolute. Shell variable names and tilde (~) are not expanded."
   ]
  },
  {
   "cell_type": "markdown",
   "metadata": {},
   "source": [
    "## Example Data\n",
    "\n",
    "The examples in this section assume the following test files are present in the current working directory."
   ]
  },
  {
   "cell_type": "code",
   "execution_count": 1,
   "metadata": {
    "collapsed": false
   },
   "outputs": [
    {
     "name": "stdout",
     "output_type": "stream",
     "text": [
      "dir\r\n",
      "├── file*.txt\r\n",
      "├── file.txt\r\n",
      "├── file1.txt\r\n",
      "├── file2.txt\r\n",
      "├── file?.txt\r\n",
      "├── file[.txt\r\n",
      "├── filea.txt\r\n",
      "├── fileb.txt\r\n",
      "└── subdir\r\n",
      "    └── subfile.txt\r\n",
      "\r\n",
      "1 directory, 9 files\r\n"
     ]
    }
   ],
   "source": [
    "!tree dir"
   ]
  },
  {
   "cell_type": "markdown",
   "metadata": {},
   "source": [
    "## Wildcards\n",
    "\n",
    "An asterisk (*) matches zero or more characters in a segment of a name. For example, dir/*.\n",
    "\n",
    "The pattern matches every path name (file or directory) in the directory dir, without recursing further into subdirectories. The data returned by glob() is not sorted, so the examples here sort it to make studying the results easier."
   ]
  },
  {
   "cell_type": "code",
   "execution_count": 2,
   "metadata": {
    "collapsed": false
   },
   "outputs": [
    {
     "name": "stdout",
     "output_type": "stream",
     "text": [
      "dir/file*.txt\n",
      "dir/file.txt\n",
      "dir/file1.txt\n",
      "dir/file2.txt\n",
      "dir/file?.txt\n",
      "dir/file[.txt\n",
      "dir/filea.txt\n",
      "dir/fileb.txt\n",
      "dir/subdir\n"
     ]
    }
   ],
   "source": [
    "# glob_asterisk.py\n",
    "import glob\n",
    "for name in sorted(glob.glob('dir/*')):\n",
    "    print(name)"
   ]
  },
  {
   "cell_type": "markdown",
   "metadata": {},
   "source": [
    "To list files in a subdirectory, the subdirectory must be included in the pattern.\n",
    "\n",
    "The first case shown earlier lists the subdirectory name explicitly, while the second case depends on a wildcard to find the directory."
   ]
  },
  {
   "cell_type": "code",
   "execution_count": 3,
   "metadata": {
    "collapsed": false
   },
   "outputs": [
    {
     "name": "stdout",
     "output_type": "stream",
     "text": [
      "Named explicitly:\n",
      "  dir/subdir/subfile.txt\n",
      "Named with wildcard:\n",
      "  dir/subdir/subfile.txt\n"
     ]
    }
   ],
   "source": [
    "# glob_subdir.py\n",
    "import glob\n",
    "\n",
    "print('Named explicitly:')\n",
    "for name in sorted(glob.glob('dir/subdir/*')):\n",
    "    print('  {}'.format(name))\n",
    "\n",
    "print('Named with wildcard:')\n",
    "for name in sorted(glob.glob('dir/*/*')):\n",
    "    print('  {}'.format(name))"
   ]
  },
  {
   "cell_type": "markdown",
   "metadata": {},
   "source": [
    "## Single Character Wildcard\n",
    "\n",
    "A question mark (?) is another wildcard character. It matches any single character in that position in the name.\n",
    "\n",
    "The previous example matches all of the filenames that begin with file, have one more character of any type, then end with .txt."
   ]
  },
  {
   "cell_type": "code",
   "execution_count": 4,
   "metadata": {
    "collapsed": false
   },
   "outputs": [
    {
     "name": "stdout",
     "output_type": "stream",
     "text": [
      "dir/file*.txt\n",
      "dir/file1.txt\n",
      "dir/file2.txt\n",
      "dir/file?.txt\n",
      "dir/file[.txt\n",
      "dir/filea.txt\n",
      "dir/fileb.txt\n"
     ]
    }
   ],
   "source": [
    "# glob_question.py\n",
    "import glob\n",
    "\n",
    "for name in sorted(glob.glob('dir/file?.txt')):\n",
    "    print(name)"
   ]
  },
  {
   "cell_type": "markdown",
   "metadata": {},
   "source": [
    "## Character Ranges\n",
    "\n",
    "Use a character range ([a-z]) instead of a question mark to match one of several characters. This example finds all of the files with a digit in the name before the extension.\n",
    "\n",
    "The character range [0-9] matches any single digit. The range is ordered based on the character code for each letter/digit, and the dash indicates an unbroken range of sequential characters. The same range value could be written [0123456789]."
   ]
  },
  {
   "cell_type": "code",
   "execution_count": 5,
   "metadata": {
    "collapsed": false
   },
   "outputs": [
    {
     "name": "stdout",
     "output_type": "stream",
     "text": [
      "dir/file1.txt\n",
      "dir/file2.txt\n"
     ]
    }
   ],
   "source": [
    "# glob_charrange.py\n",
    "import glob\n",
    "for name in sorted(glob.glob('dir/*[0-9].*')):\n",
    "    print(name)"
   ]
  },
  {
   "cell_type": "markdown",
   "metadata": {},
   "source": [
    "## Escaping Meta-characters\n",
    "\n",
    "Sometimes it is necessary to search for files with names containing the special meta-characters glob uses for its patterns. The escape() function builds a suitable pattern with the special characters “escaped” so they are not expanded or interpreted as special by glob.\n",
    "\n",
    "Each special character is escaped by building a character range containing a single entry."
   ]
  },
  {
   "cell_type": "code",
   "execution_count": 6,
   "metadata": {
    "collapsed": false
   },
   "outputs": [
    {
     "name": "stdout",
     "output_type": "stream",
     "text": [
      "Searching for: 'dir/*[?].txt'\n",
      "dir/file?.txt\n",
      "\n",
      "Searching for: 'dir/*[*].txt'\n",
      "dir/file*.txt\n",
      "\n",
      "Searching for: 'dir/*[[].txt'\n",
      "dir/file[.txt\n",
      "\n"
     ]
    }
   ],
   "source": [
    "# glob_escape.py\n",
    "import glob\n",
    "\n",
    "specials = '?*['\n",
    "\n",
    "for char in specials:\n",
    "    pattern = 'dir/*' + glob.escape(char) + '.txt'\n",
    "    print('Searching for: {!r}'.format(pattern))\n",
    "    for name in sorted(glob.glob(pattern)):\n",
    "        print(name)\n",
    "    print()"
   ]
  }
 ],
 "metadata": {
  "kernelspec": {
   "display_name": "Python 3",
   "language": "python",
   "name": "python3"
  },
  "language_info": {
   "codemirror_mode": {
    "name": "ipython",
    "version": 3
   },
   "file_extension": ".py",
   "mimetype": "text/x-python",
   "name": "python",
   "nbconvert_exporter": "python",
   "pygments_lexer": "ipython3",
   "version": "3.5.2"
  }
 },
 "nbformat": 4,
 "nbformat_minor": 2
}
