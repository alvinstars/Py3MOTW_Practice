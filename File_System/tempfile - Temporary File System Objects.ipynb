{
 "cells": [
  {
   "cell_type": "markdown",
   "metadata": {},
   "source": [
    "# tempfile - Temporary File System Objects\n",
    "\n",
    "Purpose:\tCreate temporary file system objects.\n",
    "    \n",
    "Creating temporary files with unique names securely, so they cannot be guessed by someone wanting to break the application or steal the data, is challenging. The tempfile module provides several functions for creating temporary file system resources securely. TemporaryFile() opens and returns an unnamed file, NamedTemporaryFile() opens and returns a named file, SpooledTemporaryFile holds its content in memory before writing to disk, and TemporaryDirectory is a context manager that removes the directory when the context is closed."
   ]
  },
  {
   "cell_type": "markdown",
   "metadata": {},
   "source": [
    "## Temporary Files\n",
    "\n",
    "Applications that need temporary files to store data, without needing to share that file with other programs, should use the TemporaryFile() function to create the files. The function creates a file, and on platforms where it is possible, unlinks it immediately. This makes it impossible for another program to find or open the file, since there is no reference to it in the file system table. The file created by TemporaryFile() is removed automatically when it is closed, whether by calling close() or by using the context manager API and with statement.\n",
    "\n",
    "This example illustrates the difference in creating a temporary file using a common pattern for making up a name, versus using the TemporaryFile() function. The file returned by TemporaryFile() has no name."
   ]
  },
  {
   "cell_type": "code",
   "execution_count": 1,
   "metadata": {
    "collapsed": false
   },
   "outputs": [
    {
     "name": "stdout",
     "output_type": "stream",
     "text": [
      "Building a filename with PID:\n",
      "temp:\n",
      "  <_io.BufferedRandom name='/tmp/guess_my_name.14591.txt'>\n",
      "temp.name:\n",
      "  '/tmp/guess_my_name.14591.txt'\n",
      "\n",
      "TemporaryFile:\n",
      "temp:\n",
      "  <_io.BufferedRandom name=54>\n",
      "temp.name:\n",
      "  54\n"
     ]
    }
   ],
   "source": [
    "# tempfile_TemporaryFile.py\n",
    "import os\n",
    "import tempfile\n",
    "\n",
    "print('Building a filename with PID:')\n",
    "filename = '/tmp/guess_my_name.{}.txt'.format(os.getpid())\n",
    "with open(filename, 'w+b') as temp:\n",
    "    print('temp:')\n",
    "    print('  {!r}'.format(temp))\n",
    "    print('temp.name:')\n",
    "    print('  {!r}'.format(temp.name))\n",
    "\n",
    "# Clean up the temporary file yourself.\n",
    "os.remove(filename)\n",
    "\n",
    "print()\n",
    "print('TemporaryFile:')\n",
    "with tempfile.TemporaryFile() as temp:\n",
    "    print('temp:')\n",
    "    print('  {!r}'.format(temp))\n",
    "    print('temp.name:')\n",
    "    print('  {!r}'.format(temp.name))\n",
    "\n",
    "# Automatically cleans up the file."
   ]
  },
  {
   "cell_type": "markdown",
   "metadata": {},
   "source": [
    "By default, the file handle is created with mode 'w+b' so it behaves consistently on all platforms and the caller can write to it and read from it.\n",
    "\n",
    "After writing, the file handle must be “rewound” using seek() in order to read the data back from it."
   ]
  },
  {
   "cell_type": "code",
   "execution_count": 2,
   "metadata": {
    "collapsed": false
   },
   "outputs": [
    {
     "name": "stdout",
     "output_type": "stream",
     "text": [
      "b'Some data'\n"
     ]
    }
   ],
   "source": [
    "# tempfile_TemporaryFile_binary.py\n",
    "import os\n",
    "import tempfile\n",
    "\n",
    "with tempfile.TemporaryFile() as temp:\n",
    "    temp.write(b'Some data')\n",
    "\n",
    "    temp.seek(0)\n",
    "    print(temp.read())"
   ]
  },
  {
   "cell_type": "markdown",
   "metadata": {},
   "source": [
    "To open the file in text mode, set mode to 'w+t' when the file is created.\n",
    "\n",
    "The file handle treats the data as text."
   ]
  },
  {
   "cell_type": "code",
   "execution_count": 3,
   "metadata": {
    "collapsed": false
   },
   "outputs": [
    {
     "name": "stdout",
     "output_type": "stream",
     "text": [
      "first\n",
      "second\n"
     ]
    }
   ],
   "source": [
    "# tempfile_TemporaryFile_text.py\n",
    "import tempfile\n",
    "\n",
    "with tempfile.TemporaryFile(mode='w+t') as f:\n",
    "    f.writelines(['first\\n', 'second\\n'])\n",
    "\n",
    "    f.seek(0)\n",
    "    for line in f:\n",
    "        print(line.rstrip())"
   ]
  },
  {
   "cell_type": "markdown",
   "metadata": {},
   "source": [
    "## Named Files\n",
    "\n",
    "There are situations where having a named temporary file is important. For applications spanning multiple processes, or even hosts, naming the file is the simplest way to pass it between parts of the application. The NamedTemporaryFile() function creates a file without unlinking it, so it retains its name (accessed with the name attribute).\n",
    "\n",
    "The file is removed after the handle is closed."
   ]
  },
  {
   "cell_type": "code",
   "execution_count": 4,
   "metadata": {
    "collapsed": false
   },
   "outputs": [
    {
     "name": "stdout",
     "output_type": "stream",
     "text": [
      "temp:\n",
      "  <tempfile._TemporaryFileWrapper object at 0x10feff278>\n",
      "temp.name:\n",
      "  '/var/folders/8z/v67zc7yn2k53742g78kd9__00000gn/T/tmpubgm40l7'\n",
      "Exists after close: False\n"
     ]
    }
   ],
   "source": [
    "# tempfile_NamedTemporaryFile.py\n",
    "import os\n",
    "import pathlib\n",
    "import tempfile\n",
    "\n",
    "with tempfile.NamedTemporaryFile() as temp:\n",
    "    print('temp:')\n",
    "    print('  {!r}'.format(temp))\n",
    "    print('temp.name:')\n",
    "    print('  {!r}'.format(temp.name))\n",
    "\n",
    "    f = pathlib.Path(temp.name)\n",
    "\n",
    "print('Exists after close:', f.exists())"
   ]
  },
  {
   "cell_type": "markdown",
   "metadata": {},
   "source": [
    "## Spooled Files\n",
    "\n",
    "For temporary files containing relatively small amounts of data, it is likely to be more efficient to use a SpooledTemporaryFile because it holds the file contents in memory using a io.BytesIO or io.StringIO buffer until they reach a threshold size. When the amount of data passes the threshold, it is “rolled over” and written to disk, and then the buffer is replaced with a normal TemporaryFile().\n",
    "\n",
    "This example uses private attributes of the SpooledTemporaryFile to determine when the rollover to disk has happened. It is not normally necessary to check this status except when tuning the buffer size."
   ]
  },
  {
   "cell_type": "code",
   "execution_count": 5,
   "metadata": {
    "collapsed": false
   },
   "outputs": [
    {
     "name": "stdout",
     "output_type": "stream",
     "text": [
      "temp: <tempfile.SpooledTemporaryFile object at 0x10ff9bb38>\n",
      "False <_io.StringIO object at 0x10fe3a168>\n",
      "False <_io.StringIO object at 0x10fe3a168>\n",
      "True <_io.TextIOWrapper name=55 mode='w+t' encoding='utf-8'>\n"
     ]
    }
   ],
   "source": [
    "# tempfile_SpooledTemporaryFile.py\n",
    "import tempfile\n",
    "\n",
    "with tempfile.SpooledTemporaryFile(max_size=100,\n",
    "                                   mode='w+t',\n",
    "                                   encoding='utf-8') as temp:\n",
    "    print('temp: {!r}'.format(temp))\n",
    "\n",
    "    for i in range(3):\n",
    "        temp.write('This line is repeated over and over.\\n')\n",
    "        print(temp._rolled, temp._file)"
   ]
  },
  {
   "cell_type": "markdown",
   "metadata": {},
   "source": [
    "To explicitly cause the buffer to be written to disk, call the rollover() or fileno() methods.\n",
    "\n",
    "In this example, because the buffer size is so much larger than the amount of data, no file would be created on disk except that rollover() was called."
   ]
  },
  {
   "cell_type": "code",
   "execution_count": 6,
   "metadata": {
    "collapsed": false
   },
   "outputs": [
    {
     "name": "stdout",
     "output_type": "stream",
     "text": [
      "temp: <tempfile.SpooledTemporaryFile object at 0x10ffa91d0>\n",
      "False <_io.StringIO object at 0x10fe47a68>\n",
      "False <_io.StringIO object at 0x10fe47a68>\n",
      "False <_io.StringIO object at 0x10fe47a68>\n",
      "rolling over\n",
      "True <_io.TextIOWrapper name=55 mode='w+t' encoding='utf-8'>\n"
     ]
    }
   ],
   "source": [
    "# tempfile_SpooledTemporaryFile_explicit.py\n",
    "import tempfile\n",
    "\n",
    "with tempfile.SpooledTemporaryFile(max_size=1000,\n",
    "                                   mode='w+t',\n",
    "                                   encoding='utf-8') as temp:\n",
    "    print('temp: {!r}'.format(temp))\n",
    "\n",
    "    for i in range(3):\n",
    "        temp.write('This line is repeated over and over.\\n')\n",
    "        print(temp._rolled, temp._file)\n",
    "    print('rolling over')\n",
    "    temp.rollover()\n",
    "    print(temp._rolled, temp._file)"
   ]
  },
  {
   "cell_type": "markdown",
   "metadata": {},
   "source": [
    "## Temporary Directories\n",
    "\n",
    "When several temporary files are needed, it may be more convenient to create a single temporary directory with TemporaryDirectory and open all of the files in that directory.\n",
    "\n",
    "The context manager produces the name of the directory, which can then be used within the context block to build other file names."
   ]
  },
  {
   "cell_type": "code",
   "execution_count": 7,
   "metadata": {
    "collapsed": false
   },
   "outputs": [
    {
     "name": "stdout",
     "output_type": "stream",
     "text": [
      "/var/folders/8z/v67zc7yn2k53742g78kd9__00000gn/T/tmpcehioyox\n",
      "Directory exists after? False\n",
      "Contents after: []\n"
     ]
    }
   ],
   "source": [
    "# tempfile_TemporaryDirectory.py\n",
    "import pathlib\n",
    "import tempfile\n",
    "\n",
    "with tempfile.TemporaryDirectory() as directory_name:\n",
    "    the_dir = pathlib.Path(directory_name)\n",
    "    print(the_dir)\n",
    "    a_file = the_dir / 'a_file.txt'\n",
    "    a_file.write_text('This file is deleted.')\n",
    "\n",
    "print('Directory exists after?', the_dir.exists())\n",
    "print('Contents after:', list(the_dir.glob('*')))"
   ]
  },
  {
   "cell_type": "markdown",
   "metadata": {},
   "source": [
    "## Predicting Names\n",
    "\n",
    "While less secure than strictly anonymous temporary files, including a predictable portion in the name makes it possible to find the file and examine it for debugging purposes. All of the functions described so far take three arguments to control the filenames to some degree. Names are generated using the formula:\n",
    "\n",
    "dir + prefix + random + suffix\n",
    "\n",
    "All of the values except random can be passed as arguments to the functions for creating temporary files or directories.\n",
    "\n",
    "The prefix and suffix arguments are combined with a random string of characters to build the filename, and the dir argument is taken as-is and used as the location of the new file."
   ]
  },
  {
   "cell_type": "code",
   "execution_count": 8,
   "metadata": {
    "collapsed": false
   },
   "outputs": [
    {
     "name": "stdout",
     "output_type": "stream",
     "text": [
      "temp:\n",
      "   <tempfile._TemporaryFileWrapper object at 0x10ffa9eb8>\n",
      "temp.name:\n",
      "   /tmp/prefix_bmzl8mit_suffix\n"
     ]
    }
   ],
   "source": [
    "# tempfile_NamedTemporaryFile_args.py\n",
    "import tempfile\n",
    "\n",
    "with tempfile.NamedTemporaryFile(suffix='_suffix',\n",
    "                                 prefix='prefix_',\n",
    "                                 dir='/tmp') as temp:\n",
    "    print('temp:')\n",
    "    print('  ', temp)\n",
    "    print('temp.name:')\n",
    "    print('  ', temp.name)"
   ]
  },
  {
   "cell_type": "markdown",
   "metadata": {},
   "source": [
    "## Temporary File Location\n",
    "\n",
    "If an explicit destination is not given using the dir argument, the path used for the temporary files will vary based on the current platform and settings. The tempfile module includes two functions for querying the settings being used at runtime.\n",
    "\n",
    "gettempdir() returns the default directory that will hold all of the temporary files and gettempprefix() returns the string prefix for new file and directory names."
   ]
  },
  {
   "cell_type": "code",
   "execution_count": 9,
   "metadata": {
    "collapsed": false
   },
   "outputs": [
    {
     "name": "stdout",
     "output_type": "stream",
     "text": [
      "gettempdir(): /var/folders/8z/v67zc7yn2k53742g78kd9__00000gn/T\n",
      "gettempprefix(): tmp\n"
     ]
    }
   ],
   "source": [
    "# tempfile_settings.py\n",
    "import tempfile\n",
    "\n",
    "print('gettempdir():', tempfile.gettempdir())\n",
    "print('gettempprefix():', tempfile.gettempprefix())"
   ]
  },
  {
   "cell_type": "markdown",
   "metadata": {},
   "source": [
    "The value returned by gettempdir() is set based on a straightforward algorithm of looking through a list of locations for the first place the current process can create a file. The search list is:\n",
    "\n",
    "* The environment variable TMPDIR\n",
    "* The environment variable TEMP\n",
    "* The environment variable TMP\n",
    "* A fallback, based on the platform. (Windows uses the first available of C:\\temp, C:\\tmp, \\temp, or \\tmp. Other platforms use /tmp, /var/tmp, or /usr/tmp.)\n",
    "* If no other directory can be found, the current working directory is used.\n",
    "\n",
    "Programs that need to use a global location for all temporary files without using any of these environment variables should set tempfile.tempdir directly by assigning a value to the variable.\n"
   ]
  },
  {
   "cell_type": "code",
   "execution_count": 10,
   "metadata": {
    "collapsed": false
   },
   "outputs": [
    {
     "name": "stdout",
     "output_type": "stream",
     "text": [
      "gettempdir(): /I/changed/this/path\n"
     ]
    }
   ],
   "source": [
    "# tempfile_tempdir.py\n",
    "import tempfile\n",
    "\n",
    "tempfile.tempdir = '/I/changed/this/path'\n",
    "print('gettempdir():', tempfile.gettempdir())"
   ]
  }
 ],
 "metadata": {
  "kernelspec": {
   "display_name": "Python 3",
   "language": "python",
   "name": "python3"
  },
  "language_info": {
   "codemirror_mode": {
    "name": "ipython",
    "version": 3
   },
   "file_extension": ".py",
   "mimetype": "text/x-python",
   "name": "python",
   "nbconvert_exporter": "python",
   "pygments_lexer": "ipython3",
   "version": "3.6.0"
  }
 },
 "nbformat": 4,
 "nbformat_minor": 2
}
