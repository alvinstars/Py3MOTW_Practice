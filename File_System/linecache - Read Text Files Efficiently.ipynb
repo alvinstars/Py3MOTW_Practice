{
 "cells": [
  {
   "cell_type": "markdown",
   "metadata": {},
   "source": [
    "# linecache - Read Text Files Efficiently\n",
    "\n",
    "Purpose:\tRetrieve lines of text from files or imported Python modules, holding a cache of the results to make reading many lines from the same file more efficient.\n",
    "\n",
    "The linecache module is used within other parts of the Python standard library when dealing with Python source files. The implementation of the cache holds the contents of files, parsed into separate lines, in memory. The API returns the requested line(s) by indexing into a list, and saves time over repeatedly reading the file and parsing lines to find the one desired. This is especially useful when looking for multiple lines from the same file, such as when producing a traceback for an error report."
   ]
  },
  {
   "cell_type": "markdown",
   "metadata": {},
   "source": [
    "## Test Data\n",
    "\n",
    "This text produced by a Lorem Ipsum generator is used as sample input."
   ]
  },
  {
   "cell_type": "raw",
   "metadata": {},
   "source": [
    "# linecache_data.py\n",
    "import os\n",
    "import tempfile\n",
    "\n",
    "lorem = '''Lorem ipsum dolor sit amet, consectetuer\n",
    "adipiscing elit.  Vivamus eget elit. In posuere mi non\n",
    "risus. Mauris id quam posuere lectus sollicitudin\n",
    "varius. Praesent at mi. Nunc eu velit. Sed augue massa,\n",
    "fermentum id, nonummy a, nonummy sit amet, ligula. Curabitur\n",
    "eros pede, egestas at, ultricies ac, apellentesque eu,\n",
    "tellus.\n",
    "\n",
    "Sed sed odio sed mi luctus mollis. Integer et nulla ac augue\n",
    "convallis accumsan. Ut felis. Donec lectus sapien, elementum\n",
    "nec, condimentum ac, interdum non, tellus. Aenean viverra,\n",
    "mauris vehicula semper porttitor, ipsum odio consectetuer\n",
    "lorem, ac imperdiet eros odio a sapien. Nulla mauris tellus,\n",
    "aliquam non, egestas a, nonummy et, erat. Vivamus sagittis\n",
    "porttitor eros.'''\n",
    "\n",
    "\n",
    "def make_tempfile():\n",
    "    fd, temp_file_name = tempfile.mkstemp()\n",
    "    os.close(fd)\n",
    "    with open(temp_file_name, 'wt') as f:\n",
    "        f.write(lorem)\n",
    "    return temp_file_name\n",
    "\n",
    "\n",
    "def cleanup(filename):\n",
    "    os.unlink(filename)"
   ]
  },
  {
   "cell_type": "markdown",
   "metadata": {},
   "source": [
    "## Reading Specific Lines\n",
    "\n",
    "The line numbers of files read by the linecache module start with 1, but normally lists start indexing the array from 0.\n",
    "\n",
    "Each line returned includes a trailing newline."
   ]
  },
  {
   "cell_type": "code",
   "execution_count": 1,
   "metadata": {
    "collapsed": false
   },
   "outputs": [
    {
     "name": "stdout",
     "output_type": "stream",
     "text": [
      "SOURCE:\n",
      "'fermentum id, nonummy a, nonummy sit amet, ligula. Curabitur'\n",
      "\n",
      "CACHE:\n",
      "'fermentum id, nonummy a, nonummy sit amet, ligula. Curabitur\\n'\n"
     ]
    }
   ],
   "source": [
    "# linecache_getline.py\n",
    "import linecache\n",
    "from linecache_data import *\n",
    "\n",
    "filename = make_tempfile()\n",
    "\n",
    "# Pick out the same line from source and cache.\n",
    "# (Notice that linecache counts from 1)\n",
    "print('SOURCE:')\n",
    "print('{!r}'.format(lorem.split('\\n')[4]))\n",
    "print()\n",
    "print('CACHE:')\n",
    "print('{!r}'.format(linecache.getline(filename, 5)))\n",
    "\n",
    "cleanup(filename)"
   ]
  },
  {
   "cell_type": "markdown",
   "metadata": {},
   "source": [
    "## Handling Blank Lines\n",
    "\n",
    "The return value always includes the newline at the end of the line, so if the line is empty the return value is just the newline.\n",
    "\n",
    "Line eight of the input file contains no text."
   ]
  },
  {
   "cell_type": "code",
   "execution_count": 2,
   "metadata": {
    "collapsed": false
   },
   "outputs": [
    {
     "name": "stdout",
     "output_type": "stream",
     "text": [
      "BLANK : '\\n'\n"
     ]
    }
   ],
   "source": [
    "# linecache_empty_line.py\n",
    "import linecache\n",
    "from linecache_data import *\n",
    "\n",
    "filename = make_tempfile()\n",
    "\n",
    "# Blank lines include the newline\n",
    "print('BLANK : {!r}'.format(linecache.getline(filename, 8)))\n",
    "\n",
    "cleanup(filename)"
   ]
  },
  {
   "cell_type": "markdown",
   "metadata": {},
   "source": [
    "## Error Handling\n",
    "\n",
    "If the requested line number falls out of the range of valid lines in the file, getline() returns an empty string.\n",
    "\n",
    "The input file only has 15 lines, so requesting line 500 is like trying to read past the end of the file."
   ]
  },
  {
   "cell_type": "code",
   "execution_count": 3,
   "metadata": {
    "collapsed": false
   },
   "outputs": [
    {
     "name": "stdout",
     "output_type": "stream",
     "text": [
      "NOT THERE: '' includes 0 characters\n"
     ]
    }
   ],
   "source": [
    "# linecache_out_of_range.py\n",
    "import linecache\n",
    "from linecache_data import *\n",
    "\n",
    "filename = make_tempfile()\n",
    "\n",
    "# The cache always returns a string, and uses\n",
    "# an empty string to indicate a line which does\n",
    "# not exist.\n",
    "not_there = linecache.getline(filename, 500)\n",
    "print('NOT THERE: {!r} includes {} characters'.format(\n",
    "    not_there, len(not_there)))\n",
    "\n",
    "cleanup(filename)"
   ]
  },
  {
   "cell_type": "markdown",
   "metadata": {},
   "source": [
    "Reading from a file that does not exist is handled in the same way.\n",
    "\n",
    "The module never raises an exception when the caller tries to read data."
   ]
  },
  {
   "cell_type": "code",
   "execution_count": 4,
   "metadata": {
    "collapsed": false
   },
   "outputs": [
    {
     "name": "stdout",
     "output_type": "stream",
     "text": [
      "NO FILE: ''\n"
     ]
    }
   ],
   "source": [
    "# inecache_missing_file.py\n",
    "import linecache\n",
    "\n",
    "# Errors are even hidden if linecache cannot find the file\n",
    "no_such_file = linecache.getline(\n",
    "    'this_file_does_not_exist.txt', 1,\n",
    ")\n",
    "print('NO FILE: {!r}'.format(no_such_file))"
   ]
  },
  {
   "cell_type": "markdown",
   "metadata": {},
   "source": [
    "## Reading Python Source Files\n",
    "\n",
    "Since linecache is used so heavily when producing tracebacks, one of its key features is the ability to find Python source modules in the import path by specifying the base name of the module.\n",
    "\n",
    "The cache population code in linecache searches sys.path for the named module if it cannot find a file with that name in the current directory. This example looks for linecache.py. Since there is no copy in the current directory, the file from the standard library is found instead."
   ]
  },
  {
   "cell_type": "code",
   "execution_count": 5,
   "metadata": {
    "collapsed": false
   },
   "outputs": [
    {
     "name": "stdout",
     "output_type": "stream",
     "text": [
      "MODULE:\n",
      "'This is intended to read lines from modules imported -- hence if a filename\\n'\n",
      "\n",
      "file_src:\n",
      "/Users/binyang/anaconda/lib/python3.6/linecache.py\n",
      "\n",
      "FILE:\n",
      "'This is intended to read lines from modules imported -- hence if a filename\\n'\n"
     ]
    }
   ],
   "source": [
    "# linecache_path_search.py\n",
    "import linecache\n",
    "import os\n",
    "\n",
    "# Look for the linecache module, using\n",
    "# the built in sys.path search.\n",
    "module_line = linecache.getline('linecache.py',3)\n",
    "print('MODULE:')\n",
    "print(repr(module_line))\n",
    "\n",
    "# Look at the linecache module source directly.\n",
    "file_src = linecache.__file__\n",
    "\n",
    "print('\\nfile_src:')\n",
    "print(file_src)\n",
    "\n",
    "if file_src.endswith('.pyc'):\n",
    "    file_src = file_src[:-1]\n",
    "print('\\nFILE:')\n",
    "with open(file_src, 'r') as f:\n",
    "    file_line = f.readlines()[2]\n",
    "print(repr(file_line))"
   ]
  }
 ],
 "metadata": {
  "kernelspec": {
   "display_name": "Python 3",
   "language": "python",
   "name": "python3"
  },
  "language_info": {
   "codemirror_mode": {
    "name": "ipython",
    "version": 3
   },
   "file_extension": ".py",
   "mimetype": "text/x-python",
   "name": "python",
   "nbconvert_exporter": "python",
   "pygments_lexer": "ipython3",
   "version": "3.6.0"
  }
 },
 "nbformat": 4,
 "nbformat_minor": 2
}
