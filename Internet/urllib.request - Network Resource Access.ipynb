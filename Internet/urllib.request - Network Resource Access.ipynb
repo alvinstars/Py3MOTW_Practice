{
 "cells": [
  {
   "cell_type": "markdown",
   "metadata": {},
   "source": [
    "# urllib.request - Network Resource Access\n",
    "\n",
    "Purpose:\tA library for opening URLs that can be extended by defining custom protocol handlers.\n",
    "\n",
    "The urllib.request module provides an API for using Internet resources identified by URLs. It is designed to be extended by individual applications to support new protocols or add variations to existing protocols (such as handling HTTP basic authentication)."
   ]
  },
  {
   "cell_type": "markdown",
   "metadata": {},
   "source": [
    "## HTTP GET"
   ]
  },
  {
   "cell_type": "markdown",
   "metadata": {},
   "source": [
    "#### Note\n",
    "The test server for these examples is in http_server_GET.py, from the examples for the http.server module. Start the server in one terminal window, then run these examples in another."
   ]
  },
  {
   "cell_type": "markdown",
   "metadata": {},
   "source": [
    "An HTTP GET operation is the simplest use of urllib.request. Pass the URL to urlopen() to get a “file-like” handle to the remote data."
   ]
  },
  {
   "cell_type": "code",
   "execution_count": 1,
   "metadata": {
    "collapsed": false
   },
   "outputs": [
    {
     "name": "stdout",
     "output_type": "stream",
     "text": [
      "RESPONSE: <http.client.HTTPResponse object at 0x103c825c0>\n",
      "URL     : http://localhost:8080/\n",
      "DATE    : Thu, 18 May 2017 03:40:29 GMT\n",
      "HEADERS :\n",
      "---------\n",
      "Server: BaseHTTP/0.6 Python/3.5.1\n",
      "Date: Thu, 18 May 2017 03:40:29 GMT\n",
      "Content-Type: text/plain; charset=utf-8\n",
      "\n",
      "\n",
      "LENGTH  : 349\n",
      "DATA    :\n",
      "---------\n",
      "CLIENT VALUES:\r\n",
      "client_address=('127.0.0.1', 49559) (127.0.0.1)\r\n",
      "command=GET\r\n",
      "path=/\r\n",
      "real path=/\r\n",
      "query=\r\n",
      "request_version=HTTP/1.1\r\n",
      "\r\n",
      "SERVER VALUES:\r\n",
      "server_version=BaseHTTP/0.6\r\n",
      "sys_version=Python/3.5.1\r\n",
      "protocol_version=HTTP/1.0\r\n",
      "\r\n",
      "HEADERS RECEIVED:\r\n",
      "Accept-Encoding=identity\r\n",
      "Connection=close\r\n",
      "Host=localhost:8080\r\n",
      "User-Agent=Python-urllib/3.5\r\n",
      "\n"
     ]
    }
   ],
   "source": [
    "# urllib_request_urlopen.py\n",
    "from urllib import request\n",
    "\n",
    "response = request.urlopen('http://localhost:8080/')\n",
    "print('RESPONSE:', response)\n",
    "print('URL     :', response.geturl())\n",
    "\n",
    "headers = response.info()\n",
    "print('DATE    :', headers['date'])\n",
    "print('HEADERS :')\n",
    "print('---------')\n",
    "print(headers)\n",
    "\n",
    "data = response.read().decode('utf-8')\n",
    "print('LENGTH  :', len(data))\n",
    "print('DATA    :')\n",
    "print('---------')\n",
    "print(data)"
   ]
  },
  {
   "cell_type": "markdown",
   "metadata": {},
   "source": [
    "The file-like object returned by urlopen() is iterable:\n",
    "    \n",
    "This example strips the trailing newlines and carriage returns before printing the output."
   ]
  },
  {
   "cell_type": "code",
   "execution_count": 2,
   "metadata": {
    "collapsed": false
   },
   "outputs": [
    {
     "name": "stdout",
     "output_type": "stream",
     "text": [
      "CLIENT VALUES:\n",
      "client_address=('127.0.0.1', 49561) (127.0.0.1)\n",
      "command=GET\n",
      "path=/\n",
      "real path=/\n",
      "query=\n",
      "request_version=HTTP/1.1\n",
      "\n",
      "SERVER VALUES:\n",
      "server_version=BaseHTTP/0.6\n",
      "sys_version=Python/3.5.1\n",
      "protocol_version=HTTP/1.0\n",
      "\n",
      "HEADERS RECEIVED:\n",
      "Accept-Encoding=identity\n",
      "Connection=close\n",
      "Host=localhost:8080\n",
      "User-Agent=Python-urllib/3.5\n"
     ]
    }
   ],
   "source": [
    "# urllib_request_urlopen_iterator.py\n",
    "from urllib import request\n",
    "\n",
    "response = request.urlopen('http://localhost:8080/')\n",
    "for line in response:\n",
    "    print(line.decode('utf-8').rstrip())"
   ]
  },
  {
   "cell_type": "markdown",
   "metadata": {},
   "source": [
    "## Encoding Arguments\n",
    "\n",
    "Arguments can be passed to the server by encoding them with urllib.parse.urlencode() and appending them to the URL.\n",
    "\n",
    "The list of client values returned in the example output contains the encoded query arguments."
   ]
  },
  {
   "cell_type": "code",
   "execution_count": 3,
   "metadata": {
    "collapsed": false
   },
   "outputs": [
    {
     "name": "stdout",
     "output_type": "stream",
     "text": [
      "Encoded: q=query+string&foo=bar\n",
      "CLIENT VALUES:\r\n",
      "client_address=('127.0.0.1', 49563) (127.0.0.1)\r\n",
      "command=GET\r\n",
      "path=/?q=query+string&foo=bar\r\n",
      "real path=/\r\n",
      "query=q=query+string&foo=bar\r\n",
      "request_version=HTTP/1.1\r\n",
      "\r\n",
      "SERVER VALUES:\r\n",
      "server_version=BaseHTTP/0.6\r\n",
      "sys_version=Python/3.5.1\r\n",
      "protocol_version=HTTP/1.0\r\n",
      "\r\n",
      "HEADERS RECEIVED:\r\n",
      "Accept-Encoding=identity\r\n",
      "Connection=close\r\n",
      "Host=localhost:8080\r\n",
      "User-Agent=Python-urllib/3.5\r\n",
      "\n"
     ]
    }
   ],
   "source": [
    "# urllib_request_http_get_args.py\n",
    "from urllib import parse\n",
    "from urllib import request\n",
    "\n",
    "query_args = {'q': 'query string', 'foo': 'bar'}\n",
    "encoded_args = parse.urlencode(query_args)\n",
    "print('Encoded:', encoded_args)\n",
    "\n",
    "url = 'http://localhost:8080/?' + encoded_args\n",
    "print(request.urlopen(url).read().decode('utf-8'))"
   ]
  },
  {
   "cell_type": "markdown",
   "metadata": {},
   "source": [
    "## HTTP POST"
   ]
  },
  {
   "cell_type": "markdown",
   "metadata": {},
   "source": [
    "#### Note\n",
    "The test server for these examples is in http_server_POST.py, from the examples for the http.server module. Start the server in one terminal window, then run these examples in another."
   ]
  },
  {
   "cell_type": "markdown",
   "metadata": {},
   "source": [
    "To send form-encoded data to the remote server using POST instead GET, pass the encoded query arguments as data to urlopen().\n",
    "\n",
    "The server can decode the form data and access the individual values by name."
   ]
  },
  {
   "cell_type": "code",
   "execution_count": 4,
   "metadata": {
    "collapsed": false
   },
   "outputs": [
    {
     "name": "stdout",
     "output_type": "stream",
     "text": [
      "Client: ('127.0.0.1', 49565)\n",
      "User-agent: Python-urllib/3.5\n",
      "Path: /\n",
      "Form data:\n",
      "\tfoo=bar\n",
      "\tq=query string\n",
      "\n"
     ]
    }
   ],
   "source": [
    "# urllib_request_urlopen_post.py\n",
    "from urllib import parse\n",
    "from urllib import request\n",
    "\n",
    "query_args = {'q': 'query string', 'foo': 'bar'}\n",
    "encoded_args = parse.urlencode(query_args).encode('utf-8')\n",
    "url = 'http://localhost:8081/'\n",
    "print(request.urlopen(url, encoded_args).read().decode('utf-8'))"
   ]
  },
  {
   "cell_type": "markdown",
   "metadata": {},
   "source": [
    "## Adding Outgoing Headers\n",
    "\n",
    "urlopen() is a convenience function that hides some of the details of how the request is made and handled. More precise control is possible by using a Request instance directly. For example, custom headers can be added to the outgoing request to control the format of data returned, specify the version of a document cached locally, and tell the remote server the name of the software client communicating with it.\n",
    "\n",
    "As the output from the earlier examples shows, the default User-agent header value is made up of the constant Python-urllib, followed by the Python interpreter version. When creating an application that will access web resources owned by someone else, it is courteous to include real user agent information in the requests, so they can identify the source of the hits more easily. Using a custom agent also allows them to control crawlers using a robots.txt file (see the http.robotparser module).\n",
    "\n",
    "After creating a Request object, use add_header() to set the user agent value before opening the request. The last line of the output shows the custom value."
   ]
  },
  {
   "cell_type": "code",
   "execution_count": 5,
   "metadata": {
    "collapsed": false
   },
   "outputs": [
    {
     "name": "stdout",
     "output_type": "stream",
     "text": [
      "CLIENT VALUES:\r\n",
      "client_address=('127.0.0.1', 49567) (127.0.0.1)\r\n",
      "command=GET\r\n",
      "path=/\r\n",
      "real path=/\r\n",
      "query=\r\n",
      "request_version=HTTP/1.1\r\n",
      "\r\n",
      "SERVER VALUES:\r\n",
      "server_version=BaseHTTP/0.6\r\n",
      "sys_version=Python/3.5.1\r\n",
      "protocol_version=HTTP/1.0\r\n",
      "\r\n",
      "HEADERS RECEIVED:\r\n",
      "Accept-Encoding=identity\r\n",
      "Connection=close\r\n",
      "Host=localhost:8080\r\n",
      "User-Agent=PyMOTW (https://pymotw.com/)\r\n",
      "\n"
     ]
    }
   ],
   "source": [
    "# urllib_request_request_header.py\n",
    "from urllib import request\n",
    "\n",
    "r = request.Request('http://localhost:8080/')\n",
    "r.add_header(\n",
    "    'User-agent',\n",
    "    'PyMOTW (https://pymotw.com/)',\n",
    ")\n",
    "\n",
    "response = request.urlopen(r)\n",
    "data = response.read().decode('utf-8')\n",
    "print(data)"
   ]
  },
  {
   "cell_type": "markdown",
   "metadata": {},
   "source": [
    "## Posting Form Data from a Request\n",
    "\n",
    "The outgoing data can be specified when building the Request to have it posted to the server\n",
    "\n",
    "The HTTP method used by the Request changes from GET to POST automatically after the data is added."
   ]
  },
  {
   "cell_type": "code",
   "execution_count": 6,
   "metadata": {
    "collapsed": false
   },
   "outputs": [
    {
     "name": "stdout",
     "output_type": "stream",
     "text": [
      "Request method : POST\n",
      "\n",
      "OUTGOING DATA:\n",
      "b'q=query+string&foo=bar'\n",
      "\n",
      "SERVER RESPONSE:\n",
      "Client: ('127.0.0.1', 49569)\n",
      "User-agent: PyMOTW (https://pymotw.com/)\n",
      "Path: /\n",
      "Form data:\n",
      "\tfoo=bar\n",
      "\tq=query string\n",
      "\n"
     ]
    }
   ],
   "source": [
    "# urllib_request_request_post.py\n",
    "from urllib import parse\n",
    "from urllib import request\n",
    "\n",
    "query_args = {'q': 'query string', 'foo': 'bar'}\n",
    "\n",
    "r = request.Request(\n",
    "    url='http://localhost:8081/',\n",
    "    data=parse.urlencode(query_args).encode('utf-8'),\n",
    ")\n",
    "print('Request method :', r.get_method())\n",
    "r.add_header(\n",
    "    'User-agent',\n",
    "    'PyMOTW (https://pymotw.com/)',\n",
    ")\n",
    "\n",
    "print()\n",
    "print('OUTGOING DATA:')\n",
    "print(r.data)\n",
    "\n",
    "print()\n",
    "print('SERVER RESPONSE:')\n",
    "print(request.urlopen(r).read().decode('utf-8'))"
   ]
  },
  {
   "cell_type": "markdown",
   "metadata": {},
   "source": [
    "## Uploading Files\n",
    "\n",
    "Encoding files for upload requires a little more work than simple forms. A complete MIME message needs to be constructed in the body of the request, so that the server can distinguish incoming form fields from uploaded files.\n",
    "\n",
    "The MultiPartForm class can represent an arbitrary form as a multi-part MIME message with attached files."
   ]
  },
  {
   "cell_type": "code",
   "execution_count": 7,
   "metadata": {
    "collapsed": false
   },
   "outputs": [
    {
     "name": "stdout",
     "output_type": "stream",
     "text": [
      "\n",
      "OUTGOING DATA:\n",
      "User-agent: PyMOTW (https://pymotw.com/)\n",
      "Content-type: multipart/form-data; boundary=fb8972f715b44e538bad1917656aa60b\n",
      "Content-length: 387\n",
      "\n",
      "--fb8972f715b44e538bad1917656aa60b\r\n",
      "Content-Disposition: form-data; name=\"firstname\"\r\n",
      "\r\n",
      "alvin\r\n",
      "--fb8972f715b44e538bad1917656aa60b\r\n",
      "Content-Disposition: form-data; name=\"lastname\"\r\n",
      "\r\n",
      "stars\r\n",
      "--fb8972f715b44e538bad1917656aa60b\r\n",
      "Content-Disposition: file; name=\"biography\"; filename=\"bio.txt\"\r\n",
      "Content-Type: text/plain\r\n",
      "\r\n",
      "Python developer and blogger.\r\n",
      "--fb8972f715b44e538bad1917656aa60b--\r\n",
      "\n",
      "\n",
      "SERVER RESPONSE:\n",
      "Client: ('127.0.0.1', 49583)\n",
      "User-agent: PyMOTW (https://pymotw.com/)\n",
      "Path: /\n",
      "Form data:\n",
      "\tlastname=stars\n",
      "\tUploaded biography as 'bio.txt' (29 bytes)\n",
      "\tfirstname=alvin\n",
      "\n"
     ]
    }
   ],
   "source": [
    "# urllib_request_upload_files.py\n",
    "import io\n",
    "import mimetypes\n",
    "from urllib import request\n",
    "import uuid\n",
    "\n",
    "\n",
    "class MultiPartForm:\n",
    "    \"\"\"Accumulate the data to be used when posting a form.\"\"\"\n",
    "\n",
    "    def __init__(self):\n",
    "        self.form_fields = []\n",
    "        self.files = []\n",
    "        # Use a large random byte string to separate\n",
    "        # parts of the MIME data.\n",
    "        self.boundary = uuid.uuid4().hex.encode('utf-8')\n",
    "        return\n",
    "\n",
    "    def get_content_type(self):\n",
    "        return 'multipart/form-data; boundary={}'.format(\n",
    "            self.boundary.decode('utf-8'))\n",
    "\n",
    "    def add_field(self, name, value):\n",
    "        \"\"\"Add a simple field to the form data.\"\"\"\n",
    "        self.form_fields.append((name, value))\n",
    "\n",
    "    def add_file(self, fieldname, filename, fileHandle,\n",
    "                 mimetype=None):\n",
    "        \"\"\"Add a file to be uploaded.\"\"\"\n",
    "        body = fileHandle.read()\n",
    "        if mimetype is None:\n",
    "            mimetype = (\n",
    "                mimetypes.guess_type(filename)[0] or\n",
    "                'application/octet-stream'\n",
    "            )\n",
    "        self.files.append((fieldname, filename, mimetype, body))\n",
    "        return\n",
    "\n",
    "    @staticmethod\n",
    "    def _form_data(name):\n",
    "        return ('Content-Disposition: form-data; '\n",
    "                'name=\"{}\"\\r\\n').format(name).encode('utf-8')\n",
    "\n",
    "    @staticmethod\n",
    "    def _attached_file(name, filename):\n",
    "        return ('Content-Disposition: file; '\n",
    "                'name=\"{}\"; filename=\"{}\"\\r\\n').format(\n",
    "                    name, filename).encode('utf-8')\n",
    "\n",
    "    @staticmethod\n",
    "    def _content_type(ct):\n",
    "        return 'Content-Type: {}\\r\\n'.format(ct).encode('utf-8')\n",
    "\n",
    "    def __bytes__(self):\n",
    "        \"\"\"Return a byte-string representing the form data,\n",
    "        including attached files.\n",
    "        \"\"\"\n",
    "        buffer = io.BytesIO()\n",
    "        boundary = b'--' + self.boundary + b'\\r\\n'\n",
    "\n",
    "        # Add the form fields\n",
    "        for name, value in self.form_fields:\n",
    "            buffer.write(boundary)\n",
    "            buffer.write(self._form_data(name))\n",
    "            buffer.write(b'\\r\\n')\n",
    "            buffer.write(value.encode('utf-8'))\n",
    "            buffer.write(b'\\r\\n')\n",
    "\n",
    "        # Add the files to upload\n",
    "        for f_name, filename, f_content_type, body in self.files:\n",
    "            buffer.write(boundary)\n",
    "            buffer.write(self._attached_file(f_name, filename))\n",
    "            buffer.write(self._content_type(f_content_type))\n",
    "            buffer.write(b'\\r\\n')\n",
    "            buffer.write(body)\n",
    "            buffer.write(b'\\r\\n')\n",
    "\n",
    "        buffer.write(b'--' + self.boundary + b'--\\r\\n')\n",
    "        return buffer.getvalue()\n",
    "\n",
    "\n",
    "if __name__ == '__main__':\n",
    "    # Create the form with simple fields\n",
    "    form = MultiPartForm()\n",
    "    form.add_field('firstname', 'alvin')\n",
    "    form.add_field('lastname', 'stars')\n",
    "\n",
    "    # Add a fake file\n",
    "    form.add_file(\n",
    "        'biography', 'bio.txt',\n",
    "        fileHandle=io.BytesIO(b'Python developer and blogger.'))\n",
    "\n",
    "    # Build the request, including the byte-string\n",
    "    # for the data to be posted.\n",
    "    data = bytes(form)\n",
    "    r = request.Request('http://localhost:8081/', data=data)\n",
    "    r.add_header(\n",
    "        'User-agent',\n",
    "        'PyMOTW (https://pymotw.com/)',\n",
    "    )\n",
    "    r.add_header('Content-type', form.get_content_type())\n",
    "    r.add_header('Content-length', len(data))\n",
    "\n",
    "    print()\n",
    "    print('OUTGOING DATA:')\n",
    "    for name, value in r.header_items():\n",
    "        print('{}: {}'.format(name, value))\n",
    "    print()\n",
    "    print(r.data.decode('utf-8'))\n",
    "\n",
    "    print()\n",
    "    print('SERVER RESPONSE:')\n",
    "    print(request.urlopen(r).read().decode('utf-8'))\n"
   ]
  },
  {
   "cell_type": "markdown",
   "metadata": {},
   "source": [
    "## Creating Custom Protocol Handlers\n",
    "\n",
    "urllib.request has built-in support for HTTP(S), FTP, and local file access. To add support for other URL types, register another protocol handler. For example, to support URLs pointing to arbitrary files on remote NFS servers, without requiring users to mount the path before accessing the file, create a class derived from BaseHandler and with a method nfs_open().\n",
    "\n",
    "The protocol-specific open() method is given a single argument, the Request instance, and it should return an object with a read() method that can be used to read the data, an info() method to return the response headers, and geturl() to return the actual URL of the file being read. A simple way to achieve that is to create an instance of urllib.response.addinfourl, passing the headers, URL, and open file handle in to the constructor.\n",
    "\n",
    "The FauxNFSHandler and NFSFile classes print messages to illustrate where a real implementation would add mount and unmount calls. Since this is just a simulation, FauxNFSHandler is primed with the name of a temporary directory where it should look for all of its files."
   ]
  },
  {
   "cell_type": "code",
   "execution_count": 8,
   "metadata": {
    "collapsed": false
   },
   "outputs": [
    {
     "name": "stdout",
     "output_type": "stream",
     "text": [
      "FauxNFSHandler simulating mount:\n",
      "  Remote path: nfs://remote_server/path/to/the\n",
      "  Server     : remote_server\n",
      "  Local path : tmpabf_uvl5\n",
      "  Filename   : file.txt\n",
      "\n",
      "READ CONTENTS: b'Contents of file.txt'\n",
      "URL          : nfs://remote_server/path/to/the/file.txt\n",
      "HEADERS:\n",
      "  Content-length  = 20\n",
      "  Content-type    = text/plain\n",
      "\n",
      "NFSFile:\n",
      "  unmounting tmpabf_uvl5\n",
      "  when file.txt is closed\n"
     ]
    }
   ],
   "source": [
    "# urllib_request_nfs_handler.py\n",
    "import io\n",
    "import mimetypes\n",
    "import os\n",
    "import tempfile\n",
    "from urllib import request\n",
    "from urllib import response\n",
    "\n",
    "\n",
    "class NFSFile:\n",
    "\n",
    "    def __init__(self, tempdir, filename):\n",
    "        self.tempdir = tempdir\n",
    "        self.filename = filename\n",
    "        with open(os.path.join(tempdir, filename), 'rb') as f:\n",
    "            self.buffer = io.BytesIO(f.read())\n",
    "\n",
    "    def read(self, *args):\n",
    "        return self.buffer.read(*args)\n",
    "\n",
    "    def readline(self, *args):\n",
    "        return self.buffer.readline(*args)\n",
    "\n",
    "    def close(self):\n",
    "        print('\\nNFSFile:')\n",
    "        print('  unmounting {}'.format(\n",
    "            os.path.basename(self.tempdir)))\n",
    "        print('  when {} is closed'.format(\n",
    "            os.path.basename(self.filename)))\n",
    "\n",
    "\n",
    "class FauxNFSHandler(request.BaseHandler):\n",
    "\n",
    "    def __init__(self, tempdir):\n",
    "        self.tempdir = tempdir\n",
    "        super().__init__()\n",
    "\n",
    "    def nfs_open(self, req):\n",
    "        url = req.full_url\n",
    "        directory_name, file_name = os.path.split(url)\n",
    "        server_name = req.host\n",
    "        print('FauxNFSHandler simulating mount:')\n",
    "        print('  Remote path: {}'.format(directory_name))\n",
    "        print('  Server     : {}'.format(server_name))\n",
    "        print('  Local path : {}'.format(\n",
    "            os.path.basename(tempdir)))\n",
    "        print('  Filename   : {}'.format(file_name))\n",
    "        local_file = os.path.join(tempdir, file_name)\n",
    "        fp = NFSFile(tempdir, file_name)\n",
    "        content_type = (\n",
    "            mimetypes.guess_type(file_name)[0] or\n",
    "            'application/octet-stream'\n",
    "        )\n",
    "        stats = os.stat(local_file)\n",
    "        size = stats.st_size\n",
    "        headers = {\n",
    "            'Content-type': content_type,\n",
    "            'Content-length': size,\n",
    "        }\n",
    "        return response.addinfourl(fp, headers,\n",
    "                                   req.get_full_url())\n",
    "\n",
    "\n",
    "if __name__ == '__main__':\n",
    "    with tempfile.TemporaryDirectory() as tempdir:\n",
    "        # Populate the temporary file for the simulation\n",
    "        filename = os.path.join(tempdir, 'file.txt')\n",
    "        with open(filename, 'w', encoding='utf-8') as f:\n",
    "            f.write('Contents of file.txt')\n",
    "\n",
    "        # Construct an opener with our NFS handler\n",
    "        # and register it as the default opener.\n",
    "        opener = request.build_opener(FauxNFSHandler(tempdir))\n",
    "        request.install_opener(opener)\n",
    "\n",
    "        # Open the file through a URL.\n",
    "        resp = request.urlopen(\n",
    "            'nfs://remote_server/path/to/the/file.txt'\n",
    "        )\n",
    "        print()\n",
    "        print('READ CONTENTS:', resp.read())\n",
    "        print('URL          :', resp.geturl())\n",
    "        print('HEADERS:')\n",
    "        for name, value in sorted(resp.info().items()):\n",
    "            print('  {:<15} = {}'.format(name, value))\n",
    "        resp.close()"
   ]
  }
 ],
 "metadata": {
  "kernelspec": {
   "display_name": "Python 3",
   "language": "python",
   "name": "python3"
  },
  "language_info": {
   "codemirror_mode": {
    "name": "ipython",
    "version": 3
   },
   "file_extension": ".py",
   "mimetype": "text/x-python",
   "name": "python",
   "nbconvert_exporter": "python",
   "pygments_lexer": "ipython3",
   "version": "3.5.2"
  }
 },
 "nbformat": 4,
 "nbformat_minor": 2
}
