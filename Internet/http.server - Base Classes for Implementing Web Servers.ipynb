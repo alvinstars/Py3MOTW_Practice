{
 "cells": [
  {
   "cell_type": "markdown",
   "metadata": {},
   "source": [
    "# http.server - Base Classes for Implementing Web Servers\n",
    "\n",
    "Purpose:\thttp.server includes classes that can form the basis of a web server.\n",
    "\n",
    "http.server uses classes from socketserver to create base classes for making HTTP servers. HTTPServer can be used directly, but the BaseHTTPRequestHandler is intended to be extended to handle each protocol method (GET, POST, etc.)."
   ]
  },
  {
   "cell_type": "raw",
   "metadata": {},
   "source": [
    "Preparation:\n",
    "In order to run all examples, please run following commands in seperate terminals. Basically, these commands will launch http servers for difference purposes. \n",
    "\n",
    "python3 http_server_GET.py\n",
    "python3 http_server_POST.py\n",
    "python3 http_server_threads.py\n",
    "python3 http_server_errors.py\n",
    "python3 http_server_send_header.py\n",
    "python3 -m http.server 8086"
   ]
  },
  {
   "cell_type": "markdown",
   "metadata": {},
   "source": [
    "## HTTP GET\n",
    "\n",
    "To add support for an HTTP method in a request handler class, implement the method do_METHOD(), replacing METHOD with the name of the HTTP method (e.g., do_GET(), do_POST(), etc.). For consistency, the request handler methods take no arguments. All of the parameters for the request are parsed by BaseHTTPRequestHandler and stored as instance attributes of the request instance.\n",
    "\n",
    "This example request handler illustrates how to return a response to the client, and some of the local attributes that can be useful in building the response."
   ]
  },
  {
   "cell_type": "raw",
   "metadata": {},
   "source": [
    "# http_server_GET.py\n",
    "from http.server import BaseHTTPRequestHandler\n",
    "from urllib import parse\n",
    "\n",
    "\n",
    "class GetHandler(BaseHTTPRequestHandler):\n",
    "\n",
    "    def do_GET(self):\n",
    "        parsed_path = parse.urlparse(self.path)\n",
    "        message_parts = [\n",
    "            'CLIENT VALUES:',\n",
    "            'client_address={} ({})'.format(\n",
    "                self.client_address,\n",
    "                self.address_string()),\n",
    "            'command={}'.format(self.command),\n",
    "            'path={}'.format(self.path),\n",
    "            'real path={}'.format(parsed_path.path),\n",
    "            'query={}'.format(parsed_path.query),\n",
    "            'request_version={}'.format(self.request_version),\n",
    "            '',\n",
    "            'SERVER VALUES:',\n",
    "            'server_version={}'.format(self.server_version),\n",
    "            'sys_version={}'.format(self.sys_version),\n",
    "            'protocol_version={}'.format(self.protocol_version),\n",
    "            '',\n",
    "            'HEADERS RECEIVED:',\n",
    "        ]\n",
    "        for name, value in sorted(self.headers.items()):\n",
    "            message_parts.append(\n",
    "                '{}={}'.format(name, value.rstrip())\n",
    "            )\n",
    "        message_parts.append('')\n",
    "        message = '\\r\\n'.join(message_parts)\n",
    "        self.send_response(200)\n",
    "        self.send_header('Content-Type',\n",
    "                         'text/plain; charset=utf-8')\n",
    "        self.end_headers()\n",
    "        self.wfile.write(message.encode('utf-8'))\n",
    "\n",
    "\n",
    "if __name__ == '__main__':\n",
    "    from http.server import HTTPServer\n",
    "    server = HTTPServer(('localhost', 8080), GetHandler)\n",
    "    print('Starting server, use <Ctrl-C> to stop')\n",
    "    server.serve_forever()"
   ]
  },
  {
   "cell_type": "markdown",
   "metadata": {},
   "source": [
    "The message text is assembled and then written to wfile, the file handle wrapping the response socket. Each response needs a response code, set via send_response(). If an error code is used (404, 501, etc.), an appropriate default error message is included in the header, or a message can be passed with the error code.\n",
    "\n",
    "To run the request handler in a server, pass it to the constructor of HTTPServer, as in the __main__ processing portion of the sample script.\n",
    "\n",
    "Then start the server in a seperate terminal:\n",
    "\n",
    "$ python3 http_server_GET.py"
   ]
  },
  {
   "cell_type": "code",
   "execution_count": 1,
   "metadata": {
    "collapsed": false
   },
   "outputs": [
    {
     "name": "stdout",
     "output_type": "stream",
     "text": [
      "HTTP/1.0 200 OK\r",
      "\r\n",
      "Server: BaseHTTP/0.6 Python/3.5.1\r",
      "\r\n",
      "Date: Wed, 17 May 2017 04:49:16 GMT\r",
      "\r\n",
      "Content-Type: text/plain; charset=utf-8\r",
      "\r\n",
      "\r",
      "\r\n",
      "CLIENT VALUES:\r",
      "\r\n",
      "client_address=('127.0.0.1', 61595) (127.0.0.1)\r",
      "\r\n",
      "command=GET\r",
      "\r\n",
      "path=/\r",
      "\r\n",
      "real path=/\r",
      "\r\n",
      "query=\r",
      "\r\n",
      "request_version=HTTP/1.1\r",
      "\r\n",
      "\r",
      "\r\n",
      "SERVER VALUES:\r",
      "\r\n",
      "server_version=BaseHTTP/0.6\r",
      "\r\n",
      "sys_version=Python/3.5.1\r",
      "\r\n",
      "protocol_version=HTTP/1.0\r",
      "\r\n",
      "\r",
      "\r\n",
      "HEADERS RECEIVED:\r",
      "\r\n",
      "Accept=*/*\r",
      "\r\n",
      "Host=127.0.0.1:8080\r",
      "\r\n",
      "User-Agent=curl/7.51.0\r",
      "\r\n"
     ]
    }
   ],
   "source": [
    "! curl -i http://127.0.0.1:8080/"
   ]
  },
  {
   "cell_type": "code",
   "execution_count": 2,
   "metadata": {
    "collapsed": false
   },
   "outputs": [
    {
     "name": "stdout",
     "output_type": "stream",
     "text": [
      "*   Trying 127.0.0.1...\r\n",
      "* TCP_NODELAY set\r\n",
      "* Connected to 127.0.0.1 (127.0.0.1) port 8080 (#0)\r\n",
      "> GET /?foo=bar HTTP/1.1\r",
      "\r\n",
      "> Host: 127.0.0.1:8080\r",
      "\r\n",
      "> User-Agent: curl/7.51.0\r",
      "\r\n",
      "> Accept: */*\r",
      "\r\n",
      "> \r",
      "\r\n",
      "* HTTP 1.0, assume close after body\r\n",
      "< HTTP/1.0 200 OK\r",
      "\r\n",
      "HTTP/1.0 200 OK\r",
      "\r\n",
      "< Server: BaseHTTP/0.6 Python/3.5.1\r",
      "\r\n",
      "Server: BaseHTTP/0.6 Python/3.5.1\r",
      "\r\n",
      "< Date: Wed, 17 May 2017 04:49:16 GMT\r",
      "\r\n",
      "Date: Wed, 17 May 2017 04:49:16 GMT\r",
      "\r\n",
      "< Content-Type: text/plain; charset=utf-8\r",
      "\r\n",
      "Content-Type: text/plain; charset=utf-8\r",
      "\r\n",
      "\r",
      "\r\n",
      "< \r",
      "\r\n",
      "CLIENT VALUES:\r",
      "\r\n",
      "client_address=('127.0.0.1', 61608) (127.0.0.1)\r",
      "\r\n",
      "command=GET\r",
      "\r\n",
      "path=/?foo=bar\r",
      "\r\n",
      "real path=/\r",
      "\r\n",
      "query=foo=bar\r",
      "\r\n",
      "request_version=HTTP/1.1\r",
      "\r\n",
      "\r",
      "\r\n",
      "SERVER VALUES:\r",
      "\r\n",
      "server_version=BaseHTTP/0.6\r",
      "\r\n",
      "sys_version=Python/3.5.1\r",
      "\r\n",
      "protocol_version=HTTP/1.0\r",
      "\r\n",
      "\r",
      "\r\n",
      "HEADERS RECEIVED:\r",
      "\r\n",
      "Accept=*/*\r",
      "\r\n",
      "Host=127.0.0.1:8080\r",
      "\r\n",
      "User-Agent=curl/7.51.0\r",
      "\r\n",
      "* Curl_http_done: called premature == 0\r\n",
      "* Closing connection 0\r\n"
     ]
    }
   ],
   "source": [
    "! curl -v -i http://127.0.0.1:8080/?foo=bar"
   ]
  },
  {
   "cell_type": "markdown",
   "metadata": {},
   "source": [
    "#### Note\n",
    "The output produced by different versions of curl may vary. If running the examples produces different output, check the version number reported by curl."
   ]
  },
  {
   "cell_type": "markdown",
   "metadata": {},
   "source": [
    "## HTTP POST\n",
    "\n",
    "Supporting POST requests is a little more work, because the base class does not parse the form data automatically. The cgi module provides the FieldStorage class which knows how to parse the form, if it is given the correct inputs."
   ]
  },
  {
   "cell_type": "raw",
   "metadata": {},
   "source": [
    "# http_server_POST.py\n",
    "import cgi\n",
    "from http.server import BaseHTTPRequestHandler\n",
    "import io\n",
    "\n",
    "\n",
    "class PostHandler(BaseHTTPRequestHandler):\n",
    "\n",
    "    def do_POST(self):\n",
    "        # Parse the form data posted\n",
    "        form = cgi.FieldStorage(\n",
    "            fp=self.rfile,\n",
    "            headers=self.headers,\n",
    "            environ={\n",
    "                'REQUEST_METHOD': 'POST',\n",
    "                'CONTENT_TYPE': self.headers['Content-Type'],\n",
    "            }\n",
    "        )\n",
    "\n",
    "        # Begin the response\n",
    "        self.send_response(200)\n",
    "        self.send_header('Content-Type',\n",
    "                         'text/plain; charset=utf-8')\n",
    "        self.end_headers()\n",
    "\n",
    "        out = io.TextIOWrapper(\n",
    "            self.wfile,\n",
    "            encoding='utf-8',\n",
    "            line_buffering=False,\n",
    "            write_through=True,\n",
    "        )\n",
    "\n",
    "        out.write('Client: {}\\n'.format(self.client_address))\n",
    "        out.write('User-agent: {}\\n'.format(\n",
    "            self.headers['user-agent']))\n",
    "        out.write('Path: {}\\n'.format(self.path))\n",
    "        out.write('Form data:\\n')\n",
    "\n",
    "        # Echo back information about what was posted in the form\n",
    "        for field in form.keys():\n",
    "            field_item = form[field]\n",
    "            if field_item.filename:\n",
    "                # The field contains an uploaded file\n",
    "                file_data = field_item.file.read()\n",
    "                file_len = len(file_data)\n",
    "                del file_data\n",
    "                out.write(\n",
    "                    '\\tUploaded {} as {!r} ({} bytes)\\n'.format(\n",
    "                        field, field_item.filename, file_len)\n",
    "                )\n",
    "            else:\n",
    "                # Regular form value\n",
    "                out.write('\\t{}={}\\n'.format(\n",
    "                    field, form[field].value))\n",
    "\n",
    "        # Disconnect our encoding wrapper from the underlying\n",
    "        # buffer so that deleting the wrapper doesn't close\n",
    "        # the socket, which is still being used by the server.\n",
    "        out.detach()\n",
    "\n",
    "\n",
    "if __name__ == '__main__':\n",
    "    from http.server import HTTPServer\n",
    "    server = HTTPServer(('localhost', 8081), PostHandler)\n",
    "    print('Starting server, use <Ctrl-C> to stop')\n",
    "    server.serve_forever()"
   ]
  },
  {
   "cell_type": "markdown",
   "metadata": {},
   "source": [
    "Run the server in one window:\n",
    "\n",
    "$ python3 http_server_POST.py"
   ]
  },
  {
   "cell_type": "markdown",
   "metadata": {},
   "source": [
    "The arguments to curl can include form data to be posted to the server by using the -F option. The last argument, -F datafile=@http_server_GET.py, posts the contents of the file http_server_GET.py to illustrate reading file data from the form.\n",
    "\n"
   ]
  },
  {
   "cell_type": "code",
   "execution_count": 3,
   "metadata": {
    "collapsed": false
   },
   "outputs": [
    {
     "name": "stdout",
     "output_type": "stream",
     "text": [
      "*   Trying 127.0.0.1...\n",
      "* TCP_NODELAY set\n",
      "* Connected to 127.0.0.1 (127.0.0.1) port 8081 (#0)\n",
      "> POST / HTTP/1.1\n",
      "> Host: 127.0.0.1:8081\n",
      "> User-Agent: curl/7.51.0\n",
      "> Accept: */*\n",
      "> Content-Length: 1976\n",
      "> Expect: 100-continue\n",
      "> Content-Type: multipart/form-data; boundary=------------------------6350146384064063\n",
      "> \n",
      "* Done waiting for 100-continue\n",
      "* HTTP 1.0, assume close after body\n",
      "< HTTP/1.0 200 OK\n",
      "< Server: BaseHTTP/0.6 Python/3.5.1\n",
      "< Date: Wed, 17 May 2017 04:49:18 GMT\n",
      "< Content-Type: text/plain; charset=utf-8\n",
      "< \n",
      "Client: ('127.0.0.1', 61609)\n",
      "User-agent: curl/7.51.0\n",
      "Path: /\n",
      "Form data:\n",
      "\tfoo=bar\n",
      "\tname=alvin\n",
      "\tUploaded datafile as 'http_server_GET.py' (1569 bytes)\n",
      "* Curl_http_done: called premature == 0\n",
      "* Closing connection 0\n"
     ]
    }
   ],
   "source": [
    "! curl -v http://127.0.0.1:8081/ -F name=alvin -F foo=bar \\\n",
    "-F datafile=@http_server_GET.py"
   ]
  },
  {
   "cell_type": "code",
   "execution_count": 4,
   "metadata": {
    "collapsed": false
   },
   "outputs": [
    {
     "name": "stdout",
     "output_type": "stream",
     "text": [
      "*   Trying 127.0.0.1...\r\n",
      "* TCP_NODELAY set\r\n",
      "* Connected to 127.0.0.1 (127.0.0.1) port 8080 (#0)\r\n",
      "> POST / HTTP/1.1\r",
      "\r\n",
      "> Host: 127.0.0.1:8080\r",
      "\r\n",
      "> User-Agent: curl/7.51.0\r",
      "\r\n",
      "> Accept: */*\r",
      "\r\n",
      "> Content-Length: 1976\r",
      "\r\n",
      "> Expect: 100-continue\r",
      "\r\n",
      "> Content-Type: multipart/form-data; boundary=------------------------73c182514f4b22a5\r",
      "\r\n",
      "> \r",
      "\r\n",
      "* HTTP 1.0, assume close after body\r\n",
      "< HTTP/1.0 501 Unsupported method ('POST')\r",
      "\r\n",
      "< Server: BaseHTTP/0.6 Python/3.5.1\r",
      "\r\n",
      "< Date: Wed, 17 May 2017 04:49:18 GMT\r",
      "\r\n",
      "< Content-Type: text/html;charset=utf-8\r",
      "\r\n",
      "< Connection: close\r",
      "\r\n",
      "< Content-Length: 497\r",
      "\r\n",
      "< \r",
      "\r\n",
      "<!DOCTYPE HTML PUBLIC \"-//W3C//DTD HTML 4.01//EN\"\r\n",
      "        \"http://www.w3.org/TR/html4/strict.dtd\">\r\n",
      "<html>\r\n",
      "    <head>\r\n",
      "        <meta http-equiv=\"Content-Type\" content=\"text/html;charset=utf-8\">\r\n",
      "        <title>Error response</title>\r\n",
      "    </head>\r\n",
      "    <body>\r\n",
      "        <h1>Error response</h1>\r\n",
      "        <p>Error code: 501</p>\r\n",
      "        <p>Message: Unsupported method ('POST').</p>\r\n",
      "        <p>Error code explanation: HTTPStatus.NOT_IMPLEMENTED - Server does not support this operation.</p>\r\n",
      "    </body>\r\n",
      "</html>\r\n",
      "* Curl_http_done: called premature == 0\r\n",
      "* Closing connection 0\r\n"
     ]
    }
   ],
   "source": [
    "# try the same command on the previous GET server.\n",
    "! curl -v http://127.0.0.1:8080/ -F name=alvin -F foo=bar \\\n",
    "-F datafile=@http_server_GET.py"
   ]
  },
  {
   "cell_type": "markdown",
   "metadata": {},
   "source": [
    "## Threading and Forking\n",
    "\n",
    "HTTPServer is a simple subclass of socketserver.TCPServer, and does not use multiple threads or processes to handle requests. To add threading or forking, create a new class using the appropriate mix-in from socketserver."
   ]
  },
  {
   "cell_type": "raw",
   "metadata": {},
   "source": [
    "# http_server_threads.py\n",
    "from http.server import HTTPServer, BaseHTTPRequestHandler\n",
    "from socketserver import ThreadingMixIn\n",
    "import threading\n",
    "\n",
    "\n",
    "class Handler(BaseHTTPRequestHandler):\n",
    "\n",
    "    def do_GET(self):\n",
    "        self.send_response(200)\n",
    "        self.send_header('Content-Type',\n",
    "                         'text/plain; charset=utf-8')\n",
    "        self.end_headers()\n",
    "        message = threading.currentThread().getName()\n",
    "        self.wfile.write(message.encode('utf-8'))\n",
    "        self.wfile.write(b'\\n')\n",
    "\n",
    "\n",
    "class ThreadedHTTPServer(ThreadingMixIn, HTTPServer):\n",
    "    \"\"\"Handle requests in a separate thread.\"\"\"\n",
    "\n",
    "\n",
    "if __name__ == '__main__':\n",
    "    server = ThreadedHTTPServer(('localhost', 8083), Handler)\n",
    "    print('Starting server, use <Ctrl-C> to stop')\n",
    "    server.serve_forever()"
   ]
  },
  {
   "cell_type": "markdown",
   "metadata": {},
   "source": [
    "Run the server in the same way as the other examples.\n",
    "\n",
    "$ python3 http_server_threads.py"
   ]
  },
  {
   "cell_type": "markdown",
   "metadata": {},
   "source": [
    "Each time the server receives a request, it starts a new thread or process to handle it:"
   ]
  },
  {
   "cell_type": "code",
   "execution_count": 5,
   "metadata": {
    "collapsed": false
   },
   "outputs": [
    {
     "name": "stdout",
     "output_type": "stream",
     "text": [
      "Thread-7\r\n"
     ]
    }
   ],
   "source": [
    "! curl http://127.0.0.1:8083/"
   ]
  },
  {
   "cell_type": "code",
   "execution_count": 6,
   "metadata": {
    "collapsed": false
   },
   "outputs": [
    {
     "name": "stdout",
     "output_type": "stream",
     "text": [
      "Thread-8\r\n"
     ]
    }
   ],
   "source": [
    "! curl http://127.0.0.1:8083/"
   ]
  },
  {
   "cell_type": "code",
   "execution_count": 7,
   "metadata": {
    "collapsed": false
   },
   "outputs": [
    {
     "name": "stdout",
     "output_type": "stream",
     "text": [
      "Thread-9\r\n"
     ]
    }
   ],
   "source": [
    "! curl http://127.0.0.1:8083/"
   ]
  },
  {
   "cell_type": "markdown",
   "metadata": {},
   "source": [
    "Swapping ForkingMixIn for ThreadingMixIn would achieve similar results, using separate processes instead of threads."
   ]
  },
  {
   "cell_type": "markdown",
   "metadata": {},
   "source": [
    "## Handling Errors\n",
    "\n",
    "Handle errors by calling send_error(), passing the appropriate error code and an optional error message. The entire response (with headers, status code, and body) is generated automatically."
   ]
  },
  {
   "cell_type": "raw",
   "metadata": {},
   "source": [
    "# http_server_errors.py\n",
    "from http.server import BaseHTTPRequestHandler\n",
    "\n",
    "\n",
    "class ErrorHandler(BaseHTTPRequestHandler):\n",
    "\n",
    "    def do_GET(self):\n",
    "        self.send_error(404)\n",
    "\n",
    "\n",
    "if __name__ == '__main__':\n",
    "    from http.server import HTTPServer\n",
    "    server = HTTPServer(('localhost', 8084), ErrorHandler)\n",
    "    print('Starting server, use <Ctrl-C> to stop')\n",
    "    server.serve_forever()"
   ]
  },
  {
   "cell_type": "markdown",
   "metadata": {},
   "source": [
    "In this case, a 404 error is always returned.\n",
    "\n",
    "$ python3 http_server_errors.py\n",
    "\n",
    "The error message is reported to the client using an HTML document as well as the header to indicate an error code."
   ]
  },
  {
   "cell_type": "code",
   "execution_count": 8,
   "metadata": {
    "collapsed": false
   },
   "outputs": [
    {
     "name": "stdout",
     "output_type": "stream",
     "text": [
      "HTTP/1.0 404 Not Found\r",
      "\r\n",
      "Server: BaseHTTP/0.6 Python/3.5.1\r",
      "\r\n",
      "Date: Wed, 17 May 2017 04:49:18 GMT\r",
      "\r\n",
      "Content-Type: text/html;charset=utf-8\r",
      "\r\n",
      "Connection: close\r",
      "\r\n",
      "Content-Length: 447\r",
      "\r\n",
      "\r",
      "\r\n",
      "<!DOCTYPE HTML PUBLIC \"-//W3C//DTD HTML 4.01//EN\"\r\n",
      "        \"http://www.w3.org/TR/html4/strict.dtd\">\r\n",
      "<html>\r\n",
      "    <head>\r\n",
      "        <meta http-equiv=\"Content-Type\" content=\"text/html;charset=utf-8\">\r\n",
      "        <title>Error response</title>\r\n",
      "    </head>\r\n",
      "    <body>\r\n",
      "        <h1>Error response</h1>\r\n",
      "        <p>Error code: 404</p>\r\n",
      "        <p>Message: Not Found.</p>\r\n",
      "        <p>Error code explanation: 404 - Nothing matches the given URI.</p>\r\n",
      "    </body>\r\n",
      "</html>\r\n"
     ]
    }
   ],
   "source": [
    "! curl -i http://127.0.0.1:8084/"
   ]
  },
  {
   "cell_type": "markdown",
   "metadata": {},
   "source": [
    "## Setting Headers\n",
    "\n",
    "The send_header method adds header data to the HTTP response. It takes two arguments: the name of the header and the value."
   ]
  },
  {
   "cell_type": "raw",
   "metadata": {},
   "source": [
    "# http_server_send_header.py\n",
    "from http.server import BaseHTTPRequestHandler\n",
    "import time\n",
    "\n",
    "\n",
    "class GetHandler(BaseHTTPRequestHandler):\n",
    "\n",
    "    def do_GET(self):\n",
    "        self.send_response(200)\n",
    "        self.send_header(\n",
    "            'Content-Type',\n",
    "            'text/plain; charset=utf-8',\n",
    "        )\n",
    "        self.send_header(\n",
    "            'Last-Modified',\n",
    "            self.date_time_string(time.time())\n",
    "        )\n",
    "        self.end_headers()\n",
    "        self.wfile.write('Response body\\n'.encode('utf-8'))\n",
    "\n",
    "\n",
    "if __name__ == '__main__':\n",
    "    from http.server import HTTPServer\n",
    "    server = HTTPServer(('localhost', 8085), GetHandler)\n",
    "    print('Starting server, use <Ctrl-C> to stop')\n",
    "    server.serve_forever()"
   ]
  },
  {
   "cell_type": "markdown",
   "metadata": {},
   "source": [
    "This example sets the Last-Modified header to the current timestamp, formatted according to RFC 7231."
   ]
  },
  {
   "cell_type": "code",
   "execution_count": 9,
   "metadata": {
    "collapsed": false
   },
   "outputs": [
    {
     "name": "stdout",
     "output_type": "stream",
     "text": [
      "HTTP/1.0 200 OK\r",
      "\r\n",
      "Server: BaseHTTP/0.6 Python/3.5.1\r",
      "\r\n",
      "Date: Wed, 17 May 2017 04:49:18 GMT\r",
      "\r\n",
      "Content-Type: text/plain; charset=utf-8\r",
      "\r\n",
      "Last-Modified: Wed, 17 May 2017 04:49:18 GMT\r",
      "\r\n",
      "\r",
      "\r\n",
      "Response body\r\n"
     ]
    }
   ],
   "source": [
    "! curl -i http://127.0.0.1:8085/"
   ]
  },
  {
   "cell_type": "markdown",
   "metadata": {},
   "source": [
    "## Command Line Use\n",
    "\n",
    "http.server includes a built-in server for serving files from the local file system. Start it from the command line using the -m option for the Python interpreter."
   ]
  },
  {
   "cell_type": "raw",
   "metadata": {},
   "source": [
    "! python3 -m http.server 8086"
   ]
  },
  {
   "cell_type": "markdown",
   "metadata": {},
   "source": [
    "The root directory of the server is the working directory where the server is started."
   ]
  },
  {
   "cell_type": "code",
   "execution_count": 10,
   "metadata": {
    "collapsed": true
   },
   "outputs": [],
   "source": [
    "#create a dummy file\n",
    "! touch index.html"
   ]
  },
  {
   "cell_type": "code",
   "execution_count": 11,
   "metadata": {
    "collapsed": false
   },
   "outputs": [
    {
     "name": "stdout",
     "output_type": "stream",
     "text": [
      "HTTP/1.0 200 OK\r",
      "\r\n",
      "Server: SimpleHTTP/0.6 Python/3.5.1\r",
      "\r\n",
      "Date: Wed, 17 May 2017 04:49:19 GMT\r",
      "\r\n",
      "Content-type: text/html\r",
      "\r\n",
      "Content-Length: 0\r",
      "\r\n",
      "Last-Modified: Wed, 17 May 2017 04:49:19 GMT\r",
      "\r\n",
      "\r",
      "\r\n"
     ]
    }
   ],
   "source": [
    "! curl -I http://127.0.0.1:8086/index.html"
   ]
  },
  {
   "cell_type": "code",
   "execution_count": 12,
   "metadata": {
    "collapsed": false
   },
   "outputs": [],
   "source": [
    "#cleanup\n",
    "!rm index.html"
   ]
  }
 ],
 "metadata": {
  "kernelspec": {
   "display_name": "Python 3",
   "language": "python",
   "name": "python3"
  },
  "language_info": {
   "codemirror_mode": {
    "name": "ipython",
    "version": 3
   },
   "file_extension": ".py",
   "mimetype": "text/x-python",
   "name": "python",
   "nbconvert_exporter": "python",
   "pygments_lexer": "ipython3",
   "version": "3.5.2"
  }
 },
 "nbformat": 4,
 "nbformat_minor": 2
}
