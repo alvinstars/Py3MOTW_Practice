{
 "cells": [
  {
   "cell_type": "markdown",
   "metadata": {},
   "source": [
    "# webbrowser - Displays web pages\n",
    "\n",
    "Purpose:\tUse the webbrowser module to display web pages to your users.\n",
    "\n",
    "The webbrowser module includes functions to open URLs in interactive browser applications. The module includes a registry of available browsers, in case multiple options are available on the system. It can also be controlled with the BROWSER environment variable."
   ]
  },
  {
   "cell_type": "markdown",
   "metadata": {},
   "source": [
    "## Simple Example\n",
    "\n",
    "To open a page in the browser, use the open() function.\n",
    "\n",
    "The URL is opened in a browser window, and that window is raised to the top of the window stack. The documentation says that an existing window will be reused, if possible, but the actual behavior may depend on your browser’s settings. Using Firefox on Mac OS X, a new window was always created."
   ]
  },
  {
   "cell_type": "code",
   "execution_count": 1,
   "metadata": {
    "collapsed": false
   },
   "outputs": [
    {
     "data": {
      "text/plain": [
       "True"
      ]
     },
     "execution_count": 1,
     "metadata": {},
     "output_type": "execute_result"
    }
   ],
   "source": [
    "# webbrowser_open.py\n",
    "import webbrowser\n",
    "\n",
    "webbrowser.open(\n",
    "    'https://docs.python.org/3/library/webbrowser.html'\n",
    ")"
   ]
  },
  {
   "cell_type": "markdown",
   "metadata": {},
   "source": [
    "## Windows vs. Tabs\n",
    "\n",
    "If you always want a new window used, use open_new().\n",
    "\n",
    "If you would rather create a new tab, use open_new_tab() instead."
   ]
  },
  {
   "cell_type": "code",
   "execution_count": 2,
   "metadata": {
    "collapsed": false
   },
   "outputs": [
    {
     "data": {
      "text/plain": [
       "True"
      ]
     },
     "execution_count": 2,
     "metadata": {},
     "output_type": "execute_result"
    }
   ],
   "source": [
    "# webbrowser_open_new.py\n",
    "import webbrowser\n",
    "\n",
    "webbrowser.open_new(\n",
    "    'https://docs.python.org/3/library/webbrowser.html'\n",
    ")"
   ]
  },
  {
   "cell_type": "markdown",
   "metadata": {},
   "source": [
    "## Using a specific browser\n",
    "\n",
    "If for some reason your application needs to use a specific browser, you can access the set of registered browser controllers using the get() function. The browser controller has methods to open(), open_new(), and open_new_tab(). This example forces the use of the lynx browser:\n",
    "\n",
    "Refer to the module documentation for a list of available browser types."
   ]
  },
  {
   "cell_type": "code",
   "execution_count": 3,
   "metadata": {
    "collapsed": false
   },
   "outputs": [
    {
     "data": {
      "text/plain": [
       "True"
      ]
     },
     "execution_count": 3,
     "metadata": {},
     "output_type": "execute_result"
    }
   ],
   "source": [
    "# webbrowser_get.py\n",
    "import webbrowser\n",
    "\n",
    "b = webbrowser.get('safari')\n",
    "b.open('https://docs.python.org/3/library/webbrowser.html')"
   ]
  },
  {
   "cell_type": "markdown",
   "metadata": {},
   "source": [
    "## BROWSER variable\n",
    "\n",
    "Users can control the module from outside your application by setting the environment variable BROWSER to the browser names or commands to try. The value should consist of a series of browser names separated by os.pathsep. If the name includes %s, the name is interpreted as a literal command and executed directly with the %s replaced by the URL. Otherwise, the name is passed to get() to obtain a controller object from the registry.\n",
    "\n",
    "For example, this command opens the web page in lynx, assuming it is available, no matter what other browsers are registered.\n",
    "\n",
    "$ BROWSER=lynx python3 webbrowser_open.py\n",
    "\n",
    "If none of the names in BROWSER work, webbrowser falls back to its default behavior."
   ]
  },
  {
   "cell_type": "markdown",
   "metadata": {},
   "source": [
    "## Command Line Interface\n",
    "\n",
    "All of the features of the webbrowser module are available via the command line as well as from within your Python program."
   ]
  },
  {
   "cell_type": "code",
   "execution_count": 4,
   "metadata": {
    "collapsed": false
   },
   "outputs": [
    {
     "name": "stdout",
     "output_type": "stream",
     "text": [
      "Usage: /Library/Frameworks/Python.framework/Versions/3.5/lib/python3.5/webbrowser.py [-n | -t] url\r\n",
      "    -n: open new window\r\n",
      "    -t: open new tab\r\n"
     ]
    }
   ],
   "source": [
    "! python3 -m webbrowser"
   ]
  }
 ],
 "metadata": {
  "kernelspec": {
   "display_name": "Python 3",
   "language": "python",
   "name": "python3"
  },
  "language_info": {
   "codemirror_mode": {
    "name": "ipython",
    "version": 3
   },
   "file_extension": ".py",
   "mimetype": "text/x-python",
   "name": "python",
   "nbconvert_exporter": "python",
   "pygments_lexer": "ipython3",
   "version": "3.5.2"
  }
 },
 "nbformat": 4,
 "nbformat_minor": 2
}
