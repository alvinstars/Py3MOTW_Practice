{
 "cells": [
  {
   "cell_type": "markdown",
   "metadata": {},
   "source": [
    "# uuid - Universally Unique Identifiers\n",
    "\n",
    "Purpose:\tThe uuid module implements Universally Unique Identifiers as described in RFC 4122.\n",
    "\n",
    "RFC 4122 defines a system for creating universally unique identifiers for resources in a way that does not require a central registrar. UUID values are 128 bits long and, as the reference guide says, “can guarantee uniqueness across space and time.” They are useful for generating identifiers for documents, hosts, application clients, and other situations where a unique value is necessary. The RFC is specifically focused on creating a Uniform Resource Name namespace and covers three main algorithms:\n",
    "\n",
    "* Using IEEE 802 MAC addresses as a source of uniqueness\n",
    "* Using pseudo-random numbers\n",
    "* Using well-known strings combined with cryptographic hashing\n",
    "\n",
    "In all cases, the seed value is combined with the system clock and a clock sequence value used to maintain uniqueness in case the clock is set backwards."
   ]
  },
  {
   "cell_type": "markdown",
   "metadata": {},
   "source": [
    "## UUID 1 - IEEE 802 MAC Address\n",
    "\n",
    "UUID version 1 values are computed using the MAC address of the host. The uuid module uses getnode() to retrieve the MAC value of the current system."
   ]
  },
  {
   "cell_type": "code",
   "execution_count": 1,
   "metadata": {
    "collapsed": false
   },
   "outputs": [
    {
     "name": "stdout",
     "output_type": "stream",
     "text": [
      "0x20c9d0851d37\n"
     ]
    }
   ],
   "source": [
    "# uuid_getnode.py\n",
    "import uuid\n",
    "\n",
    "print(hex(uuid.getnode()))"
   ]
  },
  {
   "cell_type": "markdown",
   "metadata": {},
   "source": [
    "If a system has more than one network card, and so more than one MAC, any one of the values may be returned."
   ]
  },
  {
   "cell_type": "markdown",
   "metadata": {},
   "source": [
    "To generate a UUID for a host, identified by its MAC address, use the uuid1() function. The node identifier argument is optional; leave the field blank to use the value returned by getnode().\n",
    "\n",
    "The components of the UUID object returned can be accessed through read-only instance attributes. Some attributes, such as hex, int, and urn, are different representations of the UUID value."
   ]
  },
  {
   "cell_type": "code",
   "execution_count": 2,
   "metadata": {
    "collapsed": false
   },
   "outputs": [
    {
     "name": "stdout",
     "output_type": "stream",
     "text": [
      "2702fc8c-f7d9-11e6-9ce4-20c9d0851d37\n",
      "<class 'uuid.UUID'>\n",
      "bytes   : b\"'\\x02\\xfc\\x8c\\xf7\\xd9\\x11\\xe6\\x9c\\xe4 \\xc9\\xd0\\x85\\x1d7\"\n",
      "hex     : 2702fc8cf7d911e69ce420c9d0851d37\n",
      "int     : 51855398765196879779474783405932354871\n",
      "urn     : urn:uuid:2702fc8c-f7d9-11e6-9ce4-20c9d0851d37\n",
      "variant : specified in RFC 4122\n",
      "version : 1\n",
      "fields  : (654507148, 63449, 4582, 156, 228, 36051158900023)\n",
      "  time_low            :  654507148\n",
      "  time_mid            :  63449\n",
      "  time_hi_version     :  4582\n",
      "  clock_seq_hi_variant:  156\n",
      "  clock_seq_low       :  228\n",
      "  node                :  36051158900023\n",
      "  time                :  137069350715849868\n",
      "  clock_seq           :  7396\n"
     ]
    }
   ],
   "source": [
    "# uuid_uuid1.py\n",
    "import uuid\n",
    "\n",
    "u = uuid.uuid1()\n",
    "\n",
    "print(u)\n",
    "print(type(u))\n",
    "print('bytes   :', repr(u.bytes))\n",
    "print('hex     :', u.hex)\n",
    "print('int     :', u.int)\n",
    "print('urn     :', u.urn)\n",
    "print('variant :', u.variant)\n",
    "print('version :', u.version)\n",
    "print('fields  :', u.fields)\n",
    "print('  time_low            : ', u.time_low)\n",
    "print('  time_mid            : ', u.time_mid)\n",
    "print('  time_hi_version     : ', u.time_hi_version)\n",
    "print('  clock_seq_hi_variant: ', u.clock_seq_hi_variant)\n",
    "print('  clock_seq_low       : ', u.clock_seq_low)\n",
    "print('  node                : ', u.node)\n",
    "print('  time                : ', u.time)\n",
    "print('  clock_seq           : ', u.clock_seq)"
   ]
  },
  {
   "cell_type": "markdown",
   "metadata": {},
   "source": [
    "Because of the time component, each call to uuid1() returns a new value.\n",
    "\n",
    "In this output, only the time component (at the beginning of the string) changes."
   ]
  },
  {
   "cell_type": "code",
   "execution_count": 3,
   "metadata": {
    "collapsed": false
   },
   "outputs": [
    {
     "name": "stdout",
     "output_type": "stream",
     "text": [
      "270a8850-f7d9-11e6-889e-20c9d0851d37\n",
      "270b0ec6-f7d9-11e6-b786-20c9d0851d37\n",
      "270b43d0-f7d9-11e6-8e20-20c9d0851d37\n"
     ]
    }
   ],
   "source": [
    "# uuid_uuid1_repeat.py\n",
    "import uuid\n",
    "\n",
    "for i in range(3):\n",
    "    print(uuid.uuid1())"
   ]
  },
  {
   "cell_type": "markdown",
   "metadata": {},
   "source": [
    "Because each computer has a different MAC address, running the sample program on different systems will produce entirely different values. This example passes explicit node IDs to simulate running on different hosts.\n",
    "\n",
    "In addition to a different time value the node identifier at the end of the UUID also changes."
   ]
  },
  {
   "cell_type": "code",
   "execution_count": 4,
   "metadata": {
    "collapsed": false
   },
   "outputs": [
    {
     "name": "stdout",
     "output_type": "stream",
     "text": [
      "270f25ae-f7d9-11e6-8875-001ec200d9e0 0x1ec200d9e0\n",
      "270f38e6-f7d9-11e6-a4c9-001e5274040e 0x1e5274040e\n"
     ]
    }
   ],
   "source": [
    "#uuid_uuid1_othermac.py\n",
    "import uuid\n",
    "\n",
    "for node in [0x1ec200d9e0, 0x1e5274040e]:\n",
    "    print(uuid.uuid1(node), hex(node))"
   ]
  },
  {
   "cell_type": "markdown",
   "metadata": {},
   "source": [
    "## UUID 3 and 5 - Name-Based Values\n",
    "\n",
    "It is also useful in some contexts to create UUID values from names instead of random or time-based values. Versions 3 and 5 of the UUID specification use cryptographic hash values (MD5 or SHA-1, respectively) to combine namespace-specific seed values with names. There are several well-known namespaces, identified by pre-defined UUID values, for working with DNS, URLs, ISO OIDs, and X.500 Distinguished Names. New application-specific namespaces can be defined by generating and saving UUID values.\n",
    "\n",
    "To create a UUID from a DNS name, pass uuid.NAMESPACE_DNS as the namespace argument to uuid3() or uuid5():"
   ]
  },
  {
   "cell_type": "code",
   "execution_count": 5,
   "metadata": {
    "collapsed": false
   },
   "outputs": [
    {
     "name": "stdout",
     "output_type": "stream",
     "text": [
      "google.com\n",
      "  MD5   : 9a74c83e-2c09-3513-a74b-91d679be82b8\n",
      "  SHA-1 : 64ee70a4-8cc1-5d25-abf2-dea6c79a09c8\n",
      "\n",
      "baidu.com\n",
      "  MD5   : dde57628-1ca0-3389-9f0d-6b94ce706474\n",
      "  SHA-1 : 6121f649-ca8e-5e6f-847d-580647b71c0c\n",
      "\n"
     ]
    }
   ],
   "source": [
    "# uuid_uuid3_uuid5.py\n",
    "import uuid\n",
    "\n",
    "hostnames = ['google.com', 'baidu.com']\n",
    "\n",
    "for name in hostnames:\n",
    "    print(name)\n",
    "    print('  MD5   :', uuid.uuid3(uuid.NAMESPACE_DNS, name))\n",
    "    print('  SHA-1 :', uuid.uuid5(uuid.NAMESPACE_DNS, name))\n",
    "    print()"
   ]
  },
  {
   "cell_type": "markdown",
   "metadata": {},
   "source": [
    "The UUID value for a given name in a namespace is always the same, no matter when or where it is calculated.\n",
    "\n",
    "Values for the same name in the namespaces are different."
   ]
  },
  {
   "cell_type": "code",
   "execution_count": 6,
   "metadata": {
    "collapsed": false
   },
   "outputs": [
    {
     "name": "stdout",
     "output_type": "stream",
     "text": [
      "NAMESPACE_DNS\n",
      "  de87628d-5377-3ba7-b31b-cde1cc8d423f\n",
      "  de87628d-5377-3ba7-b31b-cde1cc8d423f\n",
      "\n",
      "NAMESPACE_OID\n",
      "  053a4fab-f488-379b-a15f-77392e34e705\n",
      "  053a4fab-f488-379b-a15f-77392e34e705\n",
      "\n",
      "NAMESPACE_URL\n",
      "  d407cf76-ed73-3579-959e-78c80e8d4579\n",
      "  d407cf76-ed73-3579-959e-78c80e8d4579\n",
      "\n",
      "NAMESPACE_X500\n",
      "  d1ac503c-9b89-3f89-92a6-20f6a8bd743a\n",
      "  d1ac503c-9b89-3f89-92a6-20f6a8bd743a\n",
      "\n"
     ]
    }
   ],
   "source": [
    "# uuid_uuid3_repeat.py\n",
    "import uuid\n",
    "\n",
    "namespace_types = sorted(\n",
    "    n\n",
    "    for n in dir(uuid)\n",
    "    if n.startswith('NAMESPACE_')\n",
    ")\n",
    "name = 'www.google.com'\n",
    "\n",
    "for namespace_type in namespace_types:\n",
    "    print(namespace_type)\n",
    "    namespace_uuid = getattr(uuid, namespace_type)\n",
    "    print(' ', uuid.uuid3(namespace_uuid, name))\n",
    "    print(' ', uuid.uuid3(namespace_uuid, name))\n",
    "    print()"
   ]
  },
  {
   "cell_type": "markdown",
   "metadata": {},
   "source": [
    "## UUID 4 - Random Values\n",
    "\n",
    "Sometimes host-based and namespace-based UUID values are not “different enough.” For example, in cases where UUID is intended to be used as a hash key, a more random sequence of values with more differentiation is desirable to avoid collisions in the hash table. Having values with fewer common digits also makes it easier to find them in log files. To add greater differentiation in UUIDs, use uuid4() to generate them using random input values.\n",
    "\n",
    "The source of randomness depends on which C libraries are available when uuid is imported. If libuuid (or uuid.dll) can be loaded and it contains a function for generating random values, it is used. Otherwise os.urandom() or the random module are used."
   ]
  },
  {
   "cell_type": "markdown",
   "metadata": {},
   "source": [
    "## Working with UUID Objects\n",
    "\n",
    "In addition to generating new UUID values, it is possible to parse strings in standard formats to create UUID objects, making it easier to handle comparisons and sorting operations.\n",
    "\n",
    "Surrounding curly braces are removed from the input, as are dashes (-). If the string has a prefix containing urn: and/or uuid:, it is also removed. The remaining text must be a string of 16 hexadecimal digits, which are then interpreted as a UUID value."
   ]
  },
  {
   "cell_type": "code",
   "execution_count": 7,
   "metadata": {
    "collapsed": false
   },
   "outputs": [
    {
     "name": "stdout",
     "output_type": "stream",
     "text": [
      "input_values\n",
      "  urn:uuid:f2f84497-b3bf-493a-bba9-7c68e6def80b\n",
      "  {417a5ebb-01f7-4ed5-aeac-3d56cd5037b0}\n",
      "  2115773a-5bf1-11dd-ab48-001ec200d9e0\n",
      "\n",
      "converted to uuids\n",
      "  f2f84497-b3bf-493a-bba9-7c68e6def80b\n",
      "  417a5ebb-01f7-4ed5-aeac-3d56cd5037b0\n",
      "  2115773a-5bf1-11dd-ab48-001ec200d9e0\n",
      "\n",
      "sorted\n",
      "  2115773a-5bf1-11dd-ab48-001ec200d9e0\n",
      "  417a5ebb-01f7-4ed5-aeac-3d56cd5037b0\n",
      "  f2f84497-b3bf-493a-bba9-7c68e6def80b\n",
      "\n"
     ]
    }
   ],
   "source": [
    "# uuid_uuid_objects.py\n",
    "import uuid\n",
    "\n",
    "\n",
    "def show(msg, l):\n",
    "    print(msg)\n",
    "    for v in l:\n",
    "        print(' ', v)\n",
    "    print()\n",
    "\n",
    "input_values = [\n",
    "    'urn:uuid:f2f84497-b3bf-493a-bba9-7c68e6def80b',\n",
    "    '{417a5ebb-01f7-4ed5-aeac-3d56cd5037b0}',\n",
    "    '2115773a-5bf1-11dd-ab48-001ec200d9e0',\n",
    "]\n",
    "\n",
    "show('input_values', input_values)\n",
    "\n",
    "uuids = [uuid.UUID(s) for s in input_values]\n",
    "show('converted to uuids', uuids)\n",
    "\n",
    "uuids.sort()\n",
    "show('sorted', uuids)"
   ]
  }
 ],
 "metadata": {
  "kernelspec": {
   "display_name": "Python 3",
   "language": "python",
   "name": "python3"
  },
  "language_info": {
   "codemirror_mode": {
    "name": "ipython",
    "version": 3
   },
   "file_extension": ".py",
   "mimetype": "text/x-python",
   "name": "python",
   "nbconvert_exporter": "python",
   "pygments_lexer": "ipython3",
   "version": "3.5.2"
  }
 },
 "nbformat": 4,
 "nbformat_minor": 2
}
