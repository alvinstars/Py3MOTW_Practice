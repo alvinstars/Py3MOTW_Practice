{
 "cells": [
  {
   "cell_type": "markdown",
   "metadata": {},
   "source": [
    "# http.cookies — HTTP Cookies\n",
    "\n",
    "Purpose:\tDefines classes for parsing and creating HTTP cookie headers.\n",
    "\n",
    "The http.cookies module implements a parser for cookies that is mostly RFC 2109 compliant. The implementation is a little less strict than the standard because MSIE 3.0x does not support the entire standard."
   ]
  },
  {
   "cell_type": "markdown",
   "metadata": {},
   "source": [
    "## Creating and Setting a Cookie\n",
    "\n",
    "Cookies are used as state management for browser-based application, and as such are usually set by the server to be stored and returned by the client. The most trivial example of creating a cookie sets a single name-value pair.\n",
    "\n",
    "The output is a valid Set-Cookie header ready to be passed to the client as part of the HTTP response."
   ]
  },
  {
   "cell_type": "code",
   "execution_count": 1,
   "metadata": {
    "collapsed": false
   },
   "outputs": [
    {
     "name": "stdout",
     "output_type": "stream",
     "text": [
      "Set-Cookie: mycookie=cookie_value\n"
     ]
    }
   ],
   "source": [
    "# http_cookies_setheaders.py\n",
    "from http import cookies\n",
    "\n",
    "c = cookies.SimpleCookie()\n",
    "c['mycookie'] = 'cookie_value'\n",
    "print(c)"
   ]
  },
  {
   "cell_type": "markdown",
   "metadata": {},
   "source": [
    "## Morsels\n",
    "\n",
    "It is also possible to control the other aspects of a cookie, such as the expiration, path, and domain. In fact, all of the RFC attributes for cookies can be managed through the Morsel object representing the cookie value.\n",
    "\n",
    "This example includes two different methods for setting stored cookies that expire. One sets the max-age to a number of seconds, the other sets expires to a date and time when the cookie should be discarded."
   ]
  },
  {
   "cell_type": "code",
   "execution_count": 2,
   "metadata": {
    "collapsed": false
   },
   "outputs": [
    {
     "name": "stdout",
     "output_type": "stream",
     "text": [
      "Set-Cookie: encoded_value_cookie=\"\\\"cookie\\054value\\073\\\"\"; Comment=Has escaped punctuation\r\n",
      "Set-Cookie: expires_at_time=cookie_value; expires=Sat, 14 Feb 2009 19:30:14\r\n",
      "Set-Cookie: restricted_cookie=cookie_value; Domain=PyMOTW; Path=/sub/path; Secure\r\n",
      "Set-Cookie: with_max_age=\"expires in 5 minutes\"; Max-Age=300\n",
      "\n",
      "key = with_max_age\n",
      "  value = expires in 5 minutes\n",
      "  coded_value = \"expires in 5 minutes\"\n",
      "  max-age = 300\n",
      "\n",
      "key = encoded_value_cookie\n",
      "  value = \"cookie,value;\"\n",
      "  coded_value = \"\\\"cookie\\054value\\073\\\"\"\n",
      "  comment = Has escaped punctuation\n",
      "\n",
      "key = expires_at_time\n",
      "  value = cookie_value\n",
      "  coded_value = cookie_value\n",
      "  expires = Sat, 14 Feb 2009 19:30:14\n",
      "\n",
      "key = restricted_cookie\n",
      "  value = cookie_value\n",
      "  coded_value = cookie_value\n",
      "  domain = PyMOTW\n",
      "  secure = True\n",
      "  path = /sub/path\n"
     ]
    }
   ],
   "source": [
    "# http_cookies_Morsel.py\n",
    "from http import cookies\n",
    "import datetime\n",
    "\n",
    "\n",
    "def show_cookie(c):\n",
    "    print(c)\n",
    "    for key, morsel in c.items():\n",
    "        print()\n",
    "        print('key =', morsel.key)\n",
    "        print('  value =', morsel.value)\n",
    "        print('  coded_value =', morsel.coded_value)\n",
    "#         print(morsel.keys())\n",
    "        for name in morsel.keys():\n",
    "            if morsel[name]:\n",
    "                print('  {} = {}'.format(name, morsel[name]))\n",
    "\n",
    "\n",
    "c = cookies.SimpleCookie()\n",
    "\n",
    "# A cookie with a value that has to be encoded\n",
    "# to fit into the header\n",
    "c['encoded_value_cookie'] = '\"cookie,value;\"'\n",
    "c['encoded_value_cookie']['comment'] = 'Has escaped punctuation'\n",
    "\n",
    "# A cookie that only applies to part of a site\n",
    "c['restricted_cookie'] = 'cookie_value'\n",
    "c['restricted_cookie']['path'] = '/sub/path'\n",
    "c['restricted_cookie']['domain'] = 'PyMOTW'\n",
    "c['restricted_cookie']['secure'] = True\n",
    "\n",
    "# A cookie that expires in 5 minutes\n",
    "c['with_max_age'] = 'expires in 5 minutes'\n",
    "c['with_max_age']['max-age'] = 300  # seconds\n",
    "\n",
    "# A cookie that expires at a specific time\n",
    "c['expires_at_time'] = 'cookie_value'\n",
    "time_to_live = datetime.timedelta(hours=1)\n",
    "expires = (datetime.datetime(2009, 2, 14, 18, 30, 14) +\n",
    "           time_to_live)\n",
    "\n",
    "# Date format: Wdy, DD-Mon-YY HH:MM:SS GMT\n",
    "expires_at_time = expires.strftime('%a, %d %b %Y %H:%M:%S')\n",
    "c['expires_at_time']['expires'] = expires_at_time\n",
    "\n",
    "show_cookie(c)"
   ]
  },
  {
   "cell_type": "markdown",
   "metadata": {},
   "source": [
    "Both the Cookie and Morsel objects act like dictionaries. A Morsel responds to a fixed set of keys:\n",
    "\n",
    "* expires\n",
    "* path\n",
    "* comment\n",
    "* domain\n",
    "* max-age\n",
    "* secure\n",
    "* version\n",
    "\n",
    "The keys for a Cookie instance are the names of the individual cookies being stored. That information is also available from the key attribute of the Morsel."
   ]
  },
  {
   "cell_type": "markdown",
   "metadata": {},
   "source": [
    "## Encoded Values\n",
    "\n",
    "The cookie header needs values to be encoded so they can be parsed properly.\n",
    "\n",
    "Morsel.value is always the decoded value of the cookie, while Morsel.coded_value is always the representation to be used for transmitting the value to the client. Both values are always strings. Values saved to a cookie that are not strings are converted automatically."
   ]
  },
  {
   "cell_type": "code",
   "execution_count": 3,
   "metadata": {
    "collapsed": false
   },
   "outputs": [
    {
     "name": "stdout",
     "output_type": "stream",
     "text": [
      "integer\n",
      "  Set-Cookie: integer=5\n",
      "  value='5'\n",
      "  coded_value='5'\n",
      "\n",
      "with_quotes\n",
      "  Set-Cookie: with_quotes=\"He said\\054 \\\"Hello\\054 World!\\\"\"\n",
      "  value='He said, \"Hello, World!\"'\n",
      "  coded_value='\"He said\\\\054 \\\\\"Hello\\\\054 World!\\\\\"\"'\n",
      "\n"
     ]
    }
   ],
   "source": [
    "# http_cookies_coded_value.py\n",
    "from http import cookies\n",
    "\n",
    "\n",
    "c = cookies.SimpleCookie()\n",
    "c['integer'] = 5\n",
    "c['with_quotes'] = 'He said, \"Hello, World!\"'\n",
    "\n",
    "for name in ['integer', 'with_quotes']:\n",
    "    print(c[name].key)\n",
    "    print('  {}'.format(c[name]))\n",
    "    print('  value={!r}'.format(c[name].value))\n",
    "    print('  coded_value={!r}'.format(c[name].coded_value))\n",
    "    print()"
   ]
  },
  {
   "cell_type": "markdown",
   "metadata": {},
   "source": [
    "## Receiving and Parsing Cookie Headers\n",
    "\n",
    "Once the Set-Cookie headers are received by the client, it will return those cookies to the server on subsequent requests using a Cookie header. An incoming Cookie header string may contain several cookie values, separated by semicolons (;).\n",
    "\n",
    "Cookie: integer=5; with_quotes=\"He said, \\\"Hello, World!\\\"\"\n",
    "\n",
    "Depending on the web server and framework, cookies are either available directly from the headers or the HTTP_COOKIE environment variable.\n",
    "\n",
    "To decode them, pass the string without the header prefix to SimpleCookie when instantiating it, or use the load() method."
   ]
  },
  {
   "cell_type": "code",
   "execution_count": 4,
   "metadata": {
    "collapsed": false
   },
   "outputs": [
    {
     "name": "stdout",
     "output_type": "stream",
     "text": [
      "From constructor:\n",
      "Set-Cookie: integer=5\r\n",
      "Set-Cookie: with_quotes=\"He said, \\\"Hello, World!\\\"\"\n",
      "\n",
      "From load():\n",
      "Set-Cookie: integer=5\r\n",
      "Set-Cookie: with_quotes=\"He said, \\\"Hello, World!\\\"\"\n"
     ]
    }
   ],
   "source": [
    "# http_cookies_parse.py\n",
    "from http import cookies\n",
    "\n",
    "\n",
    "HTTP_COOKIE = '; '.join([\n",
    "    r'integer=5',\n",
    "    r'with_quotes=\"He said, \\\"Hello, World!\\\"\"',\n",
    "])\n",
    "\n",
    "print('From constructor:')\n",
    "c = cookies.SimpleCookie(HTTP_COOKIE)\n",
    "print(c)\n",
    "\n",
    "print()\n",
    "print('From load():')\n",
    "c = cookies.SimpleCookie()\n",
    "c.load(HTTP_COOKIE)\n",
    "print(c)"
   ]
  },
  {
   "cell_type": "markdown",
   "metadata": {},
   "source": [
    "## Alternative Output Formats\n",
    "\n",
    "Besides using the Set-Cookie header, servers may deliver JavaScript that adds cookies to a client. SimpleCookie and Morsel provide JavaScript output via the js_output() method.\n",
    "\n",
    "The result is a complete script tag with statements to set the cookies."
   ]
  },
  {
   "cell_type": "code",
   "execution_count": 5,
   "metadata": {
    "collapsed": false
   },
   "outputs": [
    {
     "name": "stdout",
     "output_type": "stream",
     "text": [
      "<script type=\"text/javascript\">\n",
      "<!-- begin hiding\n",
      "document.cookie = \"another_cookie=\\\"second value\\\"\";\n",
      "// end hiding -->\n",
      "</script>\n",
      "\n",
      "<script type=\"text/javascript\">\n",
      "<!-- begin hiding\n",
      "document.cookie = \"mycookie=cookie_value\";\n",
      "// end hiding -->\n",
      "</script>\n",
      "\n"
     ]
    }
   ],
   "source": [
    "# http_cookies_js_output.py\n",
    "from http import cookies\n",
    "import textwrap\n",
    "\n",
    "c = cookies.SimpleCookie()\n",
    "c['mycookie'] = 'cookie_value'\n",
    "c['another_cookie'] = 'second value'\n",
    "js_text = c.js_output()\n",
    "print(textwrap.dedent(js_text).lstrip())"
   ]
  }
 ],
 "metadata": {
  "kernelspec": {
   "display_name": "Python 3",
   "language": "python",
   "name": "python3"
  },
  "language_info": {
   "codemirror_mode": {
    "name": "ipython",
    "version": 3
   },
   "file_extension": ".py",
   "mimetype": "text/x-python",
   "name": "python",
   "nbconvert_exporter": "python",
   "pygments_lexer": "ipython3",
   "version": "3.5.2"
  }
 },
 "nbformat": 4,
 "nbformat_minor": 2
}
