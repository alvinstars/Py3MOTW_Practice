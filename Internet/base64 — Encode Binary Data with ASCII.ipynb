{
 "cells": [
  {
   "cell_type": "markdown",
   "metadata": {},
   "source": [
    "# base64 — Encode Binary Data with ASCII\n",
    "\n",
    "Purpose:\tThe base64 module contains functions for translating binary data into a subset of ASCII suitable for transmission using plaintext protocols.\n",
    "\n",
    "The base64, base32, base16, and base85 encodings convert 8 bit bytes to values that fit inside the ASCII range of printable characters, trading more bits to represent the data for compatibility with systems that only support ASCII data, such as SMTP. The base values correspond to the length of the alphabet used in each encoding. There are also URL-safe variations of the original encodings that use slightly different alphabets."
   ]
  },
  {
   "cell_type": "markdown",
   "metadata": {},
   "source": [
    "## Base 64 Encoding\n",
    "\n",
    "The input must be a byte string, so the unicode string is first encoded to UTF-8. The output shows the 394 bytes of the UTF-8 source expand to 528 bytes after being encoded."
   ]
  },
  {
   "cell_type": "raw",
   "metadata": {},
   "source": [
    "# base64_b64encode.py\n",
    "import base64\n",
    "import textwrap\n",
    "\n",
    "# Load this source file and strip the header.\n",
    "with open(__file__, 'r', encoding='utf-8') as input:\n",
    "    raw = input.read()\n",
    "    initial_data = raw.split('#splitting_point')[1]\n",
    "\n",
    "byte_string = initial_data.encode('utf-8')\n",
    "encoded_data = base64.b64encode(byte_string)\n",
    "\n",
    "num_initial = len(byte_string)\n",
    "\n",
    "# There will never be more than 2 padding bytes.\n",
    "padding = 3 - (num_initial % 3)\n",
    "\n",
    "print('{} bytes before encoding'.format(num_initial))\n",
    "print('Expect {} padding bytes'.format(padding))\n",
    "print('{} bytes after encoding\\n'.format(len(encoded_data)))\n",
    "print(encoded_data)"
   ]
  },
  {
   "cell_type": "markdown",
   "metadata": {},
   "source": [
    "#### Note\n",
    "There are no carriage returns in the encoded data produced by the library, but the output has been wrapped artificially to make it fit better on the page."
   ]
  },
  {
   "cell_type": "code",
   "execution_count": 1,
   "metadata": {
    "collapsed": false
   },
   "outputs": [
    {
     "name": "stdout",
     "output_type": "stream",
     "text": [
      "394 bytes before encoding\r\n",
      "Expect 2 padding bytes\r\n",
      "528 bytes after encoding\r\n",
      "\r\n",
      "b'JylbMV0KCmJ5dGVfc3RyaW5nID0gaW5pdGlhbF9kYXRhLmVuY29kZSgndXRmLTgnKQplbmNvZGVkX2RhdGEgPSBiYXNlNjQuYjY0ZW5jb2RlKGJ5dGVfc3RyaW5nKQoKbnVtX2luaXRpYWwgPSBsZW4oYnl0ZV9zdHJpbmcpCgojIFRoZXJlIHdpbGwgbmV2ZXIgYmUgbW9yZSB0aGFuIDIgcGFkZGluZyBieXRlcy4KcGFkZGluZyA9IDMgLSAobnVtX2luaXRpYWwgJSAzKQoKcHJpbnQoJ3t9IGJ5dGVzIGJlZm9yZSBlbmNvZGluZycuZm9ybWF0KG51bV9pbml0aWFsKSkKcHJpbnQoJ0V4cGVjdCB7fSBwYWRkaW5nIGJ5dGVzJy5mb3JtYXQocGFkZGluZykpCnByaW50KCd7fSBieXRlcyBhZnRlciBlbmNvZGluZ1xuJy5mb3JtYXQobGVuKGVuY29kZWRfZGF0YSkpKQpwcmludChlbmNvZGVkX2RhdGEpCg=='\r\n"
     ]
    }
   ],
   "source": [
    "! python3 base64_b64encode.py"
   ]
  },
  {
   "cell_type": "markdown",
   "metadata": {},
   "source": [
    "## Base 64 Decoding\n",
    "\n",
    "b64decode() converts an encoded string back to the original form by taking four bytes and converting them to the original three, using a lookup table.\n",
    "\n",
    "The encoding process looks at each sequence of 24 bits in the input (three bytes) and encodes those same 24 bits spread over four bytes in the output. The equal signs at the end of the output are padding inserted because the number of bits in the original string was not evenly divisible by 24, in this example."
   ]
  },
  {
   "cell_type": "code",
   "execution_count": 2,
   "metadata": {
    "collapsed": false
   },
   "outputs": [
    {
     "name": "stdout",
     "output_type": "stream",
     "text": [
      "Encoded : b'VGhpcyBpcyB0aGUgZGF0YSwgaW4gdGhlIGNsZWFyLg=='\n",
      "Decoded : b'This is the data, in the clear.'\n"
     ]
    }
   ],
   "source": [
    "# ase64_b64decode.py\n",
    "import base64\n",
    "\n",
    "encoded_data = b'VGhpcyBpcyB0aGUgZGF0YSwgaW4gdGhlIGNsZWFyLg=='\n",
    "decoded_data = base64.b64decode(encoded_data)\n",
    "print('Encoded :', encoded_data)\n",
    "print('Decoded :', decoded_data)"
   ]
  },
  {
   "cell_type": "markdown",
   "metadata": {},
   "source": [
    "The value returned from b64decode() is a byte string. If the contents are known to be text, the byte string can be converted to a unicode object. However, the point of using base 64 encoding is to be able to transmit binary data, and so it is not always safe to assume that the decoded value is text."
   ]
  },
  {
   "cell_type": "markdown",
   "metadata": {},
   "source": [
    "## URL-safe Variations\n",
    "\n",
    "Because the default base64 alphabet may use + and /, and those two characters are used in URLs, it is often necessary to use an alternate encoding with substitutes for those characters.\n",
    "\n",
    "The + is replaced with a -, and / is replaced with underscore (_). Otherwise, the alphabet is the same."
   ]
  },
  {
   "cell_type": "code",
   "execution_count": 3,
   "metadata": {
    "collapsed": false
   },
   "outputs": [
    {
     "name": "stdout",
     "output_type": "stream",
     "text": [
      "Original         : b'\\xfb\\xef'\n",
      "Standard encoding: b'++8='\n",
      "URL-safe encoding: b'--8='\n",
      "\n",
      "Original         : b'\\xff\\xff'\n",
      "Standard encoding: b'//8='\n",
      "URL-safe encoding: b'__8='\n",
      "\n"
     ]
    }
   ],
   "source": [
    "# base64_urlsafe.py\n",
    "import base64\n",
    "\n",
    "encodes_with_pluses = b'\\xfb\\xef'\n",
    "encodes_with_slashes = b'\\xff\\xff'\n",
    "\n",
    "for original in [encodes_with_pluses, encodes_with_slashes]:\n",
    "    print('Original         :', repr(original))\n",
    "    print('Standard encoding:',\n",
    "          base64.standard_b64encode(original))\n",
    "    print('URL-safe encoding:',\n",
    "          base64.urlsafe_b64encode(original))\n",
    "    print()"
   ]
  },
  {
   "cell_type": "markdown",
   "metadata": {},
   "source": [
    "## Other Encodings\n",
    "\n",
    "Besides Base64, the module provides functions for working with Base85, Base32, and Base16 (hex) encoded data."
   ]
  },
  {
   "cell_type": "markdown",
   "metadata": {},
   "source": [
    "The Base32 alphabet includes the 26 uppercase letters from the ASCII set and the digits 2 through 7."
   ]
  },
  {
   "cell_type": "code",
   "execution_count": 4,
   "metadata": {
    "collapsed": false
   },
   "outputs": [
    {
     "name": "stdout",
     "output_type": "stream",
     "text": [
      "Original: b'This is the data, in the clear.'\n",
      "Encoded : b'KRUGS4ZANFZSA5DIMUQGIYLUMEWCA2LOEB2GQZJAMNWGKYLSFY======'\n",
      "Decoded : b'This is the data, in the clear.'\n"
     ]
    }
   ],
   "source": [
    "# base64_base32.py\n",
    "import base64\n",
    "\n",
    "original_data = b'This is the data, in the clear.'\n",
    "print('Original:', original_data)\n",
    "\n",
    "encoded_data = base64.b32encode(original_data)\n",
    "print('Encoded :', encoded_data)\n",
    "\n",
    "decoded_data = base64.b32decode(encoded_data)\n",
    "print('Decoded :', decoded_data)"
   ]
  },
  {
   "cell_type": "markdown",
   "metadata": {},
   "source": [
    "The Base16 functions work with the hexadecimal alphabet.\n",
    "\n",
    "Each time the number of encoding bits goes down, the output in the encoded format takes up more space."
   ]
  },
  {
   "cell_type": "code",
   "execution_count": 5,
   "metadata": {
    "collapsed": false
   },
   "outputs": [
    {
     "name": "stdout",
     "output_type": "stream",
     "text": [
      "Original: b'This is the data, in the clear.'\n",
      "Encoded : b'546869732069732074686520646174612C20696E2074686520636C6561722E'\n",
      "Decoded : b'This is the data, in the clear.'\n"
     ]
    }
   ],
   "source": [
    "# base64_base16.py\n",
    "import base64\n",
    "\n",
    "original_data = b'This is the data, in the clear.'\n",
    "print('Original:', original_data)\n",
    "\n",
    "encoded_data = base64.b16encode(original_data)\n",
    "print('Encoded :', encoded_data)\n",
    "\n",
    "decoded_data = base64.b16decode(encoded_data)\n",
    "print('Decoded :', decoded_data)"
   ]
  },
  {
   "cell_type": "markdown",
   "metadata": {},
   "source": [
    "The Base85 functions use an expanded alphabet that is more space-efficient than base 64."
   ]
  },
  {
   "cell_type": "code",
   "execution_count": 6,
   "metadata": {
    "collapsed": false
   },
   "outputs": [
    {
     "name": "stdout",
     "output_type": "stream",
     "text": [
      "Original    : 31 bytes b'This is the data, in the clear.'\n",
      "b64 Encoded : 44 bytes b'VGhpcyBpcyB0aGUgZGF0YSwgaW4gdGhlIGNsZWFyLg=='\n",
      "b85 Encoded : 39 bytes b'RA^~)AZc?TbZBKDWMOn+EFfuaAarPDAY*K0VR9}'\n",
      "a85 Encoded : 39 bytes b'<+oue+DGm>FD,5.A79Rg/0JYE+EV:.+Cf5!@<*t'\n"
     ]
    }
   ],
   "source": [
    "# base64_base85.py\n",
    "import base64\n",
    "\n",
    "original_data = b'This is the data, in the clear.'\n",
    "print('Original    : {} bytes {!r}'.format(\n",
    "    len(original_data), original_data))\n",
    "\n",
    "b64_data = base64.b64encode(original_data)\n",
    "print('b64 Encoded : {} bytes {!r}'.format(\n",
    "    len(b64_data), b64_data))\n",
    "\n",
    "b85_data = base64.b85encode(original_data)\n",
    "print('b85 Encoded : {} bytes {!r}'.format(\n",
    "    len(b85_data), b85_data))\n",
    "\n",
    "a85_data = base64.a85encode(original_data)\n",
    "print('a85 Encoded : {} bytes {!r}'.format(\n",
    "    len(a85_data), a85_data))"
   ]
  },
  {
   "cell_type": "markdown",
   "metadata": {},
   "source": [
    "There are several Base85 encodings and different variations are used in Mercurial, git, and the PDF file format. Python includes two implementations, b85encode() implements the version used in Git and Mercurial while a85encode() implements the Ascii85 variant used by PDF files."
   ]
  }
 ],
 "metadata": {
  "kernelspec": {
   "display_name": "Python 3",
   "language": "python",
   "name": "python3"
  },
  "language_info": {
   "codemirror_mode": {
    "name": "ipython",
    "version": 3
   },
   "file_extension": ".py",
   "mimetype": "text/x-python",
   "name": "python",
   "nbconvert_exporter": "python",
   "pygments_lexer": "ipython3",
   "version": "3.5.2"
  }
 },
 "nbformat": 4,
 "nbformat_minor": 2
}
