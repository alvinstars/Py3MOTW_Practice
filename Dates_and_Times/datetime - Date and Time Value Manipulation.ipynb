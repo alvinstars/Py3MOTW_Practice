{
 "cells": [
  {
   "cell_type": "markdown",
   "metadata": {},
   "source": [
    "# datetime - Date and Time Value Manipulation\n",
    "\n",
    "Purpose:\tThe datetime module includes functions and classes for doing date and time parsing, formatting, and arithmetic.\n",
    "\n",
    "datetime contains functions and classes for working with dates and times, separately and together."
   ]
  },
  {
   "cell_type": "markdown",
   "metadata": {},
   "source": [
    "## Times\n",
    "\n",
    "Time values are represented with the time class. A time instance has attributes for hour, minute, second, and microsecond and can also include time zone information.\n",
    "\n",
    "The arguments to initialize a time instance are optional, but the default of 0 is unlikely to be correct."
   ]
  },
  {
   "cell_type": "code",
   "execution_count": 1,
   "metadata": {
    "collapsed": false
   },
   "outputs": [
    {
     "name": "stdout",
     "output_type": "stream",
     "text": [
      "01:02:03\n",
      "hour       : 1\n",
      "minute     : 2\n",
      "second     : 3\n",
      "microsecond: 0\n",
      "tzinfo     : None\n"
     ]
    }
   ],
   "source": [
    "# datetime_time.py\n",
    "\n",
    "import datetime\n",
    "\n",
    "t = datetime.time(1, 2, 3)\n",
    "\n",
    "print(t)\n",
    "print('hour       :', t.hour)\n",
    "print('minute     :', t.minute)\n",
    "print('second     :', t.second)\n",
    "print('microsecond:', t.microsecond)\n",
    "print('tzinfo     :', t.tzinfo)"
   ]
  },
  {
   "cell_type": "markdown",
   "metadata": {},
   "source": [
    "A time instance only holds values of time, and not a date associated with the time.\n",
    "\n",
    "The min and max class attributes reflect the valid range of times in a single day."
   ]
  },
  {
   "cell_type": "code",
   "execution_count": 2,
   "metadata": {
    "collapsed": false
   },
   "outputs": [
    {
     "name": "stdout",
     "output_type": "stream",
     "text": [
      "Earliest  : 00:00:00\n",
      "Latest    : 23:59:59.999999\n",
      "Resolution: 0:00:00.000001\n"
     ]
    }
   ],
   "source": [
    "# datetime_time_minmax.py\n",
    "\n",
    "import datetime\n",
    "\n",
    "print('Earliest  :', datetime.time.min)\n",
    "print('Latest    :', datetime.time.max)\n",
    "print('Resolution:', datetime.time.resolution)"
   ]
  },
  {
   "cell_type": "markdown",
   "metadata": {},
   "source": [
    "The resolution for time is limited to whole microseconds.\n",
    "\n",
    "Floating point values for microseconds cause a TypeError."
   ]
  },
  {
   "cell_type": "code",
   "execution_count": 3,
   "metadata": {
    "collapsed": false
   },
   "outputs": [
    {
     "name": "stdout",
     "output_type": "stream",
     "text": [
      "1.0 : 00:00:00.000001\n",
      "0.0 : 00:00:00\n",
      "Error:  integer argument expected, got float\n",
      "Error:  integer argument expected, got float\n",
      "9999.0 : 00:00:00.009999\n"
     ]
    }
   ],
   "source": [
    "# datetime_time_resolution.py\n",
    "\n",
    "import datetime\n",
    "\n",
    "for m in [1, 0, 0.1, 0.6, 9999]:\n",
    "    try:\n",
    "        print('{:02.1f} :'.format(m), \n",
    "             datetime.time(0, 0, 0, microsecond=m))\n",
    "    except TypeError as err:\n",
    "        print('Error: ', err)"
   ]
  },
  {
   "cell_type": "markdown",
   "metadata": {},
   "source": [
    "## Dates\n",
    "\n",
    "Calendar date values are represented with the date class. Instances have attributes for year, month, and day. It is easy to create a date representing the current date using the today() class method.\n",
    "\n",
    "This example prints the current date in several formats:"
   ]
  },
  {
   "cell_type": "code",
   "execution_count": 4,
   "metadata": {
    "collapsed": false
   },
   "outputs": [
    {
     "name": "stdout",
     "output_type": "stream",
     "text": [
      "2017-04-02\n",
      "ctime  : Sun Apr  2 00:00:00 2017\n",
      "tuple  : tm_year  = 2017\n",
      "         tm_mon   = 4\n",
      "         tm_mday  = 2\n",
      "         tm_hour  = 0\n",
      "         tm_min   = 0\n",
      "         tm_sec   = 0\n",
      "         tm_wday  = 6\n",
      "         tm_yday  = 92\n",
      "         tm_isdst = -1\n",
      "ordinal: 736421\n",
      "Year   : 2017\n",
      "Mon    : 4\n",
      "Day    : 2\n"
     ]
    }
   ],
   "source": [
    "# datetime_date.py\n",
    "import datetime\n",
    "\n",
    "today = datetime.date.today()\n",
    "print(today)\n",
    "print('ctime  :', today.ctime())\n",
    "tt = today.timetuple()\n",
    "print('tuple  : tm_year  =', tt.tm_year)\n",
    "print('         tm_mon   =', tt.tm_mon)\n",
    "print('         tm_mday  =', tt.tm_mday)\n",
    "print('         tm_hour  =', tt.tm_hour)\n",
    "print('         tm_min   =', tt.tm_min)\n",
    "print('         tm_sec   =', tt.tm_sec)\n",
    "print('         tm_wday  =', tt.tm_wday)\n",
    "print('         tm_yday  =', tt.tm_yday)\n",
    "print('         tm_isdst =', tt.tm_isdst)\n",
    "print('ordinal:', today.toordinal())\n",
    "print('Year   :', today.year)\n",
    "print('Mon    :', today.month)\n",
    "print('Day    :', today.day)"
   ]
  },
  {
   "cell_type": "markdown",
   "metadata": {},
   "source": [
    "There are also class methods for creating instances from POSIX timestamps or integers representing date values from the Gregorian calendar, where January 1 of the year 1 is 1 and each subsequent day increments the value by 1.\n",
    "\n",
    "This example illustrates the different value types used by fromordinal() and fromtimestamp()."
   ]
  },
  {
   "cell_type": "code",
   "execution_count": 5,
   "metadata": {
    "collapsed": false
   },
   "outputs": [
    {
     "name": "stdout",
     "output_type": "stream",
     "text": [
      "o               : 733114\n",
      "fromordinal(o)  : 2008-03-13\n",
      "t               : 1491159693.881963\n",
      "fromtimestamp(t): 2017-04-02\n"
     ]
    }
   ],
   "source": [
    "# datetime_date_fromordinal.py\n",
    "import datetime\n",
    "import time\n",
    "\n",
    "o = 733114\n",
    "print('o               :', o)\n",
    "print('fromordinal(o)  :', datetime.date.fromordinal(o))\n",
    "\n",
    "t = time.time()\n",
    "print('t               :', t)\n",
    "print('fromtimestamp(t):', datetime.date.fromtimestamp(t))"
   ]
  },
  {
   "cell_type": "markdown",
   "metadata": {},
   "source": [
    "As with time, the range of date values supported can be determined using the min and max attributes.\n",
    "\n",
    "The resolution for dates is whole days."
   ]
  },
  {
   "cell_type": "code",
   "execution_count": 6,
   "metadata": {
    "collapsed": false
   },
   "outputs": [
    {
     "name": "stdout",
     "output_type": "stream",
     "text": [
      "Earliest  : 0001-01-01\n",
      "Latest    : 9999-12-31\n",
      "Resolution: 1 day, 0:00:00\n"
     ]
    }
   ],
   "source": [
    "# datetime_date_minmax.py\n",
    "import datetime\n",
    "\n",
    "print('Earliest  :', datetime.date.min)\n",
    "print('Latest    :', datetime.date.max)\n",
    "print('Resolution:', datetime.date.resolution)"
   ]
  },
  {
   "cell_type": "markdown",
   "metadata": {},
   "source": [
    "Another way to create new date instances uses the replace() method of an existing date.\n",
    "\n",
    "This example changes the year, leaving the day and month unmodified."
   ]
  },
  {
   "cell_type": "code",
   "execution_count": 7,
   "metadata": {
    "collapsed": false
   },
   "outputs": [
    {
     "name": "stdout",
     "output_type": "stream",
     "text": [
      "d1: Sat Mar 29 00:00:00 2008\n",
      "d2: Wed Mar 29 00:00:00 2017\n"
     ]
    }
   ],
   "source": [
    "# datetime_date_replace.py\n",
    "\n",
    "import datetime\n",
    "\n",
    "d1 = datetime.date(2008, 3, 29)\n",
    "print('d1:', d1.ctime())\n",
    "\n",
    "d2 = d1.replace(year=2017)\n",
    "print('d2:', d2.ctime())"
   ]
  },
  {
   "cell_type": "markdown",
   "metadata": {},
   "source": [
    "## timedeltas\n",
    "\n",
    "Future and past dates can be calculated using basic arithmetic on two datetime objects, or by combining a datetime with a timedelta. Subtracting dates produces a timedelta, and a timedelta can be added or subtracted from a date to produce another date. The internal values for a timedelta are stored in days, seconds, and microseconds.\n",
    "\n",
    "Intermediate level values passed to the constructor are converted into days, seconds, and microseconds."
   ]
  },
  {
   "cell_type": "code",
   "execution_count": 8,
   "metadata": {
    "collapsed": false
   },
   "outputs": [
    {
     "name": "stdout",
     "output_type": "stream",
     "text": [
      "microseconds: 0:00:00.000001\n",
      "milliseconds: 0:00:00.001000\n",
      "seconds     : 0:00:01\n",
      "minutes     : 0:01:00\n",
      "hours       : 1:00:00\n",
      "days        : 1 day, 0:00:00\n",
      "weeks       : 7 days, 0:00:00\n"
     ]
    }
   ],
   "source": [
    "# datetime_timedelta.py\n",
    "import datetime\n",
    "\n",
    "print('microseconds:', datetime.timedelta(microseconds=1))\n",
    "print('milliseconds:', datetime.timedelta(milliseconds=1))\n",
    "print('seconds     :', datetime.timedelta(seconds=1))\n",
    "print('minutes     :', datetime.timedelta(minutes=1))\n",
    "print('hours       :', datetime.timedelta(hours=1))\n",
    "print('days        :', datetime.timedelta(days=1))\n",
    "print('weeks       :', datetime.timedelta(weeks=1))"
   ]
  },
  {
   "cell_type": "markdown",
   "metadata": {},
   "source": [
    "The full duration of a timedelta can be retrieved as a number of seconds using total_seconds().\n",
    "\n",
    "The return value is a floating point number, to accommodate sub-second durations."
   ]
  },
  {
   "cell_type": "code",
   "execution_count": 9,
   "metadata": {
    "collapsed": false
   },
   "outputs": [
    {
     "name": "stdout",
     "output_type": "stream",
     "text": [
      "0:00:00.000001  =    1e-06 seconds\n",
      "0:00:00.001000  =    0.001 seconds\n",
      "0:00:01         =      1.0 seconds\n",
      "0:01:00         =     60.0 seconds\n",
      "1:00:00         =   3600.0 seconds\n",
      "1 day, 0:00:00  =  86400.0 seconds\n",
      "7 days, 0:00:00 = 604800.0 seconds\n"
     ]
    }
   ],
   "source": [
    "# datetime_timedelta_total_seconds.py\n",
    "import datetime\n",
    "\n",
    "for delta in [datetime.timedelta(microseconds=1),\n",
    "              datetime.timedelta(milliseconds=1),\n",
    "              datetime.timedelta(seconds=1),\n",
    "              datetime.timedelta(minutes=1),\n",
    "              datetime.timedelta(hours=1),\n",
    "              datetime.timedelta(days=1),\n",
    "              datetime.timedelta(weeks=1),\n",
    "              ]:\n",
    "    print('{:15} = {:8} seconds'.format(\n",
    "        str(delta), delta.total_seconds())\n",
    "    )"
   ]
  },
  {
   "cell_type": "markdown",
   "metadata": {},
   "source": [
    "## Date Arithmetic\n",
    "\n",
    "Date math uses the standard arithmetic operators.\n",
    "\n",
    "This example with date objects illustrates using timedelta objects to compute new dates, and subtracting date instances to produce timedeltas (including a negative delta value)."
   ]
  },
  {
   "cell_type": "code",
   "execution_count": 10,
   "metadata": {
    "collapsed": false
   },
   "outputs": [
    {
     "name": "stdout",
     "output_type": "stream",
     "text": [
      "Today    : 2017-04-02\n",
      "One day  : 1 day, 0:00:00\n",
      "Yesterday: 2017-04-01\n",
      "Tomorrow : 2017-04-03\n",
      "\n",
      "tomorrow - yesterday: 2 days, 0:00:00\n",
      "yesterday - tomorrow: -2 days, 0:00:00\n"
     ]
    }
   ],
   "source": [
    "# datetime_date_math.py\n",
    "import datetime\n",
    "\n",
    "today = datetime.date.today()\n",
    "print('Today    :', today)\n",
    "\n",
    "one_day = datetime.timedelta(days=1)\n",
    "print('One day  :', one_day)\n",
    "\n",
    "yesterday = today - one_day\n",
    "print('Yesterday:', yesterday)\n",
    "\n",
    "tomorrow = today + one_day\n",
    "print('Tomorrow :', tomorrow)\n",
    "\n",
    "print()\n",
    "print('tomorrow - yesterday:', tomorrow - yesterday)\n",
    "print('yesterday - tomorrow:', yesterday - tomorrow)"
   ]
  },
  {
   "cell_type": "markdown",
   "metadata": {},
   "source": [
    "A timedelta object also supports arithmetic with integers, floats, and other timedelta instances.\n",
    "\n",
    "In this example, several multiples of a single day are computed, with the resulting timedelta holding the appropriate number of days or hours. The final example demonstrates how to compute values by combining two timedelta objects. In this case, the result is a floating point number."
   ]
  },
  {
   "cell_type": "code",
   "execution_count": 11,
   "metadata": {
    "collapsed": false
   },
   "outputs": [
    {
     "name": "stdout",
     "output_type": "stream",
     "text": [
      "1 day    : 1 day, 0:00:00\n",
      "5 days   : 5 days, 0:00:00\n",
      "1.5 days : 1 day, 12:00:00\n",
      "1/4 day  : 6:00:00\n",
      "meetings per day : 7.0\n"
     ]
    }
   ],
   "source": [
    "# datetime_timedelta_math.py\n",
    "\n",
    "import datetime\n",
    "\n",
    "one_day = datetime.timedelta(days=1)\n",
    "print('1 day    :', one_day)\n",
    "print('5 days   :', one_day * 5)\n",
    "print('1.5 days :', one_day * 1.5)\n",
    "print('1/4 day  :', one_day / 4)\n",
    "\n",
    "# assume an hour for lunch\n",
    "work_day = datetime.timedelta(hours=7)\n",
    "meeting_length = datetime.timedelta(hours=1)\n",
    "print('meetings per day :', work_day / meeting_length)\n"
   ]
  },
  {
   "cell_type": "markdown",
   "metadata": {},
   "source": [
    "## Comparing Values\n",
    "\n",
    "Both date and time values can be compared using the standard comparison operators to determine which is earlier or later."
   ]
  },
  {
   "cell_type": "code",
   "execution_count": 12,
   "metadata": {
    "collapsed": false
   },
   "outputs": [
    {
     "name": "stdout",
     "output_type": "stream",
     "text": [
      "Times:\n",
      "  t1: 12:55:00\n",
      "  t2: 13:05:00\n",
      "  t1 < t2: True\n",
      "\n",
      "Dates:\n",
      "  d1: 2017-04-02\n",
      "  d2: 2017-04-03\n",
      "  d1 > d2: False\n"
     ]
    }
   ],
   "source": [
    "# datetime_comparing.py\n",
    "\n",
    "import datetime\n",
    "import time\n",
    "\n",
    "print('Times:')\n",
    "t1 = datetime.time(12, 55, 0)\n",
    "print('  t1:', t1)\n",
    "t2 = datetime.time(13, 5, 0)\n",
    "print('  t2:', t2)\n",
    "print('  t1 < t2:', t1 < t2)\n",
    "\n",
    "print('\\nDates:')\n",
    "d1 = datetime.date.today()\n",
    "print('  d1:', d1)\n",
    "d2 = datetime.date.today() + datetime.timedelta(days=1)\n",
    "print('  d2:', d2)\n",
    "print('  d1 > d2:', d1 > d2)"
   ]
  },
  {
   "cell_type": "markdown",
   "metadata": {},
   "source": [
    "## Combining Dates and Times\n",
    "\n",
    "Use the datetime class to hold values consisting of both date and time components. As with date, there are several convenient class methods to make creating datetime instances from other common values.\n",
    "\n",
    "As might be expected, the datetime instance has all of the attributes of both a date and a time object."
   ]
  },
  {
   "cell_type": "code",
   "execution_count": 13,
   "metadata": {
    "collapsed": false
   },
   "outputs": [
    {
     "name": "stdout",
     "output_type": "stream",
     "text": [
      "Now    : 2017-04-02 15:01:34.055942\n",
      "Today  : 2017-04-02 15:01:34.056267\n",
      "UTC Now: 2017-04-02 19:01:34.056471\n",
      "year           : 2017\n",
      "month          : 4\n",
      "day            : 2\n",
      "hour           : 15\n",
      "minute         : 1\n",
      "second         : 34\n",
      "microsecond    : 61604\n"
     ]
    }
   ],
   "source": [
    "# datetime_datetime.py\n",
    "\n",
    "import datetime\n",
    "\n",
    "print('Now    :', datetime.datetime.now())\n",
    "print('Today  :', datetime.datetime.today())\n",
    "print('UTC Now:', datetime.datetime.utcnow())\n",
    "print\n",
    "\n",
    "FIELDS = [\n",
    "    'year', 'month', 'day',\n",
    "    'hour', 'minute', 'second',\n",
    "    'microsecond',\n",
    "]\n",
    "\n",
    "d = datetime.datetime.now()\n",
    "for attr in FIELDS:\n",
    "    print('{:15}: {}'.format(attr, getattr(d, attr)))"
   ]
  },
  {
   "cell_type": "markdown",
   "metadata": {},
   "source": [
    "Just as with date, datetime provides convenient class methods for creating new instances. It also includes fromordinal() and fromtimestamp().\n",
    "\n",
    "combine() creates datetime instances from one date and one time instance."
   ]
  },
  {
   "cell_type": "code",
   "execution_count": 14,
   "metadata": {
    "collapsed": false
   },
   "outputs": [
    {
     "name": "stdout",
     "output_type": "stream",
     "text": [
      "t : 01:02:03\n",
      "d : 2017-04-02\n",
      "dt: 2017-04-02 01:02:03\n"
     ]
    }
   ],
   "source": [
    "# datetime_datetime_combine.py\n",
    "import datetime\n",
    "\n",
    "t = datetime.time(1, 2, 3)\n",
    "print('t :', t)\n",
    "\n",
    "d = datetime.date.today()\n",
    "print('d :', d)\n",
    "\n",
    "dt = datetime.datetime.combine(d, t)\n",
    "print('dt:', dt)"
   ]
  },
  {
   "cell_type": "markdown",
   "metadata": {},
   "source": [
    "## Formatting and Parsing\n",
    "\n",
    "The default string representation of a datetime object uses the ISO-8601 format (YYYY-MM-DDTHH:MM:SS.mmmmmm). Alternate formats can be generated using strftime().\n",
    "\n",
    "Use datetime.strptime() to convert formatted strings to datetime instances."
   ]
  },
  {
   "cell_type": "code",
   "execution_count": 15,
   "metadata": {
    "collapsed": false
   },
   "outputs": [
    {
     "name": "stdout",
     "output_type": "stream",
     "text": [
      "ISO     : 2017-04-02 15:01:34.098109\n",
      "strftime: Sun Apr 02 15:01:34 2017\n",
      "strptime: Sun Apr 02 15:01:34 2017\n"
     ]
    }
   ],
   "source": [
    "# datetime_datetime_strptime.py\n",
    "import datetime\n",
    "\n",
    "format = \"%a %b %d %H:%M:%S %Y\"\n",
    "\n",
    "today = datetime.datetime.today()\n",
    "print('ISO     :', today)\n",
    "\n",
    "s = today.strftime(format)\n",
    "print('strftime:', s)\n",
    "\n",
    "d = datetime.datetime.strptime(s, format)\n",
    "print('strptime:', d.strftime(format))"
   ]
  },
  {
   "cell_type": "markdown",
   "metadata": {},
   "source": [
    "The same formatting codes can be used with Python’s string formatting mini-language by placing them after the : in the field specification of the format string.\n",
    "\n",
    "Each datetime format code must still be prefixed with %, and subsequent colons are treated as literal characters to include in the output."
   ]
  },
  {
   "cell_type": "code",
   "execution_count": 16,
   "metadata": {
    "collapsed": false
   },
   "outputs": [
    {
     "name": "stdout",
     "output_type": "stream",
     "text": [
      "ISO     : 2017-04-02 15:01:34.114346\n",
      "format(): Sun Apr 02 15:01:34 2017\n"
     ]
    }
   ],
   "source": [
    "# datetime_format.py\n",
    "import datetime\n",
    "\n",
    "today = datetime.datetime.today()\n",
    "print('ISO     :', today)\n",
    "print('format(): {:%a %b %d %H:%M:%S %Y}'.format(today))"
   ]
  },
  {
   "cell_type": "markdown",
   "metadata": {},
   "source": [
    "The following table demonstrates all of the formatting codes for 5:00 PM January 13, 2016 in the US/Eastern time zone.\n",
    "\n",
    "Or \n",
    "\n",
    "Jan 13, 2016 05:00:00 PM, US/Eastern"
   ]
  },
  {
   "cell_type": "markdown",
   "metadata": {},
   "source": [
    "| Symbol | Meaning                                             | Example                    |\n",
    "|--------|-----------------------------------------------------|----------------------------|\n",
    "| %a     | Abbreviated weekday name                            | 'Wed'                      |\n",
    "| %A     | Full weekday name                                   | 'Wednesday'                |\n",
    "| %w     | Weekday number – 0 (Sunday) through 6 (Saturday)    | '3'                        |\n",
    "| %d     | Day of the month (zero padded)                      | '13'                       |\n",
    "| %b     | Abbreviated month name                              | 'Jan'                      |\n",
    "| %B     | Full month name                                     | 'January'                  |\n",
    "| %m     | Month of the year                                   | '01'                       |\n",
    "| %y     | Year without century                                | '16'                       |\n",
    "| %Y     | Year with century                                   | '2016'                     |\n",
    "| %H     | Hour from 24-hour clock                             | '17'                       |\n",
    "| %I     | Hour from 12-hour clock                             | '05'                       |\n",
    "| %p     | AM/PM                                               | 'PM'                       |\n",
    "| %M     | Minutes                                             | '00'                       |\n",
    "| %S     | Seconds                                             | '00'                       |\n",
    "| %f     | Microseconds                                        | '000000'                   |\n",
    "| %z     | UTC offset for time zone-aware objects              | '-0500'                    |\n",
    "| %Z     | Time Zone name                                      | 'EST'                      |\n",
    "| %j     | Day of the year                                     | '013'                      |\n",
    "| %W     | Week of the year                                    | '02'                       |\n",
    "| %c     | Date and time representation for the current locale | 'Wed Jan 13 17:00:00 2016' |\n",
    "| %x     | Date representation for the current locale          | '01/13/16'                 |\n",
    "| %X     | Time representation for the current locale          | '17:00:00'                 |\n",
    "| %%     | A literal % character                               | '%'                        |"
   ]
  },
  {
   "cell_type": "markdown",
   "metadata": {},
   "source": [
    "## Time Zones\n",
    "\n",
    "Within datetime, time zones are represented by subclasses of tzinfo. Since tzinfo is an abstract base class, applications need to define a subclass and provide appropriate implementations for a few methods to make it useful.\n",
    "\n",
    "datetime does include a somewhat naive implementation in the class timezone that uses a fixed offset from UTC, and does not support different offset values on different days of the year, such as where daylight savings time applies, or where the offset from UTC has changed over time.\n",
    "\n",
    "To convert a datetime value from one time zone to another, use astimezone(). In the example above, two separate time zones 6 hours on either side of UTC are shown, and the utc instance from datetime.timezone is also used for reference. The final output line shows the value in the system timezone, acquired by calling astimezone() with no argument."
   ]
  },
  {
   "cell_type": "code",
   "execution_count": 17,
   "metadata": {
    "collapsed": false
   },
   "outputs": [
    {
     "name": "stdout",
     "output_type": "stream",
     "text": [
      "UTC-06:00 : 2017-04-02 13:01:34.130996-06:00\n",
      "UTC+00:00 : 2017-04-02 19:01:34.130996+00:00\n",
      "UTC+06:00 : 2017-04-03 01:01:34.130996+06:00\n",
      "EDT       : 2017-04-02 15:01:34.130996-04:00\n"
     ]
    }
   ],
   "source": [
    "# datetime_timezone.py\n",
    "import datetime\n",
    "\n",
    "min6 = datetime.timezone(datetime.timedelta(hours=-6))\n",
    "plus6 = datetime.timezone(datetime.timedelta(hours=6))\n",
    "d = datetime.datetime.now(min6)\n",
    "\n",
    "print(min6, ':', d)\n",
    "print(datetime.timezone.utc, ':',\n",
    "      d.astimezone(datetime.timezone.utc))\n",
    "print(plus6, ':', d.astimezone(plus6))\n",
    "\n",
    "# convert to the current system timezone\n",
    "d_system = d.astimezone() ## astimezone() uses the current timezone as default\n",
    "print(d_system.tzinfo, '      :', d_system)"
   ]
  }
 ],
 "metadata": {
  "kernelspec": {
   "display_name": "Python 3",
   "language": "python",
   "name": "python3"
  },
  "language_info": {
   "codemirror_mode": {
    "name": "ipython",
    "version": 3
   },
   "file_extension": ".py",
   "mimetype": "text/x-python",
   "name": "python",
   "nbconvert_exporter": "python",
   "pygments_lexer": "ipython3",
   "version": "3.5.2"
  }
 },
 "nbformat": 4,
 "nbformat_minor": 2
}
