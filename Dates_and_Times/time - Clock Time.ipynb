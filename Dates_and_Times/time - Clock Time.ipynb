{
 "cells": [
  {
   "cell_type": "markdown",
   "metadata": {},
   "source": [
    "# time - Clock Time\n",
    "\n",
    "Purpose:\tFunctions for manipulating clock time.\n",
    "\n",
    "The time module provides access to several different types of clocks, each useful for different purposes. The standard system calls like time() report the system “wall clock” time. The monotonic() clock can be used to measure elapsed time in a long-running process because it is guaranteed never to move backwards, even if the system time is changed. For performance testing, perf_counter() provides access to the clock with the highest available resolution to make short time measurements more accurate. The CPU time is available through clock(), and process_time() returns the combined processor time and system time."
   ]
  },
  {
   "cell_type": "markdown",
   "metadata": {},
   "source": [
    "#### Note\n",
    "The implementations expose C library functions for manipulating dates and times. Since they are tied to the underlying C implementation, some details (such as the start of the epoch and maximum date value supported) are platform-specific. Refer to the library documentation for complete details."
   ]
  },
  {
   "cell_type": "markdown",
   "metadata": {},
   "source": [
    "## Comparing Clocks\n",
    "\n",
    "Implementation details for the clocks varies by platform. Use get_clock_info() to access basic information about the current implementation, including the clock’s resolution.\n",
    "\n",
    "This output for Mac OS X shows that the monotonic and perf_counter clocks are implemented using the same underlying system call."
   ]
  },
  {
   "cell_type": "code",
   "execution_count": 1,
   "metadata": {
    "collapsed": false
   },
   "outputs": [
    {
     "name": "stdout",
     "output_type": "stream",
     "text": [
      "clock:\n",
      "    adjustable     : False\n",
      "    implementaion  : clock()\n",
      "    monotonic      : True\n",
      "    resolution     : 1e-06\n",
      "    current        : 1.006665 \n",
      "\n",
      "monotonic:\n",
      "    adjustable     : False\n",
      "    implementaion  : mach_absolute_time()\n",
      "    monotonic      : True\n",
      "    resolution     : 1e-09\n",
      "    current        : 270199.643583514 \n",
      "\n",
      "perf_counter:\n",
      "    adjustable     : False\n",
      "    implementaion  : mach_absolute_time()\n",
      "    monotonic      : True\n",
      "    resolution     : 1e-09\n",
      "    current        : 270199.64374085 \n",
      "\n",
      "process_time:\n",
      "    adjustable     : False\n",
      "    implementaion  : getrusage(RUSAGE_SELF)\n",
      "    monotonic      : True\n",
      "    resolution     : 1e-06\n",
      "    current        : 1.0090109999999999 \n",
      "\n",
      "time:\n",
      "    adjustable     : True\n",
      "    implementaion  : gettimeofday()\n",
      "    monotonic      : False\n",
      "    resolution     : 1e-06\n",
      "    current        : 1490938451.065118 \n",
      "\n"
     ]
    }
   ],
   "source": [
    "# time_get_clock_info.py\n",
    "\n",
    "import textwrap\n",
    "import time\n",
    "\n",
    "available_clocks = [\n",
    "    ('clock', time.clock),\n",
    "    ('monotonic', time.monotonic),\n",
    "    ('perf_counter', time.perf_counter),\n",
    "    ('process_time', time.process_time),\n",
    "    ('time', time.time),\n",
    "]\n",
    "\n",
    "for clock_name, func in available_clocks:\n",
    "    print(textwrap.dedent('''\\\n",
    "    {name}:\n",
    "        adjustable     : {info.adjustable}\n",
    "        implementaion  : {info.implementation}\n",
    "        monotonic      : {info.monotonic}\n",
    "        resolution     : {info.resolution}\n",
    "        current        : {current} \n",
    "    ''').format(\n",
    "        name=clock_name,\n",
    "        info=time.get_clock_info(clock_name),\n",
    "        current=func()\n",
    "    ))\n",
    "\n"
   ]
  },
  {
   "cell_type": "markdown",
   "metadata": {},
   "source": [
    "## Wall Clock Time\n",
    "\n",
    "One of the core functions of the time module is time(), which returns the number of seconds since the start of the “epoch” as a floating point value.\n",
    "\n",
    "The epoch is the start of measurement for time, which for Unix systems is 0:00 on January 1, 1970. Although the value is always a float, actual precision is platform-dependent."
   ]
  },
  {
   "cell_type": "code",
   "execution_count": 2,
   "metadata": {
    "collapsed": false
   },
   "outputs": [
    {
     "name": "stdout",
     "output_type": "stream",
     "text": [
      "the time is:  1490938451.073378\n"
     ]
    }
   ],
   "source": [
    "#time_time.py\n",
    "import time\n",
    "print('the time is: ', time.time())"
   ]
  },
  {
   "cell_type": "markdown",
   "metadata": {},
   "source": [
    "The float representation is useful when storing or comparing dates, but not as useful for producing human readable representations. For logging or printing time ctime() can be more useful.\n",
    "\n",
    "The second print() call in this example shows how to use ctime() to format a time value other than the current time."
   ]
  },
  {
   "cell_type": "code",
   "execution_count": 3,
   "metadata": {
    "collapsed": false
   },
   "outputs": [
    {
     "name": "stdout",
     "output_type": "stream",
     "text": [
      "the time is:  Fri Mar 31 01:34:11 2017\n",
      "15 sec from now:  Fri Mar 31 01:34:26 2017\n"
     ]
    }
   ],
   "source": [
    "# time_ctime.py\n",
    "print('the time is: ', time.ctime())\n",
    "\n",
    "later = time.time() + 15\n",
    "\n",
    "print ('15 sec from now: ', time.ctime(later))"
   ]
  },
  {
   "cell_type": "markdown",
   "metadata": {},
   "source": [
    "## Monotonic Clocks\n",
    "\n",
    "Because time() looks at the system clock, and the system clock can be changed by the user or system services for synchronizing clocks across multiple computers, calling time() repeatedly may produce values that go forwards and backwards. This can result in unexpected behavior when trying to measure durations or otherwise use those times for computation. Avoid those situations by using monotonic(), which always returns values that go forward.\n",
    "\n",
    "The start point for the monotonic clock is not defined, so return values are only useful for doing calculations with other clock values. In this example the duration of the sleep is measured using monotonic()."
   ]
  },
  {
   "cell_type": "code",
   "execution_count": 4,
   "metadata": {
    "collapsed": false
   },
   "outputs": [
    {
     "name": "stdout",
     "output_type": "stream",
     "text": [
      "start : 270199.67\n",
      "end   : 270199.78\n",
      "span  :      0.10\n"
     ]
    }
   ],
   "source": [
    "# time_monotonic.py\n",
    "import time\n",
    "start = time.monotonic()\n",
    "time.sleep(0.1)\n",
    "end = time.monotonic()\n",
    "print('start : {:>9.2f}'.format(start))\n",
    "print('end   : {:>9.2f}'.format(end))\n",
    "print('span  : {:>9.2f}'.format(end - start))"
   ]
  },
  {
   "cell_type": "markdown",
   "metadata": {},
   "source": [
    "## Processor Clock Time\n",
    "\n",
    "While time() returns a wall clock time, clock() returns processor clock time. The values returned from clock() reflect the actual time used by the program as it runs.\n",
    "\n",
    "In this example, the formatted ctime() is printed along with the floating point values from time(), and clock() for each iteration through the loop.\n",
    "\n",
    "#### Note\n",
    "If you want to run the example on your system, you may have to add more cycles to the inner loop or work with a larger amount of data to actually see a difference in the times."
   ]
  },
  {
   "cell_type": "code",
   "execution_count": 5,
   "metadata": {
    "collapsed": false
   },
   "outputs": [
    {
     "name": "stdout",
     "output_type": "stream",
     "text": [
      "Fri Mar 31 01:34:11 2017 : 1490938451.212 1.058\n",
      "Fri Mar 31 01:34:14 2017 : 1490938454.720 4.548\n",
      "Fri Mar 31 01:34:18 2017 : 1490938458.198 8.012\n",
      "Fri Mar 31 01:34:21 2017 : 1490938461.665 11.470\n",
      "Fri Mar 31 01:34:25 2017 : 1490938465.353 15.113\n"
     ]
    }
   ],
   "source": [
    "# time_clock.py\n",
    "\n",
    "import hashlib\n",
    "import time\n",
    "\n",
    "# Data to use to calculate md5 checksums\n",
    "data = open('example.txt','rb').read()\n",
    "\n",
    "for i in range(5):\n",
    "    h = hashlib.sha1()\n",
    "    print(time.ctime(), ': {:0.3f} {:0.3f}'.format(time.time(), time.clock()))\n",
    "    for i in range(8000000):\n",
    "        h.update(data)\n",
    "    cksum = h.digest()"
   ]
  },
  {
   "cell_type": "markdown",
   "metadata": {},
   "source": [
    "Typically, the processor clock does not tick if a program is not doing anything\n",
    "\n",
    "In this example, the loop does very little work by going to sleep after each iteration. The time() value increases even while the application is asleep, but the clock() value does not."
   ]
  },
  {
   "cell_type": "code",
   "execution_count": 6,
   "metadata": {
    "collapsed": false
   },
   "outputs": [
    {
     "name": "stdout",
     "output_type": "stream",
     "text": [
      "Fri Mar 31 01:34:29 2017 - 1490938469.53 - 19.05\n",
      "Sleeping 3\n",
      "Fri Mar 31 01:34:32 2017 - 1490938472.53 - 19.06\n",
      "Sleeping 2\n",
      "Fri Mar 31 01:34:34 2017 - 1490938474.53 - 19.06\n",
      "Sleeping 1\n",
      "Fri Mar 31 01:34:35 2017 - 1490938475.54 - 19.06\n"
     ]
    }
   ],
   "source": [
    "# time_clock_sleep.py\n",
    "\n",
    "import time \n",
    "template = '{} - {:0.2f} - {:0.2f}'\n",
    "\n",
    "print(template.format(time.ctime(), time.time(), time.clock()))\n",
    "\n",
    "for i in range(3,0,-1):\n",
    "    print('Sleeping', i)\n",
    "    time.sleep(i)\n",
    "    print(template.format(time.ctime(), time.time(), time.clock()))"
   ]
  },
  {
   "cell_type": "markdown",
   "metadata": {},
   "source": [
    "Calling sleep() yields control from the current thread and asks it to wait for the system to wake it back up. If a program has only one thread, this effectively blocks the app and it does no work."
   ]
  },
  {
   "cell_type": "markdown",
   "metadata": {},
   "source": [
    "## Performance Counter\n",
    "\n",
    "It is important to have a high-resolution monotonic clock for measuring performance. Determining the best clock data source requires platform-specific knowledge, which Python provides in perf_counter().\n",
    "\n",
    "As with monotonic(), the epoch for perf_counter() is undefined, and the values are meant to be used for comparing and computing values, not as absolute times."
   ]
  },
  {
   "cell_type": "code",
   "execution_count": 7,
   "metadata": {
    "collapsed": false
   },
   "outputs": [
    {
     "name": "stdout",
     "output_type": "stream",
     "text": [
      "Fri Mar 31 01:34:36 2017 : 1.3089 1.3091\n",
      "Fri Mar 31 01:34:38 2017 : 1.3356 2.6450\n",
      "Fri Mar 31 01:34:39 2017 : 1.2359 3.8813\n",
      "Fri Mar 31 01:34:40 2017 : 1.2252 5.1066\n",
      "Fri Mar 31 01:34:42 2017 : 1.4495 6.5564\n"
     ]
    }
   ],
   "source": [
    "# time_perf_counter.py\n",
    "\n",
    "import hashlib\n",
    "import time\n",
    "\n",
    "# Data to use to calculate md5 checksums\n",
    "data = open('example.txt','rb').read()\n",
    "\n",
    "loop_start = time.perf_counter()\n",
    "\n",
    "for i in range(5):\n",
    "    iter_start = time.perf_counter()\n",
    "    h = hashlib.sha1()\n",
    "    for i in range(3000000):\n",
    "        h.update(data)\n",
    "    chksum = h.digest()\n",
    "    now = time.perf_counter()\n",
    "    loop_elapsed = now - loop_start\n",
    "    iter_elapsed = now - iter_start\n",
    "    print(time.ctime(), ': {:0.4f} {:0.4f}'.format(iter_elapsed, loop_elapsed))"
   ]
  },
  {
   "cell_type": "markdown",
   "metadata": {},
   "source": [
    "## Time Components\n",
    "\n",
    "Storing times as elapsed seconds is useful in some situations, but there are times when a program needs to have access to the individual fields of a date (year, month, etc.). The time module defines struct_time for holding date and time values with components broken out so they are easy to access. There are several functions that work with struct_time values instead of floats.\n",
    "\n",
    "The gmtime() function returns the current time in UTC. localtime() returns the current time with the current time zone applied. mktime() takes a struct_time and converts it to the floating point representation."
   ]
  },
  {
   "cell_type": "code",
   "execution_count": 8,
   "metadata": {
    "collapsed": false
   },
   "outputs": [
    {
     "name": "stdout",
     "output_type": "stream",
     "text": [
      "gmtime:\n",
      "  tm_year : 2017\n",
      "  tm_mon  : 3\n",
      "  tm_mday : 31\n",
      "  tm_hour : 5\n",
      "  tm_min  : 34\n",
      "  tm_sec  : 42\n",
      "  tm_wday : 4\n",
      "  tm_yday : 90\n",
      "  tm_isdst: 0\n",
      "\n",
      "localtime:\n",
      "  tm_year : 2017\n",
      "  tm_mon  : 3\n",
      "  tm_mday : 31\n",
      "  tm_hour : 1\n",
      "  tm_min  : 34\n",
      "  tm_sec  : 42\n",
      "  tm_wday : 4\n",
      "  tm_yday : 90\n",
      "  tm_isdst: 1\n",
      "\n",
      "mktime     : 1490938482.0\n",
      "time.time(): 1490938482.148906\n"
     ]
    }
   ],
   "source": [
    "# time_struct.py\n",
    "\n",
    "import time\n",
    "\n",
    "def show_struct(s):\n",
    "    print('  tm_year :', s.tm_year)\n",
    "    print('  tm_mon  :', s.tm_mon)\n",
    "    print('  tm_mday :', s.tm_mday)\n",
    "    print('  tm_hour :', s.tm_hour)\n",
    "    print('  tm_min  :', s.tm_min)\n",
    "    print('  tm_sec  :', s.tm_sec)\n",
    "    print('  tm_wday :', s.tm_wday)\n",
    "    print('  tm_yday :', s.tm_yday)\n",
    "    print('  tm_isdst:', s.tm_isdst)\n",
    "    \n",
    "print('gmtime:')\n",
    "show_struct(time.gmtime())\n",
    "print('\\nlocaltime:')\n",
    "show_struct(time.localtime())\n",
    "print('\\nmktime     :', time.mktime(time.localtime()))\n",
    "print('time.time():', time.time())"
   ]
  },
  {
   "cell_type": "markdown",
   "metadata": {},
   "source": [
    "## Working with Time Zones\n",
    "\n",
    "The functions for determining the current time depend on having the time zone set, either by the program or by using a default time zone set for the system. Changing the time zone does not change the actual time, just the way it is represented.\n",
    "\n",
    "To change the time zone, set the environment variable TZ, then call tzset(). The time zone can be specified with a lot of detail, right down to the start and stop times for daylight savings time. It is usually easier to use the time zone name and let the underlying libraries derive the other information, though.\n",
    "\n",
    "This example program changes the time zone to a few different values and shows how the changes affect other settings in the time module.\n",
    "\n",
    "The default time zone on the system used to prepare the examples is US/Eastern. The other zones in the example change the tzname, daylight flag, and timezone offset value."
   ]
  },
  {
   "cell_type": "code",
   "execution_count": 9,
   "metadata": {
    "collapsed": false
   },
   "outputs": [
    {
     "name": "stdout",
     "output_type": "stream",
     "text": [
      "Default :\n",
      "  TZ    : (not set)\n",
      "  tzname: ('EST', 'EDT')\n",
      "  Zone  : 18000 (5.0)\n",
      "  DST   : 1\n",
      "  Time  : Fri Mar 31 01:34:42 2017\n",
      "\n",
      "GMT :\n",
      "  TZ    : GMT\n",
      "  tzname: ('GMT', 'GMT')\n",
      "  Zone  : 0 (0.0)\n",
      "  DST   : 0\n",
      "  Time  : Fri Mar 31 05:34:42 2017\n",
      "\n",
      "Europe/Amsterdam :\n",
      "  TZ    : Europe/Amsterdam\n",
      "  tzname: ('CET', 'CEST')\n",
      "  Zone  : -3600 (-1.0)\n",
      "  DST   : 1\n",
      "  Time  : Fri Mar 31 07:34:42 2017\n",
      "\n"
     ]
    }
   ],
   "source": [
    "# time_timezone.py\n",
    "import time\n",
    "import os\n",
    "\n",
    "\n",
    "def show_zone_info():\n",
    "    print('  TZ    :', os.environ.get('TZ', '(not set)'))\n",
    "    print('  tzname:', time.tzname)\n",
    "    print('  Zone  : {} ({})'.format(\n",
    "        time.timezone, (time.timezone / 3600)))\n",
    "    print('  DST   :', time.daylight)\n",
    "    print('  Time  :', time.ctime())\n",
    "    print()\n",
    "\n",
    "print('Default :')\n",
    "show_zone_info()\n",
    "\n",
    "ZONES = [\n",
    "    'GMT',\n",
    "    'Europe/Amsterdam',\n",
    "]\n",
    "\n",
    "for zone in ZONES:\n",
    "    os.environ['TZ'] = zone\n",
    "    time.tzset()\n",
    "    print(zone, ':')\n",
    "    show_zone_info()"
   ]
  },
  {
   "cell_type": "markdown",
   "metadata": {},
   "source": [
    "## Parsing and Formatting Times\n",
    "\n",
    "The two functions strptime() and strftime() convert between struct_time and string representations of time values. There is a long list of formatting instructions available to support input and output in different styles. The complete list is documented in the library documentation for the time module.\n",
    "\n",
    "This example converts the current time from a string to a struct_time instance and back to a string.\n",
    "\n",
    "The output string is not exactly like the input, since the day of the month is prefixed with a zero."
   ]
  },
  {
   "cell_type": "code",
   "execution_count": 10,
   "metadata": {
    "collapsed": false
   },
   "outputs": [
    {
     "name": "stdout",
     "output_type": "stream",
     "text": [
      "Now: Mon Jan  2 22:17:27 2017\n",
      "\n",
      "parsed :  time.struct_time(tm_year=2017, tm_mon=1, tm_mday=2, tm_hour=22, tm_min=17, tm_sec=27, tm_wday=0, tm_yday=2, tm_isdst=-1)\n",
      "\n",
      "Parsed:\n",
      "  tm_year : 2017\n",
      "  tm_mon  : 1\n",
      "  tm_mday : 2\n",
      "  tm_hour : 22\n",
      "  tm_min  : 17\n",
      "  tm_sec  : 27\n",
      "  tm_wday : 0\n",
      "  tm_yday : 2\n",
      "  tm_isdst: -1\n",
      "\n",
      "Formatted: Mon Jan 02 22:17:27 2017\n"
     ]
    }
   ],
   "source": [
    "# time_strptime.py\n",
    "import time\n",
    "\n",
    "\n",
    "def show_struct(s):\n",
    "    print('  tm_year :', s.tm_year)\n",
    "    print('  tm_mon  :', s.tm_mon)\n",
    "    print('  tm_mday :', s.tm_mday)\n",
    "    print('  tm_hour :', s.tm_hour)\n",
    "    print('  tm_min  :', s.tm_min)\n",
    "    print('  tm_sec  :', s.tm_sec)\n",
    "    print('  tm_wday :', s.tm_wday)\n",
    "    print('  tm_yday :', s.tm_yday)\n",
    "    print('  tm_isdst:', s.tm_isdst)\n",
    "\n",
    "now = time.ctime(1483391847.433716)\n",
    "print('Now:', now)\n",
    "\n",
    "parsed = time.strptime(now)\n",
    "print('\\nparsed : ', parsed)\n",
    "print('\\nParsed:')\n",
    "show_struct(parsed)\n",
    "\n",
    "print('\\nFormatted:',\n",
    "      time.strftime(\"%a %b %d %H:%M:%S %Y\", parsed))"
   ]
  }
 ],
 "metadata": {
  "kernelspec": {
   "display_name": "Python 3",
   "language": "python",
   "name": "python3"
  },
  "language_info": {
   "codemirror_mode": {
    "name": "ipython",
    "version": 3
   },
   "file_extension": ".py",
   "mimetype": "text/x-python",
   "name": "python",
   "nbconvert_exporter": "python",
   "pygments_lexer": "ipython3",
   "version": "3.5.2"
  }
 },
 "nbformat": 4,
 "nbformat_minor": 2
}
